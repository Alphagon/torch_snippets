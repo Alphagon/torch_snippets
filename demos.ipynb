{
 "cells": [
  {
   "cell_type": "code",
   "execution_count": 1,
   "metadata": {
    "ExecuteTime": {
     "end_time": "2020-05-03T14:34:14.980268Z",
     "start_time": "2020-05-03T14:34:14.558882Z"
    }
   },
   "outputs": [],
   "source": [
    "from torch_snippets import *\n",
    "from torchvision import datasets\n",
    "data_folder = '/home/yyr/data/FMNIST/' # This can be any directory you want to download FMNIST to\n"
   ]
  },
  {
   "cell_type": "code",
   "execution_count": 2,
   "metadata": {
    "ExecuteTime": {
     "end_time": "2020-05-03T14:34:15.002932Z",
     "start_time": "2020-05-03T14:34:14.981480Z"
    }
   },
   "outputs": [],
   "source": [
    "tr_fmnist = datasets.FashionMNIST(data_folder, download=True, train=True)\n",
    "tr_images = tr_fmnist.data\n",
    "tr_targets = tr_fmnist.targets\n",
    "\n",
    "val_fmnist = datasets.FashionMNIST(data_folder, download=True, train=False)\n",
    "val_images = val_fmnist.data\n",
    "val_targets = val_fmnist.targets"
   ]
  },
  {
   "cell_type": "code",
   "execution_count": 3,
   "metadata": {
    "ExecuteTime": {
     "end_time": "2020-05-03T14:34:15.014965Z",
     "start_time": "2020-05-03T14:34:15.004631Z"
    }
   },
   "outputs": [
    {
     "name": "stdout",
     "output_type": "stream",
     "text": [
      "cuda\n"
     ]
    }
   ],
   "source": [
    "device = 'cuda' if torch.cuda.is_available() else 'cpu'\n",
    "print(device)"
   ]
  },
  {
   "cell_type": "code",
   "execution_count": 14,
   "metadata": {
    "ExecuteTime": {
     "end_time": "2020-05-03T17:03:10.460935Z",
     "start_time": "2020-05-03T17:03:10.446687Z"
    },
    "code_folding": [
     1,
     20,
     43,
     50,
     56
    ]
   },
   "outputs": [],
   "source": [
    "from imgaug import augmenters as iaa\n",
    "aug = iaa.Sequential([\n",
    "              iaa.Affine(translate_px={'x':(-10,10)}, mode='constant'),\n",
    "            ])\n",
    "class FMNISTDataset(Dataset):\n",
    "    def __init__(self, x, y, aug=None):\n",
    "        self.x, self.y = x.cpu().numpy(), y\n",
    "        self.aug = aug\n",
    "    def __getitem__(self, ix):\n",
    "        x, y = self.x[ix], self.y[ix]\n",
    "        # if self.aug: x = self.aug.augment_image(x)\n",
    "        return x, y\n",
    "    def __len__(self): return len(self.x)\n",
    "    def collate_fn(self, batch):\n",
    "        ims, classes = list(zip(*batch))\n",
    "        if self.aug: ims = self.aug(images=ims) # transform a batch of images at once\n",
    "        ims = torch.tensor(ims)[:,None,:,:].to(device)/255.\n",
    "        classes = torch.tensor(classes).to(device)\n",
    "        return ims, classes\n",
    "\n",
    "from torch.optim import SGD, Adam\n",
    "def get_model():\n",
    "    model = nn.Sequential(\n",
    "        nn.Conv2d(1, 64, kernel_size=3),\n",
    "        nn.MaxPool2d(2),\n",
    "        nn.ReLU(),\n",
    "        nn.Conv2d(64, 128, kernel_size=3),\n",
    "        nn.MaxPool2d(2),\n",
    "        nn.ReLU(),\n",
    "        nn.Flatten(),\n",
    "        nn.Linear(3200, 256),\n",
    "        nn.ReLU(),\n",
    "        nn.Linear(256, 10)\n",
    "    ).to(device)\n",
    "\n",
    "    loss_fn = nn.CrossEntropyLoss()\n",
    "    optimizer = Adam(model.parameters(), lr=1e-3)\n",
    "    return model, loss_fn, optimizer\n",
    "def get_data():\n",
    "    train = FMNISTDataset(tr_images, tr_targets, aug=aug)     \n",
    "    trn_dl = DataLoader(train, batch_size=2048, collate_fn=train.collate_fn, shuffle=True)\n",
    "    val = FMNISTDataset(val_images, val_targets)     \n",
    "    val_dl = DataLoader(val, batch_size=len(val_images)//5, collate_fn=val.collate_fn, shuffle=True)\n",
    "    return trn_dl, val_dl\n",
    "def train_batch(x, y, model, opt, loss_fn):\n",
    "    prediction = model(x)\n",
    "    batch_loss = loss_fn(prediction, y)\n",
    "    batch_loss.backward()\n",
    "    optimizer.step()\n",
    "    optimizer.zero_grad()\n",
    "    return batch_loss.item()\n",
    "def accuracy(x, y, model):\n",
    "    with torch.no_grad():\n",
    "        prediction = model(x)\n",
    "    max_values, argmaxes = prediction.max(-1)\n",
    "    is_correct = argmaxes == y\n",
    "    return is_correct.cpu().numpy().tolist()\n",
    "def val_loss(x, y, model):\n",
    "    with torch.no_grad():\n",
    "        prediction = model(x)\n",
    "    val_loss = loss_fn(prediction, y)\n",
    "    return val_loss.item()"
   ]
  },
  {
   "cell_type": "code",
   "execution_count": 15,
   "metadata": {
    "ExecuteTime": {
     "end_time": "2020-05-03T17:03:10.719501Z",
     "start_time": "2020-05-03T17:03:10.694680Z"
    }
   },
   "outputs": [],
   "source": [
    "trn_dl, val_dl = get_data()\n",
    "model, loss_fn, optimizer = get_model()"
   ]
  },
  {
   "cell_type": "code",
   "execution_count": 16,
   "metadata": {
    "ExecuteTime": {
     "end_time": "2020-05-03T17:06:29.507284Z",
     "start_time": "2020-05-03T17:03:11.349109Z"
    },
    "code_folding": []
   },
   "outputs": [
    {
     "name": "stdout",
     "output_type": "stream",
     "text": [
      "EPOCH: 1.000\ttrain_loss: 1.453\ttrain_acc: 0.642\tval_loss: 1.031\tval_acc: 0.663\t(39.87s - 159.49s remaining)\n",
      "EPOCH: 2.000\ttrain_loss: 0.914\ttrain_acc: 0.717\tval_loss: 0.836\tval_acc: 0.717\t(79.67s - 119.50s remaining)\n",
      "EPOCH: 3.000\ttrain_loss: 0.758\ttrain_acc: 0.736\tval_loss: 0.764\tval_acc: 0.737\t(119.51s - 79.68s remaining)\n",
      "EPOCH: 4.000\ttrain_loss: 0.690\ttrain_acc: 0.767\tval_loss: 0.717\tval_acc: 0.761\t(159.09s - 39.77s remaining)\n",
      "EPOCH: 5.000\ttrain_loss: 0.644\ttrain_acc: 0.779\tval_loss: 0.606\tval_acc: 0.768\t(198.14s - 0.00s remaining)\n"
     ]
    }
   ],
   "source": [
    "n_epochs = 5\n",
    "log = Report(n_epochs)\n",
    "\n",
    "for epoch in range(n_epochs):\n",
    "    train_epoch_losses, train_epoch_accuracies = [], []\n",
    "    N = len(trn_dl)\n",
    "    for ix, batch in enumerate(iter(trn_dl)):\n",
    "        x, y = batch\n",
    "        batch_loss = train_batch(x, y, model, optimizer, loss_fn)\n",
    "        pos = (epoch + (ix+1)/N)\n",
    "        log.record(pos=pos, train_loss=batch_loss, end='\\r') # impersistent data    \n",
    "\n",
    "    for ix, batch in enumerate(iter(trn_dl)):\n",
    "        x, y = batch\n",
    "        is_correct = accuracy(x, y, model)\n",
    "        pos = (epoch + (ix+1)/N)\n",
    "        log.record(pos=pos, train_acc=np.mean(is_correct), end='\\r') # impersistent data\n",
    "\n",
    "    N = len(val_dl)\n",
    "    for ix, batch in enumerate(iter(val_dl)):\n",
    "        x, y = batch\n",
    "        val_is_correct = accuracy(x, y, model)\n",
    "        validation_loss = val_loss(x, y, model)\n",
    "        pos = (epoch + (ix+1)/N)\n",
    "        log.record(pos=pos, val_loss=batch_loss, val_acc=np.mean(val_is_correct), end='\\r') # impersistent data\n",
    "    log.report_avgs(epoch+1) # persist"
   ]
  },
  {
   "cell_type": "code",
   "execution_count": 17,
   "metadata": {
    "ExecuteTime": {
     "end_time": "2020-05-03T17:06:29.627012Z",
     "start_time": "2020-05-03T17:06:29.508456Z"
    }
   },
   "outputs": [
    {
     "data": {
      "image/png": "[encoded data removed]",
      "text/plain": [
       "<Figure size 432x288 with 1 Axes>"
      ]
     },
     "metadata": {
      "needs_background": "light"
     },
     "output_type": "display_data"
    }
   ],
   "source": [
    "log.plot(['val_acc','train_acc'])\n",
    "log.plot(['val_loss','train_loss'])"
   ]
  },
  {
   "cell_type": "code",
   "execution_count": null,
   "metadata": {},
   "outputs": [],
   "source": []
  }
 ],
 "metadata": {
  "hide_input": false,
  "kernelspec": {
   "display_name": "Python 3",
   "language": "python",
   "name": "python3"
  },
  "language_info": {
   "codemirror_mode": {
    "name": "ipython",
    "version": 3
   },
   "file_extension": ".py",
   "mimetype": "text/x-python",
   "name": "python",
   "nbconvert_exporter": "python",
   "pygments_lexer": "ipython3",
   "version": "3.7.4"
  }
 },
 "nbformat": 4,
 "nbformat_minor": 2
}
