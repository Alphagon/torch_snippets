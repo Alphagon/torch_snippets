{
 "cells": [
  {
   "cell_type": "code",
   "execution_count": 1,
   "metadata": {
    "ExecuteTime": {
     "end_time": "2020-05-03T17:17:27.318141Z",
     "start_time": "2020-05-03T17:17:26.883295Z"
    }
   },
   "outputs": [],
   "source": [
    "from torch_snippets import *\n",
    "from torchvision import datasets\n",
    "data_folder = '/home/yyr/data/FMNIST/' # This can be any directory you want to download FMNIST to\n"
   ]
  },
  {
   "cell_type": "code",
   "execution_count": 2,
   "metadata": {
    "ExecuteTime": {
     "end_time": "2020-05-03T17:17:27.341785Z",
     "start_time": "2020-05-03T17:17:27.319357Z"
    }
   },
   "outputs": [],
   "source": [
    "tr_fmnist = datasets.FashionMNIST(data_folder, download=True, train=True)\n",
    "N = 10000\n",
    "tr_images = tr_fmnist.data[:N]\n",
    "tr_targets = tr_fmnist.targets[:N]\n",
    "\n",
    "val_fmnist = datasets.FashionMNIST(data_folder, download=True, train=False)\n",
    "val_images = val_fmnist.data[:N]\n",
    "val_targets = val_fmnist.targets[:N]"
   ]
  },
  {
   "cell_type": "code",
   "execution_count": 3,
   "metadata": {
    "ExecuteTime": {
     "end_time": "2020-05-03T17:17:27.359511Z",
     "start_time": "2020-05-03T17:17:27.343057Z"
    }
   },
   "outputs": [
    {
     "name": "stdout",
     "output_type": "stream",
     "text": [
      "cuda\n"
     ]
    }
   ],
   "source": [
    "device = 'cuda' if torch.cuda.is_available() else 'cpu'\n",
    "print(device)"
   ]
  },
  {
   "cell_type": "code",
   "execution_count": 4,
   "metadata": {
    "ExecuteTime": {
     "end_time": "2020-05-03T17:17:27.682884Z",
     "start_time": "2020-05-03T17:17:27.360640Z"
    },
    "code_folding": [
     1,
     20,
     43,
     50,
     56
    ]
   },
   "outputs": [],
   "source": [
    "from imgaug import augmenters as iaa\n",
    "aug = iaa.Sequential([\n",
    "              iaa.Affine(translate_px={'x':(-10,10)}, mode='constant'),\n",
    "            ])\n",
    "class FMNISTDataset(Dataset):\n",
    "    def __init__(self, x, y, aug=None):\n",
    "        self.x, self.y = x.cpu().numpy(), y\n",
    "        self.aug = aug\n",
    "    def __getitem__(self, ix):\n",
    "        x, y = self.x[ix], self.y[ix]\n",
    "        # if self.aug: x = self.aug.augment_image(x)\n",
    "        return x, y\n",
    "    def __len__(self): return len(self.x)\n",
    "    def collate_fn(self, batch):\n",
    "        ims, classes = list(zip(*batch))\n",
    "        if self.aug: ims = self.aug(images=ims) # transform a batch of images at once\n",
    "        ims = torch.tensor(ims)[:,None,:,:].to(device)/255.\n",
    "        classes = torch.tensor(classes).to(device)\n",
    "        return ims, classes\n",
    "\n",
    "from torch.optim import SGD, Adam\n",
    "def get_model():\n",
    "    model = nn.Sequential(\n",
    "        nn.Conv2d(1, 64, kernel_size=3),\n",
    "        nn.MaxPool2d(2),\n",
    "        nn.ReLU(),\n",
    "        nn.Conv2d(64, 128, kernel_size=3),\n",
    "        nn.MaxPool2d(2),\n",
    "        nn.ReLU(),\n",
    "        nn.Flatten(),\n",
    "        nn.Linear(3200, 256),\n",
    "        nn.ReLU(),\n",
    "        nn.Linear(256, 10)\n",
    "    ).to(device)\n",
    "\n",
    "    loss_fn = nn.CrossEntropyLoss()\n",
    "    optimizer = Adam(model.parameters(), lr=1e-3)\n",
    "    return model, loss_fn, optimizer\n",
    "def get_data():\n",
    "    train = FMNISTDataset(tr_images, tr_targets, aug=aug)     \n",
    "    trn_dl = DataLoader(train, batch_size=2048, collate_fn=train.collate_fn, shuffle=True)\n",
    "    val = FMNISTDataset(val_images, val_targets)     \n",
    "    val_dl = DataLoader(val, batch_size=len(val_images)//5, collate_fn=val.collate_fn, shuffle=True)\n",
    "    return trn_dl, val_dl\n",
    "def train_batch(x, y, model, opt, loss_fn):\n",
    "    prediction = model(x)\n",
    "    batch_loss = loss_fn(prediction, y)\n",
    "    batch_loss.backward()\n",
    "    optimizer.step()\n",
    "    optimizer.zero_grad()\n",
    "    return batch_loss.item()\n",
    "def accuracy(x, y, model):\n",
    "    with torch.no_grad():\n",
    "        prediction = model(x)\n",
    "    max_values, argmaxes = prediction.max(-1)\n",
    "    is_correct = argmaxes == y\n",
    "    return is_correct.cpu().numpy().tolist()\n",
    "def val_loss(x, y, model):\n",
    "    with torch.no_grad():\n",
    "        prediction = model(x)\n",
    "    val_loss = loss_fn(prediction, y)\n",
    "    return val_loss.item()"
   ]
  },
  {
   "cell_type": "code",
   "execution_count": 5,
   "metadata": {
    "ExecuteTime": {
     "end_time": "2020-05-03T17:17:29.174268Z",
     "start_time": "2020-05-03T17:17:27.684282Z"
    }
   },
   "outputs": [],
   "source": [
    "trn_dl, val_dl = get_data()\n",
    "model, loss_fn, optimizer = get_model()"
   ]
  },
  {
   "cell_type": "code",
   "execution_count": 6,
   "metadata": {
    "ExecuteTime": {
     "end_time": "2020-05-03T17:18:05.478324Z",
     "start_time": "2020-05-03T17:17:29.175320Z"
    },
    "code_folding": []
   },
   "outputs": [
    {
     "name": "stdout",
     "output_type": "stream",
     "text": [
      "EPOCH: 1.000\ttrain_loss: 2.202\ttrain_acc: 0.378\tval_loss: 1.910\tval_acc: 0.426\t(7.30s - 29.21s remaining)\n",
      "EPOCH: 2.000\ttrain_loss: 1.665\ttrain_acc: 0.470\tval_loss: 1.565\tval_acc: 0.536\t(14.56s - 21.84s remaining)\n",
      "EPOCH: 3.000\ttrain_loss: 1.384\ttrain_acc: 0.544\tval_loss: 1.326\tval_acc: 0.581\t(21.83s - 14.55s remaining)\n",
      "EPOCH: 4.000\ttrain_loss: 1.210\ttrain_acc: 0.602\tval_loss: 1.222\tval_acc: 0.624\t(29.02s - 7.26s remaining)\n",
      "EPOCH: 5.000\ttrain_loss: 1.115\ttrain_acc: 0.635\tval_loss: 1.087\tval_acc: 0.656\t(36.30s - 0.00s remaining)\n"
     ]
    }
   ],
   "source": [
    "n_epochs = 5\n",
    "log = Report(n_epochs)\n",
    "\n",
    "for epoch in range(n_epochs):\n",
    "    train_epoch_losses, train_epoch_accuracies = [], []\n",
    "    N = len(trn_dl)\n",
    "    for ix, batch in enumerate(iter(trn_dl)):\n",
    "        x, y = batch\n",
    "        batch_loss = train_batch(x, y, model, optimizer, loss_fn)\n",
    "        pos = (epoch + (ix+1)/N)\n",
    "        log.record(pos=pos, train_loss=batch_loss, end='\\r') # impersistent data    \n",
    "\n",
    "    for ix, batch in enumerate(iter(trn_dl)):\n",
    "        x, y = batch\n",
    "        is_correct = accuracy(x, y, model)\n",
    "        pos = (epoch + (ix+1)/N)\n",
    "        log.record(pos=pos, train_acc=np.mean(is_correct), end='\\r') # impersistent data\n",
    "\n",
    "    N = len(val_dl)\n",
    "    for ix, batch in enumerate(iter(val_dl)):\n",
    "        x, y = batch\n",
    "        val_is_correct = accuracy(x, y, model)\n",
    "        validation_loss = val_loss(x, y, model)\n",
    "        pos = (epoch + (ix+1)/N)\n",
    "        log.record(pos=pos, val_loss=batch_loss, val_acc=np.mean(val_is_correct), end='\\r') # impersistent data\n",
    "    log.report_avgs(epoch+1) # persist"
   ]
  },
  {
   "cell_type": "code",
   "execution_count": 7,
   "metadata": {
    "ExecuteTime": {
     "end_time": "2020-05-03T17:18:05.696555Z",
     "start_time": "2020-05-03T17:18:05.479376Z"
    }
   },
   "outputs": [
    {
     "data": {
      "image/png": "[encoded data removed]",
      "text/plain": [
       "<Figure size 432x288 with 1 Axes>"
      ]
     },
     "metadata": {
      "needs_background": "light"
     },
     "output_type": "display_data"
    },
    {
     "data": {
      "image/png": "[encoded data removed]",
      "text/plain": [
       "<Figure size 432x288 with 1 Axes>"
      ]
     },
     "metadata": {
      "needs_background": "light"
     },
     "output_type": "display_data"
    }
   ],
   "source": [
    "log.plot(['val_acc','train_acc'])\n",
    "log.plot(['val_loss','train_loss'])"
   ]
  },
  {
   "cell_type": "code",
   "execution_count": null,
   "metadata": {},
   "outputs": [],
   "source": []
  }
 ],
 "metadata": {
  "hide_input": false,
  "kernelspec": {
   "display_name": "Python 3",
   "language": "python",
   "name": "python3"
  },
  "language_info": {
   "codemirror_mode": {
    "name": "ipython",
    "version": 3
   },
   "file_extension": ".py",
   "mimetype": "text/x-python",
   "name": "python",
   "nbconvert_exporter": "python",
   "pygments_lexer": "ipython3",
   "version": "3.7.4"
  }
 },
 "nbformat": 4,
 "nbformat_minor": 2
}
