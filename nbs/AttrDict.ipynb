{
 "cells": [
  {
   "cell_type": "code",
   "execution_count": 1,
   "id": "744a2942-0c6a-4295-920f-15e388fb1b42",
   "metadata": {},
   "outputs": [],
   "source": [
    "%reload_ext autoreload\n",
    "%autoreload 2                             \n",
    "from torch_snippets import AD"
   ]
  },
  {
   "cell_type": "markdown",
   "id": "52d909db-d7bc-4a63-a6f9-db9dde01dc2e",
   "metadata": {},
   "source": [
    "# AttrDict / AD\n",
    "\n",
    "AD is my attempt at creating, modifying, serializing and deserializing dynamic namespaces using standard python dictinoary"
   ]
  },
  {
   "cell_type": "markdown",
   "id": "efb59610-8944-410c-817d-a486ddeaeaec",
   "metadata": {},
   "source": [
    "## Basic Invocations"
   ]
  },
  {
   "cell_type": "markdown",
   "id": "4d38f494-88d6-45c9-a354-a48f30279b4a",
   "metadata": {},
   "source": [
    "### Just replace `dict` with `AD`\n",
    "AD is simply a dictionary, so you can create one in the same way you would create any dictionary."
   ]
  },
  {
   "cell_type": "code",
   "execution_count": 2,
   "id": "0155f0e7-ec2a-423e-b981-047962fed61e",
   "metadata": {},
   "outputs": [
    {
     "name": "stdout",
     "output_type": "stream",
     "text": [
      "\n",
      "```↯ AttrDict ↯\n",
      "x - 1 (🏷️ str)\n",
      "y - 2.0 (🏷️ float)\n",
      "z - (3+5j) (🏷️ complex)\n",
      "k\n",
      "  l\n",
      "    you - can (🏷️ str)\n",
      "    nest - dictionaries (🏷️ str)\n",
      "  m - 2 (🏷️ int)\n",
      "  n - 3 (🏷️ int)\n",
      "\n",
      "```\n",
      "\n"
     ]
    }
   ],
   "source": [
    "ad = AD(x='1', y=2.0, z=3+5j, k=AD(l={'you':'can','nest':'dictionaries'}, m=2, n=3))\n",
    "print(ad)"
   ]
  },
  {
   "cell_type": "markdown",
   "id": "69d844b8-1548-4932-a421-aa75b2adb242",
   "metadata": {},
   "source": [
    "### AD supports args \n",
    "**AD(x,y,z) == AD(x=x, y=y, z=z)**  \n",
    "If you want to create a dictionary from variables, there's a good chance that the key you'd want to assign to that variable is the same as your variable name. AttrDict introspects the args intelligently (<u>thanks to icecream module</u>) and assigns the variable itself as the key name"
   ]
  },
  {
   "cell_type": "code",
   "execution_count": 3,
   "id": "e719712e-3e83-453e-8210-da521e5c04fc",
   "metadata": {},
   "outputs": [
    {
     "name": "stdout",
     "output_type": "stream",
     "text": [
      "\n",
      "```↯ AttrDict ↯\n",
      "x - 1 (🏷️ str)\n",
      "y - 2.0 (🏷️ float)\n",
      "z - (3+5j) (🏷️ complex)\n",
      "k\n",
      "  l\n",
      "    y\n",
      "      c\n",
      "        n - d (🏷️ str)\n",
      "        greet - hello (🏷️ str)\n",
      "        o[]\n",
      "          0 - 1 (🏷️ int)\n",
      "          1 - 2 (🏷️ int)\n",
      "          2 - 3 (🏷️ int)\n",
      "          3\n",
      "            m\n",
      "              n[]\n",
      "                0 - 4 (🏷️ int)\n",
      "                1 - 5 (🏷️ int)\n",
      "                2 - 6 (🏷️ int)\n",
      "  m - 2 (🏷️ int)\n",
      "  n - 3 (🏷️ int)\n",
      "\n",
      "```\n",
      "\n"
     ]
    }
   ],
   "source": [
    "x,y,z='1',2.0,3+5j\n",
    "l,m,n={'y':{'c':{'n':'d','greet':'hello','o':[1,2,3,{'m':{'n':[4,5,6]}}]}}},2,3\n",
    "k = AD(l,m,n)\n",
    "ad = AD(x,y,z,k)\n",
    "print(ad)"
   ]
  },
  {
   "cell_type": "markdown",
   "id": "78f7128b-1257-443e-b27c-153090bdfbf6",
   "metadata": {},
   "source": [
    "Don't worry if you want to control the key names, you can still give your own kwargs, or even mix it up with both args and kwargs"
   ]
  },
  {
   "cell_type": "code",
   "execution_count": 4,
   "id": "087c15f8-70b6-4c62-9007-f3fc962d5ab8",
   "metadata": {},
   "outputs": [
    {
     "name": "stdout",
     "output_type": "stream",
     "text": [
      "\n",
      "```↯ AttrDict ↯\n",
      "x - 1 (🏷️ str)\n",
      "y - 2.0 (🏷️ float)\n",
      "zed - (3+5j) (🏷️ complex)\n",
      "kay\n",
      "  l\n",
      "    y\n",
      "      c\n",
      "        n - d (🏷️ str)\n",
      "        greet - hello (🏷️ str)\n",
      "        o[]\n",
      "          0 - 1 (🏷️ int)\n",
      "          1 - 2 (🏷️ int)\n",
      "          2 - 3 (🏷️ int)\n",
      "          3\n",
      "            m\n",
      "              n[]\n",
      "                0 - 4 (🏷️ int)\n",
      "                1 - 5 (🏷️ int)\n",
      "                2 - 6 (🏷️ int)\n",
      "  m - 2 (🏷️ int)\n",
      "  n - 3 (🏷️ int)\n",
      "\n",
      "```\n",
      "\n"
     ]
    }
   ],
   "source": [
    "k = AD(l,m,n)\n",
    "ad = AD(x,y,zed=z,kay=k)\n",
    "print(ad)"
   ]
  },
  {
   "cell_type": "markdown",
   "id": "c83eba24-6b44-4128-b4a2-34284b57463a",
   "metadata": {},
   "source": [
    "## Methods"
   ]
  },
  {
   "cell_type": "markdown",
   "id": "701a09a1-7271-4aa4-a885-ff6a54605f95",
   "metadata": {},
   "source": [
    "Since AD is an extension of a dictionary, all the dictionary methods such as `.keys()`, `.values()`, `.items()` work exactly as expected"
   ]
  },
  {
   "cell_type": "markdown",
   "id": "fe3997ca-28b0-47ee-b384-35fed42a4737",
   "metadata": {},
   "source": [
    "### `.keys`"
   ]
  },
  {
   "cell_type": "code",
   "execution_count": 5,
   "id": "f9683941-11e9-42b4-ba83-9e5222b6c12a",
   "metadata": {},
   "outputs": [
    {
     "data": {
      "text/plain": [
       "dict_keys(['x', 'y', 'zed', 'kay'])"
      ]
     },
     "execution_count": 5,
     "metadata": {},
     "output_type": "execute_result"
    }
   ],
   "source": [
    "ad.keys()"
   ]
  },
  {
   "cell_type": "markdown",
   "id": "eea7e43d-436a-4583-b29c-09bd2a7dad75",
   "metadata": {},
   "source": [
    "### `.values`"
   ]
  },
  {
   "cell_type": "code",
   "execution_count": 6,
   "id": "8b68bacc-9f53-4f2a-91d2-a98c31dc9598",
   "metadata": {},
   "outputs": [
    {
     "data": {
      "text/plain": [
       "dict_values(['1', 2.0, (3+5j), \n",
       "```↯ AttrDict ↯\n",
       "l\n",
       "  y\n",
       "    c\n",
       "      n - d (🏷️ str)\n",
       "      greet - hello (🏷️ str)\n",
       "      o[]\n",
       "        0 - 1 (🏷️ int)\n",
       "        1 - 2 (🏷️ int)\n",
       "        2 - 3 (🏷️ int)\n",
       "        3\n",
       "          m\n",
       "            n[]\n",
       "              0 - 4 (🏷️ int)\n",
       "              1 - 5 (🏷️ int)\n",
       "              2 - 6 (🏷️ int)\n",
       "m - 2 (🏷️ int)\n",
       "n - 3 (🏷️ int)\n",
       "\n",
       "```\n",
       "])"
      ]
     },
     "execution_count": 6,
     "metadata": {},
     "output_type": "execute_result"
    }
   ],
   "source": [
    "ad.values()"
   ]
  },
  {
   "cell_type": "markdown",
   "id": "cede44cf-c19b-4d3e-a30e-ed633acfdae6",
   "metadata": {},
   "source": [
    "### `.items`"
   ]
  },
  {
   "cell_type": "code",
   "execution_count": 7,
   "id": "0137a618-b152-4b65-9101-98927a9a07b6",
   "metadata": {},
   "outputs": [
    {
     "data": {
      "text/plain": [
       "dict_items([('x', '1'), ('y', 2.0), ('zed', (3+5j)), ('kay', \n",
       "```↯ AttrDict ↯\n",
       "l\n",
       "  y\n",
       "    c\n",
       "      n - d (🏷️ str)\n",
       "      greet - hello (🏷️ str)\n",
       "      o[]\n",
       "        0 - 1 (🏷️ int)\n",
       "        1 - 2 (🏷️ int)\n",
       "        2 - 3 (🏷️ int)\n",
       "        3\n",
       "          m\n",
       "            n[]\n",
       "              0 - 4 (🏷️ int)\n",
       "              1 - 5 (🏷️ int)\n",
       "              2 - 6 (🏷️ int)\n",
       "m - 2 (🏷️ int)\n",
       "n - 3 (🏷️ int)\n",
       "\n",
       "```\n",
       ")])"
      ]
     },
     "execution_count": 7,
     "metadata": {},
     "output_type": "execute_result"
    }
   ],
   "source": [
    "ad.items()"
   ]
  },
  {
   "cell_type": "markdown",
   "id": "48ff414d-ee5b-4670-a419-057f15f2fdc9",
   "metadata": {},
   "source": [
    "### Use `.dict` to Create a Vanilla Dict"
   ]
  },
  {
   "cell_type": "code",
   "execution_count": 8,
   "id": "b0578c63-8004-4031-9f8e-a15639e39ea8",
   "metadata": {},
   "outputs": [
    {
     "data": {
      "text/plain": [
       "{'x': '1',\n",
       " 'y': 2.0,\n",
       " 'zed': (3+5j),\n",
       " 'kay': {'l': {'y': {'c': {'n': 'd',\n",
       "     'greet': 'hello',\n",
       "     'o': [1, 2, 3, {'m': {'n': [4, 5, 6]}}]}}},\n",
       "  'm': 2,\n",
       "  'n': 3}}"
      ]
     },
     "execution_count": 8,
     "metadata": {},
     "output_type": "execute_result"
    }
   ],
   "source": [
    "d = ad.dict()\n",
    "d"
   ]
  },
  {
   "cell_type": "markdown",
   "id": "d5d4ee7a-e4ed-4160-83d9-80306a60ee8e",
   "metadata": {},
   "source": [
    "### `AD` From Vanilla Dict (Another Basic Invocation)"
   ]
  },
  {
   "cell_type": "code",
   "execution_count": 9,
   "id": "23984488-1b71-407f-8cb6-5703326b69bd",
   "metadata": {},
   "outputs": [
    {
     "data": {
      "text/plain": [
       "\n",
       "```↯ AttrDict ↯\n",
       "x - 1 (🏷️ str)\n",
       "y - 2.0 (🏷️ float)\n",
       "zed - (3+5j) (🏷️ complex)\n",
       "kay\n",
       "  l\n",
       "    y\n",
       "      c\n",
       "        n - d (🏷️ str)\n",
       "        greet - hello (🏷️ str)\n",
       "        o[]\n",
       "          0 - 1 (🏷️ int)\n",
       "          1 - 2 (🏷️ int)\n",
       "          2 - 3 (🏷️ int)\n",
       "          3\n",
       "            m\n",
       "              n[]\n",
       "                0 - 4 (🏷️ int)\n",
       "                1 - 5 (🏷️ int)\n",
       "                2 - 6 (🏷️ int)\n",
       "  m - 2 (🏷️ int)\n",
       "  n - 3 (🏷️ int)\n",
       "\n",
       "```"
      ]
     },
     "execution_count": 9,
     "metadata": {},
     "output_type": "execute_result"
    }
   ],
   "source": [
    "ad = AD(d)\n",
    "ad"
   ]
  },
  {
   "cell_type": "markdown",
   "id": "5b7815ac-45ba-463a-8214-d443789b6469",
   "metadata": {},
   "source": [
    "### `.` Accessing a key\n",
    "As the name of the class suggests, keys can be accessed as if they are attributes"
   ]
  },
  {
   "cell_type": "code",
   "execution_count": 10,
   "id": "b486216f-c3da-48cc-8c72-861660a9d530",
   "metadata": {},
   "outputs": [],
   "source": [
    "assert ad.x == d['x']\n",
    "assert ad.kay.l.y.c.n == d['kay']['l']['y']['c']['n']\n",
    "assert ad.kay.l.y.c.o[3].m.n == d['kay']['l']['y']['c']['o'][3]['m']['n']"
   ]
  },
  {
   "cell_type": "markdown",
   "id": "06b7b349-db57-43c5-8b3c-28bc943859fa",
   "metadata": {},
   "source": [
    "### `in` Searching for keys"
   ]
  },
  {
   "cell_type": "markdown",
   "id": "13e2fe96-e3ff-4952-af29-72272ebf1c75",
   "metadata": {},
   "source": [
    "Highlevel keys are anyway accessable just like, in a normal dictionary"
   ]
  },
  {
   "cell_type": "code",
   "execution_count": 11,
   "id": "1bc8a17d-b3d0-4a24-a73e-6c77a5bc97b2",
   "metadata": {},
   "outputs": [],
   "source": [
    "assert 'zed' in ad"
   ]
  },
  {
   "cell_type": "markdown",
   "id": "8c2a7fba-6e09-4b5d-bbd9-3b6c91fbaa68",
   "metadata": {},
   "source": [
    "you can check for presence/absence of nested keys by joining them with a '.'"
   ]
  },
  {
   "cell_type": "code",
   "execution_count": 12,
   "id": "c93cf93b-e7aa-4e0f-b4e9-41a074fb5497",
   "metadata": {},
   "outputs": [],
   "source": [
    "assert 'kay.l.y.c.n' in ad"
   ]
  },
  {
   "cell_type": "markdown",
   "id": "d685a4d2-434c-4e01-94c5-d877d96322c1",
   "metadata": {},
   "source": [
    "### `.find_address` Find if a key exists and return where it is, i.e., the address of the key\n",
    "The method always returns a list of addresses"
   ]
  },
  {
   "cell_type": "code",
   "execution_count": 13,
   "id": "22f396c1-3d88-49f0-851a-460ea7342280",
   "metadata": {},
   "outputs": [
    {
     "data": {
      "text/plain": [
       "['kay.l.y.c']"
      ]
     },
     "execution_count": 13,
     "metadata": {},
     "output_type": "execute_result"
    }
   ],
   "source": [
    "ad.find_address('c')"
   ]
  },
  {
   "cell_type": "code",
   "execution_count": 14,
   "id": "aae24e45-e6ea-487c-b77d-d7f9826d51ae",
   "metadata": {},
   "outputs": [
    {
     "data": {
      "text/plain": [
       "['kay.l.y.c.n', 'kay.l.y.c.o.3.m.n', 'kay.n']"
      ]
     },
     "execution_count": 14,
     "metadata": {},
     "output_type": "execute_result"
    }
   ],
   "source": [
    "ad.find_address('n')"
   ]
  },
  {
   "cell_type": "code",
   "execution_count": 15,
   "id": "3586cd79-205a-4419-ae92-327040a02b54",
   "metadata": {},
   "outputs": [
    {
     "data": {
      "text/plain": [
       "[]"
      ]
     },
     "execution_count": 15,
     "metadata": {},
     "output_type": "execute_result"
    }
   ],
   "source": [
    "ad.find_address('hello')"
   ]
  },
  {
   "cell_type": "markdown",
   "id": "32f4d721-8b30-4c44-8622-bc729b5df860",
   "metadata": {},
   "source": [
    "### `.fetch` fetch all the addresses"
   ]
  },
  {
   "cell_type": "code",
   "execution_count": 16,
   "id": "0e2056ba-0156-466e-a722-0b32b8a99af3",
   "metadata": {},
   "outputs": [
    {
     "data": {
      "text/plain": [
       "(#3) ['d',[4, 5, 6],3]"
      ]
     },
     "execution_count": 16,
     "metadata": {},
     "output_type": "execute_result"
    }
   ],
   "source": [
    "ad.fetch(ad.find_address('n'))"
   ]
  },
  {
   "cell_type": "code",
   "execution_count": 17,
   "id": "fb136534-b931-4076-b8b6-6143754f159c",
   "metadata": {},
   "outputs": [
    {
     "data": {
      "text/plain": [
       "(#3) ['d',[4, 5, 6],3]"
      ]
     },
     "execution_count": 17,
     "metadata": {},
     "output_type": "execute_result"
    }
   ],
   "source": [
    "ad.fetch(['kay.l.y.c.n', 'kay.l.y.c.o.3.m.n', 'kay.n'])"
   ]
  },
  {
   "cell_type": "markdown",
   "id": "88820658-3234-4cd2-91b0-5f0c1387eaae",
   "metadata": {},
   "source": [
    "### `.fetch2` fetches all the addresses while preserving the key hierarchy"
   ]
  },
  {
   "cell_type": "code",
   "execution_count": 18,
   "id": "05d70a49-9b33-4985-a6df-19eddd61c9b7",
   "metadata": {},
   "outputs": [
    {
     "data": {
      "text/plain": [
       "\n",
       "```↯ AttrDict ↯\n",
       "kay\n",
       "  l\n",
       "    y\n",
       "      c\n",
       "        n - d (🏷️ str)\n",
       "        o\n",
       "          3\n",
       "            m\n",
       "              n[]\n",
       "                0 - 4 (🏷️ int)\n",
       "                1 - 5 (🏷️ int)\n",
       "                2 - 6 (🏷️ int)\n",
       "  n - 3 (🏷️ int)\n",
       "\n",
       "```"
      ]
     },
     "execution_count": 18,
     "metadata": {},
     "output_type": "execute_result"
    }
   ],
   "source": [
    "ad.fetch2(addrs=['kay.l.y.c.n', 'kay.l.y.c.o.3.m.n', 'kay.n'])"
   ]
  },
  {
   "cell_type": "markdown",
   "id": "5aea401f-c857-4519-a4a6-67116922dffc",
   "metadata": {},
   "source": [
    "### `.fetch2` can also directly fetch all the keys at once (by first finding all addresses and then fetching all of them)"
   ]
  },
  {
   "cell_type": "code",
   "execution_count": 19,
   "id": "57253705-433e-4baf-a900-49bbcaa782fe",
   "metadata": {},
   "outputs": [
    {
     "data": {
      "text/plain": [
       "\n",
       "```↯ AttrDict ↯\n",
       "kay\n",
       "  l\n",
       "    y\n",
       "      c\n",
       "        n - d (🏷️ str)\n",
       "        o\n",
       "          3\n",
       "            m\n",
       "              n[]\n",
       "                0 - 4 (🏷️ int)\n",
       "                1 - 5 (🏷️ int)\n",
       "                2 - 6 (🏷️ int)\n",
       "  n - 3 (🏷️ int)\n",
       "\n",
       "```"
      ]
     },
     "execution_count": 19,
     "metadata": {},
     "output_type": "execute_result"
    }
   ],
   "source": [
    "ad.fetch2(key='n')"
   ]
  },
  {
   "cell_type": "markdown",
   "id": "98d38c81-ef30-4f68-806e-3ceefed24a1a",
   "metadata": {},
   "source": [
    "### `.slice` make a dictionary out of all keys present anywhere in the dictionary"
   ]
  },
  {
   "cell_type": "code",
   "execution_count": 20,
   "id": "04d67bbf-f233-441d-848b-8d3c85d76c89",
   "metadata": {},
   "outputs": [
    {
     "data": {
      "text/plain": [
       "\n",
       "```↯ AttrDict ↯\n",
       "kay.l.y.c.n - d (🏷️ str)\n",
       "kay.l.y.c.o.3.m.n[]\n",
       "  0 - 4 (🏷️ int)\n",
       "  1 - 5 (🏷️ int)\n",
       "  2 - 6 (🏷️ int)\n",
       "kay.n - 3 (🏷️ int)\n",
       "\n",
       "```"
      ]
     },
     "execution_count": 20,
     "metadata": {},
     "output_type": "execute_result"
    }
   ],
   "source": [
    "ad.slice('n')"
   ]
  },
  {
   "cell_type": "markdown",
   "id": "2e8cc904-7abd-4926-90c3-f5c066b1e65b",
   "metadata": {},
   "source": [
    "### `.get`\n",
    "Get works as usual but can also work with nested keys"
   ]
  },
  {
   "cell_type": "code",
   "execution_count": 21,
   "id": "8ead8d36-f3bc-4751-95bd-407dd72295d8",
   "metadata": {},
   "outputs": [
    {
     "data": {
      "text/plain": [
       "'1'"
      ]
     },
     "execution_count": 21,
     "metadata": {},
     "output_type": "execute_result"
    }
   ],
   "source": [
    "ad.get('x',10)"
   ]
  },
  {
   "cell_type": "code",
   "execution_count": 22,
   "id": "cc5bca90-431b-4cf7-83f7-63bdfeb3cd40",
   "metadata": {},
   "outputs": [
    {
     "data": {
      "text/plain": [
       "10"
      ]
     },
     "execution_count": 22,
     "metadata": {},
     "output_type": "execute_result"
    }
   ],
   "source": [
    "ad.get('yolo',10)"
   ]
  },
  {
   "cell_type": "code",
   "execution_count": 23,
   "id": "005d0001-38ff-47e3-8247-a51c5bea6248",
   "metadata": {},
   "outputs": [
    {
     "data": {
      "text/plain": [
       "\n",
       "```↯ AttrDict ↯\n",
       "n - d (🏷️ str)\n",
       "greet - hello (🏷️ str)\n",
       "o[]\n",
       "  0 - 1 (🏷️ int)\n",
       "  1 - 2 (🏷️ int)\n",
       "  2 - 3 (🏷️ int)\n",
       "  3\n",
       "    m\n",
       "      n[]\n",
       "        0 - 4 (🏷️ int)\n",
       "        1 - 5 (🏷️ int)\n",
       "        2 - 6 (🏷️ int)\n",
       "\n",
       "```"
      ]
     },
     "execution_count": 23,
     "metadata": {},
     "output_type": "execute_result"
    }
   ],
   "source": [
    "ad.get('kay.l.y.c',20)"
   ]
  },
  {
   "cell_type": "code",
   "execution_count": 24,
   "id": "5e70f76b-8231-41cc-8d94-d72196840092",
   "metadata": {},
   "outputs": [
    {
     "data": {
      "text/plain": [
       "20"
      ]
     },
     "execution_count": 24,
     "metadata": {},
     "output_type": "execute_result"
    }
   ],
   "source": [
    "ad.get('kay.l.y.hello',20)"
   ]
  },
  {
   "cell_type": "markdown",
   "id": "4c1aa9ac-7aa1-49e8-9697-2cadf1e1c3ef",
   "metadata": {},
   "source": [
    "### `.set`\n",
    "Will also work similarly as get"
   ]
  },
  {
   "cell_type": "code",
   "execution_count": 25,
   "id": "d4fc4ec4-1a30-48f8-91a4-39edc4795ec3",
   "metadata": {},
   "outputs": [],
   "source": [
    "ad.set('bee.sea.dee', 'e')"
   ]
  },
  {
   "cell_type": "code",
   "execution_count": 26,
   "id": "f40cea91-02cb-426c-8560-367ba50aae77",
   "metadata": {},
   "outputs": [
    {
     "data": {
      "text/plain": [
       "\n",
       "```↯ AttrDict ↯\n",
       "x - 1 (🏷️ str)\n",
       "y - 2.0 (🏷️ float)\n",
       "zed - (3+5j) (🏷️ complex)\n",
       "kay\n",
       "  l\n",
       "    y\n",
       "      c\n",
       "        n - d (🏷️ str)\n",
       "        greet - hello (🏷️ str)\n",
       "        o[]\n",
       "          0 - 1 (🏷️ int)\n",
       "          1 - 2 (🏷️ int)\n",
       "          2 - 3 (🏷️ int)\n",
       "          3\n",
       "            m\n",
       "              n[]\n",
       "                0 - 4 (🏷️ int)\n",
       "                1 - 5 (🏷️ int)\n",
       "                2 - 6 (🏷️ int)\n",
       "  m - 2 (🏷️ int)\n",
       "  n - 3 (🏷️ int)\n",
       "bee\n",
       "  sea\n",
       "    dee - e (🏷️ str)\n",
       "\n",
       "```"
      ]
     },
     "execution_count": 26,
     "metadata": {},
     "output_type": "execute_result"
    }
   ],
   "source": [
    "ad"
   ]
  },
  {
   "cell_type": "markdown",
   "id": "ae9d89be-ae83-4980-abad-bb8ff4929040",
   "metadata": {},
   "source": [
    "### `.map` Map a function on all leaf nodes"
   ]
  },
  {
   "cell_type": "code",
   "execution_count": 27,
   "id": "9648004b-9c3c-4e95-be6e-ec9a7e076deb",
   "metadata": {},
   "outputs": [
    {
     "data": {
      "text/markdown": [
       "#### Original"
      ],
      "text/plain": [
       "<IPython.core.display.Markdown object>"
      ]
     },
     "metadata": {},
     "output_type": "display_data"
    },
    {
     "name": "stdout",
     "output_type": "stream",
     "text": [
      "\n",
      "```↯ AttrDict ↯\n",
      "x - 1 (🏷️ str)\n",
      "y - 2.0 (🏷️ float)\n",
      "zed - (3+5j) (🏷️ complex)\n",
      "kay\n",
      "  l\n",
      "    y\n",
      "      c\n",
      "        n - d (🏷️ str)\n",
      "        greet - hello (🏷️ str)\n",
      "        o[]\n",
      "          0 - 1 (🏷️ int)\n",
      "          1 - 2 (🏷️ int)\n",
      "          2 - 3 (🏷️ int)\n",
      "          3\n",
      "            m\n",
      "              n[]\n",
      "                0 - 4 (🏷️ int)\n",
      "                1 - 5 (🏷️ int)\n",
      "                2 - 6 (🏷️ int)\n",
      "  m - 2 (🏷️ int)\n",
      "  n - 3 (🏷️ int)\n",
      "bee\n",
      "  sea\n",
      "    dee - e (🏷️ str)\n",
      "\n",
      "```\n",
      "\n"
     ]
    },
    {
     "data": {
      "text/markdown": [
       "#### New"
      ],
      "text/plain": [
       "<IPython.core.display.Markdown object>"
      ]
     },
     "metadata": {},
     "output_type": "display_data"
    },
    {
     "name": "stdout",
     "output_type": "stream",
     "text": [
      "\n",
      "```↯ AttrDict ↯\n",
      "x - 11 (🏷️ str)\n",
      "y - 4.0 (🏷️ float)\n",
      "zed - (6+10j) (🏷️ complex)\n",
      "kay\n",
      "  l\n",
      "    y\n",
      "      c\n",
      "        n - dd (🏷️ str)\n",
      "        greet - hellohello (🏷️ str)\n",
      "        o[]\n",
      "          0 - 2 (🏷️ int)\n",
      "          1 - 4 (🏷️ int)\n",
      "          2 - 6 (🏷️ int)\n",
      "          3\n",
      "            m\n",
      "              n[]\n",
      "                0 - 8 (🏷️ int)\n",
      "                1 - 10 (🏷️ int)\n",
      "                2 - 12 (🏷️ int)\n",
      "  m - 4 (🏷️ int)\n",
      "  n - 6 (🏷️ int)\n",
      "bee\n",
      "  sea\n",
      "    dee - ee (🏷️ str)\n",
      "\n",
      "```\n",
      "\n"
     ]
    }
   ],
   "source": [
    "from torch_snippets import h4\n",
    "def into_two(x): return 2*x\n",
    "ad2 = ad.map(into_two)\n",
    "h4(\"Original\")\n",
    "print(ad)\n",
    "h4(\"New\")\n",
    "print(ad2)"
   ]
  },
  {
   "cell_type": "markdown",
   "id": "35542f29-52f5-416d-8532-d5b65281bd26",
   "metadata": {},
   "source": [
    "### `.trymap` Map a function on all leaf nodes and preserve the leaf as it is, if the function fails"
   ]
  },
  {
   "cell_type": "code",
   "execution_count": 28,
   "id": "c7ae74c1-035a-4901-85db-8b52cc49605a",
   "metadata": {},
   "outputs": [
    {
     "name": "stdout",
     "output_type": "stream",
     "text": [
      "\n",
      "```↯ AttrDict ↯\n",
      "x - 1 (🏷️ str)\n",
      "y - 1002.0 (🏷️ float)\n",
      "zed - (1003+5j) (🏷️ complex)\n",
      "kay\n",
      "  l\n",
      "    y\n",
      "      c\n",
      "        n - d (🏷️ str)\n",
      "        greet - hello (🏷️ str)\n",
      "        o[]\n",
      "          0 - 1001 (🏷️ int)\n",
      "          1 - 1002 (🏷️ int)\n",
      "          2 - 1003 (🏷️ int)\n",
      "          3\n",
      "            m\n",
      "              n[]\n",
      "                0 - 1004 (🏷️ int)\n",
      "                1 - 1005 (🏷️ int)\n",
      "                2 - 1006 (🏷️ int)\n",
      "  m - 1002 (🏷️ int)\n",
      "  n - 1003 (🏷️ int)\n",
      "bee\n",
      "  sea\n",
      "    dee - e (🏷️ str)\n",
      "\n",
      "```\n",
      "\n"
     ]
    }
   ],
   "source": [
    "def plus_one(x): return x+1000\n",
    "ad2 = ad.trymap(plus_one)\n",
    "print(ad2)"
   ]
  },
  {
   "cell_type": "markdown",
   "id": "d9ca4c89-3be2-450f-9e7c-eac24991711d",
   "metadata": {},
   "source": [
    "### `.drop` Drop a key, even if it is present somewhere nested"
   ]
  },
  {
   "cell_type": "code",
   "execution_count": 29,
   "id": "e9514edb-d9c7-4bb5-81a7-8dc8dc8e8607",
   "metadata": {},
   "outputs": [
    {
     "data": {
      "text/plain": [
       "['kay.l.y.c.n', 'kay.l.y.c.o.3.m.n', 'kay.n']"
      ]
     },
     "execution_count": 29,
     "metadata": {},
     "output_type": "execute_result"
    }
   ],
   "source": [
    "ad.find_address('n')"
   ]
  },
  {
   "cell_type": "code",
   "execution_count": 30,
   "id": "c1151ffa-1ab7-4d69-8979-1799c3e3fd53",
   "metadata": {},
   "outputs": [],
   "source": [
    "from copy import deepcopy\n",
    "ad2 = deepcopy(ad)\n",
    "ad2.drop('n')"
   ]
  },
  {
   "cell_type": "code",
   "execution_count": 31,
   "id": "a02e1b52-5d25-45d7-97c4-73e41aad42ff",
   "metadata": {},
   "outputs": [
    {
     "data": {
      "text/plain": [
       "\n",
       "```↯ AttrDict ↯\n",
       "x - 1 (🏷️ str)\n",
       "y - 2.0 (🏷️ float)\n",
       "zed - (3+5j) (🏷️ complex)\n",
       "kay\n",
       "  l\n",
       "    y\n",
       "      c\n",
       "        greet - hello (🏷️ str)\n",
       "        o[]\n",
       "          0 - 1 (🏷️ int)\n",
       "          1 - 2 (🏷️ int)\n",
       "          2 - 3 (🏷️ int)\n",
       "          3\n",
       "            m\n",
       "  m - 2 (🏷️ int)\n",
       "bee\n",
       "  sea\n",
       "    dee - e (🏷️ str)\n",
       "\n",
       "```"
      ]
     },
     "execution_count": 31,
     "metadata": {},
     "output_type": "execute_result"
    }
   ],
   "source": [
    "ad2"
   ]
  },
  {
   "cell_type": "markdown",
   "id": "11e2427a-3414-42ac-84a6-3d0d917dbe86",
   "metadata": {},
   "source": [
    "### `.update`"
   ]
  },
  {
   "cell_type": "code",
   "execution_count": 32,
   "id": "c349ceda-df96-407e-b4f3-cee613ff6101",
   "metadata": {},
   "outputs": [
    {
     "data": {
      "text/plain": [
       "\n",
       "```↯ AttrDict ↯\n",
       "x - 1 (🏷️ str)\n",
       "y - γ (🏷️ str)\n",
       "zed - (3+5j) (🏷️ complex)\n",
       "kay\n",
       "  l\n",
       "    y\n",
       "      c\n",
       "        greet - hello (🏷️ str)\n",
       "        o[]\n",
       "          0 - 1 (🏷️ int)\n",
       "          1 - 2 (🏷️ int)\n",
       "          2 - 3 (🏷️ int)\n",
       "          3\n",
       "            m\n",
       "  m - 2 (🏷️ int)\n",
       "bee\n",
       "  sea\n",
       "    dee - e (🏷️ str)\n",
       "greek\n",
       "  alpha - α (🏷️ str)\n",
       "  beta - β (🏷️ str)\n",
       "  gamma[]\n",
       "    0 - 1 (🏷️ int)\n",
       "    1 - 2 (🏷️ int)\n",
       "    2\n",
       "      theta - θ (🏷️ str)\n",
       "\n",
       "```"
      ]
     },
     "execution_count": 32,
     "metadata": {},
     "output_type": "execute_result"
    }
   ],
   "source": [
    "ad2.update({'y': 'γ', 'greek': {'alpha':'α', 'beta': 'β', 'gamma': [1,2,{'theta': 'θ'}]}})\n",
    "ad2"
   ]
  },
  {
   "cell_type": "markdown",
   "id": "cc281a93-0ff7-4f29-b209-33a4eca4eaac",
   "metadata": {},
   "source": [
    "### `.flatten` will flatten all the nests into a single level"
   ]
  },
  {
   "cell_type": "code",
   "execution_count": 33,
   "id": "903393fa-58ee-4a9e-b3ac-b93f567154a4",
   "metadata": {},
   "outputs": [
    {
     "data": {
      "text/plain": [
       "\n",
       "```↯ AttrDict ↯\n",
       "x - 1 (🏷️ str)\n",
       "y - γ (🏷️ str)\n",
       "zed - (3+5j) (🏷️ complex)\n",
       "kay.l.y.c.greet - hello (🏷️ str)\n",
       "kay.l.y.c.o.0 - 1 (🏷️ int)\n",
       "kay.l.y.c.o.1 - 2 (🏷️ int)\n",
       "kay.l.y.c.o.2 - 3 (🏷️ int)\n",
       "kay.m - 2 (🏷️ int)\n",
       "bee.sea.dee - e (🏷️ str)\n",
       "greek.alpha - α (🏷️ str)\n",
       " ... 4 more keys ...\n",
       "\n",
       "```"
      ]
     },
     "execution_count": 33,
     "metadata": {},
     "output_type": "execute_result"
    }
   ],
   "source": [
    "ad2.flatten()"
   ]
  },
  {
   "cell_type": "markdown",
   "id": "a2bba48b-4c69-495f-983e-1abe7686daa6",
   "metadata": {},
   "source": [
    "### `.flatten_and_make_dataframe` is self explanatory"
   ]
  },
  {
   "cell_type": "code",
   "execution_count": 34,
   "id": "612cc6d9-9039-4683-ba10-be0ab2585f36",
   "metadata": {},
   "outputs": [
    {
     "data": {
      "text/html": [
       "<div>\n",
       "<style scoped>\n",
       "    .dataframe tbody tr th:only-of-type {\n",
       "        vertical-align: middle;\n",
       "    }\n",
       "\n",
       "    .dataframe tbody tr th {\n",
       "        vertical-align: top;\n",
       "    }\n",
       "\n",
       "    .dataframe thead th {\n",
       "        text-align: right;\n",
       "    }\n",
       "</style>\n",
       "<table border=\"1\" class=\"dataframe\">\n",
       "  <thead>\n",
       "    <tr style=\"text-align: right;\">\n",
       "      <th></th>\n",
       "      <th>0</th>\n",
       "      <th>1</th>\n",
       "      <th>2</th>\n",
       "      <th>3</th>\n",
       "      <th>4</th>\n",
       "      <th>5</th>\n",
       "      <th>6</th>\n",
       "    </tr>\n",
       "  </thead>\n",
       "  <tbody>\n",
       "    <tr>\n",
       "      <th>0</th>\n",
       "      <td>x</td>\n",
       "      <td>1</td>\n",
       "      <td>None</td>\n",
       "      <td>None</td>\n",
       "      <td>None</td>\n",
       "      <td>None</td>\n",
       "      <td>NaN</td>\n",
       "    </tr>\n",
       "    <tr>\n",
       "      <th>1</th>\n",
       "      <td>y</td>\n",
       "      <td>γ</td>\n",
       "      <td>None</td>\n",
       "      <td>None</td>\n",
       "      <td>None</td>\n",
       "      <td>None</td>\n",
       "      <td>NaN</td>\n",
       "    </tr>\n",
       "    <tr>\n",
       "      <th>2</th>\n",
       "      <td>zed</td>\n",
       "      <td>(3+5j)</td>\n",
       "      <td>None</td>\n",
       "      <td>None</td>\n",
       "      <td>None</td>\n",
       "      <td>None</td>\n",
       "      <td>NaN</td>\n",
       "    </tr>\n",
       "    <tr>\n",
       "      <th>3</th>\n",
       "      <td>kay</td>\n",
       "      <td>l</td>\n",
       "      <td>y</td>\n",
       "      <td>c</td>\n",
       "      <td>greet</td>\n",
       "      <td>hello</td>\n",
       "      <td>NaN</td>\n",
       "    </tr>\n",
       "    <tr>\n",
       "      <th>4</th>\n",
       "      <td>kay</td>\n",
       "      <td>l</td>\n",
       "      <td>y</td>\n",
       "      <td>c</td>\n",
       "      <td>o</td>\n",
       "      <td>0</td>\n",
       "      <td>1.0</td>\n",
       "    </tr>\n",
       "    <tr>\n",
       "      <th>5</th>\n",
       "      <td>kay</td>\n",
       "      <td>l</td>\n",
       "      <td>y</td>\n",
       "      <td>c</td>\n",
       "      <td>o</td>\n",
       "      <td>1</td>\n",
       "      <td>2.0</td>\n",
       "    </tr>\n",
       "    <tr>\n",
       "      <th>6</th>\n",
       "      <td>kay</td>\n",
       "      <td>l</td>\n",
       "      <td>y</td>\n",
       "      <td>c</td>\n",
       "      <td>o</td>\n",
       "      <td>2</td>\n",
       "      <td>3.0</td>\n",
       "    </tr>\n",
       "    <tr>\n",
       "      <th>7</th>\n",
       "      <td>kay</td>\n",
       "      <td>m</td>\n",
       "      <td>2</td>\n",
       "      <td>None</td>\n",
       "      <td>None</td>\n",
       "      <td>None</td>\n",
       "      <td>NaN</td>\n",
       "    </tr>\n",
       "    <tr>\n",
       "      <th>8</th>\n",
       "      <td>bee</td>\n",
       "      <td>sea</td>\n",
       "      <td>dee</td>\n",
       "      <td>e</td>\n",
       "      <td>None</td>\n",
       "      <td>None</td>\n",
       "      <td>NaN</td>\n",
       "    </tr>\n",
       "    <tr>\n",
       "      <th>9</th>\n",
       "      <td>greek</td>\n",
       "      <td>alpha</td>\n",
       "      <td>α</td>\n",
       "      <td>None</td>\n",
       "      <td>None</td>\n",
       "      <td>None</td>\n",
       "      <td>NaN</td>\n",
       "    </tr>\n",
       "    <tr>\n",
       "      <th>10</th>\n",
       "      <td>greek</td>\n",
       "      <td>beta</td>\n",
       "      <td>β</td>\n",
       "      <td>None</td>\n",
       "      <td>None</td>\n",
       "      <td>None</td>\n",
       "      <td>NaN</td>\n",
       "    </tr>\n",
       "    <tr>\n",
       "      <th>11</th>\n",
       "      <td>greek</td>\n",
       "      <td>gamma</td>\n",
       "      <td>0</td>\n",
       "      <td>1</td>\n",
       "      <td>None</td>\n",
       "      <td>None</td>\n",
       "      <td>NaN</td>\n",
       "    </tr>\n",
       "    <tr>\n",
       "      <th>12</th>\n",
       "      <td>greek</td>\n",
       "      <td>gamma</td>\n",
       "      <td>1</td>\n",
       "      <td>2</td>\n",
       "      <td>None</td>\n",
       "      <td>None</td>\n",
       "      <td>NaN</td>\n",
       "    </tr>\n",
       "    <tr>\n",
       "      <th>13</th>\n",
       "      <td>greek</td>\n",
       "      <td>gamma</td>\n",
       "      <td>2</td>\n",
       "      <td>theta</td>\n",
       "      <td>θ</td>\n",
       "      <td>None</td>\n",
       "      <td>NaN</td>\n",
       "    </tr>\n",
       "  </tbody>\n",
       "</table>\n",
       "</div>"
      ],
      "text/plain": [
       "        0       1     2      3      4      5    6\n",
       "0       x       1  None   None   None   None  NaN\n",
       "1       y       γ  None   None   None   None  NaN\n",
       "2     zed  (3+5j)  None   None   None   None  NaN\n",
       "3     kay       l     y      c  greet  hello  NaN\n",
       "4     kay       l     y      c      o      0  1.0\n",
       "5     kay       l     y      c      o      1  2.0\n",
       "6     kay       l     y      c      o      2  3.0\n",
       "7     kay       m     2   None   None   None  NaN\n",
       "8     bee     sea   dee      e   None   None  NaN\n",
       "9   greek   alpha     α   None   None   None  NaN\n",
       "10  greek    beta     β   None   None   None  NaN\n",
       "11  greek   gamma     0      1   None   None  NaN\n",
       "12  greek   gamma     1      2   None   None  NaN\n",
       "13  greek   gamma     2  theta      θ   None  NaN"
      ]
     },
     "execution_count": 34,
     "metadata": {},
     "output_type": "execute_result"
    }
   ],
   "source": [
    "ad2.flatten_and_make_dataframe()"
   ]
  },
  {
   "cell_type": "code",
   "execution_count": null,
   "id": "48aefa26-9cd3-4382-b706-bb73ef314daf",
   "metadata": {},
   "outputs": [],
   "source": []
  }
 ],
 "metadata": {
  "kernelspec": {
   "display_name": "Python 3 (ipykernel)",
   "language": "python",
   "name": "python3"
  },
  "language_info": {
   "codemirror_mode": {
    "name": "ipython",
    "version": 3
   },
   "file_extension": ".py",
   "mimetype": "text/x-python",
   "name": "python",
   "nbconvert_exporter": "python",
   "pygments_lexer": "ipython3",
   "version": "3.12.4"
  }
 },
 "nbformat": 4,
 "nbformat_minor": 5
}
