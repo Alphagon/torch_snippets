{
 "cells": [
  {
   "cell_type": "raw",
   "metadata": {},
   "source": [
    "# Adapters\n",
    "To convert data from/to various formats\n",
    "---\n",
    "{}\n",
    "\n",
    "---\n",
    "\n"
   ]
  },
  {
   "cell_type": "code",
   "execution_count": 2,
   "metadata": {},
   "outputs": [],
   "source": [
    "#| default_exp adapters"
   ]
  },
  {
   "cell_type": "code",
   "execution_count": 5,
   "metadata": {},
   "outputs": [],
   "source": [
    "#| export\n",
    "import base64, cv2, numpy as np\n",
    "from typing import Union\n",
    "from torch_snippets.loader import *\n",
    "from torch_snippets.paths import P, stems, stem, parent, makedir\n",
    "from torch_snippets.markup import write_xml, read_xml, AttrDict"
   ]
  },
  {
   "cell_type": "code",
   "execution_count": 6,
   "metadata": {},
   "outputs": [],
   "source": [
    "#| export\n",
    "def np_2_b64(image: np.ndarray) -> str:\n",
    "    \"\"\"Convert a numpy image to base64 string\"\"\"\n",
    "    img_str = cv2.imencode(\".jpg\", image)[1].tobytes()\n",
    "    img_b64 = base64.b64encode(img_str).decode(\"utf-8\")\n",
    "    return img_b64\n",
    "\n",
    "\n",
    "def b64_2_np(input: str) -> np.ndarray:\n",
    "    input = bytes(input, \"utf-8\")\n",
    "    input = base64.b64decode(input)\n",
    "    img_nparr = np.frombuffer(input, np.uint8)\n",
    "    img_cv2 = cv2.imdecode(img_nparr, cv2.IMREAD_COLOR)\n",
    "    img_rgb = cv2.cvtColor(img_cv2, cv2.COLOR_BGR2RGB)\n",
    "    return img_rgb\n",
    "\n",
    "\n",
    "def b64_2_file(\n",
    "    input: str, # base64 encoded string\n",
    "    fpath: Union[str, P] # Place where you want to save the file\n",
    "    ) -> None:\n",
    "    \"\"\"Save a file encoded as a base64 `input` at given `fpath`\"\"\"\n",
    "    with open(fpath, \"wb\") as pdf_file:\n",
    "        input = bytes(input, \"utf-8\")\n",
    "        input = base64.b64decode(input)\n",
    "        pdf_file.write(input)\n",
    "        logger.info(f\"wrote pdf file to {fpath}\")"
   ]
  },
  {
   "cell_type": "code",
   "execution_count": null,
   "metadata": {},
   "outputs": [],
   "source": [
    "#| export\n",
    "\n",
    "def _process(df: pd.DataFrame, label_column=\"readable_label\", default_label=\"Others\"):\n",
    "    df[\"@xbr\"] = df[\"X\"]\n",
    "    df[\"@xtl\"] = df[\"x\"]\n",
    "    df[\"@ybr\"] = df[\"Y\"]\n",
    "    df[\"@ytl\"] = df[\"y\"]\n",
    "    df[\"@label\"] = df[label_column] if label_column in df.columns else default_label\n",
    "    df[\"@occluded\"] = \"0\"\n",
    "    df[\"@source\"] = \"manual\"\n",
    "    df[\"@z_order\"] = \"0\"\n",
    "    df.drop(\n",
    "        [\n",
    "            c\n",
    "            for c in df.columns\n",
    "            if c\n",
    "            not in set(\n",
    "                [\n",
    "                    \"@xbr\",\n",
    "                    \"@xtl\",\n",
    "                    \"@ybr\",\n",
    "                    \"@ytl\",\n",
    "                    \"@label\",\n",
    "                    \"@occluded\",\n",
    "                    \"@source\",\n",
    "                    \"@z_order\",\n",
    "                ]\n",
    "            )\n",
    "        ],\n",
    "        axis=1,\n",
    "        inplace=True,\n",
    "    )\n",
    "    records = df.to_dict(orient=\"records\")\n",
    "    return records\n",
    "\n",
    "\n",
    "def csvs_2_cvat(images_folder, csvs_folder, xml_output_file, items=None):\n",
    "    images_folder, csvs_folder = [P(_) for _ in [images_folder, csvs_folder]]\n",
    "    data = AttrDict({\"annotations\": {\"image\": []}})\n",
    "    if items is None:\n",
    "        items = common(stems(images_folder), stems(csvs_folder))\n",
    "\n",
    "    items = sorted(items)\n",
    "\n",
    "    for ix, item in enumerate(track(items)):\n",
    "        _ia = _image_annotation = AttrDict({})\n",
    "        image = images_folder / f\"{item}.jpg\"\n",
    "        df = pd.read_csv(f\"{csvs_folder}/{item}.csv\")\n",
    "        _ia[\"@height\"], _ia[\"@width\"] = read(image).shape[:2]\n",
    "        _ia[\"@id\"] = str(ix)\n",
    "        _ia[\"@name\"] = f\"{item}.jpg\"\n",
    "        _ia[\"box\"] = _process(df)\n",
    "        data.annotations.image.append(_ia)\n",
    "    write_xml(data, xml_output_file)\n",
    "\n",
    "def _cvat_ann_2_csv(ann):\n",
    "    df = pd.DataFrame([a.to_dict() for a in ann.box])\n",
    "    df.rename({'@xtl': 'x', '@ytl': 'y', '@xbr': 'X', '@ybr': 'Y', '@label': 'readable_label'}, inplace=1, axis=1)\n",
    "    for col in 'xyXY':\n",
    "        df[col] = df[col].map(lambda x: int(float(x)))\n",
    "    df.drop(['@z_order','@source','@occluded'], axis=1, inplace=True)\n",
    "    height, width = int(ann['@height']), int(ann['@width'])\n",
    "    df = to_relative(df, height, width)\n",
    "    return df\n",
    "\n",
    "def cvat_2_csvs(xmlfile, csvs_folder):\n",
    "    data = read_xml(xmlfile)\n",
    "    for item in data.annotations.image:\n",
    "        try:\n",
    "            df = _cvat_ann_2_csv(item)\n",
    "            save_at = f'{csvs_folder}/{stem(item[\"@name\"])}.csv'\n",
    "            makedir(parent(save_at))\n",
    "            df.to_csv(save_at)\n",
    "        except Exception as e:\n",
    "            Warn(f'{e} @ {item[\"@name\"]}')\n"
   ]
  }
 ],
 "metadata": {
  "kernelspec": {
   "display_name": "Python 3.9.9 ('base')",
   "language": "python",
   "name": "python3"
  },
  "language_info": {
   "codemirror_mode": {
    "name": "ipython",
    "version": 3
   },
   "file_extension": ".py",
   "mimetype": "text/x-python",
   "name": "python",
   "nbconvert_exporter": "python",
   "pygments_lexer": "ipython3",
   "version": "3.9.9"
  },
  "orig_nbformat": 4,
  "vscode": {
   "interpreter": {
    "hash": "0a92af74ccf65e106ae96852a45a9b0a5e11a3c414a16fc8bb2d134868e55bfd"
   }
  }
 },
 "nbformat": 4,
 "nbformat_minor": 2
}
