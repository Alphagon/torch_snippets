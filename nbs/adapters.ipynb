{
 "cells": [
  {
   "cell_type": "raw",
   "metadata": {},
   "source": [
    "# Adapters\n",
    "To convert data from/to various formats\n",
    "---\n",
    "{}\n",
    "\n",
    "---\n",
    "\n"
   ]
  },
  {
   "cell_type": "code",
   "execution_count": 2,
   "metadata": {},
   "outputs": [],
   "source": [
    "#| default_exp adapters"
   ]
  },
  {
   "cell_type": "code",
   "execution_count": 5,
   "metadata": {},
   "outputs": [],
   "source": [
    "#| export\n",
    "import base64, cv2, numpy as np\n",
    "from typing import Union\n",
    "from torch_snippets.loader import logger\n",
    "from torch_snippets.paths import P"
   ]
  },
  {
   "cell_type": "code",
   "execution_count": 6,
   "metadata": {},
   "outputs": [],
   "source": [
    "#| export\n",
    "def np_2_b64(image: np.ndarray) -> str:\n",
    "    \"\"\"Convert a numpy image to base64 string\"\"\"\n",
    "    img_str = cv2.imencode(\".jpg\", image)[1].tobytes()\n",
    "    img_b64 = base64.b64encode(img_str).decode(\"utf-8\")\n",
    "    return img_b64\n",
    "\n",
    "\n",
    "def b64_2_np(input: str) -> np.ndarray:\n",
    "    input = bytes(input, \"utf-8\")\n",
    "    input = base64.b64decode(input)\n",
    "    img_nparr = np.frombuffer(input, np.uint8)\n",
    "    img_cv2 = cv2.imdecode(img_nparr, cv2.IMREAD_COLOR)\n",
    "    img_rgb = cv2.cvtColor(img_cv2, cv2.COLOR_BGR2RGB)\n",
    "    return img_rgb\n",
    "\n",
    "\n",
    "def b64_2_file(\n",
    "    input: str, # base64 encoded string\n",
    "    fpath: Union[str, P] # Place where you want to save the file\n",
    "    ) -> None:\n",
    "    \"\"\"Save a file encoded as a base64 `input` at given `fpath`\"\"\"\n",
    "    with open(fpath, \"wb\") as pdf_file:\n",
    "        input = bytes(input, \"utf-8\")\n",
    "        input = base64.b64decode(input)\n",
    "        pdf_file.write(input)\n",
    "        logger.info(f\"wrote pdf file to {fpath}\")"
   ]
  }
 ],
 "metadata": {
  "kernelspec": {
   "display_name": "Python 3.9.9 ('base')",
   "language": "python",
   "name": "python3"
  },
  "language_info": {
   "codemirror_mode": {
    "name": "ipython",
    "version": 3
   },
   "file_extension": ".py",
   "mimetype": "text/x-python",
   "name": "python",
   "nbconvert_exporter": "python",
   "pygments_lexer": "ipython3",
   "version": "3.9.9"
  },
  "orig_nbformat": 4,
  "vscode": {
   "interpreter": {
    "hash": "0a92af74ccf65e106ae96852a45a9b0a5e11a3c414a16fc8bb2d134868e55bfd"
   }
  }
 },
 "nbformat": 4,
 "nbformat_minor": 2
}
