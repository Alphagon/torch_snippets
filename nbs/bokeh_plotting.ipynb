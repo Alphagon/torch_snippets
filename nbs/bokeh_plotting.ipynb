{
 "cells": [
  {
   "cell_type": "markdown",
   "metadata": {},
   "source": [
    "# Bokeh Plotting\n",
    "Wrapper for rapid bokeh plotting"
   ]
  },
  {
   "cell_type": "code",
   "execution_count": 1,
   "metadata": {},
   "outputs": [],
   "source": [
    "# default_exp bokeh_loader"
   ]
  },
  {
   "cell_type": "code",
   "execution_count": null,
   "metadata": {},
   "outputs": [],
   "source": [
    "# export\n",
    "from bokeh.io import output_notebook, show as bshow\n",
    "from bokeh.plotting import figure, from_networkx\n",
    "from bokeh.models import (\n",
    "    Circle,\n",
    "    Rect,\n",
    "    WheelZoomTool,\n",
    "    PanTool,\n",
    "    BoxZoomTool,\n",
    "    ResetTool,\n",
    "    MultiLine,\n",
    "    NodesAndLinkedEdges,\n",
    "    EdgesAndLinkedNodes,\n",
    "    HoverTool,\n",
    "    TapTool,\n",
    "    BoxSelectTool,\n",
    ")\n",
    "from bokeh.palettes import Spectral7\n",
    "\n",
    "\n",
    "def parse_sz(size):\n",
    "    if isinstance(size, int):\n",
    "        return size, size\n",
    "    elif isinstance(size, tuple):\n",
    "        if len(size) == 2:\n",
    "            return size\n",
    "    raise NotImplementedError(f\"function is not implemented for {size}\")\n",
    "\n",
    "\n",
    "def get_bplot(sz=500, **kwargs):\n",
    "    h, w = parse_sz(sz)\n",
    "    output_notebook()\n",
    "    plot = figure(\n",
    "        tools=[WheelZoomTool(), PanTool(), BoxZoomTool(), ResetTool()],\n",
    "        plot_width=w,\n",
    "        plot_height=h,\n",
    "        match_aspect=kwargs.pop(\"match_aspect\", False),\n",
    "    )\n",
    "    plot.add_tools(\n",
    "        HoverTool(\n",
    "            tooltips=[(\"index\", \"$index\")]\n",
    "            + [(i, f\"@{i}\") for i in kwargs.get(\"tooltips\", [])]\n",
    "        ),\n",
    "        TapTool(),\n",
    "        BoxSelectTool(),\n",
    "    )\n",
    "\n",
    "    plot.toolbar.active_scroll = plot.select_one(WheelZoomTool)\n",
    "    plot.toolbar.active_drag = plot.select_one(PanTool)\n",
    "    return plot"
   ]
  }
 ],
 "metadata": {
  "interpreter": {
   "hash": "0a92af74ccf65e106ae96852a45a9b0a5e11a3c414a16fc8bb2d134868e55bfd"
  },
  "kernelspec": {
   "display_name": "Python 3.9.9 ('base')",
   "language": "python",
   "name": "python3"
  },
  "language_info": {
   "codemirror_mode": {
    "name": "ipython",
    "version": 3
   },
   "file_extension": ".py",
   "mimetype": "text/x-python",
   "name": "python",
   "nbconvert_exporter": "python",
   "pygments_lexer": "ipython3",
   "version": "3.9.9"
  }
 },
 "nbformat": 4,
 "nbformat_minor": 2
}
