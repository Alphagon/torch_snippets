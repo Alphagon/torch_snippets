{
 "cells": [
  {
   "cell_type": "markdown",
   "metadata": {},
   "source": [
    "# Capsule (Tutorial)\n",
    "Built on top of `nn.Module` for faster prototyping"
   ]
  },
  {
   "cell_type": "code",
   "execution_count": 1,
   "metadata": {},
   "outputs": [],
   "source": [
    "# | default_exp trainer.capsule"
   ]
  },
  {
   "cell_type": "code",
   "execution_count": 2,
   "metadata": {},
   "outputs": [
    {
     "name": "stderr",
     "output_type": "stream",
     "text": [
      "/Users/yeshwanth.y/miniconda3/envs/mdm/lib/python3.8/site-packages/torchvision/io/image.py:13: UserWarning: Failed to load image Python extension: dlopen(/Users/yeshwanth.y/miniconda3/envs/mdm/lib/python3.8/site-packages/torchvision/image.so, 0x0006): Symbol not found: (__ZN3c106detail19maybe_wrap_dim_slowExxb)\n",
      "  Referenced from: '/Users/yeshwanth.y/miniconda3/envs/mdm/lib/python3.8/site-packages/torchvision/image.so'\n",
      "  Expected in: '/Users/yeshwanth.y/miniconda3/envs/mdm/lib/python3.8/site-packages/torch/lib/libc10.dylib'\n",
      "  warn(f\"Failed to load image Python extension: {e}\")\n"
     ]
    }
   ],
   "source": [
    "# | export\n",
    "from functools import wraps\n",
    "from torch_snippets.loader import *\n",
    "from torch_snippets.torch_loader import *\n",
    "from torch_snippets.paths import loaddill, dumpdill, makedir, parent\n",
    "from torch_snippets.load_defaults import exists\n",
    "from torch_snippets.markup import AttrDict\n",
    "\n",
    "try:\n",
    "    import mmcv\n",
    "    from mmcv.parallel.data_container import DataContainer\n",
    "except ImportError:\n",
    "    DataContainer = None"
   ]
  },
  {
   "cell_type": "code",
   "execution_count": 4,
   "metadata": {},
   "outputs": [],
   "source": [
    "# | export\n",
    "# | hide\n",
    "\n",
    "\n",
    "def to(item, device):\n",
    "    if item is None:\n",
    "        return None\n",
    "    elif isinstance(item, (torch.Tensor, nn.Module)):\n",
    "        return item.to(device)\n",
    "    elif isinstance(item, (AttrDict, dict)) or all(\n",
    "        [hasattr(item, \"keys\"), hasattr(item, \"values\"), hasattr(item, \"items\")]\n",
    "    ):\n",
    "        return type(item)({k: to(v, device) for k, v in item.items()})\n",
    "    elif isinstance(item, (list, tuple)):\n",
    "        return type(item([to(_item, device) for _item in item]))\n",
    "    elif DataContainer is not None and isinstance(item, DataContainer):\n",
    "        return DataContainer([to(_item, device) for _item in item.data])\n",
    "    else:\n",
    "        # logger.warning(f\"function is not implemented for {type(item)}\")\n",
    "        return item\n",
    "        raise NotImplementedError(f\"function is not implemented for {type(item)}\")\n",
    "\n",
    "\n",
    "def train(train_function):\n",
    "    @wraps(train_function)\n",
    "    def _train_batch(self, *args, **kwargs):\n",
    "        args = self.before_train_batch(args)\n",
    "        kwargs = self.before_train_batch(kwargs)\n",
    "        outputs = train_function(self, *args, **kwargs)\n",
    "        outputs = self.after_train_batch(outputs)\n",
    "        assert isinstance(outputs, dict)\n",
    "        return outputs\n",
    "\n",
    "    return _train_batch\n",
    "\n",
    "\n",
    "@torch.no_grad()\n",
    "def validate(validation_function):\n",
    "    @wraps(validation_function)\n",
    "    def _validate_batch(self, *args, **kwargs):\n",
    "        args = self.before_validate_batch(args)\n",
    "        kwargs = self.before_validate_batch(kwargs)\n",
    "        outputs = validation_function(self, *args, **kwargs)\n",
    "        outputs = self.after_validate_batch(outputs)\n",
    "        assert isinstance(outputs, dict)\n",
    "        return outputs\n",
    "\n",
    "    return _validate_batch\n",
    "\n",
    "\n",
    "@torch.no_grad()\n",
    "def predict(predict_function):\n",
    "    @wraps(predict_function)\n",
    "    def _predict(self, *args, **kwargs):\n",
    "        args = self.before_predict(args)\n",
    "        kwargs = self.before_predict(kwargs)\n",
    "        outputs = predict_function(self, *args, **kwargs)\n",
    "        return outputs\n",
    "\n",
    "    return _predict"
   ]
  },
  {
   "cell_type": "code",
   "execution_count": 4,
   "metadata": {},
   "outputs": [],
   "source": [
    "# | export\n",
    "# | hide\n",
    "\n",
    "\n",
    "class Capsule(nn.Module):\n",
    "    \"\"\"\n",
    "    Inherit from Capsule and train with fewer lines of code\n",
    "    \"\"\"\n",
    "\n",
    "    def __init__(self, report=None):\n",
    "        super().__init__()\n",
    "        if report is not None:\n",
    "            self.report = loaddill(report)\n",
    "\n",
    "    # Train Utils\n",
    "    def before_train_batch(self, data):\n",
    "        self.train()\n",
    "        self.optimizer.zero_grad()\n",
    "        data = to(data, getattr(self, \"device\", \"cuda\"))\n",
    "        return data\n",
    "\n",
    "    def after_train_batch(self, outputs):\n",
    "        outputs[\"loss\"].backward()\n",
    "        self.optimizer.step()\n",
    "        return outputs\n",
    "\n",
    "    # Validation Utils\n",
    "    def before_validate_batch(self, data):\n",
    "        self.eval()\n",
    "        data = to(data, getattr(self, \"device\", \"cuda\"))\n",
    "        return data\n",
    "\n",
    "    def after_validate_batch(self, outputs):\n",
    "        return outputs\n",
    "\n",
    "    def before_predict(self, data):\n",
    "        self.eval()\n",
    "        data = to(data, getattr(self, \"device\", \"cuda\"))\n",
    "        return data\n",
    "\n",
    "    def after_predict(self, outputs):\n",
    "        return outputs\n",
    "\n",
    "    def load(self, weights_path=None, device=\"cpu\"):\n",
    "        if weights_path:\n",
    "            load_torch_model_weights_to(self, weights_path, device=device)\n",
    "        try:\n",
    "            weights_path = weights_path + \".report\"\n",
    "            self.report = loaddill(weights_path)\n",
    "        except:\n",
    "            pass\n",
    "\n",
    "    def save(self, save_to):\n",
    "        if not exists(parent(save_to)):\n",
    "            makedir(parent(save_to), prompt=False)\n",
    "        save_torch_model_weights_from(self, save_to)\n",
    "        if hasattr(self, \"report\"):\n",
    "            save_to = save_to + \".report\"\n",
    "            dumpdill(self.report, save_to)\n",
    "\n",
    "    # Fit function\n",
    "    def fit(\n",
    "        self,\n",
    "        trn_dl=None,\n",
    "        val_dl=None,\n",
    "        num_epochs=1,\n",
    "        lr=None,\n",
    "        device=\"cuda\",\n",
    "        save_to=None,\n",
    "        print_every=None,\n",
    "        print_total=None,\n",
    "        show_final_plot=True,\n",
    "        **kwargs,\n",
    "    ):\n",
    "        if print_total:\n",
    "            print_every = num_epochs // print_total\n",
    "\n",
    "        if lr:\n",
    "            for group in self.optimizer.param_groups:\n",
    "                group[\"lr\"] = lr\n",
    "            Info(f\"Learning Rate: {lr}\")\n",
    "\n",
    "        if not hasattr(self, \"report\"):\n",
    "            self.report = Report(num_epochs, **kwargs)\n",
    "        else:\n",
    "            self.report = Report(num_epochs, old_report=self.report, **kwargs)\n",
    "\n",
    "        self.device = device\n",
    "        to(self, self.device)\n",
    "\n",
    "        try:\n",
    "            for epoch in range(num_epochs):\n",
    "                self.report.n_epochs = num_epochs\n",
    "                if trn_dl is not None:\n",
    "                    N = len(trn_dl)\n",
    "                    for ix, data in enumerate(trn_dl):\n",
    "                        loss = self.train_batch(data)\n",
    "                        self.report.record(pos=(epoch + (ix + 1) / N), **loss, end=\"\\r\")\n",
    "                if val_dl is not None:\n",
    "                    self.evaluate(\n",
    "                        val_dl, report=self.report, device=device, epoch=epoch\n",
    "                    )\n",
    "                if (print_every and ((epoch + 1) % print_every == 0)) or epoch == 0:\n",
    "                    self.report.report_avgs(epoch + 1)\n",
    "                else:\n",
    "                    self.report.report_avgs(epoch + 1, end=\"\\r\")\n",
    "        except KeyboardInterrupt:\n",
    "            pass\n",
    "\n",
    "        if show_final_plot:\n",
    "            self.report.plot(log=True, smooth=0)\n",
    "        if save_to:\n",
    "            self.save(save_to)\n",
    "        self.report.finish_run(**kwargs)\n",
    "\n",
    "    def evaluate(\n",
    "        self, val_dl, report=None, device=\"cuda\", epoch=None, show_report=False\n",
    "    ):\n",
    "        if report is None:\n",
    "            report = Report(1)\n",
    "            epoch = 0\n",
    "            report_averages = True\n",
    "        else:\n",
    "            epoch = epoch\n",
    "            report_averages = False\n",
    "        self.device = device\n",
    "        to(self, self.device)\n",
    "\n",
    "        N = len(val_dl)\n",
    "        for ix, data in enumerate(val_dl):\n",
    "            loss = self.validate_batch(data)\n",
    "            report.record(pos=(epoch + (ix + 1) / N), **loss, end=\"\\r\")\n",
    "\n",
    "        avgs = report.report_avgs(1) if report_averages else None\n",
    "        if show_report:\n",
    "            report.plot(log=True, smooth=3)\n",
    "        return avgs\n",
    "\n",
    "    @train\n",
    "    def train_batch(self, data):\n",
    "        x, y = data\n",
    "        _y = self(x)\n",
    "        loss = self.criterion(_y, y)\n",
    "        return {\"loss\": loss}\n",
    "\n",
    "    @validate\n",
    "    def validate_batch(self, data):\n",
    "        x, y = data\n",
    "        output = self(x)\n",
    "        loss = self.criterion(output, y)\n",
    "        return {\"loss\": loss}\n",
    "\n",
    "    @predict\n",
    "    def predict_batch(self, data):\n",
    "        x, _ = data\n",
    "        outputs = self(x)\n",
    "        return outputs"
   ]
  },
  {
   "cell_type": "markdown",
   "metadata": {},
   "source": [
    "Let's load the iris dataset first"
   ]
  },
  {
   "cell_type": "code",
   "execution_count": 5,
   "metadata": {},
   "outputs": [],
   "source": [
    "from sklearn.datasets import load_iris\n",
    "from sklearn.model_selection import train_test_split\n",
    "\n",
    "data = load_iris()\n",
    "X, y = data.data, data.target\n",
    "X_trn, X_val, y_trn, y_val = train_test_split(X, y, random_state=42)"
   ]
  },
  {
   "cell_type": "markdown",
   "metadata": {},
   "source": [
    "... and create the data loaders"
   ]
  },
  {
   "cell_type": "code",
   "execution_count": 6,
   "metadata": {},
   "outputs": [
    {
     "name": "stdout",
     "output_type": "stream",
     "text": [
      "══════════════════════════════════════════════════════════════════\n",
      "list of 2 items\n",
      "        Tensor  Shape: torch.Size([32, 4])      Min: 0.100      Max: 7.900      \n",
      "Mean: 3.488     dtype: torch.float32 @ cpu\n",
      "        Tensor  Shape: torch.Size([32]) Min: 0.000      Max: 2.000      Mean: \n",
      "0.969     dtype: torch.float32 @ cpu\n",
      "══════════════════════════════════════════════════════════════════\n"
     ]
    }
   ],
   "source": [
    "from torch_snippets.inspector import inspect\n",
    "from torch.utils.data import TensorDataset\n",
    "\n",
    "trn_ds = TensorDataset(*[torch.Tensor(i) for i in [X_trn, y_trn]])\n",
    "trn_dl = DataLoader(trn_ds, batch_size=32)\n",
    "\n",
    "val_ds = TensorDataset(*[torch.Tensor(i) for i in [X_val, y_val]])\n",
    "val_dl = DataLoader(val_ds, batch_size=32)\n",
    "\n",
    "inspect(next(iter(val_dl)))"
   ]
  },
  {
   "cell_type": "markdown",
   "metadata": {},
   "source": [
    "Next we'll import Capsule and a few decorators that will tell the model to change it's mode to train/test during the `fit` function"
   ]
  },
  {
   "cell_type": "markdown",
   "metadata": {},
   "source": [
    "```python\n",
    "from torch_snippets.trainer.capsule import Capsule, train, validate, predict\n",
    "```"
   ]
  },
  {
   "cell_type": "markdown",
   "metadata": {},
   "source": [
    "Create the neural network and define it's forward function as usual pytorch business. Only difference now is that you'll also add `self.loss_fn` and `self.optimizer` attributes in the init"
   ]
  },
  {
   "cell_type": "markdown",
   "metadata": {},
   "source": [
    "```python\n",
    "class IrisModel(Capsule):\n",
    "    def __init__(self):\n",
    "        super().__init__()\n",
    "        self.model = nn.Sequential(\n",
    "            nn.BatchNorm1d(4),\n",
    "            nn.Linear(4, 16),\n",
    "            nn.Dropout(0.2),\n",
    "            nn.BatchNorm1d(16),\n",
    "            nn.ReLU(inplace=True),\n",
    "            nn.Linear(16, 8),\n",
    "            nn.Dropout(0.2),\n",
    "            nn.BatchNorm1d(8),\n",
    "            nn.ReLU(inplace=True),\n",
    "            nn.Linear(8, 3),\n",
    "        )\n",
    "        self.loss_fn = nn.CrossEntropyLoss()\n",
    "        self.optimizer = optim.Adam(self.parameters())\n",
    "\n",
    "    def forward(self, x):\n",
    "        return self.model(x)\n",
    "```"
   ]
  },
  {
   "cell_type": "markdown",
   "metadata": {},
   "source": [
    "To fully describe the model's behaviour we still need to define three functions  \n",
    "1. `train_batch`  \n",
    "2. `validate_batch` and,  \n",
    "3. `predict` which is optional  \n",
    "\n",
    "like so\n",
    "\n",
    "```python\n",
    "\n",
    "    @train\n",
    "    def train_batch(self, batch):\n",
    "        x, y = batch\n",
    "        _y = self.forward(x)\n",
    "        loss = self.loss_fn(_y, y.long())\n",
    "        return {\"loss\": loss}\n",
    "\n",
    "    @validate\n",
    "    def validate_batch(self, batch=None, dl=None):\n",
    "        if dl is not None:\n",
    "            output = []\n",
    "            for batch in dl:\n",
    "                output.extend(self.predict(batch=batch)[\"val_acc\"])\n",
    "            return np.mean(output)\n",
    "        x, y = batch\n",
    "        _y = self.forward(x)\n",
    "        loss = self.loss_fn(_y, y.long())\n",
    "        acc = (y == _y.max(-1)[1]).float().mean()\n",
    "        return {\"val_loss\": loss, \"val_acc\": acc}\n",
    "\n",
    "    @predict\n",
    "    def predict(self, batch=None, dl=None):\n",
    "        if dl is not None:\n",
    "            output = []\n",
    "            for batch in dl:\n",
    "                output.extend(self.predict(batch=batch))\n",
    "            return output\n",
    "        x, y = batch\n",
    "        _y = self.forward(x)\n",
    "        o = _y.max(-1)[1].cpu().detach().numpy().tolist()\n",
    "        return o\n",
    "```\n",
    "\n",
    "* Ensure you return dictionaries of losses, accuracy metrics in `train_batch` and `validate_batch` functions. You can return as many metrics during training and validation, they will be auto logged.  \n",
    "* Also make sure at least one of the keys in `train_batch` is the key **loss**, as this is used to compute gradients.* "
   ]
  },
  {
   "cell_type": "code",
   "execution_count": 7,
   "metadata": {},
   "outputs": [],
   "source": [
    "# | hide\n",
    "from torch_snippets.trainer.capsule import Capsule, train, validate, predict\n",
    "\n",
    "\n",
    "class IrisModel(Capsule):\n",
    "    def __init__(self):\n",
    "        super().__init__()\n",
    "        self.model = nn.Sequential(\n",
    "            nn.BatchNorm1d(4),\n",
    "            nn.Linear(4, 16),\n",
    "            nn.Dropout(0.2),\n",
    "            nn.BatchNorm1d(16),\n",
    "            nn.ReLU(inplace=True),\n",
    "            nn.Linear(16, 8),\n",
    "            nn.Dropout(0.2),\n",
    "            nn.BatchNorm1d(8),\n",
    "            nn.ReLU(inplace=True),\n",
    "            nn.Linear(8, 3),\n",
    "        )\n",
    "        self.loss_fn = nn.CrossEntropyLoss()\n",
    "        self.optimizer = optim.Adam(self.parameters())\n",
    "\n",
    "    def forward(self, x):\n",
    "        return self.model(x)\n",
    "\n",
    "    @train\n",
    "    def train_batch(self, batch):\n",
    "        x, y = batch\n",
    "        _y = self.forward(x)\n",
    "        loss = self.loss_fn(_y, y.long())\n",
    "        return {\"loss\": loss}\n",
    "\n",
    "    @validate\n",
    "    def validate_batch(self, batch=None, dl=None):\n",
    "        if dl is not None:\n",
    "            output = []\n",
    "            for batch in dl:\n",
    "                output.extend(self.predict(batch=batch)[\"val_acc\"])\n",
    "            return np.mean(output)\n",
    "        x, y = batch\n",
    "        _y = self.forward(x)\n",
    "        loss = self.loss_fn(_y, y.long())\n",
    "        acc = (y == _y.max(-1)[1]).float().mean()\n",
    "        return {\"val_loss\": loss, \"val_acc\": acc}\n",
    "\n",
    "    @predict\n",
    "    def predict(self, batch=None, dl=None):\n",
    "        if dl is not None:\n",
    "            output = []\n",
    "            for batch in dl:\n",
    "                output.extend(self.predict(batch=batch))\n",
    "            return output\n",
    "        x, y = batch\n",
    "        _y = self.forward(x)\n",
    "        o = _y.max(-1)[1].cpu().detach().numpy().tolist()\n",
    "        return o"
   ]
  },
  {
   "cell_type": "markdown",
   "metadata": {},
   "source": [
    "We could now create the model..."
   ]
  },
  {
   "cell_type": "code",
   "execution_count": 8,
   "metadata": {},
   "outputs": [],
   "source": [
    "model = IrisModel()\n",
    "model.device = \"cpu\""
   ]
  },
  {
   "cell_type": "markdown",
   "metadata": {},
   "source": [
    "... and run `model.fit` with an optional number of logs to print to the console"
   ]
  },
  {
   "cell_type": "code",
   "execution_count": 9,
   "metadata": {},
   "outputs": [
    {
     "name": "stdout",
     "output_type": "stream",
     "text": [
      "EPOCH: 1.000\tloss: 1.351\tval_loss: 1.403\tval_acc: 0.344\t(0.69s - 67.83s remaining)\n",
      "EPOCH: 50.000\tloss: 0.608\tval_loss: 0.524\tval_acc: 1.000\t(2.86s - 2.86s remaining)\n",
      "EPOCH: 100.000\tloss: 0.265\tval_loss: 0.174\tval_acc: 1.000\t(3.28s - 0.00s remaining)\n"
     ]
    },
    {
     "data": {
      "image/png": "[encoded data removed]",
      "text/plain": [
       "<Figure size 576x432 with 1 Axes>"
      ]
     },
     "metadata": {
      "needs_background": "light"
     },
     "output_type": "display_data"
    }
   ],
   "source": [
    "model.fit(trn_dl, val_dl, num_epochs=100, print_total=2, device=\"cpu\")"
   ]
  },
  {
   "cell_type": "markdown",
   "metadata": {},
   "source": [
    "`model.evaluate` accepts a validation data loader that will repeatedly call `validate_batch` and return aggregated metrics"
   ]
  },
  {
   "cell_type": "code",
   "execution_count": 10,
   "metadata": {},
   "outputs": [
    {
     "name": "stdout",
     "output_type": "stream",
     "text": [
      "EPOCH: 1.000\tval_loss: 0.177\tval_acc: 1.000\t(0.01s - 0.00s remaining)\n"
     ]
    },
    {
     "data": {
      "text/plain": [
       "{'val_loss': 0.1768618, 'val_acc': 1.0}"
      ]
     },
     "execution_count": 10,
     "metadata": {},
     "output_type": "execute_result"
    }
   ],
   "source": [
    "model.evaluate(val_dl, device=\"cpu\")"
   ]
  }
 ],
 "metadata": {
  "kernelspec": {
   "display_name": "Python 3.6.9 64-bit",
   "language": "python",
   "name": "python3"
  },
  "language_info": {
   "codemirror_mode": {
    "name": "ipython",
    "version": 3
   },
   "file_extension": ".py",
   "mimetype": "text/x-python",
   "name": "python",
   "nbconvert_exporter": "python",
   "pygments_lexer": "ipython3",
   "version": "3.8.15"
  },
  "orig_nbformat": 4,
  "vscode": {
   "interpreter": {
    "hash": "31f2aee4e71d21fbe5cf8b01ff0e069b9275f58929596ceb00d14d90e3e16cd6"
   }
  }
 },
 "nbformat": 4,
 "nbformat_minor": 2
}
