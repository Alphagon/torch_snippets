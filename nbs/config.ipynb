{
 "cells": [
  {
   "cell_type": "code",
   "execution_count": 2,
   "metadata": {},
   "outputs": [],
   "source": [
    "# | default_exp trainer.config"
   ]
  },
  {
   "cell_type": "code",
   "execution_count": 3,
   "metadata": {},
   "outputs": [],
   "source": [
    "# | export\n",
    "from torch_snippets.registry import parse\n",
    "from torch_snippets import store_attr, ifnone\n",
    "import inspect as inspect_builtin"
   ]
  },
  {
   "cell_type": "code",
   "execution_count": 61,
   "metadata": {},
   "outputs": [],
   "source": [
    "# | export\n",
    "class DeepLearningConfig:\n",
    "    \"\"\"\n",
    "    A configuration class for deep learning models.\n",
    "\n",
    "    This class provides methods to access and manipulate configuration settings.\n",
    "\n",
    "    Attributes:\n",
    "        input_variables (list): List of input variables defined in the class constructor.\n",
    "\n",
    "    Methods:\n",
    "        keys(): Returns the list of input variables.\n",
    "        __getitem__(key): Returns the value of the specified key.\n",
    "        __contains__(key): Checks if the specified key is present in the input variables.\n",
    "        from_ini_file(filepath, config_root=None): Creates an instance of the class from an INI file.\n",
    "        __repr__(): Returns a string representation of the class.\n",
    "\n",
    "    Example usage:\n",
    "        config = DeepLearningConfig()\n",
    "        config.from_ini_file('config.ini')\n",
    "        print(config.keys())\n",
    "        print(config['learning_rate'])\n",
    "    \"\"\"\n",
    "\n",
    "    def keys(self):\n",
    "        if not hasattr(self, \"input_variables\"):\n",
    "            self.input_variables = inspect_builtin.signature(\n",
    "                self.__init__\n",
    "            ).parameters.keys()\n",
    "        return self.input_variables\n",
    "\n",
    "    def __getitem__(self, key):\n",
    "        return getattr(self, key)\n",
    "\n",
    "    def __contains__(self, key):\n",
    "        return key in self.input_variables\n",
    "\n",
    "    @classmethod\n",
    "    def from_ini_file(cls, filepath, *, config_root=None):\n",
    "        config = parse(filepath)\n",
    "        config_root = ifnone(config_root, getattr(cls, \"config_root\"))\n",
    "        if config_root is not None:\n",
    "            for _root in config_root.split(\".\"):\n",
    "                config = config[_root]\n",
    "        return cls(**config)\n",
    "\n",
    "    def __repr__(self):\n",
    "        return f\"{self.__class__.__name__}:\\n\" + str({**self})"
   ]
  },
  {
   "cell_type": "code",
   "execution_count": 62,
   "metadata": {},
   "outputs": [
    {
     "name": "stdout",
     "output_type": "stream",
     "text": [
      "MNIST(\n",
      "  (model): Sequential(\n",
      "    (0): Linear(in_features=768, out_features=256, bias=True)\n",
      "    (1): Sequential(\n",
      "      (0): Linear(in_features=256, out_features=256, bias=True)\n",
      "      (1): ReLU()\n",
      "    )\n",
      "    (2): Sequential(\n",
      "      (0): Linear(in_features=256, out_features=256, bias=True)\n",
      "      (1): ReLU()\n",
      "    )\n",
      "    (3): Linear(in_features=256, out_features=10, bias=True)\n",
      "  )\n",
      ")\n"
     ]
    }
   ],
   "source": [
    "from torch_snippets.registry import parse_string\n",
    "from torch_snippets.torch_loader import *\n",
    "from torch_snippets import writelines"
   ]
  },
  {
   "cell_type": "code",
   "execution_count": null,
   "metadata": {},
   "outputs": [],
   "source": [
    "config_str = \"\"\"\n",
    "[META]\n",
    "experiment = mnist.v1\n",
    "description = Training MLP with \n",
    "    mnist data on 10k images only\n",
    "    using huggingface trainer and \n",
    "    cosine annealing\n",
    "\n",
    "[ModelConfig]\n",
    "n_layers = 3\n",
    "n_hidden = 256\n",
    "n_classes = 10\n",
    "\n",
    "[DatasetConfig]\n",
    "root = /home/datasets/mnist\n",
    "train = ${root}/train\n",
    "val = ${root}/val\n",
    "train_subset = 10000\n",
    "val_subest = ${train_subset}//10\n",
    "\n",
    "[TrainingConfig]\n",
    "max_steps = ${DatasetConfig.train_subset} * 5\n",
    "learning_rate = 3e-4\n",
    "output_dir = ./results/${META.experiment}\n",
    "per_device_train_batch_size = 256\n",
    "per_device_eval_batch_size = ${per_device_train_batch_size}\n",
    "evaluation_strategy = \"steps\"\n",
    "eval_steps = 500\n",
    "logging_strategy = ${evaluation_strategy}\n",
    "logging_steps = ${eval_steps}//100\n",
    "save_strategy = ${evaluation_strategy}\n",
    "save_steps = ${eval_steps}\n",
    "save_total_limit = 1\n",
    "seed = 1234\n",
    "label_names = ['targets']\n",
    "lr_scheduler_type = cosine\n",
    "\"\"\".strip()\n",
    "\n",
    "config = parse_string(config_str)\n",
    "\n",
    "\n",
    "class MNIST(nn.Module):\n",
    "    def __init__(self, config):\n",
    "        super().__init__()\n",
    "        self.model = nn.Sequential(\n",
    "            nn.Linear(768, config.n_hidden),\n",
    "            *[\n",
    "                nn.Sequential(nn.Linear(config.n_hidden, config.n_hidden), nn.ReLU())\n",
    "                for _ in range(config.n_layers - 1)\n",
    "            ],\n",
    "            nn.Linear(config.n_hidden, config.n_classes)\n",
    "        )\n",
    "\n",
    "    def forward(self, images):\n",
    "        ...\n",
    "\n",
    "\n",
    "model = MNIST(config.ModelConfig)\n",
    "print(model)"
   ]
  },
  {
   "cell_type": "markdown",
   "metadata": {},
   "source": [
    "If needed, configs can be unpacked like a dictionary too"
   ]
  },
  {
   "cell_type": "code",
   "execution_count": 63,
   "metadata": {},
   "outputs": [
    {
     "name": "stdout",
     "output_type": "stream",
     "text": [
      "MNIST(\n",
      "  (model): Sequential(\n",
      "    (0): Linear(in_features=768, out_features=256, bias=True)\n",
      "    (1): Sequential(\n",
      "      (0): Linear(in_features=256, out_features=256, bias=True)\n",
      "      (1): ReLU()\n",
      "    )\n",
      "    (2): Sequential(\n",
      "      (0): Linear(in_features=256, out_features=256, bias=True)\n",
      "      (1): ReLU()\n",
      "    )\n",
      "    (3): Linear(in_features=256, out_features=10, bias=True)\n",
      "  )\n",
      ")\n"
     ]
    }
   ],
   "source": [
    "class MNIST(nn.Module):\n",
    "    \"\"\"\n",
    "    A PyTorch module for a multi-layer perceptron (MLP) model for MNIST classification.\n",
    "\n",
    "    Args:\n",
    "        n_hidden (int): The number of hidden units in each hidden layer.\n",
    "        n_classes (int): The number of output classes.\n",
    "        n_layers (int): The number of hidden layers in the model.\n",
    "\n",
    "    Attributes:\n",
    "        model (nn.Sequential): The sequential model that represents the MLP.\n",
    "\n",
    "    \"\"\"\n",
    "\n",
    "    def __init__(self, *, n_hidden, n_classes, n_layers):\n",
    "        super().__init__()\n",
    "        self.model = nn.Sequential(\n",
    "            nn.Linear(768, n_hidden),\n",
    "            *[\n",
    "                nn.Sequential(nn.Linear(n_hidden, n_hidden), nn.ReLU())\n",
    "                for _ in range(n_layers - 1)\n",
    "            ],\n",
    "            nn.Linear(n_hidden, n_classes)\n",
    "        )\n",
    "\n",
    "    def forward(self, images):\n",
    "        ...\n",
    "\n",
    "\n",
    "model = MNIST(**config.ModelConfig)\n",
    "print(model)"
   ]
  },
  {
   "cell_type": "code",
   "execution_count": 71,
   "metadata": {},
   "outputs": [],
   "source": [
    "# | export\n",
    "class GenericConfig(DeepLearningConfig):\n",
    "    def __init__(self, **kwargs):\n",
    "        super().__init__()\n",
    "        for k, v in kwargs.items():\n",
    "            setattr(self, k, v)\n",
    "        self.input_variables = kwargs.keys()\n",
    "\n",
    "    @classmethod\n",
    "    def from_ini_file(cls, filepath, *, config_root):\n",
    "        config = parse(filepath)\n",
    "        for _root in config_root.split(\".\"):\n",
    "            config = config[_root]\n",
    "        # convert string type to list type\n",
    "        return cls(**config)"
   ]
  },
  {
   "cell_type": "markdown",
   "metadata": {},
   "source": [
    "GenericConfig is a special class that can have attributes solely based on the config file, i.e., when we are unsure what are the arguments in the config going to be"
   ]
  },
  {
   "cell_type": "code",
   "execution_count": 72,
   "metadata": {},
   "outputs": [
    {
     "name": "stdout",
     "output_type": "stream",
     "text": [
      "max_steps 50000\n",
      "learning_rate 0.00030000000000000003\n",
      "output_dir ./results/mnist.v1\n",
      "per_device_train_batch_size 256\n",
      "per_device_eval_batch_size 256\n",
      "evaluation_strategy steps\n",
      "eval_steps 500\n",
      "logging_strategy steps\n",
      "logging_steps 5\n",
      "save_strategy steps\n",
      "save_steps 500\n",
      "save_total_limit 1\n",
      "seed 1234\n",
      "label_names ['targets']\n",
      "lr_scheduler_type cosine\n"
     ]
    }
   ],
   "source": [
    "writelines(config_str.split(\"\\n\"), \"/tmp/tmp.ini\", \"w\")\n",
    "training_config = GenericConfig.from_ini_file(\n",
    "    \"/tmp/tmp.ini\", config_root=\"TrainingConfig\"\n",
    ")\n",
    "\n",
    "\n",
    "def train(**kwargs):\n",
    "    for k, v in kwargs.items():\n",
    "        print(k, v)\n",
    "\n",
    "\n",
    "train(**training_config)"
   ]
  },
  {
   "cell_type": "code",
   "execution_count": null,
   "metadata": {},
   "outputs": [],
   "source": []
  }
 ],
 "metadata": {
  "kernelspec": {
   "display_name": "mdm",
   "language": "python",
   "name": "python3"
  },
  "language_info": {
   "codemirror_mode": {
    "name": "ipython",
    "version": 3
   },
   "file_extension": ".py",
   "mimetype": "text/x-python",
   "name": "python",
   "nbconvert_exporter": "python",
   "pygments_lexer": "ipython3",
   "version": "3.8.15"
  },
  "orig_nbformat": 4
 },
 "nbformat": 4,
 "nbformat_minor": 2
}
