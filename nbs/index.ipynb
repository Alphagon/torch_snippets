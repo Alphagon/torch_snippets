{
 "cells": [
  {
   "cell_type": "markdown",
   "metadata": {},
   "source": [
    "# Utilities for simple needs"
   ]
  },
  {
   "cell_type": "markdown",
   "metadata": {},
   "source": [
    "## Auxiliary Functions\n",
    "There are simple functions that are overloaded to take inputs and perform repetitive tasks that usually take a few lines to write\n",
    "\n",
    "#### Images\n",
    "`show`, `inspect`, `Glob`, `read`, `resize`, `rotate`\n",
    "\n",
    "#### Files and Paths\n",
    "`stem`, `Glob`, `parent`, `name`, `fname`,\n",
    "\n",
    "\n",
    "`makedir`, `zip_files`, `unzip_file`,   \n",
    "\n",
    "\n",
    "`find`, `extn`,  \n",
    "\n",
    "\n",
    "`readlines`, `writelines`\n",
    "\n",
    "#### Lists\n",
    "`L`, `flatten`\n",
    "\n",
    "#### Dump and load python objects\n",
    "`loaddill`,`dumpdill`\n",
    "\n",
    "#### Misc \n",
    "`Tqdm`, `Timer`, `randint`, `Logger`\n",
    "\n",
    "#### Sets\n",
    "`unique`, `diff`, `choose`, `common`\n",
    "\n",
    "#### Pytorch Modules\n",
    "`Reshape` and `Permute` (`nn.Modules`)\n",
    "\n",
    "#### Report as Pytorch Lightning Callback\n",
    "`LightningReport`\n",
    "\n",
    "and many more to come... \n",
    "\n",
    "## Install\n",
    "`pip install torch_snippets`\n",
    "\n",
    "## Usage\n",
    "```python\n",
    "import pytorch_snippets\n",
    "dir(pytorch_snippets)\n",
    "```\n"
   ]
  },
  {
   "cell_type": "code",
   "execution_count": null,
   "metadata": {},
   "outputs": [],
   "source": []
  }
 ],
 "metadata": {
  "kernelspec": {
   "display_name": "Python 3",
   "language": "python",
   "name": "python3"
  },
  "language_info": {
   "codemirror_mode": {
    "name": "ipython",
    "version": 3
   },
   "file_extension": ".py",
   "mimetype": "text/x-python",
   "name": "python",
   "nbconvert_exporter": "python",
   "pygments_lexer": "ipython3",
   "version": "3.7.4"
  }
 },
 "nbformat": 4,
 "nbformat_minor": 4
}
