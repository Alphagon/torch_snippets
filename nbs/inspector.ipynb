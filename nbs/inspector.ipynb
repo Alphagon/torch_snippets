{
 "cells": [
  {
   "cell_type": "markdown",
   "metadata": {},
   "source": [
    "# Inspect Containers (Recursively)"
   ]
  },
  {
   "cell_type": "code",
   "execution_count": 1,
   "metadata": {},
   "outputs": [],
   "source": [
    "# default_exp inspector"
   ]
  },
  {
   "cell_type": "code",
   "execution_count": null,
   "metadata": {},
   "outputs": [],
   "source": [
    "# export\n",
    "from torch_snippets.loader import *\n",
    "from torch_snippets.registry import AttrDict\n",
    "\n",
    "\n",
    "def inspect(*arrays, **kwargs):\n",
    "    \"\"\"\n",
    "    shows shape, min, max and mean of an array/list/dict of oreys\n",
    "    Usage:\n",
    "    >>> inspect(arr1, arr2, arr3, [arr4,arr5,arr6], arr7, [arr8, arr9],...)\n",
    "    where every `arr` is  assume to have a .shape, .min, .max and .mean methods\n",
    "    \"\"\"\n",
    "    depth = kwargs.pop(\"depth\", 0)\n",
    "    names = kwargs.pop(\"names\", None)\n",
    "\n",
    "    if names is not None:\n",
    "        if \",\" in names:\n",
    "            names = names.split(\",\")\n",
    "        assert len(names) == len(\n",
    "            arrays\n",
    "        ), \"Give as many names as there are tensors to inspect\"\n",
    "\n",
    "    for ix, arr in enumerate(arrays):\n",
    "        name = \"\\t\" * depth\n",
    "        name = (\n",
    "            name + f\"{names[ix].upper().strip()}:\\n\" + name\n",
    "            if names is not None\n",
    "            else name\n",
    "        )\n",
    "        name = name\n",
    "        typ = type(arr).__name__\n",
    "\n",
    "        if isinstance(arr, AttrDict) and (AttrDict not in kwargs.get(\"suppress\", [])):\n",
    "            arr = arr.to_dict()\n",
    "            inspect(arr, depth=depth + 1, **kwargs)\n",
    "\n",
    "        elif isinstance(arr, (L, list, tuple)):\n",
    "            if arr == []:\n",
    "                print(\"»[]\")\n",
    "            else:\n",
    "                print(f\"{name}{typ} Of {len(arr)} items\")\n",
    "                inspect(*arr[: kwargs.get(\"max_items\", 5)], depth=depth + 1, **kwargs)\n",
    "                if len(arr) > kwargs.get(\"max_items\", 5):\n",
    "                    print(\n",
    "                        \"\\t\" * (depth + 1)\n",
    "                        + f\"and ... ... {len(arr) - kwargs.get('max_items', 5)} more item(s)\"\n",
    "                    )\n",
    "\n",
    "        elif isinstance(arr, dict) and (dict not in kwargs.get(\"suppress\", [])):\n",
    "            print(f\"{name}Dict Of {len(arr)} items\")\n",
    "            for ix, (k, v) in enumerate(arr.items()):\n",
    "                inspect(v, depth=depth + 1, names=[k])\n",
    "                if ix == kwargs.get(\"max_items\", 5) - 1:\n",
    "                    break\n",
    "\n",
    "            if len(arr) > kwargs.get(\"max_items\", 5):\n",
    "                print(\n",
    "                    \"\\t\" * (depth)\n",
    "                    + f\"... ... {len(arr) - kwargs.get('max_items', 5)} more item(s)\"\n",
    "                )\n",
    "\n",
    "        elif isinstance(arr, pd.DataFrame):\n",
    "            print(f\"{name}{typ}\\tShape: {arr.shape}\")\n",
    "\n",
    "        elif hasattr(arr, \"shape\"):\n",
    "            sh, m, M, dtype = arr.shape, arr.min(), arr.max(), arr.dtype\n",
    "            try:\n",
    "                me = arr.mean()\n",
    "            except:\n",
    "                me = arr.float().mean()\n",
    "            print(\n",
    "                f\"{name}{typ}\\tShape: {sh}\\tMin: {m:.3f}\\tMax: {M:.3f}\\tMean: {me:.3f}\\tdtype: {dtype}\"\n",
    "            )\n",
    "\n",
    "        elif isinstance(arr, str):\n",
    "            if len(arr) > 50:\n",
    "                arr = arr[:25] + \"...\" + arr[-25:]\n",
    "            print(f\"{name}{typ} `{arr}`\")\n",
    "        else:\n",
    "            try:\n",
    "                ln = len(arr)\n",
    "                print(f\"{name}{typ} Length: {ln}\")\n",
    "            except:\n",
    "                print(f\"{name}{typ}: {arr}\")\n"
   ]
  }
 ],
 "metadata": {
  "interpreter": {
   "hash": "0a92af74ccf65e106ae96852a45a9b0a5e11a3c414a16fc8bb2d134868e55bfd"
  },
  "kernelspec": {
   "display_name": "Python 3.9.9 ('base')",
   "language": "python",
   "name": "python3"
  },
  "language_info": {
   "codemirror_mode": {
    "name": "ipython",
    "version": 3
   },
   "file_extension": ".py",
   "mimetype": "text/x-python",
   "name": "python",
   "nbconvert_exporter": "python",
   "pygments_lexer": "ipython3",
   "version": "3.9.9"
  },
  "orig_nbformat": 4
 },
 "nbformat": 4,
 "nbformat_minor": 2
}
