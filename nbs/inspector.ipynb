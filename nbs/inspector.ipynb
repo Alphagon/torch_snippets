{
 "cells": [
  {
   "cell_type": "markdown",
   "metadata": {},
   "source": [
    "# Inspect\n",
    "> View statistics of tensors and other python containers"
   ]
  },
  {
   "cell_type": "code",
   "execution_count": 2,
   "metadata": {},
   "outputs": [],
   "source": [
    "# | default_exp inspector"
   ]
  },
  {
   "cell_type": "code",
   "execution_count": 3,
   "metadata": {},
   "outputs": [],
   "source": [
    "# | export\n",
    "# | hide\n",
    "from torch_snippets.loader import *\n",
    "from torch_snippets.registry import AttrDict"
   ]
  },
  {
   "cell_type": "code",
   "execution_count": 4,
   "metadata": {},
   "outputs": [],
   "source": [
    "# | export\n",
    "# | hide\n",
    "def inspect(*arrays, **kwargs):\n",
    "    \"\"\"\n",
    "    shows shape, min, max and mean of an array/list/dict of oreys\n",
    "    Usage:\n",
    "    inspect(arr1, arr2, arr3, [arr4,arr5,arr6], arr7, [arr8, arr9],...)\n",
    "    where every `arr` is  assume to have a .shape, .min, .max and .mean methods\n",
    "    \"\"\"\n",
    "    depth = kwargs.pop(\"depth\", 0)\n",
    "    names = kwargs.pop(\"names\", None)\n",
    "\n",
    "    if names is not None:\n",
    "        if \",\" in names:\n",
    "            names = names.split(\",\")\n",
    "        assert len(names) == len(\n",
    "            arrays\n",
    "        ), \"Give as many names as there are tensors to inspect\"\n",
    "    if depth == 0:\n",
    "        line()\n",
    "    for ix, arr in enumerate(arrays):\n",
    "        name = \"\\t\" * depth\n",
    "        name = (\n",
    "            name + f\"{names[ix].upper().strip()}:\\n\" + name\n",
    "            if names is not None\n",
    "            else name\n",
    "        )\n",
    "        name = name\n",
    "        typ = type(arr).__name__\n",
    "\n",
    "        if isinstance(arr, AttrDict) and (AttrDict not in kwargs.get(\"suppress\", [])):\n",
    "            arr = arr.to_dict()\n",
    "            inspect(arr, depth=depth + 1, **kwargs)\n",
    "\n",
    "        elif isinstance(arr, (L, list, tuple)):\n",
    "            print(f\"{name}{typ} of {len(arr)} items\")\n",
    "            inspect(*arr[: kwargs.get(\"max_items\", 5)], depth=depth + 1, **kwargs)\n",
    "            if len(arr) > kwargs.get(\"max_items\", 5):\n",
    "                print(\n",
    "                    \"\\t\" * (depth + 1)\n",
    "                    + f\"and ... ... {len(arr) - kwargs.get('max_items', 5)} more item(s)\"\n",
    "                )\n",
    "\n",
    "        elif (\n",
    "            isinstance(arr, dict) and (dict not in kwargs.get(\"suppress\", []))\n",
    "        ) or hasattr(arr, \"dict\"):\n",
    "            if hasattr(arr, \"dict\"):\n",
    "                arr = dcopy(arr).dict()\n",
    "            print(f\"{name}{typ} of {len(arr)} items\")\n",
    "            for ix, (k, v) in enumerate(arr.items()):\n",
    "                inspect(v, depth=depth + 1, names=[k])\n",
    "                if ix == kwargs.get(\"max_items\", 5) - 1:\n",
    "                    break\n",
    "\n",
    "            if len(arr) > kwargs.get(\"max_items\", 5):\n",
    "                print(\n",
    "                    \"\\t\" * (depth)\n",
    "                    + f\"... ... {len(arr) - kwargs.get('max_items', 5)} more item(s)\"\n",
    "                )\n",
    "\n",
    "        elif isinstance(arr, pd.DataFrame):\n",
    "            print(f\"{name}{typ}\\tShape: {arr.shape}\")\n",
    "\n",
    "        elif isinstance(arr, BB):\n",
    "            info = f\"{name}{typ}\\t{arr}\"\n",
    "\n",
    "        elif hasattr(arr, \"shape\"):\n",
    "            if isinstance(arr, torch.Tensor):\n",
    "                info = arr\n",
    "            else:\n",
    "                sh, m, M, dtype = arr.shape, arr.min(), arr.max(), arr.dtype\n",
    "                try:\n",
    "                    me = arr.mean()\n",
    "                except:\n",
    "                    me = arr.float().mean()\n",
    "                info = f\"{name}{typ}\\tShape: {sh}\\tMin: {m:.3f}\\tMax: {M:.3f}\\tMean: {me:.3f}\\tdtype: {dtype}\"\n",
    "                if hasattr(arr, \"device\"):\n",
    "                    info += f\" @ {arr.device}\"\n",
    "            print(info)\n",
    "\n",
    "        elif isinstance(arr, str):\n",
    "            if len(arr) > 50:\n",
    "                arr = arr[:25] + \"...\" + arr[-25:]\n",
    "            print(f\"{name}{typ} `{arr}`\")\n",
    "        else:\n",
    "            try:\n",
    "                ln = len(arr)\n",
    "                print(f\"{name}{typ} Length: {ln}\")\n",
    "            except:\n",
    "                print(f\"{name}{typ}: {arr}\")\n",
    "        if depth == 0:\n",
    "            line()"
   ]
  },
  {
   "cell_type": "code",
   "execution_count": null,
   "metadata": {},
   "outputs": [
    {
     "data": {
      "text/html": [
       "<pre style=\"white-space:pre;overflow-x:auto;line-height:normal;font-family:Menlo,'DejaVu Sans Mono',consolas,'Courier New',monospace\">══════════════════════════════════════════════════════════════════\n",
       "</pre>\n"
      ],
      "text/plain": [
       "══════════════════════════════════════════════════════════════════\n"
      ]
     },
     "metadata": {},
     "output_type": "display_data"
    },
    {
     "data": {
      "text/html": [
       "<pre style=\"white-space:pre;overflow-x:auto;line-height:normal;font-family:Menlo,'DejaVu Sans Mono',consolas,'Courier New',monospace\">Tensor  Shape: <span style=\"color: #800080; text-decoration-color: #800080; font-weight: bold\">torch.Size</span><span style=\"font-weight: bold\">([</span><span style=\"color: #008080; text-decoration-color: #008080; font-weight: bold\">4</span>, <span style=\"color: #008080; text-decoration-color: #008080; font-weight: bold\">3</span>, <span style=\"color: #008080; text-decoration-color: #008080; font-weight: bold\">5</span><span style=\"font-weight: bold\">])</span>    Min: <span style=\"color: #008080; text-decoration-color: #008080; font-weight: bold\">2.000</span>      Max: <span style=\"color: #008080; text-decoration-color: #008080; font-weight: bold\">97.000</span>     Mean: <span style=\"color: #008080; text-decoration-color: #008080; font-weight: bold\">46.317</span>    dtype: torch.int64 @ cpu\n",
       "</pre>\n"
      ],
      "text/plain": [
       "Tensor  Shape: \u001b[1;35mtorch.Size\u001b[0m\u001b[1m(\u001b[0m\u001b[1m[\u001b[0m\u001b[1;36m4\u001b[0m, \u001b[1;36m3\u001b[0m, \u001b[1;36m5\u001b[0m\u001b[1m]\u001b[0m\u001b[1m)\u001b[0m    Min: \u001b[1;36m2.000\u001b[0m      Max: \u001b[1;36m97.000\u001b[0m     Mean: \u001b[1;36m46.317\u001b[0m    dtype: torch.int64 @ cpu\n"
      ]
     },
     "metadata": {},
     "output_type": "display_data"
    },
    {
     "data": {
      "text/html": [
       "<pre style=\"white-space:pre;overflow-x:auto;line-height:normal;font-family:Menlo,'DejaVu Sans Mono',consolas,'Courier New',monospace\">══════════════════════════════════════════════════════════════════\n",
       "</pre>\n"
      ],
      "text/plain": [
       "══════════════════════════════════════════════════════════════════\n"
      ]
     },
     "metadata": {},
     "output_type": "display_data"
    },
    {
     "data": {
      "text/html": [
       "<pre style=\"white-space:pre;overflow-x:auto;line-height:normal;font-family:Menlo,'DejaVu Sans Mono',consolas,'Courier New',monospace\">ndarray Shape: <span style=\"font-weight: bold\">(</span><span style=\"color: #008080; text-decoration-color: #008080; font-weight: bold\">9</span>, <span style=\"color: #008080; text-decoration-color: #008080; font-weight: bold\">19</span>, <span style=\"color: #008080; text-decoration-color: #008080; font-weight: bold\">1</span><span style=\"font-weight: bold\">)</span>       Min: <span style=\"color: #008080; text-decoration-color: #008080; font-weight: bold\">-10.000</span>    Max: <span style=\"color: #008080; text-decoration-color: #008080; font-weight: bold\">9.000</span>      Mean: <span style=\"color: #008080; text-decoration-color: #008080; font-weight: bold\">-0.345</span>    dtype: int64\n",
       "</pre>\n"
      ],
      "text/plain": [
       "ndarray Shape: \u001b[1m(\u001b[0m\u001b[1;36m9\u001b[0m, \u001b[1;36m19\u001b[0m, \u001b[1;36m1\u001b[0m\u001b[1m)\u001b[0m       Min: \u001b[1;36m-10.000\u001b[0m    Max: \u001b[1;36m9.000\u001b[0m      Mean: \u001b[1;36m-0.345\u001b[0m    dtype: int64\n"
      ]
     },
     "metadata": {},
     "output_type": "display_data"
    },
    {
     "data": {
      "text/html": [
       "<pre style=\"white-space:pre;overflow-x:auto;line-height:normal;font-family:Menlo,'DejaVu Sans Mono',consolas,'Courier New',monospace\">══════════════════════════════════════════════════════════════════\n",
       "</pre>\n"
      ],
      "text/plain": [
       "══════════════════════════════════════════════════════════════════\n"
      ]
     },
     "metadata": {},
     "output_type": "display_data"
    }
   ],
   "source": [
    "import torch, numpy as np\n",
    "from torch_snippets import inspect\n",
    "\n",
    "inspect(torch.randint(0, 100, size=(4, 3, 5)), np.random.randint(-10, 10, (9, 19, 1)))"
   ]
  },
  {
   "cell_type": "code",
   "execution_count": 5,
   "metadata": {},
   "outputs": [
    {
     "data": {
      "text/html": [
       "<pre style=\"white-space:pre;overflow-x:auto;line-height:normal;font-family:Menlo,'DejaVu Sans Mono',consolas,'Courier New',monospace\">══════════════════════════════════════════════════════════════════\n",
       "</pre>\n"
      ],
      "text/plain": [
       "══════════════════════════════════════════════════════════════════\n"
      ]
     },
     "metadata": {},
     "output_type": "display_data"
    },
    {
     "data": {
      "text/html": [
       "<pre style=\"white-space:pre;overflow-x:auto;line-height:normal;font-family:Menlo,'DejaVu Sans Mono',consolas,'Courier New',monospace\">dict of <span style=\"color: #008080; text-decoration-color: #008080; font-weight: bold\">3</span> items\n",
       "</pre>\n"
      ],
      "text/plain": [
       "dict of \u001b[1;36m3\u001b[0m items\n"
      ]
     },
     "metadata": {},
     "output_type": "display_data"
    },
    {
     "data": {
      "text/html": [
       "<pre style=\"white-space:pre;overflow-x:auto;line-height:normal;font-family:Menlo,'DejaVu Sans Mono',consolas,'Courier New',monospace\">        A:\n",
       "        list of <span style=\"color: #008080; text-decoration-color: #008080; font-weight: bold\">4</span> items\n",
       "</pre>\n"
      ],
      "text/plain": [
       "        A:\n",
       "        list of \u001b[1;36m4\u001b[0m items\n"
      ]
     },
     "metadata": {},
     "output_type": "display_data"
    },
    {
     "data": {
      "text/html": [
       "<pre style=\"white-space:pre;overflow-x:auto;line-height:normal;font-family:Menlo,'DejaVu Sans Mono',consolas,'Courier New',monospace\">                int: <span style=\"color: #008080; text-decoration-color: #008080; font-weight: bold\">0</span>\n",
       "</pre>\n"
      ],
      "text/plain": [
       "                int: \u001b[1;36m0\u001b[0m\n"
      ]
     },
     "metadata": {},
     "output_type": "display_data"
    },
    {
     "data": {
      "text/html": [
       "<pre style=\"white-space:pre;overflow-x:auto;line-height:normal;font-family:Menlo,'DejaVu Sans Mono',consolas,'Courier New',monospace\">                int: <span style=\"color: #008080; text-decoration-color: #008080; font-weight: bold\">1</span>\n",
       "</pre>\n"
      ],
      "text/plain": [
       "                int: \u001b[1;36m1\u001b[0m\n"
      ]
     },
     "metadata": {},
     "output_type": "display_data"
    },
    {
     "data": {
      "text/html": [
       "<pre style=\"white-space:pre;overflow-x:auto;line-height:normal;font-family:Menlo,'DejaVu Sans Mono',consolas,'Courier New',monospace\">                int: <span style=\"color: #008080; text-decoration-color: #008080; font-weight: bold\">2</span>\n",
       "</pre>\n"
      ],
      "text/plain": [
       "                int: \u001b[1;36m2\u001b[0m\n"
      ]
     },
     "metadata": {},
     "output_type": "display_data"
    },
    {
     "data": {
      "text/html": [
       "<pre style=\"white-space:pre;overflow-x:auto;line-height:normal;font-family:Menlo,'DejaVu Sans Mono',consolas,'Courier New',monospace\">                int: <span style=\"color: #008080; text-decoration-color: #008080; font-weight: bold\">3</span>\n",
       "</pre>\n"
      ],
      "text/plain": [
       "                int: \u001b[1;36m3\u001b[0m\n"
      ]
     },
     "metadata": {},
     "output_type": "display_data"
    },
    {
     "data": {
      "text/html": [
       "<pre style=\"white-space:pre;overflow-x:auto;line-height:normal;font-family:Menlo,'DejaVu Sans Mono',consolas,'Courier New',monospace\">        B:\n",
       "        Tensor  Shape: <span style=\"color: #800080; text-decoration-color: #800080; font-weight: bold\">torch.Size</span><span style=\"font-weight: bold\">([</span><span style=\"color: #008080; text-decoration-color: #008080; font-weight: bold\">10</span>, <span style=\"color: #008080; text-decoration-color: #008080; font-weight: bold\">10</span><span style=\"font-weight: bold\">])</span>     Min: <span style=\"color: #008080; text-decoration-color: #008080; font-weight: bold\">0.000</span>      Max: <span style=\"color: #008080; text-decoration-color: #008080; font-weight: bold\">0.989</span>      Mean: <span style=\"color: #008080; text-decoration-color: #008080; font-weight: bold\">0.463</span>     dtype: \n",
       "torch.float32 @ cpu\n",
       "</pre>\n"
      ],
      "text/plain": [
       "        B:\n",
       "        Tensor  Shape: \u001b[1;35mtorch.Size\u001b[0m\u001b[1m(\u001b[0m\u001b[1m[\u001b[0m\u001b[1;36m10\u001b[0m, \u001b[1;36m10\u001b[0m\u001b[1m]\u001b[0m\u001b[1m)\u001b[0m     Min: \u001b[1;36m0.000\u001b[0m      Max: \u001b[1;36m0.989\u001b[0m      Mean: \u001b[1;36m0.463\u001b[0m     dtype: \n",
       "torch.float32 @ cpu\n"
      ]
     },
     "metadata": {},
     "output_type": "display_data"
    },
    {
     "data": {
      "text/html": [
       "<pre style=\"white-space:pre;overflow-x:auto;line-height:normal;font-family:Menlo,'DejaVu Sans Mono',consolas,'Courier New',monospace\">        C:\n",
       "        dict of <span style=\"color: #008080; text-decoration-color: #008080; font-weight: bold\">2</span> items\n",
       "</pre>\n"
      ],
      "text/plain": [
       "        C:\n",
       "        dict of \u001b[1;36m2\u001b[0m items\n"
      ]
     },
     "metadata": {},
     "output_type": "display_data"
    },
    {
     "data": {
      "text/html": [
       "<pre style=\"white-space:pre;overflow-x:auto;line-height:normal;font-family:Menlo,'DejaVu Sans Mono',consolas,'Courier New',monospace\">                D:\n",
       "                ndarray Shape: <span style=\"font-weight: bold\">(</span><span style=\"color: #008080; text-decoration-color: #008080; font-weight: bold\">10</span>,<span style=\"font-weight: bold\">)</span>    Min: <span style=\"color: #008080; text-decoration-color: #008080; font-weight: bold\">0.000</span>      Max: <span style=\"color: #008080; text-decoration-color: #008080; font-weight: bold\">9.000</span>      Mean: <span style=\"color: #008080; text-decoration-color: #008080; font-weight: bold\">4.500</span>     dtype: int64\n",
       "</pre>\n"
      ],
      "text/plain": [
       "                D:\n",
       "                ndarray Shape: \u001b[1m(\u001b[0m\u001b[1;36m10\u001b[0m,\u001b[1m)\u001b[0m    Min: \u001b[1;36m0.000\u001b[0m      Max: \u001b[1;36m9.000\u001b[0m      Mean: \u001b[1;36m4.500\u001b[0m     dtype: int64\n"
      ]
     },
     "metadata": {},
     "output_type": "display_data"
    },
    {
     "data": {
      "text/html": [
       "<pre style=\"white-space:pre;overflow-x:auto;line-height:normal;font-family:Menlo,'DejaVu Sans Mono',consolas,'Courier New',monospace\">                E:\n",
       "                list of <span style=\"color: #008080; text-decoration-color: #008080; font-weight: bold\">6</span> items\n",
       "</pre>\n"
      ],
      "text/plain": [
       "                E:\n",
       "                list of \u001b[1;36m6\u001b[0m items\n"
      ]
     },
     "metadata": {},
     "output_type": "display_data"
    },
    {
     "data": {
      "text/html": [
       "<pre style=\"white-space:pre;overflow-x:auto;line-height:normal;font-family:Menlo,'DejaVu Sans Mono',consolas,'Courier New',monospace\">                        str `np.arange`\n",
       "</pre>\n"
      ],
      "text/plain": [
       "                        str `np.arange`\n"
      ]
     },
     "metadata": {},
     "output_type": "display_data"
    },
    {
     "data": {
      "text/html": [
       "<pre style=\"white-space:pre;overflow-x:auto;line-height:normal;font-family:Menlo,'DejaVu Sans Mono',consolas,'Courier New',monospace\">                        dict of <span style=\"color: #008080; text-decoration-color: #008080; font-weight: bold\">0</span> items\n",
       "</pre>\n"
      ],
      "text/plain": [
       "                        dict of \u001b[1;36m0\u001b[0m items\n"
      ]
     },
     "metadata": {},
     "output_type": "display_data"
    },
    {
     "data": {
      "text/html": [
       "<pre style=\"white-space:pre;overflow-x:auto;line-height:normal;font-family:Menlo,'DejaVu Sans Mono',consolas,'Courier New',monospace\">                        tuple of <span style=\"color: #008080; text-decoration-color: #008080; font-weight: bold\">2</span> items\n",
       "</pre>\n"
      ],
      "text/plain": [
       "                        tuple of \u001b[1;36m2\u001b[0m items\n"
      ]
     },
     "metadata": {},
     "output_type": "display_data"
    },
    {
     "data": {
      "text/html": [
       "<pre style=\"white-space:pre;overflow-x:auto;line-height:normal;font-family:Menlo,'DejaVu Sans Mono',consolas,'Courier New',monospace\">                                int: <span style=\"color: #008080; text-decoration-color: #008080; font-weight: bold\">1</span>\n",
       "</pre>\n"
      ],
      "text/plain": [
       "                                int: \u001b[1;36m1\u001b[0m\n"
      ]
     },
     "metadata": {},
     "output_type": "display_data"
    },
    {
     "data": {
      "text/html": [
       "<pre style=\"white-space:pre;overflow-x:auto;line-height:normal;font-family:Menlo,'DejaVu Sans Mono',consolas,'Courier New',monospace\">                                int: <span style=\"color: #008080; text-decoration-color: #008080; font-weight: bold\">2</span>\n",
       "</pre>\n"
      ],
      "text/plain": [
       "                                int: \u001b[1;36m2\u001b[0m\n"
      ]
     },
     "metadata": {},
     "output_type": "display_data"
    },
    {
     "data": {
      "text/html": [
       "<pre style=\"white-space:pre;overflow-x:auto;line-height:normal;font-family:Menlo,'DejaVu Sans Mono',consolas,'Courier New',monospace\">                        set Length: <span style=\"color: #008080; text-decoration-color: #008080; font-weight: bold\">3</span>\n",
       "</pre>\n"
      ],
      "text/plain": [
       "                        set Length: \u001b[1;36m3\u001b[0m\n"
      ]
     },
     "metadata": {},
     "output_type": "display_data"
    },
    {
     "data": {
      "text/html": [
       "<pre style=\"white-space:pre;overflow-x:auto;line-height:normal;font-family:Menlo,'DejaVu Sans Mono',consolas,'Courier New',monospace\">                        list of <span style=\"color: #008080; text-decoration-color: #008080; font-weight: bold\">0</span> items\n",
       "</pre>\n"
      ],
      "text/plain": [
       "                        list of \u001b[1;36m0\u001b[0m items\n"
      ]
     },
     "metadata": {},
     "output_type": "display_data"
    },
    {
     "data": {
      "text/html": [
       "<pre style=\"white-space:pre;overflow-x:auto;line-height:normal;font-family:Menlo,'DejaVu Sans Mono',consolas,'Courier New',monospace\">                        and <span style=\"color: #808000; text-decoration-color: #808000\">...</span> <span style=\"color: #808000; text-decoration-color: #808000\">...</span> <span style=\"color: #008080; text-decoration-color: #008080; font-weight: bold\">1</span> more <span style=\"color: #800080; text-decoration-color: #800080; font-weight: bold\">item</span><span style=\"font-weight: bold\">(</span>s<span style=\"font-weight: bold\">)</span>\n",
       "</pre>\n"
      ],
      "text/plain": [
       "                        and \u001b[33m...\u001b[0m \u001b[33m...\u001b[0m \u001b[1;36m1\u001b[0m more \u001b[1;35mitem\u001b[0m\u001b[1m(\u001b[0ms\u001b[1m)\u001b[0m\n"
      ]
     },
     "metadata": {},
     "output_type": "display_data"
    },
    {
     "data": {
      "text/html": [
       "<pre style=\"white-space:pre;overflow-x:auto;line-height:normal;font-family:Menlo,'DejaVu Sans Mono',consolas,'Courier New',monospace\">══════════════════════════════════════════════════════════════════\n",
       "</pre>\n"
      ],
      "text/plain": [
       "══════════════════════════════════════════════════════════════════\n"
      ]
     },
     "metadata": {},
     "output_type": "display_data"
    }
   ],
   "source": [
    "x = {\n",
    "    \"a\": [0, 1, 2, 3],\n",
    "    \"b\": torch.rand(10, 10),\n",
    "    \"c\": {\n",
    "        \"d\": np.arange(10),\n",
    "        \"e\": [\n",
    "            \"np.arange\",\n",
    "            {},\n",
    "            tuple(\n",
    "                [\n",
    "                    1,\n",
    "                    2,\n",
    "                ]\n",
    "            ),\n",
    "            set([1, 2, 3]),\n",
    "            [],\n",
    "            [11, 10],\n",
    "        ],\n",
    "    },\n",
    "}\n",
    "inspect(x)"
   ]
  }
 ],
 "metadata": {
  "interpreter": {
   "hash": "0a92af74ccf65e106ae96852a45a9b0a5e11a3c414a16fc8bb2d134868e55bfd"
  },
  "kernelspec": {
   "display_name": "Python 3.9.9 ('base')",
   "language": "python",
   "name": "python3"
  },
  "language_info": {
   "codemirror_mode": {
    "name": "ipython",
    "version": 3
   },
   "file_extension": ".py",
   "mimetype": "text/x-python",
   "name": "python",
   "nbconvert_exporter": "python",
   "pygments_lexer": "ipython3",
   "version": "3.9.9"
  }
 },
 "nbformat": 4,
 "nbformat_minor": 2
}
