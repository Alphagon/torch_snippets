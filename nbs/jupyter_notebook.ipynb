{
 "cells": [
  {
   "cell_type": "raw",
   "metadata": {},
   "source": [
    "# Jupyter\n",
    "Check if a code is running in jupyter or not\n",
    "---\n",
    "{}\n",
    "\n",
    "---\n",
    "\n"
   ]
  },
  {
   "cell_type": "code",
   "execution_count": null,
   "metadata": {},
   "outputs": [],
   "source": [
    "#| default_exp ipython"
   ]
  },
  {
   "cell_type": "code",
   "execution_count": 8,
   "metadata": {},
   "outputs": [],
   "source": [
    "#| export\n",
    "#| hide\n",
    "import importlib\n",
    "import os, sys, json, time, hashlib\n",
    "from IPython.display import display, Javascript\n",
    "import nbformat\n",
    "from nbconvert import HTMLExporter\n",
    "from torch_snippets.paths import stems, Glob\n",
    "from torch_snippets.markup import read_json, writelines, makedir\n",
    "from torch_snippets.logger import Info"
   ]
  },
  {
   "cell_type": "code",
   "execution_count": null,
   "metadata": {},
   "outputs": [],
   "source": [
    "#| export\n",
    "def is_in_notebook():\n",
    "    try:\n",
    "        # Test adapted from tqdm.autonotebook: https://github.com/tqdm/tqdm/blob/master/tqdm/autonotebook.py\n",
    "        get_ipython = sys.modules[\"IPython\"].get_ipython\n",
    "        if \"IPKernelApp\" not in get_ipython().config:\n",
    "            raise ImportError(\"console\")\n",
    "\n",
    "        return importlib.util.find_spec(\"IPython\") is not None\n",
    "    except (AttributeError, ImportError, KeyError):\n",
    "        return False"
   ]
  },
  {
   "cell_type": "code",
   "execution_count": null,
   "metadata": {},
   "outputs": [],
   "source": [
    "#| export\n",
    "\n",
    "def save_notebook(file_path):\n",
    "    start_md5 = hashlib.md5(open(file_path, \"rb\").read()).hexdigest()\n",
    "    display(Javascript(\"IPython.notebook.save_checkpoint();\"))\n",
    "    current_md5 = start_md5\n",
    "\n",
    "    while start_md5 == current_md5:\n",
    "        time.sleep(1)\n",
    "        current_md5 = hashlib.md5(open(file_path, \"rb\").read()).hexdigest()\n",
    "    Info(f\"Saved the notebook at {file_path}!\")\n",
    "\n",
    "\n",
    "def backup_this_notebook(this_file_path, save_html_to):\n",
    "    available_number = max([int(i) for i in stems(Glob(save_html_to))], default=-1) + 1\n",
    "    save_to =  f\"{save_html_to}/{available_number:04}.html\"\n",
    "    Info(f\"Backing up this version of notebook to {save_to}\")\n",
    "    save_notebook(this_file_path)\n",
    "    this_notebook = nbformat.reads(\n",
    "        json.dumps(read_json(this_file_path)),\n",
    "        as_version=4,\n",
    "    )\n",
    "\n",
    "    html_exporter = HTMLExporter(template_name=\"classic\")\n",
    "    (body, resources) = html_exporter.from_notebook_node(this_notebook)\n",
    "    makedir(save_html_to)\n",
    "    writelines([body], save_to)\n",
    "    Info(f\"Success!\")"
   ]
  }
 ],
 "metadata": {
  "kernelspec": {
   "display_name": "Python 3.9.9 ('base')",
   "language": "python",
   "name": "python3"
  },
  "language_info": {
   "codemirror_mode": {
    "name": "ipython",
    "version": 3
   },
   "file_extension": ".py",
   "mimetype": "text/x-python",
   "name": "python",
   "nbconvert_exporter": "python",
   "pygments_lexer": "ipython3",
   "version": "3.9.9"
  },
  "vscode": {
   "interpreter": {
    "hash": "0a92af74ccf65e106ae96852a45a9b0a5e11a3c414a16fc8bb2d134868e55bfd"
   }
  }
 },
 "nbformat": 4,
 "nbformat_minor": 2
}
