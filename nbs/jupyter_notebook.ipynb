{
 "cells": [
  {
   "cell_type": "code",
   "execution_count": null,
   "metadata": {},
   "outputs": [],
   "source": [
    "# default_exp ipython"
   ]
  },
  {
   "cell_type": "code",
   "execution_count": null,
   "metadata": {},
   "outputs": [],
   "source": [
    "# export\n",
    "\n",
    "import importlib\n",
    "import os, sys\n",
    "\n",
    "def is_in_notebook():\n",
    "    try:\n",
    "        # Test adapted from tqdm.autonotebook: https://github.com/tqdm/tqdm/blob/master/tqdm/autonotebook.py\n",
    "        get_ipython = sys.modules[\"IPython\"].get_ipython\n",
    "        if \"IPKernelApp\" not in get_ipython().config:\n",
    "            raise ImportError(\"console\")\n",
    "        if \"VSCODE_PID\" in os.environ:\n",
    "            raise ImportError(\"vscode\")\n",
    "        if (\n",
    "            \"DATABRICKS_RUNTIME_VERSION\" in os.environ\n",
    "            and os.environ[\"DATABRICKS_RUNTIME_VERSION\"] < \"11.0\"\n",
    "        ):\n",
    "            # Databricks Runtime 11.0 and above uses IPython kernel by default so it should be compatible with Jupyter notebook\n",
    "            # https://docs.microsoft.com/en-us/azure/databricks/notebooks/ipython-kernel\n",
    "            raise ImportError(\"databricks\")\n",
    "\n",
    "        return importlib.util.find_spec(\"IPython\") is not None\n",
    "    except (AttributeError, ImportError, KeyError):\n",
    "        return False\n"
   ]
  }
 ],
 "metadata": {
  "kernelspec": {
   "display_name": "Python 3.9.9 ('base')",
   "language": "python",
   "name": "python3"
  },
  "language_info": {
   "name": "python",
   "version": "3.9.9"
  },
  "orig_nbformat": 4,
  "vscode": {
   "interpreter": {
    "hash": "0a92af74ccf65e106ae96852a45a9b0a5e11a3c414a16fc8bb2d134868e55bfd"
   }
  }
 },
 "nbformat": 4,
 "nbformat_minor": 2
}
