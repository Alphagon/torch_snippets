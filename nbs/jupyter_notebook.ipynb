{
 "cells": [
  {
   "cell_type": "code",
   "execution_count": null,
   "metadata": {},
   "outputs": [],
   "source": [
    "# default_exp ipython"
   ]
  },
  {
   "cell_type": "code",
   "execution_count": 8,
   "metadata": {},
   "outputs": [],
   "source": [
    "# export\n",
    "\n",
    "import importlib\n",
    "import os, sys\n",
    "\n",
    "def is_in_notebook():\n",
    "    try:\n",
    "        # Test adapted from tqdm.autonotebook: https://github.com/tqdm/tqdm/blob/master/tqdm/autonotebook.py\n",
    "        get_ipython = sys.modules[\"IPython\"].get_ipython\n",
    "        if \"IPKernelApp\" not in get_ipython().config:\n",
    "            raise ImportError(\"console\")\n",
    "\n",
    "        return importlib.util.find_spec(\"IPython\") is not None\n",
    "    except (AttributeError, ImportError, KeyError):\n",
    "        return False"
   ]
  },
  {
   "cell_type": "code",
   "execution_count": null,
   "metadata": {},
   "outputs": [],
   "source": []
  }
 ],
 "metadata": {
  "kernelspec": {
   "display_name": "Python 3.9.9 ('base')",
   "language": "python",
   "name": "python3"
  },
  "language_info": {
   "codemirror_mode": {
    "name": "ipython",
    "version": 3
   },
   "file_extension": ".py",
   "mimetype": "text/x-python",
   "name": "python",
   "nbconvert_exporter": "python",
   "pygments_lexer": "ipython3",
   "version": "3.9.9"
  },
  "vscode": {
   "interpreter": {
    "hash": "0a92af74ccf65e106ae96852a45a9b0a5e11a3c414a16fc8bb2d134868e55bfd"
   }
  }
 },
 "nbformat": 4,
 "nbformat_minor": 2
}
