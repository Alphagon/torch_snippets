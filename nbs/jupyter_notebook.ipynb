{
 "cells": [
  {
   "attachments": {},
   "cell_type": "markdown",
   "metadata": {},
   "source": [
    "# Jupyter Notebooks\n",
    "> Utilities specific to jupyter"
   ]
  },
  {
   "cell_type": "code",
   "execution_count": null,
   "metadata": {},
   "outputs": [],
   "source": [
    "# | default_exp ipython"
   ]
  },
  {
   "cell_type": "code",
   "execution_count": 8,
   "metadata": {},
   "outputs": [],
   "source": [
    "# | export\n",
    "# | hide\n",
    "\n",
    "import os, sys, json, time, hashlib\n",
    "from IPython.display import display, Javascript, display_html, Markdown\n",
    "import nbformat\n",
    "from nbconvert import HTMLExporter\n",
    "from torch_snippets.paths import stems, Glob, parent, P, stem, dumpdill\n",
    "from torch_snippets.markup import read_json, writelines, makedir\n",
    "from torch_snippets.logger import Info, Warn\n",
    "from torch_snippets.loader import show, pd, is_in_notebook\n",
    "from itertools import chain, cycle\n",
    "from IPython.utils.capture import capture_output\n",
    "from contextlib import contextmanager"
   ]
  },
  {
   "cell_type": "code",
   "execution_count": null,
   "metadata": {},
   "outputs": [],
   "source": [
    "# | export"
   ]
  },
  {
   "cell_type": "code",
   "execution_count": null,
   "metadata": {},
   "outputs": [],
   "source": [
    "# | export\n",
    "\n",
    "\n",
    "def save_notebook(file_path):\n",
    "    start_md5 = hashlib.md5(open(file_path, \"rb\").read()).hexdigest()\n",
    "    display(Javascript(\"IPython.notebook.save_checkpoint();\"))\n",
    "    current_md5 = start_md5\n",
    "\n",
    "    while start_md5 == current_md5:\n",
    "        time.sleep(1)\n",
    "        current_md5 = hashlib.md5(open(file_path, \"rb\").read()).hexdigest()\n",
    "    Info(f\"Saved the notebook at {file_path}!\")\n",
    "\n",
    "\n",
    "def backup_this_notebook(\n",
    "    this_file_path,\n",
    "    save_html_to_dir=None,\n",
    "    override_previous_backup=False,\n",
    "    changelog=None,\n",
    "    exclude_input=False,\n",
    "    force_save_notebook=True,\n",
    "):\n",
    "    if save_html_to_dir is None:\n",
    "        save_html_to_dir = (\n",
    "            parent(P(this_file_path)).resolve() / f\"backups/{stem(this_file_path)}\"\n",
    "        )\n",
    "        files = [f for f in stems(save_html_to_dir) if f.split(\"__\")[-1].isdigit()]\n",
    "        available_number = max([int(i.split(\"__\")[-1]) for i in files], default=-1) + 1\n",
    "        save_to = (\n",
    "            f\"{save_html_to_dir}/{stem(this_file_path)}__{available_number:04}.html\"\n",
    "        )\n",
    "        if override_previous_backup:\n",
    "            if available_number != 0:\n",
    "                available_number -= 1\n",
    "            if (\n",
    "                input(\n",
    "                    f\"Are you sure you want to override `{save_html_to_dir}/{stem(this_file_path)}__{available_number:04}.html` ? [y/n]\"\n",
    "                ).lower()\n",
    "                != \"y\"\n",
    "            ):\n",
    "                raise ValueError(\"Aborting\")\n",
    "            save_to = (\n",
    "                f\"{save_html_to_dir}/{stem(this_file_path)}__{available_number:04}.html\"\n",
    "            )\n",
    "    else:\n",
    "        save_to = f\"{save_html_to_dir}/{stem(this_file_path)}.html\"\n",
    "        force_save_notebook = False\n",
    "    makedir(parent(save_to))\n",
    "    Info(f\"Backing up this version of notebook to {save_to}\")\n",
    "    if force_save_notebook:\n",
    "        save_notebook(this_file_path)\n",
    "    this_notebook = nbformat.reads(\n",
    "        json.dumps(read_json(this_file_path)),\n",
    "        as_version=4,\n",
    "    )\n",
    "\n",
    "    html_exporter = HTMLExporter(template_name=\"classic\")\n",
    "    if exclude_input:\n",
    "        html_exporter.exclude_input = True\n",
    "    (body, resources) = html_exporter.from_notebook_node(this_notebook)\n",
    "    writelines([body], save_to, mode=\"w\")\n",
    "    if changelog is None:\n",
    "        Warn(\n",
    "            \"Use `changelog` argument to the devs know what is important in the backup\"\n",
    "        )\n",
    "        changelog = \"\"\n",
    "    changelog_file = P(save_html_to_dir) / \"changelog.md\"\n",
    "    changelog_file.touch()\n",
    "    changelog = f\"\\n## {stem(save_to)}\\n{changelog}\"\n",
    "    changelog_file.write_lines(changelog.split(\"\\n\"), mode=\"a+\")\n",
    "    Info(f\"Success! Visit {changelog_file} for detailed changes\")\n",
    "    return save_to\n",
    "\n",
    "\n",
    "def backup_all_notebooks(folder):\n",
    "    all_notebooks = P(folder).Glob(\"*.ipynb\")\n",
    "    for notebook in all_notebooks:\n",
    "        backup_this_notebook(notebook, force_save_notebook=False)\n",
    "\n",
    "\n",
    "def backup_folders_of_nbs(src, dest):\n",
    "    if os.path.exists(dest):\n",
    "        P(dest).rmtree()\n",
    "    all_notebooks = Glob(f\"{src}/*/*.ipynb\")\n",
    "    for nb in all_notebooks:\n",
    "        _dest = f\"{dest}/{parent(nb)}\"\n",
    "        backup_this_notebook(nb, _dest)\n",
    "    for f in Glob(f\"{dest}/*/changelog.md\"):\n",
    "        f.rm(confirm_prompt=False)"
   ]
  },
  {
   "cell_type": "code",
   "execution_count": null,
   "metadata": {},
   "outputs": [],
   "source": [
    "backup_this_notebook(\"jupyter_notebook.ipynb\")"
   ]
  },
  {
   "cell_type": "code",
   "execution_count": null,
   "metadata": {},
   "outputs": [],
   "source": [
    "# | export\n",
    "\n",
    "\n",
    "def display_dfs_side_by_side(*args, titles=cycle([\"\"]), max_rows=50):\n",
    "    html_str = \"\"\n",
    "    for df, title in zip(args, chain(titles, cycle([\"</br>\"]))):\n",
    "        html_str += '<th style=\"text-align:center\"><td style=\"vertical-align:top\">'\n",
    "        html_str += f'<h2 style=\"text-align: center;\">{title}</h2>'\n",
    "        html_str += df.to_html(max_rows=max_rows).replace(\n",
    "            \"table\", 'table style=\"display:inline\"'\n",
    "        )\n",
    "        html_str += \"</td></th>\"\n",
    "    display_html(html_str, raw=True)\n",
    "\n",
    "\n",
    "def show_big_dataframe(df, max_rows=30):\n",
    "    with pd.option_context(\n",
    "        \"display.max_columns\",\n",
    "        1000,\n",
    "        \"display.max_colwidth\",\n",
    "        1000,\n",
    "        \"display.max_rows\",\n",
    "        max_rows,\n",
    "    ):\n",
    "        show(df, max_rows=max_rows)"
   ]
  },
  {
   "cell_type": "code",
   "execution_count": null,
   "metadata": {},
   "outputs": [],
   "source": [
    "# | export\n",
    "\n",
    "\n",
    "def h1(text):\n",
    "    show(Markdown(f\"## {text}\"))\n",
    "\n",
    "\n",
    "def h2(text):\n",
    "    show(Markdown(f\"## {text}\"))\n",
    "\n",
    "\n",
    "def h3(text):\n",
    "    show(Markdown(f\"### {text}\"))\n",
    "\n",
    "\n",
    "def h4(text):\n",
    "    show(Markdown(f\"#### {text}\"))\n",
    "\n",
    "\n",
    "def h5(text):\n",
    "    show(Markdown(f\"##### {text}\"))\n",
    "\n",
    "\n",
    "def h6(text):\n",
    "    show(Markdown(f\"###### {text}\"))"
   ]
  },
  {
   "cell_type": "code",
   "execution_count": null,
   "metadata": {},
   "outputs": [],
   "source": [
    "# | export\n",
    "\n",
    "\n",
    "@contextmanager\n",
    "def store_scrap(at):\n",
    "    with capture_output() as scrap:\n",
    "        yield scrap\n",
    "    dumpdill(\n",
    "        scrap,\n",
    "        at,\n",
    "        message='Stored scrap at {fpath} as a dill file.\\nUse loaddill(\"{fpath}\").show()',\n",
    "    )\n",
    "    return scrap"
   ]
  },
  {
   "cell_type": "code",
   "execution_count": null,
   "metadata": {},
   "outputs": [],
   "source": [
    "# | export\n",
    "\n",
    "\n",
    "# Function to shut down the current notebook session\n",
    "def shutdown_current_notebook(delay: int = None):\n",
    "    if delay:\n",
    "        time.sleep(delay)\n",
    "    os.kill(os.getpid(), 9)"
   ]
  }
 ],
 "metadata": {
  "kernelspec": {
   "display_name": "Python 3.9.9 ('base')",
   "language": "python",
   "name": "python3"
  },
  "language_info": {
   "codemirror_mode": {
    "name": "ipython",
    "version": 3
   },
   "file_extension": ".py",
   "mimetype": "text/x-python",
   "name": "python",
   "nbconvert_exporter": "python",
   "pygments_lexer": "ipython3",
   "version": "3.9.9"
  },
  "vscode": {
   "interpreter": {
    "hash": "0a92af74ccf65e106ae96852a45a9b0a5e11a3c414a16fc8bb2d134868e55bfd"
   }
  }
 },
 "nbformat": 4,
 "nbformat_minor": 2
}
