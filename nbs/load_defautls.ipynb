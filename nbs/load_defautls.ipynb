{
 "cells": [
  {
   "cell_type": "raw",
   "metadata": {},
   "source": [
    "# File Exists\n",
    "and what to do if it doesn't\n",
    "---\n",
    "{}\n",
    "---\n",
    "\n"
   ]
  },
  {
   "cell_type": "code",
   "execution_count": 1,
   "metadata": {},
   "outputs": [],
   "source": [
    "#| default_exp load_defaults"
   ]
  },
  {
   "cell_type": "code",
   "execution_count": null,
   "metadata": {},
   "outputs": [],
   "source": [
    "#| export\n",
    "#| hide\n",
    "from torch_snippets.loader import os\n",
    "from torch_snippets.paths import loaddill\n",
    "\n",
    "from fastcore.basics import ifnone"
   ]
  },
  {
   "cell_type": "code",
   "execution_count": null,
   "metadata": {},
   "outputs": [],
   "source": [
    "#| export\n",
    "ifnone = ifnone\n",
    "\n",
    "def exists(fpath):\n",
    "    \"\"\"Alias for `os.path.exists`\"\"\"\n",
    "    return os.path.exists(fpath)\n",
    "\n",
    "def loadifexists(fpath, default):\n",
    "    \"\"\"Load data from a `dill` file if it exists, else return default value \"\"\"\n",
    "    if exists(fpath):\n",
    "        return loaddill(fpath)\n",
    "    else:\n",
    "        return default"
   ]
  }
 ],
 "metadata": {
  "kernelspec": {
   "display_name": "Python 3.9.9 ('base')",
   "language": "python",
   "name": "python3"
  },
  "language_info": {
   "codemirror_mode": {
    "name": "ipython",
    "version": 3
   },
   "file_extension": ".py",
   "mimetype": "text/x-python",
   "name": "python",
   "nbconvert_exporter": "python",
   "pygments_lexer": "ipython3",
   "version": "3.9.9"
  },
  "orig_nbformat": 4,
  "vscode": {
   "interpreter": {
    "hash": "0a92af74ccf65e106ae96852a45a9b0a5e11a3c414a16fc8bb2d134868e55bfd"
   }
  }
 },
 "nbformat": 4,
 "nbformat_minor": 2
}
