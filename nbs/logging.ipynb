{
 "cells": [
  {
   "cell_type": "markdown",
   "metadata": {},
   "source": [
    "# Rich Logging and Printing"
   ]
  },
  {
   "cell_type": "code",
   "execution_count": 1,
   "metadata": {
    "execution": {
     "iopub.execute_input": "2021-03-18T12:11:31.070561Z",
     "iopub.status.busy": "2021-03-18T12:11:31.070295Z",
     "iopub.status.idle": "2021-03-18T12:11:31.073810Z",
     "shell.execute_reply": "2021-03-18T12:11:31.072836Z",
     "shell.execute_reply.started": "2021-03-18T12:11:31.070531Z"
    }
   },
   "outputs": [],
   "source": [
    "# default_exp logger"
   ]
  },
  {
   "cell_type": "code",
   "execution_count": 2,
   "metadata": {
    "execution": {
     "iopub.execute_input": "2021-03-18T12:11:31.075543Z",
     "iopub.status.busy": "2021-03-18T12:11:31.075281Z",
     "iopub.status.idle": "2021-03-18T12:11:31.137968Z",
     "shell.execute_reply": "2021-03-18T12:11:31.136841Z",
     "shell.execute_reply.started": "2021-03-18T12:11:31.075516Z"
    }
   },
   "outputs": [],
   "source": [
    "# export\n",
    "from rich.console import Console\n",
    "from rich.theme import Theme\n",
    "console = Console(theme=Theme({\n",
    "    \"repr.number\": \"bold cyan\",\n",
    "    \"repr.string\": \"bold green\",\n",
    "    \"logging.level.info\": \"dim yellow\",\n",
    "    \"logging.level.warning\": \"dim red\",\n",
    "    \"logging.level.exception\": \"bold red\"\n",
    "}))\n",
    "\n",
    "print = console.print"
   ]
  },
  {
   "cell_type": "code",
   "execution_count": 3,
   "metadata": {
    "execution": {
     "iopub.execute_input": "2021-03-18T12:11:31.141225Z",
     "iopub.status.busy": "2021-03-18T12:11:31.140782Z",
     "iopub.status.idle": "2021-03-18T12:11:31.164461Z",
     "shell.execute_reply": "2021-03-18T12:11:31.163142Z",
     "shell.execute_reply.started": "2021-03-18T12:11:31.141186Z"
    }
   },
   "outputs": [
    {
     "data": {
      "text/html": [
       "<pre style=\"white-space:pre;overflow-x:auto;line-height:normal;font-family:Menlo,'DejaVu Sans Mono',consolas,'Courier New',monospace\">The Number is <span style=\"color: #008080; text-decoration-color: #008080; font-weight: bold\">128</span>\n",
       "</pre>\n"
      ],
      "text/plain": [
       "<rich.jupyter.JupyterRenderable at 0x7f9f57eb5f90>"
      ]
     },
     "metadata": {},
     "output_type": "display_data"
    },
    {
     "data": {
      "text/html": [
       "<pre style=\"white-space:pre;overflow-x:auto;line-height:normal;font-family:Menlo,'DejaVu Sans Mono',consolas,'Courier New',monospace\"><span style=\"font-weight: bold\">{</span><span style=\"color: #008000; text-decoration-color: #008000\">'a'</span>: <span style=\"color: #008080; text-decoration-color: #008080; font-weight: bold\">1</span>, <span style=\"color: #008000; text-decoration-color: #008000\">'b'</span>: <span style=\"font-weight: bold\">[{</span><span style=\"color: #008080; text-decoration-color: #008080; font-weight: bold\">1</span>, <span style=\"color: #008080; text-decoration-color: #008080; font-weight: bold\">2</span>, <span style=\"color: #008080; text-decoration-color: #008080; font-weight: bold\">3</span><span style=\"font-weight: bold\">}</span>, <span style=\"color: #008000; text-decoration-color: #008000\">'lskjdf'</span><span style=\"font-weight: bold\">]}</span>\n",
       "</pre>\n"
      ],
      "text/plain": [
       "<rich.jupyter.JupyterRenderable at 0x7f9f57eb5fd0>"
      ]
     },
     "metadata": {},
     "output_type": "display_data"
    }
   ],
   "source": [
    "print('The Number is 128')\n",
    "print({'a':1, 'b': [{1,2,3}, 'lskjdf', ]})"
   ]
  },
  {
   "cell_type": "code",
   "execution_count": 4,
   "metadata": {
    "execution": {
     "iopub.execute_input": "2021-03-18T12:11:31.167676Z",
     "iopub.status.busy": "2021-03-18T12:11:31.167048Z",
     "iopub.status.idle": "2021-03-18T12:11:31.231086Z",
     "shell.execute_reply": "2021-03-18T12:11:31.230166Z",
     "shell.execute_reply.started": "2021-03-18T12:11:31.167623Z"
    }
   },
   "outputs": [],
   "source": [
    "# export\n",
    "from loguru import logger\n",
    "from datetime import datetime\n",
    "from fastcore.basics import patch_to\n",
    "from rich.logging import RichHandler\n",
    "from pathlib import Path\n",
    "\n",
    "@patch_to(RichHandler)\n",
    "def render(\n",
    "    self,\n",
    "    *,\n",
    "    record,\n",
    "    traceback,\n",
    "    message_renderable: \"ConsoleRenderable\",\n",
    ") -> \"ConsoleRenderable\":\n",
    "    \"\"\"patched the renderer to print function name as well\n",
    "    \"\"\"\n",
    "    path = Path(record.pathname).name\n",
    "    level = self.get_level_text(record)\n",
    "    time_format = None if self.formatter is None else self.formatter.datefmt\n",
    "    log_time = datetime.fromtimestamp(record.created)\n",
    "\n",
    "    log_renderable = self._log_render(\n",
    "        self.console,\n",
    "        [message_renderable] if not traceback else [message_renderable, traceback],\n",
    "        log_time=log_time,\n",
    "        time_format=time_format,\n",
    "        level=level,\n",
    "        path=path,\n",
    "        line_no=f'{record.funcName}:{record.lineno}',\n",
    "        link_path=record.pathname if self.enable_link_path else None,\n",
    "    )\n",
    "    return log_renderable\n",
    "\n",
    "logger.configure(handlers=[{\n",
    "    \"sink\":RichHandler(rich_tracebacks=True, console=console),\n",
    "    \"format\":'<level>{message}</level>'}\n",
    "])\n",
    "\n",
    "logger = logger\n",
    "\n",
    "Info  = lambda x: logger.info(x)\n",
    "Warn  = lambda x: logger.warning(x)\n",
    "Debug = lambda x: logger.debug(x)\n",
    "Excep = lambda x: logger.exception(x)"
   ]
  },
  {
   "cell_type": "code",
   "execution_count": 5,
   "metadata": {
    "execution": {
     "iopub.execute_input": "2021-03-18T12:11:31.232558Z",
     "iopub.status.busy": "2021-03-18T12:11:31.232153Z",
     "iopub.status.idle": "2021-03-18T12:11:31.253542Z",
     "shell.execute_reply": "2021-03-18T12:11:31.252516Z",
     "shell.execute_reply.started": "2021-03-18T12:11:31.232525Z"
    }
   },
   "outputs": [
    {
     "data": {
      "text/html": [
       "<pre style=\"white-space:pre;overflow-x:auto;line-height:normal;font-family:Menlo,'DejaVu Sans Mono',consolas,'Courier New',monospace\"><span style=\"color: #7fbfbf; text-decoration-color: #7fbfbf\">[03/18/21 17:41:31] </span><span style=\"color: #008000; text-decoration-color: #008000\">DEBUG   </span> TESTING <span style=\"font-weight: bold\">{</span><span style=\"color: #008080; text-decoration-color: #008080; font-weight: bold\">1</span>,<span style=\"color: #008080; text-decoration-color: #008080; font-weight: bold\">2</span>,<span style=\"color: #008080; text-decoration-color: #008080; font-weight: bold\">3</span><span style=\"font-weight: bold\">}</span>        <a href=\"file://<ipython-input-5-9606d30aa11b>\"><span style=\"color: #7f7f7f; text-decoration-color: #7f7f7f\">&lt;ipython-input-5-9606d30aa11b&gt;</span></a><span style=\"color: #7f7f7f; text-decoration-color: #7f7f7f\">:&lt;module&gt;:1</span>\n",
       "</pre>\n"
      ],
      "text/plain": [
       "<rich.jupyter.JupyterRenderable at 0x7f9f5797a9d0>"
      ]
     },
     "metadata": {},
     "output_type": "display_data"
    },
    {
     "data": {
      "text/html": [
       "<pre style=\"white-space:pre;overflow-x:auto;line-height:normal;font-family:Menlo,'DejaVu Sans Mono',consolas,'Courier New',monospace\"><span style=\"color: #7fbfbf; text-decoration-color: #7fbfbf\">                    </span><span style=\"color: #bfbf7f; text-decoration-color: #bfbf7f\">INFO    </span> TESTING <span style=\"font-weight: bold\">{</span><span style=\"color: #008080; text-decoration-color: #008080; font-weight: bold\">1</span>,<span style=\"color: #008080; text-decoration-color: #008080; font-weight: bold\">2</span>,<span style=\"color: #008080; text-decoration-color: #008080; font-weight: bold\">3</span><span style=\"font-weight: bold\">}</span>        <a href=\"file://<ipython-input-5-9606d30aa11b>\"><span style=\"color: #7f7f7f; text-decoration-color: #7f7f7f\">&lt;ipython-input-5-9606d30aa11b&gt;</span></a><span style=\"color: #7f7f7f; text-decoration-color: #7f7f7f\">:&lt;module&gt;:2</span>\n",
       "</pre>\n"
      ],
      "text/plain": [
       "<rich.jupyter.JupyterRenderable at 0x7f9f5980f850>"
      ]
     },
     "metadata": {},
     "output_type": "display_data"
    },
    {
     "data": {
      "text/html": [
       "<pre style=\"white-space:pre;overflow-x:auto;line-height:normal;font-family:Menlo,'DejaVu Sans Mono',consolas,'Courier New',monospace\"><span style=\"color: #7fbfbf; text-decoration-color: #7fbfbf\">                    </span><span style=\"color: #bf7f7f; text-decoration-color: #bf7f7f\">WARNING </span> TESTING <span style=\"font-weight: bold\">{</span><span style=\"color: #008080; text-decoration-color: #008080; font-weight: bold\">1</span>,<span style=\"color: #008080; text-decoration-color: #008080; font-weight: bold\">2</span>,<span style=\"color: #008080; text-decoration-color: #008080; font-weight: bold\">3</span><span style=\"font-weight: bold\">}</span>        <a href=\"file://<ipython-input-5-9606d30aa11b>\"><span style=\"color: #7f7f7f; text-decoration-color: #7f7f7f\">&lt;ipython-input-5-9606d30aa11b&gt;</span></a><span style=\"color: #7f7f7f; text-decoration-color: #7f7f7f\">:&lt;module&gt;:3</span>\n",
       "</pre>\n"
      ],
      "text/plain": [
       "<rich.jupyter.JupyterRenderable at 0x7f9f5980f750>"
      ]
     },
     "metadata": {},
     "output_type": "display_data"
    },
    {
     "data": {
      "text/html": [
       "<pre style=\"white-space:pre;overflow-x:auto;line-height:normal;font-family:Menlo,'DejaVu Sans Mono',consolas,'Courier New',monospace\"><span style=\"color: #7fbfbf; text-decoration-color: #7fbfbf\">                    </span><span style=\"color: #800000; text-decoration-color: #800000; font-weight: bold\">ERROR   </span> TESTING <span style=\"font-weight: bold\">{</span><span style=\"color: #008080; text-decoration-color: #008080; font-weight: bold\">1</span>,<span style=\"color: #008080; text-decoration-color: #008080; font-weight: bold\">2</span>,<span style=\"color: #008080; text-decoration-color: #008080; font-weight: bold\">3</span><span style=\"font-weight: bold\">}</span>        <a href=\"file://<ipython-input-5-9606d30aa11b>\"><span style=\"color: #7f7f7f; text-decoration-color: #7f7f7f\">&lt;ipython-input-5-9606d30aa11b&gt;</span></a><span style=\"color: #7f7f7f; text-decoration-color: #7f7f7f\">:&lt;module&gt;:4</span>\n",
       "                             <span style=\"color: #800080; text-decoration-color: #800080; font-style: italic\">None</span>Type: <span style=\"color: #800080; text-decoration-color: #800080; font-style: italic\">None</span>                                                  \n",
       "                                                                                             \n",
       "                                                                                             \n",
       "</pre>\n"
      ],
      "text/plain": [
       "<rich.jupyter.JupyterRenderable at 0x7f9f5980fd10>"
      ]
     },
     "metadata": {},
     "output_type": "display_data"
    }
   ],
   "source": [
    "logger.debug('TESTING {1,2,3}')\n",
    "logger.info('TESTING {1,2,3}')\n",
    "logger.warning('TESTING {1,2,3}')\n",
    "logger.exception('TESTING {1,2,3}')\n"
   ]
  },
  {
   "cell_type": "code",
   "execution_count": null,
   "metadata": {},
   "outputs": [],
   "source": []
  }
 ],
 "metadata": {
  "kernelspec": {
   "display_name": "Python 3",
   "language": "python",
   "name": "python3"
  },
  "language_info": {
   "codemirror_mode": {
    "name": "ipython",
    "version": 3
   },
   "file_extension": ".py",
   "mimetype": "text/x-python",
   "name": "python",
   "nbconvert_exporter": "python",
   "pygments_lexer": "ipython3",
   "version": "3.7.4"
  }
 },
 "nbformat": 4,
 "nbformat_minor": 4
}
