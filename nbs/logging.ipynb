{
 "cells": [
  {
   "cell_type": "markdown",
   "metadata": {},
   "source": [
    "# Rich Logging and Printing"
   ]
  },
  {
   "cell_type": "code",
   "execution_count": 1,
   "metadata": {
    "execution": {
     "iopub.execute_input": "2021-05-27T14:09:58.719013Z",
     "iopub.status.busy": "2021-05-27T14:09:58.718706Z",
     "iopub.status.idle": "2021-05-27T14:09:58.722145Z",
     "shell.execute_reply": "2021-05-27T14:09:58.721368Z",
     "shell.execute_reply.started": "2021-05-27T14:09:58.718977Z"
    }
   },
   "outputs": [],
   "source": [
    "# default_exp logger"
   ]
  },
  {
   "cell_type": "code",
   "execution_count": 2,
   "metadata": {
    "execution": {
     "iopub.execute_input": "2021-05-27T14:09:58.724121Z",
     "iopub.status.busy": "2021-05-27T14:09:58.723852Z",
     "iopub.status.idle": "2021-05-27T14:09:58.773030Z",
     "shell.execute_reply": "2021-05-27T14:09:58.771756Z",
     "shell.execute_reply.started": "2021-05-27T14:09:58.724097Z"
    }
   },
   "outputs": [],
   "source": [
    "# export\n",
    "from rich.console import Console\n",
    "from rich.theme import Theme\n",
    "\n",
    "\n",
    "def get_console(width=None):\n",
    "    return Console(\n",
    "                width=width,\n",
    "                theme=Theme({\n",
    "                    \"repr.number\": \"bold cyan\",\n",
    "                    \"repr.string\": \"bold green\",\n",
    "                    \"logging.level.info\": \"dim yellow\",\n",
    "                    \"logging.level.warning\": \"dim red\",\n",
    "                    \"logging.level.exception\": \"bold red\"}\n",
    "                ),\n",
    "            )\n",
    "\n",
    "console = get_console()\n",
    "# print = console.print"
   ]
  },
  {
   "cell_type": "code",
   "execution_count": 3,
   "metadata": {
    "execution": {
     "iopub.execute_input": "2021-05-27T14:09:58.777125Z",
     "iopub.status.busy": "2021-05-27T14:09:58.776753Z",
     "iopub.status.idle": "2021-05-27T14:09:58.800753Z",
     "shell.execute_reply": "2021-05-27T14:09:58.799660Z",
     "shell.execute_reply.started": "2021-05-27T14:09:58.777092Z"
    }
   },
   "outputs": [
    {
     "data": {
      "text/html": [
       "<pre style=\"white-space:pre;overflow-x:auto;line-height:normal;font-family:Menlo,'DejaVu Sans Mono',consolas,'Courier New',monospace\">The Number is <span style=\"color: #008080; text-decoration-color: #008080; font-weight: bold\">128</span>\n",
       "</pre>\n"
      ],
      "text/plain": [
       "<rich.jupyter.JupyterRenderable at 0x7fdf23ab31d0>"
      ]
     },
     "metadata": {},
     "output_type": "display_data"
    },
    {
     "data": {
      "text/html": [
       "<pre style=\"white-space:pre;overflow-x:auto;line-height:normal;font-family:Menlo,'DejaVu Sans Mono',consolas,'Courier New',monospace\"><span style=\"font-weight: bold\">{</span>\n",
       "    <span style=\"color: #008000; text-decoration-color: #008000\">'a'</span>: <span style=\"color: #008080; text-decoration-color: #008080; font-weight: bold\">1</span>,\n",
       "    <span style=\"color: #008000; text-decoration-color: #008000\">'b'</span>: <span style=\"font-weight: bold\">[{</span><span style=\"color: #008080; text-decoration-color: #008080; font-weight: bold\">1</span>, <span style=\"color: #008080; text-decoration-color: #008080; font-weight: bold\">2</span>, <span style=\"color: #008080; text-decoration-color: #008080; font-weight: bold\">3</span><span style=\"font-weight: bold\">}</span>, <span style=\"color: #008000; text-decoration-color: #008000\">'lskjdf'</span><span style=\"font-weight: bold\">]</span>,\n",
       "    <span style=\"color: #008000; text-decoration-color: #008000\">'c'</span>: <span style=\"color: #008080; text-decoration-color: #008080; font-weight: bold\">1</span>,\n",
       "    <span style=\"color: #008000; text-decoration-color: #008000\">'d'</span>: <span style=\"font-weight: bold\">[{</span><span style=\"color: #008080; text-decoration-color: #008080; font-weight: bold\">1</span>, <span style=\"color: #008080; text-decoration-color: #008080; font-weight: bold\">2</span>, <span style=\"color: #008080; text-decoration-color: #008080; font-weight: bold\">3</span><span style=\"font-weight: bold\">}</span>, <span style=\"color: #008000; text-decoration-color: #008000\">'lskjdf'</span><span style=\"font-weight: bold\">]</span>,\n",
       "    <span style=\"color: #008000; text-decoration-color: #008000\">'ae'</span>: <span style=\"color: #008080; text-decoration-color: #008080; font-weight: bold\">1</span>,\n",
       "    <span style=\"color: #008000; text-decoration-color: #008000\">'bf'</span>: <span style=\"font-weight: bold\">[{</span><span style=\"color: #008080; text-decoration-color: #008080; font-weight: bold\">1</span>, <span style=\"color: #008080; text-decoration-color: #008080; font-weight: bold\">2</span>, <span style=\"color: #008080; text-decoration-color: #008080; font-weight: bold\">3</span><span style=\"font-weight: bold\">}</span>, <span style=\"color: #008000; text-decoration-color: #008000\">'lskjdf'</span><span style=\"font-weight: bold\">]</span>,\n",
       "    <span style=\"color: #008000; text-decoration-color: #008000\">'ag'</span>: <span style=\"color: #008080; text-decoration-color: #008080; font-weight: bold\">1</span>,\n",
       "    <span style=\"color: #008000; text-decoration-color: #008000\">'ba'</span>: <span style=\"font-weight: bold\">[{</span><span style=\"color: #008080; text-decoration-color: #008080; font-weight: bold\">1</span>, <span style=\"color: #008080; text-decoration-color: #008080; font-weight: bold\">2</span>, <span style=\"color: #008080; text-decoration-color: #008080; font-weight: bold\">3</span><span style=\"font-weight: bold\">}</span>, <span style=\"color: #008000; text-decoration-color: #008000\">'lskjdf'</span><span style=\"font-weight: bold\">]</span>\n",
       "<span style=\"font-weight: bold\">}</span>\n",
       "</pre>\n"
      ],
      "text/plain": [
       "<rich.jupyter.JupyterRenderable at 0x7fdf23ab0550>"
      ]
     },
     "metadata": {},
     "output_type": "display_data"
    }
   ],
   "source": [
    "print('The Number is 128')\n",
    "print({'a':1, 'b': [{1,2,3}, 'lskjdf', ], 'c':1, 'd': [{1,2,3}, 'lskjdf', ], 'ae':1, 'bf': [{1,2,3}, 'lskjdf', ], 'ag':1, 'ba': [{1,2,3}, 'lskjdf', ]})"
   ]
  },
  {
   "cell_type": "code",
   "execution_count": 4,
   "metadata": {
    "execution": {
     "iopub.execute_input": "2021-05-27T14:09:58.802989Z",
     "iopub.status.busy": "2021-05-27T14:09:58.802593Z",
     "iopub.status.idle": "2021-05-27T14:09:58.810427Z",
     "shell.execute_reply": "2021-05-27T14:09:58.809157Z",
     "shell.execute_reply.started": "2021-05-27T14:09:58.802953Z"
    }
   },
   "outputs": [
    {
     "data": {
      "text/html": [
       "<pre style=\"white-space:pre;overflow-x:auto;line-height:normal;font-family:Menlo,'DejaVu Sans Mono',consolas,'Courier New',monospace\">\\x86\n",
       "</pre>\n"
      ],
      "text/plain": [
       "<rich.jupyter.JupyterRenderable at 0x7fdf23ab0d10>"
      ]
     },
     "metadata": {},
     "output_type": "display_data"
    }
   ],
   "source": [
    "print(r'\\x86')"
   ]
  },
  {
   "cell_type": "code",
   "execution_count": 5,
   "metadata": {
    "execution": {
     "iopub.execute_input": "2021-05-27T14:09:58.812621Z",
     "iopub.status.busy": "2021-05-27T14:09:58.812306Z",
     "iopub.status.idle": "2021-05-27T14:09:58.859357Z",
     "shell.execute_reply": "2021-05-27T14:09:58.858448Z",
     "shell.execute_reply.started": "2021-05-27T14:09:58.812593Z"
    }
   },
   "outputs": [],
   "source": [
    "# export\n",
    "from loguru import logger\n",
    "from datetime import datetime\n",
    "from fastcore.basics import patch_to\n",
    "from rich.logging import RichHandler\n",
    "from pathlib import Path\n",
    "\n",
    "@patch_to(RichHandler)\n",
    "def render(\n",
    "    self,\n",
    "    *,\n",
    "    record,\n",
    "    traceback,\n",
    "    message_renderable: \"ConsoleRenderable\",\n",
    ") -> \"ConsoleRenderable\":\n",
    "    \"\"\"patched the renderer to print function name as well\n",
    "    \"\"\"\n",
    "    path = Path(record.pathname).name\n",
    "    level = self.get_level_text(record)\n",
    "    time_format = None if self.formatter is None else self.formatter.datefmt\n",
    "    log_time = datetime.fromtimestamp(record.created)\n",
    "\n",
    "    log_renderable = self._log_render(\n",
    "        self.console,\n",
    "        [message_renderable] if not traceback else [message_renderable, traceback],\n",
    "        log_time=log_time,\n",
    "        time_format=time_format,\n",
    "        level=level,\n",
    "        path=path,\n",
    "        line_no=f'{record.funcName}:{record.lineno}',\n",
    "        link_path=record.pathname if self.enable_link_path else None,\n",
    "    )\n",
    "    return log_renderable\n",
    "\n",
    "# logger.configure(handlers=[{\n",
    "#     \"sink\":RichHandler(rich_tracebacks=False, console=console),\n",
    "#     \"format\":'<level>{message}</level>',\n",
    "#     \"backtrace\": False\n",
    "# }])\n",
    "\n",
    "logger = logger\n",
    "\n",
    "Debug = lambda x: logger.opt(depth=1).log(\"DEBUG\", x)\n",
    "Info  = lambda x: logger.opt(depth=1).log(\"INFO\", x)\n",
    "Warn  = lambda x: logger.opt(depth=1).log(\"WARNING\", x)\n",
    "Excep = lambda x: logger.opt(depth=1).log(\"ERROR\", x)"
   ]
  },
  {
   "cell_type": "code",
   "execution_count": 6,
   "metadata": {
    "execution": {
     "iopub.execute_input": "2021-05-27T14:09:58.861049Z",
     "iopub.status.busy": "2021-05-27T14:09:58.860632Z",
     "iopub.status.idle": "2021-05-27T14:09:58.871605Z",
     "shell.execute_reply": "2021-05-27T14:09:58.870752Z",
     "shell.execute_reply.started": "2021-05-27T14:09:58.861015Z"
    }
   },
   "outputs": [
    {
     "name": "stderr",
     "output_type": "stream",
     "text": [
      "2021-05-27 19:39:58.862 | DEBUG    | __main__:<module>:1 - TESTING {1,2,3}\n",
      "2021-05-27 19:39:58.864 | INFO     | __main__:<module>:2 - TESTING {1,2,3}\n",
      "2021-05-27 19:39:58.865 | WARNING  | __main__:<module>:3 - TESTING {1,2,3}\n",
      "2021-05-27 19:39:58.867 | ERROR    | __main__:<module>:4 - TESTING {1,2,3}\n"
     ]
    }
   ],
   "source": [
    "Debug('TESTING {1,2,3}')\n",
    "Info('TESTING {1,2,3}')\n",
    "Warn('TESTING {1,2,3}')\n",
    "Excep('TESTING {1,2,3}')"
   ]
  },
  {
   "cell_type": "code",
   "execution_count": 7,
   "metadata": {
    "execution": {
     "iopub.execute_input": "2021-05-27T14:09:58.874003Z",
     "iopub.status.busy": "2021-05-27T14:09:58.873385Z",
     "iopub.status.idle": "2021-05-27T14:09:58.879678Z",
     "shell.execute_reply": "2021-05-27T14:09:58.877962Z",
     "shell.execute_reply.started": "2021-05-27T14:09:58.873961Z"
    }
   },
   "outputs": [],
   "source": [
    "# export\n",
    "def reset_logger_width(logger, width):\n",
    "    return\n",
    "    logger._core.handlers[1]._sink._handler.console = get_console(width=width)\n",
    "    logger.info(f'reset logger\\'s console width to {width}!')"
   ]
  },
  {
   "cell_type": "code",
   "execution_count": 8,
   "metadata": {
    "execution": {
     "iopub.execute_input": "2021-05-27T14:09:58.882103Z",
     "iopub.status.busy": "2021-05-27T14:09:58.881574Z",
     "iopub.status.idle": "2021-05-27T14:09:58.888407Z",
     "shell.execute_reply": "2021-05-27T14:09:58.887265Z",
     "shell.execute_reply.started": "2021-05-27T14:09:58.882056Z"
    }
   },
   "outputs": [
    {
     "name": "stderr",
     "output_type": "stream",
     "text": [
      "2021-05-27 19:39:58.883 | ERROR    | __main__:<module>:1 - TESTING {1,2,3}\n",
      "2021-05-27 19:39:58.884 | ERROR    | __main__:<module>:3 - TESTING {1,2,3}\n"
     ]
    }
   ],
   "source": [
    "Excep('TESTING {1,2,3}')\n",
    "reset_logger_width(logger, 155)\n",
    "Excep('TESTING {1,2,3}')"
   ]
  },
  {
   "cell_type": "code",
   "execution_count": 9,
   "metadata": {
    "execution": {
     "iopub.execute_input": "2021-05-27T14:09:58.893107Z",
     "iopub.status.busy": "2021-05-27T14:09:58.892535Z",
     "iopub.status.idle": "2021-05-27T14:09:58.901508Z",
     "shell.execute_reply": "2021-05-27T14:09:58.900203Z",
     "shell.execute_reply.started": "2021-05-27T14:09:58.893065Z"
    }
   },
   "outputs": [],
   "source": [
    "# exprimental\n",
    "from functools import wraps\n",
    "import time\n",
    "def enter_exit(func):\n",
    "    \"\"\"\n",
    "    Logs when a function\n",
    "    \"\"\"\n",
    "    logger_ = logger.opt(depth=1)\n",
    "    @wraps(func)\n",
    "    def function_timer(*args, **kwargs):\n",
    "        tic = time.time()\n",
    "        logger_.log('DEBUG', f'Entered function `{func.__name__}`')\n",
    "        o = func(*args, **kwargs)\n",
    "        toc = time.time()\n",
    "        logger_.log('DEBUG', f'Exiting function `{func.__name__}` after {toc-tic:.3f} seconds')\n",
    "        return o\n",
    "    return function_timer"
   ]
  },
  {
   "cell_type": "code",
   "execution_count": 10,
   "metadata": {
    "execution": {
     "iopub.execute_input": "2021-05-27T14:09:58.904030Z",
     "iopub.status.busy": "2021-05-27T14:09:58.903487Z",
     "iopub.status.idle": "2021-05-27T14:10:00.918692Z",
     "shell.execute_reply": "2021-05-27T14:10:00.917628Z",
     "shell.execute_reply.started": "2021-05-27T14:09:58.903981Z"
    }
   },
   "outputs": [
    {
     "name": "stderr",
     "output_type": "stream",
     "text": [
      "2021-05-27 19:39:58.906 | DEBUG    | __main__:<module>:7 - Entered function `add`\n"
     ]
    },
    {
     "data": {
      "text/html": [
       "<pre style=\"white-space:pre;overflow-x:auto;line-height:normal;font-family:Menlo,'DejaVu Sans Mono',consolas,'Courier New',monospace\">sleeping<span style=\"color: #808000; text-decoration-color: #808000\">...</span>\n",
       "</pre>\n"
      ],
      "text/plain": [
       "<rich.jupyter.JupyterRenderable at 0x7fdf23aa6a90>"
      ]
     },
     "metadata": {},
     "output_type": "display_data"
    },
    {
     "name": "stderr",
     "output_type": "stream",
     "text": [
      "2021-05-27 19:40:00.912 | DEBUG    | __main__:<module>:7 - Exiting function `add` after 2.005 seconds\n"
     ]
    },
    {
     "data": {
      "text/plain": [
       "24"
      ]
     },
     "execution_count": 10,
     "metadata": {},
     "output_type": "execute_result"
    }
   ],
   "source": [
    "@enter_exit\n",
    "def add(x,y):\n",
    "    print('sleeping...')\n",
    "    time.sleep(2)\n",
    "    return x+y\n",
    "\n",
    "add(1,23)"
   ]
  },
  {
   "cell_type": "code",
   "execution_count": 12,
   "metadata": {
    "execution": {
     "iopub.execute_input": "2021-05-27T14:10:09.782863Z",
     "iopub.status.busy": "2021-05-27T14:10:09.782546Z",
     "iopub.status.idle": "2021-05-27T14:10:09.798287Z",
     "shell.execute_reply": "2021-05-27T14:10:09.797408Z",
     "shell.execute_reply.started": "2021-05-27T14:10:09.782834Z"
    }
   },
   "outputs": [
    {
     "name": "stderr",
     "output_type": "stream",
     "text": [
      "2021-05-27 19:40:09.795 | WARNING  | __main__:<module>:4 -   File \"/Users/yreddy31/anaconda3/lib/python3.7/runpy.py\", line 193, in _run_module_as_main\n",
      "    \"__main__\", mod_spec)\n",
      "  File \"/Users/yreddy31/anaconda3/lib/python3.7/runpy.py\", line 85, in _run_code\n",
      "    exec(code, run_globals)\n",
      "  File \"/Users/yreddy31/anaconda3/lib/python3.7/site-packages/ipykernel_launcher.py\", line 16, in <module>\n",
      "    app.launch_new_instance()\n",
      "  File \"/Users/yreddy31/anaconda3/lib/python3.7/site-packages/traitlets/config/application.py\", line 664, in launch_instance\n",
      "    app.start()\n",
      "  File \"/Users/yreddy31/anaconda3/lib/python3.7/site-packages/ipykernel/kernelapp.py\", line 563, in start\n",
      "    self.io_loop.start()\n",
      "  File \"/Users/yreddy31/anaconda3/lib/python3.7/site-packages/tornado/platform/asyncio.py\", line 199, in start\n",
      "    self.asyncio_loop.run_forever()\n",
      "  File \"/Users/yreddy31/anaconda3/lib/python3.7/asyncio/base_events.py\", line 534, in run_forever\n",
      "    self._run_once()\n",
      "  File \"/Users/yreddy31/anaconda3/lib/python3.7/asyncio/base_events.py\", line 1771, in _run_once\n",
      "    handle._run()\n",
      "  File \"/Users/yreddy31/anaconda3/lib/python3.7/asyncio/events.py\", line 88, in _run\n",
      "    self._context.run(self._callback, *self._args)\n",
      "  File \"/Users/yreddy31/anaconda3/lib/python3.7/site-packages/tornado/ioloop.py\", line 688, in <lambda>\n",
      "    lambda f: self._run_callback(functools.partial(callback, future))\n",
      "  File \"/Users/yreddy31/anaconda3/lib/python3.7/site-packages/tornado/ioloop.py\", line 741, in _run_callback\n",
      "    ret = callback()\n",
      "  File \"/Users/yreddy31/anaconda3/lib/python3.7/site-packages/tornado/gen.py\", line 814, in inner\n",
      "    self.ctx_run(self.run)\n",
      "  File \"/Users/yreddy31/anaconda3/lib/python3.7/site-packages/tornado/gen.py\", line 775, in run\n",
      "    yielded = self.gen.send(value)\n",
      "  File \"/Users/yreddy31/anaconda3/lib/python3.7/site-packages/ipykernel/kernelbase.py\", line 365, in process_one\n",
      "    yield gen.maybe_future(dispatch(*args))\n",
      "  File \"/Users/yreddy31/anaconda3/lib/python3.7/site-packages/tornado/gen.py\", line 234, in wrapper\n",
      "    yielded = ctx_run(next, result)\n",
      "  File \"/Users/yreddy31/anaconda3/lib/python3.7/site-packages/ipykernel/kernelbase.py\", line 272, in dispatch_shell\n",
      "    yield gen.maybe_future(handler(stream, idents, msg))\n",
      "  File \"/Users/yreddy31/anaconda3/lib/python3.7/site-packages/tornado/gen.py\", line 234, in wrapper\n",
      "    yielded = ctx_run(next, result)\n",
      "  File \"/Users/yreddy31/anaconda3/lib/python3.7/site-packages/ipykernel/kernelbase.py\", line 542, in execute_request\n",
      "    user_expressions, allow_stdin,\n",
      "  File \"/Users/yreddy31/anaconda3/lib/python3.7/site-packages/tornado/gen.py\", line 234, in wrapper\n",
      "    yielded = ctx_run(next, result)\n",
      "  File \"/Users/yreddy31/anaconda3/lib/python3.7/site-packages/ipykernel/ipkernel.py\", line 294, in do_execute\n",
      "    res = shell.run_cell(code, store_history=store_history, silent=silent)\n",
      "  File \"/Users/yreddy31/anaconda3/lib/python3.7/site-packages/ipykernel/zmqshell.py\", line 536, in run_cell\n",
      "    return super(ZMQInteractiveShell, self).run_cell(*args, **kwargs)\n",
      "  File \"/Users/yreddy31/anaconda3/lib/python3.7/site-packages/IPython/core/interactiveshell.py\", line 2855, in run_cell\n",
      "    raw_cell, store_history, silent, shell_futures)\n",
      "  File \"/Users/yreddy31/anaconda3/lib/python3.7/site-packages/IPython/core/interactiveshell.py\", line 2881, in _run_cell\n",
      "    return runner(coro)\n",
      "  File \"/Users/yreddy31/anaconda3/lib/python3.7/site-packages/IPython/core/async_helpers.py\", line 68, in _pseudo_sync_runner\n",
      "    coro.send(None)\n",
      "  File \"/Users/yreddy31/anaconda3/lib/python3.7/site-packages/IPython/core/interactiveshell.py\", line 3058, in run_cell_async\n",
      "    interactivity=interactivity, compiler=compiler, result=result)\n",
      "  File \"/Users/yreddy31/anaconda3/lib/python3.7/site-packages/IPython/core/interactiveshell.py\", line 3249, in run_ast_nodes\n",
      "    if (await self.run_code(code, result,  async_=asy)):\n",
      "  File \"/Users/yreddy31/anaconda3/lib/python3.7/site-packages/IPython/core/interactiveshell.py\", line 3326, in run_code\n",
      "    exec(code_obj, self.user_global_ns, self.user_ns)\n",
      "  File \"<ipython-input-12-d195e9978a9e>\", line 4, in <module>\n",
      "    logger.warning(''.join(traceback.format_stack()))\n",
      "\n"
     ]
    }
   ],
   "source": [
    "import traceback\n",
    "try: 1/0\n",
    "except Exception as e:\n",
    "    logger.warning(''.join(traceback.format_stack()))"
   ]
  },
  {
   "cell_type": "code",
   "execution_count": null,
   "metadata": {},
   "outputs": [],
   "source": []
  }
 ],
 "metadata": {
  "kernelspec": {
   "display_name": "Python 3",
   "language": "python",
   "name": "python3"
  },
  "language_info": {
   "codemirror_mode": {
    "name": "ipython",
    "version": 3
   },
   "file_extension": ".py",
   "mimetype": "text/x-python",
   "name": "python",
   "nbconvert_exporter": "python",
   "pygments_lexer": "ipython3",
   "version": "3.7.4"
  }
 },
 "nbformat": 4,
 "nbformat_minor": 4
}
