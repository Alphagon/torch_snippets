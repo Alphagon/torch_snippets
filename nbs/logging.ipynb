{
 "cells": [
  {
   "cell_type": "markdown",
   "metadata": {},
   "source": [
    "# Rich Logging and printing"
   ]
  },
  {
   "cell_type": "markdown",
   "metadata": {},
   "source": []
  },
  {
   "cell_type": "code",
   "execution_count": 1,
   "metadata": {
    "execution": {
     "iopub.execute_input": "2021-05-27T14:09:58.719013Z",
     "iopub.status.busy": "2021-05-27T14:09:58.718706Z",
     "iopub.status.idle": "2021-05-27T14:09:58.722145Z",
     "shell.execute_reply": "2021-05-27T14:09:58.721368Z",
     "shell.execute_reply.started": "2021-05-27T14:09:58.718977Z"
    }
   },
   "outputs": [],
   "source": [
    "# | default_exp logger"
   ]
  },
  {
   "cell_type": "code",
   "execution_count": 2,
   "metadata": {
    "execution": {
     "iopub.execute_input": "2021-05-27T14:09:58.724121Z",
     "iopub.status.busy": "2021-05-27T14:09:58.723852Z",
     "iopub.status.idle": "2021-05-27T14:09:58.773030Z",
     "shell.execute_reply": "2021-05-27T14:09:58.771756Z",
     "shell.execute_reply.started": "2021-05-27T14:09:58.724097Z"
    }
   },
   "outputs": [],
   "source": [
    "# | export\n",
    "# | hide\n",
    "from rich.console import Console\n",
    "from rich.theme import Theme\n",
    "from loguru import logger\n",
    "from datetime import datetime\n",
    "from fastcore.basics import patch_to, ifnone\n",
    "from rich.logging import RichHandler\n",
    "from pathlib import Path\n",
    "\n",
    "# from torch_snippets.ipython import is_in_notebook\n",
    "\n",
    "from functools import wraps\n",
    "import time"
   ]
  },
  {
   "cell_type": "code",
   "execution_count": 3,
   "metadata": {},
   "outputs": [],
   "source": [
    "# | export\n",
    "# | hide\n",
    "def get_console(width=None):\n",
    "    return Console(\n",
    "        width=width,\n",
    "        theme=Theme(\n",
    "            {\n",
    "                \"repr.number\": \"bold cyan\",\n",
    "                \"repr.string\": \"bold green\",\n",
    "                \"logging.level.info\": \"dim yellow\",\n",
    "                \"logging.level.warning\": \"dim red\",\n",
    "                \"logging.level.exception\": \"bold red\",\n",
    "            }\n",
    "        ),\n",
    "    )\n",
    "\n",
    "\n",
    "console = get_console()\n",
    "print = console.print"
   ]
  },
  {
   "cell_type": "code",
   "execution_count": 4,
   "metadata": {
    "execution": {
     "iopub.execute_input": "2021-05-27T14:09:58.777125Z",
     "iopub.status.busy": "2021-05-27T14:09:58.776753Z",
     "iopub.status.idle": "2021-05-27T14:09:58.800753Z",
     "shell.execute_reply": "2021-05-27T14:09:58.799660Z",
     "shell.execute_reply.started": "2021-05-27T14:09:58.777092Z"
    }
   },
   "outputs": [
    {
     "data": {
      "text/html": [
       "<pre style=\"white-space:pre;overflow-x:auto;line-height:normal;font-family:Menlo,'DejaVu Sans Mono',consolas,'Courier New',monospace\">The Number is <span style=\"color: #008080; text-decoration-color: #008080; font-weight: bold\">128</span>\n",
       "</pre>\n"
      ],
      "text/plain": [
       "The Number is \u001b[1;36m128\u001b[0m\n"
      ]
     },
     "metadata": {},
     "output_type": "display_data"
    },
    {
     "data": {
      "text/html": [
       "<pre style=\"white-space:pre;overflow-x:auto;line-height:normal;font-family:Menlo,'DejaVu Sans Mono',consolas,'Courier New',monospace\"><span style=\"font-weight: bold\">{</span>\n",
       "    <span style=\"color: #008000; text-decoration-color: #008000\">'a'</span>: <span style=\"color: #008080; text-decoration-color: #008080; font-weight: bold\">1</span>,\n",
       "    <span style=\"color: #008000; text-decoration-color: #008000\">'b'</span>: <span style=\"font-weight: bold\">[{</span><span style=\"color: #008080; text-decoration-color: #008080; font-weight: bold\">1</span>, <span style=\"color: #008080; text-decoration-color: #008080; font-weight: bold\">2</span>, <span style=\"color: #008080; text-decoration-color: #008080; font-weight: bold\">3</span><span style=\"font-weight: bold\">}</span>, <span style=\"color: #008000; text-decoration-color: #008000\">'lskjdf'</span><span style=\"font-weight: bold\">]</span>,\n",
       "    <span style=\"color: #008000; text-decoration-color: #008000\">'c'</span>: <span style=\"color: #008080; text-decoration-color: #008080; font-weight: bold\">1</span>,\n",
       "    <span style=\"color: #008000; text-decoration-color: #008000\">'d'</span>: <span style=\"font-weight: bold\">[{</span><span style=\"color: #008080; text-decoration-color: #008080; font-weight: bold\">1</span>, <span style=\"color: #008080; text-decoration-color: #008080; font-weight: bold\">2</span>, <span style=\"color: #008080; text-decoration-color: #008080; font-weight: bold\">3</span><span style=\"font-weight: bold\">}</span>, <span style=\"color: #008000; text-decoration-color: #008000\">'lskjdf'</span><span style=\"font-weight: bold\">]</span>,\n",
       "    <span style=\"color: #008000; text-decoration-color: #008000\">'ae'</span>: <span style=\"color: #008080; text-decoration-color: #008080; font-weight: bold\">1</span>,\n",
       "    <span style=\"color: #008000; text-decoration-color: #008000\">'bf'</span>: <span style=\"font-weight: bold\">[{</span><span style=\"color: #008080; text-decoration-color: #008080; font-weight: bold\">1</span>, <span style=\"color: #008080; text-decoration-color: #008080; font-weight: bold\">2</span>, <span style=\"color: #008080; text-decoration-color: #008080; font-weight: bold\">3</span><span style=\"font-weight: bold\">}</span>, <span style=\"color: #008000; text-decoration-color: #008000\">'lskjdf'</span><span style=\"font-weight: bold\">]</span>,\n",
       "    <span style=\"color: #008000; text-decoration-color: #008000\">'ag'</span>: <span style=\"color: #008080; text-decoration-color: #008080; font-weight: bold\">1</span>,\n",
       "    <span style=\"color: #008000; text-decoration-color: #008000\">'ba'</span>: <span style=\"font-weight: bold\">[{</span><span style=\"color: #008080; text-decoration-color: #008080; font-weight: bold\">1</span>, <span style=\"color: #008080; text-decoration-color: #008080; font-weight: bold\">2</span>, <span style=\"color: #008080; text-decoration-color: #008080; font-weight: bold\">3</span><span style=\"font-weight: bold\">}</span>, <span style=\"color: #008000; text-decoration-color: #008000\">'lskjdf'</span><span style=\"font-weight: bold\">]</span>\n",
       "<span style=\"font-weight: bold\">}</span>\n",
       "</pre>\n"
      ],
      "text/plain": [
       "\u001b[1m{\u001b[0m\n",
       "    \u001b[32m'a'\u001b[0m: \u001b[1;36m1\u001b[0m,\n",
       "    \u001b[32m'b'\u001b[0m: \u001b[1m[\u001b[0m\u001b[1m{\u001b[0m\u001b[1;36m1\u001b[0m, \u001b[1;36m2\u001b[0m, \u001b[1;36m3\u001b[0m\u001b[1m}\u001b[0m, \u001b[32m'lskjdf'\u001b[0m\u001b[1m]\u001b[0m,\n",
       "    \u001b[32m'c'\u001b[0m: \u001b[1;36m1\u001b[0m,\n",
       "    \u001b[32m'd'\u001b[0m: \u001b[1m[\u001b[0m\u001b[1m{\u001b[0m\u001b[1;36m1\u001b[0m, \u001b[1;36m2\u001b[0m, \u001b[1;36m3\u001b[0m\u001b[1m}\u001b[0m, \u001b[32m'lskjdf'\u001b[0m\u001b[1m]\u001b[0m,\n",
       "    \u001b[32m'ae'\u001b[0m: \u001b[1;36m1\u001b[0m,\n",
       "    \u001b[32m'bf'\u001b[0m: \u001b[1m[\u001b[0m\u001b[1m{\u001b[0m\u001b[1;36m1\u001b[0m, \u001b[1;36m2\u001b[0m, \u001b[1;36m3\u001b[0m\u001b[1m}\u001b[0m, \u001b[32m'lskjdf'\u001b[0m\u001b[1m]\u001b[0m,\n",
       "    \u001b[32m'ag'\u001b[0m: \u001b[1;36m1\u001b[0m,\n",
       "    \u001b[32m'ba'\u001b[0m: \u001b[1m[\u001b[0m\u001b[1m{\u001b[0m\u001b[1;36m1\u001b[0m, \u001b[1;36m2\u001b[0m, \u001b[1;36m3\u001b[0m\u001b[1m}\u001b[0m, \u001b[32m'lskjdf'\u001b[0m\u001b[1m]\u001b[0m\n",
       "\u001b[1m}\u001b[0m\n"
      ]
     },
     "metadata": {},
     "output_type": "display_data"
    }
   ],
   "source": [
    "print(\"The Number is 128\")\n",
    "print(\n",
    "    {\n",
    "        \"a\": 1,\n",
    "        \"b\": [\n",
    "            {1, 2, 3},\n",
    "            \"lskjdf\",\n",
    "        ],\n",
    "        \"c\": 1,\n",
    "        \"d\": [\n",
    "            {1, 2, 3},\n",
    "            \"lskjdf\",\n",
    "        ],\n",
    "        \"ae\": 1,\n",
    "        \"bf\": [\n",
    "            {1, 2, 3},\n",
    "            \"lskjdf\",\n",
    "        ],\n",
    "        \"ag\": 1,\n",
    "        \"ba\": [\n",
    "            {1, 2, 3},\n",
    "            \"lskjdf\",\n",
    "        ],\n",
    "    }\n",
    ")"
   ]
  },
  {
   "cell_type": "code",
   "execution_count": 5,
   "metadata": {
    "execution": {
     "iopub.execute_input": "2021-05-27T14:09:58.802989Z",
     "iopub.status.busy": "2021-05-27T14:09:58.802593Z",
     "iopub.status.idle": "2021-05-27T14:09:58.810427Z",
     "shell.execute_reply": "2021-05-27T14:09:58.809157Z",
     "shell.execute_reply.started": "2021-05-27T14:09:58.802953Z"
    }
   },
   "outputs": [
    {
     "data": {
      "text/html": [
       "<pre style=\"white-space:pre;overflow-x:auto;line-height:normal;font-family:Menlo,'DejaVu Sans Mono',consolas,'Courier New',monospace\">\\x86\n",
       "</pre>\n"
      ],
      "text/plain": [
       "\\x86\n"
      ]
     },
     "metadata": {},
     "output_type": "display_data"
    }
   ],
   "source": [
    "print(r\"\\x86\")"
   ]
  },
  {
   "cell_type": "code",
   "execution_count": 6,
   "metadata": {
    "execution": {
     "iopub.execute_input": "2021-05-27T14:09:58.812621Z",
     "iopub.status.busy": "2021-05-27T14:09:58.812306Z",
     "iopub.status.idle": "2021-05-27T14:09:58.859357Z",
     "shell.execute_reply": "2021-05-27T14:09:58.858448Z",
     "shell.execute_reply.started": "2021-05-27T14:09:58.812593Z"
    }
   },
   "outputs": [],
   "source": [
    "# | export\n",
    "# | hide\n",
    "@patch_to(RichHandler)\n",
    "def render(\n",
    "    self,\n",
    "    *,\n",
    "    record,\n",
    "    traceback,\n",
    "    message_renderable: \"ConsoleRenderable\",\n",
    ") -> \"ConsoleRenderable\":\n",
    "    \"\"\"patched the renderer to print function name as well\"\"\"\n",
    "    path = Path(record.pathname).name\n",
    "    level = self.get_level_text(record)\n",
    "    time_format = None if self.formatter is None else self.formatter.datefmt\n",
    "    log_time = datetime.fromtimestamp(record.created)\n",
    "\n",
    "    log_renderable = self._log_render(\n",
    "        self.console,\n",
    "        [message_renderable] if not traceback else [message_renderable, traceback],\n",
    "        log_time=log_time,\n",
    "        time_format=time_format,\n",
    "        level=level,\n",
    "        path=path,\n",
    "        line_no=f\"{record.funcName}:{record.lineno}\",\n",
    "        link_path=record.pathname if self.enable_link_path else None,\n",
    "    )\n",
    "    return log_renderable\n",
    "\n",
    "\n",
    "def reset_logger(level=\"INFO\", width=120, silent=True):\n",
    "    if level is not None:\n",
    "        [logger.remove() for _ in range(100)]\n",
    "        logger.configure(\n",
    "            handlers=[\n",
    "                {\n",
    "                    \"sink\": RichHandler(\n",
    "                        rich_tracebacks=True,\n",
    "                        console=console,\n",
    "                        tracebacks_show_locals=False,\n",
    "                    ),\n",
    "                    \"format\": \"<level>{message}</level>\",\n",
    "                    \"backtrace\": True,\n",
    "                    \"level\": level,\n",
    "                }\n",
    "            ],\n",
    "        )\n",
    "    if width is not None:\n",
    "        for handler_id in logger._core.handlers:\n",
    "            try:\n",
    "                handler = logger._core.handlers[handler_id]\n",
    "                handler._sink._handler.console = get_console(width=width)\n",
    "            except:\n",
    "                ...\n",
    "    if not silent:\n",
    "        logger.info(f\"reset logger's console width to {width} and level to {level}!\")\n",
    "\n",
    "\n",
    "reset_logger_width = lambda width: reset_logger(width=width)\n",
    "\n",
    "reset_logger(width=100, silent=True)\n",
    "reset_logger(width=100, silent=True)\n",
    "\n",
    "logger = logger\n",
    "\n",
    "Debug = lambda x, depth=0: logger.opt(depth=depth + 1).log(\"DEBUG\", x)\n",
    "Info = lambda x, depth=0: logger.opt(depth=depth + 1).log(\"INFO\", x)\n",
    "Warn = lambda x, depth=0: logger.opt(depth=depth + 1).log(\"WARNING\", x)\n",
    "Excep = lambda x, depth=0: logger.opt(depth=depth + 1).log(\"ERROR\", x)"
   ]
  },
  {
   "cell_type": "code",
   "execution_count": 7,
   "metadata": {
    "execution": {
     "iopub.execute_input": "2021-07-05T12:38:28.564313Z",
     "iopub.status.busy": "2021-07-05T12:38:28.563961Z",
     "iopub.status.idle": "2021-07-05T12:38:28.571855Z",
     "shell.execute_reply": "2021-07-05T12:38:28.570923Z",
     "shell.execute_reply.started": "2021-07-05T12:38:28.564280Z"
    },
    "tags": []
   },
   "outputs": [
    {
     "data": {
      "text/plain": [
       "{2: 2342}"
      ]
     },
     "execution_count": 7,
     "metadata": {},
     "output_type": "execute_result"
    }
   ],
   "source": [
    "a = {1: 1221, 2: 2342}\n",
    "del a[1]\n",
    "a"
   ]
  },
  {
   "cell_type": "code",
   "execution_count": 8,
   "metadata": {
    "execution": {
     "iopub.execute_input": "2021-05-27T14:09:58.861049Z",
     "iopub.status.busy": "2021-05-27T14:09:58.860632Z",
     "iopub.status.idle": "2021-05-27T14:09:58.871605Z",
     "shell.execute_reply": "2021-05-27T14:09:58.870752Z",
     "shell.execute_reply.started": "2021-05-27T14:09:58.861015Z"
    }
   },
   "outputs": [
    {
     "data": {
      "text/html": [
       "<pre style=\"white-space:pre;overflow-x:auto;line-height:normal;font-family:Menlo,'DejaVu Sans Mono',consolas,'Courier New',monospace\"><span style=\"color: #7fbfbf; text-decoration-color: #7fbfbf\">[09/21/22 01:01:38] </span><span style=\"color: #008000; text-decoration-color: #008000\">DEBUG   </span> TESTING <span style=\"font-weight: bold\">{</span><span style=\"color: #008080; text-decoration-color: #008080; font-weight: bold\">1</span>,<span style=\"color: #008080; text-decoration-color: #008080; font-weight: bold\">2</span>,<span style=\"color: #008080; text-decoration-color: #008080; font-weight: bold\">3</span><span style=\"font-weight: bold\">}</span>                                               <a href=\"file:///var/folders/cp/1fbgq2n922j8ztdsq6551vldkr5sdy/T/ipykernel_65923/3592958886.py\" target=\"_blank\"><span style=\"color: #7f7f7f; text-decoration-color: #7f7f7f\">3592958886.py</span></a><span style=\"color: #7f7f7f; text-decoration-color: #7f7f7f\">:</span><a href=\"file:///var/folders/cp/1fbgq2n922j8ztdsq6551vldkr5sdy/T/ipykernel_65923/3592958886.py#<module>:1\" target=\"_blank\"><span style=\"color: #7f7f7f; text-decoration-color: #7f7f7f\">&lt;module&gt;:1</span></a>\n",
       "</pre>\n"
      ],
      "text/plain": [
       "\u001b[2;36m[09/21/22 01:01:38]\u001b[0m\u001b[2;36m \u001b[0m\u001b[32mDEBUG   \u001b[0m TESTING \u001b[1m{\u001b[0m\u001b[1;36m1\u001b[0m,\u001b[1;36m2\u001b[0m,\u001b[1;36m3\u001b[0m\u001b[1m}\u001b[0m                                               \u001b]8;id=535448;file:///var/folders/cp/1fbgq2n922j8ztdsq6551vldkr5sdy/T/ipykernel_65923/3592958886.py\u001b\\\u001b[2m3592958886.py\u001b[0m\u001b]8;;\u001b\\\u001b[2m:\u001b[0m\u001b]8;id=62831;file:///var/folders/cp/1fbgq2n922j8ztdsq6551vldkr5sdy/T/ipykernel_65923/3592958886.py#<module>:1\u001b\\\u001b[2m<module>:1\u001b[0m\u001b]8;;\u001b\\\n"
      ]
     },
     "metadata": {},
     "output_type": "display_data"
    },
    {
     "data": {
      "text/html": [
       "<pre style=\"white-space:pre;overflow-x:auto;line-height:normal;font-family:Menlo,'DejaVu Sans Mono',consolas,'Courier New',monospace\"><span style=\"color: #7fbfbf; text-decoration-color: #7fbfbf\">                    </span><span style=\"color: #bfbf7f; text-decoration-color: #bfbf7f\">INFO    </span> TESTING <span style=\"font-weight: bold\">{</span><span style=\"color: #008080; text-decoration-color: #008080; font-weight: bold\">1</span>,<span style=\"color: #008080; text-decoration-color: #008080; font-weight: bold\">2</span>,<span style=\"color: #008080; text-decoration-color: #008080; font-weight: bold\">3</span><span style=\"font-weight: bold\">}</span>                                               <a href=\"file:///var/folders/cp/1fbgq2n922j8ztdsq6551vldkr5sdy/T/ipykernel_65923/3592958886.py\" target=\"_blank\"><span style=\"color: #7f7f7f; text-decoration-color: #7f7f7f\">3592958886.py</span></a><span style=\"color: #7f7f7f; text-decoration-color: #7f7f7f\">:</span><a href=\"file:///var/folders/cp/1fbgq2n922j8ztdsq6551vldkr5sdy/T/ipykernel_65923/3592958886.py#<module>:2\" target=\"_blank\"><span style=\"color: #7f7f7f; text-decoration-color: #7f7f7f\">&lt;module&gt;:2</span></a>\n",
       "</pre>\n"
      ],
      "text/plain": [
       "\u001b[2;36m                   \u001b[0m\u001b[2;36m \u001b[0m\u001b[2;33mINFO    \u001b[0m TESTING \u001b[1m{\u001b[0m\u001b[1;36m1\u001b[0m,\u001b[1;36m2\u001b[0m,\u001b[1;36m3\u001b[0m\u001b[1m}\u001b[0m                                               \u001b]8;id=240155;file:///var/folders/cp/1fbgq2n922j8ztdsq6551vldkr5sdy/T/ipykernel_65923/3592958886.py\u001b\\\u001b[2m3592958886.py\u001b[0m\u001b]8;;\u001b\\\u001b[2m:\u001b[0m\u001b]8;id=824819;file:///var/folders/cp/1fbgq2n922j8ztdsq6551vldkr5sdy/T/ipykernel_65923/3592958886.py#<module>:2\u001b\\\u001b[2m<module>:2\u001b[0m\u001b]8;;\u001b\\\n"
      ]
     },
     "metadata": {},
     "output_type": "display_data"
    },
    {
     "data": {
      "text/html": [
       "<pre style=\"white-space:pre;overflow-x:auto;line-height:normal;font-family:Menlo,'DejaVu Sans Mono',consolas,'Courier New',monospace\"><span style=\"color: #7fbfbf; text-decoration-color: #7fbfbf\">                    </span><span style=\"color: #bf7f7f; text-decoration-color: #bf7f7f\">WARNING </span> TESTING <span style=\"font-weight: bold\">{</span><span style=\"color: #008080; text-decoration-color: #008080; font-weight: bold\">1</span>,<span style=\"color: #008080; text-decoration-color: #008080; font-weight: bold\">2</span>,<span style=\"color: #008080; text-decoration-color: #008080; font-weight: bold\">3</span><span style=\"font-weight: bold\">}</span>                                               <a href=\"file:///var/folders/cp/1fbgq2n922j8ztdsq6551vldkr5sdy/T/ipykernel_65923/3592958886.py\" target=\"_blank\"><span style=\"color: #7f7f7f; text-decoration-color: #7f7f7f\">3592958886.py</span></a><span style=\"color: #7f7f7f; text-decoration-color: #7f7f7f\">:</span><a href=\"file:///var/folders/cp/1fbgq2n922j8ztdsq6551vldkr5sdy/T/ipykernel_65923/3592958886.py#<module>:3\" target=\"_blank\"><span style=\"color: #7f7f7f; text-decoration-color: #7f7f7f\">&lt;module&gt;:3</span></a>\n",
       "</pre>\n"
      ],
      "text/plain": [
       "\u001b[2;36m                   \u001b[0m\u001b[2;36m \u001b[0m\u001b[2;31mWARNING \u001b[0m TESTING \u001b[1m{\u001b[0m\u001b[1;36m1\u001b[0m,\u001b[1;36m2\u001b[0m,\u001b[1;36m3\u001b[0m\u001b[1m}\u001b[0m                                               \u001b]8;id=86446;file:///var/folders/cp/1fbgq2n922j8ztdsq6551vldkr5sdy/T/ipykernel_65923/3592958886.py\u001b\\\u001b[2m3592958886.py\u001b[0m\u001b]8;;\u001b\\\u001b[2m:\u001b[0m\u001b]8;id=279191;file:///var/folders/cp/1fbgq2n922j8ztdsq6551vldkr5sdy/T/ipykernel_65923/3592958886.py#<module>:3\u001b\\\u001b[2m<module>:3\u001b[0m\u001b]8;;\u001b\\\n"
      ]
     },
     "metadata": {},
     "output_type": "display_data"
    },
    {
     "data": {
      "text/html": [
       "<pre style=\"white-space:pre;overflow-x:auto;line-height:normal;font-family:Menlo,'DejaVu Sans Mono',consolas,'Courier New',monospace\"><span style=\"color: #7fbfbf; text-decoration-color: #7fbfbf\">                    </span><span style=\"color: #800000; text-decoration-color: #800000; font-weight: bold\">ERROR   </span> TESTING <span style=\"font-weight: bold\">{</span><span style=\"color: #008080; text-decoration-color: #008080; font-weight: bold\">1</span>,<span style=\"color: #008080; text-decoration-color: #008080; font-weight: bold\">2</span>,<span style=\"color: #008080; text-decoration-color: #008080; font-weight: bold\">3</span><span style=\"font-weight: bold\">}</span>                                               <a href=\"file:///var/folders/cp/1fbgq2n922j8ztdsq6551vldkr5sdy/T/ipykernel_65923/3592958886.py\" target=\"_blank\"><span style=\"color: #7f7f7f; text-decoration-color: #7f7f7f\">3592958886.py</span></a><span style=\"color: #7f7f7f; text-decoration-color: #7f7f7f\">:</span><a href=\"file:///var/folders/cp/1fbgq2n922j8ztdsq6551vldkr5sdy/T/ipykernel_65923/3592958886.py#<module>:4\" target=\"_blank\"><span style=\"color: #7f7f7f; text-decoration-color: #7f7f7f\">&lt;module&gt;:4</span></a>\n",
       "</pre>\n"
      ],
      "text/plain": [
       "\u001b[2;36m                   \u001b[0m\u001b[2;36m \u001b[0m\u001b[1;31mERROR   \u001b[0m TESTING \u001b[1m{\u001b[0m\u001b[1;36m1\u001b[0m,\u001b[1;36m2\u001b[0m,\u001b[1;36m3\u001b[0m\u001b[1m}\u001b[0m                                               \u001b]8;id=824167;file:///var/folders/cp/1fbgq2n922j8ztdsq6551vldkr5sdy/T/ipykernel_65923/3592958886.py\u001b\\\u001b[2m3592958886.py\u001b[0m\u001b]8;;\u001b\\\u001b[2m:\u001b[0m\u001b]8;id=642149;file:///var/folders/cp/1fbgq2n922j8ztdsq6551vldkr5sdy/T/ipykernel_65923/3592958886.py#<module>:4\u001b\\\u001b[2m<module>:4\u001b[0m\u001b]8;;\u001b\\\n"
      ]
     },
     "metadata": {},
     "output_type": "display_data"
    }
   ],
   "source": [
    "Debug(\"TESTING {1,2,3}\")\n",
    "Info(\"TESTING {1,2,3}\")\n",
    "Warn(\"TESTING {1,2,3}\")\n",
    "Excep(\"TESTING {1,2,3}\")"
   ]
  },
  {
   "cell_type": "code",
   "execution_count": 10,
   "metadata": {
    "execution": {
     "iopub.execute_input": "2021-05-27T14:09:58.893107Z",
     "iopub.status.busy": "2021-05-27T14:09:58.892535Z",
     "iopub.status.idle": "2021-05-27T14:09:58.901508Z",
     "shell.execute_reply": "2021-05-27T14:09:58.900203Z",
     "shell.execute_reply.started": "2021-05-27T14:09:58.893065Z"
    }
   },
   "outputs": [],
   "source": [
    "# | export\n",
    "def enter_exit(func):\n",
    "    \"\"\"\n",
    "    Logs the time taken to execute a function along with entry & exit time stamps\n",
    "    \"\"\"\n",
    "    logger_ = logger.opt(depth=1)\n",
    "\n",
    "    @wraps(func)\n",
    "    def function_timer(*args, **kwargs):\n",
    "        tic = time.time()\n",
    "        logger_.log(\"DEBUG\", f\"Entered function `{func.__name__}`\")\n",
    "        o = func(*args, **kwargs)\n",
    "        toc = time.time()\n",
    "        logger_.log(\n",
    "            \"DEBUG\", f\"Exiting function `{func.__name__}` after {toc-tic:.3f} seconds\"\n",
    "        )\n",
    "        return o\n",
    "\n",
    "    return function_timer"
   ]
  },
  {
   "cell_type": "code",
   "execution_count": 11,
   "metadata": {
    "execution": {
     "iopub.execute_input": "2021-05-27T14:09:58.904030Z",
     "iopub.status.busy": "2021-05-27T14:09:58.903487Z",
     "iopub.status.idle": "2021-05-27T14:10:00.918692Z",
     "shell.execute_reply": "2021-05-27T14:10:00.917628Z",
     "shell.execute_reply.started": "2021-05-27T14:09:58.903981Z"
    }
   },
   "outputs": [
    {
     "data": {
      "text/html": [
       "<pre style=\"white-space:pre;overflow-x:auto;line-height:normal;font-family:Menlo,'DejaVu Sans Mono',consolas,'Courier New',monospace\"><span style=\"color: #7fbfbf; text-decoration-color: #7fbfbf\">[09/21/22 01:01:41] </span><span style=\"color: #008000; text-decoration-color: #008000\">DEBUG   </span> Entered function `add`                                        <a href=\"file:///var/folders/cp/1fbgq2n922j8ztdsq6551vldkr5sdy/T/ipykernel_65923/4246827219.py\" target=\"_blank\"><span style=\"color: #7f7f7f; text-decoration-color: #7f7f7f\">4246827219.py</span></a><span style=\"color: #7f7f7f; text-decoration-color: #7f7f7f\">:</span><a href=\"file:///var/folders/cp/1fbgq2n922j8ztdsq6551vldkr5sdy/T/ipykernel_65923/4246827219.py#<module>:8\" target=\"_blank\"><span style=\"color: #7f7f7f; text-decoration-color: #7f7f7f\">&lt;module&gt;:8</span></a>\n",
       "</pre>\n"
      ],
      "text/plain": [
       "\u001b[2;36m[09/21/22 01:01:41]\u001b[0m\u001b[2;36m \u001b[0m\u001b[32mDEBUG   \u001b[0m Entered function `add`                                        \u001b]8;id=339608;file:///var/folders/cp/1fbgq2n922j8ztdsq6551vldkr5sdy/T/ipykernel_65923/4246827219.py\u001b\\\u001b[2m4246827219.py\u001b[0m\u001b]8;;\u001b\\\u001b[2m:\u001b[0m\u001b]8;id=81917;file:///var/folders/cp/1fbgq2n922j8ztdsq6551vldkr5sdy/T/ipykernel_65923/4246827219.py#<module>:8\u001b\\\u001b[2m<module>:8\u001b[0m\u001b]8;;\u001b\\\n"
      ]
     },
     "metadata": {},
     "output_type": "display_data"
    },
    {
     "data": {
      "text/html": [
       "<pre style=\"white-space:pre;overflow-x:auto;line-height:normal;font-family:Menlo,'DejaVu Sans Mono',consolas,'Courier New',monospace\">sleeping<span style=\"color: #808000; text-decoration-color: #808000\">...</span>\n",
       "</pre>\n"
      ],
      "text/plain": [
       "sleeping\u001b[33m...\u001b[0m\n"
      ]
     },
     "metadata": {},
     "output_type": "display_data"
    },
    {
     "data": {
      "text/html": [
       "<pre style=\"white-space:pre;overflow-x:auto;line-height:normal;font-family:Menlo,'DejaVu Sans Mono',consolas,'Courier New',monospace\"><span style=\"color: #7fbfbf; text-decoration-color: #7fbfbf\">[09/21/22 01:01:43] </span><span style=\"color: #008000; text-decoration-color: #008000\">DEBUG   </span> Exiting function `add` after <span style=\"color: #008080; text-decoration-color: #008080; font-weight: bold\">2.010</span> seconds                    <a href=\"file:///var/folders/cp/1fbgq2n922j8ztdsq6551vldkr5sdy/T/ipykernel_65923/4246827219.py\" target=\"_blank\"><span style=\"color: #7f7f7f; text-decoration-color: #7f7f7f\">4246827219.py</span></a><span style=\"color: #7f7f7f; text-decoration-color: #7f7f7f\">:</span><a href=\"file:///var/folders/cp/1fbgq2n922j8ztdsq6551vldkr5sdy/T/ipykernel_65923/4246827219.py#<module>:8\" target=\"_blank\"><span style=\"color: #7f7f7f; text-decoration-color: #7f7f7f\">&lt;module&gt;:8</span></a>\n",
       "</pre>\n"
      ],
      "text/plain": [
       "\u001b[2;36m[09/21/22 01:01:43]\u001b[0m\u001b[2;36m \u001b[0m\u001b[32mDEBUG   \u001b[0m Exiting function `add` after \u001b[1;36m2.010\u001b[0m seconds                    \u001b]8;id=148095;file:///var/folders/cp/1fbgq2n922j8ztdsq6551vldkr5sdy/T/ipykernel_65923/4246827219.py\u001b\\\u001b[2m4246827219.py\u001b[0m\u001b]8;;\u001b\\\u001b[2m:\u001b[0m\u001b]8;id=631253;file:///var/folders/cp/1fbgq2n922j8ztdsq6551vldkr5sdy/T/ipykernel_65923/4246827219.py#<module>:8\u001b\\\u001b[2m<module>:8\u001b[0m\u001b]8;;\u001b\\\n"
      ]
     },
     "metadata": {},
     "output_type": "display_data"
    },
    {
     "data": {
      "text/plain": [
       "24"
      ]
     },
     "execution_count": 11,
     "metadata": {},
     "output_type": "execute_result"
    }
   ],
   "source": [
    "@enter_exit\n",
    "def add(x, y):\n",
    "    print(\"sleeping...\")\n",
    "    time.sleep(2)\n",
    "    return x + y\n",
    "\n",
    "\n",
    "add(1, 23)"
   ]
  },
  {
   "cell_type": "code",
   "execution_count": 12,
   "metadata": {
    "execution": {
     "iopub.execute_input": "2021-05-27T14:10:09.782863Z",
     "iopub.status.busy": "2021-05-27T14:10:09.782546Z",
     "iopub.status.idle": "2021-05-27T14:10:09.798287Z",
     "shell.execute_reply": "2021-05-27T14:10:09.797408Z",
     "shell.execute_reply.started": "2021-05-27T14:10:09.782834Z"
    },
    "scrolled": true
   },
   "outputs": [
    {
     "data": {
      "text/html": [
       "<pre style=\"white-space:pre;overflow-x:auto;line-height:normal;font-family:Menlo,'DejaVu Sans Mono',consolas,'Courier New',monospace\"><span style=\"color: #7fbfbf; text-decoration-color: #7fbfbf\">                    </span><span style=\"color: #800000; text-decoration-color: #800000; font-weight: bold\">ERROR   </span> division by zero                                                    <a href=\"file:///var/folders/cp/1fbgq2n922j8ztdsq6551vldkr5sdy/T/ipykernel_65923/3806461673.py\" target=\"_blank\"><span style=\"color: #7f7f7f; text-decoration-color: #7f7f7f\">3806461673.py</span></a><span style=\"color: #7f7f7f; text-decoration-color: #7f7f7f\">:</span><a href=\"file:///var/folders/cp/1fbgq2n922j8ztdsq6551vldkr5sdy/T/ipykernel_65923/3806461673.py#do:6\" target=\"_blank\"><span style=\"color: #7f7f7f; text-decoration-color: #7f7f7f\">do:6</span></a>\n",
       "<span style=\"color: #7fbfbf; text-decoration-color: #7fbfbf\">                    </span>         Traceback <span style=\"font-weight: bold\">(</span>most recent call last<span style=\"font-weight: bold\">)</span>:                                  <span style=\"color: #7f7f7f; text-decoration-color: #7f7f7f\">                  </span>\n",
       "<span style=\"color: #7fbfbf; text-decoration-color: #7fbfbf\">                    </span>                                                                             <span style=\"color: #7f7f7f; text-decoration-color: #7f7f7f\">                  </span>\n",
       "<span style=\"color: #7fbfbf; text-decoration-color: #7fbfbf\">                    </span>           File <span style=\"color: #008000; text-decoration-color: #008000\">\"/Users/yeshwanth.y/miniconda3/lib/python3.9/runpy.py\"</span>, line <span style=\"color: #7f7f7f; text-decoration-color: #7f7f7f\">                  </span>\n",
       "<span style=\"color: #7fbfbf; text-decoration-color: #7fbfbf\">                    </span>         <span style=\"color: #008080; text-decoration-color: #008080; font-weight: bold\">197</span>, in _run_module_as_main                                         <span style=\"color: #7f7f7f; text-decoration-color: #7f7f7f\">                  </span>\n",
       "<span style=\"color: #7fbfbf; text-decoration-color: #7fbfbf\">                    </span>             return <span style=\"color: #800080; text-decoration-color: #800080; font-weight: bold\">_run_code</span><span style=\"font-weight: bold\">(</span>code, main_globals, <span style=\"color: #800080; text-decoration-color: #800080; font-style: italic\">None</span>,                      <span style=\"color: #7f7f7f; text-decoration-color: #7f7f7f\">                  </span>\n",
       "<span style=\"color: #7fbfbf; text-decoration-color: #7fbfbf\">                    </span>                    |         |     -&gt; <span style=\"font-weight: bold\">{</span><span style=\"color: #008000; text-decoration-color: #008000\">'__name__'</span>: <span style=\"color: #008000; text-decoration-color: #008000\">'__main__'</span>, <span style=\"color: #008000; text-decoration-color: #008000\">'__doc__'</span>:   <span style=\"color: #7f7f7f; text-decoration-color: #7f7f7f\">                  </span>\n",
       "<span style=\"color: #7fbfbf; text-decoration-color: #7fbfbf\">                    </span>         'Entry point for launching an IPython kernel.\\n\\nThis is separate   <span style=\"color: #7f7f7f; text-decoration-color: #7f7f7f\">                  </span>\n",
       "<span style=\"color: #7fbfbf; text-decoration-color: #7fbfbf\">                    </span>         from the ipykernel pack<span style=\"color: #808000; text-decoration-color: #808000\">...</span>                                          <span style=\"color: #7f7f7f; text-decoration-color: #7f7f7f\">                  </span>\n",
       "<span style=\"color: #7fbfbf; text-decoration-color: #7fbfbf\">                    </span>                    |         -&gt; <span style=\"font-weight: bold\">&lt;</span><span style=\"color: #ff00ff; text-decoration-color: #ff00ff; font-weight: bold\">code</span><span style=\"color: #000000; text-decoration-color: #000000\"> object &lt;module</span><span style=\"font-weight: bold\">&gt;</span> at <span style=\"color: #008080; text-decoration-color: #008080; font-weight: bold\">0x10fc10df0</span>, file  <span style=\"color: #7f7f7f; text-decoration-color: #7f7f7f\">                  </span>\n",
       "<span style=\"color: #7fbfbf; text-decoration-color: #7fbfbf\">                    </span>         <span style=\"color: #008000; text-decoration-color: #008000\">\"/Users/yeshwanth.y/miniconda3/lib/python3.9/site-packages/ipykerne</span> <span style=\"color: #7f7f7f; text-decoration-color: #7f7f7f\">                  </span>\n",
       "<span style=\"color: #7fbfbf; text-decoration-color: #7fbfbf\">                    </span>         <span style=\"color: #008000; text-decoration-color: #008000\">l_launcher.py\"</span>,<span style=\"color: #808000; text-decoration-color: #808000\">...</span>                                                  <span style=\"color: #7f7f7f; text-decoration-color: #7f7f7f\">                  </span>\n",
       "<span style=\"color: #7fbfbf; text-decoration-color: #7fbfbf\">                    </span>                    -&gt; <span style=\"font-weight: bold\">&lt;</span><span style=\"color: #ff00ff; text-decoration-color: #ff00ff; font-weight: bold\">function</span><span style=\"color: #000000; text-decoration-color: #000000\"> _run_code at </span><span style=\"color: #008080; text-decoration-color: #008080; font-weight: bold\">0x10fc14310</span><span style=\"font-weight: bold\">&gt;</span>                   <span style=\"color: #7f7f7f; text-decoration-color: #7f7f7f\">                  </span>\n",
       "<span style=\"color: #7fbfbf; text-decoration-color: #7fbfbf\">                    </span>           File <span style=\"color: #008000; text-decoration-color: #008000\">\"/Users/yeshwanth.y/miniconda3/lib/python3.9/runpy.py\"</span>, line <span style=\"color: #7f7f7f; text-decoration-color: #7f7f7f\">                  </span>\n",
       "<span style=\"color: #7fbfbf; text-decoration-color: #7fbfbf\">                    </span>         <span style=\"color: #008080; text-decoration-color: #008080; font-weight: bold\">87</span>, in _run_code                                                    <span style=\"color: #7f7f7f; text-decoration-color: #7f7f7f\">                  </span>\n",
       "<span style=\"color: #7fbfbf; text-decoration-color: #7fbfbf\">                    </span>             <span style=\"color: #800080; text-decoration-color: #800080; font-weight: bold\">exec</span><span style=\"font-weight: bold\">(</span>code, run_globals<span style=\"font-weight: bold\">)</span>                                         <span style=\"color: #7f7f7f; text-decoration-color: #7f7f7f\">                  </span>\n",
       "<span style=\"color: #7fbfbf; text-decoration-color: #7fbfbf\">                    </span>                  |     -&gt; <span style=\"font-weight: bold\">{</span><span style=\"color: #008000; text-decoration-color: #008000\">'__name__'</span>: <span style=\"color: #008000; text-decoration-color: #008000\">'__main__'</span>, <span style=\"color: #008000; text-decoration-color: #008000\">'__doc__'</span>: 'Entry point  <span style=\"color: #7f7f7f; text-decoration-color: #7f7f7f\">                  </span>\n",
       "<span style=\"color: #7fbfbf; text-decoration-color: #7fbfbf\">                    </span>         for launching an IPython kernel.\\n\\nThis is separate from the       <span style=\"color: #7f7f7f; text-decoration-color: #7f7f7f\">                  </span>\n",
       "<span style=\"color: #7fbfbf; text-decoration-color: #7fbfbf\">                    </span>         ipykernel pack<span style=\"color: #808000; text-decoration-color: #808000\">...</span>                                                   <span style=\"color: #7f7f7f; text-decoration-color: #7f7f7f\">                  </span>\n",
       "<span style=\"color: #7fbfbf; text-decoration-color: #7fbfbf\">                    </span>                  -&gt; <span style=\"font-weight: bold\">&lt;</span><span style=\"color: #ff00ff; text-decoration-color: #ff00ff; font-weight: bold\">code</span><span style=\"color: #000000; text-decoration-color: #000000\"> object &lt;module</span><span style=\"font-weight: bold\">&gt;</span> at <span style=\"color: #008080; text-decoration-color: #008080; font-weight: bold\">0x10fc10df0</span>, file              <span style=\"color: #7f7f7f; text-decoration-color: #7f7f7f\">                  </span>\n",
       "<span style=\"color: #7fbfbf; text-decoration-color: #7fbfbf\">                    </span>         <span style=\"color: #008000; text-decoration-color: #008000\">\"/Users/yeshwanth.y/miniconda3/lib/python3.9/site-packages/ipykerne</span> <span style=\"color: #7f7f7f; text-decoration-color: #7f7f7f\">                  </span>\n",
       "<span style=\"color: #7fbfbf; text-decoration-color: #7fbfbf\">                    </span>         <span style=\"color: #008000; text-decoration-color: #008000\">l_launcher.py\"</span>,<span style=\"color: #808000; text-decoration-color: #808000\">...</span>                                                  <span style=\"color: #7f7f7f; text-decoration-color: #7f7f7f\">                  </span>\n",
       "<span style=\"color: #7fbfbf; text-decoration-color: #7fbfbf\">                    </span>           File                                                              <span style=\"color: #7f7f7f; text-decoration-color: #7f7f7f\">                  </span>\n",
       "<span style=\"color: #7fbfbf; text-decoration-color: #7fbfbf\">                    </span>         <span style=\"color: #008000; text-decoration-color: #008000\">\"/Users/yeshwanth.y/miniconda3/lib/python3.9/site-packages/ipykerne</span> <span style=\"color: #7f7f7f; text-decoration-color: #7f7f7f\">                  </span>\n",
       "<span style=\"color: #7fbfbf; text-decoration-color: #7fbfbf\">                    </span>         <span style=\"color: #008000; text-decoration-color: #008000\">l_launcher.py\"</span>, line <span style=\"color: #008080; text-decoration-color: #008080; font-weight: bold\">16</span>, in <span style=\"font-weight: bold\">&lt;</span><span style=\"color: #ff00ff; text-decoration-color: #ff00ff; font-weight: bold\">module</span><span style=\"font-weight: bold\">&gt;</span>                                <span style=\"color: #7f7f7f; text-decoration-color: #7f7f7f\">                  </span>\n",
       "<span style=\"color: #7fbfbf; text-decoration-color: #7fbfbf\">                    </span>             <span style=\"color: #800080; text-decoration-color: #800080; font-weight: bold\">app.launch_new_instance</span><span style=\"font-weight: bold\">()</span>                                       <span style=\"color: #7f7f7f; text-decoration-color: #7f7f7f\">                  </span>\n",
       "<span style=\"color: #7fbfbf; text-decoration-color: #7fbfbf\">                    </span>             |   -&gt; <span style=\"font-weight: bold\">&lt;</span><span style=\"color: #ff00ff; text-decoration-color: #ff00ff; font-weight: bold\">bound</span><span style=\"color: #000000; text-decoration-color: #000000\"> method Application.launch_instance of &lt;class </span>     <span style=\"color: #7f7f7f; text-decoration-color: #7f7f7f\">                  </span>\n",
       "<span style=\"color: #7fbfbf; text-decoration-color: #7fbfbf\">                    </span>         <span style=\"color: #008000; text-decoration-color: #008000\">'ipykernel.kernelapp.IPKernelApp'</span><span style=\"font-weight: bold\">&gt;</span>&gt;                                 <span style=\"color: #7f7f7f; text-decoration-color: #7f7f7f\">                  </span>\n",
       "<span style=\"color: #7fbfbf; text-decoration-color: #7fbfbf\">                    </span>             -&gt; <span style=\"font-weight: bold\">&lt;</span><span style=\"color: #ff00ff; text-decoration-color: #ff00ff; font-weight: bold\">module</span><span style=\"color: #000000; text-decoration-color: #000000\"> </span><span style=\"color: #008000; text-decoration-color: #008000\">'ipykernel.kernelapp'</span><span style=\"color: #000000; text-decoration-color: #000000\"> from </span>                          <span style=\"color: #7f7f7f; text-decoration-color: #7f7f7f\">                  </span>\n",
       "<span style=\"color: #7fbfbf; text-decoration-color: #7fbfbf\">                    </span>         <span style=\"color: #008000; text-decoration-color: #008000\">'/Users/yeshwanth.y/miniconda3/lib/python3.9/site-packages/ipykerne</span> <span style=\"color: #7f7f7f; text-decoration-color: #7f7f7f\">                  </span>\n",
       "<span style=\"color: #7fbfbf; text-decoration-color: #7fbfbf\">                    </span>         <span style=\"color: #008000; text-decoration-color: #008000\">l/kernelapp.py'</span><span style=\"font-weight: bold\">&gt;</span>                                                    <span style=\"color: #7f7f7f; text-decoration-color: #7f7f7f\">                  </span>\n",
       "<span style=\"color: #7fbfbf; text-decoration-color: #7fbfbf\">                    </span>           File                                                              <span style=\"color: #7f7f7f; text-decoration-color: #7f7f7f\">                  </span>\n",
       "<span style=\"color: #7fbfbf; text-decoration-color: #7fbfbf\">                    </span>         <span style=\"color: #008000; text-decoration-color: #008000\">\"/Users/yeshwanth.y/miniconda3/lib/python3.9/site-packages/traitlet</span> <span style=\"color: #7f7f7f; text-decoration-color: #7f7f7f\">                  </span>\n",
       "<span style=\"color: #7fbfbf; text-decoration-color: #7fbfbf\">                    </span>         <span style=\"color: #008000; text-decoration-color: #008000\">s/config/application.py\"</span>, line <span style=\"color: #008080; text-decoration-color: #008080; font-weight: bold\">846</span>, in launch_instance              <span style=\"color: #7f7f7f; text-decoration-color: #7f7f7f\">                  </span>\n",
       "<span style=\"color: #7fbfbf; text-decoration-color: #7fbfbf\">                    </span>             <span style=\"color: #800080; text-decoration-color: #800080; font-weight: bold\">app.start</span><span style=\"font-weight: bold\">()</span>                                                     <span style=\"color: #7f7f7f; text-decoration-color: #7f7f7f\">                  </span>\n",
       "<span style=\"color: #7fbfbf; text-decoration-color: #7fbfbf\">                    </span>             |   -&gt; <span style=\"font-weight: bold\">&lt;</span><span style=\"color: #ff00ff; text-decoration-color: #ff00ff; font-weight: bold\">function</span><span style=\"color: #000000; text-decoration-color: #000000\"> IPKernelApp.start at </span><span style=\"color: #008080; text-decoration-color: #008080; font-weight: bold\">0x112680e50</span><span style=\"font-weight: bold\">&gt;</span>              <span style=\"color: #7f7f7f; text-decoration-color: #7f7f7f\">                  </span>\n",
       "<span style=\"color: #7fbfbf; text-decoration-color: #7fbfbf\">                    </span>             -&gt; <span style=\"font-weight: bold\">&lt;</span><span style=\"color: #ff00ff; text-decoration-color: #ff00ff; font-weight: bold\">ipykernel.kernelapp.IPKernelApp</span><span style=\"color: #000000; text-decoration-color: #000000\"> object at </span><span style=\"color: #008080; text-decoration-color: #008080; font-weight: bold\">0x10fa816a0</span><span style=\"font-weight: bold\">&gt;</span>      <span style=\"color: #7f7f7f; text-decoration-color: #7f7f7f\">                  </span>\n",
       "<span style=\"color: #7fbfbf; text-decoration-color: #7fbfbf\">                    </span>           File                                                              <span style=\"color: #7f7f7f; text-decoration-color: #7f7f7f\">                  </span>\n",
       "<span style=\"color: #7fbfbf; text-decoration-color: #7fbfbf\">                    </span>         <span style=\"color: #008000; text-decoration-color: #008000\">\"/Users/yeshwanth.y/miniconda3/lib/python3.9/site-packages/ipykerne</span> <span style=\"color: #7f7f7f; text-decoration-color: #7f7f7f\">                  </span>\n",
       "<span style=\"color: #7fbfbf; text-decoration-color: #7fbfbf\">                    </span>         <span style=\"color: #008000; text-decoration-color: #008000\">l/kernelapp.py\"</span>, line <span style=\"color: #008080; text-decoration-color: #008080; font-weight: bold\">677</span>, in start                                 <span style=\"color: #7f7f7f; text-decoration-color: #7f7f7f\">                  </span>\n",
       "<span style=\"color: #7fbfbf; text-decoration-color: #7fbfbf\">                    </span>             <span style=\"color: #800080; text-decoration-color: #800080; font-weight: bold\">self.io_loop.start</span><span style=\"font-weight: bold\">()</span>                                            <span style=\"color: #7f7f7f; text-decoration-color: #7f7f7f\">                  </span>\n",
       "<span style=\"color: #7fbfbf; text-decoration-color: #7fbfbf\">                    </span>             |    |       -&gt; <span style=\"font-weight: bold\">&lt;</span><span style=\"color: #ff00ff; text-decoration-color: #ff00ff; font-weight: bold\">function</span><span style=\"color: #000000; text-decoration-color: #000000\"> BaseAsyncIOLoop.start at </span><span style=\"color: #008080; text-decoration-color: #008080; font-weight: bold\">0x110a413a0</span><span style=\"font-weight: bold\">&gt;</span> <span style=\"color: #7f7f7f; text-decoration-color: #7f7f7f\">                  </span>\n",
       "<span style=\"color: #7fbfbf; text-decoration-color: #7fbfbf\">                    </span>             |    -&gt; <span style=\"font-weight: bold\">&lt;</span><span style=\"color: #ff00ff; text-decoration-color: #ff00ff; font-weight: bold\">tornado.platform.asyncio.AsyncIOMainLoop</span><span style=\"color: #000000; text-decoration-color: #000000\"> object at </span>    <span style=\"color: #7f7f7f; text-decoration-color: #7f7f7f\">                  </span>\n",
       "<span style=\"color: #7fbfbf; text-decoration-color: #7fbfbf\">                    </span>         <span style=\"color: #008080; text-decoration-color: #008080; font-weight: bold\">0x112689a30</span><span style=\"font-weight: bold\">&gt;</span>                                                        <span style=\"color: #7f7f7f; text-decoration-color: #7f7f7f\">                  </span>\n",
       "<span style=\"color: #7fbfbf; text-decoration-color: #7fbfbf\">                    </span>             -&gt; <span style=\"font-weight: bold\">&lt;</span><span style=\"color: #ff00ff; text-decoration-color: #ff00ff; font-weight: bold\">ipykernel.kernelapp.IPKernelApp</span><span style=\"color: #000000; text-decoration-color: #000000\"> object at </span><span style=\"color: #008080; text-decoration-color: #008080; font-weight: bold\">0x10fa816a0</span><span style=\"font-weight: bold\">&gt;</span>      <span style=\"color: #7f7f7f; text-decoration-color: #7f7f7f\">                  </span>\n",
       "<span style=\"color: #7fbfbf; text-decoration-color: #7fbfbf\">                    </span>           File                                                              <span style=\"color: #7f7f7f; text-decoration-color: #7f7f7f\">                  </span>\n",
       "<span style=\"color: #7fbfbf; text-decoration-color: #7fbfbf\">                    </span>         <span style=\"color: #008000; text-decoration-color: #008000\">\"/Users/yeshwanth.y/miniconda3/lib/python3.9/site-packages/tornado/</span> <span style=\"color: #7f7f7f; text-decoration-color: #7f7f7f\">                  </span>\n",
       "<span style=\"color: #7fbfbf; text-decoration-color: #7fbfbf\">                    </span>         <span style=\"color: #008000; text-decoration-color: #008000\">platform/asyncio.py\"</span>, line <span style=\"color: #008080; text-decoration-color: #008080; font-weight: bold\">199</span>, in start                            <span style=\"color: #7f7f7f; text-decoration-color: #7f7f7f\">                  </span>\n",
       "<span style=\"color: #7fbfbf; text-decoration-color: #7fbfbf\">                    </span>             <span style=\"color: #800080; text-decoration-color: #800080; font-weight: bold\">self.asyncio_loop.run_forever</span><span style=\"font-weight: bold\">()</span>                                 <span style=\"color: #7f7f7f; text-decoration-color: #7f7f7f\">                  </span>\n",
       "<span style=\"color: #7fbfbf; text-decoration-color: #7fbfbf\">                    </span>             |    |            -&gt; <span style=\"font-weight: bold\">&lt;</span><span style=\"color: #ff00ff; text-decoration-color: #ff00ff; font-weight: bold\">function</span><span style=\"color: #000000; text-decoration-color: #000000\"> BaseEventLoop.run_forever at </span>    <span style=\"color: #7f7f7f; text-decoration-color: #7f7f7f\">                  </span>\n",
       "<span style=\"color: #7fbfbf; text-decoration-color: #7fbfbf\">                    </span>         <span style=\"color: #008080; text-decoration-color: #008080; font-weight: bold\">0x110722ee0</span><span style=\"font-weight: bold\">&gt;</span>                                                        <span style=\"color: #7f7f7f; text-decoration-color: #7f7f7f\">                  </span>\n",
       "<span style=\"color: #7fbfbf; text-decoration-color: #7fbfbf\">                    </span>             |    -&gt; <span style=\"font-weight: bold\">&lt;</span><span style=\"color: #ff00ff; text-decoration-color: #ff00ff; font-weight: bold\">_UnixSelectorEventLoop</span><span style=\"color: #000000; text-decoration-color: #000000\"> </span><span style=\"color: #808000; text-decoration-color: #808000\">running</span><span style=\"color: #000000; text-decoration-color: #000000\">=</span><span style=\"color: #00ff00; text-decoration-color: #00ff00; font-style: italic\">True</span><span style=\"color: #000000; text-decoration-color: #000000\"> </span><span style=\"color: #808000; text-decoration-color: #808000\">closed</span><span style=\"color: #000000; text-decoration-color: #000000\">=</span><span style=\"color: #ff0000; text-decoration-color: #ff0000; font-style: italic\">False</span><span style=\"color: #000000; text-decoration-color: #000000\"> </span>      <span style=\"color: #7f7f7f; text-decoration-color: #7f7f7f\">                  </span>\n",
       "<span style=\"color: #7fbfbf; text-decoration-color: #7fbfbf\">                    </span>         <span style=\"color: #808000; text-decoration-color: #808000\">debug</span><span style=\"color: #000000; text-decoration-color: #000000\">=</span><span style=\"color: #ff0000; text-decoration-color: #ff0000; font-style: italic\">False</span><span style=\"font-weight: bold\">&gt;</span>                                                        <span style=\"color: #7f7f7f; text-decoration-color: #7f7f7f\">                  </span>\n",
       "<span style=\"color: #7fbfbf; text-decoration-color: #7fbfbf\">                    </span>             -&gt; <span style=\"font-weight: bold\">&lt;</span><span style=\"color: #ff00ff; text-decoration-color: #ff00ff; font-weight: bold\">tornado.platform.asyncio.AsyncIOMainLoop</span><span style=\"color: #000000; text-decoration-color: #000000\"> object at </span>         <span style=\"color: #7f7f7f; text-decoration-color: #7f7f7f\">                  </span>\n",
       "<span style=\"color: #7fbfbf; text-decoration-color: #7fbfbf\">                    </span>         <span style=\"color: #008080; text-decoration-color: #008080; font-weight: bold\">0x112689a30</span><span style=\"font-weight: bold\">&gt;</span>                                                        <span style=\"color: #7f7f7f; text-decoration-color: #7f7f7f\">                  </span>\n",
       "<span style=\"color: #7fbfbf; text-decoration-color: #7fbfbf\">                    </span>           File                                                              <span style=\"color: #7f7f7f; text-decoration-color: #7f7f7f\">                  </span>\n",
       "<span style=\"color: #7fbfbf; text-decoration-color: #7fbfbf\">                    </span>         <span style=\"color: #008000; text-decoration-color: #008000\">\"/Users/yeshwanth.y/miniconda3/lib/python3.9/asyncio/base_events.py</span> <span style=\"color: #7f7f7f; text-decoration-color: #7f7f7f\">                  </span>\n",
       "<span style=\"color: #7fbfbf; text-decoration-color: #7fbfbf\">                    </span>         <span style=\"color: #008000; text-decoration-color: #008000\">\"</span>, line <span style=\"color: #008080; text-decoration-color: #008080; font-weight: bold\">596</span>, in run_forever                                         <span style=\"color: #7f7f7f; text-decoration-color: #7f7f7f\">                  </span>\n",
       "<span style=\"color: #7fbfbf; text-decoration-color: #7fbfbf\">                    </span>             <span style=\"color: #800080; text-decoration-color: #800080; font-weight: bold\">self._run_once</span><span style=\"font-weight: bold\">()</span>                                                <span style=\"color: #7f7f7f; text-decoration-color: #7f7f7f\">                  </span>\n",
       "<span style=\"color: #7fbfbf; text-decoration-color: #7fbfbf\">                    </span>             |    -&gt; <span style=\"font-weight: bold\">&lt;</span><span style=\"color: #ff00ff; text-decoration-color: #ff00ff; font-weight: bold\">function</span><span style=\"color: #000000; text-decoration-color: #000000\"> BaseEventLoop._run_once at </span><span style=\"color: #008080; text-decoration-color: #008080; font-weight: bold\">0x110726a60</span><span style=\"font-weight: bold\">&gt;</span>       <span style=\"color: #7f7f7f; text-decoration-color: #7f7f7f\">                  </span>\n",
       "<span style=\"color: #7fbfbf; text-decoration-color: #7fbfbf\">                    </span>             -&gt; <span style=\"font-weight: bold\">&lt;</span><span style=\"color: #ff00ff; text-decoration-color: #ff00ff; font-weight: bold\">_UnixSelectorEventLoop</span><span style=\"color: #000000; text-decoration-color: #000000\"> </span><span style=\"color: #808000; text-decoration-color: #808000\">running</span><span style=\"color: #000000; text-decoration-color: #000000\">=</span><span style=\"color: #00ff00; text-decoration-color: #00ff00; font-style: italic\">True</span><span style=\"color: #000000; text-decoration-color: #000000\"> </span><span style=\"color: #808000; text-decoration-color: #808000\">closed</span><span style=\"color: #000000; text-decoration-color: #000000\">=</span><span style=\"color: #ff0000; text-decoration-color: #ff0000; font-style: italic\">False</span><span style=\"color: #000000; text-decoration-color: #000000\"> </span>           <span style=\"color: #7f7f7f; text-decoration-color: #7f7f7f\">                  </span>\n",
       "<span style=\"color: #7fbfbf; text-decoration-color: #7fbfbf\">                    </span>         <span style=\"color: #808000; text-decoration-color: #808000\">debug</span><span style=\"color: #000000; text-decoration-color: #000000\">=</span><span style=\"color: #ff0000; text-decoration-color: #ff0000; font-style: italic\">False</span><span style=\"font-weight: bold\">&gt;</span>                                                        <span style=\"color: #7f7f7f; text-decoration-color: #7f7f7f\">                  </span>\n",
       "<span style=\"color: #7fbfbf; text-decoration-color: #7fbfbf\">                    </span>           File                                                              <span style=\"color: #7f7f7f; text-decoration-color: #7f7f7f\">                  </span>\n",
       "<span style=\"color: #7fbfbf; text-decoration-color: #7fbfbf\">                    </span>         <span style=\"color: #008000; text-decoration-color: #008000\">\"/Users/yeshwanth.y/miniconda3/lib/python3.9/asyncio/base_events.py</span> <span style=\"color: #7f7f7f; text-decoration-color: #7f7f7f\">                  </span>\n",
       "<span style=\"color: #7fbfbf; text-decoration-color: #7fbfbf\">                    </span>         <span style=\"color: #008000; text-decoration-color: #008000\">\"</span>, line <span style=\"color: #008080; text-decoration-color: #008080; font-weight: bold\">1890</span>, in _run_once                                          <span style=\"color: #7f7f7f; text-decoration-color: #7f7f7f\">                  </span>\n",
       "<span style=\"color: #7fbfbf; text-decoration-color: #7fbfbf\">                    </span>             <span style=\"color: #800080; text-decoration-color: #800080; font-weight: bold\">handle._run</span><span style=\"font-weight: bold\">()</span>                                                   <span style=\"color: #7f7f7f; text-decoration-color: #7f7f7f\">                  </span>\n",
       "<span style=\"color: #7fbfbf; text-decoration-color: #7fbfbf\">                    </span>             |      -&gt; <span style=\"font-weight: bold\">&lt;</span><span style=\"color: #ff00ff; text-decoration-color: #ff00ff; font-weight: bold\">function</span><span style=\"color: #000000; text-decoration-color: #000000\"> Handle._run at </span><span style=\"color: #008080; text-decoration-color: #008080; font-weight: bold\">0x1106245e0</span><span style=\"font-weight: bold\">&gt;</span>                 <span style=\"color: #7f7f7f; text-decoration-color: #7f7f7f\">                  </span>\n",
       "<span style=\"color: #7fbfbf; text-decoration-color: #7fbfbf\">                    </span>             -&gt; <span style=\"font-weight: bold\">&lt;</span><span style=\"color: #ff00ff; text-decoration-color: #ff00ff; font-weight: bold\">Handle</span><span style=\"color: #000000; text-decoration-color: #000000\"> &lt;TaskWakeupMethWrapper object at </span>                    <span style=\"color: #7f7f7f; text-decoration-color: #7f7f7f\">                  </span>\n",
       "<span style=\"color: #7fbfbf; text-decoration-color: #7fbfbf\">                    </span>         <span style=\"color: #008080; text-decoration-color: #008080; font-weight: bold\">0x119dac820</span><span style=\"font-weight: bold\">&gt;(&lt;</span><span style=\"color: #ff00ff; text-decoration-color: #ff00ff; font-weight: bold\">Future</span><span style=\"color: #000000; text-decoration-color: #000000\"> finis</span><span style=\"color: #808000; text-decoration-color: #808000\">...</span><span style=\"color: #008080; text-decoration-color: #008080; font-weight: bold\">040</span><span style=\"font-weight: bold\">&gt;</span>, <span style=\"color: #808000; text-decoration-color: #808000\">...</span><span style=\"font-weight: bold\">]</span>,<span style=\"font-weight: bold\">))</span>&gt;<span style=\"font-weight: bold\">)</span>&gt;                       <span style=\"color: #7f7f7f; text-decoration-color: #7f7f7f\">                  </span>\n",
       "<span style=\"color: #7fbfbf; text-decoration-color: #7fbfbf\">                    </span>           File                                                              <span style=\"color: #7f7f7f; text-decoration-color: #7f7f7f\">                  </span>\n",
       "<span style=\"color: #7fbfbf; text-decoration-color: #7fbfbf\">                    </span>         <span style=\"color: #008000; text-decoration-color: #008000\">\"/Users/yeshwanth.y/miniconda3/lib/python3.9/asyncio/events.py\"</span>,    <span style=\"color: #7f7f7f; text-decoration-color: #7f7f7f\">                  </span>\n",
       "<span style=\"color: #7fbfbf; text-decoration-color: #7fbfbf\">                    </span>         line <span style=\"color: #008080; text-decoration-color: #008080; font-weight: bold\">80</span>, in _run                                                    <span style=\"color: #7f7f7f; text-decoration-color: #7f7f7f\">                  </span>\n",
       "<span style=\"color: #7fbfbf; text-decoration-color: #7fbfbf\">                    </span>             <span style=\"color: #800080; text-decoration-color: #800080; font-weight: bold\">self._context.run</span><span style=\"font-weight: bold\">(</span>self._callback, *self._args<span style=\"font-weight: bold\">)</span>                  <span style=\"color: #7f7f7f; text-decoration-color: #7f7f7f\">                  </span>\n",
       "<span style=\"color: #7fbfbf; text-decoration-color: #7fbfbf\">                    </span>             |    |            |    |           |    -&gt; <span style=\"font-weight: bold\">&lt;</span><span style=\"color: #ff00ff; text-decoration-color: #ff00ff; font-weight: bold\">member</span><span style=\"color: #000000; text-decoration-color: #000000\"> </span><span style=\"color: #008000; text-decoration-color: #008000\">'_args'</span><span style=\"color: #000000; text-decoration-color: #000000\"> of </span>  <span style=\"color: #7f7f7f; text-decoration-color: #7f7f7f\">                  </span>\n",
       "<span style=\"color: #7fbfbf; text-decoration-color: #7fbfbf\">                    </span>         <span style=\"color: #008000; text-decoration-color: #008000\">'Handle'</span><span style=\"color: #000000; text-decoration-color: #000000\"> objects</span><span style=\"font-weight: bold\">&gt;</span>                                                   <span style=\"color: #7f7f7f; text-decoration-color: #7f7f7f\">                  </span>\n",
       "<span style=\"color: #7fbfbf; text-decoration-color: #7fbfbf\">                    </span>             |    |            |    |           -&gt; <span style=\"font-weight: bold\">&lt;</span><span style=\"color: #ff00ff; text-decoration-color: #ff00ff; font-weight: bold\">Handle</span><span style=\"color: #000000; text-decoration-color: #000000\"> </span>                  <span style=\"color: #7f7f7f; text-decoration-color: #7f7f7f\">                  </span>\n",
       "<span style=\"color: #7fbfbf; text-decoration-color: #7fbfbf\">                    </span>         <span style=\"color: #000000; text-decoration-color: #000000\">&lt;TaskWakeupMethWrapper object at </span><span style=\"color: #008080; text-decoration-color: #008080; font-weight: bold\">0x119dac820</span><span style=\"font-weight: bold\">&gt;(&lt;</span><span style=\"color: #ff00ff; text-decoration-color: #ff00ff; font-weight: bold\">Future</span><span style=\"color: #000000; text-decoration-color: #000000\"> finis</span><span style=\"color: #808000; text-decoration-color: #808000\">...</span><span style=\"color: #008080; text-decoration-color: #008080; font-weight: bold\">040</span><span style=\"font-weight: bold\">&gt;</span>, <span style=\"color: #7f7f7f; text-decoration-color: #7f7f7f\">                  </span>\n",
       "<span style=\"color: #7fbfbf; text-decoration-color: #7fbfbf\">                    </span>         <span style=\"color: #808000; text-decoration-color: #808000\">...</span><span style=\"font-weight: bold\">]</span>,<span style=\"font-weight: bold\">))</span>&gt;<span style=\"font-weight: bold\">)</span>&gt;                                                          <span style=\"color: #7f7f7f; text-decoration-color: #7f7f7f\">                  </span>\n",
       "<span style=\"color: #7fbfbf; text-decoration-color: #7fbfbf\">                    </span>             |    |            |    -&gt; <span style=\"font-weight: bold\">&lt;</span><span style=\"color: #ff00ff; text-decoration-color: #ff00ff; font-weight: bold\">member</span><span style=\"color: #000000; text-decoration-color: #000000\"> </span><span style=\"color: #008000; text-decoration-color: #008000\">'_callback'</span><span style=\"color: #000000; text-decoration-color: #000000\"> of </span><span style=\"color: #008000; text-decoration-color: #008000\">'Handle'</span><span style=\"color: #000000; text-decoration-color: #000000\"> </span>      <span style=\"color: #7f7f7f; text-decoration-color: #7f7f7f\">                  </span>\n",
       "<span style=\"color: #7fbfbf; text-decoration-color: #7fbfbf\">                    </span>         <span style=\"color: #000000; text-decoration-color: #000000\">objects</span><span style=\"font-weight: bold\">&gt;</span>                                                            <span style=\"color: #7f7f7f; text-decoration-color: #7f7f7f\">                  </span>\n",
       "<span style=\"color: #7fbfbf; text-decoration-color: #7fbfbf\">                    </span>             |    |            -&gt; <span style=\"font-weight: bold\">&lt;</span><span style=\"color: #ff00ff; text-decoration-color: #ff00ff; font-weight: bold\">Handle</span><span style=\"color: #000000; text-decoration-color: #000000\"> &lt;TaskWakeupMethWrapper object at </span>  <span style=\"color: #7f7f7f; text-decoration-color: #7f7f7f\">                  </span>\n",
       "<span style=\"color: #7fbfbf; text-decoration-color: #7fbfbf\">                    </span>         <span style=\"color: #008080; text-decoration-color: #008080; font-weight: bold\">0x119dac820</span><span style=\"font-weight: bold\">&gt;(&lt;</span><span style=\"color: #ff00ff; text-decoration-color: #ff00ff; font-weight: bold\">Future</span><span style=\"color: #000000; text-decoration-color: #000000\"> finis</span><span style=\"color: #808000; text-decoration-color: #808000\">...</span><span style=\"color: #008080; text-decoration-color: #008080; font-weight: bold\">040</span><span style=\"font-weight: bold\">&gt;</span>, <span style=\"color: #808000; text-decoration-color: #808000\">...</span><span style=\"font-weight: bold\">]</span>,<span style=\"font-weight: bold\">))</span>&gt;<span style=\"font-weight: bold\">)</span>&gt;                       <span style=\"color: #7f7f7f; text-decoration-color: #7f7f7f\">                  </span>\n",
       "<span style=\"color: #7fbfbf; text-decoration-color: #7fbfbf\">                    </span>             |    -&gt; <span style=\"font-weight: bold\">&lt;</span><span style=\"color: #ff00ff; text-decoration-color: #ff00ff; font-weight: bold\">member</span><span style=\"color: #000000; text-decoration-color: #000000\"> </span><span style=\"color: #008000; text-decoration-color: #008000\">'_context'</span><span style=\"color: #000000; text-decoration-color: #000000\"> of </span><span style=\"color: #008000; text-decoration-color: #008000\">'Handle'</span><span style=\"color: #000000; text-decoration-color: #000000\"> objects</span><span style=\"font-weight: bold\">&gt;</span>                 <span style=\"color: #7f7f7f; text-decoration-color: #7f7f7f\">                  </span>\n",
       "<span style=\"color: #7fbfbf; text-decoration-color: #7fbfbf\">                    </span>             -&gt; <span style=\"font-weight: bold\">&lt;</span><span style=\"color: #ff00ff; text-decoration-color: #ff00ff; font-weight: bold\">Handle</span><span style=\"color: #000000; text-decoration-color: #000000\"> &lt;TaskWakeupMethWrapper object at </span>                    <span style=\"color: #7f7f7f; text-decoration-color: #7f7f7f\">                  </span>\n",
       "<span style=\"color: #7fbfbf; text-decoration-color: #7fbfbf\">                    </span>         <span style=\"color: #008080; text-decoration-color: #008080; font-weight: bold\">0x119dac820</span><span style=\"font-weight: bold\">&gt;(&lt;</span><span style=\"color: #ff00ff; text-decoration-color: #ff00ff; font-weight: bold\">Future</span><span style=\"color: #000000; text-decoration-color: #000000\"> finis</span><span style=\"color: #808000; text-decoration-color: #808000\">...</span><span style=\"color: #008080; text-decoration-color: #008080; font-weight: bold\">040</span><span style=\"font-weight: bold\">&gt;</span>, <span style=\"color: #808000; text-decoration-color: #808000\">...</span><span style=\"font-weight: bold\">]</span>,<span style=\"font-weight: bold\">))</span>&gt;<span style=\"font-weight: bold\">)</span>&gt;                       <span style=\"color: #7f7f7f; text-decoration-color: #7f7f7f\">                  </span>\n",
       "<span style=\"color: #7fbfbf; text-decoration-color: #7fbfbf\">                    </span>           File                                                              <span style=\"color: #7f7f7f; text-decoration-color: #7f7f7f\">                  </span>\n",
       "<span style=\"color: #7fbfbf; text-decoration-color: #7fbfbf\">                    </span>         <span style=\"color: #008000; text-decoration-color: #008000\">\"/Users/yeshwanth.y/miniconda3/lib/python3.9/site-packages/ipykerne</span> <span style=\"color: #7f7f7f; text-decoration-color: #7f7f7f\">                  </span>\n",
       "<span style=\"color: #7fbfbf; text-decoration-color: #7fbfbf\">                    </span>         <span style=\"color: #008000; text-decoration-color: #008000\">l/kernelbase.py\"</span>, line <span style=\"color: #008080; text-decoration-color: #008080; font-weight: bold\">457</span>, in dispatch_queue                       <span style=\"color: #7f7f7f; text-decoration-color: #7f7f7f\">                  </span>\n",
       "<span style=\"color: #7fbfbf; text-decoration-color: #7fbfbf\">                    </span>             await <span style=\"color: #800080; text-decoration-color: #800080; font-weight: bold\">self.process_one</span><span style=\"font-weight: bold\">()</span>                                        <span style=\"color: #7f7f7f; text-decoration-color: #7f7f7f\">                  </span>\n",
       "<span style=\"color: #7fbfbf; text-decoration-color: #7fbfbf\">                    </span>                   |    -&gt; <span style=\"font-weight: bold\">&lt;</span><span style=\"color: #ff00ff; text-decoration-color: #ff00ff; font-weight: bold\">function</span><span style=\"color: #000000; text-decoration-color: #000000\"> Kernel.process_one at </span><span style=\"color: #008080; text-decoration-color: #008080; font-weight: bold\">0x111eb4040</span><span style=\"font-weight: bold\">&gt;</span>      <span style=\"color: #7f7f7f; text-decoration-color: #7f7f7f\">                  </span>\n",
       "<span style=\"color: #7fbfbf; text-decoration-color: #7fbfbf\">                    </span>                   -&gt; <span style=\"font-weight: bold\">&lt;</span><span style=\"color: #ff00ff; text-decoration-color: #ff00ff; font-weight: bold\">ipykernel.ipkernel.IPythonKernel</span><span style=\"color: #000000; text-decoration-color: #000000\"> object at </span>           <span style=\"color: #7f7f7f; text-decoration-color: #7f7f7f\">                  </span>\n",
       "<span style=\"color: #7fbfbf; text-decoration-color: #7fbfbf\">                    </span>         <span style=\"color: #008080; text-decoration-color: #008080; font-weight: bold\">0x1126a7b80</span><span style=\"font-weight: bold\">&gt;</span>                                                        <span style=\"color: #7f7f7f; text-decoration-color: #7f7f7f\">                  </span>\n",
       "<span style=\"color: #7fbfbf; text-decoration-color: #7fbfbf\">                    </span>           File                                                              <span style=\"color: #7f7f7f; text-decoration-color: #7f7f7f\">                  </span>\n",
       "<span style=\"color: #7fbfbf; text-decoration-color: #7fbfbf\">                    </span>         <span style=\"color: #008000; text-decoration-color: #008000\">\"/Users/yeshwanth.y/miniconda3/lib/python3.9/site-packages/ipykerne</span> <span style=\"color: #7f7f7f; text-decoration-color: #7f7f7f\">                  </span>\n",
       "<span style=\"color: #7fbfbf; text-decoration-color: #7fbfbf\">                    </span>         <span style=\"color: #008000; text-decoration-color: #008000\">l/kernelbase.py\"</span>, line <span style=\"color: #008080; text-decoration-color: #008080; font-weight: bold\">446</span>, in process_one                          <span style=\"color: #7f7f7f; text-decoration-color: #7f7f7f\">                  </span>\n",
       "<span style=\"color: #7fbfbf; text-decoration-color: #7fbfbf\">                    </span>             await <span style=\"color: #800080; text-decoration-color: #800080; font-weight: bold\">dispatch</span><span style=\"font-weight: bold\">(</span>*args<span style=\"font-weight: bold\">)</span>                                           <span style=\"color: #7f7f7f; text-decoration-color: #7f7f7f\">                  </span>\n",
       "<span style=\"color: #7fbfbf; text-decoration-color: #7fbfbf\">                    </span>                   |         -&gt; <span style=\"font-weight: bold\">([&lt;</span><span style=\"color: #ff00ff; text-decoration-color: #ff00ff; font-weight: bold\">zmq.sugar.frame.Frame</span><span style=\"color: #000000; text-decoration-color: #000000\"> object at </span>          <span style=\"color: #7f7f7f; text-decoration-color: #7f7f7f\">                  </span>\n",
       "<span style=\"color: #7fbfbf; text-decoration-color: #7fbfbf\">                    </span>         <span style=\"color: #008080; text-decoration-color: #008080; font-weight: bold\">0x112735ca0</span><span style=\"font-weight: bold\">&gt;</span>, <span style=\"font-weight: bold\">&lt;</span><span style=\"color: #ff00ff; text-decoration-color: #ff00ff; font-weight: bold\">zmq.sugar.frame.Frame</span><span style=\"color: #000000; text-decoration-color: #000000\"> object at </span><span style=\"color: #008080; text-decoration-color: #008080; font-weight: bold\">0x112735bf0</span><span style=\"font-weight: bold\">&gt;</span>,        <span style=\"color: #7f7f7f; text-decoration-color: #7f7f7f\">                  </span>\n",
       "<span style=\"color: #7fbfbf; text-decoration-color: #7fbfbf\">                    </span>         <span style=\"font-weight: bold\">&lt;</span><span style=\"color: #ff00ff; text-decoration-color: #ff00ff; font-weight: bold\">zmq.sugar.frame.Frame</span><span style=\"color: #000000; text-decoration-color: #000000\"> object</span><span style=\"color: #808000; text-decoration-color: #808000\">...</span>                                    <span style=\"color: #7f7f7f; text-decoration-color: #7f7f7f\">                  </span>\n",
       "<span style=\"color: #7fbfbf; text-decoration-color: #7fbfbf\">                    </span>         <span style=\"color: #000000; text-decoration-color: #000000\">          -</span><span style=\"font-weight: bold\">&gt;</span> <span style=\"font-weight: bold\">&lt;</span><span style=\"color: #ff00ff; text-decoration-color: #ff00ff; font-weight: bold\">bound</span><span style=\"color: #000000; text-decoration-color: #000000\"> method Kernel.dispatch_shell of </span>                <span style=\"color: #7f7f7f; text-decoration-color: #7f7f7f\">                  </span>\n",
       "<span style=\"color: #7fbfbf; text-decoration-color: #7fbfbf\">                    </span>         <span style=\"color: #000000; text-decoration-color: #000000\">&lt;ipykernel.ipkernel.IPythonKernel object at </span><span style=\"color: #008080; text-decoration-color: #008080; font-weight: bold\">0x1126a7b80</span><span style=\"font-weight: bold\">&gt;</span>&gt;           <span style=\"color: #7f7f7f; text-decoration-color: #7f7f7f\">                  </span>\n",
       "<span style=\"color: #7fbfbf; text-decoration-color: #7fbfbf\">                    </span>           File                                                              <span style=\"color: #7f7f7f; text-decoration-color: #7f7f7f\">                  </span>\n",
       "<span style=\"color: #7fbfbf; text-decoration-color: #7fbfbf\">                    </span>         <span style=\"color: #008000; text-decoration-color: #008000\">\"/Users/yeshwanth.y/miniconda3/lib/python3.9/site-packages/ipykerne</span> <span style=\"color: #7f7f7f; text-decoration-color: #7f7f7f\">                  </span>\n",
       "<span style=\"color: #7fbfbf; text-decoration-color: #7fbfbf\">                    </span>         <span style=\"color: #008000; text-decoration-color: #008000\">l/kernelbase.py\"</span>, line <span style=\"color: #008080; text-decoration-color: #008080; font-weight: bold\">353</span>, in dispatch_shell                       <span style=\"color: #7f7f7f; text-decoration-color: #7f7f7f\">                  </span>\n",
       "<span style=\"color: #7fbfbf; text-decoration-color: #7fbfbf\">                    </span>             await result                                                    <span style=\"color: #7f7f7f; text-decoration-color: #7f7f7f\">                  </span>\n",
       "<span style=\"color: #7fbfbf; text-decoration-color: #7fbfbf\">                    </span>                   -&gt; <span style=\"font-weight: bold\">&lt;</span><span style=\"color: #ff00ff; text-decoration-color: #ff00ff; font-weight: bold\">coroutine</span><span style=\"color: #000000; text-decoration-color: #000000\"> object Kernel.execute_request at </span>           <span style=\"color: #7f7f7f; text-decoration-color: #7f7f7f\">                  </span>\n",
       "<span style=\"color: #7fbfbf; text-decoration-color: #7fbfbf\">                    </span>         <span style=\"color: #008080; text-decoration-color: #008080; font-weight: bold\">0x1127457c0</span><span style=\"font-weight: bold\">&gt;</span>                                                        <span style=\"color: #7f7f7f; text-decoration-color: #7f7f7f\">                  </span>\n",
       "<span style=\"color: #7fbfbf; text-decoration-color: #7fbfbf\">                    </span>           File                                                              <span style=\"color: #7f7f7f; text-decoration-color: #7f7f7f\">                  </span>\n",
       "<span style=\"color: #7fbfbf; text-decoration-color: #7fbfbf\">                    </span>         <span style=\"color: #008000; text-decoration-color: #008000\">\"/Users/yeshwanth.y/miniconda3/lib/python3.9/site-packages/ipykerne</span> <span style=\"color: #7f7f7f; text-decoration-color: #7f7f7f\">                  </span>\n",
       "<span style=\"color: #7fbfbf; text-decoration-color: #7fbfbf\">                    </span>         <span style=\"color: #008000; text-decoration-color: #008000\">l/kernelbase.py\"</span>, line <span style=\"color: #008080; text-decoration-color: #008080; font-weight: bold\">648</span>, in execute_request                      <span style=\"color: #7f7f7f; text-decoration-color: #7f7f7f\">                  </span>\n",
       "<span style=\"color: #7fbfbf; text-decoration-color: #7fbfbf\">                    </span>             reply_content = await reply_content                             <span style=\"color: #7f7f7f; text-decoration-color: #7f7f7f\">                  </span>\n",
       "<span style=\"color: #7fbfbf; text-decoration-color: #7fbfbf\">                    </span>                                   -&gt; <span style=\"font-weight: bold\">&lt;</span><span style=\"color: #ff00ff; text-decoration-color: #ff00ff; font-weight: bold\">coroutine</span><span style=\"color: #000000; text-decoration-color: #000000\"> object </span>                     <span style=\"color: #7f7f7f; text-decoration-color: #7f7f7f\">                  </span>\n",
       "<span style=\"color: #7fbfbf; text-decoration-color: #7fbfbf\">                    </span>         <span style=\"color: #000000; text-decoration-color: #000000\">IPythonKernel.do_execute at </span><span style=\"color: #008080; text-decoration-color: #008080; font-weight: bold\">0x1127451c0</span><span style=\"font-weight: bold\">&gt;</span>                            <span style=\"color: #7f7f7f; text-decoration-color: #7f7f7f\">                  </span>\n",
       "<span style=\"color: #7fbfbf; text-decoration-color: #7fbfbf\">                    </span>           File                                                              <span style=\"color: #7f7f7f; text-decoration-color: #7f7f7f\">                  </span>\n",
       "<span style=\"color: #7fbfbf; text-decoration-color: #7fbfbf\">                    </span>         <span style=\"color: #008000; text-decoration-color: #008000\">\"/Users/yeshwanth.y/miniconda3/lib/python3.9/site-packages/ipykerne</span> <span style=\"color: #7f7f7f; text-decoration-color: #7f7f7f\">                  </span>\n",
       "<span style=\"color: #7fbfbf; text-decoration-color: #7fbfbf\">                    </span>         <span style=\"color: #008000; text-decoration-color: #008000\">l/ipkernel.py\"</span>, line <span style=\"color: #008080; text-decoration-color: #008080; font-weight: bold\">353</span>, in do_execute                             <span style=\"color: #7f7f7f; text-decoration-color: #7f7f7f\">                  </span>\n",
       "<span style=\"color: #7fbfbf; text-decoration-color: #7fbfbf\">                    </span>             res = <span style=\"color: #800080; text-decoration-color: #800080; font-weight: bold\">shell.run_cell</span><span style=\"font-weight: bold\">(</span>code, <span style=\"color: #808000; text-decoration-color: #808000\">store_history</span>=<span style=\"color: #800080; text-decoration-color: #800080\">store_history</span>,         <span style=\"color: #7f7f7f; text-decoration-color: #7f7f7f\">                  </span>\n",
       "<span style=\"color: #7fbfbf; text-decoration-color: #7fbfbf\">                    </span>         <span style=\"color: #808000; text-decoration-color: #808000\">silent</span>=<span style=\"color: #800080; text-decoration-color: #800080\">silent</span><span style=\"font-weight: bold\">)</span>                                                      <span style=\"color: #7f7f7f; text-decoration-color: #7f7f7f\">                  </span>\n",
       "<span style=\"color: #7fbfbf; text-decoration-color: #7fbfbf\">                    </span>                   |     |        |                   |                      <span style=\"color: #7f7f7f; text-decoration-color: #7f7f7f\">                  </span>\n",
       "<span style=\"color: #7fbfbf; text-decoration-color: #7fbfbf\">                    </span>         -&gt; <span style=\"color: #ff0000; text-decoration-color: #ff0000; font-style: italic\">False</span>                                                            <span style=\"color: #7f7f7f; text-decoration-color: #7f7f7f\">                  </span>\n",
       "<span style=\"color: #7fbfbf; text-decoration-color: #7fbfbf\">                    </span>                   |     |        |                   -&gt; <span style=\"color: #00ff00; text-decoration-color: #00ff00; font-style: italic\">True</span>                <span style=\"color: #7f7f7f; text-decoration-color: #7f7f7f\">                  </span>\n",
       "<span style=\"color: #7fbfbf; text-decoration-color: #7fbfbf\">                    </span>                   |     |        -&gt; 'def <span style=\"color: #800080; text-decoration-color: #800080; font-weight: bold\">do</span><span style=\"font-weight: bold\">()</span>:\\n    try:\\n        <span style=\"color: #008080; text-decoration-color: #008080; font-weight: bold\">1</span> <span style=\"color: #800080; text-decoration-color: #800080\">/</span> <span style=\"color: #008080; text-decoration-color: #008080; font-weight: bold\">0</span>\\n   <span style=\"color: #7f7f7f; text-decoration-color: #7f7f7f\">                  </span>\n",
       "<span style=\"color: #7fbfbf; text-decoration-color: #7fbfbf\">                    </span>         except Exception as e:\\n        #                                   <span style=\"color: #7f7f7f; text-decoration-color: #7f7f7f\">                  </span>\n",
       "<span style=\"color: #7fbfbf; text-decoration-color: #7fbfbf\">                    </span>         <span style=\"color: #800080; text-decoration-color: #800080; font-weight: bold\">console.print_exception</span><span style=\"font-weight: bold\">(</span><span style=\"color: #808000; text-decoration-color: #808000\">max_frames</span>=<span style=\"color: #008080; text-decoration-color: #008080; font-weight: bold\">20</span><span style=\"font-weight: bold\">)</span>\\n        lo<span style=\"color: #808000; text-decoration-color: #808000\">...</span>               <span style=\"color: #7f7f7f; text-decoration-color: #7f7f7f\">                  </span>\n",
       "<span style=\"color: #7fbfbf; text-decoration-color: #7fbfbf\">                    </span>                   |     -&gt; <span style=\"font-weight: bold\">&lt;</span><span style=\"color: #ff00ff; text-decoration-color: #ff00ff; font-weight: bold\">function</span><span style=\"color: #000000; text-decoration-color: #000000\"> ZMQInteractiveShell.run_cell at </span>       <span style=\"color: #7f7f7f; text-decoration-color: #7f7f7f\">                  </span>\n",
       "<span style=\"color: #7fbfbf; text-decoration-color: #7fbfbf\">                    </span>         <span style=\"color: #008080; text-decoration-color: #008080; font-weight: bold\">0x111eca4c0</span><span style=\"font-weight: bold\">&gt;</span>                                                        <span style=\"color: #7f7f7f; text-decoration-color: #7f7f7f\">                  </span>\n",
       "<span style=\"color: #7fbfbf; text-decoration-color: #7fbfbf\">                    </span>                   -&gt; <span style=\"font-weight: bold\">&lt;</span><span style=\"color: #ff00ff; text-decoration-color: #ff00ff; font-weight: bold\">ipykernel.zmqshell.ZMQInteractiveShell</span><span style=\"color: #000000; text-decoration-color: #000000\"> object at </span>     <span style=\"color: #7f7f7f; text-decoration-color: #7f7f7f\">                  </span>\n",
       "<span style=\"color: #7fbfbf; text-decoration-color: #7fbfbf\">                    </span>         <span style=\"color: #008080; text-decoration-color: #008080; font-weight: bold\">0x1126f94c0</span><span style=\"font-weight: bold\">&gt;</span>                                                        <span style=\"color: #7f7f7f; text-decoration-color: #7f7f7f\">                  </span>\n",
       "<span style=\"color: #7fbfbf; text-decoration-color: #7fbfbf\">                    </span>           File                                                              <span style=\"color: #7f7f7f; text-decoration-color: #7f7f7f\">                  </span>\n",
       "<span style=\"color: #7fbfbf; text-decoration-color: #7fbfbf\">                    </span>         <span style=\"color: #008000; text-decoration-color: #008000\">\"/Users/yeshwanth.y/miniconda3/lib/python3.9/site-packages/ipykerne</span> <span style=\"color: #7f7f7f; text-decoration-color: #7f7f7f\">                  </span>\n",
       "<span style=\"color: #7fbfbf; text-decoration-color: #7fbfbf\">                    </span>         <span style=\"color: #008000; text-decoration-color: #008000\">l/zmqshell.py\"</span>, line <span style=\"color: #008080; text-decoration-color: #008080; font-weight: bold\">533</span>, in run_cell                               <span style=\"color: #7f7f7f; text-decoration-color: #7f7f7f\">                  </span>\n",
       "<span style=\"color: #7fbfbf; text-decoration-color: #7fbfbf\">                    </span>             return <span style=\"color: #800080; text-decoration-color: #800080; font-weight: bold\">super</span><span style=\"font-weight: bold\">(</span>ZMQInteractiveShell, self<span style=\"font-weight: bold\">)</span><span style=\"color: #800080; text-decoration-color: #800080; font-weight: bold\">.run_cell</span><span style=\"font-weight: bold\">(</span>*args,         <span style=\"color: #7f7f7f; text-decoration-color: #7f7f7f\">                  </span>\n",
       "<span style=\"color: #7fbfbf; text-decoration-color: #7fbfbf\">                    </span>         **kwargs<span style=\"font-weight: bold\">)</span>                                                           <span style=\"color: #7f7f7f; text-decoration-color: #7f7f7f\">                  </span>\n",
       "<span style=\"color: #7fbfbf; text-decoration-color: #7fbfbf\">                    </span>                          |                    |               |       -&gt;    <span style=\"color: #7f7f7f; text-decoration-color: #7f7f7f\">                  </span>\n",
       "<span style=\"color: #7fbfbf; text-decoration-color: #7fbfbf\">                    </span>         <span style=\"font-weight: bold\">{</span><span style=\"color: #008000; text-decoration-color: #008000\">'store_history'</span>: <span style=\"color: #00ff00; text-decoration-color: #00ff00; font-style: italic\">True</span>, <span style=\"color: #008000; text-decoration-color: #008000\">'silent'</span>: <span style=\"color: #ff0000; text-decoration-color: #ff0000; font-style: italic\">False</span><span style=\"font-weight: bold\">}</span>                            <span style=\"color: #7f7f7f; text-decoration-color: #7f7f7f\">                  </span>\n",
       "<span style=\"color: #7fbfbf; text-decoration-color: #7fbfbf\">                    </span>                          |                    |               -&gt; <span style=\"font-weight: bold\">(</span>'def      <span style=\"color: #7f7f7f; text-decoration-color: #7f7f7f\">                  </span>\n",
       "<span style=\"color: #7fbfbf; text-decoration-color: #7fbfbf\">                    </span>         <span style=\"color: #800080; text-decoration-color: #800080; font-weight: bold\">do</span><span style=\"font-weight: bold\">()</span>:\\n    try:\\n        <span style=\"color: #008080; text-decoration-color: #008080; font-weight: bold\">1</span> <span style=\"color: #800080; text-decoration-color: #800080\">/</span> <span style=\"color: #008080; text-decoration-color: #008080; font-weight: bold\">0</span>\\n    except Exception as e:\\n        <span style=\"color: #7f7f7f; text-decoration-color: #7f7f7f\">                  </span>\n",
       "<span style=\"color: #7fbfbf; text-decoration-color: #7fbfbf\">                    </span>         # <span style=\"color: #800080; text-decoration-color: #800080; font-weight: bold\">console.print_exception</span><span style=\"font-weight: bold\">(</span><span style=\"color: #808000; text-decoration-color: #808000\">max_frames</span>=<span style=\"color: #008080; text-decoration-color: #008080; font-weight: bold\">20</span><span style=\"font-weight: bold\">)</span>\\n        l<span style=\"color: #808000; text-decoration-color: #808000\">...</span>              <span style=\"color: #7f7f7f; text-decoration-color: #7f7f7f\">                  </span>\n",
       "<span style=\"color: #7fbfbf; text-decoration-color: #7fbfbf\">                    </span>                          |                    -&gt;                            <span style=\"color: #7f7f7f; text-decoration-color: #7f7f7f\">                  </span>\n",
       "<span style=\"color: #7fbfbf; text-decoration-color: #7fbfbf\">                    </span>         <span style=\"font-weight: bold\">&lt;</span><span style=\"color: #ff00ff; text-decoration-color: #ff00ff; font-weight: bold\">ipykernel.zmqshell.ZMQInteractiveShell</span><span style=\"color: #000000; text-decoration-color: #000000\"> object at </span><span style=\"color: #008080; text-decoration-color: #008080; font-weight: bold\">0x1126f94c0</span><span style=\"font-weight: bold\">&gt;</span>      <span style=\"color: #7f7f7f; text-decoration-color: #7f7f7f\">                  </span>\n",
       "<span style=\"color: #7fbfbf; text-decoration-color: #7fbfbf\">                    </span>                          -&gt; <span style=\"font-weight: bold\">&lt;</span><span style=\"color: #ff00ff; text-decoration-color: #ff00ff; font-weight: bold\">class</span><span style=\"color: #000000; text-decoration-color: #000000\"> </span>                                         <span style=\"color: #7f7f7f; text-decoration-color: #7f7f7f\">                  </span>\n",
       "<span style=\"color: #7fbfbf; text-decoration-color: #7fbfbf\">                    </span>         <span style=\"color: #008000; text-decoration-color: #008000\">'ipykernel.zmqshell.ZMQInteractiveShell'</span><span style=\"font-weight: bold\">&gt;</span>                           <span style=\"color: #7f7f7f; text-decoration-color: #7f7f7f\">                  </span>\n",
       "<span style=\"color: #7fbfbf; text-decoration-color: #7fbfbf\">                    </span>           File                                                              <span style=\"color: #7f7f7f; text-decoration-color: #7f7f7f\">                  </span>\n",
       "<span style=\"color: #7fbfbf; text-decoration-color: #7fbfbf\">                    </span>         <span style=\"color: #008000; text-decoration-color: #008000\">\"/Users/yeshwanth.y/miniconda3/lib/python3.9/site-packages/IPython/</span> <span style=\"color: #7f7f7f; text-decoration-color: #7f7f7f\">                  </span>\n",
       "<span style=\"color: #7fbfbf; text-decoration-color: #7fbfbf\">                    </span>         <span style=\"color: #008000; text-decoration-color: #008000\">core/interactiveshell.py\"</span>, line <span style=\"color: #008080; text-decoration-color: #008080; font-weight: bold\">2914</span>, in run_cell                   <span style=\"color: #7f7f7f; text-decoration-color: #7f7f7f\">                  </span>\n",
       "<span style=\"color: #7fbfbf; text-decoration-color: #7fbfbf\">                    </span>             result = <span style=\"color: #800080; text-decoration-color: #800080; font-weight: bold\">self._run_cell</span><span style=\"font-weight: bold\">(</span>                                        <span style=\"color: #7f7f7f; text-decoration-color: #7f7f7f\">                  </span>\n",
       "<span style=\"color: #7fbfbf; text-decoration-color: #7fbfbf\">                    </span>                      |    -&gt; <span style=\"font-weight: bold\">&lt;</span><span style=\"color: #ff00ff; text-decoration-color: #ff00ff; font-weight: bold\">function</span><span style=\"color: #000000; text-decoration-color: #000000\"> InteractiveShell._run_cell at </span>       <span style=\"color: #7f7f7f; text-decoration-color: #7f7f7f\">                  </span>\n",
       "<span style=\"color: #7fbfbf; text-decoration-color: #7fbfbf\">                    </span>         <span style=\"color: #008080; text-decoration-color: #008080; font-weight: bold\">0x1111bbca0</span><span style=\"font-weight: bold\">&gt;</span>                                                        <span style=\"color: #7f7f7f; text-decoration-color: #7f7f7f\">                  </span>\n",
       "<span style=\"color: #7fbfbf; text-decoration-color: #7fbfbf\">                    </span>                      -&gt; <span style=\"font-weight: bold\">&lt;</span><span style=\"color: #ff00ff; text-decoration-color: #ff00ff; font-weight: bold\">ipykernel.zmqshell.ZMQInteractiveShell</span><span style=\"color: #000000; text-decoration-color: #000000\"> object at </span>  <span style=\"color: #7f7f7f; text-decoration-color: #7f7f7f\">                  </span>\n",
       "<span style=\"color: #7fbfbf; text-decoration-color: #7fbfbf\">                    </span>         <span style=\"color: #008080; text-decoration-color: #008080; font-weight: bold\">0x1126f94c0</span><span style=\"font-weight: bold\">&gt;</span>                                                        <span style=\"color: #7f7f7f; text-decoration-color: #7f7f7f\">                  </span>\n",
       "<span style=\"color: #7fbfbf; text-decoration-color: #7fbfbf\">                    </span>           File                                                              <span style=\"color: #7f7f7f; text-decoration-color: #7f7f7f\">                  </span>\n",
       "<span style=\"color: #7fbfbf; text-decoration-color: #7fbfbf\">                    </span>         <span style=\"color: #008000; text-decoration-color: #008000\">\"/Users/yeshwanth.y/miniconda3/lib/python3.9/site-packages/IPython/</span> <span style=\"color: #7f7f7f; text-decoration-color: #7f7f7f\">                  </span>\n",
       "<span style=\"color: #7fbfbf; text-decoration-color: #7fbfbf\">                    </span>         <span style=\"color: #008000; text-decoration-color: #008000\">core/interactiveshell.py\"</span>, line <span style=\"color: #008080; text-decoration-color: #008080; font-weight: bold\">2960</span>, in _run_cell                  <span style=\"color: #7f7f7f; text-decoration-color: #7f7f7f\">                  </span>\n",
       "<span style=\"color: #7fbfbf; text-decoration-color: #7fbfbf\">                    </span>             return <span style=\"color: #800080; text-decoration-color: #800080; font-weight: bold\">runner</span><span style=\"font-weight: bold\">(</span>coro<span style=\"font-weight: bold\">)</span>                                             <span style=\"color: #7f7f7f; text-decoration-color: #7f7f7f\">                  </span>\n",
       "<span style=\"color: #7fbfbf; text-decoration-color: #7fbfbf\">                    </span>                    |      -&gt; <span style=\"font-weight: bold\">&lt;</span><span style=\"color: #ff00ff; text-decoration-color: #ff00ff; font-weight: bold\">coroutine</span><span style=\"color: #000000; text-decoration-color: #000000\"> object </span>                             <span style=\"color: #7f7f7f; text-decoration-color: #7f7f7f\">                  </span>\n",
       "<span style=\"color: #7fbfbf; text-decoration-color: #7fbfbf\">                    </span>         <span style=\"color: #000000; text-decoration-color: #000000\">InteractiveShell.run_cell_async at </span><span style=\"color: #008080; text-decoration-color: #008080; font-weight: bold\">0x16b48be40</span><span style=\"font-weight: bold\">&gt;</span>                     <span style=\"color: #7f7f7f; text-decoration-color: #7f7f7f\">                  </span>\n",
       "<span style=\"color: #7fbfbf; text-decoration-color: #7fbfbf\">                    </span>                    -&gt; <span style=\"font-weight: bold\">&lt;</span><span style=\"color: #ff00ff; text-decoration-color: #ff00ff; font-weight: bold\">function</span><span style=\"color: #000000; text-decoration-color: #000000\"> _pseudo_sync_runner at </span><span style=\"color: #008080; text-decoration-color: #008080; font-weight: bold\">0x1111ab310</span><span style=\"font-weight: bold\">&gt;</span>         <span style=\"color: #7f7f7f; text-decoration-color: #7f7f7f\">                  </span>\n",
       "<span style=\"color: #7fbfbf; text-decoration-color: #7fbfbf\">                    </span>           File                                                              <span style=\"color: #7f7f7f; text-decoration-color: #7f7f7f\">                  </span>\n",
       "<span style=\"color: #7fbfbf; text-decoration-color: #7fbfbf\">                    </span>         <span style=\"color: #008000; text-decoration-color: #008000\">\"/Users/yeshwanth.y/miniconda3/lib/python3.9/site-packages/IPython/</span> <span style=\"color: #7f7f7f; text-decoration-color: #7f7f7f\">                  </span>\n",
       "<span style=\"color: #7fbfbf; text-decoration-color: #7fbfbf\">                    </span>         <span style=\"color: #008000; text-decoration-color: #008000\">core/async_helpers.py\"</span>, line <span style=\"color: #008080; text-decoration-color: #008080; font-weight: bold\">78</span>, in _pseudo_sync_runner             <span style=\"color: #7f7f7f; text-decoration-color: #7f7f7f\">                  </span>\n",
       "<span style=\"color: #7fbfbf; text-decoration-color: #7fbfbf\">                    </span>             <span style=\"color: #800080; text-decoration-color: #800080; font-weight: bold\">coro.send</span><span style=\"font-weight: bold\">(</span><span style=\"color: #800080; text-decoration-color: #800080; font-style: italic\">None</span><span style=\"font-weight: bold\">)</span>                                                 <span style=\"color: #7f7f7f; text-decoration-color: #7f7f7f\">                  </span>\n",
       "<span style=\"color: #7fbfbf; text-decoration-color: #7fbfbf\">                    </span>             |    -&gt; <span style=\"font-weight: bold\">&lt;</span><span style=\"color: #ff00ff; text-decoration-color: #ff00ff; font-weight: bold\">method</span><span style=\"color: #000000; text-decoration-color: #000000\"> </span><span style=\"color: #008000; text-decoration-color: #008000\">'send'</span><span style=\"color: #000000; text-decoration-color: #000000\"> of </span><span style=\"color: #008000; text-decoration-color: #008000\">'coroutine'</span><span style=\"color: #000000; text-decoration-color: #000000\"> objects</span><span style=\"font-weight: bold\">&gt;</span>                  <span style=\"color: #7f7f7f; text-decoration-color: #7f7f7f\">                  </span>\n",
       "<span style=\"color: #7fbfbf; text-decoration-color: #7fbfbf\">                    </span>             -&gt; <span style=\"font-weight: bold\">&lt;</span><span style=\"color: #ff00ff; text-decoration-color: #ff00ff; font-weight: bold\">coroutine</span><span style=\"color: #000000; text-decoration-color: #000000\"> object InteractiveShell.run_cell_async at </span>        <span style=\"color: #7f7f7f; text-decoration-color: #7f7f7f\">                  </span>\n",
       "<span style=\"color: #7fbfbf; text-decoration-color: #7fbfbf\">                    </span>         <span style=\"color: #008080; text-decoration-color: #008080; font-weight: bold\">0x16b48be40</span><span style=\"font-weight: bold\">&gt;</span>                                                        <span style=\"color: #7f7f7f; text-decoration-color: #7f7f7f\">                  </span>\n",
       "<span style=\"color: #7fbfbf; text-decoration-color: #7fbfbf\">                    </span>           File                                                              <span style=\"color: #7f7f7f; text-decoration-color: #7f7f7f\">                  </span>\n",
       "<span style=\"color: #7fbfbf; text-decoration-color: #7fbfbf\">                    </span>         <span style=\"color: #008000; text-decoration-color: #008000\">\"/Users/yeshwanth.y/miniconda3/lib/python3.9/site-packages/IPython/</span> <span style=\"color: #7f7f7f; text-decoration-color: #7f7f7f\">                  </span>\n",
       "<span style=\"color: #7fbfbf; text-decoration-color: #7fbfbf\">                    </span>         <span style=\"color: #008000; text-decoration-color: #008000\">core/interactiveshell.py\"</span>, line <span style=\"color: #008080; text-decoration-color: #008080; font-weight: bold\">3185</span>, in run_cell_async             <span style=\"color: #7f7f7f; text-decoration-color: #7f7f7f\">                  </span>\n",
       "<span style=\"color: #7fbfbf; text-decoration-color: #7fbfbf\">                    </span>             has_raised = await <span style=\"color: #800080; text-decoration-color: #800080; font-weight: bold\">self.run_ast_nodes</span><span style=\"font-weight: bold\">(</span>code_ast.body, cell_name, <span style=\"color: #7f7f7f; text-decoration-color: #7f7f7f\">                  </span>\n",
       "<span style=\"color: #7fbfbf; text-decoration-color: #7fbfbf\">                    </span>                                |    |             |        |     -&gt;         <span style=\"color: #7f7f7f; text-decoration-color: #7f7f7f\">                  </span>\n",
       "<span style=\"color: #7fbfbf; text-decoration-color: #7fbfbf\">                    </span>         <span style=\"color: #008000; text-decoration-color: #008000\">'/var/folders/cp/1fbgq2n922j8ztdsq6551vldkr5sdy/T/ipykernel_65923/3</span> <span style=\"color: #7f7f7f; text-decoration-color: #7f7f7f\">                  </span>\n",
       "<span style=\"color: #7fbfbf; text-decoration-color: #7fbfbf\">                    </span>         <span style=\"color: #008000; text-decoration-color: #008000\">806461673.py'</span>                                                       <span style=\"color: #7f7f7f; text-decoration-color: #7f7f7f\">                  </span>\n",
       "<span style=\"color: #7fbfbf; text-decoration-color: #7fbfbf\">                    </span>                                |    |             |        -&gt;               <span style=\"color: #7f7f7f; text-decoration-color: #7f7f7f\">                  </span>\n",
       "<span style=\"color: #7fbfbf; text-decoration-color: #7fbfbf\">                    </span>         <span style=\"font-weight: bold\">[&lt;</span><span style=\"color: #ff00ff; text-decoration-color: #ff00ff; font-weight: bold\">ast.FunctionDef</span><span style=\"color: #000000; text-decoration-color: #000000\"> object at </span><span style=\"color: #008080; text-decoration-color: #008080; font-weight: bold\">0x1134122b0</span><span style=\"font-weight: bold\">&gt;</span>, <span style=\"font-weight: bold\">&lt;</span><span style=\"color: #ff00ff; text-decoration-color: #ff00ff; font-weight: bold\">ast.FunctionDef</span><span style=\"color: #000000; text-decoration-color: #000000\"> object </span>  <span style=\"color: #7f7f7f; text-decoration-color: #7f7f7f\">                  </span>\n",
       "<span style=\"color: #7fbfbf; text-decoration-color: #7fbfbf\">                    </span>         <span style=\"color: #000000; text-decoration-color: #000000\">at </span><span style=\"color: #008080; text-decoration-color: #008080; font-weight: bold\">0x14c4fda00</span><span style=\"font-weight: bold\">&gt;</span>, <span style=\"font-weight: bold\">&lt;</span><span style=\"color: #ff00ff; text-decoration-color: #ff00ff; font-weight: bold\">ast.Expr</span><span style=\"color: #000000; text-decoration-color: #000000\"> object at </span><span style=\"color: #008080; text-decoration-color: #008080; font-weight: bold\">0x11341e9d0</span><span style=\"font-weight: bold\">&gt;]</span>                  <span style=\"color: #7f7f7f; text-decoration-color: #7f7f7f\">                  </span>\n",
       "<span style=\"color: #7fbfbf; text-decoration-color: #7fbfbf\">                    </span>                                |    |             -&gt; <span style=\"font-weight: bold\">&lt;</span><span style=\"color: #ff00ff; text-decoration-color: #ff00ff; font-weight: bold\">ast.Module</span><span style=\"color: #000000; text-decoration-color: #000000\"> object at </span> <span style=\"color: #7f7f7f; text-decoration-color: #7f7f7f\">                  </span>\n",
       "<span style=\"color: #7fbfbf; text-decoration-color: #7fbfbf\">                    </span>         <span style=\"color: #008080; text-decoration-color: #008080; font-weight: bold\">0x113412a30</span><span style=\"font-weight: bold\">&gt;</span>                                                        <span style=\"color: #7f7f7f; text-decoration-color: #7f7f7f\">                  </span>\n",
       "<span style=\"color: #7fbfbf; text-decoration-color: #7fbfbf\">                    </span>                                |    -&gt; <span style=\"font-weight: bold\">&lt;</span><span style=\"color: #ff00ff; text-decoration-color: #ff00ff; font-weight: bold\">function</span><span style=\"color: #000000; text-decoration-color: #000000\"> </span>                           <span style=\"color: #7f7f7f; text-decoration-color: #7f7f7f\">                  </span>\n",
       "<span style=\"color: #7fbfbf; text-decoration-color: #7fbfbf\">                    </span>         <span style=\"color: #000000; text-decoration-color: #000000\">InteractiveShell.run_ast_nodes at </span><span style=\"color: #008080; text-decoration-color: #008080; font-weight: bold\">0x1111bbf70</span><span style=\"font-weight: bold\">&gt;</span>                      <span style=\"color: #7f7f7f; text-decoration-color: #7f7f7f\">                  </span>\n",
       "<span style=\"color: #7fbfbf; text-decoration-color: #7fbfbf\">                    </span>                                -&gt; <span style=\"font-weight: bold\">&lt;</span><span style=\"color: #ff00ff; text-decoration-color: #ff00ff; font-weight: bold\">ipykernel.zmqshell.ZMQInteractiveShell</span><span style=\"color: #000000; text-decoration-color: #000000\"> </span>  <span style=\"color: #7f7f7f; text-decoration-color: #7f7f7f\">                  </span>\n",
       "<span style=\"color: #7fbfbf; text-decoration-color: #7fbfbf\">                    </span>         <span style=\"color: #000000; text-decoration-color: #000000\">object at </span><span style=\"color: #008080; text-decoration-color: #008080; font-weight: bold\">0x1126f94c0</span><span style=\"font-weight: bold\">&gt;</span>                                              <span style=\"color: #7f7f7f; text-decoration-color: #7f7f7f\">                  </span>\n",
       "<span style=\"color: #7fbfbf; text-decoration-color: #7fbfbf\">                    </span>           File                                                              <span style=\"color: #7f7f7f; text-decoration-color: #7f7f7f\">                  </span>\n",
       "<span style=\"color: #7fbfbf; text-decoration-color: #7fbfbf\">                    </span>         <span style=\"color: #008000; text-decoration-color: #008000\">\"/Users/yeshwanth.y/miniconda3/lib/python3.9/site-packages/IPython/</span> <span style=\"color: #7f7f7f; text-decoration-color: #7f7f7f\">                  </span>\n",
       "<span style=\"color: #7fbfbf; text-decoration-color: #7fbfbf\">                    </span>         <span style=\"color: #008000; text-decoration-color: #008000\">core/interactiveshell.py\"</span>, line <span style=\"color: #008080; text-decoration-color: #008080; font-weight: bold\">3377</span>, in run_ast_nodes              <span style=\"color: #7f7f7f; text-decoration-color: #7f7f7f\">                  </span>\n",
       "<span style=\"color: #7fbfbf; text-decoration-color: #7fbfbf\">                    </span>             if <span style=\"font-weight: bold\">(</span>await <span style=\"color: #800080; text-decoration-color: #800080; font-weight: bold\">self.run_code</span><span style=\"font-weight: bold\">(</span>code, result,  <span style=\"color: #808000; text-decoration-color: #808000\">async_</span>=<span style=\"color: #800080; text-decoration-color: #800080\">asy</span><span style=\"font-weight: bold\">))</span>:            <span style=\"color: #7f7f7f; text-decoration-color: #7f7f7f\">                  </span>\n",
       "<span style=\"color: #7fbfbf; text-decoration-color: #7fbfbf\">                    </span>                       |    |        |     |               -&gt; <span style=\"color: #ff0000; text-decoration-color: #ff0000; font-style: italic\">False</span>          <span style=\"color: #7f7f7f; text-decoration-color: #7f7f7f\">                  </span>\n",
       "<span style=\"color: #7fbfbf; text-decoration-color: #7fbfbf\">                    </span>                       |    |        |     -&gt; <span style=\"font-weight: bold\">&lt;</span><span style=\"color: #ff00ff; text-decoration-color: #ff00ff; font-weight: bold\">ExecutionResult</span><span style=\"color: #000000; text-decoration-color: #000000\"> object at </span>    <span style=\"color: #7f7f7f; text-decoration-color: #7f7f7f\">                  </span>\n",
       "<span style=\"color: #7fbfbf; text-decoration-color: #7fbfbf\">                    </span>         <span style=\"color: #000000; text-decoration-color: #000000\">16b2e5370, </span><span style=\"color: #808000; text-decoration-color: #808000\">execution_count</span><span style=\"color: #000000; text-decoration-color: #000000\">=</span><span style=\"color: #008080; text-decoration-color: #008080; font-weight: bold\">12</span><span style=\"color: #000000; text-decoration-color: #000000\"> </span><span style=\"color: #808000; text-decoration-color: #808000\">error_before_exec</span><span style=\"color: #000000; text-decoration-color: #000000\">=</span><span style=\"color: #800080; text-decoration-color: #800080; font-style: italic\">None</span><span style=\"color: #000000; text-decoration-color: #000000\"> </span>               <span style=\"color: #7f7f7f; text-decoration-color: #7f7f7f\">                  </span>\n",
       "<span style=\"color: #7fbfbf; text-decoration-color: #7fbfbf\">                    </span>         <span style=\"color: #808000; text-decoration-color: #808000\">error_in_exec</span><span style=\"color: #000000; text-decoration-color: #000000\">=</span><span style=\"color: #800080; text-decoration-color: #800080; font-style: italic\">None</span><span style=\"color: #000000; text-decoration-color: #000000\"> </span><span style=\"color: #808000; text-decoration-color: #808000\">info</span><span style=\"color: #000000; text-decoration-color: #000000\">=&lt;ExecutionInfo object</span><span style=\"color: #808000; text-decoration-color: #808000\">...</span>                    <span style=\"color: #7f7f7f; text-decoration-color: #7f7f7f\">                  </span>\n",
       "<span style=\"color: #7fbfbf; text-decoration-color: #7fbfbf\">                    </span>         <span style=\"color: #000000; text-decoration-color: #000000\">              |    |        -</span><span style=\"font-weight: bold\">&gt;</span> <span style=\"font-weight: bold\">&lt;</span><span style=\"color: #ff00ff; text-decoration-color: #ff00ff; font-weight: bold\">code</span><span style=\"color: #000000; text-decoration-color: #000000\"> object &lt;module</span><span style=\"font-weight: bold\">&gt;</span> at             <span style=\"color: #7f7f7f; text-decoration-color: #7f7f7f\">                  </span>\n",
       "<span style=\"color: #7fbfbf; text-decoration-color: #7fbfbf\">                    </span>         <span style=\"color: #008080; text-decoration-color: #008080; font-weight: bold\">0x111164240</span>, file                                                   <span style=\"color: #7f7f7f; text-decoration-color: #7f7f7f\">                  </span>\n",
       "<span style=\"color: #7fbfbf; text-decoration-color: #7fbfbf\">                    </span>         <span style=\"color: #008000; text-decoration-color: #008000\">\"/var/folders/cp/1fbgq2n922j8ztdsq6551vldkr5sdy/T/ipykernel_65923/3</span> <span style=\"color: #7f7f7f; text-decoration-color: #7f7f7f\">                  </span>\n",
       "<span style=\"color: #7fbfbf; text-decoration-color: #7fbfbf\">                    </span>         <span style=\"color: #008000; text-decoration-color: #008000\">806461673.py\"</span>, <span style=\"color: #808000; text-decoration-color: #808000\">...</span>                                                  <span style=\"color: #7f7f7f; text-decoration-color: #7f7f7f\">                  </span>\n",
       "<span style=\"color: #7fbfbf; text-decoration-color: #7fbfbf\">                    </span>                       |    -&gt; <span style=\"font-weight: bold\">&lt;</span><span style=\"color: #ff00ff; text-decoration-color: #ff00ff; font-weight: bold\">function</span><span style=\"color: #000000; text-decoration-color: #000000\"> InteractiveShell.run_code at </span>       <span style=\"color: #7f7f7f; text-decoration-color: #7f7f7f\">                  </span>\n",
       "<span style=\"color: #7fbfbf; text-decoration-color: #7fbfbf\">                    </span>         <span style=\"color: #008080; text-decoration-color: #008080; font-weight: bold\">0x1111bc0d0</span><span style=\"font-weight: bold\">&gt;</span>                                                        <span style=\"color: #7f7f7f; text-decoration-color: #7f7f7f\">                  </span>\n",
       "<span style=\"color: #7fbfbf; text-decoration-color: #7fbfbf\">                    </span>                       -&gt; <span style=\"font-weight: bold\">&lt;</span><span style=\"color: #ff00ff; text-decoration-color: #ff00ff; font-weight: bold\">ipykernel.zmqshell.ZMQInteractiveShell</span><span style=\"color: #000000; text-decoration-color: #000000\"> object at </span> <span style=\"color: #7f7f7f; text-decoration-color: #7f7f7f\">                  </span>\n",
       "<span style=\"color: #7fbfbf; text-decoration-color: #7fbfbf\">                    </span>         <span style=\"color: #008080; text-decoration-color: #008080; font-weight: bold\">0x1126f94c0</span><span style=\"font-weight: bold\">&gt;</span>                                                        <span style=\"color: #7f7f7f; text-decoration-color: #7f7f7f\">                  </span>\n",
       "<span style=\"color: #7fbfbf; text-decoration-color: #7fbfbf\">                    </span>           File                                                              <span style=\"color: #7f7f7f; text-decoration-color: #7f7f7f\">                  </span>\n",
       "<span style=\"color: #7fbfbf; text-decoration-color: #7fbfbf\">                    </span>         <span style=\"color: #008000; text-decoration-color: #008000\">\"/Users/yeshwanth.y/miniconda3/lib/python3.9/site-packages/IPython/</span> <span style=\"color: #7f7f7f; text-decoration-color: #7f7f7f\">                  </span>\n",
       "<span style=\"color: #7fbfbf; text-decoration-color: #7fbfbf\">                    </span>         <span style=\"color: #008000; text-decoration-color: #008000\">core/interactiveshell.py\"</span>, line <span style=\"color: #008080; text-decoration-color: #008080; font-weight: bold\">3457</span>, in run_code                   <span style=\"color: #7f7f7f; text-decoration-color: #7f7f7f\">                  </span>\n",
       "<span style=\"color: #7fbfbf; text-decoration-color: #7fbfbf\">                    </span>             <span style=\"color: #800080; text-decoration-color: #800080; font-weight: bold\">exec</span><span style=\"font-weight: bold\">(</span>code_obj, self.user_global_ns, self.user_ns<span style=\"font-weight: bold\">)</span>               <span style=\"color: #7f7f7f; text-decoration-color: #7f7f7f\">                  </span>\n",
       "<span style=\"color: #7fbfbf; text-decoration-color: #7fbfbf\">                    </span>                  |         |    |               |    -&gt; <span style=\"font-weight: bold\">{</span><span style=\"color: #008000; text-decoration-color: #008000\">'__name__'</span>:        <span style=\"color: #7f7f7f; text-decoration-color: #7f7f7f\">                  </span>\n",
       "<span style=\"color: #7fbfbf; text-decoration-color: #7fbfbf\">                    </span>         <span style=\"color: #008000; text-decoration-color: #008000\">'__main__'</span>, <span style=\"color: #008000; text-decoration-color: #008000\">'__doc__'</span>: <span style=\"color: #008000; text-decoration-color: #008000\">'Automatically created module for IPython </span>   <span style=\"color: #7f7f7f; text-decoration-color: #7f7f7f\">                  </span>\n",
       "<span style=\"color: #7fbfbf; text-decoration-color: #7fbfbf\">                    </span>         <span style=\"color: #008000; text-decoration-color: #008000\">interactive environment'</span>, <span style=\"color: #008000; text-decoration-color: #008000\">'__package__'</span>: <span style=\"color: #800080; text-decoration-color: #800080; font-style: italic\">None</span>, <span style=\"color: #808000; text-decoration-color: #808000\">...</span>                  <span style=\"color: #7f7f7f; text-decoration-color: #7f7f7f\">                  </span>\n",
       "<span style=\"color: #7fbfbf; text-decoration-color: #7fbfbf\">                    </span>                  |         |    |               -&gt;                          <span style=\"color: #7f7f7f; text-decoration-color: #7f7f7f\">                  </span>\n",
       "<span style=\"color: #7fbfbf; text-decoration-color: #7fbfbf\">                    </span>         <span style=\"font-weight: bold\">&lt;</span><span style=\"color: #ff00ff; text-decoration-color: #ff00ff; font-weight: bold\">ipykernel.zmqshell.ZMQInteractiveShell</span><span style=\"color: #000000; text-decoration-color: #000000\"> object at </span><span style=\"color: #008080; text-decoration-color: #008080; font-weight: bold\">0x1126f94c0</span><span style=\"font-weight: bold\">&gt;</span>      <span style=\"color: #7f7f7f; text-decoration-color: #7f7f7f\">                  </span>\n",
       "<span style=\"color: #7fbfbf; text-decoration-color: #7fbfbf\">                    </span>                  |         |    -&gt; <span style=\"font-weight: bold\">&lt;</span><span style=\"color: #ff00ff; text-decoration-color: #ff00ff; font-weight: bold\">property</span><span style=\"color: #000000; text-decoration-color: #000000\"> object at </span><span style=\"color: #008080; text-decoration-color: #008080; font-weight: bold\">0x1111b3360</span><span style=\"font-weight: bold\">&gt;</span>         <span style=\"color: #7f7f7f; text-decoration-color: #7f7f7f\">                  </span>\n",
       "<span style=\"color: #7fbfbf; text-decoration-color: #7fbfbf\">                    </span>                  |         -&gt; <span style=\"font-weight: bold\">&lt;</span><span style=\"color: #ff00ff; text-decoration-color: #ff00ff; font-weight: bold\">ipykernel.zmqshell.ZMQInteractiveShell</span><span style=\"color: #000000; text-decoration-color: #000000\"> </span>      <span style=\"color: #7f7f7f; text-decoration-color: #7f7f7f\">                  </span>\n",
       "<span style=\"color: #7fbfbf; text-decoration-color: #7fbfbf\">                    </span>         <span style=\"color: #000000; text-decoration-color: #000000\">object at </span><span style=\"color: #008080; text-decoration-color: #008080; font-weight: bold\">0x1126f94c0</span><span style=\"font-weight: bold\">&gt;</span>                                              <span style=\"color: #7f7f7f; text-decoration-color: #7f7f7f\">                  </span>\n",
       "<span style=\"color: #7fbfbf; text-decoration-color: #7fbfbf\">                    </span>                  -&gt; <span style=\"font-weight: bold\">&lt;</span><span style=\"color: #ff00ff; text-decoration-color: #ff00ff; font-weight: bold\">code</span><span style=\"color: #000000; text-decoration-color: #000000\"> object &lt;module</span><span style=\"font-weight: bold\">&gt;</span> at <span style=\"color: #008080; text-decoration-color: #008080; font-weight: bold\">0x111164240</span>, file              <span style=\"color: #7f7f7f; text-decoration-color: #7f7f7f\">                  </span>\n",
       "<span style=\"color: #7fbfbf; text-decoration-color: #7fbfbf\">                    </span>         <span style=\"color: #008000; text-decoration-color: #008000\">\"/var/folders/cp/1fbgq2n922j8ztdsq6551vldkr5sdy/T/ipykernel_65923/3</span> <span style=\"color: #7f7f7f; text-decoration-color: #7f7f7f\">                  </span>\n",
       "<span style=\"color: #7fbfbf; text-decoration-color: #7fbfbf\">                    </span>         <span style=\"color: #008000; text-decoration-color: #008000\">806461673.py\"</span>, <span style=\"color: #808000; text-decoration-color: #808000\">...</span>                                                  <span style=\"color: #7f7f7f; text-decoration-color: #7f7f7f\">                  </span>\n",
       "<span style=\"color: #7fbfbf; text-decoration-color: #7fbfbf\">                    </span>                                                                             <span style=\"color: #7f7f7f; text-decoration-color: #7f7f7f\">                  </span>\n",
       "<span style=\"color: #7fbfbf; text-decoration-color: #7fbfbf\">                    </span>           File                                                              <span style=\"color: #7f7f7f; text-decoration-color: #7f7f7f\">                  </span>\n",
       "<span style=\"color: #7fbfbf; text-decoration-color: #7fbfbf\">                    </span>         <span style=\"color: #008000; text-decoration-color: #008000\">\"/var/folders/cp/1fbgq2n922j8ztdsq6551vldkr5sdy/T/ipykernel_65923/3</span> <span style=\"color: #7f7f7f; text-decoration-color: #7f7f7f\">                  </span>\n",
       "<span style=\"color: #7fbfbf; text-decoration-color: #7fbfbf\">                    </span>         <span style=\"color: #008000; text-decoration-color: #008000\">806461673.py\"</span>, line <span style=\"color: #008080; text-decoration-color: #008080; font-weight: bold\">11</span>, in <span style=\"font-weight: bold\">&lt;</span><span style=\"color: #ff00ff; text-decoration-color: #ff00ff; font-weight: bold\">module</span><span style=\"font-weight: bold\">&gt;</span>                                 <span style=\"color: #7f7f7f; text-decoration-color: #7f7f7f\">                  </span>\n",
       "<span style=\"color: #7fbfbf; text-decoration-color: #7fbfbf\">                    </span>             <span style=\"color: #800080; text-decoration-color: #800080; font-weight: bold\">do2</span><span style=\"font-weight: bold\">()</span>                                                           <span style=\"color: #7f7f7f; text-decoration-color: #7f7f7f\">                  </span>\n",
       "<span style=\"color: #7fbfbf; text-decoration-color: #7fbfbf\">                    </span>             -&gt; <span style=\"font-weight: bold\">&lt;</span><span style=\"color: #ff00ff; text-decoration-color: #ff00ff; font-weight: bold\">function</span><span style=\"color: #000000; text-decoration-color: #000000\"> do2 at </span><span style=\"color: #008080; text-decoration-color: #008080; font-weight: bold\">0x16b2dfc10</span><span style=\"font-weight: bold\">&gt;</span>                                <span style=\"color: #7f7f7f; text-decoration-color: #7f7f7f\">                  </span>\n",
       "<span style=\"color: #7fbfbf; text-decoration-color: #7fbfbf\">                    </span>                                                                             <span style=\"color: #7f7f7f; text-decoration-color: #7f7f7f\">                  </span>\n",
       "<span style=\"color: #7fbfbf; text-decoration-color: #7fbfbf\">                    </span>           File                                                              <span style=\"color: #7f7f7f; text-decoration-color: #7f7f7f\">                  </span>\n",
       "<span style=\"color: #7fbfbf; text-decoration-color: #7fbfbf\">                    </span>         <span style=\"color: #008000; text-decoration-color: #008000\">\"/var/folders/cp/1fbgq2n922j8ztdsq6551vldkr5sdy/T/ipykernel_65923/3</span> <span style=\"color: #7f7f7f; text-decoration-color: #7f7f7f\">                  </span>\n",
       "<span style=\"color: #7fbfbf; text-decoration-color: #7fbfbf\">                    </span>         <span style=\"color: #008000; text-decoration-color: #008000\">806461673.py\"</span>, line <span style=\"color: #008080; text-decoration-color: #008080; font-weight: bold\">9</span>, in do2                                       <span style=\"color: #7f7f7f; text-decoration-color: #7f7f7f\">                  </span>\n",
       "<span style=\"color: #7fbfbf; text-decoration-color: #7fbfbf\">                    </span>             <span style=\"color: #800080; text-decoration-color: #800080; font-weight: bold\">do</span><span style=\"font-weight: bold\">()</span>                                                            <span style=\"color: #7f7f7f; text-decoration-color: #7f7f7f\">                  </span>\n",
       "<span style=\"color: #7fbfbf; text-decoration-color: #7fbfbf\">                    </span>             -&gt; <span style=\"font-weight: bold\">&lt;</span><span style=\"color: #ff00ff; text-decoration-color: #ff00ff; font-weight: bold\">function</span><span style=\"color: #000000; text-decoration-color: #000000\"> do at </span><span style=\"color: #008080; text-decoration-color: #008080; font-weight: bold\">0x16b2dfb80</span><span style=\"font-weight: bold\">&gt;</span>                                 <span style=\"color: #7f7f7f; text-decoration-color: #7f7f7f\">                  </span>\n",
       "<span style=\"color: #7fbfbf; text-decoration-color: #7fbfbf\">                    </span>                                                                             <span style=\"color: #7f7f7f; text-decoration-color: #7f7f7f\">                  </span>\n",
       "<span style=\"color: #7fbfbf; text-decoration-color: #7fbfbf\">                    </span>         &gt; File                                                              <span style=\"color: #7f7f7f; text-decoration-color: #7f7f7f\">                  </span>\n",
       "<span style=\"color: #7fbfbf; text-decoration-color: #7fbfbf\">                    </span>         <span style=\"color: #008000; text-decoration-color: #008000\">\"/var/folders/cp/1fbgq2n922j8ztdsq6551vldkr5sdy/T/ipykernel_65923/3</span> <span style=\"color: #7f7f7f; text-decoration-color: #7f7f7f\">                  </span>\n",
       "<span style=\"color: #7fbfbf; text-decoration-color: #7fbfbf\">                    </span>         <span style=\"color: #008000; text-decoration-color: #008000\">806461673.py\"</span>, line <span style=\"color: #008080; text-decoration-color: #008080; font-weight: bold\">3</span>, in do                                        <span style=\"color: #7f7f7f; text-decoration-color: #7f7f7f\">                  </span>\n",
       "<span style=\"color: #7fbfbf; text-decoration-color: #7fbfbf\">                    </span>             <span style=\"color: #008080; text-decoration-color: #008080; font-weight: bold\">1</span> <span style=\"color: #800080; text-decoration-color: #800080\">/</span> <span style=\"color: #008080; text-decoration-color: #008080; font-weight: bold\">0</span>                                                           <span style=\"color: #7f7f7f; text-decoration-color: #7f7f7f\">                  </span>\n",
       "<span style=\"color: #7fbfbf; text-decoration-color: #7fbfbf\">                    </span>                                                                             <span style=\"color: #7f7f7f; text-decoration-color: #7f7f7f\">                  </span>\n",
       "<span style=\"color: #7fbfbf; text-decoration-color: #7fbfbf\">                    </span>         ZeroDivisionError: division by zero                                 <span style=\"color: #7f7f7f; text-decoration-color: #7f7f7f\">                  </span>\n",
       "<span style=\"color: #7fbfbf; text-decoration-color: #7fbfbf\">                    </span>                                                                             <span style=\"color: #7f7f7f; text-decoration-color: #7f7f7f\">                  </span>\n",
       "<span style=\"color: #7fbfbf; text-decoration-color: #7fbfbf\">                    </span>         <span style=\"color: #800000; text-decoration-color: #800000\">╭─────────────── </span><span style=\"color: #800000; text-decoration-color: #800000; font-weight: bold\">Traceback </span><span style=\"color: #bf7f7f; text-decoration-color: #bf7f7f; font-weight: bold\">(most recent call last)</span><span style=\"color: #800000; text-decoration-color: #800000\"> ───────────────╮</span> <span style=\"color: #7f7f7f; text-decoration-color: #7f7f7f\">                  </span>\n",
       "<span style=\"color: #7fbfbf; text-decoration-color: #7fbfbf\">                    </span>         <span style=\"color: #800000; text-decoration-color: #800000\">│</span> <span style=\"color: #bfbf7f; text-decoration-color: #bfbf7f\">/var/folders/cp/1fbgq2n922j8ztdsq6551vldkr5sdy/T/ipykernel_6592</span> <span style=\"color: #800000; text-decoration-color: #800000\">│</span> <span style=\"color: #7f7f7f; text-decoration-color: #7f7f7f\">                  </span>\n",
       "<span style=\"color: #7fbfbf; text-decoration-color: #7fbfbf\">                    </span>         <span style=\"color: #800000; text-decoration-color: #800000\">│</span> <span style=\"color: #bfbf7f; text-decoration-color: #bfbf7f\">3/</span><span style=\"color: #808000; text-decoration-color: #808000; font-weight: bold\">3806461673.py</span>:<span style=\"color: #0000ff; text-decoration-color: #0000ff\">3</span> in <span style=\"color: #00ff00; text-decoration-color: #00ff00\">do</span>                                         <span style=\"color: #800000; text-decoration-color: #800000\">│</span> <span style=\"color: #7f7f7f; text-decoration-color: #7f7f7f\">                  </span>\n",
       "<span style=\"color: #7fbfbf; text-decoration-color: #7fbfbf\">                    </span>         <span style=\"color: #800000; text-decoration-color: #800000\">│</span>                                                                 <span style=\"color: #800000; text-decoration-color: #800000\">│</span> <span style=\"color: #7f7f7f; text-decoration-color: #7f7f7f\">                  </span>\n",
       "<span style=\"color: #7fbfbf; text-decoration-color: #7fbfbf\">                    </span>         <span style=\"color: #800000; text-decoration-color: #800000\">│</span> <span style=\"color: #800000; text-decoration-color: #800000; font-style: italic\">[Errno 2] No such file or directory: </span>                           <span style=\"color: #800000; text-decoration-color: #800000\">│</span> <span style=\"color: #7f7f7f; text-decoration-color: #7f7f7f\">                  </span>\n",
       "<span style=\"color: #7fbfbf; text-decoration-color: #7fbfbf\">                    </span>         <span style=\"color: #800000; text-decoration-color: #800000\">│</span> <span style=\"color: #800000; text-decoration-color: #800000; font-style: italic\">'/var/folders/cp/1fbgq2n922j8ztdsq6551vldkr5sdy/T/ipykernel_659</span> <span style=\"color: #800000; text-decoration-color: #800000\">│</span> <span style=\"color: #7f7f7f; text-decoration-color: #7f7f7f\">                  </span>\n",
       "<span style=\"color: #7fbfbf; text-decoration-color: #7fbfbf\">                    </span>         <span style=\"color: #800000; text-decoration-color: #800000\">│</span> <span style=\"color: #800000; text-decoration-color: #800000; font-style: italic\">23/3806461673.py'</span>                                               <span style=\"color: #800000; text-decoration-color: #800000\">│</span> <span style=\"color: #7f7f7f; text-decoration-color: #7f7f7f\">                  </span>\n",
       "<span style=\"color: #7fbfbf; text-decoration-color: #7fbfbf\">                    </span>         <span style=\"color: #800000; text-decoration-color: #800000\">╰─────────────────────────────────────────────────────────────────╯</span> <span style=\"color: #7f7f7f; text-decoration-color: #7f7f7f\">                  </span>\n",
       "<span style=\"color: #7fbfbf; text-decoration-color: #7fbfbf\">                    </span>         <span style=\"color: #ff0000; text-decoration-color: #ff0000; font-weight: bold\">ZeroDivisionError: </span>division by zero                                 <span style=\"color: #7f7f7f; text-decoration-color: #7f7f7f\">                  </span>\n",
       "</pre>\n"
      ],
      "text/plain": [
       "\u001b[2;36m                   \u001b[0m\u001b[2;36m \u001b[0m\u001b[1;31mERROR   \u001b[0m division by zero                                                    \u001b]8;id=550042;file:///var/folders/cp/1fbgq2n922j8ztdsq6551vldkr5sdy/T/ipykernel_65923/3806461673.py\u001b\\\u001b[2m3806461673.py\u001b[0m\u001b]8;;\u001b\\\u001b[2m:\u001b[0m\u001b]8;id=3283;file:///var/folders/cp/1fbgq2n922j8ztdsq6551vldkr5sdy/T/ipykernel_65923/3806461673.py#do:6\u001b\\\u001b[2mdo:6\u001b[0m\u001b]8;;\u001b\\\n",
       "\u001b[2;36m                    \u001b[0m         Traceback \u001b[1m(\u001b[0mmost recent call last\u001b[1m)\u001b[0m:                                  \u001b[2m                  \u001b[0m\n",
       "\u001b[2;36m                    \u001b[0m                                                                             \u001b[2m                  \u001b[0m\n",
       "\u001b[2;36m                    \u001b[0m           File \u001b[32m\"/Users/yeshwanth.y/miniconda3/lib/python3.9/runpy.py\"\u001b[0m, line \u001b[2m                  \u001b[0m\n",
       "\u001b[2;36m                    \u001b[0m         \u001b[1;36m197\u001b[0m, in _run_module_as_main                                         \u001b[2m                  \u001b[0m\n",
       "\u001b[2;36m                    \u001b[0m             return \u001b[1;35m_run_code\u001b[0m\u001b[1m(\u001b[0mcode, main_globals, \u001b[3;35mNone\u001b[0m,                      \u001b[2m                  \u001b[0m\n",
       "\u001b[2;36m                    \u001b[0m                    |         |     -> \u001b[1m{\u001b[0m\u001b[32m'__name__'\u001b[0m: \u001b[32m'__main__'\u001b[0m, \u001b[32m'__doc__'\u001b[0m:   \u001b[2m                  \u001b[0m\n",
       "\u001b[2;36m                    \u001b[0m         'Entry point for launching an IPython kernel.\\n\\nThis is separate   \u001b[2m                  \u001b[0m\n",
       "\u001b[2;36m                    \u001b[0m         from the ipykernel pack\u001b[33m...\u001b[0m                                          \u001b[2m                  \u001b[0m\n",
       "\u001b[2;36m                    \u001b[0m                    |         -> \u001b[1m<\u001b[0m\u001b[1;95mcode\u001b[0m\u001b[39m object <module\u001b[0m\u001b[1m>\u001b[0m at \u001b[1;36m0x10fc10df0\u001b[0m, file  \u001b[2m                  \u001b[0m\n",
       "\u001b[2;36m                    \u001b[0m         \u001b[32m\"/Users/yeshwanth.y/miniconda3/lib/python3.9/site-packages/ipykerne\u001b[0m \u001b[2m                  \u001b[0m\n",
       "\u001b[2;36m                    \u001b[0m         \u001b[32ml_launcher.py\"\u001b[0m,\u001b[33m...\u001b[0m                                                  \u001b[2m                  \u001b[0m\n",
       "\u001b[2;36m                    \u001b[0m                    -> \u001b[1m<\u001b[0m\u001b[1;95mfunction\u001b[0m\u001b[39m _run_code at \u001b[0m\u001b[1;36m0x10fc14310\u001b[0m\u001b[1m>\u001b[0m                   \u001b[2m                  \u001b[0m\n",
       "\u001b[2;36m                    \u001b[0m           File \u001b[32m\"/Users/yeshwanth.y/miniconda3/lib/python3.9/runpy.py\"\u001b[0m, line \u001b[2m                  \u001b[0m\n",
       "\u001b[2;36m                    \u001b[0m         \u001b[1;36m87\u001b[0m, in _run_code                                                    \u001b[2m                  \u001b[0m\n",
       "\u001b[2;36m                    \u001b[0m             \u001b[1;35mexec\u001b[0m\u001b[1m(\u001b[0mcode, run_globals\u001b[1m)\u001b[0m                                         \u001b[2m                  \u001b[0m\n",
       "\u001b[2;36m                    \u001b[0m                  |     -> \u001b[1m{\u001b[0m\u001b[32m'__name__'\u001b[0m: \u001b[32m'__main__'\u001b[0m, \u001b[32m'__doc__'\u001b[0m: 'Entry point  \u001b[2m                  \u001b[0m\n",
       "\u001b[2;36m                    \u001b[0m         for launching an IPython kernel.\\n\\nThis is separate from the       \u001b[2m                  \u001b[0m\n",
       "\u001b[2;36m                    \u001b[0m         ipykernel pack\u001b[33m...\u001b[0m                                                   \u001b[2m                  \u001b[0m\n",
       "\u001b[2;36m                    \u001b[0m                  -> \u001b[1m<\u001b[0m\u001b[1;95mcode\u001b[0m\u001b[39m object <module\u001b[0m\u001b[1m>\u001b[0m at \u001b[1;36m0x10fc10df0\u001b[0m, file              \u001b[2m                  \u001b[0m\n",
       "\u001b[2;36m                    \u001b[0m         \u001b[32m\"/Users/yeshwanth.y/miniconda3/lib/python3.9/site-packages/ipykerne\u001b[0m \u001b[2m                  \u001b[0m\n",
       "\u001b[2;36m                    \u001b[0m         \u001b[32ml_launcher.py\"\u001b[0m,\u001b[33m...\u001b[0m                                                  \u001b[2m                  \u001b[0m\n",
       "\u001b[2;36m                    \u001b[0m           File                                                              \u001b[2m                  \u001b[0m\n",
       "\u001b[2;36m                    \u001b[0m         \u001b[32m\"/Users/yeshwanth.y/miniconda3/lib/python3.9/site-packages/ipykerne\u001b[0m \u001b[2m                  \u001b[0m\n",
       "\u001b[2;36m                    \u001b[0m         \u001b[32ml_launcher.py\"\u001b[0m, line \u001b[1;36m16\u001b[0m, in \u001b[1m<\u001b[0m\u001b[1;95mmodule\u001b[0m\u001b[1m>\u001b[0m                                \u001b[2m                  \u001b[0m\n",
       "\u001b[2;36m                    \u001b[0m             \u001b[1;35mapp.launch_new_instance\u001b[0m\u001b[1m(\u001b[0m\u001b[1m)\u001b[0m                                       \u001b[2m                  \u001b[0m\n",
       "\u001b[2;36m                    \u001b[0m             |   -> \u001b[1m<\u001b[0m\u001b[1;95mbound\u001b[0m\u001b[39m method Application.launch_instance of <class \u001b[0m     \u001b[2m                  \u001b[0m\n",
       "\u001b[2;36m                    \u001b[0m         \u001b[32m'ipykernel.kernelapp.IPKernelApp'\u001b[0m\u001b[1m>\u001b[0m>                                 \u001b[2m                  \u001b[0m\n",
       "\u001b[2;36m                    \u001b[0m             -> \u001b[1m<\u001b[0m\u001b[1;95mmodule\u001b[0m\u001b[39m \u001b[0m\u001b[32m'ipykernel.kernelapp'\u001b[0m\u001b[39m from \u001b[0m                          \u001b[2m                  \u001b[0m\n",
       "\u001b[2;36m                    \u001b[0m         \u001b[32m'/Users/yeshwanth.y/miniconda3/lib/python3.9/site-packages/ipykerne\u001b[0m \u001b[2m                  \u001b[0m\n",
       "\u001b[2;36m                    \u001b[0m         \u001b[32ml/kernelapp.py'\u001b[0m\u001b[1m>\u001b[0m                                                    \u001b[2m                  \u001b[0m\n",
       "\u001b[2;36m                    \u001b[0m           File                                                              \u001b[2m                  \u001b[0m\n",
       "\u001b[2;36m                    \u001b[0m         \u001b[32m\"/Users/yeshwanth.y/miniconda3/lib/python3.9/site-packages/traitlet\u001b[0m \u001b[2m                  \u001b[0m\n",
       "\u001b[2;36m                    \u001b[0m         \u001b[32ms/config/application.py\"\u001b[0m, line \u001b[1;36m846\u001b[0m, in launch_instance              \u001b[2m                  \u001b[0m\n",
       "\u001b[2;36m                    \u001b[0m             \u001b[1;35mapp.start\u001b[0m\u001b[1m(\u001b[0m\u001b[1m)\u001b[0m                                                     \u001b[2m                  \u001b[0m\n",
       "\u001b[2;36m                    \u001b[0m             |   -> \u001b[1m<\u001b[0m\u001b[1;95mfunction\u001b[0m\u001b[39m IPKernelApp.start at \u001b[0m\u001b[1;36m0x112680e50\u001b[0m\u001b[1m>\u001b[0m              \u001b[2m                  \u001b[0m\n",
       "\u001b[2;36m                    \u001b[0m             -> \u001b[1m<\u001b[0m\u001b[1;95mipykernel.kernelapp.IPKernelApp\u001b[0m\u001b[39m object at \u001b[0m\u001b[1;36m0x10fa816a0\u001b[0m\u001b[1m>\u001b[0m      \u001b[2m                  \u001b[0m\n",
       "\u001b[2;36m                    \u001b[0m           File                                                              \u001b[2m                  \u001b[0m\n",
       "\u001b[2;36m                    \u001b[0m         \u001b[32m\"/Users/yeshwanth.y/miniconda3/lib/python3.9/site-packages/ipykerne\u001b[0m \u001b[2m                  \u001b[0m\n",
       "\u001b[2;36m                    \u001b[0m         \u001b[32ml/kernelapp.py\"\u001b[0m, line \u001b[1;36m677\u001b[0m, in start                                 \u001b[2m                  \u001b[0m\n",
       "\u001b[2;36m                    \u001b[0m             \u001b[1;35mself.io_loop.start\u001b[0m\u001b[1m(\u001b[0m\u001b[1m)\u001b[0m                                            \u001b[2m                  \u001b[0m\n",
       "\u001b[2;36m                    \u001b[0m             |    |       -> \u001b[1m<\u001b[0m\u001b[1;95mfunction\u001b[0m\u001b[39m BaseAsyncIOLoop.start at \u001b[0m\u001b[1;36m0x110a413a0\u001b[0m\u001b[1m>\u001b[0m \u001b[2m                  \u001b[0m\n",
       "\u001b[2;36m                    \u001b[0m             |    -> \u001b[1m<\u001b[0m\u001b[1;95mtornado.platform.asyncio.AsyncIOMainLoop\u001b[0m\u001b[39m object at \u001b[0m    \u001b[2m                  \u001b[0m\n",
       "\u001b[2;36m                    \u001b[0m         \u001b[1;36m0x112689a30\u001b[0m\u001b[1m>\u001b[0m                                                        \u001b[2m                  \u001b[0m\n",
       "\u001b[2;36m                    \u001b[0m             -> \u001b[1m<\u001b[0m\u001b[1;95mipykernel.kernelapp.IPKernelApp\u001b[0m\u001b[39m object at \u001b[0m\u001b[1;36m0x10fa816a0\u001b[0m\u001b[1m>\u001b[0m      \u001b[2m                  \u001b[0m\n",
       "\u001b[2;36m                    \u001b[0m           File                                                              \u001b[2m                  \u001b[0m\n",
       "\u001b[2;36m                    \u001b[0m         \u001b[32m\"/Users/yeshwanth.y/miniconda3/lib/python3.9/site-packages/tornado/\u001b[0m \u001b[2m                  \u001b[0m\n",
       "\u001b[2;36m                    \u001b[0m         \u001b[32mplatform/asyncio.py\"\u001b[0m, line \u001b[1;36m199\u001b[0m, in start                            \u001b[2m                  \u001b[0m\n",
       "\u001b[2;36m                    \u001b[0m             \u001b[1;35mself.asyncio_loop.run_forever\u001b[0m\u001b[1m(\u001b[0m\u001b[1m)\u001b[0m                                 \u001b[2m                  \u001b[0m\n",
       "\u001b[2;36m                    \u001b[0m             |    |            -> \u001b[1m<\u001b[0m\u001b[1;95mfunction\u001b[0m\u001b[39m BaseEventLoop.run_forever at \u001b[0m    \u001b[2m                  \u001b[0m\n",
       "\u001b[2;36m                    \u001b[0m         \u001b[1;36m0x110722ee0\u001b[0m\u001b[1m>\u001b[0m                                                        \u001b[2m                  \u001b[0m\n",
       "\u001b[2;36m                    \u001b[0m             |    -> \u001b[1m<\u001b[0m\u001b[1;95m_UnixSelectorEventLoop\u001b[0m\u001b[39m \u001b[0m\u001b[33mrunning\u001b[0m\u001b[39m=\u001b[0m\u001b[3;92mTrue\u001b[0m\u001b[39m \u001b[0m\u001b[33mclosed\u001b[0m\u001b[39m=\u001b[0m\u001b[3;91mFalse\u001b[0m\u001b[39m \u001b[0m      \u001b[2m                  \u001b[0m\n",
       "\u001b[2;36m                    \u001b[0m         \u001b[33mdebug\u001b[0m\u001b[39m=\u001b[0m\u001b[3;91mFalse\u001b[0m\u001b[1m>\u001b[0m                                                        \u001b[2m                  \u001b[0m\n",
       "\u001b[2;36m                    \u001b[0m             -> \u001b[1m<\u001b[0m\u001b[1;95mtornado.platform.asyncio.AsyncIOMainLoop\u001b[0m\u001b[39m object at \u001b[0m         \u001b[2m                  \u001b[0m\n",
       "\u001b[2;36m                    \u001b[0m         \u001b[1;36m0x112689a30\u001b[0m\u001b[1m>\u001b[0m                                                        \u001b[2m                  \u001b[0m\n",
       "\u001b[2;36m                    \u001b[0m           File                                                              \u001b[2m                  \u001b[0m\n",
       "\u001b[2;36m                    \u001b[0m         \u001b[32m\"/Users/yeshwanth.y/miniconda3/lib/python3.9/asyncio/base_events.py\u001b[0m \u001b[2m                  \u001b[0m\n",
       "\u001b[2;36m                    \u001b[0m         \u001b[32m\"\u001b[0m, line \u001b[1;36m596\u001b[0m, in run_forever                                         \u001b[2m                  \u001b[0m\n",
       "\u001b[2;36m                    \u001b[0m             \u001b[1;35mself._run_once\u001b[0m\u001b[1m(\u001b[0m\u001b[1m)\u001b[0m                                                \u001b[2m                  \u001b[0m\n",
       "\u001b[2;36m                    \u001b[0m             |    -> \u001b[1m<\u001b[0m\u001b[1;95mfunction\u001b[0m\u001b[39m BaseEventLoop._run_once at \u001b[0m\u001b[1;36m0x110726a60\u001b[0m\u001b[1m>\u001b[0m       \u001b[2m                  \u001b[0m\n",
       "\u001b[2;36m                    \u001b[0m             -> \u001b[1m<\u001b[0m\u001b[1;95m_UnixSelectorEventLoop\u001b[0m\u001b[39m \u001b[0m\u001b[33mrunning\u001b[0m\u001b[39m=\u001b[0m\u001b[3;92mTrue\u001b[0m\u001b[39m \u001b[0m\u001b[33mclosed\u001b[0m\u001b[39m=\u001b[0m\u001b[3;91mFalse\u001b[0m\u001b[39m \u001b[0m           \u001b[2m                  \u001b[0m\n",
       "\u001b[2;36m                    \u001b[0m         \u001b[33mdebug\u001b[0m\u001b[39m=\u001b[0m\u001b[3;91mFalse\u001b[0m\u001b[1m>\u001b[0m                                                        \u001b[2m                  \u001b[0m\n",
       "\u001b[2;36m                    \u001b[0m           File                                                              \u001b[2m                  \u001b[0m\n",
       "\u001b[2;36m                    \u001b[0m         \u001b[32m\"/Users/yeshwanth.y/miniconda3/lib/python3.9/asyncio/base_events.py\u001b[0m \u001b[2m                  \u001b[0m\n",
       "\u001b[2;36m                    \u001b[0m         \u001b[32m\"\u001b[0m, line \u001b[1;36m1890\u001b[0m, in _run_once                                          \u001b[2m                  \u001b[0m\n",
       "\u001b[2;36m                    \u001b[0m             \u001b[1;35mhandle._run\u001b[0m\u001b[1m(\u001b[0m\u001b[1m)\u001b[0m                                                   \u001b[2m                  \u001b[0m\n",
       "\u001b[2;36m                    \u001b[0m             |      -> \u001b[1m<\u001b[0m\u001b[1;95mfunction\u001b[0m\u001b[39m Handle._run at \u001b[0m\u001b[1;36m0x1106245e0\u001b[0m\u001b[1m>\u001b[0m                 \u001b[2m                  \u001b[0m\n",
       "\u001b[2;36m                    \u001b[0m             -> \u001b[1m<\u001b[0m\u001b[1;95mHandle\u001b[0m\u001b[39m <TaskWakeupMethWrapper object at \u001b[0m                    \u001b[2m                  \u001b[0m\n",
       "\u001b[2;36m                    \u001b[0m         \u001b[1;36m0x119dac820\u001b[0m\u001b[1m>\u001b[0m\u001b[1m(\u001b[0m\u001b[1m<\u001b[0m\u001b[1;95mFuture\u001b[0m\u001b[39m finis\u001b[0m\u001b[33m...\u001b[0m\u001b[1;36m040\u001b[0m\u001b[1m>\u001b[0m, \u001b[33m...\u001b[0m\u001b[1m]\u001b[0m,\u001b[1m)\u001b[0m\u001b[1m)\u001b[0m>\u001b[1m)\u001b[0m>                       \u001b[2m                  \u001b[0m\n",
       "\u001b[2;36m                    \u001b[0m           File                                                              \u001b[2m                  \u001b[0m\n",
       "\u001b[2;36m                    \u001b[0m         \u001b[32m\"/Users/yeshwanth.y/miniconda3/lib/python3.9/asyncio/events.py\"\u001b[0m,    \u001b[2m                  \u001b[0m\n",
       "\u001b[2;36m                    \u001b[0m         line \u001b[1;36m80\u001b[0m, in _run                                                    \u001b[2m                  \u001b[0m\n",
       "\u001b[2;36m                    \u001b[0m             \u001b[1;35mself._context.run\u001b[0m\u001b[1m(\u001b[0mself._callback, *self._args\u001b[1m)\u001b[0m                  \u001b[2m                  \u001b[0m\n",
       "\u001b[2;36m                    \u001b[0m             |    |            |    |           |    -> \u001b[1m<\u001b[0m\u001b[1;95mmember\u001b[0m\u001b[39m \u001b[0m\u001b[32m'_args'\u001b[0m\u001b[39m of \u001b[0m  \u001b[2m                  \u001b[0m\n",
       "\u001b[2;36m                    \u001b[0m         \u001b[32m'Handle'\u001b[0m\u001b[39m objects\u001b[0m\u001b[1m>\u001b[0m                                                   \u001b[2m                  \u001b[0m\n",
       "\u001b[2;36m                    \u001b[0m             |    |            |    |           -> \u001b[1m<\u001b[0m\u001b[1;95mHandle\u001b[0m\u001b[39m \u001b[0m                  \u001b[2m                  \u001b[0m\n",
       "\u001b[2;36m                    \u001b[0m         \u001b[39m<TaskWakeupMethWrapper object at \u001b[0m\u001b[1;36m0x119dac820\u001b[0m\u001b[1m>\u001b[0m\u001b[1m(\u001b[0m\u001b[1m<\u001b[0m\u001b[1;95mFuture\u001b[0m\u001b[39m finis\u001b[0m\u001b[33m...\u001b[0m\u001b[1;36m040\u001b[0m\u001b[1m>\u001b[0m, \u001b[2m                  \u001b[0m\n",
       "\u001b[2;36m                    \u001b[0m         \u001b[33m...\u001b[0m\u001b[1m]\u001b[0m,\u001b[1m)\u001b[0m\u001b[1m)\u001b[0m>\u001b[1m)\u001b[0m>                                                          \u001b[2m                  \u001b[0m\n",
       "\u001b[2;36m                    \u001b[0m             |    |            |    -> \u001b[1m<\u001b[0m\u001b[1;95mmember\u001b[0m\u001b[39m \u001b[0m\u001b[32m'_callback'\u001b[0m\u001b[39m of \u001b[0m\u001b[32m'Handle'\u001b[0m\u001b[39m \u001b[0m      \u001b[2m                  \u001b[0m\n",
       "\u001b[2;36m                    \u001b[0m         \u001b[39mobjects\u001b[0m\u001b[1m>\u001b[0m                                                            \u001b[2m                  \u001b[0m\n",
       "\u001b[2;36m                    \u001b[0m             |    |            -> \u001b[1m<\u001b[0m\u001b[1;95mHandle\u001b[0m\u001b[39m <TaskWakeupMethWrapper object at \u001b[0m  \u001b[2m                  \u001b[0m\n",
       "\u001b[2;36m                    \u001b[0m         \u001b[1;36m0x119dac820\u001b[0m\u001b[1m>\u001b[0m\u001b[1m(\u001b[0m\u001b[1m<\u001b[0m\u001b[1;95mFuture\u001b[0m\u001b[39m finis\u001b[0m\u001b[33m...\u001b[0m\u001b[1;36m040\u001b[0m\u001b[1m>\u001b[0m, \u001b[33m...\u001b[0m\u001b[1m]\u001b[0m,\u001b[1m)\u001b[0m\u001b[1m)\u001b[0m>\u001b[1m)\u001b[0m>                       \u001b[2m                  \u001b[0m\n",
       "\u001b[2;36m                    \u001b[0m             |    -> \u001b[1m<\u001b[0m\u001b[1;95mmember\u001b[0m\u001b[39m \u001b[0m\u001b[32m'_context'\u001b[0m\u001b[39m of \u001b[0m\u001b[32m'Handle'\u001b[0m\u001b[39m objects\u001b[0m\u001b[1m>\u001b[0m                 \u001b[2m                  \u001b[0m\n",
       "\u001b[2;36m                    \u001b[0m             -> \u001b[1m<\u001b[0m\u001b[1;95mHandle\u001b[0m\u001b[39m <TaskWakeupMethWrapper object at \u001b[0m                    \u001b[2m                  \u001b[0m\n",
       "\u001b[2;36m                    \u001b[0m         \u001b[1;36m0x119dac820\u001b[0m\u001b[1m>\u001b[0m\u001b[1m(\u001b[0m\u001b[1m<\u001b[0m\u001b[1;95mFuture\u001b[0m\u001b[39m finis\u001b[0m\u001b[33m...\u001b[0m\u001b[1;36m040\u001b[0m\u001b[1m>\u001b[0m, \u001b[33m...\u001b[0m\u001b[1m]\u001b[0m,\u001b[1m)\u001b[0m\u001b[1m)\u001b[0m>\u001b[1m)\u001b[0m>                       \u001b[2m                  \u001b[0m\n",
       "\u001b[2;36m                    \u001b[0m           File                                                              \u001b[2m                  \u001b[0m\n",
       "\u001b[2;36m                    \u001b[0m         \u001b[32m\"/Users/yeshwanth.y/miniconda3/lib/python3.9/site-packages/ipykerne\u001b[0m \u001b[2m                  \u001b[0m\n",
       "\u001b[2;36m                    \u001b[0m         \u001b[32ml/kernelbase.py\"\u001b[0m, line \u001b[1;36m457\u001b[0m, in dispatch_queue                       \u001b[2m                  \u001b[0m\n",
       "\u001b[2;36m                    \u001b[0m             await \u001b[1;35mself.process_one\u001b[0m\u001b[1m(\u001b[0m\u001b[1m)\u001b[0m                                        \u001b[2m                  \u001b[0m\n",
       "\u001b[2;36m                    \u001b[0m                   |    -> \u001b[1m<\u001b[0m\u001b[1;95mfunction\u001b[0m\u001b[39m Kernel.process_one at \u001b[0m\u001b[1;36m0x111eb4040\u001b[0m\u001b[1m>\u001b[0m      \u001b[2m                  \u001b[0m\n",
       "\u001b[2;36m                    \u001b[0m                   -> \u001b[1m<\u001b[0m\u001b[1;95mipykernel.ipkernel.IPythonKernel\u001b[0m\u001b[39m object at \u001b[0m           \u001b[2m                  \u001b[0m\n",
       "\u001b[2;36m                    \u001b[0m         \u001b[1;36m0x1126a7b80\u001b[0m\u001b[1m>\u001b[0m                                                        \u001b[2m                  \u001b[0m\n",
       "\u001b[2;36m                    \u001b[0m           File                                                              \u001b[2m                  \u001b[0m\n",
       "\u001b[2;36m                    \u001b[0m         \u001b[32m\"/Users/yeshwanth.y/miniconda3/lib/python3.9/site-packages/ipykerne\u001b[0m \u001b[2m                  \u001b[0m\n",
       "\u001b[2;36m                    \u001b[0m         \u001b[32ml/kernelbase.py\"\u001b[0m, line \u001b[1;36m446\u001b[0m, in process_one                          \u001b[2m                  \u001b[0m\n",
       "\u001b[2;36m                    \u001b[0m             await \u001b[1;35mdispatch\u001b[0m\u001b[1m(\u001b[0m*args\u001b[1m)\u001b[0m                                           \u001b[2m                  \u001b[0m\n",
       "\u001b[2;36m                    \u001b[0m                   |         -> \u001b[1m(\u001b[0m\u001b[1m[\u001b[0m\u001b[1m<\u001b[0m\u001b[1;95mzmq.sugar.frame.Frame\u001b[0m\u001b[39m object at \u001b[0m          \u001b[2m                  \u001b[0m\n",
       "\u001b[2;36m                    \u001b[0m         \u001b[1;36m0x112735ca0\u001b[0m\u001b[1m>\u001b[0m, \u001b[1m<\u001b[0m\u001b[1;95mzmq.sugar.frame.Frame\u001b[0m\u001b[39m object at \u001b[0m\u001b[1;36m0x112735bf0\u001b[0m\u001b[1m>\u001b[0m,        \u001b[2m                  \u001b[0m\n",
       "\u001b[2;36m                    \u001b[0m         \u001b[1m<\u001b[0m\u001b[1;95mzmq.sugar.frame.Frame\u001b[0m\u001b[39m object\u001b[0m\u001b[33m...\u001b[0m                                    \u001b[2m                  \u001b[0m\n",
       "\u001b[2;36m                    \u001b[0m         \u001b[39m          -\u001b[0m\u001b[1m>\u001b[0m \u001b[1m<\u001b[0m\u001b[1;95mbound\u001b[0m\u001b[39m method Kernel.dispatch_shell of \u001b[0m                \u001b[2m                  \u001b[0m\n",
       "\u001b[2;36m                    \u001b[0m         \u001b[39m<ipykernel.ipkernel.IPythonKernel object at \u001b[0m\u001b[1;36m0x1126a7b80\u001b[0m\u001b[1m>\u001b[0m>           \u001b[2m                  \u001b[0m\n",
       "\u001b[2;36m                    \u001b[0m           File                                                              \u001b[2m                  \u001b[0m\n",
       "\u001b[2;36m                    \u001b[0m         \u001b[32m\"/Users/yeshwanth.y/miniconda3/lib/python3.9/site-packages/ipykerne\u001b[0m \u001b[2m                  \u001b[0m\n",
       "\u001b[2;36m                    \u001b[0m         \u001b[32ml/kernelbase.py\"\u001b[0m, line \u001b[1;36m353\u001b[0m, in dispatch_shell                       \u001b[2m                  \u001b[0m\n",
       "\u001b[2;36m                    \u001b[0m             await result                                                    \u001b[2m                  \u001b[0m\n",
       "\u001b[2;36m                    \u001b[0m                   -> \u001b[1m<\u001b[0m\u001b[1;95mcoroutine\u001b[0m\u001b[39m object Kernel.execute_request at \u001b[0m           \u001b[2m                  \u001b[0m\n",
       "\u001b[2;36m                    \u001b[0m         \u001b[1;36m0x1127457c0\u001b[0m\u001b[1m>\u001b[0m                                                        \u001b[2m                  \u001b[0m\n",
       "\u001b[2;36m                    \u001b[0m           File                                                              \u001b[2m                  \u001b[0m\n",
       "\u001b[2;36m                    \u001b[0m         \u001b[32m\"/Users/yeshwanth.y/miniconda3/lib/python3.9/site-packages/ipykerne\u001b[0m \u001b[2m                  \u001b[0m\n",
       "\u001b[2;36m                    \u001b[0m         \u001b[32ml/kernelbase.py\"\u001b[0m, line \u001b[1;36m648\u001b[0m, in execute_request                      \u001b[2m                  \u001b[0m\n",
       "\u001b[2;36m                    \u001b[0m             reply_content = await reply_content                             \u001b[2m                  \u001b[0m\n",
       "\u001b[2;36m                    \u001b[0m                                   -> \u001b[1m<\u001b[0m\u001b[1;95mcoroutine\u001b[0m\u001b[39m object \u001b[0m                     \u001b[2m                  \u001b[0m\n",
       "\u001b[2;36m                    \u001b[0m         \u001b[39mIPythonKernel.do_execute at \u001b[0m\u001b[1;36m0x1127451c0\u001b[0m\u001b[1m>\u001b[0m                            \u001b[2m                  \u001b[0m\n",
       "\u001b[2;36m                    \u001b[0m           File                                                              \u001b[2m                  \u001b[0m\n",
       "\u001b[2;36m                    \u001b[0m         \u001b[32m\"/Users/yeshwanth.y/miniconda3/lib/python3.9/site-packages/ipykerne\u001b[0m \u001b[2m                  \u001b[0m\n",
       "\u001b[2;36m                    \u001b[0m         \u001b[32ml/ipkernel.py\"\u001b[0m, line \u001b[1;36m353\u001b[0m, in do_execute                             \u001b[2m                  \u001b[0m\n",
       "\u001b[2;36m                    \u001b[0m             res = \u001b[1;35mshell.run_cell\u001b[0m\u001b[1m(\u001b[0mcode, \u001b[33mstore_history\u001b[0m=\u001b[35mstore_history\u001b[0m,         \u001b[2m                  \u001b[0m\n",
       "\u001b[2;36m                    \u001b[0m         \u001b[33msilent\u001b[0m=\u001b[35msilent\u001b[0m\u001b[1m)\u001b[0m                                                      \u001b[2m                  \u001b[0m\n",
       "\u001b[2;36m                    \u001b[0m                   |     |        |                   |                      \u001b[2m                  \u001b[0m\n",
       "\u001b[2;36m                    \u001b[0m         -> \u001b[3;91mFalse\u001b[0m                                                            \u001b[2m                  \u001b[0m\n",
       "\u001b[2;36m                    \u001b[0m                   |     |        |                   -> \u001b[3;92mTrue\u001b[0m                \u001b[2m                  \u001b[0m\n",
       "\u001b[2;36m                    \u001b[0m                   |     |        -> 'def \u001b[1;35mdo\u001b[0m\u001b[1m(\u001b[0m\u001b[1m)\u001b[0m:\\n    try:\\n        \u001b[1;36m1\u001b[0m \u001b[35m/\u001b[0m \u001b[1;36m0\u001b[0m\\n   \u001b[2m                  \u001b[0m\n",
       "\u001b[2;36m                    \u001b[0m         except Exception as e:\\n        #                                   \u001b[2m                  \u001b[0m\n",
       "\u001b[2;36m                    \u001b[0m         \u001b[1;35mconsole.print_exception\u001b[0m\u001b[1m(\u001b[0m\u001b[33mmax_frames\u001b[0m=\u001b[1;36m20\u001b[0m\u001b[1m)\u001b[0m\\n        lo\u001b[33m...\u001b[0m               \u001b[2m                  \u001b[0m\n",
       "\u001b[2;36m                    \u001b[0m                   |     -> \u001b[1m<\u001b[0m\u001b[1;95mfunction\u001b[0m\u001b[39m ZMQInteractiveShell.run_cell at \u001b[0m       \u001b[2m                  \u001b[0m\n",
       "\u001b[2;36m                    \u001b[0m         \u001b[1;36m0x111eca4c0\u001b[0m\u001b[1m>\u001b[0m                                                        \u001b[2m                  \u001b[0m\n",
       "\u001b[2;36m                    \u001b[0m                   -> \u001b[1m<\u001b[0m\u001b[1;95mipykernel.zmqshell.ZMQInteractiveShell\u001b[0m\u001b[39m object at \u001b[0m     \u001b[2m                  \u001b[0m\n",
       "\u001b[2;36m                    \u001b[0m         \u001b[1;36m0x1126f94c0\u001b[0m\u001b[1m>\u001b[0m                                                        \u001b[2m                  \u001b[0m\n",
       "\u001b[2;36m                    \u001b[0m           File                                                              \u001b[2m                  \u001b[0m\n",
       "\u001b[2;36m                    \u001b[0m         \u001b[32m\"/Users/yeshwanth.y/miniconda3/lib/python3.9/site-packages/ipykerne\u001b[0m \u001b[2m                  \u001b[0m\n",
       "\u001b[2;36m                    \u001b[0m         \u001b[32ml/zmqshell.py\"\u001b[0m, line \u001b[1;36m533\u001b[0m, in run_cell                               \u001b[2m                  \u001b[0m\n",
       "\u001b[2;36m                    \u001b[0m             return \u001b[1;35msuper\u001b[0m\u001b[1m(\u001b[0mZMQInteractiveShell, self\u001b[1m)\u001b[0m\u001b[1;35m.run_cell\u001b[0m\u001b[1m(\u001b[0m*args,         \u001b[2m                  \u001b[0m\n",
       "\u001b[2;36m                    \u001b[0m         **kwargs\u001b[1m)\u001b[0m                                                           \u001b[2m                  \u001b[0m\n",
       "\u001b[2;36m                    \u001b[0m                          |                    |               |       ->    \u001b[2m                  \u001b[0m\n",
       "\u001b[2;36m                    \u001b[0m         \u001b[1m{\u001b[0m\u001b[32m'store_history'\u001b[0m: \u001b[3;92mTrue\u001b[0m, \u001b[32m'silent'\u001b[0m: \u001b[3;91mFalse\u001b[0m\u001b[1m}\u001b[0m                            \u001b[2m                  \u001b[0m\n",
       "\u001b[2;36m                    \u001b[0m                          |                    |               -> \u001b[1m(\u001b[0m'def      \u001b[2m                  \u001b[0m\n",
       "\u001b[2;36m                    \u001b[0m         \u001b[1;35mdo\u001b[0m\u001b[1m(\u001b[0m\u001b[1m)\u001b[0m:\\n    try:\\n        \u001b[1;36m1\u001b[0m \u001b[35m/\u001b[0m \u001b[1;36m0\u001b[0m\\n    except Exception as e:\\n        \u001b[2m                  \u001b[0m\n",
       "\u001b[2;36m                    \u001b[0m         # \u001b[1;35mconsole.print_exception\u001b[0m\u001b[1m(\u001b[0m\u001b[33mmax_frames\u001b[0m=\u001b[1;36m20\u001b[0m\u001b[1m)\u001b[0m\\n        l\u001b[33m...\u001b[0m              \u001b[2m                  \u001b[0m\n",
       "\u001b[2;36m                    \u001b[0m                          |                    ->                            \u001b[2m                  \u001b[0m\n",
       "\u001b[2;36m                    \u001b[0m         \u001b[1m<\u001b[0m\u001b[1;95mipykernel.zmqshell.ZMQInteractiveShell\u001b[0m\u001b[39m object at \u001b[0m\u001b[1;36m0x1126f94c0\u001b[0m\u001b[1m>\u001b[0m      \u001b[2m                  \u001b[0m\n",
       "\u001b[2;36m                    \u001b[0m                          -> \u001b[1m<\u001b[0m\u001b[1;95mclass\u001b[0m\u001b[39m \u001b[0m                                         \u001b[2m                  \u001b[0m\n",
       "\u001b[2;36m                    \u001b[0m         \u001b[32m'ipykernel.zmqshell.ZMQInteractiveShell'\u001b[0m\u001b[1m>\u001b[0m                           \u001b[2m                  \u001b[0m\n",
       "\u001b[2;36m                    \u001b[0m           File                                                              \u001b[2m                  \u001b[0m\n",
       "\u001b[2;36m                    \u001b[0m         \u001b[32m\"/Users/yeshwanth.y/miniconda3/lib/python3.9/site-packages/IPython/\u001b[0m \u001b[2m                  \u001b[0m\n",
       "\u001b[2;36m                    \u001b[0m         \u001b[32mcore/interactiveshell.py\"\u001b[0m, line \u001b[1;36m2914\u001b[0m, in run_cell                   \u001b[2m                  \u001b[0m\n",
       "\u001b[2;36m                    \u001b[0m             result = \u001b[1;35mself._run_cell\u001b[0m\u001b[1m(\u001b[0m                                        \u001b[2m                  \u001b[0m\n",
       "\u001b[2;36m                    \u001b[0m                      |    -> \u001b[1m<\u001b[0m\u001b[1;95mfunction\u001b[0m\u001b[39m InteractiveShell._run_cell at \u001b[0m       \u001b[2m                  \u001b[0m\n",
       "\u001b[2;36m                    \u001b[0m         \u001b[1;36m0x1111bbca0\u001b[0m\u001b[1m>\u001b[0m                                                        \u001b[2m                  \u001b[0m\n",
       "\u001b[2;36m                    \u001b[0m                      -> \u001b[1m<\u001b[0m\u001b[1;95mipykernel.zmqshell.ZMQInteractiveShell\u001b[0m\u001b[39m object at \u001b[0m  \u001b[2m                  \u001b[0m\n",
       "\u001b[2;36m                    \u001b[0m         \u001b[1;36m0x1126f94c0\u001b[0m\u001b[1m>\u001b[0m                                                        \u001b[2m                  \u001b[0m\n",
       "\u001b[2;36m                    \u001b[0m           File                                                              \u001b[2m                  \u001b[0m\n",
       "\u001b[2;36m                    \u001b[0m         \u001b[32m\"/Users/yeshwanth.y/miniconda3/lib/python3.9/site-packages/IPython/\u001b[0m \u001b[2m                  \u001b[0m\n",
       "\u001b[2;36m                    \u001b[0m         \u001b[32mcore/interactiveshell.py\"\u001b[0m, line \u001b[1;36m2960\u001b[0m, in _run_cell                  \u001b[2m                  \u001b[0m\n",
       "\u001b[2;36m                    \u001b[0m             return \u001b[1;35mrunner\u001b[0m\u001b[1m(\u001b[0mcoro\u001b[1m)\u001b[0m                                             \u001b[2m                  \u001b[0m\n",
       "\u001b[2;36m                    \u001b[0m                    |      -> \u001b[1m<\u001b[0m\u001b[1;95mcoroutine\u001b[0m\u001b[39m object \u001b[0m                             \u001b[2m                  \u001b[0m\n",
       "\u001b[2;36m                    \u001b[0m         \u001b[39mInteractiveShell.run_cell_async at \u001b[0m\u001b[1;36m0x16b48be40\u001b[0m\u001b[1m>\u001b[0m                     \u001b[2m                  \u001b[0m\n",
       "\u001b[2;36m                    \u001b[0m                    -> \u001b[1m<\u001b[0m\u001b[1;95mfunction\u001b[0m\u001b[39m _pseudo_sync_runner at \u001b[0m\u001b[1;36m0x1111ab310\u001b[0m\u001b[1m>\u001b[0m         \u001b[2m                  \u001b[0m\n",
       "\u001b[2;36m                    \u001b[0m           File                                                              \u001b[2m                  \u001b[0m\n",
       "\u001b[2;36m                    \u001b[0m         \u001b[32m\"/Users/yeshwanth.y/miniconda3/lib/python3.9/site-packages/IPython/\u001b[0m \u001b[2m                  \u001b[0m\n",
       "\u001b[2;36m                    \u001b[0m         \u001b[32mcore/async_helpers.py\"\u001b[0m, line \u001b[1;36m78\u001b[0m, in _pseudo_sync_runner             \u001b[2m                  \u001b[0m\n",
       "\u001b[2;36m                    \u001b[0m             \u001b[1;35mcoro.send\u001b[0m\u001b[1m(\u001b[0m\u001b[3;35mNone\u001b[0m\u001b[1m)\u001b[0m                                                 \u001b[2m                  \u001b[0m\n",
       "\u001b[2;36m                    \u001b[0m             |    -> \u001b[1m<\u001b[0m\u001b[1;95mmethod\u001b[0m\u001b[39m \u001b[0m\u001b[32m'send'\u001b[0m\u001b[39m of \u001b[0m\u001b[32m'coroutine'\u001b[0m\u001b[39m objects\u001b[0m\u001b[1m>\u001b[0m                  \u001b[2m                  \u001b[0m\n",
       "\u001b[2;36m                    \u001b[0m             -> \u001b[1m<\u001b[0m\u001b[1;95mcoroutine\u001b[0m\u001b[39m object InteractiveShell.run_cell_async at \u001b[0m        \u001b[2m                  \u001b[0m\n",
       "\u001b[2;36m                    \u001b[0m         \u001b[1;36m0x16b48be40\u001b[0m\u001b[1m>\u001b[0m                                                        \u001b[2m                  \u001b[0m\n",
       "\u001b[2;36m                    \u001b[0m           File                                                              \u001b[2m                  \u001b[0m\n",
       "\u001b[2;36m                    \u001b[0m         \u001b[32m\"/Users/yeshwanth.y/miniconda3/lib/python3.9/site-packages/IPython/\u001b[0m \u001b[2m                  \u001b[0m\n",
       "\u001b[2;36m                    \u001b[0m         \u001b[32mcore/interactiveshell.py\"\u001b[0m, line \u001b[1;36m3185\u001b[0m, in run_cell_async             \u001b[2m                  \u001b[0m\n",
       "\u001b[2;36m                    \u001b[0m             has_raised = await \u001b[1;35mself.run_ast_nodes\u001b[0m\u001b[1m(\u001b[0mcode_ast.body, cell_name, \u001b[2m                  \u001b[0m\n",
       "\u001b[2;36m                    \u001b[0m                                |    |             |        |     ->         \u001b[2m                  \u001b[0m\n",
       "\u001b[2;36m                    \u001b[0m         \u001b[32m'/var/folders/cp/1fbgq2n922j8ztdsq6551vldkr5sdy/T/ipykernel_65923/3\u001b[0m \u001b[2m                  \u001b[0m\n",
       "\u001b[2;36m                    \u001b[0m         \u001b[32m806461673.py'\u001b[0m                                                       \u001b[2m                  \u001b[0m\n",
       "\u001b[2;36m                    \u001b[0m                                |    |             |        ->               \u001b[2m                  \u001b[0m\n",
       "\u001b[2;36m                    \u001b[0m         \u001b[1m[\u001b[0m\u001b[1m<\u001b[0m\u001b[1;95mast.FunctionDef\u001b[0m\u001b[39m object at \u001b[0m\u001b[1;36m0x1134122b0\u001b[0m\u001b[1m>\u001b[0m, \u001b[1m<\u001b[0m\u001b[1;95mast.FunctionDef\u001b[0m\u001b[39m object \u001b[0m  \u001b[2m                  \u001b[0m\n",
       "\u001b[2;36m                    \u001b[0m         \u001b[39mat \u001b[0m\u001b[1;36m0x14c4fda00\u001b[0m\u001b[1m>\u001b[0m, \u001b[1m<\u001b[0m\u001b[1;95mast.Expr\u001b[0m\u001b[39m object at \u001b[0m\u001b[1;36m0x11341e9d0\u001b[0m\u001b[1m>\u001b[0m\u001b[1m]\u001b[0m                  \u001b[2m                  \u001b[0m\n",
       "\u001b[2;36m                    \u001b[0m                                |    |             -> \u001b[1m<\u001b[0m\u001b[1;95mast.Module\u001b[0m\u001b[39m object at \u001b[0m \u001b[2m                  \u001b[0m\n",
       "\u001b[2;36m                    \u001b[0m         \u001b[1;36m0x113412a30\u001b[0m\u001b[1m>\u001b[0m                                                        \u001b[2m                  \u001b[0m\n",
       "\u001b[2;36m                    \u001b[0m                                |    -> \u001b[1m<\u001b[0m\u001b[1;95mfunction\u001b[0m\u001b[39m \u001b[0m                           \u001b[2m                  \u001b[0m\n",
       "\u001b[2;36m                    \u001b[0m         \u001b[39mInteractiveShell.run_ast_nodes at \u001b[0m\u001b[1;36m0x1111bbf70\u001b[0m\u001b[1m>\u001b[0m                      \u001b[2m                  \u001b[0m\n",
       "\u001b[2;36m                    \u001b[0m                                -> \u001b[1m<\u001b[0m\u001b[1;95mipykernel.zmqshell.ZMQInteractiveShell\u001b[0m\u001b[39m \u001b[0m  \u001b[2m                  \u001b[0m\n",
       "\u001b[2;36m                    \u001b[0m         \u001b[39mobject at \u001b[0m\u001b[1;36m0x1126f94c0\u001b[0m\u001b[1m>\u001b[0m                                              \u001b[2m                  \u001b[0m\n",
       "\u001b[2;36m                    \u001b[0m           File                                                              \u001b[2m                  \u001b[0m\n",
       "\u001b[2;36m                    \u001b[0m         \u001b[32m\"/Users/yeshwanth.y/miniconda3/lib/python3.9/site-packages/IPython/\u001b[0m \u001b[2m                  \u001b[0m\n",
       "\u001b[2;36m                    \u001b[0m         \u001b[32mcore/interactiveshell.py\"\u001b[0m, line \u001b[1;36m3377\u001b[0m, in run_ast_nodes              \u001b[2m                  \u001b[0m\n",
       "\u001b[2;36m                    \u001b[0m             if \u001b[1m(\u001b[0mawait \u001b[1;35mself.run_code\u001b[0m\u001b[1m(\u001b[0mcode, result,  \u001b[33masync_\u001b[0m=\u001b[35masy\u001b[0m\u001b[1m)\u001b[0m\u001b[1m)\u001b[0m:            \u001b[2m                  \u001b[0m\n",
       "\u001b[2;36m                    \u001b[0m                       |    |        |     |               -> \u001b[3;91mFalse\u001b[0m          \u001b[2m                  \u001b[0m\n",
       "\u001b[2;36m                    \u001b[0m                       |    |        |     -> \u001b[1m<\u001b[0m\u001b[1;95mExecutionResult\u001b[0m\u001b[39m object at \u001b[0m    \u001b[2m                  \u001b[0m\n",
       "\u001b[2;36m                    \u001b[0m         \u001b[39m16b2e5370, \u001b[0m\u001b[33mexecution_count\u001b[0m\u001b[39m=\u001b[0m\u001b[1;36m12\u001b[0m\u001b[39m \u001b[0m\u001b[33merror_before_exec\u001b[0m\u001b[39m=\u001b[0m\u001b[3;35mNone\u001b[0m\u001b[39m \u001b[0m               \u001b[2m                  \u001b[0m\n",
       "\u001b[2;36m                    \u001b[0m         \u001b[33merror_in_exec\u001b[0m\u001b[39m=\u001b[0m\u001b[3;35mNone\u001b[0m\u001b[39m \u001b[0m\u001b[33minfo\u001b[0m\u001b[39m=<ExecutionInfo object\u001b[0m\u001b[33m...\u001b[0m                    \u001b[2m                  \u001b[0m\n",
       "\u001b[2;36m                    \u001b[0m         \u001b[39m              |    |        -\u001b[0m\u001b[1m>\u001b[0m \u001b[1m<\u001b[0m\u001b[1;95mcode\u001b[0m\u001b[39m object <module\u001b[0m\u001b[1m>\u001b[0m at             \u001b[2m                  \u001b[0m\n",
       "\u001b[2;36m                    \u001b[0m         \u001b[1;36m0x111164240\u001b[0m, file                                                   \u001b[2m                  \u001b[0m\n",
       "\u001b[2;36m                    \u001b[0m         \u001b[32m\"/var/folders/cp/1fbgq2n922j8ztdsq6551vldkr5sdy/T/ipykernel_65923/3\u001b[0m \u001b[2m                  \u001b[0m\n",
       "\u001b[2;36m                    \u001b[0m         \u001b[32m806461673.py\"\u001b[0m, \u001b[33m...\u001b[0m                                                  \u001b[2m                  \u001b[0m\n",
       "\u001b[2;36m                    \u001b[0m                       |    -> \u001b[1m<\u001b[0m\u001b[1;95mfunction\u001b[0m\u001b[39m InteractiveShell.run_code at \u001b[0m       \u001b[2m                  \u001b[0m\n",
       "\u001b[2;36m                    \u001b[0m         \u001b[1;36m0x1111bc0d0\u001b[0m\u001b[1m>\u001b[0m                                                        \u001b[2m                  \u001b[0m\n",
       "\u001b[2;36m                    \u001b[0m                       -> \u001b[1m<\u001b[0m\u001b[1;95mipykernel.zmqshell.ZMQInteractiveShell\u001b[0m\u001b[39m object at \u001b[0m \u001b[2m                  \u001b[0m\n",
       "\u001b[2;36m                    \u001b[0m         \u001b[1;36m0x1126f94c0\u001b[0m\u001b[1m>\u001b[0m                                                        \u001b[2m                  \u001b[0m\n",
       "\u001b[2;36m                    \u001b[0m           File                                                              \u001b[2m                  \u001b[0m\n",
       "\u001b[2;36m                    \u001b[0m         \u001b[32m\"/Users/yeshwanth.y/miniconda3/lib/python3.9/site-packages/IPython/\u001b[0m \u001b[2m                  \u001b[0m\n",
       "\u001b[2;36m                    \u001b[0m         \u001b[32mcore/interactiveshell.py\"\u001b[0m, line \u001b[1;36m3457\u001b[0m, in run_code                   \u001b[2m                  \u001b[0m\n",
       "\u001b[2;36m                    \u001b[0m             \u001b[1;35mexec\u001b[0m\u001b[1m(\u001b[0mcode_obj, self.user_global_ns, self.user_ns\u001b[1m)\u001b[0m               \u001b[2m                  \u001b[0m\n",
       "\u001b[2;36m                    \u001b[0m                  |         |    |               |    -> \u001b[1m{\u001b[0m\u001b[32m'__name__'\u001b[0m:        \u001b[2m                  \u001b[0m\n",
       "\u001b[2;36m                    \u001b[0m         \u001b[32m'__main__'\u001b[0m, \u001b[32m'__doc__'\u001b[0m: \u001b[32m'Automatically created module for IPython \u001b[0m   \u001b[2m                  \u001b[0m\n",
       "\u001b[2;36m                    \u001b[0m         \u001b[32minteractive environment'\u001b[0m, \u001b[32m'__package__'\u001b[0m: \u001b[3;35mNone\u001b[0m, \u001b[33m...\u001b[0m                  \u001b[2m                  \u001b[0m\n",
       "\u001b[2;36m                    \u001b[0m                  |         |    |               ->                          \u001b[2m                  \u001b[0m\n",
       "\u001b[2;36m                    \u001b[0m         \u001b[1m<\u001b[0m\u001b[1;95mipykernel.zmqshell.ZMQInteractiveShell\u001b[0m\u001b[39m object at \u001b[0m\u001b[1;36m0x1126f94c0\u001b[0m\u001b[1m>\u001b[0m      \u001b[2m                  \u001b[0m\n",
       "\u001b[2;36m                    \u001b[0m                  |         |    -> \u001b[1m<\u001b[0m\u001b[1;95mproperty\u001b[0m\u001b[39m object at \u001b[0m\u001b[1;36m0x1111b3360\u001b[0m\u001b[1m>\u001b[0m         \u001b[2m                  \u001b[0m\n",
       "\u001b[2;36m                    \u001b[0m                  |         -> \u001b[1m<\u001b[0m\u001b[1;95mipykernel.zmqshell.ZMQInteractiveShell\u001b[0m\u001b[39m \u001b[0m      \u001b[2m                  \u001b[0m\n",
       "\u001b[2;36m                    \u001b[0m         \u001b[39mobject at \u001b[0m\u001b[1;36m0x1126f94c0\u001b[0m\u001b[1m>\u001b[0m                                              \u001b[2m                  \u001b[0m\n",
       "\u001b[2;36m                    \u001b[0m                  -> \u001b[1m<\u001b[0m\u001b[1;95mcode\u001b[0m\u001b[39m object <module\u001b[0m\u001b[1m>\u001b[0m at \u001b[1;36m0x111164240\u001b[0m, file              \u001b[2m                  \u001b[0m\n",
       "\u001b[2;36m                    \u001b[0m         \u001b[32m\"/var/folders/cp/1fbgq2n922j8ztdsq6551vldkr5sdy/T/ipykernel_65923/3\u001b[0m \u001b[2m                  \u001b[0m\n",
       "\u001b[2;36m                    \u001b[0m         \u001b[32m806461673.py\"\u001b[0m, \u001b[33m...\u001b[0m                                                  \u001b[2m                  \u001b[0m\n",
       "\u001b[2;36m                    \u001b[0m                                                                             \u001b[2m                  \u001b[0m\n",
       "\u001b[2;36m                    \u001b[0m           File                                                              \u001b[2m                  \u001b[0m\n",
       "\u001b[2;36m                    \u001b[0m         \u001b[32m\"/var/folders/cp/1fbgq2n922j8ztdsq6551vldkr5sdy/T/ipykernel_65923/3\u001b[0m \u001b[2m                  \u001b[0m\n",
       "\u001b[2;36m                    \u001b[0m         \u001b[32m806461673.py\"\u001b[0m, line \u001b[1;36m11\u001b[0m, in \u001b[1m<\u001b[0m\u001b[1;95mmodule\u001b[0m\u001b[1m>\u001b[0m                                 \u001b[2m                  \u001b[0m\n",
       "\u001b[2;36m                    \u001b[0m             \u001b[1;35mdo2\u001b[0m\u001b[1m(\u001b[0m\u001b[1m)\u001b[0m                                                           \u001b[2m                  \u001b[0m\n",
       "\u001b[2;36m                    \u001b[0m             -> \u001b[1m<\u001b[0m\u001b[1;95mfunction\u001b[0m\u001b[39m do2 at \u001b[0m\u001b[1;36m0x16b2dfc10\u001b[0m\u001b[1m>\u001b[0m                                \u001b[2m                  \u001b[0m\n",
       "\u001b[2;36m                    \u001b[0m                                                                             \u001b[2m                  \u001b[0m\n",
       "\u001b[2;36m                    \u001b[0m           File                                                              \u001b[2m                  \u001b[0m\n",
       "\u001b[2;36m                    \u001b[0m         \u001b[32m\"/var/folders/cp/1fbgq2n922j8ztdsq6551vldkr5sdy/T/ipykernel_65923/3\u001b[0m \u001b[2m                  \u001b[0m\n",
       "\u001b[2;36m                    \u001b[0m         \u001b[32m806461673.py\"\u001b[0m, line \u001b[1;36m9\u001b[0m, in do2                                       \u001b[2m                  \u001b[0m\n",
       "\u001b[2;36m                    \u001b[0m             \u001b[1;35mdo\u001b[0m\u001b[1m(\u001b[0m\u001b[1m)\u001b[0m                                                            \u001b[2m                  \u001b[0m\n",
       "\u001b[2;36m                    \u001b[0m             -> \u001b[1m<\u001b[0m\u001b[1;95mfunction\u001b[0m\u001b[39m do at \u001b[0m\u001b[1;36m0x16b2dfb80\u001b[0m\u001b[1m>\u001b[0m                                 \u001b[2m                  \u001b[0m\n",
       "\u001b[2;36m                    \u001b[0m                                                                             \u001b[2m                  \u001b[0m\n",
       "\u001b[2;36m                    \u001b[0m         > File                                                              \u001b[2m                  \u001b[0m\n",
       "\u001b[2;36m                    \u001b[0m         \u001b[32m\"/var/folders/cp/1fbgq2n922j8ztdsq6551vldkr5sdy/T/ipykernel_65923/3\u001b[0m \u001b[2m                  \u001b[0m\n",
       "\u001b[2;36m                    \u001b[0m         \u001b[32m806461673.py\"\u001b[0m, line \u001b[1;36m3\u001b[0m, in do                                        \u001b[2m                  \u001b[0m\n",
       "\u001b[2;36m                    \u001b[0m             \u001b[1;36m1\u001b[0m \u001b[35m/\u001b[0m \u001b[1;36m0\u001b[0m                                                           \u001b[2m                  \u001b[0m\n",
       "\u001b[2;36m                    \u001b[0m                                                                             \u001b[2m                  \u001b[0m\n",
       "\u001b[2;36m                    \u001b[0m         ZeroDivisionError: division by zero                                 \u001b[2m                  \u001b[0m\n",
       "\u001b[2;36m                    \u001b[0m                                                                             \u001b[2m                  \u001b[0m\n",
       "\u001b[2;36m                    \u001b[0m         \u001b[31m╭─\u001b[0m\u001b[31m────────────── \u001b[0m\u001b[1;31mTraceback \u001b[0m\u001b[1;2;31m(most recent call last)\u001b[0m\u001b[31m ──────────────\u001b[0m\u001b[31m─╮\u001b[0m \u001b[2m                  \u001b[0m\n",
       "\u001b[2;36m                    \u001b[0m         \u001b[31m│\u001b[0m \u001b[2;33m/var/folders/cp/1fbgq2n922j8ztdsq6551vldkr5sdy/T/ipykernel_6592\u001b[0m \u001b[31m│\u001b[0m \u001b[2m                  \u001b[0m\n",
       "\u001b[2;36m                    \u001b[0m         \u001b[31m│\u001b[0m \u001b[2;33m3/\u001b[0m\u001b[1;33m3806461673.py\u001b[0m:\u001b[94m3\u001b[0m in \u001b[92mdo\u001b[0m                                         \u001b[31m│\u001b[0m \u001b[2m                  \u001b[0m\n",
       "\u001b[2;36m                    \u001b[0m         \u001b[31m│\u001b[0m                                                                 \u001b[31m│\u001b[0m \u001b[2m                  \u001b[0m\n",
       "\u001b[2;36m                    \u001b[0m         \u001b[31m│\u001b[0m \u001b[3;31m[Errno 2] No such file or directory: \u001b[0m                           \u001b[31m│\u001b[0m \u001b[2m                  \u001b[0m\n",
       "\u001b[2;36m                    \u001b[0m         \u001b[31m│\u001b[0m \u001b[3;31m'/var/folders/cp/1fbgq2n922j8ztdsq6551vldkr5sdy/T/ipykernel_659\u001b[0m \u001b[31m│\u001b[0m \u001b[2m                  \u001b[0m\n",
       "\u001b[2;36m                    \u001b[0m         \u001b[31m│\u001b[0m \u001b[3;31m23/3806461673.py'\u001b[0m                                               \u001b[31m│\u001b[0m \u001b[2m                  \u001b[0m\n",
       "\u001b[2;36m                    \u001b[0m         \u001b[31m╰─────────────────────────────────────────────────────────────────╯\u001b[0m \u001b[2m                  \u001b[0m\n",
       "\u001b[2;36m                    \u001b[0m         \u001b[1;91mZeroDivisionError: \u001b[0mdivision by zero                                 \u001b[2m                  \u001b[0m\n"
      ]
     },
     "metadata": {},
     "output_type": "display_data"
    }
   ],
   "source": [
    "def do():\n",
    "    try:\n",
    "        1 / 0\n",
    "    except Exception as e:\n",
    "        # console.print_exception(max_frames=20)\n",
    "        logger.exception(e)\n",
    "\n",
    "\n",
    "def do2():\n",
    "    do()\n",
    "\n",
    "\n",
    "do2()"
   ]
  },
  {
   "cell_type": "code",
   "execution_count": null,
   "metadata": {},
   "outputs": [],
   "source": []
  }
 ],
 "metadata": {
  "kernelspec": {
   "display_name": "Python 3 (ipykernel)",
   "language": "python",
   "name": "python3"
  },
  "language_info": {
   "codemirror_mode": {
    "name": "ipython",
    "version": 3
   },
   "file_extension": ".py",
   "mimetype": "text/x-python",
   "name": "python",
   "nbconvert_exporter": "python",
   "pygments_lexer": "ipython3",
   "version": "3.9.9"
  },
  "vscode": {
   "interpreter": {
    "hash": "0a92af74ccf65e106ae96852a45a9b0a5e11a3c414a16fc8bb2d134868e55bfd"
   }
  }
 },
 "nbformat": 4,
 "nbformat_minor": 4
}
