{
 "cells": [
  {
   "cell_type": "markdown",
   "metadata": {},
   "source": [
    "# Rich Logging and Printing"
   ]
  },
  {
   "cell_type": "code",
   "execution_count": 1,
   "metadata": {
    "execution": {
     "iopub.execute_input": "2021-05-27T14:09:58.719013Z",
     "iopub.status.busy": "2021-05-27T14:09:58.718706Z",
     "iopub.status.idle": "2021-05-27T14:09:58.722145Z",
     "shell.execute_reply": "2021-05-27T14:09:58.721368Z",
     "shell.execute_reply.started": "2021-05-27T14:09:58.718977Z"
    }
   },
   "outputs": [],
   "source": [
    "# default_exp logger"
   ]
  },
  {
   "cell_type": "code",
   "execution_count": 2,
   "metadata": {
    "execution": {
     "iopub.execute_input": "2021-05-27T14:09:58.724121Z",
     "iopub.status.busy": "2021-05-27T14:09:58.723852Z",
     "iopub.status.idle": "2021-05-27T14:09:58.773030Z",
     "shell.execute_reply": "2021-05-27T14:09:58.771756Z",
     "shell.execute_reply.started": "2021-05-27T14:09:58.724097Z"
    }
   },
   "outputs": [],
   "source": [
    "# export\n",
    "from rich.console import Console\n",
    "from rich.theme import Theme\n",
    "\n",
    "\n",
    "def get_console(width=None):\n",
    "    return Console(\n",
    "        width=width,\n",
    "        theme=Theme(\n",
    "            {\n",
    "                \"repr.number\": \"bold cyan\",\n",
    "                \"repr.string\": \"bold green\",\n",
    "                \"logging.level.info\": \"dim yellow\",\n",
    "                \"logging.level.warning\": \"dim red\",\n",
    "                \"logging.level.exception\": \"bold red\",\n",
    "            }\n",
    "        ),\n",
    "    )\n",
    "\n",
    "\n",
    "console = get_console()\n",
    "print = console.print"
   ]
  },
  {
   "cell_type": "code",
   "execution_count": 3,
   "metadata": {
    "execution": {
     "iopub.execute_input": "2021-05-27T14:09:58.777125Z",
     "iopub.status.busy": "2021-05-27T14:09:58.776753Z",
     "iopub.status.idle": "2021-05-27T14:09:58.800753Z",
     "shell.execute_reply": "2021-05-27T14:09:58.799660Z",
     "shell.execute_reply.started": "2021-05-27T14:09:58.777092Z"
    }
   },
   "outputs": [
    {
     "data": {
      "text/html": [
       "<pre style=\"white-space:pre;overflow-x:auto;line-height:normal;font-family:Menlo,'DejaVu Sans Mono',consolas,'Courier New',monospace\">The Number is <span style=\"color: #008080; text-decoration-color: #008080; font-weight: bold\">128</span>\n",
       "</pre>\n"
      ],
      "text/plain": [
       "The Number is \u001b[1;36m128\u001b[0m\n"
      ]
     },
     "metadata": {},
     "output_type": "display_data"
    },
    {
     "data": {
      "text/html": [
       "<pre style=\"white-space:pre;overflow-x:auto;line-height:normal;font-family:Menlo,'DejaVu Sans Mono',consolas,'Courier New',monospace\"><span style=\"font-weight: bold\">{</span>\n",
       "    <span style=\"color: #008000; text-decoration-color: #008000\">'a'</span>: <span style=\"color: #008080; text-decoration-color: #008080; font-weight: bold\">1</span>,\n",
       "    <span style=\"color: #008000; text-decoration-color: #008000\">'b'</span>: <span style=\"font-weight: bold\">[{</span><span style=\"color: #008080; text-decoration-color: #008080; font-weight: bold\">1</span>, <span style=\"color: #008080; text-decoration-color: #008080; font-weight: bold\">2</span>, <span style=\"color: #008080; text-decoration-color: #008080; font-weight: bold\">3</span><span style=\"font-weight: bold\">}</span>, <span style=\"color: #008000; text-decoration-color: #008000\">'lskjdf'</span><span style=\"font-weight: bold\">]</span>,\n",
       "    <span style=\"color: #008000; text-decoration-color: #008000\">'c'</span>: <span style=\"color: #008080; text-decoration-color: #008080; font-weight: bold\">1</span>,\n",
       "    <span style=\"color: #008000; text-decoration-color: #008000\">'d'</span>: <span style=\"font-weight: bold\">[{</span><span style=\"color: #008080; text-decoration-color: #008080; font-weight: bold\">1</span>, <span style=\"color: #008080; text-decoration-color: #008080; font-weight: bold\">2</span>, <span style=\"color: #008080; text-decoration-color: #008080; font-weight: bold\">3</span><span style=\"font-weight: bold\">}</span>, <span style=\"color: #008000; text-decoration-color: #008000\">'lskjdf'</span><span style=\"font-weight: bold\">]</span>,\n",
       "    <span style=\"color: #008000; text-decoration-color: #008000\">'ae'</span>: <span style=\"color: #008080; text-decoration-color: #008080; font-weight: bold\">1</span>,\n",
       "    <span style=\"color: #008000; text-decoration-color: #008000\">'bf'</span>: <span style=\"font-weight: bold\">[{</span><span style=\"color: #008080; text-decoration-color: #008080; font-weight: bold\">1</span>, <span style=\"color: #008080; text-decoration-color: #008080; font-weight: bold\">2</span>, <span style=\"color: #008080; text-decoration-color: #008080; font-weight: bold\">3</span><span style=\"font-weight: bold\">}</span>, <span style=\"color: #008000; text-decoration-color: #008000\">'lskjdf'</span><span style=\"font-weight: bold\">]</span>,\n",
       "    <span style=\"color: #008000; text-decoration-color: #008000\">'ag'</span>: <span style=\"color: #008080; text-decoration-color: #008080; font-weight: bold\">1</span>,\n",
       "    <span style=\"color: #008000; text-decoration-color: #008000\">'ba'</span>: <span style=\"font-weight: bold\">[{</span><span style=\"color: #008080; text-decoration-color: #008080; font-weight: bold\">1</span>, <span style=\"color: #008080; text-decoration-color: #008080; font-weight: bold\">2</span>, <span style=\"color: #008080; text-decoration-color: #008080; font-weight: bold\">3</span><span style=\"font-weight: bold\">}</span>, <span style=\"color: #008000; text-decoration-color: #008000\">'lskjdf'</span><span style=\"font-weight: bold\">]</span>\n",
       "<span style=\"font-weight: bold\">}</span>\n",
       "</pre>\n"
      ],
      "text/plain": [
       "\u001b[1m{\u001b[0m\n",
       "    \u001b[32m'a'\u001b[0m: \u001b[1;36m1\u001b[0m,\n",
       "    \u001b[32m'b'\u001b[0m: \u001b[1m[\u001b[0m\u001b[1m{\u001b[0m\u001b[1;36m1\u001b[0m, \u001b[1;36m2\u001b[0m, \u001b[1;36m3\u001b[0m\u001b[1m}\u001b[0m, \u001b[32m'lskjdf'\u001b[0m\u001b[1m]\u001b[0m,\n",
       "    \u001b[32m'c'\u001b[0m: \u001b[1;36m1\u001b[0m,\n",
       "    \u001b[32m'd'\u001b[0m: \u001b[1m[\u001b[0m\u001b[1m{\u001b[0m\u001b[1;36m1\u001b[0m, \u001b[1;36m2\u001b[0m, \u001b[1;36m3\u001b[0m\u001b[1m}\u001b[0m, \u001b[32m'lskjdf'\u001b[0m\u001b[1m]\u001b[0m,\n",
       "    \u001b[32m'ae'\u001b[0m: \u001b[1;36m1\u001b[0m,\n",
       "    \u001b[32m'bf'\u001b[0m: \u001b[1m[\u001b[0m\u001b[1m{\u001b[0m\u001b[1;36m1\u001b[0m, \u001b[1;36m2\u001b[0m, \u001b[1;36m3\u001b[0m\u001b[1m}\u001b[0m, \u001b[32m'lskjdf'\u001b[0m\u001b[1m]\u001b[0m,\n",
       "    \u001b[32m'ag'\u001b[0m: \u001b[1;36m1\u001b[0m,\n",
       "    \u001b[32m'ba'\u001b[0m: \u001b[1m[\u001b[0m\u001b[1m{\u001b[0m\u001b[1;36m1\u001b[0m, \u001b[1;36m2\u001b[0m, \u001b[1;36m3\u001b[0m\u001b[1m}\u001b[0m, \u001b[32m'lskjdf'\u001b[0m\u001b[1m]\u001b[0m\n",
       "\u001b[1m}\u001b[0m\n"
      ]
     },
     "metadata": {},
     "output_type": "display_data"
    }
   ],
   "source": [
    "print(\"The Number is 128\")\n",
    "print(\n",
    "    {\n",
    "        \"a\": 1,\n",
    "        \"b\": [\n",
    "            {1, 2, 3},\n",
    "            \"lskjdf\",\n",
    "        ],\n",
    "        \"c\": 1,\n",
    "        \"d\": [\n",
    "            {1, 2, 3},\n",
    "            \"lskjdf\",\n",
    "        ],\n",
    "        \"ae\": 1,\n",
    "        \"bf\": [\n",
    "            {1, 2, 3},\n",
    "            \"lskjdf\",\n",
    "        ],\n",
    "        \"ag\": 1,\n",
    "        \"ba\": [\n",
    "            {1, 2, 3},\n",
    "            \"lskjdf\",\n",
    "        ],\n",
    "    }\n",
    ")"
   ]
  },
  {
   "cell_type": "code",
   "execution_count": 4,
   "metadata": {
    "execution": {
     "iopub.execute_input": "2021-05-27T14:09:58.802989Z",
     "iopub.status.busy": "2021-05-27T14:09:58.802593Z",
     "iopub.status.idle": "2021-05-27T14:09:58.810427Z",
     "shell.execute_reply": "2021-05-27T14:09:58.809157Z",
     "shell.execute_reply.started": "2021-05-27T14:09:58.802953Z"
    }
   },
   "outputs": [
    {
     "data": {
      "text/html": [
       "<pre style=\"white-space:pre;overflow-x:auto;line-height:normal;font-family:Menlo,'DejaVu Sans Mono',consolas,'Courier New',monospace\">\\x86\n",
       "</pre>\n"
      ],
      "text/plain": [
       "\\x86\n"
      ]
     },
     "metadata": {},
     "output_type": "display_data"
    }
   ],
   "source": [
    "print(r\"\\x86\")"
   ]
  },
  {
   "cell_type": "code",
   "execution_count": 5,
   "metadata": {
    "execution": {
     "iopub.execute_input": "2021-05-27T14:09:58.812621Z",
     "iopub.status.busy": "2021-05-27T14:09:58.812306Z",
     "iopub.status.idle": "2021-05-27T14:09:58.859357Z",
     "shell.execute_reply": "2021-05-27T14:09:58.858448Z",
     "shell.execute_reply.started": "2021-05-27T14:09:58.812593Z"
    }
   },
   "outputs": [],
   "source": [
    "# export\n",
    "from loguru import logger\n",
    "from datetime import datetime\n",
    "from fastcore.basics import patch_to\n",
    "from rich.logging import RichHandler\n",
    "from pathlib import Path\n",
    "\n",
    "\n",
    "@patch_to(RichHandler)\n",
    "def render(\n",
    "    self,\n",
    "    *,\n",
    "    record,\n",
    "    traceback,\n",
    "    message_renderable: \"ConsoleRenderable\",\n",
    ") -> \"ConsoleRenderable\":\n",
    "    \"\"\"patched the renderer to print function name as well\"\"\"\n",
    "    path = Path(record.pathname).name\n",
    "    level = self.get_level_text(record)\n",
    "    time_format = None if self.formatter is None else self.formatter.datefmt\n",
    "    log_time = datetime.fromtimestamp(record.created)\n",
    "\n",
    "    log_renderable = self._log_render(\n",
    "        self.console,\n",
    "        [message_renderable] if not traceback else [message_renderable, traceback],\n",
    "        log_time=log_time,\n",
    "        time_format=time_format,\n",
    "        level=level,\n",
    "        path=path,\n",
    "        line_no=f\"{record.funcName}:{record.lineno}\",\n",
    "        link_path=record.pathname if self.enable_link_path else None,\n",
    "    )\n",
    "    return log_renderable\n",
    "\n",
    "\n",
    "logger.configure(handlers=[{\n",
    "    \"sink\":RichHandler(\n",
    "        rich_tracebacks=True,\n",
    "        console=console,\n",
    "        tracebacks_show_locals=False\n",
    "    ),\n",
    "    \"format\":'<level>{message}</level>',\n",
    "    \"backtrace\": True\n",
    "}])\n",
    "\n",
    "logger = logger\n",
    "\n",
    "Debug = lambda x, depth=0: logger.opt(depth=depth + 1).log(\"DEBUG\", x)\n",
    "Info = lambda x, depth=0: logger.opt(depth=depth + 1).log(\"INFO\", x)\n",
    "Warn = lambda x, depth=0: logger.opt(depth=depth + 1).log(\"WARNING\", x)\n",
    "Excep = lambda x, depth=0: logger.opt(depth=depth + 1).log(\"ERROR\", x)"
   ]
  },
  {
   "cell_type": "code",
   "execution_count": 6,
   "metadata": {
    "execution": {
     "iopub.execute_input": "2021-07-05T12:38:28.564313Z",
     "iopub.status.busy": "2021-07-05T12:38:28.563961Z",
     "iopub.status.idle": "2021-07-05T12:38:28.571855Z",
     "shell.execute_reply": "2021-07-05T12:38:28.570923Z",
     "shell.execute_reply.started": "2021-07-05T12:38:28.564280Z"
    },
    "tags": []
   },
   "outputs": [
    {
     "data": {
      "text/plain": [
       "{2: 2342}"
      ]
     },
     "execution_count": 6,
     "metadata": {},
     "output_type": "execute_result"
    }
   ],
   "source": [
    "a = {1: 1221, 2: 2342}\n",
    "del a[1]\n",
    "a"
   ]
  },
  {
   "cell_type": "code",
   "execution_count": 7,
   "metadata": {
    "execution": {
     "iopub.execute_input": "2021-05-27T14:09:58.861049Z",
     "iopub.status.busy": "2021-05-27T14:09:58.860632Z",
     "iopub.status.idle": "2021-05-27T14:09:58.871605Z",
     "shell.execute_reply": "2021-05-27T14:09:58.870752Z",
     "shell.execute_reply.started": "2021-05-27T14:09:58.861015Z"
    }
   },
   "outputs": [
    {
     "data": {
      "text/html": [
       "<pre style=\"white-space:pre;overflow-x:auto;line-height:normal;font-family:Menlo,'DejaVu Sans Mono',consolas,'Courier New',monospace\"><span style=\"color: #7fbfbf; text-decoration-color: #7fbfbf\">[08/28/22 20:15:35] </span><span style=\"color: #008000; text-decoration-color: #008000\">DEBUG   </span> TESTING <span style=\"font-weight: bold\">{</span><span style=\"color: #008080; text-decoration-color: #008080; font-weight: bold\">1</span>,<span style=\"color: #008080; text-decoration-color: #008080; font-weight: bold\">2</span>,<span style=\"color: #008080; text-decoration-color: #008080; font-weight: bold\">3</span><span style=\"font-weight: bold\">}</span>                         <a href=\"file:///var/folders/cp/1fbgq2n922j8ztdsq6551vldkr5sdy/T/ipykernel_28554/3592958886.py\"><span style=\"color: #7f7f7f; text-decoration-color: #7f7f7f\">3592958886.py</span></a><span style=\"color: #7f7f7f; text-decoration-color: #7f7f7f\">:</span><a href=\"file:///var/folders/cp/1fbgq2n922j8ztdsq6551vldkr5sdy/T/ipykernel_28554/3592958886.py#<module>:1\"><span style=\"color: #7f7f7f; text-decoration-color: #7f7f7f\">&lt;module&gt;:1</span></a>\n",
       "</pre>\n"
      ],
      "text/plain": [
       "\u001b[2;36m[08/28/22 20:15:35]\u001b[0m\u001b[2;36m \u001b[0m\u001b[32mDEBUG   \u001b[0m TESTING \u001b[1m{\u001b[0m\u001b[1;36m1\u001b[0m,\u001b[1;36m2\u001b[0m,\u001b[1;36m3\u001b[0m\u001b[1m}\u001b[0m                         \u001b]8;id=240023;file:///var/folders/cp/1fbgq2n922j8ztdsq6551vldkr5sdy/T/ipykernel_28554/3592958886.py\u001b\\\u001b[2m3592958886.py\u001b[0m\u001b]8;;\u001b\\\u001b[2m:\u001b[0m\u001b]8;id=48006;file:///var/folders/cp/1fbgq2n922j8ztdsq6551vldkr5sdy/T/ipykernel_28554/3592958886.py#<module>:1\u001b\\\u001b[2m<module>:1\u001b[0m\u001b]8;;\u001b\\\n"
      ]
     },
     "metadata": {},
     "output_type": "display_data"
    },
    {
     "data": {
      "text/html": [
       "<pre style=\"white-space:pre;overflow-x:auto;line-height:normal;font-family:Menlo,'DejaVu Sans Mono',consolas,'Courier New',monospace\"><span style=\"color: #7fbfbf; text-decoration-color: #7fbfbf\">                    </span><span style=\"color: #bfbf7f; text-decoration-color: #bfbf7f\">INFO    </span> TESTING <span style=\"font-weight: bold\">{</span><span style=\"color: #008080; text-decoration-color: #008080; font-weight: bold\">1</span>,<span style=\"color: #008080; text-decoration-color: #008080; font-weight: bold\">2</span>,<span style=\"color: #008080; text-decoration-color: #008080; font-weight: bold\">3</span><span style=\"font-weight: bold\">}</span>                         <a href=\"file:///var/folders/cp/1fbgq2n922j8ztdsq6551vldkr5sdy/T/ipykernel_28554/3592958886.py\"><span style=\"color: #7f7f7f; text-decoration-color: #7f7f7f\">3592958886.py</span></a><span style=\"color: #7f7f7f; text-decoration-color: #7f7f7f\">:</span><a href=\"file:///var/folders/cp/1fbgq2n922j8ztdsq6551vldkr5sdy/T/ipykernel_28554/3592958886.py#<module>:2\"><span style=\"color: #7f7f7f; text-decoration-color: #7f7f7f\">&lt;module&gt;:2</span></a>\n",
       "</pre>\n"
      ],
      "text/plain": [
       "\u001b[2;36m                   \u001b[0m\u001b[2;36m \u001b[0m\u001b[2;33mINFO    \u001b[0m TESTING \u001b[1m{\u001b[0m\u001b[1;36m1\u001b[0m,\u001b[1;36m2\u001b[0m,\u001b[1;36m3\u001b[0m\u001b[1m}\u001b[0m                         \u001b]8;id=40153;file:///var/folders/cp/1fbgq2n922j8ztdsq6551vldkr5sdy/T/ipykernel_28554/3592958886.py\u001b\\\u001b[2m3592958886.py\u001b[0m\u001b]8;;\u001b\\\u001b[2m:\u001b[0m\u001b]8;id=777439;file:///var/folders/cp/1fbgq2n922j8ztdsq6551vldkr5sdy/T/ipykernel_28554/3592958886.py#<module>:2\u001b\\\u001b[2m<module>:2\u001b[0m\u001b]8;;\u001b\\\n"
      ]
     },
     "metadata": {},
     "output_type": "display_data"
    },
    {
     "data": {
      "text/html": [
       "<pre style=\"white-space:pre;overflow-x:auto;line-height:normal;font-family:Menlo,'DejaVu Sans Mono',consolas,'Courier New',monospace\"><span style=\"color: #7fbfbf; text-decoration-color: #7fbfbf\">                    </span><span style=\"color: #bf7f7f; text-decoration-color: #bf7f7f\">WARNING </span> TESTING <span style=\"font-weight: bold\">{</span><span style=\"color: #008080; text-decoration-color: #008080; font-weight: bold\">1</span>,<span style=\"color: #008080; text-decoration-color: #008080; font-weight: bold\">2</span>,<span style=\"color: #008080; text-decoration-color: #008080; font-weight: bold\">3</span><span style=\"font-weight: bold\">}</span>                         <a href=\"file:///var/folders/cp/1fbgq2n922j8ztdsq6551vldkr5sdy/T/ipykernel_28554/3592958886.py\"><span style=\"color: #7f7f7f; text-decoration-color: #7f7f7f\">3592958886.py</span></a><span style=\"color: #7f7f7f; text-decoration-color: #7f7f7f\">:</span><a href=\"file:///var/folders/cp/1fbgq2n922j8ztdsq6551vldkr5sdy/T/ipykernel_28554/3592958886.py#<module>:3\"><span style=\"color: #7f7f7f; text-decoration-color: #7f7f7f\">&lt;module&gt;:3</span></a>\n",
       "</pre>\n"
      ],
      "text/plain": [
       "\u001b[2;36m                   \u001b[0m\u001b[2;36m \u001b[0m\u001b[2;31mWARNING \u001b[0m TESTING \u001b[1m{\u001b[0m\u001b[1;36m1\u001b[0m,\u001b[1;36m2\u001b[0m,\u001b[1;36m3\u001b[0m\u001b[1m}\u001b[0m                         \u001b]8;id=974310;file:///var/folders/cp/1fbgq2n922j8ztdsq6551vldkr5sdy/T/ipykernel_28554/3592958886.py\u001b\\\u001b[2m3592958886.py\u001b[0m\u001b]8;;\u001b\\\u001b[2m:\u001b[0m\u001b]8;id=324975;file:///var/folders/cp/1fbgq2n922j8ztdsq6551vldkr5sdy/T/ipykernel_28554/3592958886.py#<module>:3\u001b\\\u001b[2m<module>:3\u001b[0m\u001b]8;;\u001b\\\n"
      ]
     },
     "metadata": {},
     "output_type": "display_data"
    },
    {
     "data": {
      "text/html": [
       "<pre style=\"white-space:pre;overflow-x:auto;line-height:normal;font-family:Menlo,'DejaVu Sans Mono',consolas,'Courier New',monospace\"><span style=\"color: #7fbfbf; text-decoration-color: #7fbfbf\">                    </span><span style=\"color: #800000; text-decoration-color: #800000; font-weight: bold\">ERROR   </span> TESTING <span style=\"font-weight: bold\">{</span><span style=\"color: #008080; text-decoration-color: #008080; font-weight: bold\">1</span>,<span style=\"color: #008080; text-decoration-color: #008080; font-weight: bold\">2</span>,<span style=\"color: #008080; text-decoration-color: #008080; font-weight: bold\">3</span><span style=\"font-weight: bold\">}</span>                         <a href=\"file:///var/folders/cp/1fbgq2n922j8ztdsq6551vldkr5sdy/T/ipykernel_28554/3592958886.py\"><span style=\"color: #7f7f7f; text-decoration-color: #7f7f7f\">3592958886.py</span></a><span style=\"color: #7f7f7f; text-decoration-color: #7f7f7f\">:</span><a href=\"file:///var/folders/cp/1fbgq2n922j8ztdsq6551vldkr5sdy/T/ipykernel_28554/3592958886.py#<module>:4\"><span style=\"color: #7f7f7f; text-decoration-color: #7f7f7f\">&lt;module&gt;:4</span></a>\n",
       "</pre>\n"
      ],
      "text/plain": [
       "\u001b[2;36m                   \u001b[0m\u001b[2;36m \u001b[0m\u001b[1;31mERROR   \u001b[0m TESTING \u001b[1m{\u001b[0m\u001b[1;36m1\u001b[0m,\u001b[1;36m2\u001b[0m,\u001b[1;36m3\u001b[0m\u001b[1m}\u001b[0m                         \u001b]8;id=427623;file:///var/folders/cp/1fbgq2n922j8ztdsq6551vldkr5sdy/T/ipykernel_28554/3592958886.py\u001b\\\u001b[2m3592958886.py\u001b[0m\u001b]8;;\u001b\\\u001b[2m:\u001b[0m\u001b]8;id=794297;file:///var/folders/cp/1fbgq2n922j8ztdsq6551vldkr5sdy/T/ipykernel_28554/3592958886.py#<module>:4\u001b\\\u001b[2m<module>:4\u001b[0m\u001b]8;;\u001b\\\n"
      ]
     },
     "metadata": {},
     "output_type": "display_data"
    }
   ],
   "source": [
    "Debug(\"TESTING {1,2,3}\")\n",
    "Info(\"TESTING {1,2,3}\")\n",
    "Warn(\"TESTING {1,2,3}\")\n",
    "Excep(\"TESTING {1,2,3}\")"
   ]
  },
  {
   "cell_type": "code",
   "execution_count": 8,
   "metadata": {
    "execution": {
     "iopub.execute_input": "2021-05-27T14:09:58.874003Z",
     "iopub.status.busy": "2021-05-27T14:09:58.873385Z",
     "iopub.status.idle": "2021-05-27T14:09:58.879678Z",
     "shell.execute_reply": "2021-05-27T14:09:58.877962Z",
     "shell.execute_reply.started": "2021-05-27T14:09:58.873961Z"
    }
   },
   "outputs": [],
   "source": [
    "# export\n",
    "from torch_snippets.ipython import is_in_notebook\n",
    "\n",
    "def reset_logger_width(logger, width):\n",
    "    for handler_id in logger._core.handlers:\n",
    "        try:\n",
    "            handler = logger._core.handlers[handler_id]\n",
    "            handler._sink._handler.console = get_console(width=width)\n",
    "            logger.info(f\"reset logger's console width to {width}!\")\n",
    "        except:\n",
    "            ...\n",
    "\n",
    "# Excep(\"TESTING {1,2,3}\")\n",
    "# if is_in_notebook():\n",
    "#     reset_logger_width(logger, 115)\n",
    "# Excep(\"TESTING {1,2,3}\")"
   ]
  },
  {
   "cell_type": "code",
   "execution_count": 9,
   "metadata": {
    "execution": {
     "iopub.execute_input": "2021-05-27T14:09:58.893107Z",
     "iopub.status.busy": "2021-05-27T14:09:58.892535Z",
     "iopub.status.idle": "2021-05-27T14:09:58.901508Z",
     "shell.execute_reply": "2021-05-27T14:09:58.900203Z",
     "shell.execute_reply.started": "2021-05-27T14:09:58.893065Z"
    }
   },
   "outputs": [],
   "source": [
    "# exprimental\n",
    "from functools import wraps\n",
    "import time\n",
    "\n",
    "\n",
    "def enter_exit(func):\n",
    "    \"\"\"\n",
    "    Logs when a function\n",
    "    \"\"\"\n",
    "    logger_ = logger.opt(depth=1)\n",
    "\n",
    "    @wraps(func)\n",
    "    def function_timer(*args, **kwargs):\n",
    "        tic = time.time()\n",
    "        logger_.log(\"DEBUG\", f\"Entered function `{func.__name__}`\")\n",
    "        o = func(*args, **kwargs)\n",
    "        toc = time.time()\n",
    "        logger_.log(\n",
    "            \"DEBUG\", f\"Exiting function `{func.__name__}` after {toc-tic:.3f} seconds\"\n",
    "        )\n",
    "        return o\n",
    "\n",
    "    return function_timer"
   ]
  },
  {
   "cell_type": "code",
   "execution_count": 10,
   "metadata": {
    "execution": {
     "iopub.execute_input": "2021-05-27T14:09:58.904030Z",
     "iopub.status.busy": "2021-05-27T14:09:58.903487Z",
     "iopub.status.idle": "2021-05-27T14:10:00.918692Z",
     "shell.execute_reply": "2021-05-27T14:10:00.917628Z",
     "shell.execute_reply.started": "2021-05-27T14:09:58.903981Z"
    }
   },
   "outputs": [
    {
     "data": {
      "text/html": [
       "<pre style=\"white-space:pre;overflow-x:auto;line-height:normal;font-family:Menlo,'DejaVu Sans Mono',consolas,'Courier New',monospace\"><span style=\"color: #7fbfbf; text-decoration-color: #7fbfbf\">[08/28/22 20:15:38] </span><span style=\"color: #008000; text-decoration-color: #008000\">DEBUG   </span> Entered function `add`                  <a href=\"file:///var/folders/cp/1fbgq2n922j8ztdsq6551vldkr5sdy/T/ipykernel_28554/4246827219.py\"><span style=\"color: #7f7f7f; text-decoration-color: #7f7f7f\">4246827219.py</span></a><span style=\"color: #7f7f7f; text-decoration-color: #7f7f7f\">:</span><a href=\"file:///var/folders/cp/1fbgq2n922j8ztdsq6551vldkr5sdy/T/ipykernel_28554/4246827219.py#<module>:8\"><span style=\"color: #7f7f7f; text-decoration-color: #7f7f7f\">&lt;module&gt;:8</span></a>\n",
       "</pre>\n"
      ],
      "text/plain": [
       "\u001b[2;36m[08/28/22 20:15:38]\u001b[0m\u001b[2;36m \u001b[0m\u001b[32mDEBUG   \u001b[0m Entered function `add`                  \u001b]8;id=652976;file:///var/folders/cp/1fbgq2n922j8ztdsq6551vldkr5sdy/T/ipykernel_28554/4246827219.py\u001b\\\u001b[2m4246827219.py\u001b[0m\u001b]8;;\u001b\\\u001b[2m:\u001b[0m\u001b]8;id=92059;file:///var/folders/cp/1fbgq2n922j8ztdsq6551vldkr5sdy/T/ipykernel_28554/4246827219.py#<module>:8\u001b\\\u001b[2m<module>:8\u001b[0m\u001b]8;;\u001b\\\n"
      ]
     },
     "metadata": {},
     "output_type": "display_data"
    },
    {
     "data": {
      "text/html": [
       "<pre style=\"white-space:pre;overflow-x:auto;line-height:normal;font-family:Menlo,'DejaVu Sans Mono',consolas,'Courier New',monospace\">sleeping<span style=\"color: #808000; text-decoration-color: #808000\">...</span>\n",
       "</pre>\n"
      ],
      "text/plain": [
       "sleeping\u001b[33m...\u001b[0m\n"
      ]
     },
     "metadata": {},
     "output_type": "display_data"
    },
    {
     "data": {
      "text/html": [
       "<pre style=\"white-space:pre;overflow-x:auto;line-height:normal;font-family:Menlo,'DejaVu Sans Mono',consolas,'Courier New',monospace\"><span style=\"color: #7fbfbf; text-decoration-color: #7fbfbf\">[08/28/22 20:15:40] </span><span style=\"color: #008000; text-decoration-color: #008000\">DEBUG   </span> Exiting function `add` after <span style=\"color: #008080; text-decoration-color: #008080; font-weight: bold\">2.004</span>      <a href=\"file:///var/folders/cp/1fbgq2n922j8ztdsq6551vldkr5sdy/T/ipykernel_28554/4246827219.py\"><span style=\"color: #7f7f7f; text-decoration-color: #7f7f7f\">4246827219.py</span></a><span style=\"color: #7f7f7f; text-decoration-color: #7f7f7f\">:</span><a href=\"file:///var/folders/cp/1fbgq2n922j8ztdsq6551vldkr5sdy/T/ipykernel_28554/4246827219.py#<module>:8\"><span style=\"color: #7f7f7f; text-decoration-color: #7f7f7f\">&lt;module&gt;:8</span></a>\n",
       "                             seconds                                                         \n",
       "</pre>\n"
      ],
      "text/plain": [
       "\u001b[2;36m[08/28/22 20:15:40]\u001b[0m\u001b[2;36m \u001b[0m\u001b[32mDEBUG   \u001b[0m Exiting function `add` after \u001b[1;36m2.004\u001b[0m      \u001b]8;id=761781;file:///var/folders/cp/1fbgq2n922j8ztdsq6551vldkr5sdy/T/ipykernel_28554/4246827219.py\u001b\\\u001b[2m4246827219.py\u001b[0m\u001b]8;;\u001b\\\u001b[2m:\u001b[0m\u001b]8;id=842060;file:///var/folders/cp/1fbgq2n922j8ztdsq6551vldkr5sdy/T/ipykernel_28554/4246827219.py#<module>:8\u001b\\\u001b[2m<module>:8\u001b[0m\u001b]8;;\u001b\\\n",
       "                             seconds                                                         \n"
      ]
     },
     "metadata": {},
     "output_type": "display_data"
    },
    {
     "data": {
      "text/plain": [
       "24"
      ]
     },
     "execution_count": 10,
     "metadata": {},
     "output_type": "execute_result"
    }
   ],
   "source": [
    "@enter_exit\n",
    "def add(x, y):\n",
    "    print(\"sleeping...\")\n",
    "    time.sleep(2)\n",
    "    return x + y\n",
    "\n",
    "\n",
    "add(1, 23)"
   ]
  },
  {
   "cell_type": "code",
   "execution_count": 11,
   "metadata": {
    "execution": {
     "iopub.execute_input": "2021-05-27T14:10:09.782863Z",
     "iopub.status.busy": "2021-05-27T14:10:09.782546Z",
     "iopub.status.idle": "2021-05-27T14:10:09.798287Z",
     "shell.execute_reply": "2021-05-27T14:10:09.797408Z",
     "shell.execute_reply.started": "2021-05-27T14:10:09.782834Z"
    },
    "scrolled": true
   },
   "outputs": [
    {
     "data": {
      "text/html": [
       "<pre style=\"white-space:pre;overflow-x:auto;line-height:normal;font-family:Menlo,'DejaVu Sans Mono',consolas,'Courier New',monospace\"><span style=\"color: #7fbfbf; text-decoration-color: #7fbfbf\">                    </span><span style=\"color: #800000; text-decoration-color: #800000; font-weight: bold\">ERROR   </span> division by zero                              <a href=\"file:///var/folders/cp/1fbgq2n922j8ztdsq6551vldkr5sdy/T/ipykernel_28554/3806461673.py\"><span style=\"color: #7f7f7f; text-decoration-color: #7f7f7f\">3806461673.py</span></a><span style=\"color: #7f7f7f; text-decoration-color: #7f7f7f\">:</span><a href=\"file:///var/folders/cp/1fbgq2n922j8ztdsq6551vldkr5sdy/T/ipykernel_28554/3806461673.py#do:6\"><span style=\"color: #7f7f7f; text-decoration-color: #7f7f7f\">do:6</span></a>\n",
       "                             Traceback <span style=\"font-weight: bold\">(</span>most recent call last<span style=\"font-weight: bold\">)</span>:                              \n",
       "                                                                                             \n",
       "                               File <span style=\"color: #008000; text-decoration-color: #008000\">\"/var/folders/cp/1fbgq2n922j8ztdsq6551</span>                   \n",
       "                             <span style=\"color: #008000; text-decoration-color: #008000\">vldkr5sdy/T/ipykernel_28554/3806461673.py\"</span>,                     \n",
       "                             line <span style=\"color: #008080; text-decoration-color: #008080; font-weight: bold\">3</span>, in do                                                   \n",
       "                                 <span style=\"color: #008080; text-decoration-color: #008080; font-weight: bold\">1</span> <span style=\"color: #800080; text-decoration-color: #800080\">/</span> <span style=\"color: #008080; text-decoration-color: #008080; font-weight: bold\">0</span>                                                       \n",
       "                                                                                             \n",
       "                             ZeroDivisionError: division by zero                             \n",
       "                                                                                             \n",
       "                                                                                             \n",
       "</pre>\n"
      ],
      "text/plain": [
       "\u001b[2;36m                   \u001b[0m\u001b[2;36m \u001b[0m\u001b[1;31mERROR   \u001b[0m division by zero                              \u001b]8;id=571179;file:///var/folders/cp/1fbgq2n922j8ztdsq6551vldkr5sdy/T/ipykernel_28554/3806461673.py\u001b\\\u001b[2m3806461673.py\u001b[0m\u001b]8;;\u001b\\\u001b[2m:\u001b[0m\u001b]8;id=740507;file:///var/folders/cp/1fbgq2n922j8ztdsq6551vldkr5sdy/T/ipykernel_28554/3806461673.py#do:6\u001b\\\u001b[2mdo:6\u001b[0m\u001b]8;;\u001b\\\n",
       "                             Traceback \u001b[1m(\u001b[0mmost recent call last\u001b[1m)\u001b[0m:                              \n",
       "                                                                                             \n",
       "                               File \u001b[32m\"/var/folders/cp/1fbgq2n922j8ztdsq6551\u001b[0m                   \n",
       "                             \u001b[32mvldkr5sdy/T/ipykernel_28554/3806461673.py\"\u001b[0m,                     \n",
       "                             line \u001b[1;36m3\u001b[0m, in do                                                   \n",
       "                                 \u001b[1;36m1\u001b[0m \u001b[35m/\u001b[0m \u001b[1;36m0\u001b[0m                                                       \n",
       "                                                                                             \n",
       "                             ZeroDivisionError: division by zero                             \n",
       "                                                                                             \n",
       "                                                                                             \n"
      ]
     },
     "metadata": {},
     "output_type": "display_data"
    }
   ],
   "source": [
    "def do():\n",
    "    try:\n",
    "        1 / 0\n",
    "    except Exception as e:\n",
    "        # console.print_exception(max_frames=20)\n",
    "        logger.exception(e)\n",
    "        \n",
    "def do2():\n",
    "    do()\n",
    "    \n",
    "do2()"
   ]
  },
  {
   "cell_type": "code",
   "execution_count": null,
   "metadata": {},
   "outputs": [],
   "source": []
  }
 ],
 "metadata": {
  "kernelspec": {
   "display_name": "Python 3 (ipykernel)",
   "language": "python",
   "name": "python3"
  },
  "language_info": {
   "codemirror_mode": {
    "name": "ipython",
    "version": 3
   },
   "file_extension": ".py",
   "mimetype": "text/x-python",
   "name": "python",
   "nbconvert_exporter": "python",
   "pygments_lexer": "ipython3",
   "version": "3.9.9"
  },
  "vscode": {
   "interpreter": {
    "hash": "0a92af74ccf65e106ae96852a45a9b0a5e11a3c414a16fc8bb2d134868e55bfd"
   }
  }
 },
 "nbformat": 4,
 "nbformat_minor": 4
}
