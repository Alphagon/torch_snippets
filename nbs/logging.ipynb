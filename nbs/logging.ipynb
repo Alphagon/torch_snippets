{
 "cells": [
  {
   "cell_type": "markdown",
   "metadata": {},
   "source": [
    "# Rich Logging and Printing"
   ]
  },
  {
   "cell_type": "code",
   "execution_count": 1,
   "metadata": {
    "execution": {
     "iopub.execute_input": "2021-03-25T15:31:33.271512Z",
     "iopub.status.busy": "2021-03-25T15:31:33.271087Z",
     "iopub.status.idle": "2021-03-25T15:31:33.275278Z",
     "shell.execute_reply": "2021-03-25T15:31:33.274310Z",
     "shell.execute_reply.started": "2021-03-25T15:31:33.271466Z"
    }
   },
   "outputs": [],
   "source": [
    "# default_exp logger"
   ]
  },
  {
   "cell_type": "code",
   "execution_count": 2,
   "metadata": {
    "execution": {
     "iopub.execute_input": "2021-03-25T15:31:33.277501Z",
     "iopub.status.busy": "2021-03-25T15:31:33.277117Z",
     "iopub.status.idle": "2021-03-25T15:31:33.324588Z",
     "shell.execute_reply": "2021-03-25T15:31:33.323710Z",
     "shell.execute_reply.started": "2021-03-25T15:31:33.277468Z"
    }
   },
   "outputs": [],
   "source": [
    "# export\n",
    "from rich.console import Console\n",
    "from rich.theme import Theme\n",
    "\n",
    "\n",
    "def get_console(width=None):\n",
    "    return Console(\n",
    "                width=width,\n",
    "                theme=Theme({\n",
    "                    \"repr.number\": \"bold cyan\",\n",
    "                    \"repr.string\": \"bold green\",\n",
    "                    \"logging.level.info\": \"dim yellow\",\n",
    "                    \"logging.level.warning\": \"dim red\",\n",
    "                    \"logging.level.exception\": \"bold red\"}\n",
    "                ),\n",
    "            )\n",
    "\n",
    "console = get_console()\n",
    "print = console.print"
   ]
  },
  {
   "cell_type": "code",
   "execution_count": 3,
   "metadata": {
    "execution": {
     "iopub.execute_input": "2021-03-25T15:31:33.327123Z",
     "iopub.status.busy": "2021-03-25T15:31:33.326800Z",
     "iopub.status.idle": "2021-03-25T15:31:33.346494Z",
     "shell.execute_reply": "2021-03-25T15:31:33.345718Z",
     "shell.execute_reply.started": "2021-03-25T15:31:33.327091Z"
    }
   },
   "outputs": [
    {
     "data": {
      "text/html": [
       "<pre style=\"white-space:pre;overflow-x:auto;line-height:normal;font-family:Menlo,'DejaVu Sans Mono',consolas,'Courier New',monospace\">The Number is <span style=\"color: #008080; text-decoration-color: #008080; font-weight: bold\">128</span>\n",
       "</pre>\n"
      ],
      "text/plain": [
       "<rich.jupyter.JupyterRenderable at 0x7f85d3964450>"
      ]
     },
     "metadata": {},
     "output_type": "display_data"
    },
    {
     "data": {
      "text/html": [
       "<pre style=\"white-space:pre;overflow-x:auto;line-height:normal;font-family:Menlo,'DejaVu Sans Mono',consolas,'Courier New',monospace\"><span style=\"font-weight: bold\">{</span>\n",
       "    <span style=\"color: #008000; text-decoration-color: #008000\">'a'</span>: <span style=\"color: #008080; text-decoration-color: #008080; font-weight: bold\">1</span>,\n",
       "    <span style=\"color: #008000; text-decoration-color: #008000\">'b'</span>: <span style=\"font-weight: bold\">[{</span><span style=\"color: #008080; text-decoration-color: #008080; font-weight: bold\">1</span>, <span style=\"color: #008080; text-decoration-color: #008080; font-weight: bold\">2</span>, <span style=\"color: #008080; text-decoration-color: #008080; font-weight: bold\">3</span><span style=\"font-weight: bold\">}</span>, <span style=\"color: #008000; text-decoration-color: #008000\">'lskjdf'</span><span style=\"font-weight: bold\">]</span>,\n",
       "    <span style=\"color: #008000; text-decoration-color: #008000\">'c'</span>: <span style=\"color: #008080; text-decoration-color: #008080; font-weight: bold\">1</span>,\n",
       "    <span style=\"color: #008000; text-decoration-color: #008000\">'d'</span>: <span style=\"font-weight: bold\">[{</span><span style=\"color: #008080; text-decoration-color: #008080; font-weight: bold\">1</span>, <span style=\"color: #008080; text-decoration-color: #008080; font-weight: bold\">2</span>, <span style=\"color: #008080; text-decoration-color: #008080; font-weight: bold\">3</span><span style=\"font-weight: bold\">}</span>, <span style=\"color: #008000; text-decoration-color: #008000\">'lskjdf'</span><span style=\"font-weight: bold\">]</span>,\n",
       "    <span style=\"color: #008000; text-decoration-color: #008000\">'ae'</span>: <span style=\"color: #008080; text-decoration-color: #008080; font-weight: bold\">1</span>,\n",
       "    <span style=\"color: #008000; text-decoration-color: #008000\">'bf'</span>: <span style=\"font-weight: bold\">[{</span><span style=\"color: #008080; text-decoration-color: #008080; font-weight: bold\">1</span>, <span style=\"color: #008080; text-decoration-color: #008080; font-weight: bold\">2</span>, <span style=\"color: #008080; text-decoration-color: #008080; font-weight: bold\">3</span><span style=\"font-weight: bold\">}</span>, <span style=\"color: #008000; text-decoration-color: #008000\">'lskjdf'</span><span style=\"font-weight: bold\">]</span>,\n",
       "    <span style=\"color: #008000; text-decoration-color: #008000\">'ag'</span>: <span style=\"color: #008080; text-decoration-color: #008080; font-weight: bold\">1</span>,\n",
       "    <span style=\"color: #008000; text-decoration-color: #008000\">'ba'</span>: <span style=\"font-weight: bold\">[{</span><span style=\"color: #008080; text-decoration-color: #008080; font-weight: bold\">1</span>, <span style=\"color: #008080; text-decoration-color: #008080; font-weight: bold\">2</span>, <span style=\"color: #008080; text-decoration-color: #008080; font-weight: bold\">3</span><span style=\"font-weight: bold\">}</span>, <span style=\"color: #008000; text-decoration-color: #008000\">'lskjdf'</span><span style=\"font-weight: bold\">]</span>\n",
       "<span style=\"font-weight: bold\">}</span>\n",
       "</pre>\n"
      ],
      "text/plain": [
       "<rich.jupyter.JupyterRenderable at 0x7f85d3eb5f90>"
      ]
     },
     "metadata": {},
     "output_type": "display_data"
    }
   ],
   "source": [
    "print('The Number is 128')\n",
    "print({'a':1, 'b': [{1,2,3}, 'lskjdf', ], 'c':1, 'd': [{1,2,3}, 'lskjdf', ], 'ae':1, 'bf': [{1,2,3}, 'lskjdf', ], 'ag':1, 'ba': [{1,2,3}, 'lskjdf', ]})"
   ]
  },
  {
   "cell_type": "code",
   "execution_count": 4,
   "metadata": {
    "execution": {
     "iopub.execute_input": "2021-03-25T15:31:33.348269Z",
     "iopub.status.busy": "2021-03-25T15:31:33.347971Z",
     "iopub.status.idle": "2021-03-25T15:31:33.393569Z",
     "shell.execute_reply": "2021-03-25T15:31:33.392712Z",
     "shell.execute_reply.started": "2021-03-25T15:31:33.348238Z"
    }
   },
   "outputs": [],
   "source": [
    "# export\n",
    "from loguru import logger\n",
    "from datetime import datetime\n",
    "from fastcore.basics import patch_to\n",
    "from rich.logging import RichHandler\n",
    "from pathlib import Path\n",
    "\n",
    "@patch_to(RichHandler)\n",
    "def render(\n",
    "    self,\n",
    "    *,\n",
    "    record,\n",
    "    traceback,\n",
    "    message_renderable: \"ConsoleRenderable\",\n",
    ") -> \"ConsoleRenderable\":\n",
    "    \"\"\"patched the renderer to print function name as well\n",
    "    \"\"\"\n",
    "    path = Path(record.pathname).name\n",
    "    level = self.get_level_text(record)\n",
    "    time_format = None if self.formatter is None else self.formatter.datefmt\n",
    "    log_time = datetime.fromtimestamp(record.created)\n",
    "\n",
    "    log_renderable = self._log_render(\n",
    "        self.console,\n",
    "        [message_renderable] if not traceback else [message_renderable, traceback],\n",
    "        log_time=log_time,\n",
    "        time_format=time_format,\n",
    "        level=level,\n",
    "        path=path,\n",
    "        line_no=f'{record.funcName}:{record.lineno}',\n",
    "        link_path=record.pathname if self.enable_link_path else None,\n",
    "    )\n",
    "    return log_renderable\n",
    "\n",
    "logger.configure(handlers=[{\n",
    "    \"sink\":RichHandler(rich_tracebacks=True, console=console),\n",
    "    \"format\":'<level>{message}</level>'}\n",
    "])\n",
    "\n",
    "logger = logger\n",
    "\n",
    "Debug = lambda x: logger.opt(depth=1).log(\"DEBUG\", x)\n",
    "Info  = lambda x: logger.opt(depth=1).log(\"INFO\", x)\n",
    "Warn  = lambda x: logger.opt(depth=1).log(\"WARNING\", x)\n",
    "Excep = lambda x: logger.opt(depth=1).log(\"ERROR\", x)"
   ]
  },
  {
   "cell_type": "code",
   "execution_count": 5,
   "metadata": {
    "execution": {
     "iopub.execute_input": "2021-03-25T15:31:33.395056Z",
     "iopub.status.busy": "2021-03-25T15:31:33.394786Z",
     "iopub.status.idle": "2021-03-25T15:31:33.416544Z",
     "shell.execute_reply": "2021-03-25T15:31:33.415198Z",
     "shell.execute_reply.started": "2021-03-25T15:31:33.395030Z"
    }
   },
   "outputs": [
    {
     "data": {
      "text/html": [
       "<pre style=\"white-space:pre;overflow-x:auto;line-height:normal;font-family:Menlo,'DejaVu Sans Mono',consolas,'Courier New',monospace\"><span style=\"color: #7fbfbf; text-decoration-color: #7fbfbf\">[03/25/21 21:01:33] </span><span style=\"color: #008000; text-decoration-color: #008000\">DEBUG   </span> TESTING <span style=\"font-weight: bold\">{</span><span style=\"color: #008080; text-decoration-color: #008080; font-weight: bold\">1</span>,<span style=\"color: #008080; text-decoration-color: #008080; font-weight: bold\">2</span>,<span style=\"color: #008080; text-decoration-color: #008080; font-weight: bold\">3</span><span style=\"font-weight: bold\">}</span>        <a href=\"file://<ipython-input-5-297d12075eac>\"><span style=\"color: #7f7f7f; text-decoration-color: #7f7f7f\">&lt;ipython-input-5-297d12075eac&gt;</span></a><span style=\"color: #7f7f7f; text-decoration-color: #7f7f7f\">:&lt;module&gt;:1</span>\n",
       "</pre>\n"
      ],
      "text/plain": [
       "<rich.jupyter.JupyterRenderable at 0x7f85d3a7a4d0>"
      ]
     },
     "metadata": {},
     "output_type": "display_data"
    },
    {
     "data": {
      "text/html": [
       "<pre style=\"white-space:pre;overflow-x:auto;line-height:normal;font-family:Menlo,'DejaVu Sans Mono',consolas,'Courier New',monospace\"><span style=\"color: #7fbfbf; text-decoration-color: #7fbfbf\">                    </span><span style=\"color: #bfbf7f; text-decoration-color: #bfbf7f\">INFO    </span> TESTING <span style=\"font-weight: bold\">{</span><span style=\"color: #008080; text-decoration-color: #008080; font-weight: bold\">1</span>,<span style=\"color: #008080; text-decoration-color: #008080; font-weight: bold\">2</span>,<span style=\"color: #008080; text-decoration-color: #008080; font-weight: bold\">3</span><span style=\"font-weight: bold\">}</span>        <a href=\"file://<ipython-input-5-297d12075eac>\"><span style=\"color: #7f7f7f; text-decoration-color: #7f7f7f\">&lt;ipython-input-5-297d12075eac&gt;</span></a><span style=\"color: #7f7f7f; text-decoration-color: #7f7f7f\">:&lt;module&gt;:2</span>\n",
       "</pre>\n"
      ],
      "text/plain": [
       "<rich.jupyter.JupyterRenderable at 0x7f85d3ec5590>"
      ]
     },
     "metadata": {},
     "output_type": "display_data"
    },
    {
     "data": {
      "text/html": [
       "<pre style=\"white-space:pre;overflow-x:auto;line-height:normal;font-family:Menlo,'DejaVu Sans Mono',consolas,'Courier New',monospace\"><span style=\"color: #7fbfbf; text-decoration-color: #7fbfbf\">                    </span><span style=\"color: #bf7f7f; text-decoration-color: #bf7f7f\">WARNING </span> TESTING <span style=\"font-weight: bold\">{</span><span style=\"color: #008080; text-decoration-color: #008080; font-weight: bold\">1</span>,<span style=\"color: #008080; text-decoration-color: #008080; font-weight: bold\">2</span>,<span style=\"color: #008080; text-decoration-color: #008080; font-weight: bold\">3</span><span style=\"font-weight: bold\">}</span>        <a href=\"file://<ipython-input-5-297d12075eac>\"><span style=\"color: #7f7f7f; text-decoration-color: #7f7f7f\">&lt;ipython-input-5-297d12075eac&gt;</span></a><span style=\"color: #7f7f7f; text-decoration-color: #7f7f7f\">:&lt;module&gt;:3</span>\n",
       "</pre>\n"
      ],
      "text/plain": [
       "<rich.jupyter.JupyterRenderable at 0x7f85d3eeacd0>"
      ]
     },
     "metadata": {},
     "output_type": "display_data"
    },
    {
     "data": {
      "text/html": [
       "<pre style=\"white-space:pre;overflow-x:auto;line-height:normal;font-family:Menlo,'DejaVu Sans Mono',consolas,'Courier New',monospace\"><span style=\"color: #7fbfbf; text-decoration-color: #7fbfbf\">                    </span><span style=\"color: #800000; text-decoration-color: #800000; font-weight: bold\">ERROR   </span> TESTING <span style=\"font-weight: bold\">{</span><span style=\"color: #008080; text-decoration-color: #008080; font-weight: bold\">1</span>,<span style=\"color: #008080; text-decoration-color: #008080; font-weight: bold\">2</span>,<span style=\"color: #008080; text-decoration-color: #008080; font-weight: bold\">3</span><span style=\"font-weight: bold\">}</span>        <a href=\"file://<ipython-input-5-297d12075eac>\"><span style=\"color: #7f7f7f; text-decoration-color: #7f7f7f\">&lt;ipython-input-5-297d12075eac&gt;</span></a><span style=\"color: #7f7f7f; text-decoration-color: #7f7f7f\">:&lt;module&gt;:4</span>\n",
       "</pre>\n"
      ],
      "text/plain": [
       "<rich.jupyter.JupyterRenderable at 0x7f85d3eea990>"
      ]
     },
     "metadata": {},
     "output_type": "display_data"
    }
   ],
   "source": [
    "Debug('TESTING {1,2,3}')\n",
    "Info('TESTING {1,2,3}')\n",
    "Warn('TESTING {1,2,3}')\n",
    "Excep('TESTING {1,2,3}')"
   ]
  },
  {
   "cell_type": "code",
   "execution_count": 6,
   "metadata": {
    "execution": {
     "iopub.execute_input": "2021-03-25T15:31:33.419541Z",
     "iopub.status.busy": "2021-03-25T15:31:33.418930Z",
     "iopub.status.idle": "2021-03-25T15:31:33.424949Z",
     "shell.execute_reply": "2021-03-25T15:31:33.423780Z",
     "shell.execute_reply.started": "2021-03-25T15:31:33.419493Z"
    }
   },
   "outputs": [],
   "source": [
    "# export\n",
    "def reset_logger_width(logger, width):\n",
    "    logger._core.handlers[1]._sink._handler.console = get_console(width=width)\n",
    "    logger.info(f'reset logger\\'s console width to {width}!')"
   ]
  },
  {
   "cell_type": "code",
   "execution_count": 7,
   "metadata": {
    "execution": {
     "iopub.execute_input": "2021-03-25T15:31:33.427369Z",
     "iopub.status.busy": "2021-03-25T15:31:33.426948Z",
     "iopub.status.idle": "2021-03-25T15:31:33.444080Z",
     "shell.execute_reply": "2021-03-25T15:31:33.442459Z",
     "shell.execute_reply.started": "2021-03-25T15:31:33.427337Z"
    }
   },
   "outputs": [
    {
     "data": {
      "text/html": [
       "<pre style=\"white-space:pre;overflow-x:auto;line-height:normal;font-family:Menlo,'DejaVu Sans Mono',consolas,'Courier New',monospace\"><span style=\"color: #7fbfbf; text-decoration-color: #7fbfbf\">                    </span><span style=\"color: #800000; text-decoration-color: #800000; font-weight: bold\">ERROR   </span> TESTING <span style=\"font-weight: bold\">{</span><span style=\"color: #008080; text-decoration-color: #008080; font-weight: bold\">1</span>,<span style=\"color: #008080; text-decoration-color: #008080; font-weight: bold\">2</span>,<span style=\"color: #008080; text-decoration-color: #008080; font-weight: bold\">3</span><span style=\"font-weight: bold\">}</span>        <a href=\"file://<ipython-input-7-632b42440fe9>\"><span style=\"color: #7f7f7f; text-decoration-color: #7f7f7f\">&lt;ipython-input-7-632b42440fe9&gt;</span></a><span style=\"color: #7f7f7f; text-decoration-color: #7f7f7f\">:&lt;module&gt;:1</span>\n",
       "</pre>\n"
      ],
      "text/plain": [
       "<rich.jupyter.JupyterRenderable at 0x7f85d3ef8a90>"
      ]
     },
     "metadata": {},
     "output_type": "display_data"
    },
    {
     "data": {
      "text/html": [
       "<pre style=\"white-space:pre;overflow-x:auto;line-height:normal;font-family:Menlo,'DejaVu Sans Mono',consolas,'Courier New',monospace\"><span style=\"color: #7fbfbf; text-decoration-color: #7fbfbf\">                    </span><span style=\"color: #bfbf7f; text-decoration-color: #bfbf7f\">INFO    </span> reset logger's console width to <span style=\"color: #008080; text-decoration-color: #008080; font-weight: bold\">155</span>!                                       <a href=\"file://<ipython-input-6-9832864f681e>\"><span style=\"color: #7f7f7f; text-decoration-color: #7f7f7f\">&lt;ipython-input-6-9832864f681e&gt;</span></a><span style=\"color: #7f7f7f; text-decoration-color: #7f7f7f\">:reset_logger_width:4</span>\n",
       "</pre>\n"
      ],
      "text/plain": [
       "<rich.jupyter.JupyterRenderable at 0x7f85d3ef85d0>"
      ]
     },
     "metadata": {},
     "output_type": "display_data"
    },
    {
     "data": {
      "text/html": [
       "<pre style=\"white-space:pre;overflow-x:auto;line-height:normal;font-family:Menlo,'DejaVu Sans Mono',consolas,'Courier New',monospace\"><span style=\"color: #7fbfbf; text-decoration-color: #7fbfbf\">                    </span><span style=\"color: #800000; text-decoration-color: #800000; font-weight: bold\">ERROR   </span> TESTING <span style=\"font-weight: bold\">{</span><span style=\"color: #008080; text-decoration-color: #008080; font-weight: bold\">1</span>,<span style=\"color: #008080; text-decoration-color: #008080; font-weight: bold\">2</span>,<span style=\"color: #008080; text-decoration-color: #008080; font-weight: bold\">3</span><span style=\"font-weight: bold\">}</span>                                                                      <a href=\"file://<ipython-input-7-632b42440fe9>\"><span style=\"color: #7f7f7f; text-decoration-color: #7f7f7f\">&lt;ipython-input-7-632b42440fe9&gt;</span></a><span style=\"color: #7f7f7f; text-decoration-color: #7f7f7f\">:&lt;module&gt;:3</span>\n",
       "</pre>\n"
      ],
      "text/plain": [
       "<rich.jupyter.JupyterRenderable at 0x7f85d3eceb50>"
      ]
     },
     "metadata": {},
     "output_type": "display_data"
    }
   ],
   "source": [
    "Excep('TESTING {1,2,3}')\n",
    "reset_logger_width(logger, 155)\n",
    "Excep('TESTING {1,2,3}')"
   ]
  }
 ],
 "metadata": {
  "kernelspec": {
   "display_name": "Python 3",
   "language": "python",
   "name": "python3"
  },
  "language_info": {
   "codemirror_mode": {
    "name": "ipython",
    "version": 3
   },
   "file_extension": ".py",
   "mimetype": "text/x-python",
   "name": "python",
   "nbconvert_exporter": "python",
   "pygments_lexer": "ipython3",
   "version": "3.7.4"
  }
 },
 "nbformat": 4,
 "nbformat_minor": 4
}
