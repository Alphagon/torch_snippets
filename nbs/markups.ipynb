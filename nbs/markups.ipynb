{
 "cells": [
  {
   "cell_type": "markdown",
   "id": "69a46c1b-16de-4881-a941-559eeec62845",
   "metadata": {},
   "source": [
    "# Markups"
   ]
  },
  {
   "cell_type": "code",
   "execution_count": 1,
   "id": "2a0d52aa-086d-4699-8c10-f765113c2314",
   "metadata": {
    "execution": {
     "iopub.execute_input": "2021-11-09T05:41:28.463190Z",
     "iopub.status.busy": "2021-11-09T05:41:28.462794Z",
     "iopub.status.idle": "2021-11-09T05:41:28.467403Z",
     "shell.execute_reply": "2021-11-09T05:41:28.466358Z",
     "shell.execute_reply.started": "2021-11-09T05:41:28.463109Z"
    },
    "tags": []
   },
   "outputs": [],
   "source": [
    "# default_exp markup"
   ]
  },
  {
   "cell_type": "code",
   "execution_count": 2,
   "id": "58fc2c10-e6cb-48be-9702-8c2d3083a59c",
   "metadata": {
    "execution": {
     "iopub.execute_input": "2021-11-09T05:41:28.857881Z",
     "iopub.status.busy": "2021-11-09T05:41:28.857584Z",
     "iopub.status.idle": "2021-11-09T05:41:28.868664Z",
     "shell.execute_reply": "2021-11-09T05:41:28.867697Z",
     "shell.execute_reply.started": "2021-11-09T05:41:28.857853Z"
    },
    "tags": []
   },
   "outputs": [],
   "source": [
    "# export\n",
    "def isnamedtupleinstance(x):\n",
    "    _type = type(x)\n",
    "    bases = _type.__bases__\n",
    "    if len(bases) != 1 or bases[0] != tuple:\n",
    "        return False\n",
    "    fields = getattr(_type, '_fields', None)\n",
    "    if not isinstance(fields, tuple):\n",
    "        return False\n",
    "    return all(type(i)==str for i in fields)\n",
    "\n",
    "def unpack(obj):\n",
    "    if isinstance(obj, dict):\n",
    "        return {key: unpack(value) for key, value in obj.items()}\n",
    "    elif isinstance(obj, list):\n",
    "        return [unpack(value) for value in obj]\n",
    "    elif isnamedtupleinstance(obj):\n",
    "        return {key: unpack(value) for key, value in obj._asdict().items()}\n",
    "    elif isinstance(obj, tuple):\n",
    "        return tuple(unpack(value) for value in obj)\n",
    "    else:\n",
    "        return obj"
   ]
  },
  {
   "cell_type": "code",
   "execution_count": 9,
   "id": "569f8277-cb04-4915-afc9-673da2b99ce7",
   "metadata": {
    "execution": {
     "iopub.execute_input": "2021-11-09T05:45:43.558096Z",
     "iopub.status.busy": "2021-11-09T05:45:43.557790Z",
     "iopub.status.idle": "2021-11-09T05:45:43.578987Z",
     "shell.execute_reply": "2021-11-09T05:45:43.577280Z",
     "shell.execute_reply.started": "2021-11-09T05:45:43.558068Z"
    },
    "tags": []
   },
   "outputs": [],
   "source": [
    "# export\n",
    "import json\n",
    "from torch_snippets.paths import *\n",
    "from torch_snippets.logger import *\n",
    "\n",
    "def read_json(fpath):\n",
    "    import json\n",
    "    with open(fpath, 'r') as f:\n",
    "        return json.load(f)\n",
    "\n",
    "def write_json(obj, fpath):\n",
    "    def set_default(obj):\n",
    "        if isinstance(obj, set):\n",
    "            return list(obj)\n",
    "        raise TypeError\n",
    "\n",
    "    logger.opt(depth=1).log(\"DEBUG\", f\"Dumping json to {fpath}\")\n",
    "    with open(fpath, \"w\") as f:\n",
    "        json.dump(obj, f, indent=4, default=set_default)\n",
    "    return P(fpath)\n",
    "\n",
    "class AttrDict(object):\n",
    "    def __init__(self, data):\n",
    "        for name, value in data.items():\n",
    "            setattr(self, name, self._wrap(value))\n",
    "\n",
    "    def items(self):\n",
    "        return self.__dict__.items()\n",
    "\n",
    "    def keys(self):\n",
    "        return self.__dict__.keys()\n",
    "\n",
    "    def values(self):\n",
    "        return self.__dict__.values()\n",
    "\n",
    "    def _wrap(self, value):\n",
    "        if isinstance(value, (tuple, list, set, frozenset)):\n",
    "            return type(value)([self._wrap(v) for v in value])\n",
    "        else:\n",
    "            return AttrDict(value) if isinstance(value, dict) else value\n",
    "\n",
    "    __getitem__ = lambda self, x: getattr(self, x)\n",
    "    __setitem__ = lambda self, k, v: setattr(self, k, self._wrap(v))\n",
    "\n",
    "    def __repr__(self):\n",
    "        return '{%s}' % str(', '.join(\"'%s': %s\" % (k, repr(v)) for (k, v) in self.__dict__.items()))\n",
    "\n",
    "    def __dir__(self):\n",
    "        return self.__dict__.keys()\n",
    "\n",
    "    def __contains__(self, key):\n",
    "        return key in self.__dict__.keys()\n",
    "\n",
    "    def __delitem__(self, key):\n",
    "        del self.__dict__[key]\n",
    "\n",
    "    def to_dict(self):\n",
    "        d = {}\n",
    "        for k in dir(self):\n",
    "            v = self[k]\n",
    "            if isinstance(v, AttrDict):\n",
    "                v = v.to_dict()\n",
    "            if isinstance(v, (tuple, list, set, frozenset)):\n",
    "                v = [_v.to_dict() if isinstance(_v, AttrDict) else _v for _v in v]\n",
    "            d[k] = v\n",
    "        return d\n",
    "\n",
    "    def pretty(self, print_with_logger=False, *args, **kwargs):\n",
    "        pretty_json(self.to_dict(), print_with_logger=print_with_logger, *args, **kwargs)\n",
    "\n",
    "    def __eq__(self, other):\n",
    "        return AttrDict(other).to_dict() == self.to_dict()\n",
    "\n",
    "\n",
    "def pretty_json(i, fpath=None, indent=4, print_with_logger=True):\n",
    "    def set_default(obj):\n",
    "        if isinstance(obj, set):\n",
    "            return list(obj)\n",
    "    assert isinstance(i, (dict, list))\n",
    "    i = unpack(i)\n",
    "    dump = json.dumps(i, indent=indent, default=set_default)\n",
    "    if fpath:\n",
    "        makedir(parent(fpath))\n",
    "        logger.info(f'Dumped a pretty file to {fpath}')\n",
    "        with open(fpath, 'w') as f:\n",
    "            json.dump(i, f, indent=indent, default=set_default)\n",
    "            return\n",
    "    if print_with_logger:\n",
    "        return logger.opt(depth=1).log('DEBUG', f'\\n{dump}')\n",
    "    else:\n",
    "        print(dump)"
   ]
  },
  {
   "cell_type": "code",
   "execution_count": 10,
   "id": "bfb4146f-90bf-42bc-bf40-69fb6d612ea2",
   "metadata": {
    "execution": {
     "iopub.execute_input": "2021-11-09T05:45:44.804393Z",
     "iopub.status.busy": "2021-11-09T05:45:44.804089Z",
     "iopub.status.idle": "2021-11-09T05:45:44.810340Z",
     "shell.execute_reply": "2021-11-09T05:45:44.809389Z",
     "shell.execute_reply.started": "2021-11-09T05:45:44.804365Z"
    },
    "tags": []
   },
   "outputs": [
    {
     "data": {
      "text/plain": [
       "dict"
      ]
     },
     "execution_count": 10,
     "metadata": {},
     "output_type": "execute_result"
    }
   ],
   "source": [
    "xx = AttrDict({'a': 1, 'b': [{'c': 2}, {'e': 3}]})\n",
    "type(xx.to_dict()['b'][0])\n"
   ]
  },
  {
   "cell_type": "code",
   "execution_count": 9,
   "id": "7c5c6a5f-0b72-4e47-8dcf-c8f68e6cfaba",
   "metadata": {
    "execution": {
     "iopub.execute_input": "2021-11-08T13:08:03.471944Z",
     "iopub.status.busy": "2021-11-08T13:08:03.471639Z",
     "iopub.status.idle": "2021-11-08T13:08:03.479329Z",
     "shell.execute_reply": "2021-11-08T13:08:03.478390Z",
     "shell.execute_reply.started": "2021-11-08T13:08:03.471915Z"
    },
    "tags": []
   },
   "outputs": [
    {
     "name": "stdout",
     "output_type": "stream",
     "text": [
      "{\n",
      "  \"abc\": {\n",
      "    \"b\": 10\n",
      "  },\n",
      "  \"d\": {\n",
      "    \"e\": {\n",
      "      \"f\": [\n",
      "        2,\n",
      "        null,\n",
      "        2.234\n",
      "      ],\n",
      "      \"g\": 11\n",
      "    }\n",
      "  }\n",
      "}\n",
      "True\n"
     ]
    }
   ],
   "source": [
    "x = {'abc': {'b': 10, 'c': 11}, 'd': {'e': {'f': [2, {'abc': 'pqrs'}, 2.234]}}}\n",
    "\n",
    "y = AttrDict(x)\n",
    "\n",
    "assert y.abc.b == 10\n",
    "assert y.d.e.f == [2, {'abc': 'pqrs'},2.234]\n",
    "\n",
    "y.d.e.g = 11\n",
    "\n",
    "# del y.abc.c\n",
    "# OR\n",
    "del y['abc']['c']\n",
    "\n",
    "assert y.to_dict() == {'abc': {'b': 10}, 'd': {'e': {'f': [2, {'abc': 'pqrs'}, 2.234], 'g': 11}}}\n",
    "\n",
    "y.pretty(indent=2)\n",
    "\n",
    "assert 'abc' in y\n",
    "assert 'def' not in y\n",
    "print('e' in y.d)"
   ]
  },
  {
   "cell_type": "code",
   "execution_count": 5,
   "id": "2f9a8810-5782-4bcc-a34f-33f04c855ada",
   "metadata": {
    "tags": []
   },
   "outputs": [
    {
     "name": "stderr",
     "output_type": "stream",
     "text": [
      "2021-10-08 21:24:10.907 | DEBUG    | __main__:<module>:3 - \n",
      "{\n",
      "    \"1\": 1,\n",
      "    \"2\": 2\n",
      "}\n",
      "2021-10-08 21:24:10.909 | DEBUG    | __main__:<module>:4 - \n",
      "[\n",
      "    1,\n",
      "    {\n",
      "        \"1\": 1,\n",
      "        \"2\": 2\n",
      "    },\n",
      "    3\n",
      "]\n",
      "2021-10-08 21:24:10.910 | DEBUG    | __main__:<module>:6 - Dumping json to /tmp/test.json\n"
     ]
    },
    {
     "name": "stdout",
     "output_type": "stream",
     "text": [
      "/tmp/test.json\n"
     ]
    },
    {
     "data": {
      "text/plain": [
       "[1, {'1': 1, '2': 2}, 3]"
      ]
     },
     "execution_count": 5,
     "metadata": {},
     "output_type": "execute_result"
    }
   ],
   "source": [
    "d = [1,{1:1,2:2},3]\n",
    "\n",
    "pretty_json({1:1,2:2})\n",
    "pretty_json(d)\n",
    "\n",
    "f = write_json(d, '/tmp/test.json')\n",
    "print(f)\n",
    "read_json(f)"
   ]
  },
  {
   "cell_type": "code",
   "execution_count": 6,
   "id": "02f27598-c32e-46e3-a2ca-1d74914c300c",
   "metadata": {},
   "outputs": [],
   "source": [
    "# export\n",
    "import yaml\n",
    "\n",
    "def read_yaml(file):\n",
    "    with open(file, 'r') as stream:\n",
    "        try:\n",
    "            return yaml.safe_load(stream)\n",
    "        except yaml.YAMLError as exc:\n",
    "            print(exc)\n",
    "\n",
    "def write_yaml(content, fpath):\n",
    "    with open(fpath, 'w') as outfile:\n",
    "        yaml.dump(content, outfile, default_flow_style=False)"
   ]
  },
  {
   "cell_type": "code",
   "execution_count": 7,
   "id": "6b8f7bb4-beeb-4d81-95df-c7534b5327b9",
   "metadata": {},
   "outputs": [],
   "source": [
    "# export\n",
    "from torch_snippets.thinc_parser.parser import Config\n",
    "Config = Config"
   ]
  },
  {
   "cell_type": "code",
   "execution_count": null,
   "id": "f3d03ed8-18a1-4394-82b7-2b9b912648d9",
   "metadata": {},
   "outputs": [],
   "source": []
  }
 ],
 "metadata": {
  "kernelspec": {
   "display_name": "Python 3",
   "language": "python",
   "name": "python3"
  },
  "language_info": {
   "codemirror_mode": {
    "name": "ipython",
    "version": 3
   },
   "file_extension": ".py",
   "mimetype": "text/x-python",
   "name": "python",
   "nbconvert_exporter": "python",
   "pygments_lexer": "ipython3",
   "version": "3.7.4"
  }
 },
 "nbformat": 4,
 "nbformat_minor": 5
}
