{
 "cells": [
  {
   "cell_type": "markdown",
   "id": "69a46c1b-16de-4881-a941-559eeec62845",
   "metadata": {},
   "source": [
    "# Markups"
   ]
  },
  {
   "cell_type": "code",
   "execution_count": 1,
   "id": "2a0d52aa-086d-4699-8c10-f765113c2314",
   "metadata": {
    "tags": []
   },
   "outputs": [],
   "source": [
    "# default_exp markup"
   ]
  },
  {
   "cell_type": "code",
   "execution_count": 2,
   "id": "58fc2c10-e6cb-48be-9702-8c2d3083a59c",
   "metadata": {},
   "outputs": [],
   "source": [
    "# export\n",
    "def isnamedtupleinstance(x):\n",
    "    _type = type(x)\n",
    "    bases = _type.__bases__\n",
    "    if len(bases) != 1 or bases[0] != tuple:\n",
    "        return False\n",
    "    fields = getattr(_type, '_fields', None)\n",
    "    if not isinstance(fields, tuple):\n",
    "        return False\n",
    "    return all(type(i)==str for i in fields)\n",
    "\n",
    "def unpack(obj):\n",
    "    if isinstance(obj, dict):\n",
    "        return {key: unpack(value) for key, value in obj.items()}\n",
    "    elif isinstance(obj, list):\n",
    "        return [unpack(value) for value in obj]\n",
    "    elif isnamedtupleinstance(obj):\n",
    "        return {key: unpack(value) for key, value in obj._asdict().items()}\n",
    "    elif isinstance(obj, tuple):\n",
    "        return tuple(unpack(value) for value in obj)\n",
    "    else:\n",
    "        return obj"
   ]
  },
  {
   "cell_type": "code",
   "execution_count": 3,
   "id": "569f8277-cb04-4915-afc9-673da2b99ce7",
   "metadata": {
    "tags": []
   },
   "outputs": [
    {
     "name": "stderr",
     "output_type": "stream",
     "text": [
      "2021-09-30 17:41:13.514 | WARNING  | torch_snippets:<module>:13 - sklearn is not found. Skipping relevant imports from submodule `sklegos`\n",
      "Exception: No module named 'sklego'\n"
     ]
    }
   ],
   "source": [
    "# export\n",
    "import json\n",
    "from torch_snippets.paths import *\n",
    "from torch_snippets.logger import *\n",
    "\n",
    "def read_json(fpath):\n",
    "    import json\n",
    "    with open(fpath, 'r') as f:\n",
    "        return json.load(f)\n",
    "\n",
    "def write_json(obj, fpath):\n",
    "    def set_default(obj):\n",
    "        if isinstance(obj, set):\n",
    "            return list(obj)\n",
    "        raise TypeError\n",
    "\n",
    "    logger.opt(depth=1).log(\"DEBUG\", f\"Dumping json to {fpath}\")\n",
    "    with open(fpath, \"w\") as f:\n",
    "        json.dump(obj, f, indent=4, default=set_default)\n",
    "    return P(fpath)\n",
    "\n",
    "class AttrDict(object):\n",
    "    def __init__(self, data):\n",
    "        for name, value in data.items():\n",
    "            setattr(self, name, self._wrap(value))\n",
    "\n",
    "    def _wrap(self, value):\n",
    "        if isinstance(value, (tuple, list, set, frozenset)):\n",
    "            return type(value)([self._wrap(v) for v in value])\n",
    "        else:\n",
    "            return AttrDict(value) if isinstance(value, dict) else value\n",
    "\n",
    "    __getitem__ = lambda self, x: getattr(self, x)\n",
    "    __setitem__ = lambda self, k, v: setattr(self, k, self._wrap(v))\n",
    "\n",
    "    def __repr__(self):\n",
    "        return '{%s}' % str(', '.join(\"'%s': %s\" % (k, repr(v)) for (k, v) in self.__dict__.items()))\n",
    "\n",
    "    def __dir__(self):\n",
    "        return self.__dict__.keys()\n",
    "\n",
    "    def to_dict(self):\n",
    "        d = {}\n",
    "        for k in dir(self):\n",
    "            v = self[k]\n",
    "            if isinstance(v, AttrDict):\n",
    "                v = v.to_dict()\n",
    "            d[k] = v\n",
    "        return d\n",
    "\n",
    "    def pretty(self, *args, **kwargs):\n",
    "        pretty_json(self.to_dict(), *args, **kwargs)\n",
    "\n",
    "    def __eq__(self, other):\n",
    "        return AttrDict(other).to_dict() == self.to_dict()\n",
    "\n",
    "\n",
    "def pretty_json(i, fpath=None, indent=4):\n",
    "    def set_default(obj):\n",
    "        if isinstance(obj, set):\n",
    "            return list(obj)\n",
    "    assert isinstance(i, (dict, list))\n",
    "    i = unpack(i)\n",
    "    dump = json.dumps(i, indent=indent, default=set_default)\n",
    "    if fpath:\n",
    "        makedir(parent(fpath))\n",
    "        logger.info(f'Dumped a pretty file to {fpath}')\n",
    "        with open(fpath, 'w') as f:\n",
    "            json.dump(i, f, indent=indent, default=set_default)\n",
    "            return\n",
    "    return logger.opt(depth=1).log('DEBUG', f'\\n{dump}')"
   ]
  },
  {
   "cell_type": "code",
   "execution_count": 4,
   "id": "7c5c6a5f-0b72-4e47-8dcf-c8f68e6cfaba",
   "metadata": {
    "tags": []
   },
   "outputs": [
    {
     "name": "stderr",
     "output_type": "stream",
     "text": [
      "2021-09-30 17:41:13.523 | DEBUG    | __main__:pretty:52 - \n",
      "{\n",
      "  \"abc\": {\n",
      "    \"b\": 10,\n",
      "    \"c\": 11\n",
      "  },\n",
      "  \"d\": {\n",
      "    \"e\": {\n",
      "      \"f\": [\n",
      "        2,\n",
      "        null,\n",
      "        2.234\n",
      "      ],\n",
      "      \"g\": 11\n",
      "    }\n",
      "  }\n",
      "}\n"
     ]
    }
   ],
   "source": [
    "x = {'abc': {'b': 10, 'c': 11}, 'd': {'e': {'f': [2, {'abc': 'pqrs'}, 2.234]}}}\n",
    "\n",
    "y = AttrDict(x)\n",
    "\n",
    "assert y.abc.b == 10\n",
    "assert y.d.e.f == [2,{'abc': 'pqrs'},2.234]\n",
    "\n",
    "y.d.e.g = 11\n",
    "\n",
    "assert y.to_dict() == {'abc': {'b': 10, 'c': 11}, 'd': {'e': {'f': [2, {'abc': 'pqrs'}, 2.234], 'g': 11}}}\n",
    "\n",
    "y.pretty(indent=2)"
   ]
  },
  {
   "cell_type": "code",
   "execution_count": 5,
   "id": "2f9a8810-5782-4bcc-a34f-33f04c855ada",
   "metadata": {
    "tags": []
   },
   "outputs": [
    {
     "name": "stderr",
     "output_type": "stream",
     "text": [
      "2021-09-30 17:41:13.530 | DEBUG    | __main__:<module>:3 - \n",
      "{\n",
      "    \"1\": 1,\n",
      "    \"2\": 2\n",
      "}\n",
      "2021-09-30 17:41:13.532 | DEBUG    | __main__:<module>:4 - \n",
      "[\n",
      "    1,\n",
      "    {\n",
      "        \"1\": 1,\n",
      "        \"2\": 2\n",
      "    },\n",
      "    3\n",
      "]\n",
      "2021-09-30 17:41:13.533 | DEBUG    | __main__:<module>:6 - Dumping json to /tmp/test.json\n"
     ]
    },
    {
     "name": "stdout",
     "output_type": "stream",
     "text": [
      "/tmp/test.json\n"
     ]
    },
    {
     "data": {
      "text/plain": [
       "[1, {'1': 1, '2': 2}, 3]"
      ]
     },
     "execution_count": 5,
     "metadata": {},
     "output_type": "execute_result"
    }
   ],
   "source": [
    "d = [1,{1:1,2:2},3]\n",
    "\n",
    "pretty_json({1:1,2:2})\n",
    "pretty_json(d)\n",
    "\n",
    "f = write_json(d, '/tmp/test.json')\n",
    "print(f)\n",
    "read_json(f)"
   ]
  },
  {
   "cell_type": "code",
   "execution_count": 6,
   "id": "02f27598-c32e-46e3-a2ca-1d74914c300c",
   "metadata": {},
   "outputs": [],
   "source": [
    "# export\n",
    "import yaml\n",
    "\n",
    "def read_yaml(file):\n",
    "    with open(file, 'r') as stream:\n",
    "        try:\n",
    "            return yaml.safe_load(stream)\n",
    "        except yaml.YAMLError as exc:\n",
    "            print(exc)\n",
    "\n",
    "def write_yaml(content, fpath):\n",
    "    with open(fpath, 'w') as outfile:\n",
    "        yaml.dump(content, outfile, default_flow_style=False)"
   ]
  },
  {
   "cell_type": "code",
   "execution_count": 7,
   "id": "6b8f7bb4-beeb-4d81-95df-c7534b5327b9",
   "metadata": {},
   "outputs": [],
   "source": [
    "# export\n",
    "from torch_snippets.thinc_parser.parser import Config\n",
    "Config = Config"
   ]
  },
  {
   "cell_type": "code",
   "execution_count": null,
   "id": "f3d03ed8-18a1-4394-82b7-2b9b912648d9",
   "metadata": {},
   "outputs": [],
   "source": []
  }
 ],
 "metadata": {
  "kernelspec": {
   "display_name": "Python 3 (ipykernel)",
   "language": "python",
   "name": "python3"
  },
  "language_info": {
   "codemirror_mode": {
    "name": "ipython",
    "version": 3
   },
   "file_extension": ".py",
   "mimetype": "text/x-python",
   "name": "python",
   "nbconvert_exporter": "python",
   "pygments_lexer": "ipython3",
   "version": "3.9.5"
  }
 },
 "nbformat": 4,
 "nbformat_minor": 5
}
