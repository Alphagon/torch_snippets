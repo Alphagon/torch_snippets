{
 "cells": [
  {
   "cell_type": "markdown",
   "id": "c9a1f90e",
   "metadata": {},
   "source": [
    "# Markups\n",
    "Read and Write functions for common markup formats"
   ]
  },
  {
   "cell_type": "code",
   "execution_count": 1,
   "id": "2a0d52aa-086d-4699-8c10-f765113c2314",
   "metadata": {
    "execution": {
     "iopub.execute_input": "2021-11-09T05:41:28.463190Z",
     "iopub.status.busy": "2021-11-09T05:41:28.462794Z",
     "iopub.status.idle": "2021-11-09T05:41:28.467403Z",
     "shell.execute_reply": "2021-11-09T05:41:28.466358Z",
     "shell.execute_reply.started": "2021-11-09T05:41:28.463109Z"
    },
    "tags": []
   },
   "outputs": [],
   "source": [
    "# | default_exp markup"
   ]
  },
  {
   "cell_type": "code",
   "execution_count": 2,
   "id": "569f8277-cb04-4915-afc9-673da2b99ce7",
   "metadata": {
    "execution": {
     "iopub.execute_input": "2021-11-09T05:45:43.558096Z",
     "iopub.status.busy": "2021-11-09T05:45:43.557790Z",
     "iopub.status.idle": "2021-11-09T05:45:43.578987Z",
     "shell.execute_reply": "2021-11-09T05:45:43.577280Z",
     "shell.execute_reply.started": "2021-11-09T05:45:43.558068Z"
    },
    "tags": []
   },
   "outputs": [],
   "source": [
    "# | export\n",
    "# | hide\n",
    "import json\n",
    "from json import JSONEncoder\n",
    "import jsonlines\n",
    "import yaml\n",
    "\n",
    "from torch_snippets.loader import BB, L, np\n",
    "from torch_snippets.paths import *\n",
    "from torch_snippets.logger import *\n",
    "import xmltodict\n",
    "from typing import Union\n",
    "from torch_snippets.thinc_parser.parser import Config"
   ]
  },
  {
   "cell_type": "code",
   "execution_count": 20,
   "id": "611e5045",
   "metadata": {},
   "outputs": [],
   "source": [
    "# | export\n",
    "# | hide\n",
    "\n",
    "\n",
    "def _default(self, obj):\n",
    "    return getattr(obj.__class__, \"to_json\", _default.default)(obj)\n",
    "\n",
    "\n",
    "_default.default = JSONEncoder().default\n",
    "JSONEncoder.default = _default\n",
    "\n",
    "\n",
    "def isnamedtupleinstance(x):\n",
    "    _type = type(x)\n",
    "    bases = _type.__bases__\n",
    "    if len(bases) != 1 or bases[0] != tuple:\n",
    "        return False\n",
    "    fields = getattr(_type, \"_fields\", None)\n",
    "    if not isinstance(fields, tuple):\n",
    "        return False\n",
    "    return all(type(i) == str for i in fields)\n",
    "\n",
    "\n",
    "def unpack(obj):\n",
    "    if isinstance(obj, dict):\n",
    "        return {key: unpack(value) for key, value in obj.items()}\n",
    "    elif isinstance(obj, list):\n",
    "        return [unpack(value) for value in obj]\n",
    "    elif isnamedtupleinstance(obj):\n",
    "        return {key: unpack(value) for key, value in obj._asdict().items()}\n",
    "    elif isinstance(obj, tuple):\n",
    "        return tuple(unpack(value) for value in obj)\n",
    "    else:\n",
    "        return obj\n",
    "\n",
    "\n",
    "class AttrDict(object):\n",
    "    \"\"\"Utility to call a dictionary like an object\n",
    "    FEATURES:\n",
    "    0. Get and Set any key (or a nested key) like it's an object, tab-completion supported\n",
    "    `self.key1.key2[0].key3` ...\n",
    "    1. Keys and Values are recursively parsed as AttrDicts\n",
    "    2. Formatting with self.pretty()\n",
    "    3. Convert everything to dict at any time via `self.to_dict()`\n",
    "    3. Recursively drop keys using `self.drop(key)` from a json object\n",
    "    4. Recursively call a function on all values at all levels using `map`\n",
    "\n",
    "    GOTCHAS:\n",
    "    1. Due to enforcing a `self.key` format all integer keys are converted to strings implicitly.\n",
    "    2. You can still call `self[int]` but this internally converts the int to string\n",
    "    \"\"\"\n",
    "\n",
    "    def __init__(self, data):\n",
    "        for name, value in data.items():\n",
    "            setattr(self, str(name), self._wrap(value))\n",
    "\n",
    "    def items(self):\n",
    "        return self.__dict__.items()\n",
    "\n",
    "    def keys(self):\n",
    "        return self.__dict__.keys()\n",
    "\n",
    "    def values(self):\n",
    "        return self.__dict__.values()\n",
    "\n",
    "    def _wrap(self, value):\n",
    "        if isinstance(value, (L, tuple, list, set, frozenset)):\n",
    "            value = type(value)([self._wrap(v) for v in value])\n",
    "            if isinstance(value, (list, L)):\n",
    "                value = L(value)\n",
    "            return value\n",
    "        else:\n",
    "            return AttrDict(value) if isinstance(value, dict) else value\n",
    "\n",
    "    __getitem__ = (\n",
    "        lambda self, x: AttrDict({_x: self[_x] for _x in x})\n",
    "        if isinstance(x, (list, L))\n",
    "        else getattr(self, str(x))\n",
    "    )\n",
    "    __setitem__ = lambda self, k, v: setattr(self, str(k), self._wrap(v))\n",
    "\n",
    "    def update(self, dict):\n",
    "        for k, v in dict.items():\n",
    "            self[k] = v\n",
    "\n",
    "    def get(self, key, default=None):\n",
    "        key = str(key)\n",
    "        return self[key] if key in self else default\n",
    "\n",
    "    def __iter__(self):\n",
    "        return iter(self.keys())\n",
    "\n",
    "    def __len__(self):\n",
    "        return len(self.keys())\n",
    "\n",
    "    def __repr__(self):\n",
    "        return \"{%s}\" % str(\n",
    "            \", \".join(\"'%s': %s\" % (k, repr(v)) for (k, v) in self.__dict__.items())\n",
    "        )\n",
    "\n",
    "    def __dir__(self):\n",
    "        return self.__dict__.keys()\n",
    "\n",
    "    def __contains__(self, key):\n",
    "        key = str(key)\n",
    "        return key in self.__dict__.keys()\n",
    "\n",
    "    def __delitem__(self, key):\n",
    "        key = str(key)\n",
    "        del self.__dict__[key]\n",
    "\n",
    "    def map(self, func):\n",
    "        for k in dir(self):\n",
    "            v = self[k]\n",
    "            if isinstance(v, AttrDict):\n",
    "                v.map(func)\n",
    "            elif isinstance(v, (L, tuple, list, set, frozenset)):\n",
    "                v = [_v.map(func) if isinstance(_v, AttrDict) else func(_v) for _v in v]\n",
    "            else:\n",
    "                v = func(v)\n",
    "            self[k] = v\n",
    "\n",
    "    def drop(self, key):\n",
    "        if key in self:\n",
    "            del self[key]\n",
    "        for k in dir(self):\n",
    "            v = self[k]\n",
    "            if isinstance(v, AttrDict):\n",
    "                v.drop(key)\n",
    "            if isinstance(v, (L, tuple, list, set, frozenset)):\n",
    "                v = [_v.drop(key) for _v in v if isinstance(_v, AttrDict)]\n",
    "\n",
    "    def to_dict(self):\n",
    "        d = {}\n",
    "        for k in dir(self):\n",
    "            v = self[k]\n",
    "            if isinstance(v, AttrDict):\n",
    "                v = v.to_dict()\n",
    "            if isinstance(v, (L, tuple, list, set, frozenset)):\n",
    "                v = [_v.to_dict() if isinstance(_v, AttrDict) else _v for _v in v]\n",
    "            d[k] = v\n",
    "        return d\n",
    "\n",
    "    def pretty(self, print_with_logger=False, *args, **kwargs):\n",
    "        pretty_json(\n",
    "            self.to_dict(), print_with_logger=print_with_logger, *args, **kwargs\n",
    "        )\n",
    "\n",
    "    def __eq__(self, other):\n",
    "        return AttrDict(other).to_dict() == self.to_dict()\n",
    "\n",
    "\n",
    "def pretty_json(\n",
    "    i, fpath=None, indent=4, print_with_logger=True, return_as_string=False\n",
    "):\n",
    "    def set_default(obj):\n",
    "        if isinstance(obj, (set, BB, L)):\n",
    "            return list(obj)\n",
    "        if isinstance(obj, np.ndarray):\n",
    "            return obj.tolist()\n",
    "        if isinstance(obj, P):\n",
    "            return str(obj)\n",
    "\n",
    "    assert isinstance(i, (dict, list))\n",
    "    i = unpack(i)\n",
    "    dump = json.dumps(i, indent=indent, default=set_default)\n",
    "    if fpath:\n",
    "        makedir(parent(fpath))\n",
    "        logger.info(f\"Dumped a pretty file to {fpath}\")\n",
    "        with open(fpath, \"w\") as f:\n",
    "            json.dump(i, f, indent=indent, default=set_default)\n",
    "            return\n",
    "    if print_with_logger:\n",
    "        return logger.opt(depth=1).log(\"DEBUG\", f\"\\n{dump}\")\n",
    "    else:\n",
    "        if return_as_string:\n",
    "            return dump\n",
    "        print(dump)"
   ]
  },
  {
   "cell_type": "code",
   "execution_count": 21,
   "id": "dcf808e7",
   "metadata": {},
   "outputs": [
    {
     "data": {
      "text/markdown": [
       "---\n",
       "\n",
       "### AttrDict\n",
       "\n",
       ">      AttrDict (data)\n",
       "\n",
       "Utility to call a dictionary like an object\n",
       "FEATURES:\n",
       "0. Get and Set any key (or a nested key) like it's an object, tab-completion supported\n",
       "`self.key1.key2[0].key3` ...\n",
       "1. Keys and Values are recursively parsed as AttrDicts\n",
       "2. Formatting with self.pretty()\n",
       "3. Convert everything to dict at any time via `self.to_dict()`\n",
       "3. Recursively drop keys using `self.drop(key)` from a json object\n",
       "4. Recursively call a function on all values at all levels using `map`\n",
       "\n",
       "GOTCHAS:\n",
       "1. Due to enforcing a `self.key` format all integer keys are converted to strings implicitly.\n",
       "2. You can still call `self[int]` but this internally converts the int to string"
      ],
      "text/plain": [
       "---\n",
       "\n",
       "### AttrDict\n",
       "\n",
       ">      AttrDict (data)\n",
       "\n",
       "Utility to call a dictionary like an object\n",
       "FEATURES:\n",
       "0. Get and Set any key (or a nested key) like it's an object, tab-completion supported\n",
       "`self.key1.key2[0].key3` ...\n",
       "1. Keys and Values are recursively parsed as AttrDicts\n",
       "2. Formatting with self.pretty()\n",
       "3. Convert everything to dict at any time via `self.to_dict()`\n",
       "3. Recursively drop keys using `self.drop(key)` from a json object\n",
       "4. Recursively call a function on all values at all levels using `map`\n",
       "\n",
       "GOTCHAS:\n",
       "1. Due to enforcing a `self.key` format all integer keys are converted to strings implicitly.\n",
       "2. You can still call `self[int]` but this internally converts the int to string"
      ]
     },
     "execution_count": 21,
     "metadata": {},
     "output_type": "execute_result"
    }
   ],
   "source": [
    "from nbdev import show_doc\n",
    "\n",
    "show_doc(AttrDict)"
   ]
  },
  {
   "cell_type": "code",
   "execution_count": 22,
   "id": "bfb4146f-90bf-42bc-bf40-69fb6d612ea2",
   "metadata": {
    "execution": {
     "iopub.execute_input": "2021-11-09T05:45:44.804393Z",
     "iopub.status.busy": "2021-11-09T05:45:44.804089Z",
     "iopub.status.idle": "2021-11-09T05:45:44.810340Z",
     "shell.execute_reply": "2021-11-09T05:45:44.809389Z",
     "shell.execute_reply.started": "2021-11-09T05:45:44.804365Z"
    },
    "tags": []
   },
   "outputs": [
    {
     "data": {
      "text/html": [
       "<pre style=\"white-space:pre;overflow-x:auto;line-height:normal;font-family:Menlo,'DejaVu Sans Mono',consolas,'Courier New',monospace\"><span style=\"font-weight: bold\">&lt;</span><span style=\"color: #ff00ff; text-decoration-color: #ff00ff; font-weight: bold\">class</span><span style=\"color: #000000; text-decoration-color: #000000\"> </span><span style=\"color: #008000; text-decoration-color: #008000\">'__main__.AttrDict'</span><span style=\"font-weight: bold\">&gt;</span>\n",
       "</pre>\n"
      ],
      "text/plain": [
       "\u001b[1m<\u001b[0m\u001b[1;95mclass\u001b[0m\u001b[39m \u001b[0m\u001b[32m'__main__.AttrDict'\u001b[0m\u001b[1m>\u001b[0m\n"
      ]
     },
     "metadata": {},
     "output_type": "display_data"
    },
    {
     "data": {
      "text/html": [
       "<pre style=\"white-space:pre;overflow-x:auto;line-height:normal;font-family:Menlo,'DejaVu Sans Mono',consolas,'Courier New',monospace\"><span style=\"font-weight: bold\">&lt;</span><span style=\"color: #ff00ff; text-decoration-color: #ff00ff; font-weight: bold\">class</span><span style=\"color: #000000; text-decoration-color: #000000\"> </span><span style=\"color: #008000; text-decoration-color: #008000\">'dict'</span><span style=\"font-weight: bold\">&gt;</span>\n",
       "</pre>\n"
      ],
      "text/plain": [
       "\u001b[1m<\u001b[0m\u001b[1;95mclass\u001b[0m\u001b[39m \u001b[0m\u001b[32m'dict'\u001b[0m\u001b[1m>\u001b[0m\n"
      ]
     },
     "metadata": {},
     "output_type": "display_data"
    },
    {
     "data": {
      "text/html": [
       "<pre style=\"white-space:pre;overflow-x:auto;line-height:normal;font-family:Menlo,'DejaVu Sans Mono',consolas,'Courier New',monospace\"><span style=\"font-weight: bold\">{</span>\n",
       "    <span style=\"color: #008000; text-decoration-color: #008000\">\"a\"</span>: <span style=\"color: #008080; text-decoration-color: #008080; font-weight: bold\">1</span>,\n",
       "    <span style=\"color: #008000; text-decoration-color: #008000\">\"b\"</span>: <span style=\"font-weight: bold\">[</span>\n",
       "        <span style=\"font-weight: bold\">{</span>\n",
       "            <span style=\"color: #008000; text-decoration-color: #008000\">\"c\"</span>: <span style=\"color: #008080; text-decoration-color: #008080; font-weight: bold\">2</span>,\n",
       "            <span style=\"color: #008000; text-decoration-color: #008000\">\"d\"</span>: <span style=\"color: #008080; text-decoration-color: #008080; font-weight: bold\">4</span>\n",
       "        <span style=\"font-weight: bold\">}</span>,\n",
       "        <span style=\"font-weight: bold\">{</span>\n",
       "            <span style=\"color: #008000; text-decoration-color: #008000\">\"e\"</span>: <span style=\"color: #008080; text-decoration-color: #008080; font-weight: bold\">3</span>\n",
       "        <span style=\"font-weight: bold\">}</span>\n",
       "    <span style=\"font-weight: bold\">]</span>\n",
       "<span style=\"font-weight: bold\">}</span>\n",
       "</pre>\n"
      ],
      "text/plain": [
       "\u001b[1m{\u001b[0m\n",
       "    \u001b[32m\"a\"\u001b[0m: \u001b[1;36m1\u001b[0m,\n",
       "    \u001b[32m\"b\"\u001b[0m: \u001b[1m[\u001b[0m\n",
       "        \u001b[1m{\u001b[0m\n",
       "            \u001b[32m\"c\"\u001b[0m: \u001b[1;36m2\u001b[0m,\n",
       "            \u001b[32m\"d\"\u001b[0m: \u001b[1;36m4\u001b[0m\n",
       "        \u001b[1m}\u001b[0m,\n",
       "        \u001b[1m{\u001b[0m\n",
       "            \u001b[32m\"e\"\u001b[0m: \u001b[1;36m3\u001b[0m\n",
       "        \u001b[1m}\u001b[0m\n",
       "    \u001b[1m]\u001b[0m\n",
       "\u001b[1m}\u001b[0m\n"
      ]
     },
     "metadata": {},
     "output_type": "display_data"
    }
   ],
   "source": [
    "xx = AttrDict({\"a\": 1, \"b\": [{\"c\": 2, \"d\": 4}, {\"e\": 3}]})\n",
    "print(type(xx.b[0]))\n",
    "print(type(xx.to_dict()[\"b\"][0]))\n",
    "xx.pretty()"
   ]
  },
  {
   "cell_type": "code",
   "execution_count": 23,
   "id": "7c5c6a5f-0b72-4e47-8dcf-c8f68e6cfaba",
   "metadata": {
    "execution": {
     "iopub.execute_input": "2021-11-08T13:08:03.471944Z",
     "iopub.status.busy": "2021-11-08T13:08:03.471639Z",
     "iopub.status.idle": "2021-11-08T13:08:03.479329Z",
     "shell.execute_reply": "2021-11-08T13:08:03.478390Z",
     "shell.execute_reply.started": "2021-11-08T13:08:03.471915Z"
    },
    "tags": []
   },
   "outputs": [
    {
     "data": {
      "text/html": [
       "<pre style=\"white-space:pre;overflow-x:auto;line-height:normal;font-family:Menlo,'DejaVu Sans Mono',consolas,'Courier New',monospace\"><span style=\"font-weight: bold\">{</span>\n",
       "  <span style=\"color: #008000; text-decoration-color: #008000\">\"abc\"</span>: <span style=\"font-weight: bold\">{</span>\n",
       "    <span style=\"color: #008000; text-decoration-color: #008000\">\"b\"</span>: <span style=\"color: #008080; text-decoration-color: #008080; font-weight: bold\">10</span>\n",
       "  <span style=\"font-weight: bold\">}</span>,\n",
       "  <span style=\"color: #008000; text-decoration-color: #008000\">\"d\"</span>: <span style=\"font-weight: bold\">{</span>\n",
       "    <span style=\"color: #008000; text-decoration-color: #008000\">\"e\"</span>: <span style=\"font-weight: bold\">{</span>\n",
       "      <span style=\"color: #008000; text-decoration-color: #008000\">\"f\"</span>: <span style=\"font-weight: bold\">[</span>\n",
       "        <span style=\"color: #008080; text-decoration-color: #008080; font-weight: bold\">2</span>,\n",
       "        <span style=\"font-weight: bold\">{</span>\n",
       "          <span style=\"color: #008000; text-decoration-color: #008000\">\"abc\"</span>: <span style=\"color: #008000; text-decoration-color: #008000\">\"pqrs\"</span>\n",
       "        <span style=\"font-weight: bold\">}</span>,\n",
       "        <span style=\"color: #008080; text-decoration-color: #008080; font-weight: bold\">2.234</span>\n",
       "      <span style=\"font-weight: bold\">]</span>,\n",
       "      <span style=\"color: #008000; text-decoration-color: #008000\">\"g\"</span>: <span style=\"color: #008080; text-decoration-color: #008080; font-weight: bold\">11</span>\n",
       "    <span style=\"font-weight: bold\">}</span>\n",
       "  <span style=\"font-weight: bold\">}</span>\n",
       "<span style=\"font-weight: bold\">}</span>\n",
       "</pre>\n"
      ],
      "text/plain": [
       "\u001b[1m{\u001b[0m\n",
       "  \u001b[32m\"abc\"\u001b[0m: \u001b[1m{\u001b[0m\n",
       "    \u001b[32m\"b\"\u001b[0m: \u001b[1;36m10\u001b[0m\n",
       "  \u001b[1m}\u001b[0m,\n",
       "  \u001b[32m\"d\"\u001b[0m: \u001b[1m{\u001b[0m\n",
       "    \u001b[32m\"e\"\u001b[0m: \u001b[1m{\u001b[0m\n",
       "      \u001b[32m\"f\"\u001b[0m: \u001b[1m[\u001b[0m\n",
       "        \u001b[1;36m2\u001b[0m,\n",
       "        \u001b[1m{\u001b[0m\n",
       "          \u001b[32m\"abc\"\u001b[0m: \u001b[32m\"pqrs\"\u001b[0m\n",
       "        \u001b[1m}\u001b[0m,\n",
       "        \u001b[1;36m2.234\u001b[0m\n",
       "      \u001b[1m]\u001b[0m,\n",
       "      \u001b[32m\"g\"\u001b[0m: \u001b[1;36m11\u001b[0m\n",
       "    \u001b[1m}\u001b[0m\n",
       "  \u001b[1m}\u001b[0m\n",
       "\u001b[1m}\u001b[0m\n"
      ]
     },
     "metadata": {},
     "output_type": "display_data"
    },
    {
     "data": {
      "text/html": [
       "<pre style=\"white-space:pre;overflow-x:auto;line-height:normal;font-family:Menlo,'DejaVu Sans Mono',consolas,'Courier New',monospace\"><span style=\"color: #00ff00; text-decoration-color: #00ff00; font-style: italic\">True</span>\n",
       "</pre>\n"
      ],
      "text/plain": [
       "\u001b[3;92mTrue\u001b[0m\n"
      ]
     },
     "metadata": {},
     "output_type": "display_data"
    }
   ],
   "source": [
    "x = {\"abc\": {\"b\": 10, \"c\": 11}, \"d\": {\"e\": {\"f\": [2, {\"abc\": \"pqrs\"}, 2.234]}}}\n",
    "\n",
    "y = AttrDict(x)\n",
    "\n",
    "assert y.abc.b == 10\n",
    "assert y.d.e.f == [2, {\"abc\": \"pqrs\"}, 2.234]\n",
    "\n",
    "y.d.e.g = 11\n",
    "\n",
    "# del y.abc.c\n",
    "# OR\n",
    "del y[\"abc\"][\"c\"]\n",
    "\n",
    "assert y.to_dict() == {\n",
    "    \"abc\": {\"b\": 10},\n",
    "    \"d\": {\"e\": {\"f\": [2, {\"abc\": \"pqrs\"}, 2.234], \"g\": 11}},\n",
    "}\n",
    "\n",
    "y.pretty(indent=2)\n",
    "\n",
    "assert \"abc\" in y\n",
    "assert \"def\" not in y\n",
    "print(\"e\" in y.d)"
   ]
  },
  {
   "cell_type": "code",
   "execution_count": 24,
   "id": "74fbdc3d",
   "metadata": {},
   "outputs": [
    {
     "data": {
      "text/plain": [
       "{'b': 10, 'c': 11}"
      ]
     },
     "execution_count": 24,
     "metadata": {},
     "output_type": "execute_result"
    }
   ],
   "source": [
    "x = {\"abc\": {\"b\": 10, \"c\": 11}, \"d\": {\"e\": {\"f\": [2, {\"abc\": \"pqrs\"}, 2.234]}}}\n",
    "y = AttrDict(x)\n",
    "y.abc[[\"b\", \"c\"]]"
   ]
  },
  {
   "cell_type": "code",
   "execution_count": null,
   "id": "ebeef579",
   "metadata": {},
   "outputs": [],
   "source": [
    "# | export\n",
    "def read_json(fpath):\n",
    "    import json\n",
    "\n",
    "    with open(fpath, \"r\") as f:\n",
    "        return json.load(f)\n",
    "\n",
    "\n",
    "def write_json(obj, fpath, silent=False):\n",
    "    from datetime import datetime, date\n",
    "\n",
    "    def set_default(obj):\n",
    "        if isinstance(obj, set):\n",
    "            return list(obj)\n",
    "        if isinstance(obj, (datetime, date)):\n",
    "            return obj.isoformat()\n",
    "        raise TypeError\n",
    "\n",
    "    if not silent:\n",
    "        logger.opt(depth=1).log(\"DEBUG\", f\"Dumping json to {fpath}\")\n",
    "    with open(fpath, \"w\") as f:\n",
    "        json.dump(obj, f, indent=4, default=set_default)\n",
    "    return P(fpath)"
   ]
  },
  {
   "cell_type": "code",
   "execution_count": null,
   "id": "2f9a8810-5782-4bcc-a34f-33f04c855ada",
   "metadata": {
    "tags": []
   },
   "outputs": [
    {
     "data": {
      "text/html": [
       "<pre style=\"white-space:pre;overflow-x:auto;line-height:normal;font-family:Menlo,'DejaVu Sans Mono',consolas,'Courier New',monospace\"><span style=\"color: #7fbfbf; text-decoration-color: #7fbfbf\">[09/21/22 01:15:05] </span><span style=\"color: #008000; text-decoration-color: #008000\">DEBUG   </span>                                                               <a href=\"file:///var/folders/cp/1fbgq2n922j8ztdsq6551vldkr5sdy/T/ipykernel_70174/3923293551.py\" target=\"_blank\"><span style=\"color: #7f7f7f; text-decoration-color: #7f7f7f\">3923293551.py</span></a><span style=\"color: #7f7f7f; text-decoration-color: #7f7f7f\">:</span><a href=\"file:///var/folders/cp/1fbgq2n922j8ztdsq6551vldkr5sdy/T/ipykernel_70174/3923293551.py#<module>:3\" target=\"_blank\"><span style=\"color: #7f7f7f; text-decoration-color: #7f7f7f\">&lt;module&gt;:3</span></a>\n",
       "<span style=\"color: #7fbfbf; text-decoration-color: #7fbfbf\">                    </span>         <span style=\"font-weight: bold\">{</span>                                                             <span style=\"color: #7f7f7f; text-decoration-color: #7f7f7f\">                        </span>\n",
       "<span style=\"color: #7fbfbf; text-decoration-color: #7fbfbf\">                    </span>             <span style=\"color: #008000; text-decoration-color: #008000\">\"1\"</span>: <span style=\"color: #008080; text-decoration-color: #008080; font-weight: bold\">1</span>,                                                   <span style=\"color: #7f7f7f; text-decoration-color: #7f7f7f\">                        </span>\n",
       "<span style=\"color: #7fbfbf; text-decoration-color: #7fbfbf\">                    </span>             <span style=\"color: #008000; text-decoration-color: #008000\">\"2\"</span>: <span style=\"color: #008080; text-decoration-color: #008080; font-weight: bold\">2</span>                                                    <span style=\"color: #7f7f7f; text-decoration-color: #7f7f7f\">                        </span>\n",
       "<span style=\"color: #7fbfbf; text-decoration-color: #7fbfbf\">                    </span>         <span style=\"font-weight: bold\">}</span>                                                             <span style=\"color: #7f7f7f; text-decoration-color: #7f7f7f\">                        </span>\n",
       "</pre>\n"
      ],
      "text/plain": [
       "\u001b[2;36m[09/21/22 01:15:05]\u001b[0m\u001b[2;36m \u001b[0m\u001b[32mDEBUG   \u001b[0m                                                               \u001b]8;id=346895;file:///var/folders/cp/1fbgq2n922j8ztdsq6551vldkr5sdy/T/ipykernel_70174/3923293551.py\u001b\\\u001b[2m3923293551.py\u001b[0m\u001b]8;;\u001b\\\u001b[2m:\u001b[0m\u001b]8;id=155868;file:///var/folders/cp/1fbgq2n922j8ztdsq6551vldkr5sdy/T/ipykernel_70174/3923293551.py#<module>:3\u001b\\\u001b[2m<module>:3\u001b[0m\u001b]8;;\u001b\\\n",
       "\u001b[2;36m                    \u001b[0m         \u001b[1m{\u001b[0m                                                             \u001b[2m                        \u001b[0m\n",
       "\u001b[2;36m                    \u001b[0m             \u001b[32m\"1\"\u001b[0m: \u001b[1;36m1\u001b[0m,                                                   \u001b[2m                        \u001b[0m\n",
       "\u001b[2;36m                    \u001b[0m             \u001b[32m\"2\"\u001b[0m: \u001b[1;36m2\u001b[0m                                                    \u001b[2m                        \u001b[0m\n",
       "\u001b[2;36m                    \u001b[0m         \u001b[1m}\u001b[0m                                                             \u001b[2m                        \u001b[0m\n"
      ]
     },
     "metadata": {},
     "output_type": "display_data"
    },
    {
     "data": {
      "text/html": [
       "<pre style=\"white-space:pre;overflow-x:auto;line-height:normal;font-family:Menlo,'DejaVu Sans Mono',consolas,'Courier New',monospace\"><span style=\"color: #7fbfbf; text-decoration-color: #7fbfbf\">                    </span><span style=\"color: #008000; text-decoration-color: #008000\">DEBUG   </span>                                                               <a href=\"file:///var/folders/cp/1fbgq2n922j8ztdsq6551vldkr5sdy/T/ipykernel_70174/3923293551.py\" target=\"_blank\"><span style=\"color: #7f7f7f; text-decoration-color: #7f7f7f\">3923293551.py</span></a><span style=\"color: #7f7f7f; text-decoration-color: #7f7f7f\">:</span><a href=\"file:///var/folders/cp/1fbgq2n922j8ztdsq6551vldkr5sdy/T/ipykernel_70174/3923293551.py#<module>:4\" target=\"_blank\"><span style=\"color: #7f7f7f; text-decoration-color: #7f7f7f\">&lt;module&gt;:4</span></a>\n",
       "<span style=\"color: #7fbfbf; text-decoration-color: #7fbfbf\">                    </span>         <span style=\"font-weight: bold\">[</span>                                                             <span style=\"color: #7f7f7f; text-decoration-color: #7f7f7f\">                        </span>\n",
       "<span style=\"color: #7fbfbf; text-decoration-color: #7fbfbf\">                    </span>             <span style=\"color: #008080; text-decoration-color: #008080; font-weight: bold\">1</span>,                                                        <span style=\"color: #7f7f7f; text-decoration-color: #7f7f7f\">                        </span>\n",
       "<span style=\"color: #7fbfbf; text-decoration-color: #7fbfbf\">                    </span>             <span style=\"font-weight: bold\">{</span>                                                         <span style=\"color: #7f7f7f; text-decoration-color: #7f7f7f\">                        </span>\n",
       "<span style=\"color: #7fbfbf; text-decoration-color: #7fbfbf\">                    </span>                 <span style=\"color: #008000; text-decoration-color: #008000\">\"1\"</span>: <span style=\"color: #008080; text-decoration-color: #008080; font-weight: bold\">1</span>,                                               <span style=\"color: #7f7f7f; text-decoration-color: #7f7f7f\">                        </span>\n",
       "<span style=\"color: #7fbfbf; text-decoration-color: #7fbfbf\">                    </span>                 <span style=\"color: #008000; text-decoration-color: #008000\">\"2\"</span>: <span style=\"color: #008080; text-decoration-color: #008080; font-weight: bold\">2</span>                                                <span style=\"color: #7f7f7f; text-decoration-color: #7f7f7f\">                        </span>\n",
       "<span style=\"color: #7fbfbf; text-decoration-color: #7fbfbf\">                    </span>             <span style=\"font-weight: bold\">}</span>,                                                        <span style=\"color: #7f7f7f; text-decoration-color: #7f7f7f\">                        </span>\n",
       "<span style=\"color: #7fbfbf; text-decoration-color: #7fbfbf\">                    </span>             <span style=\"color: #008080; text-decoration-color: #008080; font-weight: bold\">3</span>                                                         <span style=\"color: #7f7f7f; text-decoration-color: #7f7f7f\">                        </span>\n",
       "<span style=\"color: #7fbfbf; text-decoration-color: #7fbfbf\">                    </span>         <span style=\"font-weight: bold\">]</span>                                                             <span style=\"color: #7f7f7f; text-decoration-color: #7f7f7f\">                        </span>\n",
       "</pre>\n"
      ],
      "text/plain": [
       "\u001b[2;36m                   \u001b[0m\u001b[2;36m \u001b[0m\u001b[32mDEBUG   \u001b[0m                                                               \u001b]8;id=257871;file:///var/folders/cp/1fbgq2n922j8ztdsq6551vldkr5sdy/T/ipykernel_70174/3923293551.py\u001b\\\u001b[2m3923293551.py\u001b[0m\u001b]8;;\u001b\\\u001b[2m:\u001b[0m\u001b]8;id=817763;file:///var/folders/cp/1fbgq2n922j8ztdsq6551vldkr5sdy/T/ipykernel_70174/3923293551.py#<module>:4\u001b\\\u001b[2m<module>:4\u001b[0m\u001b]8;;\u001b\\\n",
       "\u001b[2;36m                    \u001b[0m         \u001b[1m[\u001b[0m                                                             \u001b[2m                        \u001b[0m\n",
       "\u001b[2;36m                    \u001b[0m             \u001b[1;36m1\u001b[0m,                                                        \u001b[2m                        \u001b[0m\n",
       "\u001b[2;36m                    \u001b[0m             \u001b[1m{\u001b[0m                                                         \u001b[2m                        \u001b[0m\n",
       "\u001b[2;36m                    \u001b[0m                 \u001b[32m\"1\"\u001b[0m: \u001b[1;36m1\u001b[0m,                                               \u001b[2m                        \u001b[0m\n",
       "\u001b[2;36m                    \u001b[0m                 \u001b[32m\"2\"\u001b[0m: \u001b[1;36m2\u001b[0m                                                \u001b[2m                        \u001b[0m\n",
       "\u001b[2;36m                    \u001b[0m             \u001b[1m}\u001b[0m,                                                        \u001b[2m                        \u001b[0m\n",
       "\u001b[2;36m                    \u001b[0m             \u001b[1;36m3\u001b[0m                                                         \u001b[2m                        \u001b[0m\n",
       "\u001b[2;36m                    \u001b[0m         \u001b[1m]\u001b[0m                                                             \u001b[2m                        \u001b[0m\n"
      ]
     },
     "metadata": {},
     "output_type": "display_data"
    },
    {
     "data": {
      "text/html": [
       "<pre style=\"white-space:pre;overflow-x:auto;line-height:normal;font-family:Menlo,'DejaVu Sans Mono',consolas,'Courier New',monospace\"><span style=\"color: #7fbfbf; text-decoration-color: #7fbfbf\">                    </span><span style=\"color: #008000; text-decoration-color: #008000\">DEBUG   </span> Dumping json to <span style=\"color: #800080; text-decoration-color: #800080\">/tmp/</span><span style=\"color: #ff00ff; text-decoration-color: #ff00ff\">test.json</span>                                <a href=\"file:///var/folders/cp/1fbgq2n922j8ztdsq6551vldkr5sdy/T/ipykernel_70174/3923293551.py\" target=\"_blank\"><span style=\"color: #7f7f7f; text-decoration-color: #7f7f7f\">3923293551.py</span></a><span style=\"color: #7f7f7f; text-decoration-color: #7f7f7f\">:</span><a href=\"file:///var/folders/cp/1fbgq2n922j8ztdsq6551vldkr5sdy/T/ipykernel_70174/3923293551.py#<module>:6\" target=\"_blank\"><span style=\"color: #7f7f7f; text-decoration-color: #7f7f7f\">&lt;module&gt;:6</span></a>\n",
       "</pre>\n"
      ],
      "text/plain": [
       "\u001b[2;36m                   \u001b[0m\u001b[2;36m \u001b[0m\u001b[32mDEBUG   \u001b[0m Dumping json to \u001b[35m/tmp/\u001b[0m\u001b[95mtest.json\u001b[0m                                \u001b]8;id=779794;file:///var/folders/cp/1fbgq2n922j8ztdsq6551vldkr5sdy/T/ipykernel_70174/3923293551.py\u001b\\\u001b[2m3923293551.py\u001b[0m\u001b]8;;\u001b\\\u001b[2m:\u001b[0m\u001b]8;id=993155;file:///var/folders/cp/1fbgq2n922j8ztdsq6551vldkr5sdy/T/ipykernel_70174/3923293551.py#<module>:6\u001b\\\u001b[2m<module>:6\u001b[0m\u001b]8;;\u001b\\\n"
      ]
     },
     "metadata": {},
     "output_type": "display_data"
    },
    {
     "data": {
      "text/html": [
       "<pre style=\"white-space:pre;overflow-x:auto;line-height:normal;font-family:Menlo,'DejaVu Sans Mono',consolas,'Courier New',monospace\"><span style=\"color: #800080; text-decoration-color: #800080\">/tmp/</span><span style=\"color: #ff00ff; text-decoration-color: #ff00ff\">test.json</span>\n",
       "</pre>\n"
      ],
      "text/plain": [
       "\u001b[35m/tmp/\u001b[0m\u001b[95mtest.json\u001b[0m\n"
      ]
     },
     "metadata": {},
     "output_type": "display_data"
    },
    {
     "data": {
      "text/plain": [
       "[1, {'1': 1, '2': 2}, 3]"
      ]
     },
     "execution_count": 8,
     "metadata": {},
     "output_type": "execute_result"
    }
   ],
   "source": [
    "d = [1, {1: 1, 2: 2}, 3]\n",
    "\n",
    "pretty_json({1: 1, 2: 2})\n",
    "pretty_json(d)\n",
    "\n",
    "f = write_json(d, \"/tmp/test.json\")\n",
    "print(f)\n",
    "read_json(f)"
   ]
  },
  {
   "cell_type": "code",
   "execution_count": null,
   "id": "7dde0198",
   "metadata": {},
   "outputs": [],
   "source": [
    "# | export\n",
    "def write_jsonl(items, dest, mode=\"w\"):\n",
    "    makedir(parent(dest))\n",
    "    with jsonlines.open(dest, mode) as writer:\n",
    "        writer.write_all(items)\n",
    "        if mode == \"a\":\n",
    "            Info(f\"Appended {len(items)} items to {dest}\")\n",
    "        elif mode == \"w\":\n",
    "            Info(f\"Wrote {len(items)} jsons to {dest}\")\n",
    "\n",
    "\n",
    "def read_jsonl(file):\n",
    "    return [json.loads(line) for line in readlines(file, silent=True)]"
   ]
  },
  {
   "cell_type": "code",
   "execution_count": null,
   "id": "02f27598-c32e-46e3-a2ca-1d74914c300c",
   "metadata": {},
   "outputs": [],
   "source": [
    "# | export\n",
    "def read_yaml(file):\n",
    "    with open(file, \"r\") as stream:\n",
    "        try:\n",
    "            return yaml.safe_load(stream)\n",
    "        except yaml.YAMLError as exc:\n",
    "            print(exc)\n",
    "\n",
    "\n",
    "def write_yaml(content, fpath):\n",
    "    with open(fpath, \"w\") as outfile:\n",
    "        yaml.dump(content, outfile, default_flow_style=False)"
   ]
  },
  {
   "cell_type": "code",
   "execution_count": null,
   "id": "2befdc24",
   "metadata": {},
   "outputs": [],
   "source": [
    "# | export\n",
    "def read_xml(file_path: Union[str, P]) -> AttrDict:\n",
    "    \"Read xml data as a dictionary\"\n",
    "    with open(str(file_path)) as xml_file:\n",
    "        data = AttrDict(xmltodict.parse(xml_file.read()))\n",
    "    return data\n",
    "\n",
    "\n",
    "def write_xml(data: Union[AttrDict, dict], file_path: Union[str, P]):\n",
    "    makedir(parent(file_path))\n",
    "    \"convert a dictionary to xml\"\n",
    "    with open(file_path, \"w\") as xml_file:\n",
    "        data = data.to_dict() if isinstance(data, AttrDict) else data\n",
    "        assert isinstance(data, dict), \"Function only supports dicts for now\"\n",
    "        data = xmltodict.unparse(data, pretty=True)\n",
    "        xml_file.write(data)"
   ]
  },
  {
   "cell_type": "code",
   "execution_count": null,
   "id": "6b8f7bb4-beeb-4d81-95df-c7534b5327b9",
   "metadata": {},
   "outputs": [],
   "source": [
    "# | export\n",
    "# | hide\n",
    "Config = Config"
   ]
  },
  {
   "cell_type": "code",
   "execution_count": null,
   "id": "f3d03ed8-18a1-4394-82b7-2b9b912648d9",
   "metadata": {},
   "outputs": [],
   "source": []
  }
 ],
 "metadata": {
  "kernelspec": {
   "display_name": "Python 3.9.9 ('base')",
   "language": "python",
   "name": "python3"
  },
  "language_info": {
   "codemirror_mode": {
    "name": "ipython",
    "version": 3
   },
   "file_extension": ".py",
   "mimetype": "text/x-python",
   "name": "python",
   "nbconvert_exporter": "python",
   "pygments_lexer": "ipython3",
   "version": "3.8.15"
  },
  "vscode": {
   "interpreter": {
    "hash": "0a92af74ccf65e106ae96852a45a9b0a5e11a3c414a16fc8bb2d134868e55bfd"
   }
  }
 },
 "nbformat": 4,
 "nbformat_minor": 5
}
