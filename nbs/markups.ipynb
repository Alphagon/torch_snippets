{
 "cells": [
  {
   "cell_type": "code",
   "execution_count": 5,
   "id": "2a0d52aa-086d-4699-8c10-f765113c2314",
   "metadata": {
    "execution": {
     "iopub.execute_input": "2021-08-16T07:35:58.585120Z",
     "iopub.status.busy": "2021-08-16T07:35:58.584814Z",
     "iopub.status.idle": "2021-08-16T07:35:58.588587Z",
     "shell.execute_reply": "2021-08-16T07:35:58.587418Z",
     "shell.execute_reply.started": "2021-08-16T07:35:58.585094Z"
    },
    "tags": []
   },
   "outputs": [],
   "source": [
    "# default_exp markups"
   ]
  },
  {
   "cell_type": "code",
   "execution_count": 6,
   "id": "58fc2c10-e6cb-48be-9702-8c2d3083a59c",
   "metadata": {
    "execution": {
     "iopub.execute_input": "2021-08-16T07:35:58.874209Z",
     "iopub.status.busy": "2021-08-16T07:35:58.873914Z",
     "iopub.status.idle": "2021-08-16T07:35:58.880773Z",
     "shell.execute_reply": "2021-08-16T07:35:58.879897Z",
     "shell.execute_reply.started": "2021-08-16T07:35:58.874184Z"
    }
   },
   "outputs": [],
   "source": [
    "def isnamedtupleinstance(x):\n",
    "    _type = type(x)\n",
    "    bases = _type.__bases__\n",
    "    if len(bases) != 1 or bases[0] != tuple:\n",
    "        return False\n",
    "    fields = getattr(_type, '_fields', None)\n",
    "    if not isinstance(fields, tuple):\n",
    "        return False\n",
    "    return all(type(i)==str for i in fields)\n",
    "\n",
    "def unpack(obj):\n",
    "    if isinstance(obj, dict):\n",
    "        return {key: unpack(value) for key, value in obj.items()}\n",
    "    elif isinstance(obj, list):\n",
    "        return [unpack(value) for value in obj]\n",
    "    elif isnamedtupleinstance(obj):\n",
    "        return {key: unpack(value) for key, value in obj._asdict().items()}\n",
    "    elif isinstance(obj, tuple):\n",
    "        return tuple(unpack(value) for value in obj)\n",
    "    else:\n",
    "        return obj\n"
   ]
  },
  {
   "cell_type": "code",
   "execution_count": 85,
   "id": "569f8277-cb04-4915-afc9-673da2b99ce7",
   "metadata": {
    "execution": {
     "iopub.execute_input": "2021-08-16T07:54:57.570650Z",
     "iopub.status.busy": "2021-08-16T07:54:57.570269Z",
     "iopub.status.idle": "2021-08-16T07:54:57.584486Z",
     "shell.execute_reply": "2021-08-16T07:54:57.583374Z",
     "shell.execute_reply.started": "2021-08-16T07:54:57.570603Z"
    },
    "tags": []
   },
   "outputs": [],
   "source": [
    "# export\n",
    "import json\n",
    "def read_json(fpath):\n",
    "    import json\n",
    "    with open(fpath, 'r') as f:\n",
    "        return json.load(f)\n",
    "    \n",
    "def write_json(obj, fpath):\n",
    "    def set_default(obj):\n",
    "        if isinstance(obj, set):\n",
    "            return list(obj)\n",
    "        raise TypeError\n",
    "\n",
    "    logger.opt(depth=1).log(\"DEBUG\", f\"Dumping json to {fpath}\")\n",
    "    with open(fpath, \"w\") as f:\n",
    "        json.dump(obj, f, indent=4, default=set_default)\n",
    "    return P(fpath)\n",
    "\n",
    "class AttrDict(dict):\n",
    "    MARKER = object()\n",
    "\n",
    "    def __init__(self, value=None):\n",
    "        if value is None:\n",
    "            pass\n",
    "        elif isinstance(value, dict):\n",
    "            for key in value:\n",
    "                self.__setitem__(key, value[key])\n",
    "        else:\n",
    "            raise TypeError('expected dict')\n",
    "\n",
    "    def __setitem__(self, key, value):\n",
    "        if isinstance(value, dict) and not isinstance(value, AttrDict):\n",
    "            value = AttrDict(value)\n",
    "        super(AttrDict, self).__setitem__(key, value)\n",
    "\n",
    "    def __getitem__(self, key):\n",
    "        found = self.get(key, AttrDict.MARKER)\n",
    "        if found is AttrDict.MARKER:\n",
    "            found = AttrDict()\n",
    "            super(AttrDict, self).__setitem__(key, found)\n",
    "        return found\n",
    "\n",
    "    __setattr__, __getattr__ = __setitem__, __getitem__\n",
    "    \n",
    "    def to_dict(self):\n",
    "        d = {}\n",
    "        for k in self.keys():\n",
    "            v = self[k]\n",
    "            if isinstance(v, AttrDict):\n",
    "                v = v.to_dict()\n",
    "            d[k] = v\n",
    "        return d\n",
    "    \n",
    "    def pretty(self, *args, **kwargs):\n",
    "        pretty_json(self.to_dict(), *args, **kwargs)\n",
    "        \n",
    "\n",
    "def pretty_json(i, fpath=None, indent=4):\n",
    "    def set_default(obj):\n",
    "        if isinstance(obj, set):\n",
    "            return list(obj)\n",
    "    assert isinstance(i, (dict, list))\n",
    "    i = unpack(i)\n",
    "    dump = json.dumps(i, indent=indent, default=set_default)\n",
    "    if fpath:\n",
    "        makedir(parent(fpath))\n",
    "        logger.info(f'Dumped a pretty file to {fpath}')\n",
    "        with open(fpath, 'w') as f:\n",
    "            json.dump(i, f, indent=indent, default=set_default)\n",
    "            return\n",
    "    return logger.opt(depth=1).log('DEBUG', f'\\n{dump}')\n"
   ]
  },
  {
   "cell_type": "code",
   "execution_count": 86,
   "id": "7c5c6a5f-0b72-4e47-8dcf-c8f68e6cfaba",
   "metadata": {
    "execution": {
     "iopub.execute_input": "2021-08-16T07:54:57.800641Z",
     "iopub.status.busy": "2021-08-16T07:54:57.800265Z",
     "iopub.status.idle": "2021-08-16T07:54:57.807577Z",
     "shell.execute_reply": "2021-08-16T07:54:57.806716Z",
     "shell.execute_reply.started": "2021-08-16T07:54:57.800608Z"
    },
    "tags": []
   },
   "outputs": [
    {
     "name": "stderr",
     "output_type": "stream",
     "text": [
      "2021-08-16 13:24:57.803 | DEBUG    | __main__:pretty:55 - \n",
      "{\n",
      "    \"a\": {\n",
      "        \"b\": 10,\n",
      "        \"c\": 11\n",
      "    },\n",
      "    \"d\": {\n",
      "        \"e\": {\n",
      "            \"f\": [\n",
      "                2,\n",
      "                3,\n",
      "                2.234\n",
      "            ],\n",
      "            \"g\": 11\n",
      "        }\n",
      "    }\n",
      "}\n"
     ]
    }
   ],
   "source": [
    "x = {'a': {'b': 10, 'c': 11}, 'd': {'e': {'f': [2, 3, 2.234]}}}\n",
    "\n",
    "y = AttrDict(x)\n",
    "\n",
    "assert y.a.b == 10\n",
    "assert y.d.e.f == [2,3,2.234]\n",
    "\n",
    "y.d.e.g = 11\n",
    "\n",
    "assert y.to_dict() == {'a': {'b': 10, 'c': 11}, 'd': {'e': {'f': [2, 3, 2.234], 'g': 11}}}\n",
    "\n",
    "y.pretty()"
   ]
  },
  {
   "cell_type": "code",
   "execution_count": 87,
   "id": "2f9a8810-5782-4bcc-a34f-33f04c855ada",
   "metadata": {
    "execution": {
     "iopub.execute_input": "2021-08-16T07:55:04.894863Z",
     "iopub.status.busy": "2021-08-16T07:55:04.894525Z",
     "iopub.status.idle": "2021-08-16T07:55:04.912685Z",
     "shell.execute_reply": "2021-08-16T07:55:04.911315Z",
     "shell.execute_reply.started": "2021-08-16T07:55:04.894832Z"
    },
    "tags": []
   },
   "outputs": [
    {
     "name": "stderr",
     "output_type": "stream",
     "text": [
      "2021-08-16 13:25:04.897 | DEBUG    | __main__:<module>:6 - \n",
      "{\n",
      "    \"1\": 1,\n",
      "    \"2\": 2\n",
      "}\n",
      "2021-08-16 13:25:04.898 | DEBUG    | __main__:<module>:7 - \n",
      "[\n",
      "    1,\n",
      "    {\n",
      "        \"1\": 1,\n",
      "        \"2\": 2\n",
      "    },\n",
      "    3\n",
      "]\n",
      "2021-08-16 13:25:04.900 | DEBUG    | __main__:<module>:9 - Dumping json to /tmp/test.json\n"
     ]
    },
    {
     "name": "stdout",
     "output_type": "stream",
     "text": [
      "/tmp/test.json\n"
     ]
    },
    {
     "data": {
      "text/plain": [
       "[1, {'1': 1, '2': 2}, 3]"
      ]
     },
     "execution_count": 87,
     "metadata": {},
     "output_type": "execute_result"
    }
   ],
   "source": [
    "from torch_snippets.paths import *\n",
    "from torch_snippets.logger import *\n",
    "\n",
    "d = [1,{1:1,2:2},3]\n",
    "\n",
    "pretty_json({1:1,2:2})\n",
    "pretty_json(d)\n",
    "\n",
    "f = write_json(d, '/tmp/test.json')\n",
    "print(f)\n",
    "read_json(f)"
   ]
  }
 ],
 "metadata": {
  "kernelspec": {
   "display_name": "Python 3",
   "language": "python",
   "name": "python3"
  },
  "language_info": {
   "codemirror_mode": {
    "name": "ipython",
    "version": 3
   },
   "file_extension": ".py",
   "mimetype": "text/x-python",
   "name": "python",
   "nbconvert_exporter": "python",
   "pygments_lexer": "ipython3",
   "version": "3.7.4"
  }
 },
 "nbformat": 4,
 "nbformat_minor": 5
}
