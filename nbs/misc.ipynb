{
 "cells": [
  {
   "cell_type": "markdown",
   "metadata": {},
   "source": [
    "# Miscellaneous"
   ]
  },
  {
   "cell_type": "code",
   "execution_count": 1,
   "metadata": {},
   "outputs": [],
   "source": [
    "# | default_exp misc"
   ]
  },
  {
   "cell_type": "code",
   "execution_count": 2,
   "metadata": {},
   "outputs": [],
   "source": [
    "# | export\n",
    "import time\n",
    "from torch_snippets.logger import Debug, Excep, debug_mode, Info, Trace\n",
    "from torch_snippets.markup2 import AD\n",
    "from functools import wraps\n",
    "from fastcore.basics import ifnone\n",
    "from fastcore.foundation import L"
   ]
  },
  {
   "cell_type": "code",
   "execution_count": 3,
   "metadata": {},
   "outputs": [],
   "source": [
    "# | export\n",
    "# | hide\n",
    "\n",
    "\n",
    "class Timer:\n",
    "    def __init__(self, N, smooth=True, mode=1):\n",
    "        \"print elapsed time every iteration and print out remaining time\"\n",
    "        \"assumes this timer is called exactly N times or less\"\n",
    "        self.tok = self.start = time.time()\n",
    "        self.N = N\n",
    "        self.ix = 0\n",
    "        self.smooth = smooth\n",
    "        self.mode = mode\n",
    "        # 0 = instant-speed, i.e., time remaining is a funciton of only the last iteration\n",
    "        # Useful when you know that each loop takes unequal time (increasing/decreasing speeds)\n",
    "        # 1 = average, i.e., time remaining is a function of average of all iterations\n",
    "        # Usefule when you know on average each loop or a group of loops take around the same time\n",
    "\n",
    "    def __call__(self, ix=None, info=None):\n",
    "        ix = self.ix if ix is None else ix\n",
    "        info = \"\" if info is None else f\"{info}\\t\"\n",
    "        tik = time.time()\n",
    "        elapsed = tik - self.start\n",
    "\n",
    "        if self.mode == 0:\n",
    "            ielapsed = tik - self.tok\n",
    "            ispeed = ielapsed\n",
    "            iremaining = (self.N - (ix + 1)) * ispeed\n",
    "\n",
    "            iunit = \"s/iter\"\n",
    "            if ispeed < 1:\n",
    "                ispeed = 1 / ispeed\n",
    "                iunit = \"iters/s\"\n",
    "            iestimate = iremaining + elapsed\n",
    "            _info = f\"{info}{ix+1}/{self.N} ({elapsed:.2f}s - {iremaining:.2f}s remaining - {ispeed:.2f} {iunit})\"\n",
    "\n",
    "        else:\n",
    "            speed = elapsed / (ix + 1)\n",
    "            remaining = (self.N - (ix + 1)) * speed\n",
    "            unit = \"s/iter\"\n",
    "            if speed < 1:\n",
    "                speed = 1 / speed\n",
    "                unit = \"iters/s\"\n",
    "            estimate = remaining + elapsed\n",
    "            # print(f'N={self.N} e={elapsed:.2f} _rem={self.N-(ix+1)} r={remaining:.2f} s={speed:.2f}\\t\\t')\n",
    "            _info = f\"{info}{ix+1}/{self.N} ({elapsed:.2f}s - {remaining:.2f}s remaining - {speed:.2f} {unit})\"\n",
    "\n",
    "        print(\n",
    "            _info + \" \" * 10,\n",
    "            end=\"\\r\",\n",
    "        )\n",
    "        self.ix += 1\n",
    "        self.tok = tik\n",
    "\n",
    "\n",
    "def track2(iterable, *, total=None):\n",
    "    try:\n",
    "        total = ifnone(total, len(iterable))\n",
    "    except:\n",
    "        ...\n",
    "    timer = Timer(total)\n",
    "    for item in iterable:\n",
    "        info = yield item\n",
    "        timer(info=info)\n",
    "        if info is not None:\n",
    "            yield  # Just to ensure the send operation stops"
   ]
  },
  {
   "cell_type": "code",
   "execution_count": 4,
   "metadata": {},
   "outputs": [],
   "source": [
    "time.sleep(3)"
   ]
  },
  {
   "cell_type": "markdown",
   "metadata": {},
   "source": [
    "## Timer\n",
    "Use timer as a standalone class so you have full control on when to call a lap (most useful in while loops)..."
   ]
  },
  {
   "cell_type": "code",
   "execution_count": 5,
   "metadata": {},
   "outputs": [
    {
     "name": "stdout",
     "output_type": "stream",
     "text": [
      "26/50 (2.70s - 2.49s remaining - 9.62 iters/s)          \n",
      "My Info: 78.05\t50/50 (5.20s - 0.00s remaining - 9.61 iters/s)          \r"
     ]
    }
   ],
   "source": [
    "N = 50\n",
    "t = Timer(N)\n",
    "info = None\n",
    "\n",
    "for i in range(N):\n",
    "    time.sleep(0.1)\n",
    "    t(info=info)  # Lap and present the time\n",
    "    if i == N//2:\n",
    "        print()\n",
    "        info = f\"My Info: {i*3.122}\""
   ]
  },
  {
   "cell_type": "markdown",
   "metadata": {},
   "source": [
    "## Track2\n",
    "... or use track2 to directly track a for loop"
   ]
  },
  {
   "cell_type": "code",
   "execution_count": 6,
   "metadata": {},
   "outputs": [
    {
     "name": "stdout",
     "output_type": "stream",
     "text": [
      "25/50 (2.59s - 2.59s remaining - 9.66 iters/s)          \n",
      "My Info: 152.98\t50/50 (5.18s - 0.00s remaining - 9.65 iters/s)          \r"
     ]
    }
   ],
   "source": [
    "N = 50\n",
    "info = None\n",
    "\n",
    "for i in (tracker := track2(range(N), total=N)):\n",
    "    time.sleep(0.1)\n",
    "    info = f\"My Info: {i*3.122:.2f}\"\n",
    "    if i == N // 2:\n",
    "        print()\n",
    "    if i >= N // 2:\n",
    "        tracker.send(info)"
   ]
  },
  {
   "cell_type": "markdown",
   "metadata": {},
   "source": [
    "Warning! NEVER RUN `tracker.send(None)` as this will skip variables silently"
   ]
  },
  {
   "cell_type": "code",
   "execution_count": 20,
   "metadata": {},
   "outputs": [
    {
     "data": {
      "text/html": [
       "\n",
       "        <iframe\n",
       "            width=\"560\"\n",
       "            height=\"315\"\n",
       "            src=\"https://www.youtube.com/embed/XcU-a-eksMA\"\n",
       "            frameborder=\"0\"\n",
       "            allowfullscreen\n",
       "            \n",
       "        ></iframe>\n",
       "        "
      ],
      "text/plain": [
       "<IPython.lib.display.YouTubeVideo at 0x11df1acf0>"
      ]
     },
     "execution_count": 20,
     "metadata": {},
     "output_type": "execute_result"
    }
   ],
   "source": [
    "# https://youtu.be/XcU-a-eksMA\n",
    "from IPython.display import YouTubeVideo\n",
    "\n",
    "# Replace 'video_id' with the actual YouTube video ID\n",
    "YouTubeVideo('XcU-a-eksMA', width=560, height=315)"
   ]
  },
  {
   "cell_type": "code",
   "execution_count": 7,
   "metadata": {},
   "outputs": [],
   "source": [
    "# | export\n",
    "# | hide\n",
    "\n",
    "\n",
    "def summarize_input(args, kwargs, outputs=None):\n",
    "    o = AD(args, kwargs)\n",
    "    if outputs is not None:\n",
    "        o.outputs = outputs\n",
    "    return o.summary()\n",
    "\n",
    "\n",
    "def timeit(func):\n",
    "    def inner(*args, **kwargs):\n",
    "        s = time.time()\n",
    "        o = func(*args, **kwargs)\n",
    "        Info(f\"{time.time() - s:.2f} seconds to execute `{func.__name__}`\")\n",
    "        return o\n",
    "\n",
    "    return inner\n",
    "\n",
    "\n",
    "def io(func=None, *, level=\"debug\"):\n",
    "    logfuncs = {\n",
    "        \"debug\": lambda i: Debug(i, depth=1),\n",
    "        \"info\": lambda i: Info(i, depth=1),\n",
    "        \"trace\": lambda i: Trace(i, depth=1),\n",
    "    }\n",
    "    try:\n",
    "        logfunc = logfuncs[level.lower()]\n",
    "    except KeyError:\n",
    "        raise ValueError(f\"level should be one of {list(logfuncs.keys())}\")\n",
    "\n",
    "    def decorator(func):\n",
    "        def inner(*args, **kwargs):\n",
    "            s = time.time()\n",
    "            o = func(*args, **kwargs)\n",
    "            info = f\"\"\"\n",
    "{time.time() - s:.2f} seconds to execute `{func.__name__}`\n",
    "{summarize_input(args=args, kwargs=kwargs, outputs=o)}\n",
    "            \"\"\"\n",
    "            logfunc(info)\n",
    "            return o\n",
    "\n",
    "        return inner\n",
    "\n",
    "    if func is None:\n",
    "        return decorator\n",
    "    else:\n",
    "        return decorator(func)"
   ]
  },
  {
   "cell_type": "markdown",
   "metadata": {},
   "source": [
    "## Print execution time\n",
    "`@timeit` decorates and prints time taken to execute a function as an info log"
   ]
  },
  {
   "cell_type": "code",
   "execution_count": 8,
   "metadata": {},
   "outputs": [],
   "source": [
    "@timeit\n",
    "def foo(a, b=None):\n",
    "    if b is None:\n",
    "        return a + 1\n",
    "    else:\n",
    "        time.sleep(2)\n",
    "        return a + b"
   ]
  },
  {
   "cell_type": "code",
   "execution_count": 9,
   "metadata": {},
   "outputs": [
    {
     "data": {
      "text/html": [
       "<pre style=\"white-space:pre;overflow-x:auto;line-height:normal;font-family:Menlo,'DejaVu Sans Mono',consolas,'Courier New',monospace\"><span style=\"color: #7fbfbf; text-decoration-color: #7fbfbf\">[08/24/24 12:46:23] </span><span style=\"color: #bfbf7f; text-decoration-color: #bfbf7f\">INFO    </span> <span style=\"color: #008080; text-decoration-color: #008080; font-weight: bold\">0.00</span> seconds to execute `foo`                                                                                            <a href=\"file:///var/folders/1_/71dqv9vx2750gmyz77q_f45w0000gn/T/ipykernel_45033/3503404687.py:16\" target=\"_blank\"><span style=\"color: #7f7f7f; text-decoration-color: #7f7f7f\">3503404687.py</span></a><span style=\"color: #7f7f7f; text-decoration-color: #7f7f7f\">:</span><a href=\"file:///var/folders/1_/71dqv9vx2750gmyz77q_f45w0000gn/T/ipykernel_45033/3503404687.py:16#inner:16\" target=\"_blank\"><span style=\"color: #7f7f7f; text-decoration-color: #7f7f7f\">inner:16</span></a>\n",
       "</pre>\n"
      ],
      "text/plain": [
       "\u001b[2;36m[08/24/24 12:46:23]\u001b[0m\u001b[2;36m \u001b[0m\u001b[2;33mINFO    \u001b[0m \u001b[1;36m0.00\u001b[0m seconds to execute `foo`                                                                                            \u001b]8;id=301033;file:///var/folders/1_/71dqv9vx2750gmyz77q_f45w0000gn/T/ipykernel_45033/3503404687.py:16\u001b\\\u001b[2m3503404687.py\u001b[0m\u001b]8;;\u001b\\\u001b[2m:\u001b[0m\u001b]8;id=833064;file:///var/folders/1_/71dqv9vx2750gmyz77q_f45w0000gn/T/ipykernel_45033/3503404687.py:16#inner:16\u001b\\\u001b[2minner:16\u001b[0m\u001b]8;;\u001b\\\n"
      ]
     },
     "metadata": {},
     "output_type": "display_data"
    },
    {
     "data": {
      "text/html": [
       "<pre style=\"white-space:pre;overflow-x:auto;line-height:normal;font-family:Menlo,'DejaVu Sans Mono',consolas,'Courier New',monospace\"><span style=\"color: #7fbfbf; text-decoration-color: #7fbfbf\">[08/24/24 12:46:25] </span><span style=\"color: #bfbf7f; text-decoration-color: #bfbf7f\">INFO    </span> <span style=\"color: #008080; text-decoration-color: #008080; font-weight: bold\">2.01</span> seconds to execute `foo`                                                                                            <a href=\"file:///var/folders/1_/71dqv9vx2750gmyz77q_f45w0000gn/T/ipykernel_45033/3503404687.py:16\" target=\"_blank\"><span style=\"color: #7f7f7f; text-decoration-color: #7f7f7f\">3503404687.py</span></a><span style=\"color: #7f7f7f; text-decoration-color: #7f7f7f\">:</span><a href=\"file:///var/folders/1_/71dqv9vx2750gmyz77q_f45w0000gn/T/ipykernel_45033/3503404687.py:16#inner:16\" target=\"_blank\"><span style=\"color: #7f7f7f; text-decoration-color: #7f7f7f\">inner:16</span></a>\n",
       "</pre>\n"
      ],
      "text/plain": [
       "\u001b[2;36m[08/24/24 12:46:25]\u001b[0m\u001b[2;36m \u001b[0m\u001b[2;33mINFO    \u001b[0m \u001b[1;36m2.01\u001b[0m seconds to execute `foo`                                                                                            \u001b]8;id=736278;file:///var/folders/1_/71dqv9vx2750gmyz77q_f45w0000gn/T/ipykernel_45033/3503404687.py:16\u001b\\\u001b[2m3503404687.py\u001b[0m\u001b]8;;\u001b\\\u001b[2m:\u001b[0m\u001b]8;id=952859;file:///var/folders/1_/71dqv9vx2750gmyz77q_f45w0000gn/T/ipykernel_45033/3503404687.py:16#inner:16\u001b\\\u001b[2minner:16\u001b[0m\u001b]8;;\u001b\\\n"
      ]
     },
     "metadata": {},
     "output_type": "display_data"
    },
    {
     "data": {
      "text/plain": [
       "30"
      ]
     },
     "execution_count": 9,
     "metadata": {},
     "output_type": "execute_result"
    }
   ],
   "source": [
    "foo(10)\n",
    "foo(10, b=20)"
   ]
  },
  {
   "cell_type": "markdown",
   "metadata": {},
   "source": [
    "## Print IO\n",
    "`@io` will decorate to show inputs and outputs (along with time taken to execute) as a debug log"
   ]
  },
  {
   "cell_type": "code",
   "execution_count": 10,
   "metadata": {},
   "outputs": [
    {
     "data": {
      "text/html": [
       "<pre style=\"white-space:pre;overflow-x:auto;line-height:normal;font-family:Menlo,'DejaVu Sans Mono',consolas,'Courier New',monospace\"><span style=\"color: #7fbfbf; text-decoration-color: #7fbfbf\">[08/24/24 12:46:26] </span><span style=\"color: #7fbf7f; text-decoration-color: #7fbf7f\">DEBUG   </span>                                                                                                                          <a href=\"file:///var/folders/1_/71dqv9vx2750gmyz77q_f45w0000gn/T/ipykernel_45033/3503404687.py:41\" target=\"_blank\"><span style=\"color: #7f7f7f; text-decoration-color: #7f7f7f\">3503404687.py</span></a><span style=\"color: #7f7f7f; text-decoration-color: #7f7f7f\">:</span><a href=\"file:///var/folders/1_/71dqv9vx2750gmyz77q_f45w0000gn/T/ipykernel_45033/3503404687.py:41#inner:41\" target=\"_blank\"><span style=\"color: #7f7f7f; text-decoration-color: #7f7f7f\">inner:41</span></a>\n",
       "<span style=\"color: #7fbfbf; text-decoration-color: #7fbfbf\">                    </span>         <span style=\"color: #008080; text-decoration-color: #008080; font-weight: bold\">0.00</span> seconds to execute `foo`                                                                                            <span style=\"color: #7f7f7f; text-decoration-color: #7f7f7f\">                      </span>\n",
       "<span style=\"color: #7fbfbf; text-decoration-color: #7fbfbf\">                    </span>         <span style=\"color: #800080; text-decoration-color: #800080; font-weight: bold\">args</span><span style=\"font-weight: bold\">()</span>                                                                                                                   <span style=\"color: #7f7f7f; text-decoration-color: #7f7f7f\">                      </span>\n",
       "<span style=\"color: #7fbfbf; text-decoration-color: #7fbfbf\">                    </span>           <span style=\"color: #008080; text-decoration-color: #008080; font-weight: bold\">0</span> - <span style=\"color: #008080; text-decoration-color: #008080; font-weight: bold\">10</span> <span style=\"font-weight: bold\">(</span>🏷️ int<span style=\"font-weight: bold\">)</span>                                                                                                         <span style=\"color: #7f7f7f; text-decoration-color: #7f7f7f\">                      </span>\n",
       "<span style=\"color: #7fbfbf; text-decoration-color: #7fbfbf\">                    </span>         kwargs                                                                                                                   <span style=\"color: #7f7f7f; text-decoration-color: #7f7f7f\">                      </span>\n",
       "<span style=\"color: #7fbfbf; text-decoration-color: #7fbfbf\">                    </span>         outputs - <span style=\"color: #008080; text-decoration-color: #008080; font-weight: bold\">11</span> <span style=\"font-weight: bold\">(</span>🏷️ int<span style=\"font-weight: bold\">)</span>                                                                                                     <span style=\"color: #7f7f7f; text-decoration-color: #7f7f7f\">                      </span>\n",
       "<span style=\"color: #7fbfbf; text-decoration-color: #7fbfbf\">                    </span>                                                                                                                                  <span style=\"color: #7f7f7f; text-decoration-color: #7f7f7f\">                      </span>\n",
       "<span style=\"color: #7fbfbf; text-decoration-color: #7fbfbf\">                    </span>                                                                                                                                  <span style=\"color: #7f7f7f; text-decoration-color: #7f7f7f\">                      </span>\n",
       "</pre>\n"
      ],
      "text/plain": [
       "\u001b[2;36m[08/24/24 12:46:26]\u001b[0m\u001b[2;36m \u001b[0m\u001b[2;32mDEBUG   \u001b[0m                                                                                                                          \u001b]8;id=778421;file:///var/folders/1_/71dqv9vx2750gmyz77q_f45w0000gn/T/ipykernel_45033/3503404687.py:41\u001b\\\u001b[2m3503404687.py\u001b[0m\u001b]8;;\u001b\\\u001b[2m:\u001b[0m\u001b]8;id=712280;file:///var/folders/1_/71dqv9vx2750gmyz77q_f45w0000gn/T/ipykernel_45033/3503404687.py:41#inner:41\u001b\\\u001b[2minner:41\u001b[0m\u001b]8;;\u001b\\\n",
       "\u001b[2;36m                    \u001b[0m         \u001b[1;36m0.00\u001b[0m seconds to execute `foo`                                                                                            \u001b[2m                      \u001b[0m\n",
       "\u001b[2;36m                    \u001b[0m         \u001b[1;35margs\u001b[0m\u001b[1m(\u001b[0m\u001b[1m)\u001b[0m                                                                                                                   \u001b[2m                      \u001b[0m\n",
       "\u001b[2;36m                    \u001b[0m           \u001b[1;36m0\u001b[0m - \u001b[1;36m10\u001b[0m \u001b[1m(\u001b[0m🏷️ int\u001b[1m)\u001b[0m                                                                                                         \u001b[2m                      \u001b[0m\n",
       "\u001b[2;36m                    \u001b[0m         kwargs                                                                                                                   \u001b[2m                      \u001b[0m\n",
       "\u001b[2;36m                    \u001b[0m         outputs - \u001b[1;36m11\u001b[0m \u001b[1m(\u001b[0m🏷️ int\u001b[1m)\u001b[0m                                                                                                     \u001b[2m                      \u001b[0m\n",
       "\u001b[2;36m                    \u001b[0m                                                                                                                                  \u001b[2m                      \u001b[0m\n",
       "\u001b[2;36m                    \u001b[0m                                                                                                                                  \u001b[2m                      \u001b[0m\n"
      ]
     },
     "metadata": {},
     "output_type": "display_data"
    },
    {
     "data": {
      "text/html": [
       "<pre style=\"white-space:pre;overflow-x:auto;line-height:normal;font-family:Menlo,'DejaVu Sans Mono',consolas,'Courier New',monospace\"><span style=\"color: #7fbfbf; text-decoration-color: #7fbfbf\">[08/24/24 12:46:28] </span><span style=\"color: #7fbf7f; text-decoration-color: #7fbf7f\">DEBUG   </span>                                                                                                                          <a href=\"file:///var/folders/1_/71dqv9vx2750gmyz77q_f45w0000gn/T/ipykernel_45033/3503404687.py:41\" target=\"_blank\"><span style=\"color: #7f7f7f; text-decoration-color: #7f7f7f\">3503404687.py</span></a><span style=\"color: #7f7f7f; text-decoration-color: #7f7f7f\">:</span><a href=\"file:///var/folders/1_/71dqv9vx2750gmyz77q_f45w0000gn/T/ipykernel_45033/3503404687.py:41#inner:41\" target=\"_blank\"><span style=\"color: #7f7f7f; text-decoration-color: #7f7f7f\">inner:41</span></a>\n",
       "<span style=\"color: #7fbfbf; text-decoration-color: #7fbfbf\">                    </span>         <span style=\"color: #008080; text-decoration-color: #008080; font-weight: bold\">2.01</span> seconds to execute `foo`                                                                                            <span style=\"color: #7f7f7f; text-decoration-color: #7f7f7f\">                      </span>\n",
       "<span style=\"color: #7fbfbf; text-decoration-color: #7fbfbf\">                    </span>         <span style=\"color: #800080; text-decoration-color: #800080; font-weight: bold\">args</span><span style=\"font-weight: bold\">()</span>                                                                                                                   <span style=\"color: #7f7f7f; text-decoration-color: #7f7f7f\">                      </span>\n",
       "<span style=\"color: #7fbfbf; text-decoration-color: #7fbfbf\">                    </span>           <span style=\"color: #008080; text-decoration-color: #008080; font-weight: bold\">0</span> - <span style=\"color: #008080; text-decoration-color: #008080; font-weight: bold\">10</span> <span style=\"font-weight: bold\">(</span>🏷️ int<span style=\"font-weight: bold\">)</span>                                                                                                         <span style=\"color: #7f7f7f; text-decoration-color: #7f7f7f\">                      </span>\n",
       "<span style=\"color: #7fbfbf; text-decoration-color: #7fbfbf\">                    </span>         kwargs                                                                                                                   <span style=\"color: #7f7f7f; text-decoration-color: #7f7f7f\">                      </span>\n",
       "<span style=\"color: #7fbfbf; text-decoration-color: #7fbfbf\">                    </span>           b - <span style=\"color: #008080; text-decoration-color: #008080; font-weight: bold\">20</span> <span style=\"font-weight: bold\">(</span>🏷️ int<span style=\"font-weight: bold\">)</span>                                                                                                         <span style=\"color: #7f7f7f; text-decoration-color: #7f7f7f\">                      </span>\n",
       "<span style=\"color: #7fbfbf; text-decoration-color: #7fbfbf\">                    </span>         outputs - <span style=\"color: #008080; text-decoration-color: #008080; font-weight: bold\">30</span> <span style=\"font-weight: bold\">(</span>🏷️ int<span style=\"font-weight: bold\">)</span>                                                                                                     <span style=\"color: #7f7f7f; text-decoration-color: #7f7f7f\">                      </span>\n",
       "<span style=\"color: #7fbfbf; text-decoration-color: #7fbfbf\">                    </span>                                                                                                                                  <span style=\"color: #7f7f7f; text-decoration-color: #7f7f7f\">                      </span>\n",
       "<span style=\"color: #7fbfbf; text-decoration-color: #7fbfbf\">                    </span>                                                                                                                                  <span style=\"color: #7f7f7f; text-decoration-color: #7f7f7f\">                      </span>\n",
       "</pre>\n"
      ],
      "text/plain": [
       "\u001b[2;36m[08/24/24 12:46:28]\u001b[0m\u001b[2;36m \u001b[0m\u001b[2;32mDEBUG   \u001b[0m                                                                                                                          \u001b]8;id=34123;file:///var/folders/1_/71dqv9vx2750gmyz77q_f45w0000gn/T/ipykernel_45033/3503404687.py:41\u001b\\\u001b[2m3503404687.py\u001b[0m\u001b]8;;\u001b\\\u001b[2m:\u001b[0m\u001b]8;id=838060;file:///var/folders/1_/71dqv9vx2750gmyz77q_f45w0000gn/T/ipykernel_45033/3503404687.py:41#inner:41\u001b\\\u001b[2minner:41\u001b[0m\u001b]8;;\u001b\\\n",
       "\u001b[2;36m                    \u001b[0m         \u001b[1;36m2.01\u001b[0m seconds to execute `foo`                                                                                            \u001b[2m                      \u001b[0m\n",
       "\u001b[2;36m                    \u001b[0m         \u001b[1;35margs\u001b[0m\u001b[1m(\u001b[0m\u001b[1m)\u001b[0m                                                                                                                   \u001b[2m                      \u001b[0m\n",
       "\u001b[2;36m                    \u001b[0m           \u001b[1;36m0\u001b[0m - \u001b[1;36m10\u001b[0m \u001b[1m(\u001b[0m🏷️ int\u001b[1m)\u001b[0m                                                                                                         \u001b[2m                      \u001b[0m\n",
       "\u001b[2;36m                    \u001b[0m         kwargs                                                                                                                   \u001b[2m                      \u001b[0m\n",
       "\u001b[2;36m                    \u001b[0m           b - \u001b[1;36m20\u001b[0m \u001b[1m(\u001b[0m🏷️ int\u001b[1m)\u001b[0m                                                                                                         \u001b[2m                      \u001b[0m\n",
       "\u001b[2;36m                    \u001b[0m         outputs - \u001b[1;36m30\u001b[0m \u001b[1m(\u001b[0m🏷️ int\u001b[1m)\u001b[0m                                                                                                     \u001b[2m                      \u001b[0m\n",
       "\u001b[2;36m                    \u001b[0m                                                                                                                                  \u001b[2m                      \u001b[0m\n",
       "\u001b[2;36m                    \u001b[0m                                                                                                                                  \u001b[2m                      \u001b[0m\n"
      ]
     },
     "metadata": {},
     "output_type": "display_data"
    }
   ],
   "source": [
    "@io\n",
    "def foo(a, b=None):\n",
    "    if b is None:\n",
    "        return a + 1\n",
    "    else:\n",
    "        time.sleep(2)\n",
    "        return a + b\n",
    "\n",
    "\n",
    "with debug_mode():\n",
    "    foo(10)\n",
    "    foo(10, b=20)"
   ]
  },
  {
   "cell_type": "markdown",
   "metadata": {},
   "source": [
    "`@io` can be forced to print as log/trace if needed"
   ]
  },
  {
   "cell_type": "code",
   "execution_count": null,
   "metadata": {},
   "outputs": [],
   "source": []
  },
  {
   "cell_type": "code",
   "execution_count": 11,
   "metadata": {},
   "outputs": [],
   "source": [
    "# | export\n",
    "# | hide\n",
    "\n",
    "\n",
    "def tryy(\n",
    "    func=None,\n",
    "    *,\n",
    "    output_to_return_on_fail=None,\n",
    "    silence_errors=False,\n",
    "    print_traceback=False,\n",
    "    store_errors: bool = True,\n",
    "):\n",
    "    def decorator(f):\n",
    "        if isinstance(store_errors, bool) and store_errors:\n",
    "            error_store = []\n",
    "        elif isinstance(store_errors, (list, L)):\n",
    "            error_store = store_errors\n",
    "\n",
    "        def inner(*args, **kwargs):\n",
    "            try:\n",
    "                return f(*args, **kwargs)\n",
    "            except Exception as e:\n",
    "                if not print_traceback:\n",
    "                    tb = f\"{type(e).__name__}: {str(e)}\"\n",
    "                else:\n",
    "                    import traceback\n",
    "\n",
    "                    tb = traceback.format_exc()\n",
    "                if not silence_errors:\n",
    "                    Excep(\n",
    "                        f\"Error for `{f.__name__}` with \\n{summarize_input(args, kwargs)}\\n{tb}\"\n",
    "                    )\n",
    "                if store_errors is not None:\n",
    "                    error_store.append(\n",
    "                        AD(\n",
    "                            func=f.__name__,\n",
    "                            args=args,\n",
    "                            kwargs=kwargs,\n",
    "                            tb=tb,\n",
    "                            err_type=type(e).__name__,\n",
    "                        )\n",
    "                    )\n",
    "                return output_to_return_on_fail\n",
    "\n",
    "        inner.F = f  # Store reference to the original function\n",
    "        inner.error_store = error_store\n",
    "\n",
    "        def error_summary():\n",
    "            import pandas as pd\n",
    "\n",
    "            return pd.DataFrame([e.dict() for e in error_store])\n",
    "\n",
    "        inner.error_summary = error_summary\n",
    "        return inner\n",
    "\n",
    "    if callable(func):\n",
    "        return decorator(func)\n",
    "    return decorator"
   ]
  },
  {
   "cell_type": "markdown",
   "metadata": {},
   "source": [
    "## Try Catch with a single line"
   ]
  },
  {
   "cell_type": "code",
   "execution_count": 12,
   "metadata": {},
   "outputs": [
    {
     "data": {
      "text/html": [
       "<pre style=\"white-space:pre;overflow-x:auto;line-height:normal;font-family:Menlo,'DejaVu Sans Mono',consolas,'Courier New',monospace\"><span style=\"color: #7fbfbf; text-decoration-color: #7fbfbf\">[08/24/24 12:46:28] </span><span style=\"color: #800000; text-decoration-color: #800000; font-weight: bold\">ERROR   </span> Error for `do` with                                                                                                      <a href=\"file:///var/folders/1_/71dqv9vx2750gmyz77q_f45w0000gn/T/ipykernel_45033/1057038067.py:30\" target=\"_blank\"><span style=\"color: #7f7f7f; text-decoration-color: #7f7f7f\">1057038067.py</span></a><span style=\"color: #7f7f7f; text-decoration-color: #7f7f7f\">:</span><a href=\"file:///var/folders/1_/71dqv9vx2750gmyz77q_f45w0000gn/T/ipykernel_45033/1057038067.py:30#inner:30\" target=\"_blank\"><span style=\"color: #7f7f7f; text-decoration-color: #7f7f7f\">inner:30</span></a>\n",
       "<span style=\"color: #7fbfbf; text-decoration-color: #7fbfbf\">                    </span>         <span style=\"color: #800080; text-decoration-color: #800080; font-weight: bold\">args</span><span style=\"font-weight: bold\">()</span>                                                                                                                   <span style=\"color: #7f7f7f; text-decoration-color: #7f7f7f\">                      </span>\n",
       "<span style=\"color: #7fbfbf; text-decoration-color: #7fbfbf\">                    </span>           <span style=\"color: #008080; text-decoration-color: #008080; font-weight: bold\">0</span> - <span style=\"color: #008080; text-decoration-color: #008080; font-weight: bold\">1</span> <span style=\"font-weight: bold\">(</span>🏷️ int<span style=\"font-weight: bold\">)</span>                                                                                                          <span style=\"color: #7f7f7f; text-decoration-color: #7f7f7f\">                      </span>\n",
       "<span style=\"color: #7fbfbf; text-decoration-color: #7fbfbf\">                    </span>           <span style=\"color: #008080; text-decoration-color: #008080; font-weight: bold\">1</span> - <span style=\"color: #008080; text-decoration-color: #008080; font-weight: bold\">2</span> <span style=\"font-weight: bold\">(</span>🏷️ int<span style=\"font-weight: bold\">)</span>                                                                                                          <span style=\"color: #7f7f7f; text-decoration-color: #7f7f7f\">                      </span>\n",
       "<span style=\"color: #7fbfbf; text-decoration-color: #7fbfbf\">                    </span>         kwargs                                                                                                                   <span style=\"color: #7f7f7f; text-decoration-color: #7f7f7f\">                      </span>\n",
       "<span style=\"color: #7fbfbf; text-decoration-color: #7fbfbf\">                    </span>           c - <span style=\"color: #008080; text-decoration-color: #008080; font-weight: bold\">10</span> <span style=\"font-weight: bold\">(</span>🏷️ int<span style=\"font-weight: bold\">)</span>                                                                                                         <span style=\"color: #7f7f7f; text-decoration-color: #7f7f7f\">                      </span>\n",
       "<span style=\"color: #7fbfbf; text-decoration-color: #7fbfbf\">                    </span>                                                                                                                                  <span style=\"color: #7f7f7f; text-decoration-color: #7f7f7f\">                      </span>\n",
       "<span style=\"color: #7fbfbf; text-decoration-color: #7fbfbf\">                    </span>         ZeroDivisionError: division by zero                                                                                      <span style=\"color: #7f7f7f; text-decoration-color: #7f7f7f\">                      </span>\n",
       "<span style=\"color: #7fbfbf; text-decoration-color: #7fbfbf\">                    </span>         Traceback <span style=\"font-weight: bold\">(</span>most recent call last<span style=\"font-weight: bold\">)</span>:                                                                                       <span style=\"color: #7f7f7f; text-decoration-color: #7f7f7f\">                      </span>\n",
       "<span style=\"color: #7fbfbf; text-decoration-color: #7fbfbf\">                    </span>                                                                                                                                  <span style=\"color: #7f7f7f; text-decoration-color: #7f7f7f\">                      </span>\n",
       "<span style=\"color: #7fbfbf; text-decoration-color: #7fbfbf\">                    </span>           File <span style=\"color: #008000; text-decoration-color: #008000\">\"/var/folders/1_/71dqv9vx2750gmyz77q_f45w0000gn/T/ipykernel_45033/1057038067.py\"</span>, line <span style=\"color: #008080; text-decoration-color: #008080; font-weight: bold\">21</span>, in inner               <span style=\"color: #7f7f7f; text-decoration-color: #7f7f7f\">                      </span>\n",
       "<span style=\"color: #7fbfbf; text-decoration-color: #7fbfbf\">                    </span>             return <span style=\"color: #800080; text-decoration-color: #800080; font-weight: bold\">f</span><span style=\"font-weight: bold\">(</span>*args, **kwargs<span style=\"font-weight: bold\">)</span>                                                                                            <span style=\"color: #7f7f7f; text-decoration-color: #7f7f7f\">                      </span>\n",
       "<span style=\"color: #7fbfbf; text-decoration-color: #7fbfbf\">                    </span>                    |  |       -&gt; <span style=\"font-weight: bold\">{</span><span style=\"color: #008000; text-decoration-color: #008000\">'c'</span>: <span style=\"color: #008080; text-decoration-color: #008080; font-weight: bold\">10</span><span style=\"font-weight: bold\">}</span>                                                                                       <span style=\"color: #7f7f7f; text-decoration-color: #7f7f7f\">                      </span>\n",
       "<span style=\"color: #7fbfbf; text-decoration-color: #7fbfbf\">                    </span>                    |  -&gt; <span style=\"font-weight: bold\">(</span><span style=\"color: #008080; text-decoration-color: #008080; font-weight: bold\">1</span>, <span style=\"color: #008080; text-decoration-color: #008080; font-weight: bold\">2</span><span style=\"font-weight: bold\">)</span>                                                                                                  <span style=\"color: #7f7f7f; text-decoration-color: #7f7f7f\">                      </span>\n",
       "<span style=\"color: #7fbfbf; text-decoration-color: #7fbfbf\">                    </span>                    -&gt; <span style=\"font-weight: bold\">&lt;</span><span style=\"color: #ff00ff; text-decoration-color: #ff00ff; font-weight: bold\">function</span><span style=\"color: #000000; text-decoration-color: #000000\"> do at </span><span style=\"color: #008080; text-decoration-color: #008080; font-weight: bold\">0x11ecdd800</span><span style=\"font-weight: bold\">&gt;</span>                                                                               <span style=\"color: #7f7f7f; text-decoration-color: #7f7f7f\">                      </span>\n",
       "<span style=\"color: #7fbfbf; text-decoration-color: #7fbfbf\">                    </span>                                                                                                                                  <span style=\"color: #7f7f7f; text-decoration-color: #7f7f7f\">                      </span>\n",
       "<span style=\"color: #7fbfbf; text-decoration-color: #7fbfbf\">                    </span>           File <span style=\"color: #008000; text-decoration-color: #008000\">\"/var/folders/1_/71dqv9vx2750gmyz77q_f45w0000gn/T/ipykernel_45033/884313129.py\"</span>, line <span style=\"color: #008080; text-decoration-color: #008080; font-weight: bold\">3</span>, in do                    <span style=\"color: #7f7f7f; text-decoration-color: #7f7f7f\">                      </span>\n",
       "<span style=\"color: #7fbfbf; text-decoration-color: #7fbfbf\">                    </span>             return <span style=\"color: #008080; text-decoration-color: #008080; font-weight: bold\">1</span> <span style=\"color: #800080; text-decoration-color: #800080\">/</span> <span style=\"color: #008080; text-decoration-color: #008080; font-weight: bold\">0</span>                                                                                                         <span style=\"color: #7f7f7f; text-decoration-color: #7f7f7f\">                      </span>\n",
       "<span style=\"color: #7fbfbf; text-decoration-color: #7fbfbf\">                    </span>                                                                                                                                  <span style=\"color: #7f7f7f; text-decoration-color: #7f7f7f\">                      </span>\n",
       "<span style=\"color: #7fbfbf; text-decoration-color: #7fbfbf\">                    </span>         ZeroDivisionError: division by zero                                                                                      <span style=\"color: #7f7f7f; text-decoration-color: #7f7f7f\">                      </span>\n",
       "<span style=\"color: #7fbfbf; text-decoration-color: #7fbfbf\">                    </span>                                                                                                                                  <span style=\"color: #7f7f7f; text-decoration-color: #7f7f7f\">                      </span>\n",
       "<span style=\"color: #7fbfbf; text-decoration-color: #7fbfbf\">                    </span>         <span style=\"color: #800000; text-decoration-color: #800000\">╭───────────────────────────────────────── </span><span style=\"color: #800000; text-decoration-color: #800000; font-weight: bold\">Traceback </span><span style=\"color: #bf7f7f; text-decoration-color: #bf7f7f; font-weight: bold\">(most recent call last)</span><span style=\"color: #800000; text-decoration-color: #800000\"> ──────────────────────────────────────────╮</span> <span style=\"color: #7f7f7f; text-decoration-color: #7f7f7f\">                      </span>\n",
       "<span style=\"color: #7fbfbf; text-decoration-color: #7fbfbf\">                    </span>         <span style=\"color: #800000; text-decoration-color: #800000\">│</span> in <span style=\"color: #00ff00; text-decoration-color: #00ff00\">inner</span>:<span style=\"color: #0000ff; text-decoration-color: #0000ff\">21</span>                                                                                                          <span style=\"color: #800000; text-decoration-color: #800000\">│</span> <span style=\"color: #7f7f7f; text-decoration-color: #7f7f7f\">                      </span>\n",
       "<span style=\"color: #7fbfbf; text-decoration-color: #7fbfbf\">                    </span>         <span style=\"color: #800000; text-decoration-color: #800000\">│</span>                                                                                                                      <span style=\"color: #800000; text-decoration-color: #800000\">│</span> <span style=\"color: #7f7f7f; text-decoration-color: #7f7f7f\">                      </span>\n",
       "<span style=\"color: #7fbfbf; text-decoration-color: #7fbfbf\">                    </span>         <span style=\"color: #800000; text-decoration-color: #800000\">│</span>   <span style=\"color: #7f7f7f; text-decoration-color: #7f7f7f\">18 </span><span style=\"color: #7f7f7f; text-decoration-color: #7f7f7f\">│   │   </span>                                                                                                        <span style=\"color: #800000; text-decoration-color: #800000\">│</span> <span style=\"color: #7f7f7f; text-decoration-color: #7f7f7f\">                      </span>\n",
       "<span style=\"color: #7fbfbf; text-decoration-color: #7fbfbf\">                    </span>         <span style=\"color: #800000; text-decoration-color: #800000\">│</span>   <span style=\"color: #7f7f7f; text-decoration-color: #7f7f7f\">19 </span><span style=\"color: #7f7f7f; text-decoration-color: #7f7f7f\">│   │   </span><span style=\"color: #0000ff; text-decoration-color: #0000ff\">def</span> <span style=\"color: #00ff00; text-decoration-color: #00ff00\">inner</span>(*args, **kwargs):                                                                             <span style=\"color: #800000; text-decoration-color: #800000\">│</span> <span style=\"color: #7f7f7f; text-decoration-color: #7f7f7f\">                      </span>\n",
       "<span style=\"color: #7fbfbf; text-decoration-color: #7fbfbf\">                    </span>         <span style=\"color: #800000; text-decoration-color: #800000\">│</span>   <span style=\"color: #7f7f7f; text-decoration-color: #7f7f7f\">20 </span><span style=\"color: #7f7f7f; text-decoration-color: #7f7f7f\">│   │   │   </span><span style=\"color: #0000ff; text-decoration-color: #0000ff\">try</span>:                                                                                                <span style=\"color: #800000; text-decoration-color: #800000\">│</span> <span style=\"color: #7f7f7f; text-decoration-color: #7f7f7f\">                      </span>\n",
       "<span style=\"color: #7fbfbf; text-decoration-color: #7fbfbf\">                    </span>         <span style=\"color: #800000; text-decoration-color: #800000\">│</span> <span style=\"color: #800000; text-decoration-color: #800000\">❱ </span>21 <span style=\"color: #7f7f7f; text-decoration-color: #7f7f7f\">│   │   │   │   </span><span style=\"color: #0000ff; text-decoration-color: #0000ff\">return</span> f(*args, **kwargs)                                                                       <span style=\"color: #800000; text-decoration-color: #800000\">│</span> <span style=\"color: #7f7f7f; text-decoration-color: #7f7f7f\">                      </span>\n",
       "<span style=\"color: #7fbfbf; text-decoration-color: #7fbfbf\">                    </span>         <span style=\"color: #800000; text-decoration-color: #800000\">│</span>   <span style=\"color: #7f7f7f; text-decoration-color: #7f7f7f\">22 </span><span style=\"color: #7f7f7f; text-decoration-color: #7f7f7f\">│   │   │   </span><span style=\"color: #0000ff; text-decoration-color: #0000ff\">except</span> <span style=\"color: #00ffff; text-decoration-color: #00ffff\">Exception</span> <span style=\"color: #0000ff; text-decoration-color: #0000ff\">as</span> e:                                                                              <span style=\"color: #800000; text-decoration-color: #800000\">│</span> <span style=\"color: #7f7f7f; text-decoration-color: #7f7f7f\">                      </span>\n",
       "<span style=\"color: #7fbfbf; text-decoration-color: #7fbfbf\">                    </span>         <span style=\"color: #800000; text-decoration-color: #800000\">│</span>   <span style=\"color: #7f7f7f; text-decoration-color: #7f7f7f\">23 </span><span style=\"color: #7f7f7f; text-decoration-color: #7f7f7f\">│   │   │   │   </span><span style=\"color: #0000ff; text-decoration-color: #0000ff\">if</span> <span style=\"color: #ff00ff; text-decoration-color: #ff00ff\">not</span> print_traceback:                                                                         <span style=\"color: #800000; text-decoration-color: #800000\">│</span> <span style=\"color: #7f7f7f; text-decoration-color: #7f7f7f\">                      </span>\n",
       "<span style=\"color: #7fbfbf; text-decoration-color: #7fbfbf\">                    </span>         <span style=\"color: #800000; text-decoration-color: #800000\">│</span>   <span style=\"color: #7f7f7f; text-decoration-color: #7f7f7f\">24 </span><span style=\"color: #7f7f7f; text-decoration-color: #7f7f7f\">│   │   │   │   │   </span>tb = <span style=\"color: #808000; text-decoration-color: #808000\">f\"{</span><span style=\"color: #00ffff; text-decoration-color: #00ffff\">type</span>(e).<span style=\"color: #ff0000; text-decoration-color: #ff0000\">__name__</span><span style=\"color: #808000; text-decoration-color: #808000\">}: {</span><span style=\"color: #00ffff; text-decoration-color: #00ffff\">str</span>(e)<span style=\"color: #808000; text-decoration-color: #808000\">}\"</span>                                                        <span style=\"color: #800000; text-decoration-color: #800000\">│</span> <span style=\"color: #7f7f7f; text-decoration-color: #7f7f7f\">                      </span>\n",
       "<span style=\"color: #7fbfbf; text-decoration-color: #7fbfbf\">                    </span>         <span style=\"color: #800000; text-decoration-color: #800000\">│</span>                                                                                                                      <span style=\"color: #800000; text-decoration-color: #800000\">│</span> <span style=\"color: #7f7f7f; text-decoration-color: #7f7f7f\">                      </span>\n",
       "<span style=\"color: #7fbfbf; text-decoration-color: #7fbfbf\">                    </span>         <span style=\"color: #800000; text-decoration-color: #800000\">│</span> in <span style=\"color: #00ff00; text-decoration-color: #00ff00\">do</span>:<span style=\"color: #0000ff; text-decoration-color: #0000ff\">3</span>                                                                                                              <span style=\"color: #800000; text-decoration-color: #800000\">│</span> <span style=\"color: #7f7f7f; text-decoration-color: #7f7f7f\">                      </span>\n",
       "<span style=\"color: #7fbfbf; text-decoration-color: #7fbfbf\">                    </span>         <span style=\"color: #800000; text-decoration-color: #800000\">│</span>                                                                                                                      <span style=\"color: #800000; text-decoration-color: #800000\">│</span> <span style=\"color: #7f7f7f; text-decoration-color: #7f7f7f\">                      </span>\n",
       "<span style=\"color: #7fbfbf; text-decoration-color: #7fbfbf\">                    </span>         <span style=\"color: #800000; text-decoration-color: #800000\">│</span>   <span style=\"color: #7f7f7f; text-decoration-color: #7f7f7f\">1 </span><span style=\"color: #ff00ff; text-decoration-color: #ff00ff; font-weight: bold\">@tryy</span>                                                                                                            <span style=\"color: #800000; text-decoration-color: #800000\">│</span> <span style=\"color: #7f7f7f; text-decoration-color: #7f7f7f\">                      </span>\n",
       "<span style=\"color: #7fbfbf; text-decoration-color: #7fbfbf\">                    </span>         <span style=\"color: #800000; text-decoration-color: #800000\">│</span>   <span style=\"color: #7f7f7f; text-decoration-color: #7f7f7f\">2 </span><span style=\"color: #0000ff; text-decoration-color: #0000ff\">def</span> <span style=\"color: #00ff00; text-decoration-color: #00ff00\">do</span>(a, b, c):                                                                                                 <span style=\"color: #800000; text-decoration-color: #800000\">│</span> <span style=\"color: #7f7f7f; text-decoration-color: #7f7f7f\">                      </span>\n",
       "<span style=\"color: #7fbfbf; text-decoration-color: #7fbfbf\">                    </span>         <span style=\"color: #800000; text-decoration-color: #800000\">│</span> <span style=\"color: #800000; text-decoration-color: #800000\">❱ </span>3 <span style=\"color: #7f7f7f; text-decoration-color: #7f7f7f\">│   </span><span style=\"color: #0000ff; text-decoration-color: #0000ff\">return</span> <span style=\"color: #0000ff; text-decoration-color: #0000ff\">1</span> / <span style=\"color: #0000ff; text-decoration-color: #0000ff\">0</span>                                                                                                 <span style=\"color: #800000; text-decoration-color: #800000\">│</span> <span style=\"color: #7f7f7f; text-decoration-color: #7f7f7f\">                      </span>\n",
       "<span style=\"color: #7fbfbf; text-decoration-color: #7fbfbf\">                    </span>         <span style=\"color: #800000; text-decoration-color: #800000\">│</span>   <span style=\"color: #7f7f7f; text-decoration-color: #7f7f7f\">4 </span>                                                                                                                 <span style=\"color: #800000; text-decoration-color: #800000\">│</span> <span style=\"color: #7f7f7f; text-decoration-color: #7f7f7f\">                      </span>\n",
       "<span style=\"color: #7fbfbf; text-decoration-color: #7fbfbf\">                    </span>         <span style=\"color: #800000; text-decoration-color: #800000\">│</span>   <span style=\"color: #7f7f7f; text-decoration-color: #7f7f7f\">5 </span>                                                                                                                 <span style=\"color: #800000; text-decoration-color: #800000\">│</span> <span style=\"color: #7f7f7f; text-decoration-color: #7f7f7f\">                      </span>\n",
       "<span style=\"color: #7fbfbf; text-decoration-color: #7fbfbf\">                    </span>         <span style=\"color: #800000; text-decoration-color: #800000\">│</span>   <span style=\"color: #7f7f7f; text-decoration-color: #7f7f7f\">6 </span>x = do(<span style=\"color: #0000ff; text-decoration-color: #0000ff\">1</span>, <span style=\"color: #0000ff; text-decoration-color: #0000ff\">2</span>, c=<span style=\"color: #0000ff; text-decoration-color: #0000ff\">10</span>)                                                                                               <span style=\"color: #800000; text-decoration-color: #800000\">│</span> <span style=\"color: #7f7f7f; text-decoration-color: #7f7f7f\">                      </span>\n",
       "<span style=\"color: #7fbfbf; text-decoration-color: #7fbfbf\">                    </span>         <span style=\"color: #800000; text-decoration-color: #800000\">╰──────────────────────────────────────────────────────────────────────────────────────────────────────────────────────╯</span> <span style=\"color: #7f7f7f; text-decoration-color: #7f7f7f\">                      </span>\n",
       "<span style=\"color: #7fbfbf; text-decoration-color: #7fbfbf\">                    </span>         <span style=\"color: #ff0000; text-decoration-color: #ff0000; font-weight: bold\">ZeroDivisionError: </span>division by zero                                                                                      <span style=\"color: #7f7f7f; text-decoration-color: #7f7f7f\">                      </span>\n",
       "</pre>\n"
      ],
      "text/plain": [
       "\u001b[2;36m[08/24/24 12:46:28]\u001b[0m\u001b[2;36m \u001b[0m\u001b[1;31mERROR   \u001b[0m Error for `do` with                                                                                                      \u001b]8;id=587310;file:///var/folders/1_/71dqv9vx2750gmyz77q_f45w0000gn/T/ipykernel_45033/1057038067.py:30\u001b\\\u001b[2m1057038067.py\u001b[0m\u001b]8;;\u001b\\\u001b[2m:\u001b[0m\u001b]8;id=712505;file:///var/folders/1_/71dqv9vx2750gmyz77q_f45w0000gn/T/ipykernel_45033/1057038067.py:30#inner:30\u001b\\\u001b[2minner:30\u001b[0m\u001b]8;;\u001b\\\n",
       "\u001b[2;36m                    \u001b[0m         \u001b[1;35margs\u001b[0m\u001b[1m(\u001b[0m\u001b[1m)\u001b[0m                                                                                                                   \u001b[2m                      \u001b[0m\n",
       "\u001b[2;36m                    \u001b[0m           \u001b[1;36m0\u001b[0m - \u001b[1;36m1\u001b[0m \u001b[1m(\u001b[0m🏷️ int\u001b[1m)\u001b[0m                                                                                                          \u001b[2m                      \u001b[0m\n",
       "\u001b[2;36m                    \u001b[0m           \u001b[1;36m1\u001b[0m - \u001b[1;36m2\u001b[0m \u001b[1m(\u001b[0m🏷️ int\u001b[1m)\u001b[0m                                                                                                          \u001b[2m                      \u001b[0m\n",
       "\u001b[2;36m                    \u001b[0m         kwargs                                                                                                                   \u001b[2m                      \u001b[0m\n",
       "\u001b[2;36m                    \u001b[0m           c - \u001b[1;36m10\u001b[0m \u001b[1m(\u001b[0m🏷️ int\u001b[1m)\u001b[0m                                                                                                         \u001b[2m                      \u001b[0m\n",
       "\u001b[2;36m                    \u001b[0m                                                                                                                                  \u001b[2m                      \u001b[0m\n",
       "\u001b[2;36m                    \u001b[0m         ZeroDivisionError: division by zero                                                                                      \u001b[2m                      \u001b[0m\n",
       "\u001b[2;36m                    \u001b[0m         Traceback \u001b[1m(\u001b[0mmost recent call last\u001b[1m)\u001b[0m:                                                                                       \u001b[2m                      \u001b[0m\n",
       "\u001b[2;36m                    \u001b[0m                                                                                                                                  \u001b[2m                      \u001b[0m\n",
       "\u001b[2;36m                    \u001b[0m           File \u001b[32m\"/var/folders/1_/71dqv9vx2750gmyz77q_f45w0000gn/T/ipykernel_45033/1057038067.py\"\u001b[0m, line \u001b[1;36m21\u001b[0m, in inner               \u001b[2m                      \u001b[0m\n",
       "\u001b[2;36m                    \u001b[0m             return \u001b[1;35mf\u001b[0m\u001b[1m(\u001b[0m*args, **kwargs\u001b[1m)\u001b[0m                                                                                            \u001b[2m                      \u001b[0m\n",
       "\u001b[2;36m                    \u001b[0m                    |  |       -> \u001b[1m{\u001b[0m\u001b[32m'c'\u001b[0m: \u001b[1;36m10\u001b[0m\u001b[1m}\u001b[0m                                                                                       \u001b[2m                      \u001b[0m\n",
       "\u001b[2;36m                    \u001b[0m                    |  -> \u001b[1m(\u001b[0m\u001b[1;36m1\u001b[0m, \u001b[1;36m2\u001b[0m\u001b[1m)\u001b[0m                                                                                                  \u001b[2m                      \u001b[0m\n",
       "\u001b[2;36m                    \u001b[0m                    -> \u001b[1m<\u001b[0m\u001b[1;95mfunction\u001b[0m\u001b[39m do at \u001b[0m\u001b[1;36m0x11ecdd800\u001b[0m\u001b[1m>\u001b[0m                                                                               \u001b[2m                      \u001b[0m\n",
       "\u001b[2;36m                    \u001b[0m                                                                                                                                  \u001b[2m                      \u001b[0m\n",
       "\u001b[2;36m                    \u001b[0m           File \u001b[32m\"/var/folders/1_/71dqv9vx2750gmyz77q_f45w0000gn/T/ipykernel_45033/884313129.py\"\u001b[0m, line \u001b[1;36m3\u001b[0m, in do                    \u001b[2m                      \u001b[0m\n",
       "\u001b[2;36m                    \u001b[0m             return \u001b[1;36m1\u001b[0m \u001b[35m/\u001b[0m \u001b[1;36m0\u001b[0m                                                                                                         \u001b[2m                      \u001b[0m\n",
       "\u001b[2;36m                    \u001b[0m                                                                                                                                  \u001b[2m                      \u001b[0m\n",
       "\u001b[2;36m                    \u001b[0m         ZeroDivisionError: division by zero                                                                                      \u001b[2m                      \u001b[0m\n",
       "\u001b[2;36m                    \u001b[0m                                                                                                                                  \u001b[2m                      \u001b[0m\n",
       "\u001b[2;36m                    \u001b[0m         \u001b[31m╭─\u001b[0m\u001b[31m────────────────────────────────────────\u001b[0m\u001b[31m \u001b[0m\u001b[1;31mTraceback \u001b[0m\u001b[1;2;31m(most recent call last)\u001b[0m\u001b[31m \u001b[0m\u001b[31m─────────────────────────────────────────\u001b[0m\u001b[31m─╮\u001b[0m \u001b[2m                      \u001b[0m\n",
       "\u001b[2;36m                    \u001b[0m         \u001b[31m│\u001b[0m in \u001b[92minner\u001b[0m:\u001b[94m21\u001b[0m                                                                                                          \u001b[31m│\u001b[0m \u001b[2m                      \u001b[0m\n",
       "\u001b[2;36m                    \u001b[0m         \u001b[31m│\u001b[0m                                                                                                                      \u001b[31m│\u001b[0m \u001b[2m                      \u001b[0m\n",
       "\u001b[2;36m                    \u001b[0m         \u001b[31m│\u001b[0m   \u001b[2m18 \u001b[0m\u001b[2m│   │   \u001b[0m                                                                                                        \u001b[31m│\u001b[0m \u001b[2m                      \u001b[0m\n",
       "\u001b[2;36m                    \u001b[0m         \u001b[31m│\u001b[0m   \u001b[2m19 \u001b[0m\u001b[2m│   │   \u001b[0m\u001b[94mdef\u001b[0m \u001b[92minner\u001b[0m(*args, **kwargs):                                                                             \u001b[31m│\u001b[0m \u001b[2m                      \u001b[0m\n",
       "\u001b[2;36m                    \u001b[0m         \u001b[31m│\u001b[0m   \u001b[2m20 \u001b[0m\u001b[2m│   │   │   \u001b[0m\u001b[94mtry\u001b[0m:                                                                                                \u001b[31m│\u001b[0m \u001b[2m                      \u001b[0m\n",
       "\u001b[2;36m                    \u001b[0m         \u001b[31m│\u001b[0m \u001b[31m❱ \u001b[0m21 \u001b[2m│   │   │   │   \u001b[0m\u001b[94mreturn\u001b[0m f(*args, **kwargs)                                                                       \u001b[31m│\u001b[0m \u001b[2m                      \u001b[0m\n",
       "\u001b[2;36m                    \u001b[0m         \u001b[31m│\u001b[0m   \u001b[2m22 \u001b[0m\u001b[2m│   │   │   \u001b[0m\u001b[94mexcept\u001b[0m \u001b[96mException\u001b[0m \u001b[94mas\u001b[0m e:                                                                              \u001b[31m│\u001b[0m \u001b[2m                      \u001b[0m\n",
       "\u001b[2;36m                    \u001b[0m         \u001b[31m│\u001b[0m   \u001b[2m23 \u001b[0m\u001b[2m│   │   │   │   \u001b[0m\u001b[94mif\u001b[0m \u001b[95mnot\u001b[0m print_traceback:                                                                         \u001b[31m│\u001b[0m \u001b[2m                      \u001b[0m\n",
       "\u001b[2;36m                    \u001b[0m         \u001b[31m│\u001b[0m   \u001b[2m24 \u001b[0m\u001b[2m│   │   │   │   │   \u001b[0mtb = \u001b[33mf\u001b[0m\u001b[33m\"\u001b[0m\u001b[33m{\u001b[0m\u001b[96mtype\u001b[0m(e).\u001b[91m__name__\u001b[0m\u001b[33m}\u001b[0m\u001b[33m: \u001b[0m\u001b[33m{\u001b[0m\u001b[96mstr\u001b[0m(e)\u001b[33m}\u001b[0m\u001b[33m\"\u001b[0m                                                        \u001b[31m│\u001b[0m \u001b[2m                      \u001b[0m\n",
       "\u001b[2;36m                    \u001b[0m         \u001b[31m│\u001b[0m                                                                                                                      \u001b[31m│\u001b[0m \u001b[2m                      \u001b[0m\n",
       "\u001b[2;36m                    \u001b[0m         \u001b[31m│\u001b[0m in \u001b[92mdo\u001b[0m:\u001b[94m3\u001b[0m                                                                                                              \u001b[31m│\u001b[0m \u001b[2m                      \u001b[0m\n",
       "\u001b[2;36m                    \u001b[0m         \u001b[31m│\u001b[0m                                                                                                                      \u001b[31m│\u001b[0m \u001b[2m                      \u001b[0m\n",
       "\u001b[2;36m                    \u001b[0m         \u001b[31m│\u001b[0m   \u001b[2m1 \u001b[0m\u001b[1;95m@tryy\u001b[0m                                                                                                            \u001b[31m│\u001b[0m \u001b[2m                      \u001b[0m\n",
       "\u001b[2;36m                    \u001b[0m         \u001b[31m│\u001b[0m   \u001b[2m2 \u001b[0m\u001b[94mdef\u001b[0m \u001b[92mdo\u001b[0m(a, b, c):                                                                                                 \u001b[31m│\u001b[0m \u001b[2m                      \u001b[0m\n",
       "\u001b[2;36m                    \u001b[0m         \u001b[31m│\u001b[0m \u001b[31m❱ \u001b[0m3 \u001b[2m│   \u001b[0m\u001b[94mreturn\u001b[0m \u001b[94m1\u001b[0m / \u001b[94m0\u001b[0m                                                                                                 \u001b[31m│\u001b[0m \u001b[2m                      \u001b[0m\n",
       "\u001b[2;36m                    \u001b[0m         \u001b[31m│\u001b[0m   \u001b[2m4 \u001b[0m                                                                                                                 \u001b[31m│\u001b[0m \u001b[2m                      \u001b[0m\n",
       "\u001b[2;36m                    \u001b[0m         \u001b[31m│\u001b[0m   \u001b[2m5 \u001b[0m                                                                                                                 \u001b[31m│\u001b[0m \u001b[2m                      \u001b[0m\n",
       "\u001b[2;36m                    \u001b[0m         \u001b[31m│\u001b[0m   \u001b[2m6 \u001b[0mx = do(\u001b[94m1\u001b[0m, \u001b[94m2\u001b[0m, c=\u001b[94m10\u001b[0m)                                                                                               \u001b[31m│\u001b[0m \u001b[2m                      \u001b[0m\n",
       "\u001b[2;36m                    \u001b[0m         \u001b[31m╰──────────────────────────────────────────────────────────────────────────────────────────────────────────────────────╯\u001b[0m \u001b[2m                      \u001b[0m\n",
       "\u001b[2;36m                    \u001b[0m         \u001b[1;91mZeroDivisionError: \u001b[0mdivision by zero                                                                                      \u001b[2m                      \u001b[0m\n"
      ]
     },
     "metadata": {},
     "output_type": "display_data"
    }
   ],
   "source": [
    "@tryy\n",
    "def do(a, b, c):\n",
    "    return 1 / 0\n",
    "\n",
    "\n",
    "x = do(1, 2, c=10)\n",
    "assert x is None  # tryy returns None by default"
   ]
  },
  {
   "cell_type": "markdown",
   "metadata": {},
   "source": [
    "Use your own default on failure"
   ]
  },
  {
   "cell_type": "code",
   "execution_count": 13,
   "metadata": {},
   "outputs": [
    {
     "data": {
      "text/html": [
       "<pre style=\"white-space:pre;overflow-x:auto;line-height:normal;font-family:Menlo,'DejaVu Sans Mono',consolas,'Courier New',monospace\"><span style=\"color: #7fbfbf; text-decoration-color: #7fbfbf\">                    </span><span style=\"color: #800000; text-decoration-color: #800000; font-weight: bold\">ERROR   </span> Error for `do` with                                                                                                      <a href=\"file:///var/folders/1_/71dqv9vx2750gmyz77q_f45w0000gn/T/ipykernel_45033/1057038067.py:30\" target=\"_blank\"><span style=\"color: #7f7f7f; text-decoration-color: #7f7f7f\">1057038067.py</span></a><span style=\"color: #7f7f7f; text-decoration-color: #7f7f7f\">:</span><a href=\"file:///var/folders/1_/71dqv9vx2750gmyz77q_f45w0000gn/T/ipykernel_45033/1057038067.py:30#inner:30\" target=\"_blank\"><span style=\"color: #7f7f7f; text-decoration-color: #7f7f7f\">inner:30</span></a>\n",
       "<span style=\"color: #7fbfbf; text-decoration-color: #7fbfbf\">                    </span>         <span style=\"color: #800080; text-decoration-color: #800080; font-weight: bold\">args</span><span style=\"font-weight: bold\">()</span>                                                                                                                   <span style=\"color: #7f7f7f; text-decoration-color: #7f7f7f\">                      </span>\n",
       "<span style=\"color: #7fbfbf; text-decoration-color: #7fbfbf\">                    </span>           <span style=\"color: #008080; text-decoration-color: #008080; font-weight: bold\">0</span> - <span style=\"color: #008080; text-decoration-color: #008080; font-weight: bold\">1</span> <span style=\"font-weight: bold\">(</span>🏷️ int<span style=\"font-weight: bold\">)</span>                                                                                                          <span style=\"color: #7f7f7f; text-decoration-color: #7f7f7f\">                      </span>\n",
       "<span style=\"color: #7fbfbf; text-decoration-color: #7fbfbf\">                    </span>           <span style=\"color: #008080; text-decoration-color: #008080; font-weight: bold\">1</span> - <span style=\"color: #008080; text-decoration-color: #008080; font-weight: bold\">2</span> <span style=\"font-weight: bold\">(</span>🏷️ int<span style=\"font-weight: bold\">)</span>                                                                                                          <span style=\"color: #7f7f7f; text-decoration-color: #7f7f7f\">                      </span>\n",
       "<span style=\"color: #7fbfbf; text-decoration-color: #7fbfbf\">                    </span>         kwargs                                                                                                                   <span style=\"color: #7f7f7f; text-decoration-color: #7f7f7f\">                      </span>\n",
       "<span style=\"color: #7fbfbf; text-decoration-color: #7fbfbf\">                    </span>           c - <span style=\"color: #008080; text-decoration-color: #008080; font-weight: bold\">10</span> <span style=\"font-weight: bold\">(</span>🏷️ int<span style=\"font-weight: bold\">)</span>                                                                                                         <span style=\"color: #7f7f7f; text-decoration-color: #7f7f7f\">                      </span>\n",
       "<span style=\"color: #7fbfbf; text-decoration-color: #7fbfbf\">                    </span>                                                                                                                                  <span style=\"color: #7f7f7f; text-decoration-color: #7f7f7f\">                      </span>\n",
       "<span style=\"color: #7fbfbf; text-decoration-color: #7fbfbf\">                    </span>         ZeroDivisionError: division by zero                                                                                      <span style=\"color: #7f7f7f; text-decoration-color: #7f7f7f\">                      </span>\n",
       "<span style=\"color: #7fbfbf; text-decoration-color: #7fbfbf\">                    </span>         Traceback <span style=\"font-weight: bold\">(</span>most recent call last<span style=\"font-weight: bold\">)</span>:                                                                                       <span style=\"color: #7f7f7f; text-decoration-color: #7f7f7f\">                      </span>\n",
       "<span style=\"color: #7fbfbf; text-decoration-color: #7fbfbf\">                    </span>                                                                                                                                  <span style=\"color: #7f7f7f; text-decoration-color: #7f7f7f\">                      </span>\n",
       "<span style=\"color: #7fbfbf; text-decoration-color: #7fbfbf\">                    </span>           File <span style=\"color: #008000; text-decoration-color: #008000\">\"/var/folders/1_/71dqv9vx2750gmyz77q_f45w0000gn/T/ipykernel_45033/1057038067.py\"</span>, line <span style=\"color: #008080; text-decoration-color: #008080; font-weight: bold\">21</span>, in inner               <span style=\"color: #7f7f7f; text-decoration-color: #7f7f7f\">                      </span>\n",
       "<span style=\"color: #7fbfbf; text-decoration-color: #7fbfbf\">                    </span>             return <span style=\"color: #800080; text-decoration-color: #800080; font-weight: bold\">f</span><span style=\"font-weight: bold\">(</span>*args, **kwargs<span style=\"font-weight: bold\">)</span>                                                                                            <span style=\"color: #7f7f7f; text-decoration-color: #7f7f7f\">                      </span>\n",
       "<span style=\"color: #7fbfbf; text-decoration-color: #7fbfbf\">                    </span>                    |  |       -&gt; <span style=\"font-weight: bold\">{</span><span style=\"color: #008000; text-decoration-color: #008000\">'c'</span>: <span style=\"color: #008080; text-decoration-color: #008080; font-weight: bold\">10</span><span style=\"font-weight: bold\">}</span>                                                                                       <span style=\"color: #7f7f7f; text-decoration-color: #7f7f7f\">                      </span>\n",
       "<span style=\"color: #7fbfbf; text-decoration-color: #7fbfbf\">                    </span>                    |  -&gt; <span style=\"font-weight: bold\">(</span><span style=\"color: #008080; text-decoration-color: #008080; font-weight: bold\">1</span>, <span style=\"color: #008080; text-decoration-color: #008080; font-weight: bold\">2</span><span style=\"font-weight: bold\">)</span>                                                                                                  <span style=\"color: #7f7f7f; text-decoration-color: #7f7f7f\">                      </span>\n",
       "<span style=\"color: #7fbfbf; text-decoration-color: #7fbfbf\">                    </span>                    -&gt; <span style=\"font-weight: bold\">&lt;</span><span style=\"color: #ff00ff; text-decoration-color: #ff00ff; font-weight: bold\">function</span><span style=\"color: #000000; text-decoration-color: #000000\"> do at </span><span style=\"color: #008080; text-decoration-color: #008080; font-weight: bold\">0x11ecdeac0</span><span style=\"font-weight: bold\">&gt;</span>                                                                               <span style=\"color: #7f7f7f; text-decoration-color: #7f7f7f\">                      </span>\n",
       "<span style=\"color: #7fbfbf; text-decoration-color: #7fbfbf\">                    </span>                                                                                                                                  <span style=\"color: #7f7f7f; text-decoration-color: #7f7f7f\">                      </span>\n",
       "<span style=\"color: #7fbfbf; text-decoration-color: #7fbfbf\">                    </span>           File <span style=\"color: #008000; text-decoration-color: #008000\">\"/var/folders/1_/71dqv9vx2750gmyz77q_f45w0000gn/T/ipykernel_45033/3352784188.py\"</span>, line <span style=\"color: #008080; text-decoration-color: #008080; font-weight: bold\">3</span>, in do                   <span style=\"color: #7f7f7f; text-decoration-color: #7f7f7f\">                      </span>\n",
       "<span style=\"color: #7fbfbf; text-decoration-color: #7fbfbf\">                    </span>             return <span style=\"color: #008080; text-decoration-color: #008080; font-weight: bold\">1</span> <span style=\"color: #800080; text-decoration-color: #800080\">/</span> <span style=\"color: #008080; text-decoration-color: #008080; font-weight: bold\">0</span>                                                                                                         <span style=\"color: #7f7f7f; text-decoration-color: #7f7f7f\">                      </span>\n",
       "<span style=\"color: #7fbfbf; text-decoration-color: #7fbfbf\">                    </span>                                                                                                                                  <span style=\"color: #7f7f7f; text-decoration-color: #7f7f7f\">                      </span>\n",
       "<span style=\"color: #7fbfbf; text-decoration-color: #7fbfbf\">                    </span>         ZeroDivisionError: division by zero                                                                                      <span style=\"color: #7f7f7f; text-decoration-color: #7f7f7f\">                      </span>\n",
       "<span style=\"color: #7fbfbf; text-decoration-color: #7fbfbf\">                    </span>                                                                                                                                  <span style=\"color: #7f7f7f; text-decoration-color: #7f7f7f\">                      </span>\n",
       "<span style=\"color: #7fbfbf; text-decoration-color: #7fbfbf\">                    </span>         <span style=\"color: #800000; text-decoration-color: #800000\">╭───────────────────────────────────────── </span><span style=\"color: #800000; text-decoration-color: #800000; font-weight: bold\">Traceback </span><span style=\"color: #bf7f7f; text-decoration-color: #bf7f7f; font-weight: bold\">(most recent call last)</span><span style=\"color: #800000; text-decoration-color: #800000\"> ──────────────────────────────────────────╮</span> <span style=\"color: #7f7f7f; text-decoration-color: #7f7f7f\">                      </span>\n",
       "<span style=\"color: #7fbfbf; text-decoration-color: #7fbfbf\">                    </span>         <span style=\"color: #800000; text-decoration-color: #800000\">│</span> in <span style=\"color: #00ff00; text-decoration-color: #00ff00\">inner</span>:<span style=\"color: #0000ff; text-decoration-color: #0000ff\">21</span>                                                                                                          <span style=\"color: #800000; text-decoration-color: #800000\">│</span> <span style=\"color: #7f7f7f; text-decoration-color: #7f7f7f\">                      </span>\n",
       "<span style=\"color: #7fbfbf; text-decoration-color: #7fbfbf\">                    </span>         <span style=\"color: #800000; text-decoration-color: #800000\">│</span>                                                                                                                      <span style=\"color: #800000; text-decoration-color: #800000\">│</span> <span style=\"color: #7f7f7f; text-decoration-color: #7f7f7f\">                      </span>\n",
       "<span style=\"color: #7fbfbf; text-decoration-color: #7fbfbf\">                    </span>         <span style=\"color: #800000; text-decoration-color: #800000\">│</span>   <span style=\"color: #7f7f7f; text-decoration-color: #7f7f7f\">18 </span><span style=\"color: #7f7f7f; text-decoration-color: #7f7f7f\">│   │   </span>                                                                                                        <span style=\"color: #800000; text-decoration-color: #800000\">│</span> <span style=\"color: #7f7f7f; text-decoration-color: #7f7f7f\">                      </span>\n",
       "<span style=\"color: #7fbfbf; text-decoration-color: #7fbfbf\">                    </span>         <span style=\"color: #800000; text-decoration-color: #800000\">│</span>   <span style=\"color: #7f7f7f; text-decoration-color: #7f7f7f\">19 </span><span style=\"color: #7f7f7f; text-decoration-color: #7f7f7f\">│   │   </span><span style=\"color: #0000ff; text-decoration-color: #0000ff\">def</span> <span style=\"color: #00ff00; text-decoration-color: #00ff00\">inner</span>(*args, **kwargs):                                                                             <span style=\"color: #800000; text-decoration-color: #800000\">│</span> <span style=\"color: #7f7f7f; text-decoration-color: #7f7f7f\">                      </span>\n",
       "<span style=\"color: #7fbfbf; text-decoration-color: #7fbfbf\">                    </span>         <span style=\"color: #800000; text-decoration-color: #800000\">│</span>   <span style=\"color: #7f7f7f; text-decoration-color: #7f7f7f\">20 </span><span style=\"color: #7f7f7f; text-decoration-color: #7f7f7f\">│   │   │   </span><span style=\"color: #0000ff; text-decoration-color: #0000ff\">try</span>:                                                                                                <span style=\"color: #800000; text-decoration-color: #800000\">│</span> <span style=\"color: #7f7f7f; text-decoration-color: #7f7f7f\">                      </span>\n",
       "<span style=\"color: #7fbfbf; text-decoration-color: #7fbfbf\">                    </span>         <span style=\"color: #800000; text-decoration-color: #800000\">│</span> <span style=\"color: #800000; text-decoration-color: #800000\">❱ </span>21 <span style=\"color: #7f7f7f; text-decoration-color: #7f7f7f\">│   │   │   │   </span><span style=\"color: #0000ff; text-decoration-color: #0000ff\">return</span> f(*args, **kwargs)                                                                       <span style=\"color: #800000; text-decoration-color: #800000\">│</span> <span style=\"color: #7f7f7f; text-decoration-color: #7f7f7f\">                      </span>\n",
       "<span style=\"color: #7fbfbf; text-decoration-color: #7fbfbf\">                    </span>         <span style=\"color: #800000; text-decoration-color: #800000\">│</span>   <span style=\"color: #7f7f7f; text-decoration-color: #7f7f7f\">22 </span><span style=\"color: #7f7f7f; text-decoration-color: #7f7f7f\">│   │   │   </span><span style=\"color: #0000ff; text-decoration-color: #0000ff\">except</span> <span style=\"color: #00ffff; text-decoration-color: #00ffff\">Exception</span> <span style=\"color: #0000ff; text-decoration-color: #0000ff\">as</span> e:                                                                              <span style=\"color: #800000; text-decoration-color: #800000\">│</span> <span style=\"color: #7f7f7f; text-decoration-color: #7f7f7f\">                      </span>\n",
       "<span style=\"color: #7fbfbf; text-decoration-color: #7fbfbf\">                    </span>         <span style=\"color: #800000; text-decoration-color: #800000\">│</span>   <span style=\"color: #7f7f7f; text-decoration-color: #7f7f7f\">23 </span><span style=\"color: #7f7f7f; text-decoration-color: #7f7f7f\">│   │   │   │   </span><span style=\"color: #0000ff; text-decoration-color: #0000ff\">if</span> <span style=\"color: #ff00ff; text-decoration-color: #ff00ff\">not</span> print_traceback:                                                                         <span style=\"color: #800000; text-decoration-color: #800000\">│</span> <span style=\"color: #7f7f7f; text-decoration-color: #7f7f7f\">                      </span>\n",
       "<span style=\"color: #7fbfbf; text-decoration-color: #7fbfbf\">                    </span>         <span style=\"color: #800000; text-decoration-color: #800000\">│</span>   <span style=\"color: #7f7f7f; text-decoration-color: #7f7f7f\">24 </span><span style=\"color: #7f7f7f; text-decoration-color: #7f7f7f\">│   │   │   │   │   </span>tb = <span style=\"color: #808000; text-decoration-color: #808000\">f\"{</span><span style=\"color: #00ffff; text-decoration-color: #00ffff\">type</span>(e).<span style=\"color: #ff0000; text-decoration-color: #ff0000\">__name__</span><span style=\"color: #808000; text-decoration-color: #808000\">}: {</span><span style=\"color: #00ffff; text-decoration-color: #00ffff\">str</span>(e)<span style=\"color: #808000; text-decoration-color: #808000\">}\"</span>                                                        <span style=\"color: #800000; text-decoration-color: #800000\">│</span> <span style=\"color: #7f7f7f; text-decoration-color: #7f7f7f\">                      </span>\n",
       "<span style=\"color: #7fbfbf; text-decoration-color: #7fbfbf\">                    </span>         <span style=\"color: #800000; text-decoration-color: #800000\">│</span>                                                                                                                      <span style=\"color: #800000; text-decoration-color: #800000\">│</span> <span style=\"color: #7f7f7f; text-decoration-color: #7f7f7f\">                      </span>\n",
       "<span style=\"color: #7fbfbf; text-decoration-color: #7fbfbf\">                    </span>         <span style=\"color: #800000; text-decoration-color: #800000\">│</span> in <span style=\"color: #00ff00; text-decoration-color: #00ff00\">do</span>:<span style=\"color: #0000ff; text-decoration-color: #0000ff\">3</span>                                                                                                              <span style=\"color: #800000; text-decoration-color: #800000\">│</span> <span style=\"color: #7f7f7f; text-decoration-color: #7f7f7f\">                      </span>\n",
       "<span style=\"color: #7fbfbf; text-decoration-color: #7fbfbf\">                    </span>         <span style=\"color: #800000; text-decoration-color: #800000\">│</span>                                                                                                                      <span style=\"color: #800000; text-decoration-color: #800000\">│</span> <span style=\"color: #7f7f7f; text-decoration-color: #7f7f7f\">                      </span>\n",
       "<span style=\"color: #7fbfbf; text-decoration-color: #7fbfbf\">                    </span>         <span style=\"color: #800000; text-decoration-color: #800000\">│</span>   <span style=\"color: #7f7f7f; text-decoration-color: #7f7f7f\">1 </span><span style=\"color: #ff00ff; text-decoration-color: #ff00ff; font-weight: bold\">@tryy</span>(output_to_return_on_fail=<span style=\"color: #808000; text-decoration-color: #808000\">\"😔\"</span>)                                                                             <span style=\"color: #800000; text-decoration-color: #800000\">│</span> <span style=\"color: #7f7f7f; text-decoration-color: #7f7f7f\">                      </span>\n",
       "<span style=\"color: #7fbfbf; text-decoration-color: #7fbfbf\">                    </span>         <span style=\"color: #800000; text-decoration-color: #800000\">│</span>   <span style=\"color: #7f7f7f; text-decoration-color: #7f7f7f\">2 </span><span style=\"color: #0000ff; text-decoration-color: #0000ff\">def</span> <span style=\"color: #00ff00; text-decoration-color: #00ff00\">do</span>(a, b, c):                                                                                                 <span style=\"color: #800000; text-decoration-color: #800000\">│</span> <span style=\"color: #7f7f7f; text-decoration-color: #7f7f7f\">                      </span>\n",
       "<span style=\"color: #7fbfbf; text-decoration-color: #7fbfbf\">                    </span>         <span style=\"color: #800000; text-decoration-color: #800000\">│</span> <span style=\"color: #800000; text-decoration-color: #800000\">❱ </span>3 <span style=\"color: #7f7f7f; text-decoration-color: #7f7f7f\">│   </span><span style=\"color: #0000ff; text-decoration-color: #0000ff\">return</span> <span style=\"color: #0000ff; text-decoration-color: #0000ff\">1</span> / <span style=\"color: #0000ff; text-decoration-color: #0000ff\">0</span>                                                                                                 <span style=\"color: #800000; text-decoration-color: #800000\">│</span> <span style=\"color: #7f7f7f; text-decoration-color: #7f7f7f\">                      </span>\n",
       "<span style=\"color: #7fbfbf; text-decoration-color: #7fbfbf\">                    </span>         <span style=\"color: #800000; text-decoration-color: #800000\">│</span>   <span style=\"color: #7f7f7f; text-decoration-color: #7f7f7f\">4 </span>                                                                                                                 <span style=\"color: #800000; text-decoration-color: #800000\">│</span> <span style=\"color: #7f7f7f; text-decoration-color: #7f7f7f\">                      </span>\n",
       "<span style=\"color: #7fbfbf; text-decoration-color: #7fbfbf\">                    </span>         <span style=\"color: #800000; text-decoration-color: #800000\">│</span>   <span style=\"color: #7f7f7f; text-decoration-color: #7f7f7f\">5 </span>                                                                                                                 <span style=\"color: #800000; text-decoration-color: #800000\">│</span> <span style=\"color: #7f7f7f; text-decoration-color: #7f7f7f\">                      </span>\n",
       "<span style=\"color: #7fbfbf; text-decoration-color: #7fbfbf\">                    </span>         <span style=\"color: #800000; text-decoration-color: #800000\">│</span>   <span style=\"color: #7f7f7f; text-decoration-color: #7f7f7f\">6 </span>do(<span style=\"color: #0000ff; text-decoration-color: #0000ff\">1</span>, <span style=\"color: #0000ff; text-decoration-color: #0000ff\">2</span>, c=<span style=\"color: #0000ff; text-decoration-color: #0000ff\">10</span>)                                                                                                   <span style=\"color: #800000; text-decoration-color: #800000\">│</span> <span style=\"color: #7f7f7f; text-decoration-color: #7f7f7f\">                      </span>\n",
       "<span style=\"color: #7fbfbf; text-decoration-color: #7fbfbf\">                    </span>         <span style=\"color: #800000; text-decoration-color: #800000\">╰──────────────────────────────────────────────────────────────────────────────────────────────────────────────────────╯</span> <span style=\"color: #7f7f7f; text-decoration-color: #7f7f7f\">                      </span>\n",
       "<span style=\"color: #7fbfbf; text-decoration-color: #7fbfbf\">                    </span>         <span style=\"color: #ff0000; text-decoration-color: #ff0000; font-weight: bold\">ZeroDivisionError: </span>division by zero                                                                                      <span style=\"color: #7f7f7f; text-decoration-color: #7f7f7f\">                      </span>\n",
       "</pre>\n"
      ],
      "text/plain": [
       "\u001b[2;36m                   \u001b[0m\u001b[2;36m \u001b[0m\u001b[1;31mERROR   \u001b[0m Error for `do` with                                                                                                      \u001b]8;id=851622;file:///var/folders/1_/71dqv9vx2750gmyz77q_f45w0000gn/T/ipykernel_45033/1057038067.py:30\u001b\\\u001b[2m1057038067.py\u001b[0m\u001b]8;;\u001b\\\u001b[2m:\u001b[0m\u001b]8;id=487071;file:///var/folders/1_/71dqv9vx2750gmyz77q_f45w0000gn/T/ipykernel_45033/1057038067.py:30#inner:30\u001b\\\u001b[2minner:30\u001b[0m\u001b]8;;\u001b\\\n",
       "\u001b[2;36m                    \u001b[0m         \u001b[1;35margs\u001b[0m\u001b[1m(\u001b[0m\u001b[1m)\u001b[0m                                                                                                                   \u001b[2m                      \u001b[0m\n",
       "\u001b[2;36m                    \u001b[0m           \u001b[1;36m0\u001b[0m - \u001b[1;36m1\u001b[0m \u001b[1m(\u001b[0m🏷️ int\u001b[1m)\u001b[0m                                                                                                          \u001b[2m                      \u001b[0m\n",
       "\u001b[2;36m                    \u001b[0m           \u001b[1;36m1\u001b[0m - \u001b[1;36m2\u001b[0m \u001b[1m(\u001b[0m🏷️ int\u001b[1m)\u001b[0m                                                                                                          \u001b[2m                      \u001b[0m\n",
       "\u001b[2;36m                    \u001b[0m         kwargs                                                                                                                   \u001b[2m                      \u001b[0m\n",
       "\u001b[2;36m                    \u001b[0m           c - \u001b[1;36m10\u001b[0m \u001b[1m(\u001b[0m🏷️ int\u001b[1m)\u001b[0m                                                                                                         \u001b[2m                      \u001b[0m\n",
       "\u001b[2;36m                    \u001b[0m                                                                                                                                  \u001b[2m                      \u001b[0m\n",
       "\u001b[2;36m                    \u001b[0m         ZeroDivisionError: division by zero                                                                                      \u001b[2m                      \u001b[0m\n",
       "\u001b[2;36m                    \u001b[0m         Traceback \u001b[1m(\u001b[0mmost recent call last\u001b[1m)\u001b[0m:                                                                                       \u001b[2m                      \u001b[0m\n",
       "\u001b[2;36m                    \u001b[0m                                                                                                                                  \u001b[2m                      \u001b[0m\n",
       "\u001b[2;36m                    \u001b[0m           File \u001b[32m\"/var/folders/1_/71dqv9vx2750gmyz77q_f45w0000gn/T/ipykernel_45033/1057038067.py\"\u001b[0m, line \u001b[1;36m21\u001b[0m, in inner               \u001b[2m                      \u001b[0m\n",
       "\u001b[2;36m                    \u001b[0m             return \u001b[1;35mf\u001b[0m\u001b[1m(\u001b[0m*args, **kwargs\u001b[1m)\u001b[0m                                                                                            \u001b[2m                      \u001b[0m\n",
       "\u001b[2;36m                    \u001b[0m                    |  |       -> \u001b[1m{\u001b[0m\u001b[32m'c'\u001b[0m: \u001b[1;36m10\u001b[0m\u001b[1m}\u001b[0m                                                                                       \u001b[2m                      \u001b[0m\n",
       "\u001b[2;36m                    \u001b[0m                    |  -> \u001b[1m(\u001b[0m\u001b[1;36m1\u001b[0m, \u001b[1;36m2\u001b[0m\u001b[1m)\u001b[0m                                                                                                  \u001b[2m                      \u001b[0m\n",
       "\u001b[2;36m                    \u001b[0m                    -> \u001b[1m<\u001b[0m\u001b[1;95mfunction\u001b[0m\u001b[39m do at \u001b[0m\u001b[1;36m0x11ecdeac0\u001b[0m\u001b[1m>\u001b[0m                                                                               \u001b[2m                      \u001b[0m\n",
       "\u001b[2;36m                    \u001b[0m                                                                                                                                  \u001b[2m                      \u001b[0m\n",
       "\u001b[2;36m                    \u001b[0m           File \u001b[32m\"/var/folders/1_/71dqv9vx2750gmyz77q_f45w0000gn/T/ipykernel_45033/3352784188.py\"\u001b[0m, line \u001b[1;36m3\u001b[0m, in do                   \u001b[2m                      \u001b[0m\n",
       "\u001b[2;36m                    \u001b[0m             return \u001b[1;36m1\u001b[0m \u001b[35m/\u001b[0m \u001b[1;36m0\u001b[0m                                                                                                         \u001b[2m                      \u001b[0m\n",
       "\u001b[2;36m                    \u001b[0m                                                                                                                                  \u001b[2m                      \u001b[0m\n",
       "\u001b[2;36m                    \u001b[0m         ZeroDivisionError: division by zero                                                                                      \u001b[2m                      \u001b[0m\n",
       "\u001b[2;36m                    \u001b[0m                                                                                                                                  \u001b[2m                      \u001b[0m\n",
       "\u001b[2;36m                    \u001b[0m         \u001b[31m╭─\u001b[0m\u001b[31m────────────────────────────────────────\u001b[0m\u001b[31m \u001b[0m\u001b[1;31mTraceback \u001b[0m\u001b[1;2;31m(most recent call last)\u001b[0m\u001b[31m \u001b[0m\u001b[31m─────────────────────────────────────────\u001b[0m\u001b[31m─╮\u001b[0m \u001b[2m                      \u001b[0m\n",
       "\u001b[2;36m                    \u001b[0m         \u001b[31m│\u001b[0m in \u001b[92minner\u001b[0m:\u001b[94m21\u001b[0m                                                                                                          \u001b[31m│\u001b[0m \u001b[2m                      \u001b[0m\n",
       "\u001b[2;36m                    \u001b[0m         \u001b[31m│\u001b[0m                                                                                                                      \u001b[31m│\u001b[0m \u001b[2m                      \u001b[0m\n",
       "\u001b[2;36m                    \u001b[0m         \u001b[31m│\u001b[0m   \u001b[2m18 \u001b[0m\u001b[2m│   │   \u001b[0m                                                                                                        \u001b[31m│\u001b[0m \u001b[2m                      \u001b[0m\n",
       "\u001b[2;36m                    \u001b[0m         \u001b[31m│\u001b[0m   \u001b[2m19 \u001b[0m\u001b[2m│   │   \u001b[0m\u001b[94mdef\u001b[0m \u001b[92minner\u001b[0m(*args, **kwargs):                                                                             \u001b[31m│\u001b[0m \u001b[2m                      \u001b[0m\n",
       "\u001b[2;36m                    \u001b[0m         \u001b[31m│\u001b[0m   \u001b[2m20 \u001b[0m\u001b[2m│   │   │   \u001b[0m\u001b[94mtry\u001b[0m:                                                                                                \u001b[31m│\u001b[0m \u001b[2m                      \u001b[0m\n",
       "\u001b[2;36m                    \u001b[0m         \u001b[31m│\u001b[0m \u001b[31m❱ \u001b[0m21 \u001b[2m│   │   │   │   \u001b[0m\u001b[94mreturn\u001b[0m f(*args, **kwargs)                                                                       \u001b[31m│\u001b[0m \u001b[2m                      \u001b[0m\n",
       "\u001b[2;36m                    \u001b[0m         \u001b[31m│\u001b[0m   \u001b[2m22 \u001b[0m\u001b[2m│   │   │   \u001b[0m\u001b[94mexcept\u001b[0m \u001b[96mException\u001b[0m \u001b[94mas\u001b[0m e:                                                                              \u001b[31m│\u001b[0m \u001b[2m                      \u001b[0m\n",
       "\u001b[2;36m                    \u001b[0m         \u001b[31m│\u001b[0m   \u001b[2m23 \u001b[0m\u001b[2m│   │   │   │   \u001b[0m\u001b[94mif\u001b[0m \u001b[95mnot\u001b[0m print_traceback:                                                                         \u001b[31m│\u001b[0m \u001b[2m                      \u001b[0m\n",
       "\u001b[2;36m                    \u001b[0m         \u001b[31m│\u001b[0m   \u001b[2m24 \u001b[0m\u001b[2m│   │   │   │   │   \u001b[0mtb = \u001b[33mf\u001b[0m\u001b[33m\"\u001b[0m\u001b[33m{\u001b[0m\u001b[96mtype\u001b[0m(e).\u001b[91m__name__\u001b[0m\u001b[33m}\u001b[0m\u001b[33m: \u001b[0m\u001b[33m{\u001b[0m\u001b[96mstr\u001b[0m(e)\u001b[33m}\u001b[0m\u001b[33m\"\u001b[0m                                                        \u001b[31m│\u001b[0m \u001b[2m                      \u001b[0m\n",
       "\u001b[2;36m                    \u001b[0m         \u001b[31m│\u001b[0m                                                                                                                      \u001b[31m│\u001b[0m \u001b[2m                      \u001b[0m\n",
       "\u001b[2;36m                    \u001b[0m         \u001b[31m│\u001b[0m in \u001b[92mdo\u001b[0m:\u001b[94m3\u001b[0m                                                                                                              \u001b[31m│\u001b[0m \u001b[2m                      \u001b[0m\n",
       "\u001b[2;36m                    \u001b[0m         \u001b[31m│\u001b[0m                                                                                                                      \u001b[31m│\u001b[0m \u001b[2m                      \u001b[0m\n",
       "\u001b[2;36m                    \u001b[0m         \u001b[31m│\u001b[0m   \u001b[2m1 \u001b[0m\u001b[1;95m@tryy\u001b[0m(output_to_return_on_fail=\u001b[33m\"\u001b[0m\u001b[33m😔\u001b[0m\u001b[33m\"\u001b[0m)                                                                             \u001b[31m│\u001b[0m \u001b[2m                      \u001b[0m\n",
       "\u001b[2;36m                    \u001b[0m         \u001b[31m│\u001b[0m   \u001b[2m2 \u001b[0m\u001b[94mdef\u001b[0m \u001b[92mdo\u001b[0m(a, b, c):                                                                                                 \u001b[31m│\u001b[0m \u001b[2m                      \u001b[0m\n",
       "\u001b[2;36m                    \u001b[0m         \u001b[31m│\u001b[0m \u001b[31m❱ \u001b[0m3 \u001b[2m│   \u001b[0m\u001b[94mreturn\u001b[0m \u001b[94m1\u001b[0m / \u001b[94m0\u001b[0m                                                                                                 \u001b[31m│\u001b[0m \u001b[2m                      \u001b[0m\n",
       "\u001b[2;36m                    \u001b[0m         \u001b[31m│\u001b[0m   \u001b[2m4 \u001b[0m                                                                                                                 \u001b[31m│\u001b[0m \u001b[2m                      \u001b[0m\n",
       "\u001b[2;36m                    \u001b[0m         \u001b[31m│\u001b[0m   \u001b[2m5 \u001b[0m                                                                                                                 \u001b[31m│\u001b[0m \u001b[2m                      \u001b[0m\n",
       "\u001b[2;36m                    \u001b[0m         \u001b[31m│\u001b[0m   \u001b[2m6 \u001b[0mdo(\u001b[94m1\u001b[0m, \u001b[94m2\u001b[0m, c=\u001b[94m10\u001b[0m)                                                                                                   \u001b[31m│\u001b[0m \u001b[2m                      \u001b[0m\n",
       "\u001b[2;36m                    \u001b[0m         \u001b[31m╰──────────────────────────────────────────────────────────────────────────────────────────────────────────────────────╯\u001b[0m \u001b[2m                      \u001b[0m\n",
       "\u001b[2;36m                    \u001b[0m         \u001b[1;91mZeroDivisionError: \u001b[0mdivision by zero                                                                                      \u001b[2m                      \u001b[0m\n"
      ]
     },
     "metadata": {},
     "output_type": "display_data"
    },
    {
     "data": {
      "text/plain": [
       "'😔'"
      ]
     },
     "execution_count": 13,
     "metadata": {},
     "output_type": "execute_result"
    }
   ],
   "source": [
    "@tryy(output_to_return_on_fail=\"😔\")\n",
    "def do(a, b, c):\n",
    "    return 1 / 0\n",
    "\n",
    "\n",
    "do(1, 2, c=10)"
   ]
  },
  {
   "cell_type": "markdown",
   "metadata": {},
   "source": [
    "Optionally print the full stacktrace if needed"
   ]
  },
  {
   "cell_type": "code",
   "execution_count": 14,
   "metadata": {},
   "outputs": [
    {
     "data": {
      "text/html": [
       "<pre style=\"white-space:pre;overflow-x:auto;line-height:normal;font-family:Menlo,'DejaVu Sans Mono',consolas,'Courier New',monospace\"><span style=\"color: #7fbfbf; text-decoration-color: #7fbfbf\">                    </span><span style=\"color: #800000; text-decoration-color: #800000; font-weight: bold\">ERROR   </span> Error for `do` with                                                                                                      <a href=\"file:///var/folders/1_/71dqv9vx2750gmyz77q_f45w0000gn/T/ipykernel_45033/1057038067.py:30\" target=\"_blank\"><span style=\"color: #7f7f7f; text-decoration-color: #7f7f7f\">1057038067.py</span></a><span style=\"color: #7f7f7f; text-decoration-color: #7f7f7f\">:</span><a href=\"file:///var/folders/1_/71dqv9vx2750gmyz77q_f45w0000gn/T/ipykernel_45033/1057038067.py:30#inner:30\" target=\"_blank\"><span style=\"color: #7f7f7f; text-decoration-color: #7f7f7f\">inner:30</span></a>\n",
       "<span style=\"color: #7fbfbf; text-decoration-color: #7fbfbf\">                    </span>         <span style=\"color: #800080; text-decoration-color: #800080; font-weight: bold\">args</span><span style=\"font-weight: bold\">()</span>                                                                                                                   <span style=\"color: #7f7f7f; text-decoration-color: #7f7f7f\">                      </span>\n",
       "<span style=\"color: #7fbfbf; text-decoration-color: #7fbfbf\">                    </span>           <span style=\"color: #008080; text-decoration-color: #008080; font-weight: bold\">0</span> - <span style=\"color: #008080; text-decoration-color: #008080; font-weight: bold\">1</span> <span style=\"font-weight: bold\">(</span>🏷️ int<span style=\"font-weight: bold\">)</span>                                                                                                          <span style=\"color: #7f7f7f; text-decoration-color: #7f7f7f\">                      </span>\n",
       "<span style=\"color: #7fbfbf; text-decoration-color: #7fbfbf\">                    </span>           <span style=\"color: #008080; text-decoration-color: #008080; font-weight: bold\">1</span> - <span style=\"color: #008080; text-decoration-color: #008080; font-weight: bold\">2</span> <span style=\"font-weight: bold\">(</span>🏷️ int<span style=\"font-weight: bold\">)</span>                                                                                                          <span style=\"color: #7f7f7f; text-decoration-color: #7f7f7f\">                      </span>\n",
       "<span style=\"color: #7fbfbf; text-decoration-color: #7fbfbf\">                    </span>         kwargs                                                                                                                   <span style=\"color: #7f7f7f; text-decoration-color: #7f7f7f\">                      </span>\n",
       "<span style=\"color: #7fbfbf; text-decoration-color: #7fbfbf\">                    </span>           c - <span style=\"color: #008080; text-decoration-color: #008080; font-weight: bold\">10</span> <span style=\"font-weight: bold\">(</span>🏷️ int<span style=\"font-weight: bold\">)</span>                                                                                                         <span style=\"color: #7f7f7f; text-decoration-color: #7f7f7f\">                      </span>\n",
       "<span style=\"color: #7fbfbf; text-decoration-color: #7fbfbf\">                    </span>                                                                                                                                  <span style=\"color: #7f7f7f; text-decoration-color: #7f7f7f\">                      </span>\n",
       "<span style=\"color: #7fbfbf; text-decoration-color: #7fbfbf\">                    </span>         Traceback <span style=\"font-weight: bold\">(</span>most recent call last<span style=\"font-weight: bold\">)</span>:                                                                                       <span style=\"color: #7f7f7f; text-decoration-color: #7f7f7f\">                      </span>\n",
       "<span style=\"color: #7fbfbf; text-decoration-color: #7fbfbf\">                    </span>           File <span style=\"color: #008000; text-decoration-color: #008000\">\"/var/folders/1_/71dqv9vx2750gmyz77q_f45w0000gn/T/ipykernel_45033/1057038067.py\"</span>, line <span style=\"color: #008080; text-decoration-color: #008080; font-weight: bold\">21</span>, in inner               <span style=\"color: #7f7f7f; text-decoration-color: #7f7f7f\">                      </span>\n",
       "<span style=\"color: #7fbfbf; text-decoration-color: #7fbfbf\">                    </span>             return <span style=\"color: #800080; text-decoration-color: #800080; font-weight: bold\">f</span><span style=\"font-weight: bold\">(</span>*args, **kwargs<span style=\"font-weight: bold\">)</span>                                                                                            <span style=\"color: #7f7f7f; text-decoration-color: #7f7f7f\">                      </span>\n",
       "<span style=\"color: #7fbfbf; text-decoration-color: #7fbfbf\">                    </span>                    ^^^^^^^^^^^^^^^^^^                                                                                            <span style=\"color: #7f7f7f; text-decoration-color: #7f7f7f\">                      </span>\n",
       "<span style=\"color: #7fbfbf; text-decoration-color: #7fbfbf\">                    </span>           File <span style=\"color: #008000; text-decoration-color: #008000\">\"/var/folders/1_/71dqv9vx2750gmyz77q_f45w0000gn/T/ipykernel_45033/580638143.py\"</span>, line <span style=\"color: #008080; text-decoration-color: #008080; font-weight: bold\">3</span>, in do                    <span style=\"color: #7f7f7f; text-decoration-color: #7f7f7f\">                      </span>\n",
       "<span style=\"color: #7fbfbf; text-decoration-color: #7fbfbf\">                    </span>             return <span style=\"color: #008080; text-decoration-color: #008080; font-weight: bold\">1</span> <span style=\"color: #800080; text-decoration-color: #800080\">/</span> <span style=\"color: #008080; text-decoration-color: #008080; font-weight: bold\">0</span>                                                                                                         <span style=\"color: #7f7f7f; text-decoration-color: #7f7f7f\">                      </span>\n",
       "<span style=\"color: #7fbfbf; text-decoration-color: #7fbfbf\">                    </span>                    ~~^~~                                                                                                         <span style=\"color: #7f7f7f; text-decoration-color: #7f7f7f\">                      </span>\n",
       "<span style=\"color: #7fbfbf; text-decoration-color: #7fbfbf\">                    </span>         ZeroDivisionError: division by zero                                                                                      <span style=\"color: #7f7f7f; text-decoration-color: #7f7f7f\">                      </span>\n",
       "<span style=\"color: #7fbfbf; text-decoration-color: #7fbfbf\">                    </span>                                                                                                                                  <span style=\"color: #7f7f7f; text-decoration-color: #7f7f7f\">                      </span>\n",
       "<span style=\"color: #7fbfbf; text-decoration-color: #7fbfbf\">                    </span>         Traceback <span style=\"font-weight: bold\">(</span>most recent call last<span style=\"font-weight: bold\">)</span>:                                                                                       <span style=\"color: #7f7f7f; text-decoration-color: #7f7f7f\">                      </span>\n",
       "<span style=\"color: #7fbfbf; text-decoration-color: #7fbfbf\">                    </span>                                                                                                                                  <span style=\"color: #7f7f7f; text-decoration-color: #7f7f7f\">                      </span>\n",
       "<span style=\"color: #7fbfbf; text-decoration-color: #7fbfbf\">                    </span>           File <span style=\"color: #008000; text-decoration-color: #008000\">\"/var/folders/1_/71dqv9vx2750gmyz77q_f45w0000gn/T/ipykernel_45033/1057038067.py\"</span>, line <span style=\"color: #008080; text-decoration-color: #008080; font-weight: bold\">21</span>, in inner               <span style=\"color: #7f7f7f; text-decoration-color: #7f7f7f\">                      </span>\n",
       "<span style=\"color: #7fbfbf; text-decoration-color: #7fbfbf\">                    </span>             return <span style=\"color: #800080; text-decoration-color: #800080; font-weight: bold\">f</span><span style=\"font-weight: bold\">(</span>*args, **kwargs<span style=\"font-weight: bold\">)</span>                                                                                            <span style=\"color: #7f7f7f; text-decoration-color: #7f7f7f\">                      </span>\n",
       "<span style=\"color: #7fbfbf; text-decoration-color: #7fbfbf\">                    </span>                    |  |       -&gt; <span style=\"font-weight: bold\">{</span><span style=\"color: #008000; text-decoration-color: #008000\">'c'</span>: <span style=\"color: #008080; text-decoration-color: #008080; font-weight: bold\">10</span><span style=\"font-weight: bold\">}</span>                                                                                       <span style=\"color: #7f7f7f; text-decoration-color: #7f7f7f\">                      </span>\n",
       "<span style=\"color: #7fbfbf; text-decoration-color: #7fbfbf\">                    </span>                    |  -&gt; <span style=\"font-weight: bold\">(</span><span style=\"color: #008080; text-decoration-color: #008080; font-weight: bold\">1</span>, <span style=\"color: #008080; text-decoration-color: #008080; font-weight: bold\">2</span><span style=\"font-weight: bold\">)</span>                                                                                                  <span style=\"color: #7f7f7f; text-decoration-color: #7f7f7f\">                      </span>\n",
       "<span style=\"color: #7fbfbf; text-decoration-color: #7fbfbf\">                    </span>                    -&gt; <span style=\"font-weight: bold\">&lt;</span><span style=\"color: #ff00ff; text-decoration-color: #ff00ff; font-weight: bold\">function</span><span style=\"color: #000000; text-decoration-color: #000000\"> do at </span><span style=\"color: #008080; text-decoration-color: #008080; font-weight: bold\">0x11ecdeb60</span><span style=\"font-weight: bold\">&gt;</span>                                                                               <span style=\"color: #7f7f7f; text-decoration-color: #7f7f7f\">                      </span>\n",
       "<span style=\"color: #7fbfbf; text-decoration-color: #7fbfbf\">                    </span>                                                                                                                                  <span style=\"color: #7f7f7f; text-decoration-color: #7f7f7f\">                      </span>\n",
       "<span style=\"color: #7fbfbf; text-decoration-color: #7fbfbf\">                    </span>           File <span style=\"color: #008000; text-decoration-color: #008000\">\"/var/folders/1_/71dqv9vx2750gmyz77q_f45w0000gn/T/ipykernel_45033/580638143.py\"</span>, line <span style=\"color: #008080; text-decoration-color: #008080; font-weight: bold\">3</span>, in do                    <span style=\"color: #7f7f7f; text-decoration-color: #7f7f7f\">                      </span>\n",
       "<span style=\"color: #7fbfbf; text-decoration-color: #7fbfbf\">                    </span>             return <span style=\"color: #008080; text-decoration-color: #008080; font-weight: bold\">1</span> <span style=\"color: #800080; text-decoration-color: #800080\">/</span> <span style=\"color: #008080; text-decoration-color: #008080; font-weight: bold\">0</span>                                                                                                         <span style=\"color: #7f7f7f; text-decoration-color: #7f7f7f\">                      </span>\n",
       "<span style=\"color: #7fbfbf; text-decoration-color: #7fbfbf\">                    </span>                                                                                                                                  <span style=\"color: #7f7f7f; text-decoration-color: #7f7f7f\">                      </span>\n",
       "<span style=\"color: #7fbfbf; text-decoration-color: #7fbfbf\">                    </span>         ZeroDivisionError: division by zero                                                                                      <span style=\"color: #7f7f7f; text-decoration-color: #7f7f7f\">                      </span>\n",
       "<span style=\"color: #7fbfbf; text-decoration-color: #7fbfbf\">                    </span>                                                                                                                                  <span style=\"color: #7f7f7f; text-decoration-color: #7f7f7f\">                      </span>\n",
       "<span style=\"color: #7fbfbf; text-decoration-color: #7fbfbf\">                    </span>         <span style=\"color: #800000; text-decoration-color: #800000\">╭───────────────────────────────────────── </span><span style=\"color: #800000; text-decoration-color: #800000; font-weight: bold\">Traceback </span><span style=\"color: #bf7f7f; text-decoration-color: #bf7f7f; font-weight: bold\">(most recent call last)</span><span style=\"color: #800000; text-decoration-color: #800000\"> ──────────────────────────────────────────╮</span> <span style=\"color: #7f7f7f; text-decoration-color: #7f7f7f\">                      </span>\n",
       "<span style=\"color: #7fbfbf; text-decoration-color: #7fbfbf\">                    </span>         <span style=\"color: #800000; text-decoration-color: #800000\">│</span> in <span style=\"color: #00ff00; text-decoration-color: #00ff00\">inner</span>:<span style=\"color: #0000ff; text-decoration-color: #0000ff\">21</span>                                                                                                          <span style=\"color: #800000; text-decoration-color: #800000\">│</span> <span style=\"color: #7f7f7f; text-decoration-color: #7f7f7f\">                      </span>\n",
       "<span style=\"color: #7fbfbf; text-decoration-color: #7fbfbf\">                    </span>         <span style=\"color: #800000; text-decoration-color: #800000\">│</span>                                                                                                                      <span style=\"color: #800000; text-decoration-color: #800000\">│</span> <span style=\"color: #7f7f7f; text-decoration-color: #7f7f7f\">                      </span>\n",
       "<span style=\"color: #7fbfbf; text-decoration-color: #7fbfbf\">                    </span>         <span style=\"color: #800000; text-decoration-color: #800000\">│</span>   <span style=\"color: #7f7f7f; text-decoration-color: #7f7f7f\">18 </span><span style=\"color: #7f7f7f; text-decoration-color: #7f7f7f\">│   │   </span>                                                                                                        <span style=\"color: #800000; text-decoration-color: #800000\">│</span> <span style=\"color: #7f7f7f; text-decoration-color: #7f7f7f\">                      </span>\n",
       "<span style=\"color: #7fbfbf; text-decoration-color: #7fbfbf\">                    </span>         <span style=\"color: #800000; text-decoration-color: #800000\">│</span>   <span style=\"color: #7f7f7f; text-decoration-color: #7f7f7f\">19 </span><span style=\"color: #7f7f7f; text-decoration-color: #7f7f7f\">│   │   </span><span style=\"color: #0000ff; text-decoration-color: #0000ff\">def</span> <span style=\"color: #00ff00; text-decoration-color: #00ff00\">inner</span>(*args, **kwargs):                                                                             <span style=\"color: #800000; text-decoration-color: #800000\">│</span> <span style=\"color: #7f7f7f; text-decoration-color: #7f7f7f\">                      </span>\n",
       "<span style=\"color: #7fbfbf; text-decoration-color: #7fbfbf\">                    </span>         <span style=\"color: #800000; text-decoration-color: #800000\">│</span>   <span style=\"color: #7f7f7f; text-decoration-color: #7f7f7f\">20 </span><span style=\"color: #7f7f7f; text-decoration-color: #7f7f7f\">│   │   │   </span><span style=\"color: #0000ff; text-decoration-color: #0000ff\">try</span>:                                                                                                <span style=\"color: #800000; text-decoration-color: #800000\">│</span> <span style=\"color: #7f7f7f; text-decoration-color: #7f7f7f\">                      </span>\n",
       "<span style=\"color: #7fbfbf; text-decoration-color: #7fbfbf\">                    </span>         <span style=\"color: #800000; text-decoration-color: #800000\">│</span> <span style=\"color: #800000; text-decoration-color: #800000\">❱ </span>21 <span style=\"color: #7f7f7f; text-decoration-color: #7f7f7f\">│   │   │   │   </span><span style=\"color: #0000ff; text-decoration-color: #0000ff\">return</span> f(*args, **kwargs)                                                                       <span style=\"color: #800000; text-decoration-color: #800000\">│</span> <span style=\"color: #7f7f7f; text-decoration-color: #7f7f7f\">                      </span>\n",
       "<span style=\"color: #7fbfbf; text-decoration-color: #7fbfbf\">                    </span>         <span style=\"color: #800000; text-decoration-color: #800000\">│</span>   <span style=\"color: #7f7f7f; text-decoration-color: #7f7f7f\">22 </span><span style=\"color: #7f7f7f; text-decoration-color: #7f7f7f\">│   │   │   </span><span style=\"color: #0000ff; text-decoration-color: #0000ff\">except</span> <span style=\"color: #00ffff; text-decoration-color: #00ffff\">Exception</span> <span style=\"color: #0000ff; text-decoration-color: #0000ff\">as</span> e:                                                                              <span style=\"color: #800000; text-decoration-color: #800000\">│</span> <span style=\"color: #7f7f7f; text-decoration-color: #7f7f7f\">                      </span>\n",
       "<span style=\"color: #7fbfbf; text-decoration-color: #7fbfbf\">                    </span>         <span style=\"color: #800000; text-decoration-color: #800000\">│</span>   <span style=\"color: #7f7f7f; text-decoration-color: #7f7f7f\">23 </span><span style=\"color: #7f7f7f; text-decoration-color: #7f7f7f\">│   │   │   │   </span><span style=\"color: #0000ff; text-decoration-color: #0000ff\">if</span> <span style=\"color: #ff00ff; text-decoration-color: #ff00ff\">not</span> print_traceback:                                                                         <span style=\"color: #800000; text-decoration-color: #800000\">│</span> <span style=\"color: #7f7f7f; text-decoration-color: #7f7f7f\">                      </span>\n",
       "<span style=\"color: #7fbfbf; text-decoration-color: #7fbfbf\">                    </span>         <span style=\"color: #800000; text-decoration-color: #800000\">│</span>   <span style=\"color: #7f7f7f; text-decoration-color: #7f7f7f\">24 </span><span style=\"color: #7f7f7f; text-decoration-color: #7f7f7f\">│   │   │   │   │   </span>tb = <span style=\"color: #808000; text-decoration-color: #808000\">f\"{</span><span style=\"color: #00ffff; text-decoration-color: #00ffff\">type</span>(e).<span style=\"color: #ff0000; text-decoration-color: #ff0000\">__name__</span><span style=\"color: #808000; text-decoration-color: #808000\">}: {</span><span style=\"color: #00ffff; text-decoration-color: #00ffff\">str</span>(e)<span style=\"color: #808000; text-decoration-color: #808000\">}\"</span>                                                        <span style=\"color: #800000; text-decoration-color: #800000\">│</span> <span style=\"color: #7f7f7f; text-decoration-color: #7f7f7f\">                      </span>\n",
       "<span style=\"color: #7fbfbf; text-decoration-color: #7fbfbf\">                    </span>         <span style=\"color: #800000; text-decoration-color: #800000\">│</span>                                                                                                                      <span style=\"color: #800000; text-decoration-color: #800000\">│</span> <span style=\"color: #7f7f7f; text-decoration-color: #7f7f7f\">                      </span>\n",
       "<span style=\"color: #7fbfbf; text-decoration-color: #7fbfbf\">                    </span>         <span style=\"color: #800000; text-decoration-color: #800000\">│</span> in <span style=\"color: #00ff00; text-decoration-color: #00ff00\">do</span>:<span style=\"color: #0000ff; text-decoration-color: #0000ff\">3</span>                                                                                                              <span style=\"color: #800000; text-decoration-color: #800000\">│</span> <span style=\"color: #7f7f7f; text-decoration-color: #7f7f7f\">                      </span>\n",
       "<span style=\"color: #7fbfbf; text-decoration-color: #7fbfbf\">                    </span>         <span style=\"color: #800000; text-decoration-color: #800000\">│</span>                                                                                                                      <span style=\"color: #800000; text-decoration-color: #800000\">│</span> <span style=\"color: #7f7f7f; text-decoration-color: #7f7f7f\">                      </span>\n",
       "<span style=\"color: #7fbfbf; text-decoration-color: #7fbfbf\">                    </span>         <span style=\"color: #800000; text-decoration-color: #800000\">│</span>   <span style=\"color: #7f7f7f; text-decoration-color: #7f7f7f\">1 </span><span style=\"color: #ff00ff; text-decoration-color: #ff00ff; font-weight: bold\">@tryy</span>(print_traceback=<span style=\"color: #0000ff; text-decoration-color: #0000ff\">True</span>, output_to_return_on_fail=<span style=\"color: #808000; text-decoration-color: #808000\">\"😔\"</span>)                                                       <span style=\"color: #800000; text-decoration-color: #800000\">│</span> <span style=\"color: #7f7f7f; text-decoration-color: #7f7f7f\">                      </span>\n",
       "<span style=\"color: #7fbfbf; text-decoration-color: #7fbfbf\">                    </span>         <span style=\"color: #800000; text-decoration-color: #800000\">│</span>   <span style=\"color: #7f7f7f; text-decoration-color: #7f7f7f\">2 </span><span style=\"color: #0000ff; text-decoration-color: #0000ff\">def</span> <span style=\"color: #00ff00; text-decoration-color: #00ff00\">do</span>(a, b, c):                                                                                                 <span style=\"color: #800000; text-decoration-color: #800000\">│</span> <span style=\"color: #7f7f7f; text-decoration-color: #7f7f7f\">                      </span>\n",
       "<span style=\"color: #7fbfbf; text-decoration-color: #7fbfbf\">                    </span>         <span style=\"color: #800000; text-decoration-color: #800000\">│</span> <span style=\"color: #800000; text-decoration-color: #800000\">❱ </span>3 <span style=\"color: #7f7f7f; text-decoration-color: #7f7f7f\">│   </span><span style=\"color: #0000ff; text-decoration-color: #0000ff\">return</span> <span style=\"color: #0000ff; text-decoration-color: #0000ff\">1</span> / <span style=\"color: #0000ff; text-decoration-color: #0000ff\">0</span>                                                                                                 <span style=\"color: #800000; text-decoration-color: #800000\">│</span> <span style=\"color: #7f7f7f; text-decoration-color: #7f7f7f\">                      </span>\n",
       "<span style=\"color: #7fbfbf; text-decoration-color: #7fbfbf\">                    </span>         <span style=\"color: #800000; text-decoration-color: #800000\">│</span>   <span style=\"color: #7f7f7f; text-decoration-color: #7f7f7f\">4 </span>                                                                                                                 <span style=\"color: #800000; text-decoration-color: #800000\">│</span> <span style=\"color: #7f7f7f; text-decoration-color: #7f7f7f\">                      </span>\n",
       "<span style=\"color: #7fbfbf; text-decoration-color: #7fbfbf\">                    </span>         <span style=\"color: #800000; text-decoration-color: #800000\">│</span>   <span style=\"color: #7f7f7f; text-decoration-color: #7f7f7f\">5 </span>                                                                                                                 <span style=\"color: #800000; text-decoration-color: #800000\">│</span> <span style=\"color: #7f7f7f; text-decoration-color: #7f7f7f\">                      </span>\n",
       "<span style=\"color: #7fbfbf; text-decoration-color: #7fbfbf\">                    </span>         <span style=\"color: #800000; text-decoration-color: #800000\">│</span>   <span style=\"color: #7f7f7f; text-decoration-color: #7f7f7f\">6 </span>do(<span style=\"color: #0000ff; text-decoration-color: #0000ff\">1</span>, <span style=\"color: #0000ff; text-decoration-color: #0000ff\">2</span>, c=<span style=\"color: #0000ff; text-decoration-color: #0000ff\">10</span>)                                                                                                   <span style=\"color: #800000; text-decoration-color: #800000\">│</span> <span style=\"color: #7f7f7f; text-decoration-color: #7f7f7f\">                      </span>\n",
       "<span style=\"color: #7fbfbf; text-decoration-color: #7fbfbf\">                    </span>         <span style=\"color: #800000; text-decoration-color: #800000\">╰──────────────────────────────────────────────────────────────────────────────────────────────────────────────────────╯</span> <span style=\"color: #7f7f7f; text-decoration-color: #7f7f7f\">                      </span>\n",
       "<span style=\"color: #7fbfbf; text-decoration-color: #7fbfbf\">                    </span>         <span style=\"color: #ff0000; text-decoration-color: #ff0000; font-weight: bold\">ZeroDivisionError: </span>division by zero                                                                                      <span style=\"color: #7f7f7f; text-decoration-color: #7f7f7f\">                      </span>\n",
       "</pre>\n"
      ],
      "text/plain": [
       "\u001b[2;36m                   \u001b[0m\u001b[2;36m \u001b[0m\u001b[1;31mERROR   \u001b[0m Error for `do` with                                                                                                      \u001b]8;id=53919;file:///var/folders/1_/71dqv9vx2750gmyz77q_f45w0000gn/T/ipykernel_45033/1057038067.py:30\u001b\\\u001b[2m1057038067.py\u001b[0m\u001b]8;;\u001b\\\u001b[2m:\u001b[0m\u001b]8;id=672838;file:///var/folders/1_/71dqv9vx2750gmyz77q_f45w0000gn/T/ipykernel_45033/1057038067.py:30#inner:30\u001b\\\u001b[2minner:30\u001b[0m\u001b]8;;\u001b\\\n",
       "\u001b[2;36m                    \u001b[0m         \u001b[1;35margs\u001b[0m\u001b[1m(\u001b[0m\u001b[1m)\u001b[0m                                                                                                                   \u001b[2m                      \u001b[0m\n",
       "\u001b[2;36m                    \u001b[0m           \u001b[1;36m0\u001b[0m - \u001b[1;36m1\u001b[0m \u001b[1m(\u001b[0m🏷️ int\u001b[1m)\u001b[0m                                                                                                          \u001b[2m                      \u001b[0m\n",
       "\u001b[2;36m                    \u001b[0m           \u001b[1;36m1\u001b[0m - \u001b[1;36m2\u001b[0m \u001b[1m(\u001b[0m🏷️ int\u001b[1m)\u001b[0m                                                                                                          \u001b[2m                      \u001b[0m\n",
       "\u001b[2;36m                    \u001b[0m         kwargs                                                                                                                   \u001b[2m                      \u001b[0m\n",
       "\u001b[2;36m                    \u001b[0m           c - \u001b[1;36m10\u001b[0m \u001b[1m(\u001b[0m🏷️ int\u001b[1m)\u001b[0m                                                                                                         \u001b[2m                      \u001b[0m\n",
       "\u001b[2;36m                    \u001b[0m                                                                                                                                  \u001b[2m                      \u001b[0m\n",
       "\u001b[2;36m                    \u001b[0m         Traceback \u001b[1m(\u001b[0mmost recent call last\u001b[1m)\u001b[0m:                                                                                       \u001b[2m                      \u001b[0m\n",
       "\u001b[2;36m                    \u001b[0m           File \u001b[32m\"/var/folders/1_/71dqv9vx2750gmyz77q_f45w0000gn/T/ipykernel_45033/1057038067.py\"\u001b[0m, line \u001b[1;36m21\u001b[0m, in inner               \u001b[2m                      \u001b[0m\n",
       "\u001b[2;36m                    \u001b[0m             return \u001b[1;35mf\u001b[0m\u001b[1m(\u001b[0m*args, **kwargs\u001b[1m)\u001b[0m                                                                                            \u001b[2m                      \u001b[0m\n",
       "\u001b[2;36m                    \u001b[0m                    ^^^^^^^^^^^^^^^^^^                                                                                            \u001b[2m                      \u001b[0m\n",
       "\u001b[2;36m                    \u001b[0m           File \u001b[32m\"/var/folders/1_/71dqv9vx2750gmyz77q_f45w0000gn/T/ipykernel_45033/580638143.py\"\u001b[0m, line \u001b[1;36m3\u001b[0m, in do                    \u001b[2m                      \u001b[0m\n",
       "\u001b[2;36m                    \u001b[0m             return \u001b[1;36m1\u001b[0m \u001b[35m/\u001b[0m \u001b[1;36m0\u001b[0m                                                                                                         \u001b[2m                      \u001b[0m\n",
       "\u001b[2;36m                    \u001b[0m                    ~~^~~                                                                                                         \u001b[2m                      \u001b[0m\n",
       "\u001b[2;36m                    \u001b[0m         ZeroDivisionError: division by zero                                                                                      \u001b[2m                      \u001b[0m\n",
       "\u001b[2;36m                    \u001b[0m                                                                                                                                  \u001b[2m                      \u001b[0m\n",
       "\u001b[2;36m                    \u001b[0m         Traceback \u001b[1m(\u001b[0mmost recent call last\u001b[1m)\u001b[0m:                                                                                       \u001b[2m                      \u001b[0m\n",
       "\u001b[2;36m                    \u001b[0m                                                                                                                                  \u001b[2m                      \u001b[0m\n",
       "\u001b[2;36m                    \u001b[0m           File \u001b[32m\"/var/folders/1_/71dqv9vx2750gmyz77q_f45w0000gn/T/ipykernel_45033/1057038067.py\"\u001b[0m, line \u001b[1;36m21\u001b[0m, in inner               \u001b[2m                      \u001b[0m\n",
       "\u001b[2;36m                    \u001b[0m             return \u001b[1;35mf\u001b[0m\u001b[1m(\u001b[0m*args, **kwargs\u001b[1m)\u001b[0m                                                                                            \u001b[2m                      \u001b[0m\n",
       "\u001b[2;36m                    \u001b[0m                    |  |       -> \u001b[1m{\u001b[0m\u001b[32m'c'\u001b[0m: \u001b[1;36m10\u001b[0m\u001b[1m}\u001b[0m                                                                                       \u001b[2m                      \u001b[0m\n",
       "\u001b[2;36m                    \u001b[0m                    |  -> \u001b[1m(\u001b[0m\u001b[1;36m1\u001b[0m, \u001b[1;36m2\u001b[0m\u001b[1m)\u001b[0m                                                                                                  \u001b[2m                      \u001b[0m\n",
       "\u001b[2;36m                    \u001b[0m                    -> \u001b[1m<\u001b[0m\u001b[1;95mfunction\u001b[0m\u001b[39m do at \u001b[0m\u001b[1;36m0x11ecdeb60\u001b[0m\u001b[1m>\u001b[0m                                                                               \u001b[2m                      \u001b[0m\n",
       "\u001b[2;36m                    \u001b[0m                                                                                                                                  \u001b[2m                      \u001b[0m\n",
       "\u001b[2;36m                    \u001b[0m           File \u001b[32m\"/var/folders/1_/71dqv9vx2750gmyz77q_f45w0000gn/T/ipykernel_45033/580638143.py\"\u001b[0m, line \u001b[1;36m3\u001b[0m, in do                    \u001b[2m                      \u001b[0m\n",
       "\u001b[2;36m                    \u001b[0m             return \u001b[1;36m1\u001b[0m \u001b[35m/\u001b[0m \u001b[1;36m0\u001b[0m                                                                                                         \u001b[2m                      \u001b[0m\n",
       "\u001b[2;36m                    \u001b[0m                                                                                                                                  \u001b[2m                      \u001b[0m\n",
       "\u001b[2;36m                    \u001b[0m         ZeroDivisionError: division by zero                                                                                      \u001b[2m                      \u001b[0m\n",
       "\u001b[2;36m                    \u001b[0m                                                                                                                                  \u001b[2m                      \u001b[0m\n",
       "\u001b[2;36m                    \u001b[0m         \u001b[31m╭─\u001b[0m\u001b[31m────────────────────────────────────────\u001b[0m\u001b[31m \u001b[0m\u001b[1;31mTraceback \u001b[0m\u001b[1;2;31m(most recent call last)\u001b[0m\u001b[31m \u001b[0m\u001b[31m─────────────────────────────────────────\u001b[0m\u001b[31m─╮\u001b[0m \u001b[2m                      \u001b[0m\n",
       "\u001b[2;36m                    \u001b[0m         \u001b[31m│\u001b[0m in \u001b[92minner\u001b[0m:\u001b[94m21\u001b[0m                                                                                                          \u001b[31m│\u001b[0m \u001b[2m                      \u001b[0m\n",
       "\u001b[2;36m                    \u001b[0m         \u001b[31m│\u001b[0m                                                                                                                      \u001b[31m│\u001b[0m \u001b[2m                      \u001b[0m\n",
       "\u001b[2;36m                    \u001b[0m         \u001b[31m│\u001b[0m   \u001b[2m18 \u001b[0m\u001b[2m│   │   \u001b[0m                                                                                                        \u001b[31m│\u001b[0m \u001b[2m                      \u001b[0m\n",
       "\u001b[2;36m                    \u001b[0m         \u001b[31m│\u001b[0m   \u001b[2m19 \u001b[0m\u001b[2m│   │   \u001b[0m\u001b[94mdef\u001b[0m \u001b[92minner\u001b[0m(*args, **kwargs):                                                                             \u001b[31m│\u001b[0m \u001b[2m                      \u001b[0m\n",
       "\u001b[2;36m                    \u001b[0m         \u001b[31m│\u001b[0m   \u001b[2m20 \u001b[0m\u001b[2m│   │   │   \u001b[0m\u001b[94mtry\u001b[0m:                                                                                                \u001b[31m│\u001b[0m \u001b[2m                      \u001b[0m\n",
       "\u001b[2;36m                    \u001b[0m         \u001b[31m│\u001b[0m \u001b[31m❱ \u001b[0m21 \u001b[2m│   │   │   │   \u001b[0m\u001b[94mreturn\u001b[0m f(*args, **kwargs)                                                                       \u001b[31m│\u001b[0m \u001b[2m                      \u001b[0m\n",
       "\u001b[2;36m                    \u001b[0m         \u001b[31m│\u001b[0m   \u001b[2m22 \u001b[0m\u001b[2m│   │   │   \u001b[0m\u001b[94mexcept\u001b[0m \u001b[96mException\u001b[0m \u001b[94mas\u001b[0m e:                                                                              \u001b[31m│\u001b[0m \u001b[2m                      \u001b[0m\n",
       "\u001b[2;36m                    \u001b[0m         \u001b[31m│\u001b[0m   \u001b[2m23 \u001b[0m\u001b[2m│   │   │   │   \u001b[0m\u001b[94mif\u001b[0m \u001b[95mnot\u001b[0m print_traceback:                                                                         \u001b[31m│\u001b[0m \u001b[2m                      \u001b[0m\n",
       "\u001b[2;36m                    \u001b[0m         \u001b[31m│\u001b[0m   \u001b[2m24 \u001b[0m\u001b[2m│   │   │   │   │   \u001b[0mtb = \u001b[33mf\u001b[0m\u001b[33m\"\u001b[0m\u001b[33m{\u001b[0m\u001b[96mtype\u001b[0m(e).\u001b[91m__name__\u001b[0m\u001b[33m}\u001b[0m\u001b[33m: \u001b[0m\u001b[33m{\u001b[0m\u001b[96mstr\u001b[0m(e)\u001b[33m}\u001b[0m\u001b[33m\"\u001b[0m                                                        \u001b[31m│\u001b[0m \u001b[2m                      \u001b[0m\n",
       "\u001b[2;36m                    \u001b[0m         \u001b[31m│\u001b[0m                                                                                                                      \u001b[31m│\u001b[0m \u001b[2m                      \u001b[0m\n",
       "\u001b[2;36m                    \u001b[0m         \u001b[31m│\u001b[0m in \u001b[92mdo\u001b[0m:\u001b[94m3\u001b[0m                                                                                                              \u001b[31m│\u001b[0m \u001b[2m                      \u001b[0m\n",
       "\u001b[2;36m                    \u001b[0m         \u001b[31m│\u001b[0m                                                                                                                      \u001b[31m│\u001b[0m \u001b[2m                      \u001b[0m\n",
       "\u001b[2;36m                    \u001b[0m         \u001b[31m│\u001b[0m   \u001b[2m1 \u001b[0m\u001b[1;95m@tryy\u001b[0m(print_traceback=\u001b[94mTrue\u001b[0m, output_to_return_on_fail=\u001b[33m\"\u001b[0m\u001b[33m😔\u001b[0m\u001b[33m\"\u001b[0m)                                                       \u001b[31m│\u001b[0m \u001b[2m                      \u001b[0m\n",
       "\u001b[2;36m                    \u001b[0m         \u001b[31m│\u001b[0m   \u001b[2m2 \u001b[0m\u001b[94mdef\u001b[0m \u001b[92mdo\u001b[0m(a, b, c):                                                                                                 \u001b[31m│\u001b[0m \u001b[2m                      \u001b[0m\n",
       "\u001b[2;36m                    \u001b[0m         \u001b[31m│\u001b[0m \u001b[31m❱ \u001b[0m3 \u001b[2m│   \u001b[0m\u001b[94mreturn\u001b[0m \u001b[94m1\u001b[0m / \u001b[94m0\u001b[0m                                                                                                 \u001b[31m│\u001b[0m \u001b[2m                      \u001b[0m\n",
       "\u001b[2;36m                    \u001b[0m         \u001b[31m│\u001b[0m   \u001b[2m4 \u001b[0m                                                                                                                 \u001b[31m│\u001b[0m \u001b[2m                      \u001b[0m\n",
       "\u001b[2;36m                    \u001b[0m         \u001b[31m│\u001b[0m   \u001b[2m5 \u001b[0m                                                                                                                 \u001b[31m│\u001b[0m \u001b[2m                      \u001b[0m\n",
       "\u001b[2;36m                    \u001b[0m         \u001b[31m│\u001b[0m   \u001b[2m6 \u001b[0mdo(\u001b[94m1\u001b[0m, \u001b[94m2\u001b[0m, c=\u001b[94m10\u001b[0m)                                                                                                   \u001b[31m│\u001b[0m \u001b[2m                      \u001b[0m\n",
       "\u001b[2;36m                    \u001b[0m         \u001b[31m╰──────────────────────────────────────────────────────────────────────────────────────────────────────────────────────╯\u001b[0m \u001b[2m                      \u001b[0m\n",
       "\u001b[2;36m                    \u001b[0m         \u001b[1;91mZeroDivisionError: \u001b[0mdivision by zero                                                                                      \u001b[2m                      \u001b[0m\n"
      ]
     },
     "metadata": {},
     "output_type": "display_data"
    },
    {
     "data": {
      "text/plain": [
       "'😔'"
      ]
     },
     "execution_count": 14,
     "metadata": {},
     "output_type": "execute_result"
    }
   ],
   "source": [
    "@tryy(print_traceback=True, output_to_return_on_fail=\"😔\")\n",
    "def do(a, b, c):\n",
    "    return 1 / 0\n",
    "\n",
    "\n",
    "do(1, 2, c=10)"
   ]
  },
  {
   "cell_type": "markdown",
   "metadata": {},
   "source": [
    "You can also silence the errors completely"
   ]
  },
  {
   "cell_type": "code",
   "execution_count": 15,
   "metadata": {},
   "outputs": [
    {
     "data": {
      "text/plain": [
       "'😔'"
      ]
     },
     "execution_count": 15,
     "metadata": {},
     "output_type": "execute_result"
    }
   ],
   "source": [
    "@tryy(silence_errors=True, output_to_return_on_fail=\"😔\")\n",
    "def do(a, b, c):\n",
    "    return 1 / 0\n",
    "\n",
    "\n",
    "do(1, 2, c=10)"
   ]
  },
  {
   "cell_type": "markdown",
   "metadata": {},
   "source": [
    "You can collect all your errors in a list"
   ]
  },
  {
   "cell_type": "code",
   "execution_count": 16,
   "metadata": {},
   "outputs": [
    {
     "name": "stdout",
     "output_type": "stream",
     "text": [
      "[\n",
      "```↯ AttrDict ↯\n",
      "func - do (🏷️ str)\n",
      "args()\n",
      "  0 - 1 (🏷️ int)\n",
      "  1 - 9 (🏷️ int)\n",
      "kwargs\n",
      "  c - 70 (🏷️ int)\n",
      "tb - NotImplementedError: 🤔 (🏷️ str)\n",
      "err_type - NotImplementedError (🏷️ str)\n",
      "\n",
      "```\n",
      ", \n",
      "```↯ AttrDict ↯\n",
      "func - do (🏷️ str)\n",
      "args()\n",
      "  0 - 1 (🏷️ int)\n",
      "  1 - 3 (🏷️ int)\n",
      "kwargs\n",
      "  c - 19 (🏷️ int)\n",
      "tb - NotImplementedError: 🤔 (🏷️ str)\n",
      "err_type - NotImplementedError (🏷️ str)\n",
      "\n",
      "```\n",
      ", \n",
      "```↯ AttrDict ↯\n",
      "func - do (🏷️ str)\n",
      "args()\n",
      "  0 - 1 (🏷️ int)\n",
      "  1 - 1 (🏷️ int)\n",
      "kwargs\n",
      "  c - 64 (🏷️ int)\n",
      "tb - ZeroDivisionError: division by zero (🏷️ str)\n",
      "err_type - ZeroDivisionError (🏷️ str)\n",
      "\n",
      "```\n",
      ", \n",
      "```↯ AttrDict ↯\n",
      "func - do (🏷️ str)\n",
      "args()\n",
      "  0 - 1 (🏷️ int)\n",
      "  1 - 0 (🏷️ int)\n",
      "kwargs\n",
      "  c - 23 (🏷️ int)\n",
      "tb - NotImplementedError: 🤔 (🏷️ str)\n",
      "err_type - NotImplementedError (🏷️ str)\n",
      "\n",
      "```\n",
      "]\n"
     ]
    }
   ],
   "source": [
    "import random\n",
    "\n",
    "errors = []\n",
    "\n",
    "\n",
    "@tryy(silence_errors=True, store_errors=errors)\n",
    "def do(a, b, c):\n",
    "    if random.randint(0, 100) < 50:\n",
    "        return 1 / 0\n",
    "    else:\n",
    "        raise NotImplementedError(\"🤔\")\n",
    "\n",
    "\n",
    "for _ in range(4):\n",
    "    do(1, random.randint(0, 10), c=random.randint(0, 100))\n",
    "\n",
    "print(errors)"
   ]
  },
  {
   "cell_type": "markdown",
   "metadata": {},
   "source": [
    "There's onlly one usecase where you would want to send in a list by yourself - when you want to append your errors to an existing list. The sensible default is to always store the errors, especially because this is a debugging tool.\n",
    "\n",
    "Just access all the errors in a dataframe like so"
   ]
  },
  {
   "cell_type": "code",
   "execution_count": 17,
   "metadata": {},
   "outputs": [
    {
     "data": {
      "text/html": [
       "<div>\n",
       "<style scoped>\n",
       "    .dataframe tbody tr th:only-of-type {\n",
       "        vertical-align: middle;\n",
       "    }\n",
       "\n",
       "    .dataframe tbody tr th {\n",
       "        vertical-align: top;\n",
       "    }\n",
       "\n",
       "    .dataframe thead th {\n",
       "        text-align: right;\n",
       "    }\n",
       "</style>\n",
       "<table border=\"1\" class=\"dataframe\">\n",
       "  <thead>\n",
       "    <tr style=\"text-align: right;\">\n",
       "      <th></th>\n",
       "      <th>func</th>\n",
       "      <th>args</th>\n",
       "      <th>kwargs</th>\n",
       "      <th>tb</th>\n",
       "      <th>err_type</th>\n",
       "    </tr>\n",
       "  </thead>\n",
       "  <tbody>\n",
       "    <tr>\n",
       "      <th>0</th>\n",
       "      <td>do</td>\n",
       "      <td>[1, 9]</td>\n",
       "      <td>{'c': 4}</td>\n",
       "      <td>ZeroDivisionError: division by zero</td>\n",
       "      <td>ZeroDivisionError</td>\n",
       "    </tr>\n",
       "    <tr>\n",
       "      <th>1</th>\n",
       "      <td>do</td>\n",
       "      <td>[1, 6]</td>\n",
       "      <td>{'c': 61}</td>\n",
       "      <td>NotImplementedError: 🤔</td>\n",
       "      <td>NotImplementedError</td>\n",
       "    </tr>\n",
       "    <tr>\n",
       "      <th>2</th>\n",
       "      <td>do</td>\n",
       "      <td>[1, 9]</td>\n",
       "      <td>{'c': 1}</td>\n",
       "      <td>ZeroDivisionError: division by zero</td>\n",
       "      <td>ZeroDivisionError</td>\n",
       "    </tr>\n",
       "    <tr>\n",
       "      <th>3</th>\n",
       "      <td>do</td>\n",
       "      <td>[1, 3]</td>\n",
       "      <td>{'c': 59}</td>\n",
       "      <td>NotImplementedError: 🤔</td>\n",
       "      <td>NotImplementedError</td>\n",
       "    </tr>\n",
       "  </tbody>\n",
       "</table>\n",
       "</div>"
      ],
      "text/plain": [
       "  func    args     kwargs                                   tb  \\\n",
       "0   do  [1, 9]   {'c': 4}  ZeroDivisionError: division by zero   \n",
       "1   do  [1, 6]  {'c': 61}               NotImplementedError: 🤔   \n",
       "2   do  [1, 9]   {'c': 1}  ZeroDivisionError: division by zero   \n",
       "3   do  [1, 3]  {'c': 59}               NotImplementedError: 🤔   \n",
       "\n",
       "              err_type  \n",
       "0    ZeroDivisionError  \n",
       "1  NotImplementedError  \n",
       "2    ZeroDivisionError  \n",
       "3  NotImplementedError  "
      ]
     },
     "execution_count": 17,
     "metadata": {},
     "output_type": "execute_result"
    }
   ],
   "source": [
    "import random\n",
    "\n",
    "random.seed(10)\n",
    "\n",
    "\n",
    "@tryy(silence_errors=True)\n",
    "def do(a, b, c):\n",
    "    if c < 50:\n",
    "        return 1 / 0\n",
    "    else:\n",
    "        raise NotImplementedError(\"🤔\")\n",
    "\n",
    "\n",
    "for _ in range(4):\n",
    "    do(1, random.randint(0, 10), c=random.randint(0, 100))\n",
    "\n",
    "do.error_summary()"
   ]
  },
  {
   "cell_type": "markdown",
   "metadata": {},
   "source": [
    "and the actual list of errors like so"
   ]
  },
  {
   "cell_type": "code",
   "execution_count": 18,
   "metadata": {},
   "outputs": [
    {
     "data": {
      "text/plain": [
       "[\n",
       " ```↯ AttrDict ↯\n",
       " func - do (🏷️ str)\n",
       " args()\n",
       "   0 - 1 (🏷️ int)\n",
       "   1 - 9 (🏷️ int)\n",
       " kwargs\n",
       "   c - 4 (🏷️ int)\n",
       " tb - ZeroDivisionError: division by zero (🏷️ str)\n",
       " err_type - ZeroDivisionError (🏷️ str)\n",
       " \n",
       " ```,\n",
       " \n",
       " ```↯ AttrDict ↯\n",
       " func - do (🏷️ str)\n",
       " args()\n",
       "   0 - 1 (🏷️ int)\n",
       "   1 - 6 (🏷️ int)\n",
       " kwargs\n",
       "   c - 61 (🏷️ int)\n",
       " tb - NotImplementedError: 🤔 (🏷️ str)\n",
       " err_type - NotImplementedError (🏷️ str)\n",
       " \n",
       " ```,\n",
       " \n",
       " ```↯ AttrDict ↯\n",
       " func - do (🏷️ str)\n",
       " args()\n",
       "   0 - 1 (🏷️ int)\n",
       "   1 - 9 (🏷️ int)\n",
       " kwargs\n",
       "   c - 1 (🏷️ int)\n",
       " tb - ZeroDivisionError: division by zero (🏷️ str)\n",
       " err_type - ZeroDivisionError (🏷️ str)\n",
       " \n",
       " ```,\n",
       " \n",
       " ```↯ AttrDict ↯\n",
       " func - do (🏷️ str)\n",
       " args()\n",
       "   0 - 1 (🏷️ int)\n",
       "   1 - 3 (🏷️ int)\n",
       " kwargs\n",
       "   c - 59 (🏷️ int)\n",
       " tb - NotImplementedError: 🤔 (🏷️ str)\n",
       " err_type - NotImplementedError (🏷️ str)\n",
       " \n",
       " ```]"
      ]
     },
     "execution_count": 18,
     "metadata": {},
     "output_type": "execute_result"
    }
   ],
   "source": [
    "do.error_store"
   ]
  },
  {
   "cell_type": "markdown",
   "metadata": {},
   "source": [
    "Finally, you want to run the function (without try) to reproduce the error and actually start debugging. Just use the `.F` attribute to access the original function that you created"
   ]
  },
  {
   "cell_type": "code",
   "execution_count": 19,
   "metadata": {},
   "outputs": [
    {
     "ename": "ZeroDivisionError",
     "evalue": "division by zero",
     "output_type": "error",
     "traceback": [
      "\u001b[0;31m---------------------------------------------------------------------------\u001b[0m",
      "\u001b[0;31mZeroDivisionError\u001b[0m                         Traceback (most recent call last)",
      "Cell \u001b[0;32mIn[19], line 3\u001b[0m\n\u001b[1;32m      1\u001b[0m ix \u001b[38;5;241m=\u001b[39m \u001b[38;5;241m2\u001b[39m\n\u001b[1;32m      2\u001b[0m data \u001b[38;5;241m=\u001b[39m do\u001b[38;5;241m.\u001b[39merror_store[ix]\n\u001b[0;32m----> 3\u001b[0m \u001b[43mdo\u001b[49m\u001b[38;5;241;43m.\u001b[39;49m\u001b[43mF\u001b[49m\u001b[43m(\u001b[49m\u001b[38;5;241;43m*\u001b[39;49m\u001b[43mdata\u001b[49m\u001b[38;5;241;43m.\u001b[39;49m\u001b[43margs\u001b[49m\u001b[43m,\u001b[49m\u001b[43m \u001b[49m\u001b[38;5;241;43m*\u001b[39;49m\u001b[38;5;241;43m*\u001b[39;49m\u001b[43mdata\u001b[49m\u001b[38;5;241;43m.\u001b[39;49m\u001b[43mkwargs\u001b[49m\u001b[43m)\u001b[49m\n",
      "Cell \u001b[0;32mIn[17], line 9\u001b[0m, in \u001b[0;36mdo\u001b[0;34m(a, b, c)\u001b[0m\n\u001b[1;32m      6\u001b[0m \u001b[38;5;129m@tryy\u001b[39m(silence_errors\u001b[38;5;241m=\u001b[39m\u001b[38;5;28;01mTrue\u001b[39;00m)\n\u001b[1;32m      7\u001b[0m \u001b[38;5;28;01mdef\u001b[39;00m \u001b[38;5;21mdo\u001b[39m(a, b, c):\n\u001b[1;32m      8\u001b[0m     \u001b[38;5;28;01mif\u001b[39;00m c \u001b[38;5;241m<\u001b[39m \u001b[38;5;241m50\u001b[39m:\n\u001b[0;32m----> 9\u001b[0m         \u001b[38;5;28;01mreturn\u001b[39;00m \u001b[38;5;241;43m1\u001b[39;49m\u001b[43m \u001b[49m\u001b[38;5;241;43m/\u001b[39;49m\u001b[43m \u001b[49m\u001b[38;5;241;43m0\u001b[39;49m\n\u001b[1;32m     10\u001b[0m     \u001b[38;5;28;01melse\u001b[39;00m:\n\u001b[1;32m     11\u001b[0m         \u001b[38;5;28;01mraise\u001b[39;00m \u001b[38;5;167;01mNotImplementedError\u001b[39;00m(\u001b[38;5;124m\"\u001b[39m\u001b[38;5;124m🤔\u001b[39m\u001b[38;5;124m\"\u001b[39m)\n",
      "\u001b[0;31mZeroDivisionError\u001b[0m: division by zero"
     ]
    }
   ],
   "source": [
    "ix = 2\n",
    "data = do.error_store[ix]\n",
    "do.F(*data.args, **data.kwargs)"
   ]
  },
  {
   "cell_type": "code",
   "execution_count": null,
   "metadata": {},
   "outputs": [],
   "source": [
    "def deco(decorator):\n",
    "    @wraps(decorator)\n",
    "    def wrapper(*args, **kwargs):\n",
    "        def real_decorator(func):\n",
    "            @wraps(func)\n",
    "            def inner_wrapper(*fargs, **fkwargs):\n",
    "                return decorator(func, *fargs, **fkwargs)\n",
    "\n",
    "            return inner_wrapper\n",
    "\n",
    "        if len(args) == 1 and callable(args[0]) and not kwargs:\n",
    "            # Case when B is used without arguments\n",
    "            return real_decorator(args[0])\n",
    "        else:\n",
    "            # Case when B is used with arguments\n",
    "            def custom_decorator(func):\n",
    "                return decorator(func, **kwargs)\n",
    "\n",
    "            return custom_decorator\n",
    "\n",
    "    return wrapper"
   ]
  },
  {
   "cell_type": "code",
   "execution_count": null,
   "metadata": {},
   "outputs": [],
   "source": [
    "@deco\n",
    "def B(func, *args, deco_param=\"default\", **kwargs):\n",
    "    print(\"B\", deco_param, print(\"args\", *args, \"kwargs\", **kwargs))\n",
    "    return func(*args, **kwargs)"
   ]
  },
  {
   "cell_type": "code",
   "execution_count": null,
   "metadata": {},
   "outputs": [],
   "source": [
    "@B\n",
    "def C(a, b, c):\n",
    "    print(\"C\")\n",
    "    return a + (b * c)\n",
    "\n",
    "\n",
    "C(1, 2, 3)"
   ]
  },
  {
   "cell_type": "code",
   "execution_count": null,
   "metadata": {},
   "outputs": [],
   "source": [
    "@B(deco_param=\"new_param\")\n",
    "def C(a, b, c):\n",
    "    return a + (b * c)\n",
    "\n",
    "\n",
    "# Testing\n",
    "print(C(1, 2, 3))  # Outputs 'new_param' then the result 7"
   ]
  }
 ],
 "metadata": {
  "kernelspec": {
   "display_name": "Python 3 (ipykernel)",
   "language": "python",
   "name": "python3"
  },
  "language_info": {
   "codemirror_mode": {
    "name": "ipython",
    "version": 3
   },
   "file_extension": ".py",
   "mimetype": "text/x-python",
   "name": "python",
   "nbconvert_exporter": "python",
   "pygments_lexer": "ipython3",
   "version": "3.12.4"
  },
  "vscode": {
   "interpreter": {
    "hash": "6b6ea07c3428539b6f2e73b58ccfbe441e6932da93cb0b63ea798c577834408a"
   }
  }
 },
 "nbformat": 4,
 "nbformat_minor": 4
}
