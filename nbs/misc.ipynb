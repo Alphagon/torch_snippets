{
 "cells": [
  {
   "cell_type": "markdown",
   "metadata": {},
   "source": [
    "# Miscellaneous"
   ]
  },
  {
   "cell_type": "code",
   "execution_count": 1,
   "metadata": {},
   "outputs": [],
   "source": [
    "# | default_exp misc"
   ]
  },
  {
   "cell_type": "code",
   "execution_count": 2,
   "metadata": {},
   "outputs": [
    {
     "data": {
      "text/html": [
       "<pre style=\"white-space:pre;overflow-x:auto;line-height:normal;font-family:Menlo,'DejaVu Sans Mono',consolas,'Courier New',monospace\"><span style=\"color: #7fbfbf; text-decoration-color: #7fbfbf\">[08/23/24 17:39:26] </span><span style=\"color: #bf7f7f; text-decoration-color: #bf7f7f\">WARNING </span> Unable to load torch and dependent libraries from torch-snippets.                                                        <a href=\"file:///Users/yeshwanth/Code/Personal/torch_snippets/torch_snippets/loader.py:108\" target=\"_blank\"><span style=\"color: #7f7f7f; text-decoration-color: #7f7f7f\">loader.py</span></a><span style=\"color: #7f7f7f; text-decoration-color: #7f7f7f\">:</span><a href=\"file:///Users/yeshwanth/Code/Personal/torch_snippets/torch_snippets/loader.py:108#<module>:108\" target=\"_blank\"><span style=\"color: #7f7f7f; text-decoration-color: #7f7f7f\">&lt;module&gt;:108</span></a>\n",
       "<span style=\"color: #7fbfbf; text-decoration-color: #7fbfbf\">                    </span>         Functionalities might be limited. pip install lovely-tensors in case there are torch related errors                      <span style=\"color: #7f7f7f; text-decoration-color: #7f7f7f\">                      </span>\n",
       "</pre>\n"
      ],
      "text/plain": [
       "\u001b[2;36m[08/23/24 17:39:26]\u001b[0m\u001b[2;36m \u001b[0m\u001b[2;31mWARNING \u001b[0m Unable to load torch and dependent libraries from torch-snippets.                                                        \u001b]8;id=216491;file:///Users/yeshwanth/Code/Personal/torch_snippets/torch_snippets/loader.py:108\u001b\\\u001b[2mloader.py\u001b[0m\u001b]8;;\u001b\\\u001b[2m:\u001b[0m\u001b]8;id=691599;file:///Users/yeshwanth/Code/Personal/torch_snippets/torch_snippets/loader.py:108#<module>:108\u001b\\\u001b[2m<module>:108\u001b[0m\u001b]8;;\u001b\\\n",
       "\u001b[2;36m                    \u001b[0m         Functionalities might be limited. pip install lovely-tensors in case there are torch related errors                      \u001b[2m                      \u001b[0m\n"
      ]
     },
     "metadata": {},
     "output_type": "display_data"
    }
   ],
   "source": [
    "# | export\n",
    "import time\n",
    "from torch_snippets.logger import Debug, Excep, debug_mode, Info\n",
    "from torch_snippets.markup2 import AD\n",
    "from functools import wraps\n",
    "from fastcore.basics import ifnone\n",
    "from fastcore.foundation import L"
   ]
  },
  {
   "cell_type": "code",
   "execution_count": 3,
   "metadata": {
    "execution": {
     "iopub.execute_input": "2021-03-10T09:35:28.300728Z",
     "iopub.status.busy": "2021-03-10T09:35:28.300441Z",
     "iopub.status.idle": "2021-03-10T09:35:31.596373Z",
     "shell.execute_reply": "2021-03-10T09:35:31.595528Z",
     "shell.execute_reply.started": "2021-03-10T09:35:28.300702Z"
    }
   },
   "outputs": [],
   "source": [
    "# | export\n",
    "# | hide\n",
    "\n",
    "\n",
    "class Timer:\n",
    "    def __init__(self, N, smooth=True, mode=1):\n",
    "        \"print elapsed time every iteration and print out remaining time\"\n",
    "        \"assumes this timer is called exactly N times or less\"\n",
    "        self.tok = self.start = time.time()\n",
    "        self.N = N\n",
    "        self.ix = 0\n",
    "        self.smooth = smooth\n",
    "        self.mode = mode\n",
    "        # 0 = instant-speed, i.e., time remaining is a funciton of only the last iteration\n",
    "        # Useful when you know that each loop takes unequal time (increasing/decreasing speeds)\n",
    "        # 1 = average, i.e., time remaining is a function of average of all iterations\n",
    "        # Usefule when you know on average each loop or a group of loops take around the same time\n",
    "\n",
    "    def __call__(self, ix=None, info=None):\n",
    "        ix = self.ix if ix is None else ix\n",
    "        info = \"\" if info is None else f\"{info}\\t\"\n",
    "        tik = time.time()\n",
    "        elapsed = tik - self.start\n",
    "\n",
    "        if self.mode == 0:\n",
    "            ielapsed = tik - self.tok\n",
    "            ispeed = ielapsed\n",
    "            iremaining = (self.N - (ix + 1)) * ispeed\n",
    "\n",
    "            iunit = \"s/iter\"\n",
    "            if ispeed < 1:\n",
    "                ispeed = 1 / ispeed\n",
    "                iunit = \"iters/s\"\n",
    "            iestimate = iremaining + elapsed\n",
    "            _info = f\"{info}{ix+1}/{self.N} ({elapsed:.2f}s - {iremaining:.2f}s remaining - {ispeed:.2f} {iunit})\"\n",
    "\n",
    "        else:\n",
    "            speed = elapsed / (ix + 1)\n",
    "            remaining = (self.N - (ix + 1)) * speed\n",
    "            unit = \"s/iter\"\n",
    "            if speed < 1:\n",
    "                speed = 1 / speed\n",
    "                unit = \"iters/s\"\n",
    "            estimate = remaining + elapsed\n",
    "            # print(f'N={self.N} e={elapsed:.2f} _rem={self.N-(ix+1)} r={remaining:.2f} s={speed:.2f}\\t\\t')\n",
    "            _info = f\"{info}{ix+1}/{self.N} ({elapsed:.2f}s - {remaining:.2f}s remaining - {speed:.2f} {unit})\"\n",
    "\n",
    "        print(\n",
    "            _info + \" \" * 10,\n",
    "            end=\"\\r\",\n",
    "        )\n",
    "        self.ix += 1\n",
    "        self.tok = tik\n",
    "\n",
    "\n",
    "def track2(iterable, *, total=None):\n",
    "    try:\n",
    "        total = ifnone(total, len(iterable))\n",
    "    except:\n",
    "        ...\n",
    "    timer = Timer(total)\n",
    "    for item in iterable:\n",
    "        info = yield item\n",
    "        timer(info=info)\n",
    "        if info is not None:\n",
    "            yield  # Just to ensure the send operation stops"
   ]
  },
  {
   "cell_type": "code",
   "execution_count": 4,
   "metadata": {},
   "outputs": [
    {
     "name": "stdout",
     "output_type": "stream",
     "text": [
      "\n",
      "1/10 (1.01s - 9.05s remaining - 1.01 s/iter)          \n",
      "2/10 (1.91s - 7.63s remaining - 1.05 iters/s)          \n",
      "3/10 (2.71s - 6.33s remaining - 1.11 iters/s)          \n",
      "4/10 (3.42s - 5.12s remaining - 1.17 iters/s)          \n",
      "5/10 (4.02s - 4.02s remaining - 1.24 iters/s)          \n",
      "6/10 (4.52s - 3.01s remaining - 1.33 iters/s)          \n",
      "7/10 (4.92s - 2.11s remaining - 1.42 iters/s)          \n",
      "8/10 (5.23s - 1.31s remaining - 1.53 iters/s)          \n",
      "9/10 (5.43s - 0.60s remaining - 1.66 iters/s)          \n",
      "10/10 (5.53s - 0.00s remaining - 1.81 iters/s)          \r"
     ]
    }
   ],
   "source": [
    "def track2(iterable, *, total=None, timer_mode=1):\n",
    "    try:\n",
    "        total = ifnone(total, len(iterable))\n",
    "    except:\n",
    "        ...\n",
    "    timer = Timer(total, mode=timer_mode)\n",
    "    for item in iterable:\n",
    "        info = yield item\n",
    "        timer(info=info)\n",
    "        if info is not None:\n",
    "            yield  # Just to ensure the send operation stops\n",
    "\n",
    "\n",
    "l = list(range(10, 0, -1))\n",
    "fact = 10\n",
    "t = sum(l) / fact\n",
    "for i in track2(l):\n",
    "    time.sleep(i / fact)\n",
    "    print()"
   ]
  },
  {
   "cell_type": "markdown",
   "metadata": {},
   "source": [
    "Use timer as a standalone class so you have full control on when to call a lap (most useful in while loops)..."
   ]
  },
  {
   "cell_type": "code",
   "execution_count": 5,
   "metadata": {},
   "outputs": [
    {
     "name": "stdout",
     "output_type": "stream",
     "text": [
      "51/100 (5.28s - 5.07s remaining - 9.66 iters/s)          \n",
      "My Info: 156.1\t100/100 (10.38s - 0.00s remaining - 9.63 iters/s)          \r"
     ]
    }
   ],
   "source": [
    "N = 100\n",
    "t = Timer(N)\n",
    "info = None\n",
    "\n",
    "for i in range(N):\n",
    "    time.sleep(0.1)\n",
    "    t(info=info)  # Lap and present the time\n",
    "    if i == 50:\n",
    "        print()\n",
    "        info = f\"My Info: {i*3.122}\""
   ]
  },
  {
   "cell_type": "markdown",
   "metadata": {},
   "source": [
    "... or use track2 to directly track a loop"
   ]
  },
  {
   "cell_type": "code",
   "execution_count": 6,
   "metadata": {},
   "outputs": [
    {
     "name": "stdout",
     "output_type": "stream",
     "text": [
      "50/100 (5.20s - 5.20s remaining - 9.61 iters/s)          \n",
      "My Info: 309.08\t100/100 (10.36s - 0.00s remaining - 9.65 iters/s)          \r"
     ]
    }
   ],
   "source": [
    "N = 100\n",
    "info = None\n",
    "\n",
    "for i in (tracker := track2(range(N), total=N)):\n",
    "    time.sleep(0.1)\n",
    "    info = f\"My Info: {i*3.122:.2f}\"\n",
    "    if i == N // 2:\n",
    "        print()\n",
    "    if i >= N // 2:\n",
    "        tracker.send(info)"
   ]
  },
  {
   "cell_type": "markdown",
   "metadata": {},
   "source": [
    "## Warning! NEVER RUN `tracker.send(None)` as this will skip variables silently"
   ]
  },
  {
   "cell_type": "code",
   "execution_count": 7,
   "metadata": {},
   "outputs": [],
   "source": [
    "# | export\n",
    "# | hide\n",
    "\n",
    "\n",
    "def summarize_input(args, kwargs, outputs=None):\n",
    "    o = AD(args, kwargs)\n",
    "    if outputs is not None:\n",
    "        o.outputs = outputs\n",
    "    return o.summary()\n",
    "\n",
    "\n",
    "def timeit(func):\n",
    "    def inner(*args, **kwargs):\n",
    "        s = time.time()\n",
    "        o = func(*args, **kwargs)\n",
    "        Debug(f\"{time.time() - s:.2f} seconds to execute `{func.__name__}`\")\n",
    "        return o\n",
    "\n",
    "    return inner\n",
    "\n",
    "\n",
    "def io(func):\n",
    "    def inner(*args, **kwargs):\n",
    "        s = time.time()\n",
    "        o = func(*args, **kwargs)\n",
    "        info = f\"\"\"\n",
    "{time.time() - s:.2f} seconds to execute `{func.__name__}`\n",
    "{summarize_input(args=args, kwargs=kwargs, outputs=o)}\n",
    "        \"\"\"\n",
    "        Debug(info, depth=1)\n",
    "        return o\n",
    "\n",
    "    return inner"
   ]
  },
  {
   "cell_type": "code",
   "execution_count": 8,
   "metadata": {},
   "outputs": [
    {
     "data": {
      "text/html": [
       "<pre style=\"white-space:pre;overflow-x:auto;line-height:normal;font-family:Menlo,'DejaVu Sans Mono',consolas,'Courier New',monospace\"><span style=\"color: #7fbfbf; text-decoration-color: #7fbfbf\">[08/23/24 17:39:53] </span><span style=\"color: #008000; text-decoration-color: #008000\">DEBUG   </span> <span style=\"color: #008080; text-decoration-color: #008080; font-weight: bold\">0.00</span> seconds to execute `foo`                                                                                            <a href=\"file:///var/folders/1_/71dqv9vx2750gmyz77q_f45w0000gn/T/ipykernel_28490/1296653500.py:16\" target=\"_blank\"><span style=\"color: #7f7f7f; text-decoration-color: #7f7f7f\">1296653500.py</span></a><span style=\"color: #7f7f7f; text-decoration-color: #7f7f7f\">:</span><a href=\"file:///var/folders/1_/71dqv9vx2750gmyz77q_f45w0000gn/T/ipykernel_28490/1296653500.py:16#inner:16\" target=\"_blank\"><span style=\"color: #7f7f7f; text-decoration-color: #7f7f7f\">inner:16</span></a>\n",
       "</pre>\n"
      ],
      "text/plain": [
       "\u001b[2;36m[08/23/24 17:39:53]\u001b[0m\u001b[2;36m \u001b[0m\u001b[32mDEBUG   \u001b[0m \u001b[1;36m0.00\u001b[0m seconds to execute `foo`                                                                                            \u001b]8;id=645548;file:///var/folders/1_/71dqv9vx2750gmyz77q_f45w0000gn/T/ipykernel_28490/1296653500.py:16\u001b\\\u001b[2m1296653500.py\u001b[0m\u001b]8;;\u001b\\\u001b[2m:\u001b[0m\u001b]8;id=353152;file:///var/folders/1_/71dqv9vx2750gmyz77q_f45w0000gn/T/ipykernel_28490/1296653500.py:16#inner:16\u001b\\\u001b[2minner:16\u001b[0m\u001b]8;;\u001b\\\n"
      ]
     },
     "metadata": {},
     "output_type": "display_data"
    },
    {
     "data": {
      "text/html": [
       "<pre style=\"white-space:pre;overflow-x:auto;line-height:normal;font-family:Menlo,'DejaVu Sans Mono',consolas,'Courier New',monospace\"><span style=\"color: #7fbfbf; text-decoration-color: #7fbfbf\">                    </span><span style=\"color: #008000; text-decoration-color: #008000\">DEBUG   </span>                                                                                                                       <a href=\"file:///var/folders/1_/71dqv9vx2750gmyz77q_f45w0000gn/T/ipykernel_28490/2064456364.py:12\" target=\"_blank\"><span style=\"color: #7f7f7f; text-decoration-color: #7f7f7f\">2064456364.py</span></a><span style=\"color: #7f7f7f; text-decoration-color: #7f7f7f\">:</span><a href=\"file:///var/folders/1_/71dqv9vx2750gmyz77q_f45w0000gn/T/ipykernel_28490/2064456364.py:12#<module>:12\" target=\"_blank\"><span style=\"color: #7f7f7f; text-decoration-color: #7f7f7f\">&lt;module&gt;:12</span></a>\n",
       "<span style=\"color: #7fbfbf; text-decoration-color: #7fbfbf\">                    </span>         <span style=\"color: #008080; text-decoration-color: #008080; font-weight: bold\">0.00</span> seconds to execute `inner`                                                                                       <span style=\"color: #7f7f7f; text-decoration-color: #7f7f7f\">                         </span>\n",
       "<span style=\"color: #7fbfbf; text-decoration-color: #7fbfbf\">                    </span>         <span style=\"color: #800080; text-decoration-color: #800080; font-weight: bold\">args</span><span style=\"font-weight: bold\">()</span>                                                                                                                <span style=\"color: #7f7f7f; text-decoration-color: #7f7f7f\">                         </span>\n",
       "<span style=\"color: #7fbfbf; text-decoration-color: #7fbfbf\">                    </span>           <span style=\"color: #008080; text-decoration-color: #008080; font-weight: bold\">0</span> - <span style=\"color: #008080; text-decoration-color: #008080; font-weight: bold\">10</span> <span style=\"font-weight: bold\">(</span>🏷️ int<span style=\"font-weight: bold\">)</span>                                                                                                      <span style=\"color: #7f7f7f; text-decoration-color: #7f7f7f\">                         </span>\n",
       "<span style=\"color: #7fbfbf; text-decoration-color: #7fbfbf\">                    </span>         kwargs                                                                                                                <span style=\"color: #7f7f7f; text-decoration-color: #7f7f7f\">                         </span>\n",
       "<span style=\"color: #7fbfbf; text-decoration-color: #7fbfbf\">                    </span>         outputs - <span style=\"color: #008080; text-decoration-color: #008080; font-weight: bold\">11</span> <span style=\"font-weight: bold\">(</span>🏷️ int<span style=\"font-weight: bold\">)</span>                                                                                                  <span style=\"color: #7f7f7f; text-decoration-color: #7f7f7f\">                         </span>\n",
       "<span style=\"color: #7fbfbf; text-decoration-color: #7fbfbf\">                    </span>                                                                                                                               <span style=\"color: #7f7f7f; text-decoration-color: #7f7f7f\">                         </span>\n",
       "<span style=\"color: #7fbfbf; text-decoration-color: #7fbfbf\">                    </span>                                                                                                                               <span style=\"color: #7f7f7f; text-decoration-color: #7f7f7f\">                         </span>\n",
       "</pre>\n"
      ],
      "text/plain": [
       "\u001b[2;36m                   \u001b[0m\u001b[2;36m \u001b[0m\u001b[32mDEBUG   \u001b[0m                                                                                                                       \u001b]8;id=824600;file:///var/folders/1_/71dqv9vx2750gmyz77q_f45w0000gn/T/ipykernel_28490/2064456364.py:12\u001b\\\u001b[2m2064456364.py\u001b[0m\u001b]8;;\u001b\\\u001b[2m:\u001b[0m\u001b]8;id=898659;file:///var/folders/1_/71dqv9vx2750gmyz77q_f45w0000gn/T/ipykernel_28490/2064456364.py:12#<module>:12\u001b\\\u001b[2m<module>:12\u001b[0m\u001b]8;;\u001b\\\n",
       "\u001b[2;36m                    \u001b[0m         \u001b[1;36m0.00\u001b[0m seconds to execute `inner`                                                                                       \u001b[2m                         \u001b[0m\n",
       "\u001b[2;36m                    \u001b[0m         \u001b[1;35margs\u001b[0m\u001b[1m(\u001b[0m\u001b[1m)\u001b[0m                                                                                                                \u001b[2m                         \u001b[0m\n",
       "\u001b[2;36m                    \u001b[0m           \u001b[1;36m0\u001b[0m - \u001b[1;36m10\u001b[0m \u001b[1m(\u001b[0m🏷️ int\u001b[1m)\u001b[0m                                                                                                      \u001b[2m                         \u001b[0m\n",
       "\u001b[2;36m                    \u001b[0m         kwargs                                                                                                                \u001b[2m                         \u001b[0m\n",
       "\u001b[2;36m                    \u001b[0m         outputs - \u001b[1;36m11\u001b[0m \u001b[1m(\u001b[0m🏷️ int\u001b[1m)\u001b[0m                                                                                                  \u001b[2m                         \u001b[0m\n",
       "\u001b[2;36m                    \u001b[0m                                                                                                                               \u001b[2m                         \u001b[0m\n",
       "\u001b[2;36m                    \u001b[0m                                                                                                                               \u001b[2m                         \u001b[0m\n"
      ]
     },
     "metadata": {},
     "output_type": "display_data"
    },
    {
     "data": {
      "text/html": [
       "<pre style=\"white-space:pre;overflow-x:auto;line-height:normal;font-family:Menlo,'DejaVu Sans Mono',consolas,'Courier New',monospace\"><span style=\"color: #7fbfbf; text-decoration-color: #7fbfbf\">[08/23/24 17:39:55] </span><span style=\"color: #008000; text-decoration-color: #008000\">DEBUG   </span> <span style=\"color: #008080; text-decoration-color: #008080; font-weight: bold\">2.01</span> seconds to execute `foo`                                                                                            <a href=\"file:///var/folders/1_/71dqv9vx2750gmyz77q_f45w0000gn/T/ipykernel_28490/1296653500.py:16\" target=\"_blank\"><span style=\"color: #7f7f7f; text-decoration-color: #7f7f7f\">1296653500.py</span></a><span style=\"color: #7f7f7f; text-decoration-color: #7f7f7f\">:</span><a href=\"file:///var/folders/1_/71dqv9vx2750gmyz77q_f45w0000gn/T/ipykernel_28490/1296653500.py:16#inner:16\" target=\"_blank\"><span style=\"color: #7f7f7f; text-decoration-color: #7f7f7f\">inner:16</span></a>\n",
       "</pre>\n"
      ],
      "text/plain": [
       "\u001b[2;36m[08/23/24 17:39:55]\u001b[0m\u001b[2;36m \u001b[0m\u001b[32mDEBUG   \u001b[0m \u001b[1;36m2.01\u001b[0m seconds to execute `foo`                                                                                            \u001b]8;id=621942;file:///var/folders/1_/71dqv9vx2750gmyz77q_f45w0000gn/T/ipykernel_28490/1296653500.py:16\u001b\\\u001b[2m1296653500.py\u001b[0m\u001b]8;;\u001b\\\u001b[2m:\u001b[0m\u001b]8;id=222460;file:///var/folders/1_/71dqv9vx2750gmyz77q_f45w0000gn/T/ipykernel_28490/1296653500.py:16#inner:16\u001b\\\u001b[2minner:16\u001b[0m\u001b]8;;\u001b\\\n"
      ]
     },
     "metadata": {},
     "output_type": "display_data"
    },
    {
     "data": {
      "text/html": [
       "<pre style=\"white-space:pre;overflow-x:auto;line-height:normal;font-family:Menlo,'DejaVu Sans Mono',consolas,'Courier New',monospace\"><span style=\"color: #7fbfbf; text-decoration-color: #7fbfbf\">                    </span><span style=\"color: #008000; text-decoration-color: #008000\">DEBUG   </span>                                                                                                                       <a href=\"file:///var/folders/1_/71dqv9vx2750gmyz77q_f45w0000gn/T/ipykernel_28490/2064456364.py:13\" target=\"_blank\"><span style=\"color: #7f7f7f; text-decoration-color: #7f7f7f\">2064456364.py</span></a><span style=\"color: #7f7f7f; text-decoration-color: #7f7f7f\">:</span><a href=\"file:///var/folders/1_/71dqv9vx2750gmyz77q_f45w0000gn/T/ipykernel_28490/2064456364.py:13#<module>:13\" target=\"_blank\"><span style=\"color: #7f7f7f; text-decoration-color: #7f7f7f\">&lt;module&gt;:13</span></a>\n",
       "<span style=\"color: #7fbfbf; text-decoration-color: #7fbfbf\">                    </span>         <span style=\"color: #008080; text-decoration-color: #008080; font-weight: bold\">2.01</span> seconds to execute `inner`                                                                                       <span style=\"color: #7f7f7f; text-decoration-color: #7f7f7f\">                         </span>\n",
       "<span style=\"color: #7fbfbf; text-decoration-color: #7fbfbf\">                    </span>         <span style=\"color: #800080; text-decoration-color: #800080; font-weight: bold\">args</span><span style=\"font-weight: bold\">()</span>                                                                                                                <span style=\"color: #7f7f7f; text-decoration-color: #7f7f7f\">                         </span>\n",
       "<span style=\"color: #7fbfbf; text-decoration-color: #7fbfbf\">                    </span>           <span style=\"color: #008080; text-decoration-color: #008080; font-weight: bold\">0</span> - <span style=\"color: #008080; text-decoration-color: #008080; font-weight: bold\">10</span> <span style=\"font-weight: bold\">(</span>🏷️ int<span style=\"font-weight: bold\">)</span>                                                                                                      <span style=\"color: #7f7f7f; text-decoration-color: #7f7f7f\">                         </span>\n",
       "<span style=\"color: #7fbfbf; text-decoration-color: #7fbfbf\">                    </span>         kwargs                                                                                                                <span style=\"color: #7f7f7f; text-decoration-color: #7f7f7f\">                         </span>\n",
       "<span style=\"color: #7fbfbf; text-decoration-color: #7fbfbf\">                    </span>           b - <span style=\"color: #008080; text-decoration-color: #008080; font-weight: bold\">20</span> <span style=\"font-weight: bold\">(</span>🏷️ int<span style=\"font-weight: bold\">)</span>                                                                                                      <span style=\"color: #7f7f7f; text-decoration-color: #7f7f7f\">                         </span>\n",
       "<span style=\"color: #7fbfbf; text-decoration-color: #7fbfbf\">                    </span>         outputs - <span style=\"color: #008080; text-decoration-color: #008080; font-weight: bold\">30</span> <span style=\"font-weight: bold\">(</span>🏷️ int<span style=\"font-weight: bold\">)</span>                                                                                                  <span style=\"color: #7f7f7f; text-decoration-color: #7f7f7f\">                         </span>\n",
       "<span style=\"color: #7fbfbf; text-decoration-color: #7fbfbf\">                    </span>                                                                                                                               <span style=\"color: #7f7f7f; text-decoration-color: #7f7f7f\">                         </span>\n",
       "<span style=\"color: #7fbfbf; text-decoration-color: #7fbfbf\">                    </span>                                                                                                                               <span style=\"color: #7f7f7f; text-decoration-color: #7f7f7f\">                         </span>\n",
       "</pre>\n"
      ],
      "text/plain": [
       "\u001b[2;36m                   \u001b[0m\u001b[2;36m \u001b[0m\u001b[32mDEBUG   \u001b[0m                                                                                                                       \u001b]8;id=179073;file:///var/folders/1_/71dqv9vx2750gmyz77q_f45w0000gn/T/ipykernel_28490/2064456364.py:13\u001b\\\u001b[2m2064456364.py\u001b[0m\u001b]8;;\u001b\\\u001b[2m:\u001b[0m\u001b]8;id=325734;file:///var/folders/1_/71dqv9vx2750gmyz77q_f45w0000gn/T/ipykernel_28490/2064456364.py:13#<module>:13\u001b\\\u001b[2m<module>:13\u001b[0m\u001b]8;;\u001b\\\n",
       "\u001b[2;36m                    \u001b[0m         \u001b[1;36m2.01\u001b[0m seconds to execute `inner`                                                                                       \u001b[2m                         \u001b[0m\n",
       "\u001b[2;36m                    \u001b[0m         \u001b[1;35margs\u001b[0m\u001b[1m(\u001b[0m\u001b[1m)\u001b[0m                                                                                                                \u001b[2m                         \u001b[0m\n",
       "\u001b[2;36m                    \u001b[0m           \u001b[1;36m0\u001b[0m - \u001b[1;36m10\u001b[0m \u001b[1m(\u001b[0m🏷️ int\u001b[1m)\u001b[0m                                                                                                      \u001b[2m                         \u001b[0m\n",
       "\u001b[2;36m                    \u001b[0m         kwargs                                                                                                                \u001b[2m                         \u001b[0m\n",
       "\u001b[2;36m                    \u001b[0m           b - \u001b[1;36m20\u001b[0m \u001b[1m(\u001b[0m🏷️ int\u001b[1m)\u001b[0m                                                                                                      \u001b[2m                         \u001b[0m\n",
       "\u001b[2;36m                    \u001b[0m         outputs - \u001b[1;36m30\u001b[0m \u001b[1m(\u001b[0m🏷️ int\u001b[1m)\u001b[0m                                                                                                  \u001b[2m                         \u001b[0m\n",
       "\u001b[2;36m                    \u001b[0m                                                                                                                               \u001b[2m                         \u001b[0m\n",
       "\u001b[2;36m                    \u001b[0m                                                                                                                               \u001b[2m                         \u001b[0m\n"
      ]
     },
     "metadata": {},
     "output_type": "display_data"
    }
   ],
   "source": [
    "@io\n",
    "@timeit\n",
    "def foo(a, b=None):\n",
    "    if b is None:\n",
    "        return a + 1\n",
    "    else:\n",
    "        time.sleep(2)\n",
    "        return a + b\n",
    "\n",
    "\n",
    "with debug_mode():\n",
    "    foo(10)\n",
    "    foo(10, b=20)"
   ]
  },
  {
   "cell_type": "code",
   "execution_count": 32,
   "metadata": {},
   "outputs": [],
   "source": [
    "# | export\n",
    "# | hide\n",
    "\n",
    "\n",
    "def tryy(\n",
    "    func=None,\n",
    "    *,\n",
    "    output_to_return_on_fail=None,\n",
    "    silence_errors=False,\n",
    "    print_traceback=False,\n",
    "    store_errors: bool = True,\n",
    "):\n",
    "    def decorator(f):\n",
    "        if isinstance(store_errors, bool) and store_errors:\n",
    "            error_store = []\n",
    "        elif isinstance(store_errors, (list, L)):\n",
    "            error_store = store_errors\n",
    "\n",
    "        def inner(*args, **kwargs):\n",
    "            try:\n",
    "                return f(*args, **kwargs)\n",
    "            except Exception as e:\n",
    "                if not print_traceback:\n",
    "                    tb = f\"{type(e).__name__}: {str(e)}\"\n",
    "                else:\n",
    "                    import traceback\n",
    "\n",
    "                    tb = traceback.format_exc()\n",
    "                if not silence_errors:\n",
    "                    Excep(\n",
    "                        f\"Error for `{f.__name__}` with \\n{summarize_input(args, kwargs)}\\n{tb}\"\n",
    "                    )\n",
    "                if store_errors is not None:\n",
    "                    error_store.append(\n",
    "                        AD(\n",
    "                            func=f.__name__,\n",
    "                            args=args,\n",
    "                            kwargs=kwargs,\n",
    "                            tb=tb,\n",
    "                            err_type=type(e).__name__,\n",
    "                        )\n",
    "                    )\n",
    "                return output_to_return_on_fail\n",
    "\n",
    "        inner.F = f  # Store reference to the original function\n",
    "        inner.error_store = error_store\n",
    "\n",
    "        def error_summary():\n",
    "            import pandas as pd\n",
    "\n",
    "            return pd.DataFrame([e.dict() for e in error_store])\n",
    "\n",
    "        inner.error_summary = error_summary\n",
    "        return inner\n",
    "\n",
    "    if callable(func):\n",
    "        return decorator(func)\n",
    "    return decorator"
   ]
  },
  {
   "cell_type": "markdown",
   "metadata": {},
   "source": [
    "## Try Catch with a single line"
   ]
  },
  {
   "cell_type": "code",
   "execution_count": 33,
   "metadata": {},
   "outputs": [
    {
     "data": {
      "text/html": [
       "<pre style=\"white-space:pre;overflow-x:auto;line-height:normal;font-family:Menlo,'DejaVu Sans Mono',consolas,'Courier New',monospace\"><span style=\"color: #7fbfbf; text-decoration-color: #7fbfbf\">[08/23/24 17:48:03] </span><span style=\"color: #800000; text-decoration-color: #800000; font-weight: bold\">ERROR   </span> Error for `do` with                                                                                                      <a href=\"file:///var/folders/1_/71dqv9vx2750gmyz77q_f45w0000gn/T/ipykernel_28490/1057038067.py:30\" target=\"_blank\"><span style=\"color: #7f7f7f; text-decoration-color: #7f7f7f\">1057038067.py</span></a><span style=\"color: #7f7f7f; text-decoration-color: #7f7f7f\">:</span><a href=\"file:///var/folders/1_/71dqv9vx2750gmyz77q_f45w0000gn/T/ipykernel_28490/1057038067.py:30#inner:30\" target=\"_blank\"><span style=\"color: #7f7f7f; text-decoration-color: #7f7f7f\">inner:30</span></a>\n",
       "<span style=\"color: #7fbfbf; text-decoration-color: #7fbfbf\">                    </span>         <span style=\"color: #800080; text-decoration-color: #800080; font-weight: bold\">args</span><span style=\"font-weight: bold\">()</span>                                                                                                                   <span style=\"color: #7f7f7f; text-decoration-color: #7f7f7f\">                      </span>\n",
       "<span style=\"color: #7fbfbf; text-decoration-color: #7fbfbf\">                    </span>           <span style=\"color: #008080; text-decoration-color: #008080; font-weight: bold\">0</span> - <span style=\"color: #008080; text-decoration-color: #008080; font-weight: bold\">1</span> <span style=\"font-weight: bold\">(</span>🏷️ int<span style=\"font-weight: bold\">)</span>                                                                                                          <span style=\"color: #7f7f7f; text-decoration-color: #7f7f7f\">                      </span>\n",
       "<span style=\"color: #7fbfbf; text-decoration-color: #7fbfbf\">                    </span>           <span style=\"color: #008080; text-decoration-color: #008080; font-weight: bold\">1</span> - <span style=\"color: #008080; text-decoration-color: #008080; font-weight: bold\">2</span> <span style=\"font-weight: bold\">(</span>🏷️ int<span style=\"font-weight: bold\">)</span>                                                                                                          <span style=\"color: #7f7f7f; text-decoration-color: #7f7f7f\">                      </span>\n",
       "<span style=\"color: #7fbfbf; text-decoration-color: #7fbfbf\">                    </span>         kwargs                                                                                                                   <span style=\"color: #7f7f7f; text-decoration-color: #7f7f7f\">                      </span>\n",
       "<span style=\"color: #7fbfbf; text-decoration-color: #7fbfbf\">                    </span>           c - <span style=\"color: #008080; text-decoration-color: #008080; font-weight: bold\">10</span> <span style=\"font-weight: bold\">(</span>🏷️ int<span style=\"font-weight: bold\">)</span>                                                                                                         <span style=\"color: #7f7f7f; text-decoration-color: #7f7f7f\">                      </span>\n",
       "<span style=\"color: #7fbfbf; text-decoration-color: #7fbfbf\">                    </span>                                                                                                                                  <span style=\"color: #7f7f7f; text-decoration-color: #7f7f7f\">                      </span>\n",
       "<span style=\"color: #7fbfbf; text-decoration-color: #7fbfbf\">                    </span>         ZeroDivisionError: division by zero                                                                                      <span style=\"color: #7f7f7f; text-decoration-color: #7f7f7f\">                      </span>\n",
       "</pre>\n"
      ],
      "text/plain": [
       "\u001b[2;36m[08/23/24 17:48:03]\u001b[0m\u001b[2;36m \u001b[0m\u001b[1;31mERROR   \u001b[0m Error for `do` with                                                                                                      \u001b]8;id=270527;file:///var/folders/1_/71dqv9vx2750gmyz77q_f45w0000gn/T/ipykernel_28490/1057038067.py:30\u001b\\\u001b[2m1057038067.py\u001b[0m\u001b]8;;\u001b\\\u001b[2m:\u001b[0m\u001b]8;id=157819;file:///var/folders/1_/71dqv9vx2750gmyz77q_f45w0000gn/T/ipykernel_28490/1057038067.py:30#inner:30\u001b\\\u001b[2minner:30\u001b[0m\u001b]8;;\u001b\\\n",
       "\u001b[2;36m                    \u001b[0m         \u001b[1;35margs\u001b[0m\u001b[1m(\u001b[0m\u001b[1m)\u001b[0m                                                                                                                   \u001b[2m                      \u001b[0m\n",
       "\u001b[2;36m                    \u001b[0m           \u001b[1;36m0\u001b[0m - \u001b[1;36m1\u001b[0m \u001b[1m(\u001b[0m🏷️ int\u001b[1m)\u001b[0m                                                                                                          \u001b[2m                      \u001b[0m\n",
       "\u001b[2;36m                    \u001b[0m           \u001b[1;36m1\u001b[0m - \u001b[1;36m2\u001b[0m \u001b[1m(\u001b[0m🏷️ int\u001b[1m)\u001b[0m                                                                                                          \u001b[2m                      \u001b[0m\n",
       "\u001b[2;36m                    \u001b[0m         kwargs                                                                                                                   \u001b[2m                      \u001b[0m\n",
       "\u001b[2;36m                    \u001b[0m           c - \u001b[1;36m10\u001b[0m \u001b[1m(\u001b[0m🏷️ int\u001b[1m)\u001b[0m                                                                                                         \u001b[2m                      \u001b[0m\n",
       "\u001b[2;36m                    \u001b[0m                                                                                                                                  \u001b[2m                      \u001b[0m\n",
       "\u001b[2;36m                    \u001b[0m         ZeroDivisionError: division by zero                                                                                      \u001b[2m                      \u001b[0m\n"
      ]
     },
     "metadata": {},
     "output_type": "display_data"
    }
   ],
   "source": [
    "@tryy\n",
    "def do(a, b, c):\n",
    "    return 1 / 0\n",
    "\n",
    "\n",
    "x = do(1, 2, c=10)\n",
    "assert x is None  # tryy returns None by default"
   ]
  },
  {
   "cell_type": "markdown",
   "metadata": {},
   "source": [
    "Use your own default on failure"
   ]
  },
  {
   "cell_type": "code",
   "execution_count": 34,
   "metadata": {},
   "outputs": [
    {
     "data": {
      "text/html": [
       "<pre style=\"white-space:pre;overflow-x:auto;line-height:normal;font-family:Menlo,'DejaVu Sans Mono',consolas,'Courier New',monospace\"><span style=\"color: #7fbfbf; text-decoration-color: #7fbfbf\">[08/23/24 17:48:04] </span><span style=\"color: #800000; text-decoration-color: #800000; font-weight: bold\">ERROR   </span> Error for `do` with                                                                                                      <a href=\"file:///var/folders/1_/71dqv9vx2750gmyz77q_f45w0000gn/T/ipykernel_28490/1057038067.py:30\" target=\"_blank\"><span style=\"color: #7f7f7f; text-decoration-color: #7f7f7f\">1057038067.py</span></a><span style=\"color: #7f7f7f; text-decoration-color: #7f7f7f\">:</span><a href=\"file:///var/folders/1_/71dqv9vx2750gmyz77q_f45w0000gn/T/ipykernel_28490/1057038067.py:30#inner:30\" target=\"_blank\"><span style=\"color: #7f7f7f; text-decoration-color: #7f7f7f\">inner:30</span></a>\n",
       "<span style=\"color: #7fbfbf; text-decoration-color: #7fbfbf\">                    </span>         <span style=\"color: #800080; text-decoration-color: #800080; font-weight: bold\">args</span><span style=\"font-weight: bold\">()</span>                                                                                                                   <span style=\"color: #7f7f7f; text-decoration-color: #7f7f7f\">                      </span>\n",
       "<span style=\"color: #7fbfbf; text-decoration-color: #7fbfbf\">                    </span>           <span style=\"color: #008080; text-decoration-color: #008080; font-weight: bold\">0</span> - <span style=\"color: #008080; text-decoration-color: #008080; font-weight: bold\">1</span> <span style=\"font-weight: bold\">(</span>🏷️ int<span style=\"font-weight: bold\">)</span>                                                                                                          <span style=\"color: #7f7f7f; text-decoration-color: #7f7f7f\">                      </span>\n",
       "<span style=\"color: #7fbfbf; text-decoration-color: #7fbfbf\">                    </span>           <span style=\"color: #008080; text-decoration-color: #008080; font-weight: bold\">1</span> - <span style=\"color: #008080; text-decoration-color: #008080; font-weight: bold\">2</span> <span style=\"font-weight: bold\">(</span>🏷️ int<span style=\"font-weight: bold\">)</span>                                                                                                          <span style=\"color: #7f7f7f; text-decoration-color: #7f7f7f\">                      </span>\n",
       "<span style=\"color: #7fbfbf; text-decoration-color: #7fbfbf\">                    </span>         kwargs                                                                                                                   <span style=\"color: #7f7f7f; text-decoration-color: #7f7f7f\">                      </span>\n",
       "<span style=\"color: #7fbfbf; text-decoration-color: #7fbfbf\">                    </span>           c - <span style=\"color: #008080; text-decoration-color: #008080; font-weight: bold\">10</span> <span style=\"font-weight: bold\">(</span>🏷️ int<span style=\"font-weight: bold\">)</span>                                                                                                         <span style=\"color: #7f7f7f; text-decoration-color: #7f7f7f\">                      </span>\n",
       "<span style=\"color: #7fbfbf; text-decoration-color: #7fbfbf\">                    </span>                                                                                                                                  <span style=\"color: #7f7f7f; text-decoration-color: #7f7f7f\">                      </span>\n",
       "<span style=\"color: #7fbfbf; text-decoration-color: #7fbfbf\">                    </span>         ZeroDivisionError: division by zero                                                                                      <span style=\"color: #7f7f7f; text-decoration-color: #7f7f7f\">                      </span>\n",
       "</pre>\n"
      ],
      "text/plain": [
       "\u001b[2;36m[08/23/24 17:48:04]\u001b[0m\u001b[2;36m \u001b[0m\u001b[1;31mERROR   \u001b[0m Error for `do` with                                                                                                      \u001b]8;id=550994;file:///var/folders/1_/71dqv9vx2750gmyz77q_f45w0000gn/T/ipykernel_28490/1057038067.py:30\u001b\\\u001b[2m1057038067.py\u001b[0m\u001b]8;;\u001b\\\u001b[2m:\u001b[0m\u001b]8;id=605547;file:///var/folders/1_/71dqv9vx2750gmyz77q_f45w0000gn/T/ipykernel_28490/1057038067.py:30#inner:30\u001b\\\u001b[2minner:30\u001b[0m\u001b]8;;\u001b\\\n",
       "\u001b[2;36m                    \u001b[0m         \u001b[1;35margs\u001b[0m\u001b[1m(\u001b[0m\u001b[1m)\u001b[0m                                                                                                                   \u001b[2m                      \u001b[0m\n",
       "\u001b[2;36m                    \u001b[0m           \u001b[1;36m0\u001b[0m - \u001b[1;36m1\u001b[0m \u001b[1m(\u001b[0m🏷️ int\u001b[1m)\u001b[0m                                                                                                          \u001b[2m                      \u001b[0m\n",
       "\u001b[2;36m                    \u001b[0m           \u001b[1;36m1\u001b[0m - \u001b[1;36m2\u001b[0m \u001b[1m(\u001b[0m🏷️ int\u001b[1m)\u001b[0m                                                                                                          \u001b[2m                      \u001b[0m\n",
       "\u001b[2;36m                    \u001b[0m         kwargs                                                                                                                   \u001b[2m                      \u001b[0m\n",
       "\u001b[2;36m                    \u001b[0m           c - \u001b[1;36m10\u001b[0m \u001b[1m(\u001b[0m🏷️ int\u001b[1m)\u001b[0m                                                                                                         \u001b[2m                      \u001b[0m\n",
       "\u001b[2;36m                    \u001b[0m                                                                                                                                  \u001b[2m                      \u001b[0m\n",
       "\u001b[2;36m                    \u001b[0m         ZeroDivisionError: division by zero                                                                                      \u001b[2m                      \u001b[0m\n"
      ]
     },
     "metadata": {},
     "output_type": "display_data"
    },
    {
     "data": {
      "text/plain": [
       "'😔'"
      ]
     },
     "execution_count": 34,
     "metadata": {},
     "output_type": "execute_result"
    }
   ],
   "source": [
    "@tryy(output_to_return_on_fail=\"😔\")\n",
    "def do(a, b, c):\n",
    "    return 1 / 0\n",
    "\n",
    "\n",
    "do(1, 2, c=10)"
   ]
  },
  {
   "cell_type": "markdown",
   "metadata": {},
   "source": [
    "Optionally print the full stacktrace if needed"
   ]
  },
  {
   "cell_type": "code",
   "execution_count": 35,
   "metadata": {},
   "outputs": [
    {
     "data": {
      "text/html": [
       "<pre style=\"white-space:pre;overflow-x:auto;line-height:normal;font-family:Menlo,'DejaVu Sans Mono',consolas,'Courier New',monospace\"><span style=\"color: #7fbfbf; text-decoration-color: #7fbfbf\">[08/23/24 17:48:06] </span><span style=\"color: #800000; text-decoration-color: #800000; font-weight: bold\">ERROR   </span> Error for `do` with                                                                                                      <a href=\"file:///var/folders/1_/71dqv9vx2750gmyz77q_f45w0000gn/T/ipykernel_28490/1057038067.py:30\" target=\"_blank\"><span style=\"color: #7f7f7f; text-decoration-color: #7f7f7f\">1057038067.py</span></a><span style=\"color: #7f7f7f; text-decoration-color: #7f7f7f\">:</span><a href=\"file:///var/folders/1_/71dqv9vx2750gmyz77q_f45w0000gn/T/ipykernel_28490/1057038067.py:30#inner:30\" target=\"_blank\"><span style=\"color: #7f7f7f; text-decoration-color: #7f7f7f\">inner:30</span></a>\n",
       "<span style=\"color: #7fbfbf; text-decoration-color: #7fbfbf\">                    </span>         <span style=\"color: #800080; text-decoration-color: #800080; font-weight: bold\">args</span><span style=\"font-weight: bold\">()</span>                                                                                                                   <span style=\"color: #7f7f7f; text-decoration-color: #7f7f7f\">                      </span>\n",
       "<span style=\"color: #7fbfbf; text-decoration-color: #7fbfbf\">                    </span>           <span style=\"color: #008080; text-decoration-color: #008080; font-weight: bold\">0</span> - <span style=\"color: #008080; text-decoration-color: #008080; font-weight: bold\">1</span> <span style=\"font-weight: bold\">(</span>🏷️ int<span style=\"font-weight: bold\">)</span>                                                                                                          <span style=\"color: #7f7f7f; text-decoration-color: #7f7f7f\">                      </span>\n",
       "<span style=\"color: #7fbfbf; text-decoration-color: #7fbfbf\">                    </span>           <span style=\"color: #008080; text-decoration-color: #008080; font-weight: bold\">1</span> - <span style=\"color: #008080; text-decoration-color: #008080; font-weight: bold\">2</span> <span style=\"font-weight: bold\">(</span>🏷️ int<span style=\"font-weight: bold\">)</span>                                                                                                          <span style=\"color: #7f7f7f; text-decoration-color: #7f7f7f\">                      </span>\n",
       "<span style=\"color: #7fbfbf; text-decoration-color: #7fbfbf\">                    </span>         kwargs                                                                                                                   <span style=\"color: #7f7f7f; text-decoration-color: #7f7f7f\">                      </span>\n",
       "<span style=\"color: #7fbfbf; text-decoration-color: #7fbfbf\">                    </span>           c - <span style=\"color: #008080; text-decoration-color: #008080; font-weight: bold\">10</span> <span style=\"font-weight: bold\">(</span>🏷️ int<span style=\"font-weight: bold\">)</span>                                                                                                         <span style=\"color: #7f7f7f; text-decoration-color: #7f7f7f\">                      </span>\n",
       "<span style=\"color: #7fbfbf; text-decoration-color: #7fbfbf\">                    </span>                                                                                                                                  <span style=\"color: #7f7f7f; text-decoration-color: #7f7f7f\">                      </span>\n",
       "<span style=\"color: #7fbfbf; text-decoration-color: #7fbfbf\">                    </span>         Traceback <span style=\"font-weight: bold\">(</span>most recent call last<span style=\"font-weight: bold\">)</span>:                                                                                       <span style=\"color: #7f7f7f; text-decoration-color: #7f7f7f\">                      </span>\n",
       "<span style=\"color: #7fbfbf; text-decoration-color: #7fbfbf\">                    </span>           File <span style=\"color: #008000; text-decoration-color: #008000\">\"/var/folders/1_/71dqv9vx2750gmyz77q_f45w0000gn/T/ipykernel_28490/1057038067.py\"</span>, line <span style=\"color: #008080; text-decoration-color: #008080; font-weight: bold\">21</span>, in inner               <span style=\"color: #7f7f7f; text-decoration-color: #7f7f7f\">                      </span>\n",
       "<span style=\"color: #7fbfbf; text-decoration-color: #7fbfbf\">                    </span>             return <span style=\"color: #800080; text-decoration-color: #800080; font-weight: bold\">f</span><span style=\"font-weight: bold\">(</span>*args, **kwargs<span style=\"font-weight: bold\">)</span>                                                                                            <span style=\"color: #7f7f7f; text-decoration-color: #7f7f7f\">                      </span>\n",
       "<span style=\"color: #7fbfbf; text-decoration-color: #7fbfbf\">                    </span>                    ^^^^^^^^^^^^^^^^^^                                                                                            <span style=\"color: #7f7f7f; text-decoration-color: #7f7f7f\">                      </span>\n",
       "<span style=\"color: #7fbfbf; text-decoration-color: #7fbfbf\">                    </span>           File <span style=\"color: #008000; text-decoration-color: #008000\">\"/var/folders/1_/71dqv9vx2750gmyz77q_f45w0000gn/T/ipykernel_28490/580638143.py\"</span>, line <span style=\"color: #008080; text-decoration-color: #008080; font-weight: bold\">3</span>, in do                    <span style=\"color: #7f7f7f; text-decoration-color: #7f7f7f\">                      </span>\n",
       "<span style=\"color: #7fbfbf; text-decoration-color: #7fbfbf\">                    </span>             return <span style=\"color: #008080; text-decoration-color: #008080; font-weight: bold\">1</span> <span style=\"color: #800080; text-decoration-color: #800080\">/</span> <span style=\"color: #008080; text-decoration-color: #008080; font-weight: bold\">0</span>                                                                                                         <span style=\"color: #7f7f7f; text-decoration-color: #7f7f7f\">                      </span>\n",
       "<span style=\"color: #7fbfbf; text-decoration-color: #7fbfbf\">                    </span>                    ~~^~~                                                                                                         <span style=\"color: #7f7f7f; text-decoration-color: #7f7f7f\">                      </span>\n",
       "<span style=\"color: #7fbfbf; text-decoration-color: #7fbfbf\">                    </span>         ZeroDivisionError: division by zero                                                                                      <span style=\"color: #7f7f7f; text-decoration-color: #7f7f7f\">                      </span>\n",
       "<span style=\"color: #7fbfbf; text-decoration-color: #7fbfbf\">                    </span>                                                                                                                                  <span style=\"color: #7f7f7f; text-decoration-color: #7f7f7f\">                      </span>\n",
       "</pre>\n"
      ],
      "text/plain": [
       "\u001b[2;36m[08/23/24 17:48:06]\u001b[0m\u001b[2;36m \u001b[0m\u001b[1;31mERROR   \u001b[0m Error for `do` with                                                                                                      \u001b]8;id=430447;file:///var/folders/1_/71dqv9vx2750gmyz77q_f45w0000gn/T/ipykernel_28490/1057038067.py:30\u001b\\\u001b[2m1057038067.py\u001b[0m\u001b]8;;\u001b\\\u001b[2m:\u001b[0m\u001b]8;id=852031;file:///var/folders/1_/71dqv9vx2750gmyz77q_f45w0000gn/T/ipykernel_28490/1057038067.py:30#inner:30\u001b\\\u001b[2minner:30\u001b[0m\u001b]8;;\u001b\\\n",
       "\u001b[2;36m                    \u001b[0m         \u001b[1;35margs\u001b[0m\u001b[1m(\u001b[0m\u001b[1m)\u001b[0m                                                                                                                   \u001b[2m                      \u001b[0m\n",
       "\u001b[2;36m                    \u001b[0m           \u001b[1;36m0\u001b[0m - \u001b[1;36m1\u001b[0m \u001b[1m(\u001b[0m🏷️ int\u001b[1m)\u001b[0m                                                                                                          \u001b[2m                      \u001b[0m\n",
       "\u001b[2;36m                    \u001b[0m           \u001b[1;36m1\u001b[0m - \u001b[1;36m2\u001b[0m \u001b[1m(\u001b[0m🏷️ int\u001b[1m)\u001b[0m                                                                                                          \u001b[2m                      \u001b[0m\n",
       "\u001b[2;36m                    \u001b[0m         kwargs                                                                                                                   \u001b[2m                      \u001b[0m\n",
       "\u001b[2;36m                    \u001b[0m           c - \u001b[1;36m10\u001b[0m \u001b[1m(\u001b[0m🏷️ int\u001b[1m)\u001b[0m                                                                                                         \u001b[2m                      \u001b[0m\n",
       "\u001b[2;36m                    \u001b[0m                                                                                                                                  \u001b[2m                      \u001b[0m\n",
       "\u001b[2;36m                    \u001b[0m         Traceback \u001b[1m(\u001b[0mmost recent call last\u001b[1m)\u001b[0m:                                                                                       \u001b[2m                      \u001b[0m\n",
       "\u001b[2;36m                    \u001b[0m           File \u001b[32m\"/var/folders/1_/71dqv9vx2750gmyz77q_f45w0000gn/T/ipykernel_28490/1057038067.py\"\u001b[0m, line \u001b[1;36m21\u001b[0m, in inner               \u001b[2m                      \u001b[0m\n",
       "\u001b[2;36m                    \u001b[0m             return \u001b[1;35mf\u001b[0m\u001b[1m(\u001b[0m*args, **kwargs\u001b[1m)\u001b[0m                                                                                            \u001b[2m                      \u001b[0m\n",
       "\u001b[2;36m                    \u001b[0m                    ^^^^^^^^^^^^^^^^^^                                                                                            \u001b[2m                      \u001b[0m\n",
       "\u001b[2;36m                    \u001b[0m           File \u001b[32m\"/var/folders/1_/71dqv9vx2750gmyz77q_f45w0000gn/T/ipykernel_28490/580638143.py\"\u001b[0m, line \u001b[1;36m3\u001b[0m, in do                    \u001b[2m                      \u001b[0m\n",
       "\u001b[2;36m                    \u001b[0m             return \u001b[1;36m1\u001b[0m \u001b[35m/\u001b[0m \u001b[1;36m0\u001b[0m                                                                                                         \u001b[2m                      \u001b[0m\n",
       "\u001b[2;36m                    \u001b[0m                    ~~^~~                                                                                                         \u001b[2m                      \u001b[0m\n",
       "\u001b[2;36m                    \u001b[0m         ZeroDivisionError: division by zero                                                                                      \u001b[2m                      \u001b[0m\n",
       "\u001b[2;36m                    \u001b[0m                                                                                                                                  \u001b[2m                      \u001b[0m\n"
      ]
     },
     "metadata": {},
     "output_type": "display_data"
    },
    {
     "data": {
      "text/plain": [
       "'😔'"
      ]
     },
     "execution_count": 35,
     "metadata": {},
     "output_type": "execute_result"
    }
   ],
   "source": [
    "@tryy(print_traceback=True, output_to_return_on_fail=\"😔\")\n",
    "def do(a, b, c):\n",
    "    return 1 / 0\n",
    "\n",
    "\n",
    "do(1, 2, c=10)"
   ]
  },
  {
   "cell_type": "markdown",
   "metadata": {},
   "source": [
    "You can also silence the errors completely"
   ]
  },
  {
   "cell_type": "code",
   "execution_count": 36,
   "metadata": {},
   "outputs": [
    {
     "data": {
      "text/plain": [
       "'😔'"
      ]
     },
     "execution_count": 36,
     "metadata": {},
     "output_type": "execute_result"
    }
   ],
   "source": [
    "@tryy(silence_errors=True, output_to_return_on_fail=\"😔\")\n",
    "def do(a, b, c):\n",
    "    return 1 / 0\n",
    "\n",
    "\n",
    "do(1, 2, c=10)"
   ]
  },
  {
   "cell_type": "markdown",
   "metadata": {},
   "source": [
    "You can collect all your errors in a list"
   ]
  },
  {
   "cell_type": "code",
   "execution_count": 37,
   "metadata": {},
   "outputs": [
    {
     "name": "stdout",
     "output_type": "stream",
     "text": [
      "[\n",
      "```↯ AttrDict ↯\n",
      "func - do (🏷️ str)\n",
      "args()\n",
      "  0 - 1 (🏷️ int)\n",
      "  1 - 8 (🏷️ int)\n",
      "kwargs\n",
      "  c - 83 (🏷️ int)\n",
      "tb - ZeroDivisionError: division by zero (🏷️ str)\n",
      "err_type - ZeroDivisionError (🏷️ str)\n",
      "\n",
      "```\n",
      ", \n",
      "```↯ AttrDict ↯\n",
      "func - do (🏷️ str)\n",
      "args()\n",
      "  0 - 1 (🏷️ int)\n",
      "  1 - 9 (🏷️ int)\n",
      "kwargs\n",
      "  c - 88 (🏷️ int)\n",
      "tb - ZeroDivisionError: division by zero (🏷️ str)\n",
      "err_type - ZeroDivisionError (🏷️ str)\n",
      "\n",
      "```\n",
      ", \n",
      "```↯ AttrDict ↯\n",
      "func - do (🏷️ str)\n",
      "args()\n",
      "  0 - 1 (🏷️ int)\n",
      "  1 - 3 (🏷️ int)\n",
      "kwargs\n",
      "  c - 59 (🏷️ int)\n",
      "tb - NotImplementedError: 🤔 (🏷️ str)\n",
      "err_type - NotImplementedError (🏷️ str)\n",
      "\n",
      "```\n",
      ", \n",
      "```↯ AttrDict ↯\n",
      "func - do (🏷️ str)\n",
      "args()\n",
      "  0 - 1 (🏷️ int)\n",
      "  1 - 6 (🏷️ int)\n",
      "kwargs\n",
      "  c - 6 (🏷️ int)\n",
      "tb - NotImplementedError: 🤔 (🏷️ str)\n",
      "err_type - NotImplementedError (🏷️ str)\n",
      "\n",
      "```\n",
      "]\n"
     ]
    }
   ],
   "source": [
    "import random\n",
    "\n",
    "errors = []\n",
    "\n",
    "\n",
    "@tryy(silence_errors=True, store_errors=errors)\n",
    "def do(a, b, c):\n",
    "    if random.randint(0, 100) < 50:\n",
    "        return 1 / 0\n",
    "    else:\n",
    "        raise NotImplementedError(\"🤔\")\n",
    "\n",
    "\n",
    "for _ in range(4):\n",
    "    do(1, random.randint(0, 10), c=random.randint(0, 100))\n",
    "\n",
    "print(errors)"
   ]
  },
  {
   "cell_type": "markdown",
   "metadata": {},
   "source": [
    "There's onlly one usecase where you would want to send in a list by yourself - when you want to append your errors to an existing list. The sensible default is to always store the errors, especially because this is a debugging tool.\n",
    "\n",
    "Just access all the errors in a dataframe like so"
   ]
  },
  {
   "cell_type": "code",
   "execution_count": 49,
   "metadata": {},
   "outputs": [
    {
     "data": {
      "text/html": [
       "<div>\n",
       "<style scoped>\n",
       "    .dataframe tbody tr th:only-of-type {\n",
       "        vertical-align: middle;\n",
       "    }\n",
       "\n",
       "    .dataframe tbody tr th {\n",
       "        vertical-align: top;\n",
       "    }\n",
       "\n",
       "    .dataframe thead th {\n",
       "        text-align: right;\n",
       "    }\n",
       "</style>\n",
       "<table border=\"1\" class=\"dataframe\">\n",
       "  <thead>\n",
       "    <tr style=\"text-align: right;\">\n",
       "      <th></th>\n",
       "      <th>func</th>\n",
       "      <th>args</th>\n",
       "      <th>kwargs</th>\n",
       "      <th>tb</th>\n",
       "      <th>err_type</th>\n",
       "    </tr>\n",
       "  </thead>\n",
       "  <tbody>\n",
       "    <tr>\n",
       "      <th>0</th>\n",
       "      <td>do</td>\n",
       "      <td>[1, 9]</td>\n",
       "      <td>{'c': 4}</td>\n",
       "      <td>ZeroDivisionError: division by zero</td>\n",
       "      <td>ZeroDivisionError</td>\n",
       "    </tr>\n",
       "    <tr>\n",
       "      <th>1</th>\n",
       "      <td>do</td>\n",
       "      <td>[1, 6]</td>\n",
       "      <td>{'c': 61}</td>\n",
       "      <td>NotImplementedError: 🤔</td>\n",
       "      <td>NotImplementedError</td>\n",
       "    </tr>\n",
       "    <tr>\n",
       "      <th>2</th>\n",
       "      <td>do</td>\n",
       "      <td>[1, 9]</td>\n",
       "      <td>{'c': 1}</td>\n",
       "      <td>ZeroDivisionError: division by zero</td>\n",
       "      <td>ZeroDivisionError</td>\n",
       "    </tr>\n",
       "    <tr>\n",
       "      <th>3</th>\n",
       "      <td>do</td>\n",
       "      <td>[1, 3]</td>\n",
       "      <td>{'c': 59}</td>\n",
       "      <td>NotImplementedError: 🤔</td>\n",
       "      <td>NotImplementedError</td>\n",
       "    </tr>\n",
       "  </tbody>\n",
       "</table>\n",
       "</div>"
      ],
      "text/plain": [
       "  func    args     kwargs                                   tb  \\\n",
       "0   do  [1, 9]   {'c': 4}  ZeroDivisionError: division by zero   \n",
       "1   do  [1, 6]  {'c': 61}               NotImplementedError: 🤔   \n",
       "2   do  [1, 9]   {'c': 1}  ZeroDivisionError: division by zero   \n",
       "3   do  [1, 3]  {'c': 59}               NotImplementedError: 🤔   \n",
       "\n",
       "              err_type  \n",
       "0    ZeroDivisionError  \n",
       "1  NotImplementedError  \n",
       "2    ZeroDivisionError  \n",
       "3  NotImplementedError  "
      ]
     },
     "execution_count": 49,
     "metadata": {},
     "output_type": "execute_result"
    }
   ],
   "source": [
    "import random\n",
    "\n",
    "random.seed(10)\n",
    "errors = []\n",
    "\n",
    "\n",
    "@tryy(silence_errors=True, store_errors=errors, output_to_return_on_fail=\"😔\")\n",
    "def do(a, b, c):\n",
    "    if c < 50:\n",
    "        return 1 / 0\n",
    "    else:\n",
    "        raise NotImplementedError(\"🤔\")\n",
    "\n",
    "\n",
    "for _ in range(4):\n",
    "    do(1, random.randint(0, 10), c=random.randint(0, 100))\n",
    "\n",
    "do.error_summary()"
   ]
  },
  {
   "cell_type": "markdown",
   "metadata": {},
   "source": [
    "and the actual list of errors like so"
   ]
  },
  {
   "cell_type": "code",
   "execution_count": 52,
   "metadata": {},
   "outputs": [
    {
     "data": {
      "text/plain": [
       "[\n",
       " ```↯ AttrDict ↯\n",
       " func - do (🏷️ str)\n",
       " args()\n",
       "   0 - 1 (🏷️ int)\n",
       "   1 - 9 (🏷️ int)\n",
       " kwargs\n",
       "   c - 4 (🏷️ int)\n",
       " tb - ZeroDivisionError: division by zero (🏷️ str)\n",
       " err_type - ZeroDivisionError (🏷️ str)\n",
       " \n",
       " ```,\n",
       " \n",
       " ```↯ AttrDict ↯\n",
       " func - do (🏷️ str)\n",
       " args()\n",
       "   0 - 1 (🏷️ int)\n",
       "   1 - 6 (🏷️ int)\n",
       " kwargs\n",
       "   c - 61 (🏷️ int)\n",
       " tb - NotImplementedError: 🤔 (🏷️ str)\n",
       " err_type - NotImplementedError (🏷️ str)\n",
       " \n",
       " ```,\n",
       " \n",
       " ```↯ AttrDict ↯\n",
       " func - do (🏷️ str)\n",
       " args()\n",
       "   0 - 1 (🏷️ int)\n",
       "   1 - 9 (🏷️ int)\n",
       " kwargs\n",
       "   c - 1 (🏷️ int)\n",
       " tb - ZeroDivisionError: division by zero (🏷️ str)\n",
       " err_type - ZeroDivisionError (🏷️ str)\n",
       " \n",
       " ```,\n",
       " \n",
       " ```↯ AttrDict ↯\n",
       " func - do (🏷️ str)\n",
       " args()\n",
       "   0 - 1 (🏷️ int)\n",
       "   1 - 3 (🏷️ int)\n",
       " kwargs\n",
       "   c - 59 (🏷️ int)\n",
       " tb - NotImplementedError: 🤔 (🏷️ str)\n",
       " err_type - NotImplementedError (🏷️ str)\n",
       " \n",
       " ```]"
      ]
     },
     "execution_count": 52,
     "metadata": {},
     "output_type": "execute_result"
    }
   ],
   "source": [
    "do.error_store"
   ]
  },
  {
   "cell_type": "markdown",
   "metadata": {},
   "source": [
    "Finally, you want to run the function (without try) to reproduce the error and actually start debugging. Just use the `.F` attribute to access the original function that you created"
   ]
  },
  {
   "cell_type": "code",
   "execution_count": 51,
   "metadata": {},
   "outputs": [
    {
     "ename": "ZeroDivisionError",
     "evalue": "division by zero",
     "output_type": "error",
     "traceback": [
      "\u001b[0;31m---------------------------------------------------------------------------\u001b[0m",
      "\u001b[0;31mZeroDivisionError\u001b[0m                         Traceback (most recent call last)",
      "Cell \u001b[0;32mIn[51], line 3\u001b[0m\n\u001b[1;32m      1\u001b[0m ix \u001b[38;5;241m=\u001b[39m \u001b[38;5;241m2\u001b[39m\n\u001b[1;32m      2\u001b[0m data \u001b[38;5;241m=\u001b[39m do\u001b[38;5;241m.\u001b[39merror_store[ix]\n\u001b[0;32m----> 3\u001b[0m \u001b[43mdo\u001b[49m\u001b[38;5;241;43m.\u001b[39;49m\u001b[43mF\u001b[49m\u001b[43m(\u001b[49m\u001b[38;5;241;43m*\u001b[39;49m\u001b[43mdata\u001b[49m\u001b[38;5;241;43m.\u001b[39;49m\u001b[43margs\u001b[49m\u001b[43m,\u001b[49m\u001b[43m \u001b[49m\u001b[38;5;241;43m*\u001b[39;49m\u001b[38;5;241;43m*\u001b[39;49m\u001b[43mdata\u001b[49m\u001b[38;5;241;43m.\u001b[39;49m\u001b[43mkwargs\u001b[49m\u001b[43m)\u001b[49m\n",
      "Cell \u001b[0;32mIn[49], line 9\u001b[0m, in \u001b[0;36mdo\u001b[0;34m(a, b, c)\u001b[0m\n\u001b[1;32m      6\u001b[0m \u001b[38;5;129m@tryy\u001b[39m(silence_errors\u001b[38;5;241m=\u001b[39m\u001b[38;5;28;01mTrue\u001b[39;00m, store_errors\u001b[38;5;241m=\u001b[39merrors, output_to_return_on_fail\u001b[38;5;241m=\u001b[39m\u001b[38;5;124m\"\u001b[39m\u001b[38;5;124m😔\u001b[39m\u001b[38;5;124m\"\u001b[39m)\n\u001b[1;32m      7\u001b[0m \u001b[38;5;28;01mdef\u001b[39;00m \u001b[38;5;21mdo\u001b[39m(a, b, c):\n\u001b[1;32m      8\u001b[0m     \u001b[38;5;28;01mif\u001b[39;00m c \u001b[38;5;241m<\u001b[39m \u001b[38;5;241m50\u001b[39m:\n\u001b[0;32m----> 9\u001b[0m         \u001b[38;5;28;01mreturn\u001b[39;00m \u001b[38;5;241;43m1\u001b[39;49m\u001b[43m \u001b[49m\u001b[38;5;241;43m/\u001b[39;49m\u001b[43m \u001b[49m\u001b[38;5;241;43m0\u001b[39;49m\n\u001b[1;32m     10\u001b[0m     \u001b[38;5;28;01melse\u001b[39;00m:\n\u001b[1;32m     11\u001b[0m         \u001b[38;5;28;01mraise\u001b[39;00m \u001b[38;5;167;01mNotImplementedError\u001b[39;00m(\u001b[38;5;124m\"\u001b[39m\u001b[38;5;124m🤔\u001b[39m\u001b[38;5;124m\"\u001b[39m)\n",
      "\u001b[0;31mZeroDivisionError\u001b[0m: division by zero"
     ]
    }
   ],
   "source": [
    "ix = 2\n",
    "data = do.error_store[ix]\n",
    "do.F(*data.args, **data.kwargs)"
   ]
  },
  {
   "cell_type": "code",
   "execution_count": 13,
   "metadata": {},
   "outputs": [],
   "source": [
    "def deco(decorator):\n",
    "    @wraps(decorator)\n",
    "    def wrapper(*args, **kwargs):\n",
    "        def real_decorator(func):\n",
    "            @wraps(func)\n",
    "            def inner_wrapper(*fargs, **fkwargs):\n",
    "                return decorator(func, *fargs, **fkwargs)\n",
    "\n",
    "            return inner_wrapper\n",
    "\n",
    "        if len(args) == 1 and callable(args[0]) and not kwargs:\n",
    "            # Case when B is used without arguments\n",
    "            return real_decorator(args[0])\n",
    "        else:\n",
    "            # Case when B is used with arguments\n",
    "            def custom_decorator(func):\n",
    "                return decorator(func, **kwargs)\n",
    "\n",
    "            return custom_decorator\n",
    "\n",
    "    return wrapper"
   ]
  },
  {
   "cell_type": "code",
   "execution_count": 14,
   "metadata": {},
   "outputs": [],
   "source": [
    "@deco\n",
    "def B(func, *args, deco_param=\"default\", **kwargs):\n",
    "    print(\"B\", deco_param, print(\"args\", *args, \"kwargs\", **kwargs))\n",
    "    return func(*args, **kwargs)"
   ]
  },
  {
   "cell_type": "code",
   "execution_count": 15,
   "metadata": {},
   "outputs": [
    {
     "name": "stdout",
     "output_type": "stream",
     "text": [
      "args 1 2 3 kwargs\n",
      "B default None\n",
      "C\n"
     ]
    },
    {
     "data": {
      "text/plain": [
       "7"
      ]
     },
     "execution_count": 15,
     "metadata": {},
     "output_type": "execute_result"
    }
   ],
   "source": [
    "@B\n",
    "def C(a, b, c):\n",
    "    print(\"C\")\n",
    "    return a + (b * c)\n",
    "\n",
    "\n",
    "C(1, 2, 3)"
   ]
  },
  {
   "cell_type": "code",
   "execution_count": 16,
   "metadata": {},
   "outputs": [
    {
     "name": "stdout",
     "output_type": "stream",
     "text": [
      "args kwargs\n",
      "B new_param None\n"
     ]
    },
    {
     "ename": "TypeError",
     "evalue": "C() missing 3 required positional arguments: 'a', 'b', and 'c'",
     "output_type": "error",
     "traceback": [
      "\u001b[0;31m---------------------------------------------------------------------------\u001b[0m",
      "\u001b[0;31mTypeError\u001b[0m                                 Traceback (most recent call last)",
      "Cell \u001b[0;32mIn[16], line 1\u001b[0m\n\u001b[0;32m----> 1\u001b[0m \u001b[38;5;129;43m@B\u001b[39;49m\u001b[43m(\u001b[49m\u001b[43mdeco_param\u001b[49m\u001b[38;5;241;43m=\u001b[39;49m\u001b[38;5;124;43m\"\u001b[39;49m\u001b[38;5;124;43mnew_param\u001b[39;49m\u001b[38;5;124;43m\"\u001b[39;49m\u001b[43m)\u001b[49m\n\u001b[1;32m      2\u001b[0m \u001b[38;5;28;43;01mdef\u001b[39;49;00m\u001b[43m \u001b[49m\u001b[38;5;21;43mC\u001b[39;49m\u001b[43m(\u001b[49m\u001b[43ma\u001b[49m\u001b[43m,\u001b[49m\u001b[43m \u001b[49m\u001b[43mb\u001b[49m\u001b[43m,\u001b[49m\u001b[43m \u001b[49m\u001b[43mc\u001b[49m\u001b[43m)\u001b[49m\u001b[43m:\u001b[49m\n\u001b[1;32m      3\u001b[0m \u001b[43m    \u001b[49m\u001b[38;5;28;43;01mreturn\u001b[39;49;00m\u001b[43m \u001b[49m\u001b[43ma\u001b[49m\u001b[43m \u001b[49m\u001b[38;5;241;43m+\u001b[39;49m\u001b[43m \u001b[49m\u001b[43m(\u001b[49m\u001b[43mb\u001b[49m\u001b[43m \u001b[49m\u001b[38;5;241;43m*\u001b[39;49m\u001b[43m \u001b[49m\u001b[43mc\u001b[49m\u001b[43m)\u001b[49m\n\u001b[1;32m      6\u001b[0m \u001b[38;5;66;03m# Testing\u001b[39;00m\n",
      "Cell \u001b[0;32mIn[13], line 17\u001b[0m, in \u001b[0;36mdeco.<locals>.wrapper.<locals>.custom_decorator\u001b[0;34m(func)\u001b[0m\n\u001b[1;32m     16\u001b[0m \u001b[38;5;28;01mdef\u001b[39;00m \u001b[38;5;21mcustom_decorator\u001b[39m(func):\n\u001b[0;32m---> 17\u001b[0m     \u001b[38;5;28;01mreturn\u001b[39;00m \u001b[43mdecorator\u001b[49m\u001b[43m(\u001b[49m\u001b[43mfunc\u001b[49m\u001b[43m,\u001b[49m\u001b[43m \u001b[49m\u001b[38;5;241;43m*\u001b[39;49m\u001b[38;5;241;43m*\u001b[39;49m\u001b[43mkwargs\u001b[49m\u001b[43m)\u001b[49m\n",
      "Cell \u001b[0;32mIn[14], line 4\u001b[0m, in \u001b[0;36mB\u001b[0;34m(func, deco_param, *args, **kwargs)\u001b[0m\n\u001b[1;32m      1\u001b[0m \u001b[38;5;129m@deco\u001b[39m\n\u001b[1;32m      2\u001b[0m \u001b[38;5;28;01mdef\u001b[39;00m \u001b[38;5;21mB\u001b[39m(func, \u001b[38;5;241m*\u001b[39margs, deco_param\u001b[38;5;241m=\u001b[39m\u001b[38;5;124m\"\u001b[39m\u001b[38;5;124mdefault\u001b[39m\u001b[38;5;124m\"\u001b[39m, \u001b[38;5;241m*\u001b[39m\u001b[38;5;241m*\u001b[39mkwargs):\n\u001b[1;32m      3\u001b[0m     \u001b[38;5;28mprint\u001b[39m(\u001b[38;5;124m\"\u001b[39m\u001b[38;5;124mB\u001b[39m\u001b[38;5;124m\"\u001b[39m, deco_param, \u001b[38;5;28mprint\u001b[39m(\u001b[38;5;124m\"\u001b[39m\u001b[38;5;124margs\u001b[39m\u001b[38;5;124m\"\u001b[39m, \u001b[38;5;241m*\u001b[39margs, \u001b[38;5;124m\"\u001b[39m\u001b[38;5;124mkwargs\u001b[39m\u001b[38;5;124m\"\u001b[39m, \u001b[38;5;241m*\u001b[39m\u001b[38;5;241m*\u001b[39mkwargs))\n\u001b[0;32m----> 4\u001b[0m     \u001b[38;5;28;01mreturn\u001b[39;00m \u001b[43mfunc\u001b[49m\u001b[43m(\u001b[49m\u001b[38;5;241;43m*\u001b[39;49m\u001b[43margs\u001b[49m\u001b[43m,\u001b[49m\u001b[43m \u001b[49m\u001b[38;5;241;43m*\u001b[39;49m\u001b[38;5;241;43m*\u001b[39;49m\u001b[43mkwargs\u001b[49m\u001b[43m)\u001b[49m\n",
      "\u001b[0;31mTypeError\u001b[0m: C() missing 3 required positional arguments: 'a', 'b', and 'c'"
     ]
    }
   ],
   "source": [
    "@B(deco_param=\"new_param\")\n",
    "def C(a, b, c):\n",
    "    return a + (b * c)\n",
    "\n",
    "\n",
    "# Testing\n",
    "print(C(1, 2, 3))  # Outputs 'new_param' then the result 7"
   ]
  }
 ],
 "metadata": {
  "kernelspec": {
   "display_name": "mdm",
   "language": "python",
   "name": "python3"
  },
  "language_info": {
   "codemirror_mode": {
    "name": "ipython",
    "version": 3
   },
   "file_extension": ".py",
   "mimetype": "text/x-python",
   "name": "python",
   "nbconvert_exporter": "python",
   "pygments_lexer": "ipython3",
   "version": "3.12.4"
  },
  "vscode": {
   "interpreter": {
    "hash": "6b6ea07c3428539b6f2e73b58ccfbe441e6932da93cb0b63ea798c577834408a"
   }
  }
 },
 "nbformat": 4,
 "nbformat_minor": 4
}
