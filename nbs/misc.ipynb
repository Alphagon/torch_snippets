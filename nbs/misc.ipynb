{
 "cells": [
  {
   "cell_type": "markdown",
   "metadata": {},
   "source": [
    "# Functions"
   ]
  },
  {
   "cell_type": "code",
   "execution_count": 1,
   "metadata": {
    "execution": {
     "iopub.execute_input": "2021-03-09T12:47:55.066227Z",
     "iopub.status.busy": "2021-03-09T12:47:55.065941Z",
     "iopub.status.idle": "2021-03-09T12:47:55.089395Z",
     "shell.execute_reply": "2021-03-09T12:47:55.088447Z",
     "shell.execute_reply.started": "2021-03-09T12:47:55.066192Z"
    }
   },
   "outputs": [],
   "source": [
    "%load_ext autoreload\n",
    "%autoreload 2"
   ]
  },
  {
   "cell_type": "code",
   "execution_count": 12,
   "metadata": {
    "execution": {
     "iopub.execute_input": "2021-03-09T12:50:03.343416Z",
     "iopub.status.busy": "2021-03-09T12:50:03.343047Z",
     "iopub.status.idle": "2021-03-09T12:50:14.700478Z",
     "shell.execute_reply": "2021-03-09T12:50:14.699578Z",
     "shell.execute_reply.started": "2021-03-09T12:50:03.343370Z"
    }
   },
   "outputs": [
    {
     "name": "stdout",
     "output_type": "stream",
     "text": [
      "501/1000 (5.68s - 5.67s remaining))\n",
      "1000/1000 (11.30s - 0.01s remaining)\r"
     ]
    }
   ],
   "source": [
    "from torch_snippets.loader import Timer\n",
    "import time\n",
    "\n",
    "N = 1000\n",
    "t = Timer(N)\n",
    "for i in range(N):\n",
    "    time.sleep(0.01)\n",
    "    t()\n",
    "    if i == 500: print()"
   ]
  },
  {
   "cell_type": "code",
   "execution_count": null,
   "metadata": {},
   "outputs": [],
   "source": []
  }
 ],
 "metadata": {
  "kernelspec": {
   "display_name": "Python 3",
   "language": "python",
   "name": "python3"
  },
  "language_info": {
   "codemirror_mode": {
    "name": "ipython",
    "version": 3
   },
   "file_extension": ".py",
   "mimetype": "text/x-python",
   "name": "python",
   "nbconvert_exporter": "python",
   "pygments_lexer": "ipython3",
   "version": "3.7.4"
  }
 },
 "nbformat": 4,
 "nbformat_minor": 4
}
