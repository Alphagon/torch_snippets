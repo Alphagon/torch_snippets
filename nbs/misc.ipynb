{
 "cells": [
  {
   "cell_type": "markdown",
   "metadata": {},
   "source": [
    "# Miscellaneous"
   ]
  },
  {
   "cell_type": "code",
   "execution_count": 1,
   "metadata": {},
   "outputs": [],
   "source": [
    "# | default_exp misc"
   ]
  },
  {
   "cell_type": "code",
   "execution_count": 2,
   "metadata": {},
   "outputs": [
    {
     "name": "stderr",
     "output_type": "stream",
     "text": [
      "/Users/yeshwanth.y/miniconda3/envs/mdm/lib/python3.8/site-packages/torchvision/io/image.py:13: UserWarning: Failed to load image Python extension: dlopen(/Users/yeshwanth.y/miniconda3/envs/mdm/lib/python3.8/site-packages/torchvision/image.so, 0x0006): Symbol not found: (__ZN3c106detail19maybe_wrap_dim_slowExxb)\n",
      "  Referenced from: '/Users/yeshwanth.y/miniconda3/envs/mdm/lib/python3.8/site-packages/torchvision/image.so'\n",
      "  Expected in: '/Users/yeshwanth.y/miniconda3/envs/mdm/lib/python3.8/site-packages/torch/lib/libc10.dylib'\n",
      "  warn(f\"Failed to load image Python extension: {e}\")\n"
     ]
    }
   ],
   "source": [
    "# | export\n",
    "import time\n",
    "from torch_snippets.logger import Debug\n",
    "from torch_snippets.inspector import inspect\n",
    "from fastcore.basics import ifnone"
   ]
  },
  {
   "cell_type": "code",
   "execution_count": 70,
   "metadata": {
    "execution": {
     "iopub.execute_input": "2021-03-10T09:35:28.300728Z",
     "iopub.status.busy": "2021-03-10T09:35:28.300441Z",
     "iopub.status.idle": "2021-03-10T09:35:31.596373Z",
     "shell.execute_reply": "2021-03-10T09:35:31.595528Z",
     "shell.execute_reply.started": "2021-03-10T09:35:28.300702Z"
    }
   },
   "outputs": [],
   "source": [
    "# | export\n",
    "# | hide\n",
    "\n",
    "\n",
    "class Timer:\n",
    "    def __init__(self, N, smooth=True):\n",
    "        \"print elapsed time every iteration and print out remaining time\"\n",
    "        \"assumes this timer is called exactly N times or less\"\n",
    "        self.tok = self.start = time.time()\n",
    "        self.N = N\n",
    "        self.ix = 0\n",
    "        self.smooth = smooth\n",
    "\n",
    "    def __call__(self, ix=None, info=None):\n",
    "        ix = self.ix if ix is None else ix\n",
    "        info = \"\" if info is None else f\"{info}\\t\"\n",
    "        tik = time.time()\n",
    "        elapsed = tik - self.start\n",
    "        ielapsed = tik - self.tok\n",
    "        ispeed = ielapsed\n",
    "\n",
    "        iunit = \"s/iter\"\n",
    "        if ispeed < 1:\n",
    "            ispeed = 1 / ispeed\n",
    "            iunit = \"iters/s\"\n",
    "\n",
    "        iremaining = (self.N - (ix + 1)) * ielapsed\n",
    "        iestimate = iremaining + elapsed\n",
    "\n",
    "        print(\n",
    "            f\"{info}{ix+1}/{self.N} ({elapsed:.2f}s - {iremaining:.2f}s remaining - {ispeed:.2f} {iunit})\"\n",
    "            + \" \" * 10,\n",
    "            end=\"\\r\",\n",
    "        )\n",
    "        self.ix += 1\n",
    "        self.tok = tik\n",
    "\n",
    "\n",
    "def track2(iterable, *, total=None):\n",
    "    try:\n",
    "        total = ifnone(total, len(iterable))\n",
    "    except:\n",
    "        ...\n",
    "    timer = Timer(total)\n",
    "    for item in iterable:\n",
    "        info = yield item\n",
    "        timer(info=info)\n",
    "        if info is not None:\n",
    "            yield  # Just to ensure the send operation stops"
   ]
  },
  {
   "cell_type": "code",
   "execution_count": 74,
   "metadata": {},
   "outputs": [
    {
     "name": "stdout",
     "output_type": "stream",
     "text": [
      "\n",
      "1/10 (1.00s - 9.04s remaining - 1.00 s/iter)          \n",
      "2/10 (1.91s - 7.20s remaining - 1.11 iters/s)          \n",
      "3/10 (2.71s - 5.63s remaining - 1.24 iters/s)          \n",
      "4/10 (3.41s - 4.21s remaining - 1.43 iters/s)          \n",
      "5/10 (4.01s - 3.02s remaining - 1.66 iters/s)          \n",
      "6/10 (4.52s - 2.01s remaining - 1.99 iters/s)          \n",
      "7/10 (4.92s - 1.21s remaining - 2.47 iters/s)          \n",
      "8/10 (5.23s - 0.61s remaining - 3.28 iters/s)          \n",
      "9/10 (5.43s - 0.20s remaining - 4.90 iters/s)          \n",
      "10/10 (5.53s - 0.00s remaining - 9.64 iters/s)          \r"
     ]
    }
   ],
   "source": [
    "def track2(iterable, *, total=None):\n",
    "    try:\n",
    "        total = ifnone(total, len(iterable))\n",
    "    except:\n",
    "        ...\n",
    "    timer = Timer(total)\n",
    "    for item in iterable:\n",
    "        info = yield item\n",
    "        timer(info=info)\n",
    "        if info is not None:\n",
    "            yield  # Just to ensure the send operation stops\n",
    "\n",
    "\n",
    "l = list(range(10, 0, -1))\n",
    "fact = 10\n",
    "t = sum(l) / fact\n",
    "for i in track2(l):\n",
    "    time.sleep(i / fact)\n",
    "    print()"
   ]
  },
  {
   "cell_type": "markdown",
   "metadata": {},
   "source": [
    "Use timer as a standalone class so you have full control on when to call a lap (most useful in while loops)..."
   ]
  },
  {
   "cell_type": "code",
   "execution_count": 75,
   "metadata": {},
   "outputs": [
    {
     "name": "stdout",
     "output_type": "stream",
     "text": [
      "51/100 (5.25s - 5.05s remaining - 9.71 iters/s)          \n",
      "My Info: 156.1\t100/100 (10.31s - 0.00s remaining - 9.75 iters/s)          \r"
     ]
    }
   ],
   "source": [
    "N = 100\n",
    "t = Timer(N)\n",
    "info = None\n",
    "\n",
    "for i in range(N):\n",
    "    time.sleep(0.1)\n",
    "    t(info=info)  # Lap and present the time\n",
    "    if i == 50:\n",
    "        print()\n",
    "        info = f\"My Info: {i*3.122}\""
   ]
  },
  {
   "cell_type": "markdown",
   "metadata": {},
   "source": [
    "... or use track2 to directly track a loop"
   ]
  },
  {
   "cell_type": "code",
   "execution_count": 80,
   "metadata": {},
   "outputs": [
    {
     "name": "stdout",
     "output_type": "stream",
     "text": [
      "50/100 (5.16s - 5.22s remaining - 9.58 iters/s)          \n",
      "My Info: 309.08\t100/100 (10.31s - 0.00s remaining - 9.75 iters/s)          \r"
     ]
    }
   ],
   "source": [
    "N = 100\n",
    "info = None\n",
    "\n",
    "for i in (tracker := track2(range(N), total=N)):\n",
    "    time.sleep(0.1)\n",
    "    info = f\"My Info: {i*3.122:.2f}\"\n",
    "    if i == N // 2:\n",
    "        print()\n",
    "    if i >= N // 2:\n",
    "        tracker.send(info)"
   ]
  },
  {
   "cell_type": "markdown",
   "metadata": {},
   "source": [
    "## Warning! NEVER RUN `tracker.send(None)` as this will skip variables silently"
   ]
  },
  {
   "cell_type": "code",
   "execution_count": 6,
   "metadata": {},
   "outputs": [],
   "source": [
    "# | export\n",
    "# | hide\n",
    "\n",
    "\n",
    "def timeit(func):\n",
    "    def inner(*args, **kwargs):\n",
    "        s = time.time()\n",
    "        o = func(*args, **kwargs)\n",
    "        Debug(f\"{time.time() - s:.2f} seconds to execute `{func.__name__}`\")\n",
    "        return o\n",
    "\n",
    "    return inner\n",
    "\n",
    "\n",
    "def io(func):\n",
    "    def inner(*args, **kwargs):\n",
    "        s = time.time()\n",
    "        o = func(*args, **kwargs)\n",
    "        Debug(f\"Args: {inspect(args)}\\nKWargs: {inspect(kwargs)}\\nOutput: {inspect(o)}\")\n",
    "        return o\n",
    "\n",
    "    return inner"
   ]
  },
  {
   "cell_type": "code",
   "execution_count": 7,
   "metadata": {},
   "outputs": [
    {
     "data": {
      "text/html": [
       "<pre style=\"white-space:pre;overflow-x:auto;line-height:normal;font-family:Menlo,'DejaVu Sans Mono',consolas,'Courier New',monospace\">══════════════════════════════════════════════════════════════════\n",
       "</pre>\n"
      ],
      "text/plain": [
       "══════════════════════════════════════════════════════════════════\n"
      ]
     },
     "metadata": {},
     "output_type": "display_data"
    },
    {
     "data": {
      "text/html": [
       "<pre style=\"white-space:pre;overflow-x:auto;line-height:normal;font-family:Menlo,'DejaVu Sans Mono',consolas,'Courier New',monospace\">tuple of <span style=\"color: #008080; text-decoration-color: #008080; font-weight: bold\">1</span> items\n",
       "</pre>\n"
      ],
      "text/plain": [
       "tuple of \u001b[1;36m1\u001b[0m items\n"
      ]
     },
     "metadata": {},
     "output_type": "display_data"
    },
    {
     "data": {
      "text/html": [
       "<pre style=\"white-space:pre;overflow-x:auto;line-height:normal;font-family:Menlo,'DejaVu Sans Mono',consolas,'Courier New',monospace\">        int: <span style=\"color: #008080; text-decoration-color: #008080; font-weight: bold\">10</span>\n",
       "</pre>\n"
      ],
      "text/plain": [
       "        int: \u001b[1;36m10\u001b[0m\n"
      ]
     },
     "metadata": {},
     "output_type": "display_data"
    },
    {
     "data": {
      "text/html": [
       "<pre style=\"white-space:pre;overflow-x:auto;line-height:normal;font-family:Menlo,'DejaVu Sans Mono',consolas,'Courier New',monospace\">══════════════════════════════════════════════════════════════════\n",
       "</pre>\n"
      ],
      "text/plain": [
       "══════════════════════════════════════════════════════════════════\n"
      ]
     },
     "metadata": {},
     "output_type": "display_data"
    },
    {
     "data": {
      "text/html": [
       "<pre style=\"white-space:pre;overflow-x:auto;line-height:normal;font-family:Menlo,'DejaVu Sans Mono',consolas,'Courier New',monospace\">══════════════════════════════════════════════════════════════════\n",
       "</pre>\n"
      ],
      "text/plain": [
       "══════════════════════════════════════════════════════════════════\n"
      ]
     },
     "metadata": {},
     "output_type": "display_data"
    },
    {
     "data": {
      "text/html": [
       "<pre style=\"white-space:pre;overflow-x:auto;line-height:normal;font-family:Menlo,'DejaVu Sans Mono',consolas,'Courier New',monospace\">dict of <span style=\"color: #008080; text-decoration-color: #008080; font-weight: bold\">0</span> items\n",
       "</pre>\n"
      ],
      "text/plain": [
       "dict of \u001b[1;36m0\u001b[0m items\n"
      ]
     },
     "metadata": {},
     "output_type": "display_data"
    },
    {
     "data": {
      "text/html": [
       "<pre style=\"white-space:pre;overflow-x:auto;line-height:normal;font-family:Menlo,'DejaVu Sans Mono',consolas,'Courier New',monospace\">══════════════════════════════════════════════════════════════════\n",
       "</pre>\n"
      ],
      "text/plain": [
       "══════════════════════════════════════════════════════════════════\n"
      ]
     },
     "metadata": {},
     "output_type": "display_data"
    },
    {
     "data": {
      "text/html": [
       "<pre style=\"white-space:pre;overflow-x:auto;line-height:normal;font-family:Menlo,'DejaVu Sans Mono',consolas,'Courier New',monospace\">══════════════════════════════════════════════════════════════════\n",
       "</pre>\n"
      ],
      "text/plain": [
       "══════════════════════════════════════════════════════════════════\n"
      ]
     },
     "metadata": {},
     "output_type": "display_data"
    },
    {
     "data": {
      "text/html": [
       "<pre style=\"white-space:pre;overflow-x:auto;line-height:normal;font-family:Menlo,'DejaVu Sans Mono',consolas,'Courier New',monospace\">int: <span style=\"color: #008080; text-decoration-color: #008080; font-weight: bold\">11</span>\n",
       "</pre>\n"
      ],
      "text/plain": [
       "int: \u001b[1;36m11\u001b[0m\n"
      ]
     },
     "metadata": {},
     "output_type": "display_data"
    },
    {
     "data": {
      "text/html": [
       "<pre style=\"white-space:pre;overflow-x:auto;line-height:normal;font-family:Menlo,'DejaVu Sans Mono',consolas,'Courier New',monospace\">══════════════════════════════════════════════════════════════════\n",
       "</pre>\n"
      ],
      "text/plain": [
       "══════════════════════════════════════════════════════════════════\n"
      ]
     },
     "metadata": {},
     "output_type": "display_data"
    },
    {
     "data": {
      "text/html": [
       "<pre style=\"white-space:pre;overflow-x:auto;line-height:normal;font-family:Menlo,'DejaVu Sans Mono',consolas,'Courier New',monospace\">══════════════════════════════════════════════════════════════════\n",
       "</pre>\n"
      ],
      "text/plain": [
       "══════════════════════════════════════════════════════════════════\n"
      ]
     },
     "metadata": {},
     "output_type": "display_data"
    },
    {
     "data": {
      "text/html": [
       "<pre style=\"white-space:pre;overflow-x:auto;line-height:normal;font-family:Menlo,'DejaVu Sans Mono',consolas,'Courier New',monospace\">tuple of <span style=\"color: #008080; text-decoration-color: #008080; font-weight: bold\">1</span> items\n",
       "</pre>\n"
      ],
      "text/plain": [
       "tuple of \u001b[1;36m1\u001b[0m items\n"
      ]
     },
     "metadata": {},
     "output_type": "display_data"
    },
    {
     "data": {
      "text/html": [
       "<pre style=\"white-space:pre;overflow-x:auto;line-height:normal;font-family:Menlo,'DejaVu Sans Mono',consolas,'Courier New',monospace\">        int: <span style=\"color: #008080; text-decoration-color: #008080; font-weight: bold\">10</span>\n",
       "</pre>\n"
      ],
      "text/plain": [
       "        int: \u001b[1;36m10\u001b[0m\n"
      ]
     },
     "metadata": {},
     "output_type": "display_data"
    },
    {
     "data": {
      "text/html": [
       "<pre style=\"white-space:pre;overflow-x:auto;line-height:normal;font-family:Menlo,'DejaVu Sans Mono',consolas,'Courier New',monospace\">══════════════════════════════════════════════════════════════════\n",
       "</pre>\n"
      ],
      "text/plain": [
       "══════════════════════════════════════════════════════════════════\n"
      ]
     },
     "metadata": {},
     "output_type": "display_data"
    },
    {
     "data": {
      "text/html": [
       "<pre style=\"white-space:pre;overflow-x:auto;line-height:normal;font-family:Menlo,'DejaVu Sans Mono',consolas,'Courier New',monospace\">══════════════════════════════════════════════════════════════════\n",
       "</pre>\n"
      ],
      "text/plain": [
       "══════════════════════════════════════════════════════════════════\n"
      ]
     },
     "metadata": {},
     "output_type": "display_data"
    },
    {
     "data": {
      "text/html": [
       "<pre style=\"white-space:pre;overflow-x:auto;line-height:normal;font-family:Menlo,'DejaVu Sans Mono',consolas,'Courier New',monospace\">dict of <span style=\"color: #008080; text-decoration-color: #008080; font-weight: bold\">1</span> items\n",
       "</pre>\n"
      ],
      "text/plain": [
       "dict of \u001b[1;36m1\u001b[0m items\n"
      ]
     },
     "metadata": {},
     "output_type": "display_data"
    },
    {
     "data": {
      "text/html": [
       "<pre style=\"white-space:pre;overflow-x:auto;line-height:normal;font-family:Menlo,'DejaVu Sans Mono',consolas,'Courier New',monospace\">        B:\n",
       "        int: <span style=\"color: #008080; text-decoration-color: #008080; font-weight: bold\">20</span>\n",
       "</pre>\n"
      ],
      "text/plain": [
       "        B:\n",
       "        int: \u001b[1;36m20\u001b[0m\n"
      ]
     },
     "metadata": {},
     "output_type": "display_data"
    },
    {
     "data": {
      "text/html": [
       "<pre style=\"white-space:pre;overflow-x:auto;line-height:normal;font-family:Menlo,'DejaVu Sans Mono',consolas,'Courier New',monospace\">══════════════════════════════════════════════════════════════════\n",
       "</pre>\n"
      ],
      "text/plain": [
       "══════════════════════════════════════════════════════════════════\n"
      ]
     },
     "metadata": {},
     "output_type": "display_data"
    },
    {
     "data": {
      "text/html": [
       "<pre style=\"white-space:pre;overflow-x:auto;line-height:normal;font-family:Menlo,'DejaVu Sans Mono',consolas,'Courier New',monospace\">══════════════════════════════════════════════════════════════════\n",
       "</pre>\n"
      ],
      "text/plain": [
       "══════════════════════════════════════════════════════════════════\n"
      ]
     },
     "metadata": {},
     "output_type": "display_data"
    },
    {
     "data": {
      "text/html": [
       "<pre style=\"white-space:pre;overflow-x:auto;line-height:normal;font-family:Menlo,'DejaVu Sans Mono',consolas,'Courier New',monospace\">int: <span style=\"color: #008080; text-decoration-color: #008080; font-weight: bold\">30</span>\n",
       "</pre>\n"
      ],
      "text/plain": [
       "int: \u001b[1;36m30\u001b[0m\n"
      ]
     },
     "metadata": {},
     "output_type": "display_data"
    },
    {
     "data": {
      "text/html": [
       "<pre style=\"white-space:pre;overflow-x:auto;line-height:normal;font-family:Menlo,'DejaVu Sans Mono',consolas,'Courier New',monospace\">══════════════════════════════════════════════════════════════════\n",
       "</pre>\n"
      ],
      "text/plain": [
       "══════════════════════════════════════════════════════════════════\n"
      ]
     },
     "metadata": {},
     "output_type": "display_data"
    },
    {
     "data": {
      "text/plain": [
       "30"
      ]
     },
     "execution_count": 7,
     "metadata": {},
     "output_type": "execute_result"
    }
   ],
   "source": [
    "@io\n",
    "@timeit\n",
    "def foo(a, b=None):\n",
    "    if b is None:\n",
    "        return a + 1\n",
    "    else:\n",
    "        time.sleep(2)\n",
    "        return a + b\n",
    "\n",
    "\n",
    "foo(10)\n",
    "foo(10, b=20)"
   ]
  }
 ],
 "metadata": {
  "kernelspec": {
   "display_name": "mdm",
   "language": "python",
   "name": "python3"
  },
  "language_info": {
   "codemirror_mode": {
    "name": "ipython",
    "version": 3
   },
   "file_extension": ".py",
   "mimetype": "text/x-python",
   "name": "python",
   "nbconvert_exporter": "python",
   "pygments_lexer": "ipython3",
   "version": "3.8.15"
  },
  "vscode": {
   "interpreter": {
    "hash": "6b6ea07c3428539b6f2e73b58ccfbe441e6932da93cb0b63ea798c577834408a"
   }
  }
 },
 "nbformat": 4,
 "nbformat_minor": 4
}
