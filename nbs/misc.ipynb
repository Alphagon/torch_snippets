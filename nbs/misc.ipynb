{
 "cells": [
  {
   "cell_type": "markdown",
   "metadata": {},
   "source": [
    "# Miscellaneous"
   ]
  },
  {
   "cell_type": "code",
   "execution_count": 1,
   "metadata": {},
   "outputs": [],
   "source": [
    "# | default_exp misc"
   ]
  },
  {
   "cell_type": "code",
   "execution_count": 2,
   "metadata": {},
   "outputs": [
    {
     "data": {
      "text/html": [
       "<pre style=\"white-space:pre;overflow-x:auto;line-height:normal;font-family:Menlo,'DejaVu Sans Mono',consolas,'Courier New',monospace\"><span style=\"color: #7fbfbf; text-decoration-color: #7fbfbf\">[08/11/24 19:04:17] </span><span style=\"color: #bf7f7f; text-decoration-color: #bf7f7f\">WARNING </span> Unable to load torch and dependent libraries from torch-snippets.                                                        <a href=\"file:///Users/yeshwanth/Code/Personal/torch_snippets/torch_snippets/loader.py:108\" target=\"_blank\"><span style=\"color: #7f7f7f; text-decoration-color: #7f7f7f\">loader.py</span></a><span style=\"color: #7f7f7f; text-decoration-color: #7f7f7f\">:</span><a href=\"file:///Users/yeshwanth/Code/Personal/torch_snippets/torch_snippets/loader.py:108#<module>:108\" target=\"_blank\"><span style=\"color: #7f7f7f; text-decoration-color: #7f7f7f\">&lt;module&gt;:108</span></a>\n",
       "<span style=\"color: #7fbfbf; text-decoration-color: #7fbfbf\">                    </span>         Functionalities might be limited. pip install lovely-tensors in case there are torch related errors                      <span style=\"color: #7f7f7f; text-decoration-color: #7f7f7f\">                      </span>\n",
       "</pre>\n"
      ],
      "text/plain": [
       "\u001b[2;36m[08/11/24 19:04:17]\u001b[0m\u001b[2;36m \u001b[0m\u001b[2;31mWARNING \u001b[0m Unable to load torch and dependent libraries from torch-snippets.                                                        \u001b]8;id=984597;file:///Users/yeshwanth/Code/Personal/torch_snippets/torch_snippets/loader.py:108\u001b\\\u001b[2mloader.py\u001b[0m\u001b]8;;\u001b\\\u001b[2m:\u001b[0m\u001b]8;id=81772;file:///Users/yeshwanth/Code/Personal/torch_snippets/torch_snippets/loader.py:108#<module>:108\u001b\\\u001b[2m<module>:108\u001b[0m\u001b]8;;\u001b\\\n",
       "\u001b[2;36m                    \u001b[0m         Functionalities might be limited. pip install lovely-tensors in case there are torch related errors                      \u001b[2m                      \u001b[0m\n"
      ]
     },
     "metadata": {},
     "output_type": "display_data"
    }
   ],
   "source": [
    "# | export\n",
    "import time\n",
    "from torch_snippets.logger import Debug, Excep, debug_mode\n",
    "from torch_snippets.markup2 import AD\n",
    "from functools import wraps\n",
    "from fastcore.basics import ifnone"
   ]
  },
  {
   "cell_type": "code",
   "execution_count": 3,
   "metadata": {
    "execution": {
     "iopub.execute_input": "2021-03-10T09:35:28.300728Z",
     "iopub.status.busy": "2021-03-10T09:35:28.300441Z",
     "iopub.status.idle": "2021-03-10T09:35:31.596373Z",
     "shell.execute_reply": "2021-03-10T09:35:31.595528Z",
     "shell.execute_reply.started": "2021-03-10T09:35:28.300702Z"
    }
   },
   "outputs": [],
   "source": [
    "# | export\n",
    "# | hide\n",
    "\n",
    "\n",
    "class Timer:\n",
    "    def __init__(self, N, smooth=True, mode=1):\n",
    "        \"print elapsed time every iteration and print out remaining time\"\n",
    "        \"assumes this timer is called exactly N times or less\"\n",
    "        self.tok = self.start = time.time()\n",
    "        self.N = N\n",
    "        self.ix = 0\n",
    "        self.smooth = smooth\n",
    "        self.mode = mode\n",
    "        # 0 = instant-speed, i.e., time remaining is a funciton of only the last iteration\n",
    "        # Useful when you know that each loop takes unequal time (increasing/decreasing speeds)\n",
    "        # 1 = average, i.e., time remaining is a function of average of all iterations\n",
    "        # Usefule when you know on average each loop or a group of loops take around the same time\n",
    "\n",
    "    def __call__(self, ix=None, info=None):\n",
    "        ix = self.ix if ix is None else ix\n",
    "        info = \"\" if info is None else f\"{info}\\t\"\n",
    "        tik = time.time()\n",
    "        elapsed = tik - self.start\n",
    "\n",
    "        if self.mode == 0:\n",
    "            ielapsed = tik - self.tok\n",
    "            ispeed = ielapsed\n",
    "            iremaining = (self.N - (ix + 1)) * ispeed\n",
    "\n",
    "            iunit = \"s/iter\"\n",
    "            if ispeed < 1:\n",
    "                ispeed = 1 / ispeed\n",
    "                iunit = \"iters/s\"\n",
    "            iestimate = iremaining + elapsed\n",
    "            _info = f\"{info}{ix+1}/{self.N} ({elapsed:.2f}s - {iremaining:.2f}s remaining - {ispeed:.2f} {iunit})\"\n",
    "\n",
    "        else:\n",
    "            speed = elapsed / (ix + 1)\n",
    "            remaining = (self.N - (ix + 1)) * speed\n",
    "            unit = \"s/iter\"\n",
    "            if speed < 1:\n",
    "                speed = 1 / speed\n",
    "                unit = \"iters/s\"\n",
    "            estimate = remaining + elapsed\n",
    "            # print(f'N={self.N} e={elapsed:.2f} _rem={self.N-(ix+1)} r={remaining:.2f} s={speed:.2f}\\t\\t')\n",
    "            _info = f\"{info}{ix+1}/{self.N} ({elapsed:.2f}s - {remaining:.2f}s remaining - {speed:.2f} {unit})\"\n",
    "\n",
    "        print(\n",
    "            _info + \" \" * 10,\n",
    "            end=\"\\r\",\n",
    "        )\n",
    "        self.ix += 1\n",
    "        self.tok = tik\n",
    "\n",
    "\n",
    "def track2(iterable, *, total=None):\n",
    "    try:\n",
    "        total = ifnone(total, len(iterable))\n",
    "    except:\n",
    "        ...\n",
    "    timer = Timer(total)\n",
    "    for item in iterable:\n",
    "        info = yield item\n",
    "        timer(info=info)\n",
    "        if info is not None:\n",
    "            yield  # Just to ensure the send operation stops"
   ]
  },
  {
   "cell_type": "code",
   "execution_count": 4,
   "metadata": {},
   "outputs": [
    {
     "name": "stdout",
     "output_type": "stream",
     "text": [
      "\n",
      "1/10 (1.01s - 9.05s remaining - 1.01 s/iter)          \n",
      "2/10 (1.91s - 7.64s remaining - 1.05 iters/s)          \n",
      "3/10 (2.72s - 6.34s remaining - 1.10 iters/s)          \n",
      "4/10 (3.42s - 5.13s remaining - 1.17 iters/s)          \n",
      "5/10 (4.02s - 4.02s remaining - 1.24 iters/s)          \n",
      "6/10 (4.53s - 3.02s remaining - 1.33 iters/s)          \n",
      "7/10 (4.93s - 2.11s remaining - 1.42 iters/s)          \n",
      "8/10 (5.24s - 1.31s remaining - 1.53 iters/s)          \n",
      "9/10 (5.44s - 0.60s remaining - 1.66 iters/s)          \n",
      "10/10 (5.54s - 0.00s remaining - 1.80 iters/s)          \r"
     ]
    }
   ],
   "source": [
    "def track2(iterable, *, total=None, timer_mode=1):\n",
    "    try:\n",
    "        total = ifnone(total, len(iterable))\n",
    "    except:\n",
    "        ...\n",
    "    timer = Timer(total, mode=timer_mode)\n",
    "    for item in iterable:\n",
    "        info = yield item\n",
    "        timer(info=info)\n",
    "        if info is not None:\n",
    "            yield  # Just to ensure the send operation stops\n",
    "\n",
    "\n",
    "l = list(range(10, 0, -1))\n",
    "fact = 10\n",
    "t = sum(l) / fact\n",
    "for i in track2(l):\n",
    "    time.sleep(i / fact)\n",
    "    print()"
   ]
  },
  {
   "cell_type": "markdown",
   "metadata": {},
   "source": [
    "Use timer as a standalone class so you have full control on when to call a lap (most useful in while loops)..."
   ]
  },
  {
   "cell_type": "code",
   "execution_count": 5,
   "metadata": {},
   "outputs": [
    {
     "name": "stdout",
     "output_type": "stream",
     "text": [
      "51/100 (5.29s - 5.08s remaining - 9.64 iters/s)          \n",
      "My Info: 156.1\t100/100 (10.39s - 0.00s remaining - 9.63 iters/s)          \r"
     ]
    }
   ],
   "source": [
    "N = 100\n",
    "t = Timer(N)\n",
    "info = None\n",
    "\n",
    "for i in range(N):\n",
    "    time.sleep(0.1)\n",
    "    t(info=info)  # Lap and present the time\n",
    "    if i == 50:\n",
    "        print()\n",
    "        info = f\"My Info: {i*3.122}\""
   ]
  },
  {
   "cell_type": "markdown",
   "metadata": {},
   "source": [
    "... or use track2 to directly track a loop"
   ]
  },
  {
   "cell_type": "code",
   "execution_count": 6,
   "metadata": {},
   "outputs": [
    {
     "name": "stdout",
     "output_type": "stream",
     "text": [
      "50/100 (5.21s - 5.21s remaining - 9.60 iters/s)          \n",
      "My Info: 309.08\t100/100 (10.39s - 0.00s remaining - 9.63 iters/s)          \r"
     ]
    }
   ],
   "source": [
    "N = 100\n",
    "info = None\n",
    "\n",
    "for i in (tracker := track2(range(N), total=N)):\n",
    "    time.sleep(0.1)\n",
    "    info = f\"My Info: {i*3.122:.2f}\"\n",
    "    if i == N // 2:\n",
    "        print()\n",
    "    if i >= N // 2:\n",
    "        tracker.send(info)"
   ]
  },
  {
   "cell_type": "markdown",
   "metadata": {},
   "source": [
    "## Warning! NEVER RUN `tracker.send(None)` as this will skip variables silently"
   ]
  },
  {
   "cell_type": "code",
   "execution_count": 7,
   "metadata": {},
   "outputs": [],
   "source": [
    "# | export\n",
    "# | hide\n",
    "\n",
    "\n",
    "def summarize_input(args, kwargs, outputs=None):\n",
    "    o = AD(args, kwargs)\n",
    "    if outputs is not None:\n",
    "        o.outputs = outputs\n",
    "    return o.summary()\n",
    "\n",
    "\n",
    "def timeit(func):\n",
    "    def inner(*args, **kwargs):\n",
    "        s = time.time()\n",
    "        o = func(*args, **kwargs)\n",
    "        Debug(f\"{time.time() - s:.2f} seconds to execute `{func.__name__}`\")\n",
    "        return o\n",
    "\n",
    "    return inner\n",
    "\n",
    "\n",
    "def io(func):\n",
    "    def inner(*args, **kwargs):\n",
    "        s = time.time()\n",
    "        o = func(*args, **kwargs)\n",
    "        info = f\"\"\"\n",
    "{time.time() - s:.2f} seconds to execute `{func.__name__}`\n",
    "{summarize_input(args=args, kwargs=kwargs, outputs=o)}\n",
    "        \"\"\"\n",
    "        Debug(info, depth=1)\n",
    "        return o\n",
    "\n",
    "    return inner"
   ]
  },
  {
   "cell_type": "code",
   "execution_count": 8,
   "metadata": {},
   "outputs": [
    {
     "data": {
      "text/html": [
       "<pre style=\"white-space:pre;overflow-x:auto;line-height:normal;font-family:Menlo,'DejaVu Sans Mono',consolas,'Courier New',monospace\"><span style=\"color: #7fbfbf; text-decoration-color: #7fbfbf\">[08/11/24 19:04:44] </span><span style=\"color: #008000; text-decoration-color: #008000\">DEBUG   </span> <span style=\"color: #008080; text-decoration-color: #008080; font-weight: bold\">0.00</span> seconds to execute `foo`                                                                                            <a href=\"file:///var/folders/1_/71dqv9vx2750gmyz77q_f45w0000gn/T/ipykernel_21562/1296653500.py:16\" target=\"_blank\"><span style=\"color: #7f7f7f; text-decoration-color: #7f7f7f\">1296653500.py</span></a><span style=\"color: #7f7f7f; text-decoration-color: #7f7f7f\">:</span><a href=\"file:///var/folders/1_/71dqv9vx2750gmyz77q_f45w0000gn/T/ipykernel_21562/1296653500.py:16#inner:16\" target=\"_blank\"><span style=\"color: #7f7f7f; text-decoration-color: #7f7f7f\">inner:16</span></a>\n",
       "</pre>\n"
      ],
      "text/plain": [
       "\u001b[2;36m[08/11/24 19:04:44]\u001b[0m\u001b[2;36m \u001b[0m\u001b[32mDEBUG   \u001b[0m \u001b[1;36m0.00\u001b[0m seconds to execute `foo`                                                                                            \u001b]8;id=768985;file:///var/folders/1_/71dqv9vx2750gmyz77q_f45w0000gn/T/ipykernel_21562/1296653500.py:16\u001b\\\u001b[2m1296653500.py\u001b[0m\u001b]8;;\u001b\\\u001b[2m:\u001b[0m\u001b]8;id=794464;file:///var/folders/1_/71dqv9vx2750gmyz77q_f45w0000gn/T/ipykernel_21562/1296653500.py:16#inner:16\u001b\\\u001b[2minner:16\u001b[0m\u001b]8;;\u001b\\\n"
      ]
     },
     "metadata": {},
     "output_type": "display_data"
    },
    {
     "data": {
      "text/html": [
       "<pre style=\"white-space:pre;overflow-x:auto;line-height:normal;font-family:Menlo,'DejaVu Sans Mono',consolas,'Courier New',monospace\"><span style=\"color: #7fbfbf; text-decoration-color: #7fbfbf\">                    </span><span style=\"color: #008000; text-decoration-color: #008000\">DEBUG   </span>                                                                                                                       <a href=\"file:///var/folders/1_/71dqv9vx2750gmyz77q_f45w0000gn/T/ipykernel_21562/2064456364.py:12\" target=\"_blank\"><span style=\"color: #7f7f7f; text-decoration-color: #7f7f7f\">2064456364.py</span></a><span style=\"color: #7f7f7f; text-decoration-color: #7f7f7f\">:</span><a href=\"file:///var/folders/1_/71dqv9vx2750gmyz77q_f45w0000gn/T/ipykernel_21562/2064456364.py:12#<module>:12\" target=\"_blank\"><span style=\"color: #7f7f7f; text-decoration-color: #7f7f7f\">&lt;module&gt;:12</span></a>\n",
       "<span style=\"color: #7fbfbf; text-decoration-color: #7fbfbf\">                    </span>         <span style=\"color: #008080; text-decoration-color: #008080; font-weight: bold\">0.00</span> seconds to execute `inner`                                                                                       <span style=\"color: #7f7f7f; text-decoration-color: #7f7f7f\">                         </span>\n",
       "<span style=\"color: #7fbfbf; text-decoration-color: #7fbfbf\">                    </span>         <span style=\"color: #800080; text-decoration-color: #800080; font-weight: bold\">args</span><span style=\"font-weight: bold\">()</span>                                                                                                                <span style=\"color: #7f7f7f; text-decoration-color: #7f7f7f\">                         </span>\n",
       "<span style=\"color: #7fbfbf; text-decoration-color: #7fbfbf\">                    </span>           <span style=\"color: #008080; text-decoration-color: #008080; font-weight: bold\">0</span> - <span style=\"color: #008080; text-decoration-color: #008080; font-weight: bold\">10</span> <span style=\"font-weight: bold\">(</span>🏷️ int<span style=\"font-weight: bold\">)</span>                                                                                                      <span style=\"color: #7f7f7f; text-decoration-color: #7f7f7f\">                         </span>\n",
       "<span style=\"color: #7fbfbf; text-decoration-color: #7fbfbf\">                    </span>         kwargs                                                                                                                <span style=\"color: #7f7f7f; text-decoration-color: #7f7f7f\">                         </span>\n",
       "<span style=\"color: #7fbfbf; text-decoration-color: #7fbfbf\">                    </span>         outputs - <span style=\"color: #008080; text-decoration-color: #008080; font-weight: bold\">11</span> <span style=\"font-weight: bold\">(</span>🏷️ int<span style=\"font-weight: bold\">)</span>                                                                                                  <span style=\"color: #7f7f7f; text-decoration-color: #7f7f7f\">                         </span>\n",
       "<span style=\"color: #7fbfbf; text-decoration-color: #7fbfbf\">                    </span>                                                                                                                               <span style=\"color: #7f7f7f; text-decoration-color: #7f7f7f\">                         </span>\n",
       "<span style=\"color: #7fbfbf; text-decoration-color: #7fbfbf\">                    </span>                                                                                                                               <span style=\"color: #7f7f7f; text-decoration-color: #7f7f7f\">                         </span>\n",
       "</pre>\n"
      ],
      "text/plain": [
       "\u001b[2;36m                   \u001b[0m\u001b[2;36m \u001b[0m\u001b[32mDEBUG   \u001b[0m                                                                                                                       \u001b]8;id=196942;file:///var/folders/1_/71dqv9vx2750gmyz77q_f45w0000gn/T/ipykernel_21562/2064456364.py:12\u001b\\\u001b[2m2064456364.py\u001b[0m\u001b]8;;\u001b\\\u001b[2m:\u001b[0m\u001b]8;id=537244;file:///var/folders/1_/71dqv9vx2750gmyz77q_f45w0000gn/T/ipykernel_21562/2064456364.py:12#<module>:12\u001b\\\u001b[2m<module>:12\u001b[0m\u001b]8;;\u001b\\\n",
       "\u001b[2;36m                    \u001b[0m         \u001b[1;36m0.00\u001b[0m seconds to execute `inner`                                                                                       \u001b[2m                         \u001b[0m\n",
       "\u001b[2;36m                    \u001b[0m         \u001b[1;35margs\u001b[0m\u001b[1m(\u001b[0m\u001b[1m)\u001b[0m                                                                                                                \u001b[2m                         \u001b[0m\n",
       "\u001b[2;36m                    \u001b[0m           \u001b[1;36m0\u001b[0m - \u001b[1;36m10\u001b[0m \u001b[1m(\u001b[0m🏷️ int\u001b[1m)\u001b[0m                                                                                                      \u001b[2m                         \u001b[0m\n",
       "\u001b[2;36m                    \u001b[0m         kwargs                                                                                                                \u001b[2m                         \u001b[0m\n",
       "\u001b[2;36m                    \u001b[0m         outputs - \u001b[1;36m11\u001b[0m \u001b[1m(\u001b[0m🏷️ int\u001b[1m)\u001b[0m                                                                                                  \u001b[2m                         \u001b[0m\n",
       "\u001b[2;36m                    \u001b[0m                                                                                                                               \u001b[2m                         \u001b[0m\n",
       "\u001b[2;36m                    \u001b[0m                                                                                                                               \u001b[2m                         \u001b[0m\n"
      ]
     },
     "metadata": {},
     "output_type": "display_data"
    },
    {
     "data": {
      "text/html": [
       "<pre style=\"white-space:pre;overflow-x:auto;line-height:normal;font-family:Menlo,'DejaVu Sans Mono',consolas,'Courier New',monospace\"><span style=\"color: #7fbfbf; text-decoration-color: #7fbfbf\">[08/11/24 19:04:46] </span><span style=\"color: #008000; text-decoration-color: #008000\">DEBUG   </span> <span style=\"color: #008080; text-decoration-color: #008080; font-weight: bold\">2.00</span> seconds to execute `foo`                                                                                            <a href=\"file:///var/folders/1_/71dqv9vx2750gmyz77q_f45w0000gn/T/ipykernel_21562/1296653500.py:16\" target=\"_blank\"><span style=\"color: #7f7f7f; text-decoration-color: #7f7f7f\">1296653500.py</span></a><span style=\"color: #7f7f7f; text-decoration-color: #7f7f7f\">:</span><a href=\"file:///var/folders/1_/71dqv9vx2750gmyz77q_f45w0000gn/T/ipykernel_21562/1296653500.py:16#inner:16\" target=\"_blank\"><span style=\"color: #7f7f7f; text-decoration-color: #7f7f7f\">inner:16</span></a>\n",
       "</pre>\n"
      ],
      "text/plain": [
       "\u001b[2;36m[08/11/24 19:04:46]\u001b[0m\u001b[2;36m \u001b[0m\u001b[32mDEBUG   \u001b[0m \u001b[1;36m2.00\u001b[0m seconds to execute `foo`                                                                                            \u001b]8;id=200602;file:///var/folders/1_/71dqv9vx2750gmyz77q_f45w0000gn/T/ipykernel_21562/1296653500.py:16\u001b\\\u001b[2m1296653500.py\u001b[0m\u001b]8;;\u001b\\\u001b[2m:\u001b[0m\u001b]8;id=221957;file:///var/folders/1_/71dqv9vx2750gmyz77q_f45w0000gn/T/ipykernel_21562/1296653500.py:16#inner:16\u001b\\\u001b[2minner:16\u001b[0m\u001b]8;;\u001b\\\n"
      ]
     },
     "metadata": {},
     "output_type": "display_data"
    },
    {
     "data": {
      "text/html": [
       "<pre style=\"white-space:pre;overflow-x:auto;line-height:normal;font-family:Menlo,'DejaVu Sans Mono',consolas,'Courier New',monospace\"><span style=\"color: #7fbfbf; text-decoration-color: #7fbfbf\">                    </span><span style=\"color: #008000; text-decoration-color: #008000\">DEBUG   </span>                                                                                                                       <a href=\"file:///var/folders/1_/71dqv9vx2750gmyz77q_f45w0000gn/T/ipykernel_21562/2064456364.py:13\" target=\"_blank\"><span style=\"color: #7f7f7f; text-decoration-color: #7f7f7f\">2064456364.py</span></a><span style=\"color: #7f7f7f; text-decoration-color: #7f7f7f\">:</span><a href=\"file:///var/folders/1_/71dqv9vx2750gmyz77q_f45w0000gn/T/ipykernel_21562/2064456364.py:13#<module>:13\" target=\"_blank\"><span style=\"color: #7f7f7f; text-decoration-color: #7f7f7f\">&lt;module&gt;:13</span></a>\n",
       "<span style=\"color: #7fbfbf; text-decoration-color: #7fbfbf\">                    </span>         <span style=\"color: #008080; text-decoration-color: #008080; font-weight: bold\">2.01</span> seconds to execute `inner`                                                                                       <span style=\"color: #7f7f7f; text-decoration-color: #7f7f7f\">                         </span>\n",
       "<span style=\"color: #7fbfbf; text-decoration-color: #7fbfbf\">                    </span>         <span style=\"color: #800080; text-decoration-color: #800080; font-weight: bold\">args</span><span style=\"font-weight: bold\">()</span>                                                                                                                <span style=\"color: #7f7f7f; text-decoration-color: #7f7f7f\">                         </span>\n",
       "<span style=\"color: #7fbfbf; text-decoration-color: #7fbfbf\">                    </span>           <span style=\"color: #008080; text-decoration-color: #008080; font-weight: bold\">0</span> - <span style=\"color: #008080; text-decoration-color: #008080; font-weight: bold\">10</span> <span style=\"font-weight: bold\">(</span>🏷️ int<span style=\"font-weight: bold\">)</span>                                                                                                      <span style=\"color: #7f7f7f; text-decoration-color: #7f7f7f\">                         </span>\n",
       "<span style=\"color: #7fbfbf; text-decoration-color: #7fbfbf\">                    </span>         kwargs                                                                                                                <span style=\"color: #7f7f7f; text-decoration-color: #7f7f7f\">                         </span>\n",
       "<span style=\"color: #7fbfbf; text-decoration-color: #7fbfbf\">                    </span>           b - <span style=\"color: #008080; text-decoration-color: #008080; font-weight: bold\">20</span> <span style=\"font-weight: bold\">(</span>🏷️ int<span style=\"font-weight: bold\">)</span>                                                                                                      <span style=\"color: #7f7f7f; text-decoration-color: #7f7f7f\">                         </span>\n",
       "<span style=\"color: #7fbfbf; text-decoration-color: #7fbfbf\">                    </span>         outputs - <span style=\"color: #008080; text-decoration-color: #008080; font-weight: bold\">30</span> <span style=\"font-weight: bold\">(</span>🏷️ int<span style=\"font-weight: bold\">)</span>                                                                                                  <span style=\"color: #7f7f7f; text-decoration-color: #7f7f7f\">                         </span>\n",
       "<span style=\"color: #7fbfbf; text-decoration-color: #7fbfbf\">                    </span>                                                                                                                               <span style=\"color: #7f7f7f; text-decoration-color: #7f7f7f\">                         </span>\n",
       "<span style=\"color: #7fbfbf; text-decoration-color: #7fbfbf\">                    </span>                                                                                                                               <span style=\"color: #7f7f7f; text-decoration-color: #7f7f7f\">                         </span>\n",
       "</pre>\n"
      ],
      "text/plain": [
       "\u001b[2;36m                   \u001b[0m\u001b[2;36m \u001b[0m\u001b[32mDEBUG   \u001b[0m                                                                                                                       \u001b]8;id=50473;file:///var/folders/1_/71dqv9vx2750gmyz77q_f45w0000gn/T/ipykernel_21562/2064456364.py:13\u001b\\\u001b[2m2064456364.py\u001b[0m\u001b]8;;\u001b\\\u001b[2m:\u001b[0m\u001b]8;id=285800;file:///var/folders/1_/71dqv9vx2750gmyz77q_f45w0000gn/T/ipykernel_21562/2064456364.py:13#<module>:13\u001b\\\u001b[2m<module>:13\u001b[0m\u001b]8;;\u001b\\\n",
       "\u001b[2;36m                    \u001b[0m         \u001b[1;36m2.01\u001b[0m seconds to execute `inner`                                                                                       \u001b[2m                         \u001b[0m\n",
       "\u001b[2;36m                    \u001b[0m         \u001b[1;35margs\u001b[0m\u001b[1m(\u001b[0m\u001b[1m)\u001b[0m                                                                                                                \u001b[2m                         \u001b[0m\n",
       "\u001b[2;36m                    \u001b[0m           \u001b[1;36m0\u001b[0m - \u001b[1;36m10\u001b[0m \u001b[1m(\u001b[0m🏷️ int\u001b[1m)\u001b[0m                                                                                                      \u001b[2m                         \u001b[0m\n",
       "\u001b[2;36m                    \u001b[0m         kwargs                                                                                                                \u001b[2m                         \u001b[0m\n",
       "\u001b[2;36m                    \u001b[0m           b - \u001b[1;36m20\u001b[0m \u001b[1m(\u001b[0m🏷️ int\u001b[1m)\u001b[0m                                                                                                      \u001b[2m                         \u001b[0m\n",
       "\u001b[2;36m                    \u001b[0m         outputs - \u001b[1;36m30\u001b[0m \u001b[1m(\u001b[0m🏷️ int\u001b[1m)\u001b[0m                                                                                                  \u001b[2m                         \u001b[0m\n",
       "\u001b[2;36m                    \u001b[0m                                                                                                                               \u001b[2m                         \u001b[0m\n",
       "\u001b[2;36m                    \u001b[0m                                                                                                                               \u001b[2m                         \u001b[0m\n"
      ]
     },
     "metadata": {},
     "output_type": "display_data"
    }
   ],
   "source": [
    "@io\n",
    "@timeit\n",
    "def foo(a, b=None):\n",
    "    if b is None:\n",
    "        return a + 1\n",
    "    else:\n",
    "        time.sleep(2)\n",
    "        return a + b\n",
    "\n",
    "\n",
    "with debug_mode():\n",
    "    foo(10)\n",
    "    foo(10, b=20)"
   ]
  },
  {
   "cell_type": "code",
   "execution_count": 30,
   "metadata": {},
   "outputs": [],
   "source": [
    "# | export\n",
    "# | hide\n",
    "\n",
    "\n",
    "def tryy(func=None, *, output_to_return_on_fail=None, print_traceback=False):\n",
    "    def decorator(f):\n",
    "        def inner(*args, **kwargs):\n",
    "            try:\n",
    "                return f(*args, **kwargs)\n",
    "            except Exception as e:\n",
    "                if not print_traceback:\n",
    "                    tb = str(e)\n",
    "                else:\n",
    "                    import traceback\n",
    "\n",
    "                    tb = traceback.format_exc()\n",
    "                Excep(\n",
    "                    f\"Error for `{f.__name__}` with \\n{summarize_input(args, kwargs)}\\n{tb}\"\n",
    "                )\n",
    "                return output_to_return_on_fail\n",
    "\n",
    "        return inner\n",
    "\n",
    "    if callable(func):\n",
    "        return decorator(func)\n",
    "    return decorator"
   ]
  },
  {
   "cell_type": "code",
   "execution_count": 31,
   "metadata": {},
   "outputs": [
    {
     "data": {
      "text/html": [
       "<pre style=\"white-space:pre;overflow-x:auto;line-height:normal;font-family:Menlo,'DejaVu Sans Mono',consolas,'Courier New',monospace\"><span style=\"color: #7fbfbf; text-decoration-color: #7fbfbf\">[08/11/24 19:11:33] </span><span style=\"color: #800000; text-decoration-color: #800000; font-weight: bold\">ERROR   </span> Error for `do` with                                                                                                      <a href=\"file:///var/folders/1_/71dqv9vx2750gmyz77q_f45w0000gn/T/ipykernel_21562/3146474900.py:17\" target=\"_blank\"><span style=\"color: #7f7f7f; text-decoration-color: #7f7f7f\">3146474900.py</span></a><span style=\"color: #7f7f7f; text-decoration-color: #7f7f7f\">:</span><a href=\"file:///var/folders/1_/71dqv9vx2750gmyz77q_f45w0000gn/T/ipykernel_21562/3146474900.py:17#inner:17\" target=\"_blank\"><span style=\"color: #7f7f7f; text-decoration-color: #7f7f7f\">inner:17</span></a>\n",
       "<span style=\"color: #7fbfbf; text-decoration-color: #7fbfbf\">                    </span>         <span style=\"color: #800080; text-decoration-color: #800080; font-weight: bold\">args</span><span style=\"font-weight: bold\">()</span>                                                                                                                   <span style=\"color: #7f7f7f; text-decoration-color: #7f7f7f\">                      </span>\n",
       "<span style=\"color: #7fbfbf; text-decoration-color: #7fbfbf\">                    </span>           <span style=\"color: #008080; text-decoration-color: #008080; font-weight: bold\">0</span> - <span style=\"color: #008080; text-decoration-color: #008080; font-weight: bold\">1</span> <span style=\"font-weight: bold\">(</span>🏷️ int<span style=\"font-weight: bold\">)</span>                                                                                                          <span style=\"color: #7f7f7f; text-decoration-color: #7f7f7f\">                      </span>\n",
       "<span style=\"color: #7fbfbf; text-decoration-color: #7fbfbf\">                    </span>           <span style=\"color: #008080; text-decoration-color: #008080; font-weight: bold\">1</span> - <span style=\"color: #008080; text-decoration-color: #008080; font-weight: bold\">2</span> <span style=\"font-weight: bold\">(</span>🏷️ int<span style=\"font-weight: bold\">)</span>                                                                                                          <span style=\"color: #7f7f7f; text-decoration-color: #7f7f7f\">                      </span>\n",
       "<span style=\"color: #7fbfbf; text-decoration-color: #7fbfbf\">                    </span>         kwargs                                                                                                                   <span style=\"color: #7f7f7f; text-decoration-color: #7f7f7f\">                      </span>\n",
       "<span style=\"color: #7fbfbf; text-decoration-color: #7fbfbf\">                    </span>           c - <span style=\"color: #008080; text-decoration-color: #008080; font-weight: bold\">10</span> <span style=\"font-weight: bold\">(</span>🏷️ int<span style=\"font-weight: bold\">)</span>                                                                                                         <span style=\"color: #7f7f7f; text-decoration-color: #7f7f7f\">                      </span>\n",
       "<span style=\"color: #7fbfbf; text-decoration-color: #7fbfbf\">                    </span>                                                                                                                                  <span style=\"color: #7f7f7f; text-decoration-color: #7f7f7f\">                      </span>\n",
       "<span style=\"color: #7fbfbf; text-decoration-color: #7fbfbf\">                    </span>         division by zero                                                                                                         <span style=\"color: #7f7f7f; text-decoration-color: #7f7f7f\">                      </span>\n",
       "</pre>\n"
      ],
      "text/plain": [
       "\u001b[2;36m[08/11/24 19:11:33]\u001b[0m\u001b[2;36m \u001b[0m\u001b[1;31mERROR   \u001b[0m Error for `do` with                                                                                                      \u001b]8;id=675640;file:///var/folders/1_/71dqv9vx2750gmyz77q_f45w0000gn/T/ipykernel_21562/3146474900.py:17\u001b\\\u001b[2m3146474900.py\u001b[0m\u001b]8;;\u001b\\\u001b[2m:\u001b[0m\u001b]8;id=769587;file:///var/folders/1_/71dqv9vx2750gmyz77q_f45w0000gn/T/ipykernel_21562/3146474900.py:17#inner:17\u001b\\\u001b[2minner:17\u001b[0m\u001b]8;;\u001b\\\n",
       "\u001b[2;36m                    \u001b[0m         \u001b[1;35margs\u001b[0m\u001b[1m(\u001b[0m\u001b[1m)\u001b[0m                                                                                                                   \u001b[2m                      \u001b[0m\n",
       "\u001b[2;36m                    \u001b[0m           \u001b[1;36m0\u001b[0m - \u001b[1;36m1\u001b[0m \u001b[1m(\u001b[0m🏷️ int\u001b[1m)\u001b[0m                                                                                                          \u001b[2m                      \u001b[0m\n",
       "\u001b[2;36m                    \u001b[0m           \u001b[1;36m1\u001b[0m - \u001b[1;36m2\u001b[0m \u001b[1m(\u001b[0m🏷️ int\u001b[1m)\u001b[0m                                                                                                          \u001b[2m                      \u001b[0m\n",
       "\u001b[2;36m                    \u001b[0m         kwargs                                                                                                                   \u001b[2m                      \u001b[0m\n",
       "\u001b[2;36m                    \u001b[0m           c - \u001b[1;36m10\u001b[0m \u001b[1m(\u001b[0m🏷️ int\u001b[1m)\u001b[0m                                                                                                         \u001b[2m                      \u001b[0m\n",
       "\u001b[2;36m                    \u001b[0m                                                                                                                                  \u001b[2m                      \u001b[0m\n",
       "\u001b[2;36m                    \u001b[0m         division by zero                                                                                                         \u001b[2m                      \u001b[0m\n"
      ]
     },
     "metadata": {},
     "output_type": "display_data"
    }
   ],
   "source": [
    "@tryy\n",
    "def do(a, b, c):\n",
    "    return 1 / 0\n",
    "\n",
    "\n",
    "x = do(1, 2, c=10)\n",
    "assert x is None  # tryy returns None by default"
   ]
  },
  {
   "cell_type": "code",
   "execution_count": 33,
   "metadata": {},
   "outputs": [
    {
     "data": {
      "text/html": [
       "<pre style=\"white-space:pre;overflow-x:auto;line-height:normal;font-family:Menlo,'DejaVu Sans Mono',consolas,'Courier New',monospace\"><span style=\"color: #7fbfbf; text-decoration-color: #7fbfbf\">[08/11/24 19:11:55] </span><span style=\"color: #800000; text-decoration-color: #800000; font-weight: bold\">ERROR   </span> Error for `do` with                                                                                                      <a href=\"file:///var/folders/1_/71dqv9vx2750gmyz77q_f45w0000gn/T/ipykernel_21562/3146474900.py:17\" target=\"_blank\"><span style=\"color: #7f7f7f; text-decoration-color: #7f7f7f\">3146474900.py</span></a><span style=\"color: #7f7f7f; text-decoration-color: #7f7f7f\">:</span><a href=\"file:///var/folders/1_/71dqv9vx2750gmyz77q_f45w0000gn/T/ipykernel_21562/3146474900.py:17#inner:17\" target=\"_blank\"><span style=\"color: #7f7f7f; text-decoration-color: #7f7f7f\">inner:17</span></a>\n",
       "<span style=\"color: #7fbfbf; text-decoration-color: #7fbfbf\">                    </span>         <span style=\"color: #800080; text-decoration-color: #800080; font-weight: bold\">args</span><span style=\"font-weight: bold\">()</span>                                                                                                                   <span style=\"color: #7f7f7f; text-decoration-color: #7f7f7f\">                      </span>\n",
       "<span style=\"color: #7fbfbf; text-decoration-color: #7fbfbf\">                    </span>           <span style=\"color: #008080; text-decoration-color: #008080; font-weight: bold\">0</span> - <span style=\"color: #008080; text-decoration-color: #008080; font-weight: bold\">1</span> <span style=\"font-weight: bold\">(</span>🏷️ int<span style=\"font-weight: bold\">)</span>                                                                                                          <span style=\"color: #7f7f7f; text-decoration-color: #7f7f7f\">                      </span>\n",
       "<span style=\"color: #7fbfbf; text-decoration-color: #7fbfbf\">                    </span>           <span style=\"color: #008080; text-decoration-color: #008080; font-weight: bold\">1</span> - <span style=\"color: #008080; text-decoration-color: #008080; font-weight: bold\">2</span> <span style=\"font-weight: bold\">(</span>🏷️ int<span style=\"font-weight: bold\">)</span>                                                                                                          <span style=\"color: #7f7f7f; text-decoration-color: #7f7f7f\">                      </span>\n",
       "<span style=\"color: #7fbfbf; text-decoration-color: #7fbfbf\">                    </span>         kwargs                                                                                                                   <span style=\"color: #7f7f7f; text-decoration-color: #7f7f7f\">                      </span>\n",
       "<span style=\"color: #7fbfbf; text-decoration-color: #7fbfbf\">                    </span>           c - <span style=\"color: #008080; text-decoration-color: #008080; font-weight: bold\">10</span> <span style=\"font-weight: bold\">(</span>🏷️ int<span style=\"font-weight: bold\">)</span>                                                                                                         <span style=\"color: #7f7f7f; text-decoration-color: #7f7f7f\">                      </span>\n",
       "<span style=\"color: #7fbfbf; text-decoration-color: #7fbfbf\">                    </span>                                                                                                                                  <span style=\"color: #7f7f7f; text-decoration-color: #7f7f7f\">                      </span>\n",
       "<span style=\"color: #7fbfbf; text-decoration-color: #7fbfbf\">                    </span>         division by zero                                                                                                         <span style=\"color: #7f7f7f; text-decoration-color: #7f7f7f\">                      </span>\n",
       "</pre>\n"
      ],
      "text/plain": [
       "\u001b[2;36m[08/11/24 19:11:55]\u001b[0m\u001b[2;36m \u001b[0m\u001b[1;31mERROR   \u001b[0m Error for `do` with                                                                                                      \u001b]8;id=807965;file:///var/folders/1_/71dqv9vx2750gmyz77q_f45w0000gn/T/ipykernel_21562/3146474900.py:17\u001b\\\u001b[2m3146474900.py\u001b[0m\u001b]8;;\u001b\\\u001b[2m:\u001b[0m\u001b]8;id=923417;file:///var/folders/1_/71dqv9vx2750gmyz77q_f45w0000gn/T/ipykernel_21562/3146474900.py:17#inner:17\u001b\\\u001b[2minner:17\u001b[0m\u001b]8;;\u001b\\\n",
       "\u001b[2;36m                    \u001b[0m         \u001b[1;35margs\u001b[0m\u001b[1m(\u001b[0m\u001b[1m)\u001b[0m                                                                                                                   \u001b[2m                      \u001b[0m\n",
       "\u001b[2;36m                    \u001b[0m           \u001b[1;36m0\u001b[0m - \u001b[1;36m1\u001b[0m \u001b[1m(\u001b[0m🏷️ int\u001b[1m)\u001b[0m                                                                                                          \u001b[2m                      \u001b[0m\n",
       "\u001b[2;36m                    \u001b[0m           \u001b[1;36m1\u001b[0m - \u001b[1;36m2\u001b[0m \u001b[1m(\u001b[0m🏷️ int\u001b[1m)\u001b[0m                                                                                                          \u001b[2m                      \u001b[0m\n",
       "\u001b[2;36m                    \u001b[0m         kwargs                                                                                                                   \u001b[2m                      \u001b[0m\n",
       "\u001b[2;36m                    \u001b[0m           c - \u001b[1;36m10\u001b[0m \u001b[1m(\u001b[0m🏷️ int\u001b[1m)\u001b[0m                                                                                                         \u001b[2m                      \u001b[0m\n",
       "\u001b[2;36m                    \u001b[0m                                                                                                                                  \u001b[2m                      \u001b[0m\n",
       "\u001b[2;36m                    \u001b[0m         division by zero                                                                                                         \u001b[2m                      \u001b[0m\n"
      ]
     },
     "metadata": {},
     "output_type": "display_data"
    },
    {
     "data": {
      "text/plain": [
       "'😔'"
      ]
     },
     "execution_count": 33,
     "metadata": {},
     "output_type": "execute_result"
    }
   ],
   "source": [
    "@tryy(output_to_return_on_fail=\"😔\")\n",
    "def do(a, b, c):\n",
    "    return 1 / 0\n",
    "\n",
    "\n",
    "do(1, 2, c=10)"
   ]
  },
  {
   "cell_type": "markdown",
   "metadata": {},
   "source": [
    "Optionally print the full stacktrace if needed"
   ]
  },
  {
   "cell_type": "code",
   "execution_count": 34,
   "metadata": {},
   "outputs": [
    {
     "data": {
      "text/html": [
       "<pre style=\"white-space:pre;overflow-x:auto;line-height:normal;font-family:Menlo,'DejaVu Sans Mono',consolas,'Courier New',monospace\"><span style=\"color: #7fbfbf; text-decoration-color: #7fbfbf\">[08/11/24 19:11:56] </span><span style=\"color: #800000; text-decoration-color: #800000; font-weight: bold\">ERROR   </span> Error for `do` with                                                                                                      <a href=\"file:///var/folders/1_/71dqv9vx2750gmyz77q_f45w0000gn/T/ipykernel_21562/3146474900.py:17\" target=\"_blank\"><span style=\"color: #7f7f7f; text-decoration-color: #7f7f7f\">3146474900.py</span></a><span style=\"color: #7f7f7f; text-decoration-color: #7f7f7f\">:</span><a href=\"file:///var/folders/1_/71dqv9vx2750gmyz77q_f45w0000gn/T/ipykernel_21562/3146474900.py:17#inner:17\" target=\"_blank\"><span style=\"color: #7f7f7f; text-decoration-color: #7f7f7f\">inner:17</span></a>\n",
       "<span style=\"color: #7fbfbf; text-decoration-color: #7fbfbf\">                    </span>         <span style=\"color: #800080; text-decoration-color: #800080; font-weight: bold\">args</span><span style=\"font-weight: bold\">()</span>                                                                                                                   <span style=\"color: #7f7f7f; text-decoration-color: #7f7f7f\">                      </span>\n",
       "<span style=\"color: #7fbfbf; text-decoration-color: #7fbfbf\">                    </span>           <span style=\"color: #008080; text-decoration-color: #008080; font-weight: bold\">0</span> - <span style=\"color: #008080; text-decoration-color: #008080; font-weight: bold\">1</span> <span style=\"font-weight: bold\">(</span>🏷️ int<span style=\"font-weight: bold\">)</span>                                                                                                          <span style=\"color: #7f7f7f; text-decoration-color: #7f7f7f\">                      </span>\n",
       "<span style=\"color: #7fbfbf; text-decoration-color: #7fbfbf\">                    </span>           <span style=\"color: #008080; text-decoration-color: #008080; font-weight: bold\">1</span> - <span style=\"color: #008080; text-decoration-color: #008080; font-weight: bold\">2</span> <span style=\"font-weight: bold\">(</span>🏷️ int<span style=\"font-weight: bold\">)</span>                                                                                                          <span style=\"color: #7f7f7f; text-decoration-color: #7f7f7f\">                      </span>\n",
       "<span style=\"color: #7fbfbf; text-decoration-color: #7fbfbf\">                    </span>         kwargs                                                                                                                   <span style=\"color: #7f7f7f; text-decoration-color: #7f7f7f\">                      </span>\n",
       "<span style=\"color: #7fbfbf; text-decoration-color: #7fbfbf\">                    </span>           c - <span style=\"color: #008080; text-decoration-color: #008080; font-weight: bold\">10</span> <span style=\"font-weight: bold\">(</span>🏷️ int<span style=\"font-weight: bold\">)</span>                                                                                                         <span style=\"color: #7f7f7f; text-decoration-color: #7f7f7f\">                      </span>\n",
       "<span style=\"color: #7fbfbf; text-decoration-color: #7fbfbf\">                    </span>                                                                                                                                  <span style=\"color: #7f7f7f; text-decoration-color: #7f7f7f\">                      </span>\n",
       "<span style=\"color: #7fbfbf; text-decoration-color: #7fbfbf\">                    </span>         Traceback <span style=\"font-weight: bold\">(</span>most recent call last<span style=\"font-weight: bold\">)</span>:                                                                                       <span style=\"color: #7f7f7f; text-decoration-color: #7f7f7f\">                      </span>\n",
       "<span style=\"color: #7fbfbf; text-decoration-color: #7fbfbf\">                    </span>           File <span style=\"color: #008000; text-decoration-color: #008000\">\"/var/folders/1_/71dqv9vx2750gmyz77q_f45w0000gn/T/ipykernel_21562/3146474900.py\"</span>, line <span style=\"color: #008080; text-decoration-color: #008080; font-weight: bold\">9</span>, in inner                <span style=\"color: #7f7f7f; text-decoration-color: #7f7f7f\">                      </span>\n",
       "<span style=\"color: #7fbfbf; text-decoration-color: #7fbfbf\">                    </span>             return <span style=\"color: #800080; text-decoration-color: #800080; font-weight: bold\">f</span><span style=\"font-weight: bold\">(</span>*args, **kwargs<span style=\"font-weight: bold\">)</span>                                                                                            <span style=\"color: #7f7f7f; text-decoration-color: #7f7f7f\">                      </span>\n",
       "<span style=\"color: #7fbfbf; text-decoration-color: #7fbfbf\">                    </span>                    ^^^^^^^^^^^^^^^^^^                                                                                            <span style=\"color: #7f7f7f; text-decoration-color: #7f7f7f\">                      </span>\n",
       "<span style=\"color: #7fbfbf; text-decoration-color: #7fbfbf\">                    </span>           File <span style=\"color: #008000; text-decoration-color: #008000\">\"/var/folders/1_/71dqv9vx2750gmyz77q_f45w0000gn/T/ipykernel_21562/2870377084.py\"</span>, line <span style=\"color: #008080; text-decoration-color: #008080; font-weight: bold\">3</span>, in do                   <span style=\"color: #7f7f7f; text-decoration-color: #7f7f7f\">                      </span>\n",
       "<span style=\"color: #7fbfbf; text-decoration-color: #7fbfbf\">                    </span>             return <span style=\"color: #008080; text-decoration-color: #008080; font-weight: bold\">1</span> <span style=\"color: #800080; text-decoration-color: #800080\">/</span> <span style=\"color: #008080; text-decoration-color: #008080; font-weight: bold\">0</span>                                                                                                         <span style=\"color: #7f7f7f; text-decoration-color: #7f7f7f\">                      </span>\n",
       "<span style=\"color: #7fbfbf; text-decoration-color: #7fbfbf\">                    </span>                    ~~^~~                                                                                                         <span style=\"color: #7f7f7f; text-decoration-color: #7f7f7f\">                      </span>\n",
       "<span style=\"color: #7fbfbf; text-decoration-color: #7fbfbf\">                    </span>         ZeroDivisionError: division by zero                                                                                      <span style=\"color: #7f7f7f; text-decoration-color: #7f7f7f\">                      </span>\n",
       "<span style=\"color: #7fbfbf; text-decoration-color: #7fbfbf\">                    </span>                                                                                                                                  <span style=\"color: #7f7f7f; text-decoration-color: #7f7f7f\">                      </span>\n",
       "</pre>\n"
      ],
      "text/plain": [
       "\u001b[2;36m[08/11/24 19:11:56]\u001b[0m\u001b[2;36m \u001b[0m\u001b[1;31mERROR   \u001b[0m Error for `do` with                                                                                                      \u001b]8;id=118525;file:///var/folders/1_/71dqv9vx2750gmyz77q_f45w0000gn/T/ipykernel_21562/3146474900.py:17\u001b\\\u001b[2m3146474900.py\u001b[0m\u001b]8;;\u001b\\\u001b[2m:\u001b[0m\u001b]8;id=56484;file:///var/folders/1_/71dqv9vx2750gmyz77q_f45w0000gn/T/ipykernel_21562/3146474900.py:17#inner:17\u001b\\\u001b[2minner:17\u001b[0m\u001b]8;;\u001b\\\n",
       "\u001b[2;36m                    \u001b[0m         \u001b[1;35margs\u001b[0m\u001b[1m(\u001b[0m\u001b[1m)\u001b[0m                                                                                                                   \u001b[2m                      \u001b[0m\n",
       "\u001b[2;36m                    \u001b[0m           \u001b[1;36m0\u001b[0m - \u001b[1;36m1\u001b[0m \u001b[1m(\u001b[0m🏷️ int\u001b[1m)\u001b[0m                                                                                                          \u001b[2m                      \u001b[0m\n",
       "\u001b[2;36m                    \u001b[0m           \u001b[1;36m1\u001b[0m - \u001b[1;36m2\u001b[0m \u001b[1m(\u001b[0m🏷️ int\u001b[1m)\u001b[0m                                                                                                          \u001b[2m                      \u001b[0m\n",
       "\u001b[2;36m                    \u001b[0m         kwargs                                                                                                                   \u001b[2m                      \u001b[0m\n",
       "\u001b[2;36m                    \u001b[0m           c - \u001b[1;36m10\u001b[0m \u001b[1m(\u001b[0m🏷️ int\u001b[1m)\u001b[0m                                                                                                         \u001b[2m                      \u001b[0m\n",
       "\u001b[2;36m                    \u001b[0m                                                                                                                                  \u001b[2m                      \u001b[0m\n",
       "\u001b[2;36m                    \u001b[0m         Traceback \u001b[1m(\u001b[0mmost recent call last\u001b[1m)\u001b[0m:                                                                                       \u001b[2m                      \u001b[0m\n",
       "\u001b[2;36m                    \u001b[0m           File \u001b[32m\"/var/folders/1_/71dqv9vx2750gmyz77q_f45w0000gn/T/ipykernel_21562/3146474900.py\"\u001b[0m, line \u001b[1;36m9\u001b[0m, in inner                \u001b[2m                      \u001b[0m\n",
       "\u001b[2;36m                    \u001b[0m             return \u001b[1;35mf\u001b[0m\u001b[1m(\u001b[0m*args, **kwargs\u001b[1m)\u001b[0m                                                                                            \u001b[2m                      \u001b[0m\n",
       "\u001b[2;36m                    \u001b[0m                    ^^^^^^^^^^^^^^^^^^                                                                                            \u001b[2m                      \u001b[0m\n",
       "\u001b[2;36m                    \u001b[0m           File \u001b[32m\"/var/folders/1_/71dqv9vx2750gmyz77q_f45w0000gn/T/ipykernel_21562/2870377084.py\"\u001b[0m, line \u001b[1;36m3\u001b[0m, in do                   \u001b[2m                      \u001b[0m\n",
       "\u001b[2;36m                    \u001b[0m             return \u001b[1;36m1\u001b[0m \u001b[35m/\u001b[0m \u001b[1;36m0\u001b[0m                                                                                                         \u001b[2m                      \u001b[0m\n",
       "\u001b[2;36m                    \u001b[0m                    ~~^~~                                                                                                         \u001b[2m                      \u001b[0m\n",
       "\u001b[2;36m                    \u001b[0m         ZeroDivisionError: division by zero                                                                                      \u001b[2m                      \u001b[0m\n",
       "\u001b[2;36m                    \u001b[0m                                                                                                                                  \u001b[2m                      \u001b[0m\n"
      ]
     },
     "metadata": {},
     "output_type": "display_data"
    },
    {
     "data": {
      "text/plain": [
       "'😔'"
      ]
     },
     "execution_count": 34,
     "metadata": {},
     "output_type": "execute_result"
    }
   ],
   "source": [
    "@tryy(print_traceback=True, output_to_return_on_fail=\"😔\")\n",
    "def do(a, b, c):\n",
    "    return 1 / 0\n",
    "\n",
    "\n",
    "do(1, 2, c=10)"
   ]
  },
  {
   "cell_type": "code",
   "execution_count": 4,
   "metadata": {},
   "outputs": [],
   "source": [
    "def deco(decorator):\n",
    "    @wraps(decorator)\n",
    "    def wrapper(*args, **kwargs):\n",
    "        def real_decorator(func):\n",
    "            @wraps(func)\n",
    "            def inner_wrapper(*fargs, **fkwargs):\n",
    "                return decorator(func, *fargs, **fkwargs)\n",
    "\n",
    "            return inner_wrapper\n",
    "\n",
    "        if len(args) == 1 and callable(args[0]) and not kwargs:\n",
    "            # Case when B is used without arguments\n",
    "            return real_decorator(args[0])\n",
    "        else:\n",
    "            # Case when B is used with arguments\n",
    "            def custom_decorator(func):\n",
    "                return decorator(func, **kwargs)\n",
    "\n",
    "            return custom_decorator\n",
    "\n",
    "    return wrapper"
   ]
  },
  {
   "cell_type": "code",
   "execution_count": 17,
   "metadata": {},
   "outputs": [],
   "source": [
    "@deco\n",
    "def B(func, *args, deco_param=\"default\", **kwargs):\n",
    "    print(\"B\", deco_param, print(\"args\", *args, \"kwargs\", **kwargs))\n",
    "    return func(*args, **kwargs)"
   ]
  },
  {
   "cell_type": "code",
   "execution_count": 19,
   "metadata": {},
   "outputs": [
    {
     "name": "stdout",
     "output_type": "stream",
     "text": [
      "args 1 2 3 kwargs\n",
      "B default None\n",
      "C\n"
     ]
    },
    {
     "data": {
      "text/plain": [
       "7"
      ]
     },
     "execution_count": 19,
     "metadata": {},
     "output_type": "execute_result"
    }
   ],
   "source": [
    "@B\n",
    "def C(a, b, c):\n",
    "    print(\"C\")\n",
    "    return a + (b * c)\n",
    "\n",
    "\n",
    "C(1, 2, 3)"
   ]
  },
  {
   "cell_type": "code",
   "execution_count": null,
   "metadata": {},
   "outputs": [],
   "source": [
    "@B(deco_param=\"new_param\")\n",
    "def C(a, b, c):\n",
    "    return a + (b * c)\n",
    "\n",
    "\n",
    "# Testing\n",
    "print(C(1, 2, 3))  # Outputs 'new_param' then the result 7"
   ]
  }
 ],
 "metadata": {
  "kernelspec": {
   "display_name": "mdm",
   "language": "python",
   "name": "python3"
  },
  "language_info": {
   "codemirror_mode": {
    "name": "ipython",
    "version": 3
   },
   "file_extension": ".py",
   "mimetype": "text/x-python",
   "name": "python",
   "nbconvert_exporter": "python",
   "pygments_lexer": "ipython3",
   "version": "3.12.4"
  },
  "vscode": {
   "interpreter": {
    "hash": "6b6ea07c3428539b6f2e73b58ccfbe441e6932da93cb0b63ea798c577834408a"
   }
  }
 },
 "nbformat": 4,
 "nbformat_minor": 4
}
