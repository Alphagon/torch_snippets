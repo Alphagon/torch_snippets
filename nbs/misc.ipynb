{
 "cells": [
  {
   "cell_type": "raw",
   "metadata": {},
   "source": [
    "# Timer\n",
    "---\n",
    "{}\n",
    "\n",
    "---\n",
    "\n"
   ]
  },
  {
   "cell_type": "code",
   "execution_count": 1,
   "metadata": {},
   "outputs": [],
   "source": [
    "#| default_exp misc"
   ]
  },
  {
   "cell_type": "code",
   "execution_count": 2,
   "metadata": {},
   "outputs": [],
   "source": [
    "#| export\n",
    "import time\n",
    "from torch_snippets.logger import Info\n",
    "from torch_snippets.inspector import inspect"
   ]
  },
  {
   "cell_type": "code",
   "execution_count": 3,
   "metadata": {
    "execution": {
     "iopub.execute_input": "2021-03-10T09:35:28.300728Z",
     "iopub.status.busy": "2021-03-10T09:35:28.300441Z",
     "iopub.status.idle": "2021-03-10T09:35:31.596373Z",
     "shell.execute_reply": "2021-03-10T09:35:31.595528Z",
     "shell.execute_reply.started": "2021-03-10T09:35:28.300702Z"
    }
   },
   "outputs": [],
   "source": [
    "#| export\n",
    "#| hide\n",
    "\n",
    "class Timer:\n",
    "    def __init__(self, N):\n",
    "        \"print elapsed time every iteration and print out remaining time\"\n",
    "        \"assumes this timer is called exactly N times or less\"\n",
    "        self.start = time.time()\n",
    "        self.N = N\n",
    "        self.ix = 0\n",
    "\n",
    "    def __call__(self, ix=None, info=None):\n",
    "        ix = self.ix if ix is None else ix\n",
    "        info = \"\" if info is None else f\"{info}\\t\"\n",
    "        elapsed = time.time() - self.start\n",
    "        speed = elapsed / (ix + 1)\n",
    "        unit = 's/iter'\n",
    "        if speed < 1:\n",
    "            speed = 1 / speed\n",
    "            unit = 'iters/s'\n",
    "        print(\n",
    "            \"{}{}/{} ({:.2f}s - {:.2f}s remaining - {:.2f} {}){}\".format(\n",
    "                info, ix + 1, self.N, elapsed, (self.N - ix) * (elapsed / (ix + 1)), speed, unit, \" \"*10\n",
    "            ),\n",
    "            end=\"\\r\",\n",
    "        )\n",
    "        self.ix += 1"
   ]
  },
  {
   "cell_type": "code",
   "execution_count": 4,
   "metadata": {},
   "outputs": [
    {
     "name": "stdout",
     "output_type": "stream",
     "text": [
      "51/100 (0.58s - 0.57s remaining - 88.39 iters/s)          \n",
      "100/100 (1.14s - 0.01s remaining - 87.99 iters/s)          \r"
     ]
    }
   ],
   "source": [
    "N = 100\n",
    "t = Timer(N)\n",
    "for i in range(N):\n",
    "    time.sleep(0.01)\n",
    "    t()\n",
    "    if i == 50:\n",
    "        print()"
   ]
  },
  {
   "cell_type": "code",
   "execution_count": 5,
   "metadata": {},
   "outputs": [],
   "source": [
    "#| export\n",
    "#| hide\n",
    "\n",
    "def timeit(func):\n",
    "    def inner(*args, **kwargs):\n",
    "        s = time.time()\n",
    "        o = func(*args, **kwargs)\n",
    "        Info(f\"{time.time() - s:.2f} seconds to execute `{func.__name__}`\")\n",
    "        return o\n",
    "\n",
    "    return inner\n",
    "\n",
    "\n",
    "def io(func):\n",
    "    def inner(*args, **kwargs):\n",
    "        s = time.time()\n",
    "        o = func(*args, **kwargs)\n",
    "        Info(f\"Args: {inspect(args)}\\nKWargs: {inspect(kwargs)}\\nOutput: {inspect(o)}\")\n",
    "        return o\n",
    "\n",
    "    return inner\n"
   ]
  },
  {
   "cell_type": "code",
   "execution_count": 6,
   "metadata": {},
   "outputs": [
    {
     "data": {
      "text/html": [
       "<pre style=\"white-space:pre;overflow-x:auto;line-height:normal;font-family:Menlo,'DejaVu Sans Mono',consolas,'Courier New',monospace\"><span style=\"color: #7fbfbf; text-decoration-color: #7fbfbf\">[03/20/23 18:59:31] </span><span style=\"color: #bfbf7f; text-decoration-color: #bfbf7f\">INFO    </span> <span style=\"color: #008080; text-decoration-color: #008080; font-weight: bold\">0.00</span> seconds to execute `foo`                                    <a href=\"file:///var/folders/cp/1fbgq2n922j8ztdsq6551vldkr5sdy/T/ipykernel_9211/3733636588.py\" target=\"_blank\"><span style=\"color: #7f7f7f; text-decoration-color: #7f7f7f\">3733636588.py</span></a><span style=\"color: #7f7f7f; text-decoration-color: #7f7f7f\">:</span><a href=\"file:///var/folders/cp/1fbgq2n922j8ztdsq6551vldkr5sdy/T/ipykernel_9211/3733636588.py#inner:8\" target=\"_blank\"><span style=\"color: #7f7f7f; text-decoration-color: #7f7f7f\">inner:8</span></a>\n",
       "</pre>\n"
      ],
      "text/plain": [
       "\u001b[2;36m[03/20/23 18:59:31]\u001b[0m\u001b[2;36m \u001b[0m\u001b[2;33mINFO    \u001b[0m \u001b[1;36m0.00\u001b[0m seconds to execute `foo`                                    \u001b]8;id=951613;file:///var/folders/cp/1fbgq2n922j8ztdsq6551vldkr5sdy/T/ipykernel_9211/3733636588.py\u001b\\\u001b[2m3733636588.py\u001b[0m\u001b]8;;\u001b\\\u001b[2m:\u001b[0m\u001b]8;id=221759;file:///var/folders/cp/1fbgq2n922j8ztdsq6551vldkr5sdy/T/ipykernel_9211/3733636588.py#inner:8\u001b\\\u001b[2minner:8\u001b[0m\u001b]8;;\u001b\\\n"
      ]
     },
     "metadata": {},
     "output_type": "display_data"
    },
    {
     "data": {
      "text/html": [
       "<pre style=\"white-space:pre;overflow-x:auto;line-height:normal;font-family:Menlo,'DejaVu Sans Mono',consolas,'Courier New',monospace\">══════════════════════════════════════════════════════════════════\n",
       "</pre>\n"
      ],
      "text/plain": [
       "══════════════════════════════════════════════════════════════════\n"
      ]
     },
     "metadata": {},
     "output_type": "display_data"
    },
    {
     "data": {
      "text/html": [
       "<pre style=\"white-space:pre;overflow-x:auto;line-height:normal;font-family:Menlo,'DejaVu Sans Mono',consolas,'Courier New',monospace\">tuple of <span style=\"color: #008080; text-decoration-color: #008080; font-weight: bold\">1</span> items\n",
       "</pre>\n"
      ],
      "text/plain": [
       "tuple of \u001b[1;36m1\u001b[0m items\n"
      ]
     },
     "metadata": {},
     "output_type": "display_data"
    },
    {
     "data": {
      "text/html": [
       "<pre style=\"white-space:pre;overflow-x:auto;line-height:normal;font-family:Menlo,'DejaVu Sans Mono',consolas,'Courier New',monospace\">        int: <span style=\"color: #008080; text-decoration-color: #008080; font-weight: bold\">10</span>\n",
       "</pre>\n"
      ],
      "text/plain": [
       "        int: \u001b[1;36m10\u001b[0m\n"
      ]
     },
     "metadata": {},
     "output_type": "display_data"
    },
    {
     "data": {
      "text/html": [
       "<pre style=\"white-space:pre;overflow-x:auto;line-height:normal;font-family:Menlo,'DejaVu Sans Mono',consolas,'Courier New',monospace\">══════════════════════════════════════════════════════════════════\n",
       "</pre>\n"
      ],
      "text/plain": [
       "══════════════════════════════════════════════════════════════════\n"
      ]
     },
     "metadata": {},
     "output_type": "display_data"
    },
    {
     "data": {
      "text/html": [
       "<pre style=\"white-space:pre;overflow-x:auto;line-height:normal;font-family:Menlo,'DejaVu Sans Mono',consolas,'Courier New',monospace\">══════════════════════════════════════════════════════════════════\n",
       "</pre>\n"
      ],
      "text/plain": [
       "══════════════════════════════════════════════════════════════════\n"
      ]
     },
     "metadata": {},
     "output_type": "display_data"
    },
    {
     "data": {
      "text/html": [
       "<pre style=\"white-space:pre;overflow-x:auto;line-height:normal;font-family:Menlo,'DejaVu Sans Mono',consolas,'Courier New',monospace\">dict of <span style=\"color: #008080; text-decoration-color: #008080; font-weight: bold\">0</span> items\n",
       "</pre>\n"
      ],
      "text/plain": [
       "dict of \u001b[1;36m0\u001b[0m items\n"
      ]
     },
     "metadata": {},
     "output_type": "display_data"
    },
    {
     "data": {
      "text/html": [
       "<pre style=\"white-space:pre;overflow-x:auto;line-height:normal;font-family:Menlo,'DejaVu Sans Mono',consolas,'Courier New',monospace\">══════════════════════════════════════════════════════════════════\n",
       "</pre>\n"
      ],
      "text/plain": [
       "══════════════════════════════════════════════════════════════════\n"
      ]
     },
     "metadata": {},
     "output_type": "display_data"
    },
    {
     "data": {
      "text/html": [
       "<pre style=\"white-space:pre;overflow-x:auto;line-height:normal;font-family:Menlo,'DejaVu Sans Mono',consolas,'Courier New',monospace\">══════════════════════════════════════════════════════════════════\n",
       "</pre>\n"
      ],
      "text/plain": [
       "══════════════════════════════════════════════════════════════════\n"
      ]
     },
     "metadata": {},
     "output_type": "display_data"
    },
    {
     "data": {
      "text/html": [
       "<pre style=\"white-space:pre;overflow-x:auto;line-height:normal;font-family:Menlo,'DejaVu Sans Mono',consolas,'Courier New',monospace\">int: <span style=\"color: #008080; text-decoration-color: #008080; font-weight: bold\">11</span>\n",
       "</pre>\n"
      ],
      "text/plain": [
       "int: \u001b[1;36m11\u001b[0m\n"
      ]
     },
     "metadata": {},
     "output_type": "display_data"
    },
    {
     "data": {
      "text/html": [
       "<pre style=\"white-space:pre;overflow-x:auto;line-height:normal;font-family:Menlo,'DejaVu Sans Mono',consolas,'Courier New',monospace\">══════════════════════════════════════════════════════════════════\n",
       "</pre>\n"
      ],
      "text/plain": [
       "══════════════════════════════════════════════════════════════════\n"
      ]
     },
     "metadata": {},
     "output_type": "display_data"
    },
    {
     "data": {
      "text/html": [
       "<pre style=\"white-space:pre;overflow-x:auto;line-height:normal;font-family:Menlo,'DejaVu Sans Mono',consolas,'Courier New',monospace\"><span style=\"color: #7fbfbf; text-decoration-color: #7fbfbf\">                    </span><span style=\"color: #bfbf7f; text-decoration-color: #bfbf7f\">INFO    </span> Args: <span style=\"color: #800080; text-decoration-color: #800080; font-style: italic\">None</span>                                                      <a href=\"file:///var/folders/cp/1fbgq2n922j8ztdsq6551vldkr5sdy/T/ipykernel_9211/3733636588.py\" target=\"_blank\"><span style=\"color: #7f7f7f; text-decoration-color: #7f7f7f\">3733636588.py</span></a><span style=\"color: #7f7f7f; text-decoration-color: #7f7f7f\">:</span><a href=\"file:///var/folders/cp/1fbgq2n922j8ztdsq6551vldkr5sdy/T/ipykernel_9211/3733636588.py#inner:18\" target=\"_blank\"><span style=\"color: #7f7f7f; text-decoration-color: #7f7f7f\">inner:18</span></a>\n",
       "<span style=\"color: #7fbfbf; text-decoration-color: #7fbfbf\">                    </span>         KWargs: <span style=\"color: #800080; text-decoration-color: #800080; font-style: italic\">None</span>                                                    <span style=\"color: #7f7f7f; text-decoration-color: #7f7f7f\">                      </span>\n",
       "<span style=\"color: #7fbfbf; text-decoration-color: #7fbfbf\">                    </span>         Output: <span style=\"color: #800080; text-decoration-color: #800080; font-style: italic\">None</span>                                                    <span style=\"color: #7f7f7f; text-decoration-color: #7f7f7f\">                      </span>\n",
       "</pre>\n"
      ],
      "text/plain": [
       "\u001b[2;36m                   \u001b[0m\u001b[2;36m \u001b[0m\u001b[2;33mINFO    \u001b[0m Args: \u001b[3;35mNone\u001b[0m                                                      \u001b]8;id=157014;file:///var/folders/cp/1fbgq2n922j8ztdsq6551vldkr5sdy/T/ipykernel_9211/3733636588.py\u001b\\\u001b[2m3733636588.py\u001b[0m\u001b]8;;\u001b\\\u001b[2m:\u001b[0m\u001b]8;id=358416;file:///var/folders/cp/1fbgq2n922j8ztdsq6551vldkr5sdy/T/ipykernel_9211/3733636588.py#inner:18\u001b\\\u001b[2minner:18\u001b[0m\u001b]8;;\u001b\\\n",
       "\u001b[2;36m                    \u001b[0m         KWargs: \u001b[3;35mNone\u001b[0m                                                    \u001b[2m                      \u001b[0m\n",
       "\u001b[2;36m                    \u001b[0m         Output: \u001b[3;35mNone\u001b[0m                                                    \u001b[2m                      \u001b[0m\n"
      ]
     },
     "metadata": {},
     "output_type": "display_data"
    },
    {
     "data": {
      "text/html": [
       "<pre style=\"white-space:pre;overflow-x:auto;line-height:normal;font-family:Menlo,'DejaVu Sans Mono',consolas,'Courier New',monospace\"><span style=\"color: #7fbfbf; text-decoration-color: #7fbfbf\">[03/20/23 18:59:33] </span><span style=\"color: #bfbf7f; text-decoration-color: #bfbf7f\">INFO    </span> <span style=\"color: #008080; text-decoration-color: #008080; font-weight: bold\">2.00</span> seconds to execute `foo`                                    <a href=\"file:///var/folders/cp/1fbgq2n922j8ztdsq6551vldkr5sdy/T/ipykernel_9211/3733636588.py\" target=\"_blank\"><span style=\"color: #7f7f7f; text-decoration-color: #7f7f7f\">3733636588.py</span></a><span style=\"color: #7f7f7f; text-decoration-color: #7f7f7f\">:</span><a href=\"file:///var/folders/cp/1fbgq2n922j8ztdsq6551vldkr5sdy/T/ipykernel_9211/3733636588.py#inner:8\" target=\"_blank\"><span style=\"color: #7f7f7f; text-decoration-color: #7f7f7f\">inner:8</span></a>\n",
       "</pre>\n"
      ],
      "text/plain": [
       "\u001b[2;36m[03/20/23 18:59:33]\u001b[0m\u001b[2;36m \u001b[0m\u001b[2;33mINFO    \u001b[0m \u001b[1;36m2.00\u001b[0m seconds to execute `foo`                                    \u001b]8;id=139141;file:///var/folders/cp/1fbgq2n922j8ztdsq6551vldkr5sdy/T/ipykernel_9211/3733636588.py\u001b\\\u001b[2m3733636588.py\u001b[0m\u001b]8;;\u001b\\\u001b[2m:\u001b[0m\u001b]8;id=352358;file:///var/folders/cp/1fbgq2n922j8ztdsq6551vldkr5sdy/T/ipykernel_9211/3733636588.py#inner:8\u001b\\\u001b[2minner:8\u001b[0m\u001b]8;;\u001b\\\n"
      ]
     },
     "metadata": {},
     "output_type": "display_data"
    },
    {
     "data": {
      "text/html": [
       "<pre style=\"white-space:pre;overflow-x:auto;line-height:normal;font-family:Menlo,'DejaVu Sans Mono',consolas,'Courier New',monospace\">══════════════════════════════════════════════════════════════════\n",
       "</pre>\n"
      ],
      "text/plain": [
       "══════════════════════════════════════════════════════════════════\n"
      ]
     },
     "metadata": {},
     "output_type": "display_data"
    },
    {
     "data": {
      "text/html": [
       "<pre style=\"white-space:pre;overflow-x:auto;line-height:normal;font-family:Menlo,'DejaVu Sans Mono',consolas,'Courier New',monospace\">tuple of <span style=\"color: #008080; text-decoration-color: #008080; font-weight: bold\">1</span> items\n",
       "</pre>\n"
      ],
      "text/plain": [
       "tuple of \u001b[1;36m1\u001b[0m items\n"
      ]
     },
     "metadata": {},
     "output_type": "display_data"
    },
    {
     "data": {
      "text/html": [
       "<pre style=\"white-space:pre;overflow-x:auto;line-height:normal;font-family:Menlo,'DejaVu Sans Mono',consolas,'Courier New',monospace\">        int: <span style=\"color: #008080; text-decoration-color: #008080; font-weight: bold\">10</span>\n",
       "</pre>\n"
      ],
      "text/plain": [
       "        int: \u001b[1;36m10\u001b[0m\n"
      ]
     },
     "metadata": {},
     "output_type": "display_data"
    },
    {
     "data": {
      "text/html": [
       "<pre style=\"white-space:pre;overflow-x:auto;line-height:normal;font-family:Menlo,'DejaVu Sans Mono',consolas,'Courier New',monospace\">══════════════════════════════════════════════════════════════════\n",
       "</pre>\n"
      ],
      "text/plain": [
       "══════════════════════════════════════════════════════════════════\n"
      ]
     },
     "metadata": {},
     "output_type": "display_data"
    },
    {
     "data": {
      "text/html": [
       "<pre style=\"white-space:pre;overflow-x:auto;line-height:normal;font-family:Menlo,'DejaVu Sans Mono',consolas,'Courier New',monospace\">══════════════════════════════════════════════════════════════════\n",
       "</pre>\n"
      ],
      "text/plain": [
       "══════════════════════════════════════════════════════════════════\n"
      ]
     },
     "metadata": {},
     "output_type": "display_data"
    },
    {
     "data": {
      "text/html": [
       "<pre style=\"white-space:pre;overflow-x:auto;line-height:normal;font-family:Menlo,'DejaVu Sans Mono',consolas,'Courier New',monospace\">dict of <span style=\"color: #008080; text-decoration-color: #008080; font-weight: bold\">1</span> items\n",
       "</pre>\n"
      ],
      "text/plain": [
       "dict of \u001b[1;36m1\u001b[0m items\n"
      ]
     },
     "metadata": {},
     "output_type": "display_data"
    },
    {
     "data": {
      "text/html": [
       "<pre style=\"white-space:pre;overflow-x:auto;line-height:normal;font-family:Menlo,'DejaVu Sans Mono',consolas,'Courier New',monospace\">        B:\n",
       "        int: <span style=\"color: #008080; text-decoration-color: #008080; font-weight: bold\">20</span>\n",
       "</pre>\n"
      ],
      "text/plain": [
       "        B:\n",
       "        int: \u001b[1;36m20\u001b[0m\n"
      ]
     },
     "metadata": {},
     "output_type": "display_data"
    },
    {
     "data": {
      "text/html": [
       "<pre style=\"white-space:pre;overflow-x:auto;line-height:normal;font-family:Menlo,'DejaVu Sans Mono',consolas,'Courier New',monospace\">══════════════════════════════════════════════════════════════════\n",
       "</pre>\n"
      ],
      "text/plain": [
       "══════════════════════════════════════════════════════════════════\n"
      ]
     },
     "metadata": {},
     "output_type": "display_data"
    },
    {
     "data": {
      "text/html": [
       "<pre style=\"white-space:pre;overflow-x:auto;line-height:normal;font-family:Menlo,'DejaVu Sans Mono',consolas,'Courier New',monospace\">══════════════════════════════════════════════════════════════════\n",
       "</pre>\n"
      ],
      "text/plain": [
       "══════════════════════════════════════════════════════════════════\n"
      ]
     },
     "metadata": {},
     "output_type": "display_data"
    },
    {
     "data": {
      "text/html": [
       "<pre style=\"white-space:pre;overflow-x:auto;line-height:normal;font-family:Menlo,'DejaVu Sans Mono',consolas,'Courier New',monospace\">int: <span style=\"color: #008080; text-decoration-color: #008080; font-weight: bold\">30</span>\n",
       "</pre>\n"
      ],
      "text/plain": [
       "int: \u001b[1;36m30\u001b[0m\n"
      ]
     },
     "metadata": {},
     "output_type": "display_data"
    },
    {
     "data": {
      "text/html": [
       "<pre style=\"white-space:pre;overflow-x:auto;line-height:normal;font-family:Menlo,'DejaVu Sans Mono',consolas,'Courier New',monospace\">══════════════════════════════════════════════════════════════════\n",
       "</pre>\n"
      ],
      "text/plain": [
       "══════════════════════════════════════════════════════════════════\n"
      ]
     },
     "metadata": {},
     "output_type": "display_data"
    },
    {
     "data": {
      "text/html": [
       "<pre style=\"white-space:pre;overflow-x:auto;line-height:normal;font-family:Menlo,'DejaVu Sans Mono',consolas,'Courier New',monospace\"><span style=\"color: #7fbfbf; text-decoration-color: #7fbfbf\">[03/20/23 18:59:34] </span><span style=\"color: #bfbf7f; text-decoration-color: #bfbf7f\">INFO    </span> Args: <span style=\"color: #800080; text-decoration-color: #800080; font-style: italic\">None</span>                                                      <a href=\"file:///var/folders/cp/1fbgq2n922j8ztdsq6551vldkr5sdy/T/ipykernel_9211/3733636588.py\" target=\"_blank\"><span style=\"color: #7f7f7f; text-decoration-color: #7f7f7f\">3733636588.py</span></a><span style=\"color: #7f7f7f; text-decoration-color: #7f7f7f\">:</span><a href=\"file:///var/folders/cp/1fbgq2n922j8ztdsq6551vldkr5sdy/T/ipykernel_9211/3733636588.py#inner:18\" target=\"_blank\"><span style=\"color: #7f7f7f; text-decoration-color: #7f7f7f\">inner:18</span></a>\n",
       "<span style=\"color: #7fbfbf; text-decoration-color: #7fbfbf\">                    </span>         KWargs: <span style=\"color: #800080; text-decoration-color: #800080; font-style: italic\">None</span>                                                    <span style=\"color: #7f7f7f; text-decoration-color: #7f7f7f\">                      </span>\n",
       "<span style=\"color: #7fbfbf; text-decoration-color: #7fbfbf\">                    </span>         Output: <span style=\"color: #800080; text-decoration-color: #800080; font-style: italic\">None</span>                                                    <span style=\"color: #7f7f7f; text-decoration-color: #7f7f7f\">                      </span>\n",
       "</pre>\n"
      ],
      "text/plain": [
       "\u001b[2;36m[03/20/23 18:59:34]\u001b[0m\u001b[2;36m \u001b[0m\u001b[2;33mINFO    \u001b[0m Args: \u001b[3;35mNone\u001b[0m                                                      \u001b]8;id=156524;file:///var/folders/cp/1fbgq2n922j8ztdsq6551vldkr5sdy/T/ipykernel_9211/3733636588.py\u001b\\\u001b[2m3733636588.py\u001b[0m\u001b]8;;\u001b\\\u001b[2m:\u001b[0m\u001b]8;id=522887;file:///var/folders/cp/1fbgq2n922j8ztdsq6551vldkr5sdy/T/ipykernel_9211/3733636588.py#inner:18\u001b\\\u001b[2minner:18\u001b[0m\u001b]8;;\u001b\\\n",
       "\u001b[2;36m                    \u001b[0m         KWargs: \u001b[3;35mNone\u001b[0m                                                    \u001b[2m                      \u001b[0m\n",
       "\u001b[2;36m                    \u001b[0m         Output: \u001b[3;35mNone\u001b[0m                                                    \u001b[2m                      \u001b[0m\n"
      ]
     },
     "metadata": {},
     "output_type": "display_data"
    },
    {
     "data": {
      "text/plain": [
       "30"
      ]
     },
     "execution_count": 6,
     "metadata": {},
     "output_type": "execute_result"
    }
   ],
   "source": [
    "@io\n",
    "@timeit\n",
    "def foo(a, b=None):\n",
    "    if b is None:\n",
    "        return a+1\n",
    "    else:\n",
    "        time.sleep(2)\n",
    "        return a+b\n",
    "    \n",
    "\n",
    "foo(10)\n",
    "foo(10, b=20)"
   ]
  }
 ],
 "metadata": {
  "kernelspec": {
   "display_name": "mdm",
   "language": "python",
   "name": "python3"
  },
  "language_info": {
   "codemirror_mode": {
    "name": "ipython",
    "version": 3
   },
   "file_extension": ".py",
   "mimetype": "text/x-python",
   "name": "python",
   "nbconvert_exporter": "python",
   "pygments_lexer": "ipython3",
   "version": "3.8.15"
  },
  "vscode": {
   "interpreter": {
    "hash": "6b6ea07c3428539b6f2e73b58ccfbe441e6932da93cb0b63ea798c577834408a"
   }
  }
 },
 "nbformat": 4,
 "nbformat_minor": 4
}
