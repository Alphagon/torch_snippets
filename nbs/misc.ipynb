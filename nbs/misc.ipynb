{
 "cells": [
  {
   "cell_type": "markdown",
   "metadata": {},
   "source": [
    "# Miscellaneous Functions"
   ]
  },
  {
   "cell_type": "code",
   "execution_count": 1,
   "metadata": {
    "execution": {
     "iopub.execute_input": "2021-03-10T09:35:27.952777Z",
     "iopub.status.busy": "2021-03-10T09:35:27.952398Z",
     "iopub.status.idle": "2021-03-10T09:35:27.974821Z",
     "shell.execute_reply": "2021-03-10T09:35:27.974212Z",
     "shell.execute_reply.started": "2021-03-10T09:35:27.952712Z"
    }
   },
   "outputs": [],
   "source": [
    "%load_ext autoreload\n",
    "%autoreload 2"
   ]
  },
  {
   "cell_type": "code",
   "execution_count": 2,
   "metadata": {
    "execution": {
     "iopub.execute_input": "2021-03-10T09:35:28.300728Z",
     "iopub.status.busy": "2021-03-10T09:35:28.300441Z",
     "iopub.status.idle": "2021-03-10T09:35:31.596373Z",
     "shell.execute_reply": "2021-03-10T09:35:31.595528Z",
     "shell.execute_reply.started": "2021-03-10T09:35:28.300702Z"
    }
   },
   "outputs": [
    {
     "name": "stdout",
     "output_type": "stream",
     "text": [
      "100/100 (1.12s - 0.01s remaining)"
     ]
    }
   ],
   "source": [
    "from torch_snippets.loader import Timer\n",
    "import time\n",
    "\n",
    "N = 100\n",
    "t = Timer(N)\n",
    "for i in range(N):\n",
    "    time.sleep(0.01)\n",
    "    t()\n",
    "    if i == 500: print()"
   ]
  },
  {
   "cell_type": "code",
   "execution_count": null,
   "metadata": {},
   "outputs": [],
   "source": []
  }
 ],
 "metadata": {
  "kernelspec": {
   "display_name": "Python 3 (ipykernel)",
   "language": "python",
   "name": "python3"
  },
  "language_info": {
   "codemirror_mode": {
    "name": "ipython",
    "version": 3
   },
   "file_extension": ".py",
   "mimetype": "text/x-python",
   "name": "python",
   "nbconvert_exporter": "python",
   "pygments_lexer": "ipython3",
   "version": "3.9.5"
  }
 },
 "nbformat": 4,
 "nbformat_minor": 4
}
