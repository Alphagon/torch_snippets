{
 "cells": [
  {
   "cell_type": "raw",
   "metadata": {},
   "source": [
    "# Timer\n",
    "---\n",
    "{}\n",
    "\n",
    "---\n",
    "\n"
   ]
  },
  {
   "cell_type": "code",
   "execution_count": null,
   "metadata": {},
   "outputs": [],
   "source": [
    "#| default_exp misc"
   ]
  },
  {
   "cell_type": "code",
   "execution_count": 2,
   "metadata": {
    "execution": {
     "iopub.execute_input": "2021-03-10T09:35:28.300728Z",
     "iopub.status.busy": "2021-03-10T09:35:28.300441Z",
     "iopub.status.idle": "2021-03-10T09:35:31.596373Z",
     "shell.execute_reply": "2021-03-10T09:35:31.595528Z",
     "shell.execute_reply.started": "2021-03-10T09:35:28.300702Z"
    }
   },
   "outputs": [],
   "source": [
    "#| export\n",
    "#| hide\n",
    "import time\n",
    "\n",
    "class Timer:\n",
    "    def __init__(self, N):\n",
    "        \"print elapsed time every iteration and print out remaining time\"\n",
    "        \"assumes this timer is called exactly N times or less\"\n",
    "        self.start = time.time()\n",
    "        self.N = N\n",
    "        self.ix = 0\n",
    "\n",
    "    def __call__(self, ix=None, info=None):\n",
    "        ix = self.ix if ix is None else ix\n",
    "        info = \"\" if info is None else f\"{info}\\t\"\n",
    "        elapsed = time.time() - self.start\n",
    "        speed = elapsed / (ix + 1)\n",
    "        unit = 's/iter'\n",
    "        if speed < 1:\n",
    "            speed = 1 / speed\n",
    "            unit = 'iters/s'\n",
    "        print(\n",
    "            \"{}{}/{} ({:.2f}s - {:.2f}s remaining - {:.2f} {}){}\".format(\n",
    "                info, ix + 1, self.N, elapsed, (self.N - ix) * (elapsed / (ix + 1)), speed, unit, \" \"*10\n",
    "            ),\n",
    "            end=\"\\r\",\n",
    "        )\n",
    "        self.ix += 1"
   ]
  },
  {
   "cell_type": "code",
   "execution_count": 3,
   "metadata": {},
   "outputs": [
    {
     "name": "stdout",
     "output_type": "stream",
     "text": [
      "51/100 (0.57s - 0.56s remaining)\n",
      "100/100 (1.12s - 0.01s remaining)\r"
     ]
    }
   ],
   "source": [
    "N = 100\n",
    "t = Timer(N)\n",
    "for i in range(N):\n",
    "    time.sleep(0.01)\n",
    "    t()\n",
    "    if i == 50:\n",
    "        print()"
   ]
  },
  {
   "cell_type": "code",
   "execution_count": null,
   "metadata": {},
   "outputs": [],
   "source": []
  }
 ],
 "metadata": {
  "kernelspec": {
   "display_name": "mdm",
   "language": "python",
   "name": "python3"
  },
  "language_info": {
   "codemirror_mode": {
    "name": "ipython",
    "version": 3
   },
   "file_extension": ".py",
   "mimetype": "text/x-python",
   "name": "python",
   "nbconvert_exporter": "python",
   "pygments_lexer": "ipython3",
   "version": "3.8.15 (default, Nov 24 2022, 09:04:07) \n[Clang 14.0.6 ]"
  },
  "vscode": {
   "interpreter": {
    "hash": "6b6ea07c3428539b6f2e73b58ccfbe441e6932da93cb0b63ea798c577834408a"
   }
  }
 },
 "nbformat": 4,
 "nbformat_minor": 4
}
