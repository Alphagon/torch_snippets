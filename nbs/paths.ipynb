{
 "cells": [
  {
   "cell_type": "markdown",
   "metadata": {},
   "source": [
    "# PATHS"
   ]
  },
  {
   "cell_type": "code",
   "execution_count": 2,
   "metadata": {},
   "outputs": [],
   "source": [
    "# default_exp paths"
   ]
  },
  {
   "cell_type": "code",
   "execution_count": 3,
   "metadata": {},
   "outputs": [],
   "source": [
    "#export\n",
    "from fastcore.basics import patch_to\n",
    "from functools import wraps\n",
    "from torch_snippets.logger import logger, Info, Debug, Warn, Excep\n",
    "\n",
    "def input_to_str(func):\n",
    "    @wraps(func)\n",
    "    def inner(input, *args, **kwargs):\n",
    "        if isinstance(input, P):\n",
    "            input = str(input)\n",
    "        if isinstance(input, list):\n",
    "            input = [str(i) for i in input]\n",
    "        out = func(input, *args, **kwargs)\n",
    "        return out\n",
    "    return inner\n",
    "\n",
    "def output_to_path(func):\n",
    "    @wraps(func)\n",
    "    def inner(input, *args, **kwargs):\n",
    "        out = func(input, *args, **kwargs)\n",
    "        if isinstance(out, str):\n",
    "            out = P(out)\n",
    "        if isinstance(out, list):\n",
    "            if len(out) > 0 and isinstance(out[0], str):\n",
    "                out = [P(o) for o in out]\n",
    "        return out\n",
    "    return inner"
   ]
  },
  {
   "cell_type": "code",
   "execution_count": 19,
   "metadata": {
    "tags": []
   },
   "outputs": [],
   "source": [
    "#export\n",
    "from torch_snippets.loader import choose as ts_choose\n",
    "from torch_snippets.loader import Tqdm\n",
    "from pathlib import Path\n",
    "P = Path\n",
    "P.ls = lambda self: list(self.iterdir())\n",
    "P.__repr__ = lambda self: f\"» {self}\"\n",
    "\n",
    "@patch_to(P)\n",
    "def size(self):\n",
    "    if self.is_dir(): raise Exception(f\"`{self}` is a directory\")\n",
    "    fsize = os.path.getsize(self) >> 20\n",
    "    fsize = f'{fsize} MB' if fsize > 0 else f'{os.path.getsize(self) >> 10} KB'\n",
    "    return fsize\n",
    "\n",
    "@patch_to(P)\n",
    "def extn(self, pattern='*'):\n",
    "    return self.suffix.replace('.', '')\n",
    "\n",
    "@patch_to(P)\n",
    "def Glob(self, pattern='*'):\n",
    "    return list(self.glob(pattern))\n",
    "\n",
    "@patch_to(P)\n",
    "def sample(self, pattern='*'):\n",
    "    return ts_choose(self.Glob(pattern))\n",
    "\n",
    "@patch_to(P)\n",
    "def mv(self, to):\n",
    "    os.rename(self, to)\n",
    "    return P(to)\n",
    "\n",
    "import shutil\n",
    "@patch_to(P)\n",
    "def cp(self, to):\n",
    "    return P(shutil.copy(self, to))\n",
    "\n",
    "@patch_to(P)\n",
    "def rm(self, confirm_prompt=False, verbose=True):\n",
    "    confirm = input(f'Are you sure you want to delete `{self}`? [y/N]') if confirm_prompt else 'y'\n",
    "    if confirm.lower() == 'y':\n",
    "        os.remove(self)\n",
    "        if verbose:\n",
    "            logger.info(f'Deleted {self}')\n",
    "    else:\n",
    "        if verbose:\n",
    "            logger.info(f'Aborting delete: {self}')"
   ]
  },
  {
   "cell_type": "code",
   "execution_count": 20,
   "metadata": {
    "tags": []
   },
   "outputs": [
    {
     "name": "stderr",
     "output_type": "stream",
     "text": [
      "2021-08-28 10:15:21.514 | INFO     | __main__:<module>:3 - 0 KB\n",
      "2021-08-28 10:15:21.520 | INFO     | __main__:rm:44 - Deleted test1.txt\n",
      "2021-08-28 10:15:21.521 | INFO     | __main__:rm:44 - Deleted test2.txt\n",
      "2021-08-28 10:15:21.524 | INFO     | __main__:<module>:17 - [» torch_snippets/loader.py, » torch_snippets/__pycache__, » torch_snippets/registry.py, » torch_snippets/fastcores.py, » torch_snippets/charts.py, » torch_snippets/__init__.py, » torch_snippets/misc.py, » torch_snippets/.ipynb_checkpoints, » torch_snippets/logger.py, » torch_snippets/markup.py, » torch_snippets/thinc_parser, » torch_snippets/markups.py, » torch_snippets/paths.py, » torch_snippets/sklegos.py, » torch_snippets/torch_loader.py, » torch_snippets/_nbdev.py]\n",
      "2021-08-28 10:15:21.527 | INFO     | __main__:<module>:19 - Sample file: `torch_snippets/fastcores.py`\n",
      "2021-08-28 10:15:21.528 | INFO     | __main__:<module>:20 - Sample file size: `0 KB`\n",
      "2021-08-28 10:15:21.529 | WARNING  | __main__:<module>:24 - `torch_snippets` is a directory\n"
     ]
    }
   ],
   "source": [
    "p = P('test.txt')\n",
    "p.touch()\n",
    "logger.info(p.size())\n",
    "p = p.mv('test1.txt')\n",
    "q = p.cp('test2.txt')\n",
    "\n",
    "assert isinstance(q, P)\n",
    "assert q.size() == '0 KB'\n",
    "assert str(p) == 'test1.txt'\n",
    "assert p.extn() == 'txt'\n",
    "assert p.parent == P()\n",
    "\n",
    "p.rm(confirm_prompt=False)\n",
    "q.rm(confirm_prompt=False)\n",
    "\n",
    "p = P('torch_snippets')\n",
    "logger.info(p.Glob())\n",
    "q = p.sample('*.py')\n",
    "logger.info(f'Sample file: `{q}`')\n",
    "logger.info(f'Sample file size: `{q.size()}`')\n",
    "try:\n",
    "    p.size()\n",
    "except Exception as e:\n",
    "    logger.warning(e)\n"
   ]
  },
  {
   "cell_type": "code",
   "execution_count": 21,
   "metadata": {
    "tags": []
   },
   "outputs": [],
   "source": [
    "#export\n",
    "import glob, os\n",
    "\n",
    "def isdir(fpath): return os.path.isdir(fpath)\n",
    "\n",
    "@input_to_str\n",
    "def makedir(x):\n",
    "    os.makedirs(x, exist_ok=True)\n",
    "\n",
    "@input_to_str\n",
    "def fname(fpath):\n",
    "    return fpath.split('/')[-1]\n",
    "\n",
    "@input_to_str\n",
    "def fname2(fpath):\n",
    "    return stem(fpath.split('/')[-1])\n",
    "\n",
    "def stem(fpath):\n",
    "    return P(fpath).stem\n",
    "\n",
    "@input_to_str\n",
    "def stems(folder):\n",
    "    if isinstance(folder, (str, P)) : return [stem(str(x)) for x in Glob(folder)]\n",
    "    if isinstance(folder, list): return [stem(x) for x in folder]\n",
    "\n",
    "@input_to_str\n",
    "@output_to_path\n",
    "def parent(fpath):\n",
    "    out = '/'.join(fpath.split('/')[:-1])\n",
    "    if out == '': return './'\n",
    "    else:         return out\n",
    "\n",
    "def extn(x):\n",
    "    return P(x).extn()\n",
    "\n",
    "@input_to_str\n",
    "@output_to_path\n",
    "def Glob(x, extns=None, silent=False):\n",
    "    files = glob.glob(x+'/*') if '*' not in x else glob.glob(x)\n",
    "    if extns:\n",
    "        if isinstance(extns, str): extns = extns.split(',')\n",
    "        files = [f for f in files if any([f.endswith(ext) for ext in extns])]\n",
    "\n",
    "    if not silent: logger.opt(depth=1).log('INFO', '{} files found at {}'.format(len(files), x))\n",
    "    return files\n",
    "\n",
    "def find(item, List, match_stem=False):\n",
    "    '''Find an `item` in a `List`\n",
    "    >>> find('abc', ['ijk','asdfs','dfsabcdsf','lmnop'])\n",
    "    'dgsabcdsf'\n",
    "    >>> find('file1', ['/tmp/file0.jpg', '/tmp/file0.png', '/tmp/file1.jpg', '/tmp/file1.png', '/tmp/file2.jpg', '/tmp/file2.png'])\n",
    "    ['/tmp/file1.jpg', '/tmp/file1.png']\n",
    "    '''\n",
    "    filtered = [i for i in List if item in str(i)]\n",
    "    if match_stem and len(filtered) > 1:\n",
    "        filtered = [f for f in filtered if stem(f)==item]\n",
    "    if len(filtered) == 1: return filtered[0]\n",
    "    return filtered"
   ]
  },
  {
   "cell_type": "code",
   "execution_count": 22,
   "metadata": {
    "tags": []
   },
   "outputs": [
    {
     "name": "stderr",
     "output_type": "stream",
     "text": [
      "2021-08-28 10:15:22.652 | INFO     | __main__:inner:17 - 15 files found at torch_snippets\n",
      "2021-08-28 10:15:22.655 | INFO     | __main__:rm:44 - Deleted test.txt\n"
     ]
    }
   ],
   "source": [
    "p = P('test.txt')\n",
    "p.touch()\n",
    "assert isdir(p) == False\n",
    "assert fname(p) == 'test.txt'\n",
    "assert parent(p) == P()\n",
    "assert stem(p) == 'test'\n",
    "assert extn(p) == 'txt'\n",
    "\n",
    "find('logger', Glob('torch_snippets'))\n",
    "\n",
    "p.rm(confirm_prompt=False)"
   ]
  },
  {
   "cell_type": "code",
   "execution_count": 23,
   "metadata": {
    "tags": []
   },
   "outputs": [],
   "source": [
    "#export\n",
    "import zipfile\n",
    "import tarfile\n",
    "\n",
    "def zip_files(list_of_files, dest):\n",
    "    dest = str(dest)\n",
    "    logger.info(f'Zipping {len(list_of_files)} files to {dest}...')\n",
    "    if dest.lower().endswith('.zip'):\n",
    "        with zipfile.ZipFile(dest, 'w') as zipMe:\n",
    "            for file in Tqdm(list_of_files):\n",
    "                zipMe.write(file, compress_type=zipfile.ZIP_DEFLATED)\n",
    "    elif dest.lower().endswith('.tar.gz'):\n",
    "        with tarfile.open(dest, \"w:gz\") as tarMe:\n",
    "            for file in Tqdm(list_of_files):\n",
    "                tarMe.add(file)\n",
    "    return P(dest)\n",
    "\n",
    "def unzip_file(file, dest):\n",
    "    file = str(file)\n",
    "    if file.lower().endswith('.zip'):\n",
    "        with zipfile.ZipFile(file, 'r') as zip_ref:\n",
    "            zip_ref.extractall(dest)\n",
    "    elif file.lower().endswith('.tar.xz') or file.endswith('.tar.gz'):\n",
    "        with tarfile.open(file, 'r') as f:\n",
    "            f.extractall(dest)\n",
    "    return P(dest)"
   ]
  },
  {
   "cell_type": "code",
   "execution_count": 27,
   "metadata": {},
   "outputs": [
    {
     "name": "stderr",
     "output_type": "stream",
     "text": [
      "2021-08-28 10:16:25.801 | INFO     | __main__:zip_files:7 - Zipping 2 files to test.tar.gz...\n",
      "100%|██████████| 2/2 [00:00<00:00, 837.35it/s]\n",
      "2021-08-28 10:16:25.819 | INFO     | __main__:rm:44 - Deleted test2.txt\n",
      "2021-08-28 10:16:25.822 | INFO     | __main__:rm:44 - Deleted test1.txt\n",
      "2021-08-28 10:16:25.824 | INFO     | __main__:rm:44 - Deleted test.tar.gz\n",
      "2021-08-28 10:16:25.958 | INFO     | __main__:zip_files:7 - Zipping 2 files to test.zip...\n",
      "100%|██████████| 2/2 [00:00<00:00, 807.61it/s]\n",
      "2021-08-28 10:16:25.979 | INFO     | __main__:rm:44 - Deleted test2.txt\n",
      "2021-08-28 10:16:25.982 | INFO     | __main__:rm:44 - Deleted test1.txt\n",
      "2021-08-28 10:16:25.985 | INFO     | __main__:rm:44 - Deleted test.zip\n"
     ]
    }
   ],
   "source": [
    "!touch test1.txt test2.txt\n",
    "f = zip_files(P().Glob('*.txt'), 'test.tar.gz')\n",
    "unzip_file(f, './')\n",
    "[f.rm() for f in P().Glob('*.txt')]\n",
    "P('test.tar.gz').rm()\n",
    "\n",
    "!touch test1.txt test2.txt\n",
    "f = zip_files(P().Glob('*.txt'), 'test.zip')\n",
    "unzip_file(f, './')\n",
    "[f.rm() for f in P().Glob('*.txt')]\n",
    "P('test.zip').rm()"
   ]
  },
  {
   "cell_type": "code",
   "execution_count": 8,
   "metadata": {
    "execution": {
     "iopub.execute_input": "2021-08-06T11:24:27.743860Z",
     "iopub.status.busy": "2021-08-06T11:24:27.743235Z",
     "iopub.status.idle": "2021-08-06T11:24:27.755210Z",
     "shell.execute_reply": "2021-08-06T11:24:27.753235Z",
     "shell.execute_reply.started": "2021-08-06T11:24:27.743797Z"
    }
   },
   "outputs": [],
   "source": [
    "#export\n",
    "import hashlib\n",
    "def md5(fname):\n",
    "    hash_md5 = hashlib.md5()\n",
    "    with open(fname, \"rb\") as f:\n",
    "        for chunk in iter(lambda: f.read(4096), b\"\"):\n",
    "            hash_md5.update(chunk)\n",
    "    return hash_md5.hexdigest()\n",
    "\n",
    "def remove_duplicates(files):\n",
    "    import pandas as pd\n",
    "    from torch_snippets.loader import diff\n",
    "    hashes = [md5(f) for f in files]\n",
    "    df = pd.DataFrame({'f':files, 'h': hashes})\n",
    "    x = df.drop_duplicates('h')\n",
    "    y = diff(files, x.f)\n",
    "    for i in y:\n",
    "        os.rename(i, './x')\n",
    "    # !rm ./x\n",
    "    return"
   ]
  },
  {
   "cell_type": "code",
   "execution_count": 18,
   "metadata": {
    "execution": {
     "iopub.execute_input": "2021-08-06T11:25:35.234831Z",
     "iopub.status.busy": "2021-08-06T11:25:35.234497Z",
     "iopub.status.idle": "2021-08-06T11:25:35.241253Z",
     "shell.execute_reply": "2021-08-06T11:25:35.240149Z",
     "shell.execute_reply.started": "2021-08-06T11:25:35.234798Z"
    },
    "tags": []
   },
   "outputs": [
    {
     "data": {
      "text/plain": [
       "'79f9c5aa4ebc52d7cabd97fdf1eae6dc'"
      ]
     },
     "execution_count": 18,
     "metadata": {},
     "output_type": "execute_result"
    }
   ],
   "source": [
    "md5('paths.ipynb')"
   ]
  },
  {
   "cell_type": "code",
   "execution_count": 9,
   "metadata": {
    "execution": {
     "iopub.execute_input": "2021-08-06T11:24:27.760475Z",
     "iopub.status.busy": "2021-08-06T11:24:27.759829Z",
     "iopub.status.idle": "2021-08-06T11:24:27.770724Z",
     "shell.execute_reply": "2021-08-06T11:24:27.769650Z",
     "shell.execute_reply.started": "2021-08-06T11:24:27.760393Z"
    },
    "tags": []
   },
   "outputs": [],
   "source": [
    "#export\n",
    "def readlines(fpath, silent=False, encoding=None):\n",
    "    with open(fpath, 'r', encoding=encoding) as f:\n",
    "        lines = f.read().split('\\n')\n",
    "        lines = [l.strip() for l in lines if l.strip()!='']\n",
    "        if not silent: logger.opt(depth=1).log(\"INFO\", f'loaded {len(lines)} lines')\n",
    "        return lines\n",
    "\n",
    "@patch_to(P)\n",
    "def read_lines(self, silent=False, encoding=None):\n",
    "    return readlines(self, silent=silent, encoding=encoding)\n",
    "\n",
    "def writelines(lines, file):\n",
    "    makedir(parent(file))\n",
    "    failed = []\n",
    "    with open(file, 'w') as f:\n",
    "        for line in lines:\n",
    "            try: f.write(f'{line}\\n')\n",
    "            except: failed.append(line)\n",
    "    if failed!=[]:\n",
    "        logger.opt(depth=1).log('INFO', f'Failed to write {len(failed)} lines out of {len(lines)}')\n",
    "        return failed\n",
    "\n",
    "@patch_to(P)\n",
    "def write_lines(self, lines):\n",
    "    return writelines(lines, self)"
   ]
  },
  {
   "cell_type": "code",
   "execution_count": 10,
   "metadata": {
    "execution": {
     "iopub.execute_input": "2021-08-06T11:24:27.772922Z",
     "iopub.status.busy": "2021-08-06T11:24:27.772181Z",
     "iopub.status.idle": "2021-08-06T11:24:27.792839Z",
     "shell.execute_reply": "2021-08-06T11:24:27.791454Z",
     "shell.execute_reply.started": "2021-08-06T11:24:27.772856Z"
    },
    "tags": []
   },
   "outputs": [
    {
     "name": "stderr",
     "output_type": "stream",
     "text": [
      "2021-08-06 16:54:27.782 | INFO     | __main__:read_lines:11 - loaded 1000 lines\n",
      "2021-08-06 16:54:27.784 | INFO     | __main__:<module>:6 - 3 KB\n",
      "2021-08-06 16:54:27.786 | INFO     | __main__:rm:43 - Deleted tmp.txt\n"
     ]
    }
   ],
   "source": [
    "x = P('tmp.txt')\n",
    "x.touch()\n",
    "x.write_lines([i for i in range(1000)])\n",
    "lines = x.read_lines()\n",
    "assert lines == [f'{i}' for i in range(1000)]\n",
    "logger.info(x.size())\n",
    "\n",
    "x.rm(confirm_prompt=False)"
   ]
  },
  {
   "cell_type": "code",
   "execution_count": 11,
   "metadata": {
    "execution": {
     "iopub.execute_input": "2021-08-06T11:24:27.796187Z",
     "iopub.status.busy": "2021-08-06T11:24:27.795475Z",
     "iopub.status.idle": "2021-08-06T11:24:27.806822Z",
     "shell.execute_reply": "2021-08-06T11:24:27.805061Z",
     "shell.execute_reply.started": "2021-08-06T11:24:27.796125Z"
    }
   },
   "outputs": [],
   "source": [
    "#export\n",
    "def rename_batch(folder, func, debug=False, one_file=False):\n",
    "    from torch_snippets.loader import now\n",
    "    'V.V.Imp: Use debug=True first to confirm file name changes are as expected'\n",
    "    if isinstance(folder, (str, P)): folder = Glob(folder)\n",
    "    sources = []\n",
    "    destins = []\n",
    "    log_file = f'moved_files_{now()}.log'\n",
    "    for f in folder:\n",
    "        source = f\n",
    "        destin = func(f)\n",
    "        if source == destin: continue\n",
    "        if debug:\n",
    "            logger.debug(f'moving `{source}` --> `{destin}`')\n",
    "        else:\n",
    "            # !mv {source.replace(' ','\\ ')} {destin.replace(' ','\\ ')}\n",
    "            logger.info(f'moving `{source}` --> `{destin}`')\n",
    "            os.rename(source, destin)\n",
    "        # !echo {source.replace(' ','\\ ')} --\\> {destin.replace(' ','\\ ')} >> {logfile}\n",
    "        if one_file: break"
   ]
  },
  {
   "cell_type": "code",
   "execution_count": 12,
   "metadata": {
    "execution": {
     "iopub.execute_input": "2021-08-06T11:24:27.809913Z",
     "iopub.status.busy": "2021-08-06T11:24:27.809312Z",
     "iopub.status.idle": "2021-08-06T11:24:27.820460Z",
     "shell.execute_reply": "2021-08-06T11:24:27.819022Z",
     "shell.execute_reply.started": "2021-08-06T11:24:27.809872Z"
    },
    "tags": []
   },
   "outputs": [],
   "source": [
    "#export\n",
    "import dill, time\n",
    "\n",
    "dill = dill\n",
    "def dumpdill(obj, fpath, silent=False):\n",
    "    start = time.time()\n",
    "    fpath = P(fpath)\n",
    "    fpath.parent.mkdir(exist_ok=True)\n",
    "    with open(fpath, 'wb') as f:\n",
    "        dill.dump(obj, f)\n",
    "    if not silent:\n",
    "        fsize = fpath.size()\n",
    "        logger.opt(depth=1).log('INFO', f'Dumped object of size ≈{fsize} @ \"{fpath}\" in {time.time()-start:.2e} seconds')\n",
    "\n",
    "def loaddill(fpath):\n",
    "    fpath = str(fpath)\n",
    "    with open(fpath, 'rb') as f:\n",
    "        obj = dill.load(f)\n",
    "    return obj"
   ]
  },
  {
   "cell_type": "code",
   "execution_count": 13,
   "metadata": {
    "execution": {
     "iopub.execute_input": "2021-08-06T11:24:27.824269Z",
     "iopub.status.busy": "2021-08-06T11:24:27.823710Z",
     "iopub.status.idle": "2021-08-06T11:24:27.837678Z",
     "shell.execute_reply": "2021-08-06T11:24:27.836308Z",
     "shell.execute_reply.started": "2021-08-06T11:24:27.824220Z"
    },
    "tags": []
   },
   "outputs": [
    {
     "name": "stderr",
     "output_type": "stream",
     "text": [
      "2021-08-06 16:54:27.829 | INFO     | __main__:<module>:2 - Dumped object of size ≈0 KB @ \"test.tmp\" in 2.42e-03 seconds\n",
      "2021-08-06 16:54:27.832 | INFO     | __main__:rm:43 - Deleted test.tmp\n"
     ]
    }
   ],
   "source": [
    "p = P('test.tmp')\n",
    "dumpdill([1,2,3], p)\n",
    "y = loaddill(p)\n",
    "p.rm(confirm_prompt=False)\n",
    "assert y == [1,2,3]"
   ]
  },
  {
   "cell_type": "code",
   "execution_count": null,
   "metadata": {},
   "outputs": [],
   "source": []
  }
 ],
 "metadata": {
  "kernelspec": {
   "display_name": "Python 3 (ipykernel)",
   "language": "python",
   "name": "python3"
  },
  "language_info": {
   "codemirror_mode": {
    "name": "ipython",
    "version": 3
   },
   "file_extension": ".py",
   "mimetype": "text/x-python",
   "name": "python",
   "nbconvert_exporter": "python",
   "pygments_lexer": "ipython3",
   "version": "3.7.6"
  }
 },
 "nbformat": 4,
 "nbformat_minor": 4
}
