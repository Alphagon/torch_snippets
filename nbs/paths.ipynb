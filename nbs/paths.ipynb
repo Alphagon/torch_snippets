{
 "cells": [
  {
   "cell_type": "raw",
   "metadata": {},
   "source": [
    "# Paths\n",
    "Utilities to manipulate OS files\n",
    "---\n",
    "{}\n",
    "---"
   ]
  },
  {
   "cell_type": "code",
   "execution_count": 1,
   "metadata": {},
   "outputs": [
    {
     "data": {
      "application/javascript": "\n            setTimeout(function() {\n                var nbb_cell_id = 1;\n                var nbb_unformatted_code = \"#| default_exp paths\\n%reload_ext nb_black\\n%reload_ext autoreload\\n%autoreload 2\";\n                var nbb_formatted_code = \"# | default_exp paths\\n%reload_ext nb_black\\n%reload_ext autoreload\\n%autoreload 2\";\n                var nbb_cells = Jupyter.notebook.get_cells();\n                for (var i = 0; i < nbb_cells.length; ++i) {\n                    if (nbb_cells[i].input_prompt_number == nbb_cell_id) {\n                        if (nbb_cells[i].get_text() == nbb_unformatted_code) {\n                             nbb_cells[i].set_text(nbb_formatted_code);\n                        }\n                        break;\n                    }\n                }\n            }, 500);\n            ",
      "text/plain": [
       "<IPython.core.display.Javascript object>"
      ]
     },
     "metadata": {},
     "output_type": "display_data"
    }
   ],
   "source": [
    "# | default_exp paths\n",
    "%reload_ext nb_black\n",
    "%reload_ext autoreload\n",
    "%autoreload 2"
   ]
  },
  {
   "cell_type": "code",
   "execution_count": 2,
   "metadata": {},
   "outputs": [
    {
     "data": {
      "application/javascript": "\n            setTimeout(function() {\n                var nbb_cell_id = 2;\n                var nbb_unformatted_code = \"#| export\\n#| hide\\nfrom fastcore.basics import patch_to\\nfrom functools import wraps\\nfrom torch_snippets.loader import choose as ts_choose, Tqdm, os, logger, Info, Debug, Warn, Excep\\nfrom pathlib import Path\\nimport hashlib, shutil\\nimport glob\\nimport dill, time\";\n                var nbb_formatted_code = \"# | export\\n# | hide\\nfrom fastcore.basics import patch_to\\nfrom functools import wraps\\nfrom torch_snippets.loader import (\\n    choose as ts_choose,\\n    Tqdm,\\n    os,\\n    logger,\\n    Info,\\n    Debug,\\n    Warn,\\n    Excep,\\n)\\nfrom pathlib import Path\\nimport hashlib, shutil\\nimport glob\\nimport dill, time\";\n                var nbb_cells = Jupyter.notebook.get_cells();\n                for (var i = 0; i < nbb_cells.length; ++i) {\n                    if (nbb_cells[i].input_prompt_number == nbb_cell_id) {\n                        if (nbb_cells[i].get_text() == nbb_unformatted_code) {\n                             nbb_cells[i].set_text(nbb_formatted_code);\n                        }\n                        break;\n                    }\n                }\n            }, 500);\n            ",
      "text/plain": [
       "<IPython.core.display.Javascript object>"
      ]
     },
     "metadata": {},
     "output_type": "display_data"
    }
   ],
   "source": [
    "# | export\n",
    "# | hide\n",
    "from fastcore.basics import patch_to\n",
    "from fastcore.foundation import L\n",
    "from functools import wraps\n",
    "from torch_snippets.loader import (\n",
    "    choose as ts_choose,\n",
    "    Tqdm,\n",
    "    os,\n",
    "    logger,\n",
    "    Info,\n",
    "    Debug,\n",
    "    Warn,\n",
    "    Excep,\n",
    "    common,\n",
    ")\n",
    "from pathlib import Path\n",
    "import hashlib, shutil\n",
    "import glob\n",
    "import dill, time"
   ]
  },
  {
   "cell_type": "code",
   "execution_count": 3,
   "metadata": {},
   "outputs": [
    {
     "data": {
      "application/javascript": "\n            setTimeout(function() {\n                var nbb_cell_id = 3;\n                var nbb_unformatted_code = \"#| export\\n#| hide\\ndef input_to_str(func):\\n    @wraps(func)\\n    def inner(input, *args, **kwargs):\\n        if isinstance(input, P):\\n            input = str(input)\\n        if isinstance(input, list):\\n            input = [str(i) for i in input]\\n        out = func(input, *args, **kwargs)\\n        return out\\n\\n    return inner\\n\\n\\ndef output_to_path(func):\\n    @wraps(func)\\n    def inner(input, *args, **kwargs):\\n        out = func(input, *args, **kwargs)\\n        if isinstance(out, str):\\n            out = P(out)\\n        if isinstance(out, list):\\n            if len(out) > 0 and isinstance(out[0], str):\\n                out = [P(o) for o in out]\\n        return out\\n\\n    return inner\";\n                var nbb_formatted_code = \"# | export\\n# | hide\\ndef input_to_str(func):\\n    @wraps(func)\\n    def inner(input, *args, **kwargs):\\n        if isinstance(input, P):\\n            input = str(input)\\n        if isinstance(input, list):\\n            input = [str(i) for i in input]\\n        out = func(input, *args, **kwargs)\\n        return out\\n\\n    return inner\\n\\n\\ndef output_to_path(func):\\n    @wraps(func)\\n    def inner(input, *args, **kwargs):\\n        out = func(input, *args, **kwargs)\\n        if isinstance(out, str):\\n            out = P(out)\\n        if isinstance(out, list):\\n            if len(out) > 0 and isinstance(out[0], str):\\n                out = [P(o) for o in out]\\n        return out\\n\\n    return inner\";\n                var nbb_cells = Jupyter.notebook.get_cells();\n                for (var i = 0; i < nbb_cells.length; ++i) {\n                    if (nbb_cells[i].input_prompt_number == nbb_cell_id) {\n                        if (nbb_cells[i].get_text() == nbb_unformatted_code) {\n                             nbb_cells[i].set_text(nbb_formatted_code);\n                        }\n                        break;\n                    }\n                }\n            }, 500);\n            ",
      "text/plain": [
       "<IPython.core.display.Javascript object>"
      ]
     },
     "metadata": {},
     "output_type": "display_data"
    }
   ],
   "source": [
    "# | export\n",
    "# | hide\n",
    "def input_to_str(func):\n",
    "    @wraps(func)\n",
    "    def inner(input, *args, **kwargs):\n",
    "        if isinstance(input, P):\n",
    "            input = str(input)\n",
    "        if isinstance(input, list):\n",
    "            input = [str(i) for i in input]\n",
    "        out = func(input, *args, **kwargs)\n",
    "        return out\n",
    "\n",
    "    return inner\n",
    "\n",
    "\n",
    "def output_to_path(func):\n",
    "    @wraps(func)\n",
    "    def inner(input, *args, **kwargs):\n",
    "        out = func(input, *args, **kwargs)\n",
    "        if isinstance(out, str):\n",
    "            out = P(out)\n",
    "        if isinstance(out, list):\n",
    "            if len(out) > 0 and isinstance(out[0], str):\n",
    "                out = [P(o) for o in out]\n",
    "        return out\n",
    "\n",
    "    return inner"
   ]
  },
  {
   "cell_type": "code",
   "execution_count": 4,
   "metadata": {
    "tags": []
   },
   "outputs": [
    {
     "data": {
      "application/javascript": "\n            setTimeout(function() {\n                var nbb_cell_id = 4;\n                var nbb_unformatted_code = \"#| export\\n#| hide\\nP = Path\\nP.ls = lambda self: list(self.iterdir())\\nP.__repr__ = lambda self: f\\\"\\u00bb {self}\\\"\\n\\n\\n@patch_to(P)\\ndef rmtree(self, prompt=True, force=False):\\n    if force:\\n        shutil.rmtree(self)\\n    elif prompt and input(f\\\"Really remove `{self}` and its contents? [y/n] \\\").lower() == \\\"y\\\":\\n        shutil.rmtree(self)\\n    else:\\n        raise OSError(f\\\"{self} exists and is not empty\\\")\\n\\n\\n\\n@patch_to(P)\\ndef size(self):\\n    if self.is_dir():\\n        raise Exception(f\\\"`{self}` is a directory\\\")\\n    fsize = os.path.getsize(self) >> 20\\n    fsize = f\\\"{fsize} MB\\\" if fsize > 0 else f\\\"{os.path.getsize(self) >> 10} KB\\\"\\n    return fsize\\n\\n\\n@patch_to(P)\\ndef extn(self, pattern=\\\"*\\\"):\\n    return self.suffix.replace(\\\".\\\", \\\"\\\")\\n\\n\\n@patch_to(P)\\ndef Glob(self, pattern=\\\"*\\\"):\\n    return list(self.glob(pattern))\\n\\n\\n@patch_to(P)\\ndef sample(self, pattern=\\\"*\\\"):\\n    return ts_choose(self.Glob(pattern))\\n\\n\\n@patch_to(P)\\ndef mv(self, to):\\n    os.rename(self, to)\\n    return P(to)\\n\\n\\nimport shutil\\n\\n\\n@patch_to(P)\\ndef cp(self, to):\\n    return P(shutil.copy(self, to))\\n\\n\\n@patch_to(P)\\ndef rm(self, confirm_prompt=False, silent=True, missing_ok=True):\\n    confirm = (\\n        input(f\\\"Are you sure you want to delete `{self}`? [y/N]\\\")\\n        if confirm_prompt\\n        else \\\"y\\\"\\n    )\\n    if confirm.lower() == \\\"y\\\":\\n        if missing_ok:\\n            try:\\n                os.remove(self)\\n            except:\\n                ...\\n        else:\\n            os.remove(self)\\n        if not silent:\\n            logger.info(f\\\"Deleted {self}\\\")\\n    else:\\n        if not silent:\\n            logger.info(f\\\"Aborting delete: {self}\\\")\";\n                var nbb_formatted_code = \"# | export\\n# | hide\\nP = Path\\nP.ls = lambda self: list(self.iterdir())\\nP.__repr__ = lambda self: f\\\"\\u00bb {self}\\\"\\n\\n\\n@patch_to(P)\\ndef rmtree(self, prompt=True, force=False):\\n    if force:\\n        shutil.rmtree(self)\\n    elif (\\n        prompt\\n        and input(f\\\"Really remove `{self}` and its contents? [y/n] \\\").lower() == \\\"y\\\"\\n    ):\\n        shutil.rmtree(self)\\n    else:\\n        raise OSError(f\\\"{self} exists and is not empty\\\")\\n\\n\\n@patch_to(P)\\ndef size(self):\\n    if self.is_dir():\\n        raise Exception(f\\\"`{self}` is a directory\\\")\\n    fsize = os.path.getsize(self) >> 20\\n    fsize = f\\\"{fsize} MB\\\" if fsize > 0 else f\\\"{os.path.getsize(self) >> 10} KB\\\"\\n    return fsize\\n\\n\\n@patch_to(P)\\ndef extn(self, pattern=\\\"*\\\"):\\n    return self.suffix.replace(\\\".\\\", \\\"\\\")\\n\\n\\n@patch_to(P)\\ndef Glob(self, pattern=\\\"*\\\"):\\n    return list(self.glob(pattern))\\n\\n\\n@patch_to(P)\\ndef sample(self, pattern=\\\"*\\\"):\\n    return ts_choose(self.Glob(pattern))\\n\\n\\n@patch_to(P)\\ndef mv(self, to):\\n    os.rename(self, to)\\n    return P(to)\\n\\n\\nimport shutil\\n\\n\\n@patch_to(P)\\ndef cp(self, to):\\n    return P(shutil.copy(self, to))\\n\\n\\n@patch_to(P)\\ndef rm(self, confirm_prompt=False, silent=True, missing_ok=True):\\n    confirm = (\\n        input(f\\\"Are you sure you want to delete `{self}`? [y/N]\\\")\\n        if confirm_prompt\\n        else \\\"y\\\"\\n    )\\n    if confirm.lower() == \\\"y\\\":\\n        if missing_ok:\\n            try:\\n                os.remove(self)\\n            except:\\n                ...\\n        else:\\n            os.remove(self)\\n        if not silent:\\n            logger.info(f\\\"Deleted {self}\\\")\\n    else:\\n        if not silent:\\n            logger.info(f\\\"Aborting delete: {self}\\\")\";\n                var nbb_cells = Jupyter.notebook.get_cells();\n                for (var i = 0; i < nbb_cells.length; ++i) {\n                    if (nbb_cells[i].input_prompt_number == nbb_cell_id) {\n                        if (nbb_cells[i].get_text() == nbb_unformatted_code) {\n                             nbb_cells[i].set_text(nbb_formatted_code);\n                        }\n                        break;\n                    }\n                }\n            }, 500);\n            ",
      "text/plain": [
       "<IPython.core.display.Javascript object>"
      ]
     },
     "metadata": {},
     "output_type": "display_data"
    }
   ],
   "source": [
    "# | export\n",
    "# | hide\n",
    "P = Path\n",
    "P.ls = lambda self: L(self.iterdir())\n",
    "P.__repr__ = lambda self: f\"» {self}\"\n",
    "\n",
    "\n",
    "@patch_to(P)\n",
    "def rmtree(self, prompt=\"Really remove `{self}` and its contents? [y/n] \", force=False):\n",
    "    if force:\n",
    "        shutil.rmtree(self)\n",
    "    elif prompt and input(prompt.format(self=self)).lower() == \"y\":\n",
    "        shutil.rmtree(self)\n",
    "    else:\n",
    "        raise OSError(f\"{self} exists and is not empty\")\n",
    "\n",
    "\n",
    "@patch_to(P)\n",
    "def size(self):\n",
    "    if self.is_dir():\n",
    "        raise Exception(f\"`{self}` is a directory\")\n",
    "    fsize = os.path.getsize(self) >> 20\n",
    "    fsize = f\"{fsize} MB\" if fsize > 0 else f\"{os.path.getsize(self) >> 10} KB\"\n",
    "    return fsize\n",
    "\n",
    "\n",
    "@patch_to(P)\n",
    "def extn(self, pattern=\"*\"):\n",
    "    return self.suffix.replace(\".\", \"\")\n",
    "\n",
    "\n",
    "@patch_to(P)\n",
    "def Glob(self, pattern=\"*\"):\n",
    "    return L(self.glob(pattern))\n",
    "\n",
    "\n",
    "@patch_to(P)\n",
    "def sample(self, pattern=\"*\"):\n",
    "    return ts_choose(self.Glob(pattern))\n",
    "\n",
    "\n",
    "@patch_to(P)\n",
    "def mv(self, to):\n",
    "    os.rename(self, to)\n",
    "    return P(to)\n",
    "\n",
    "\n",
    "import shutil\n",
    "\n",
    "\n",
    "@patch_to(P)\n",
    "def cp(self, to):\n",
    "    return P(shutil.copy(self, to))\n",
    "\n",
    "\n",
    "@patch_to(P)\n",
    "def rm(\n",
    "    self,\n",
    "    confirm_prompt=\"Are you sure you want to delete `{self}`? [y/N]\",\n",
    "    silent=True,\n",
    "    missing_ok=True,\n",
    "):\n",
    "    confirm = input(confirm_prompt.format(self=self)) if confirm_prompt else \"y\"\n",
    "    if confirm.lower() == \"y\":\n",
    "        if missing_ok:\n",
    "            try:\n",
    "                os.remove(self)\n",
    "            except:\n",
    "                ...\n",
    "        else:\n",
    "            os.remove(self)\n",
    "        if not silent:\n",
    "            logger.info(f\"Deleted {self}\")\n",
    "    else:\n",
    "        if not silent:\n",
    "            logger.info(f\"Aborting delete: {self}\")"
   ]
  },
  {
   "cell_type": "markdown",
   "metadata": {},
   "source": [
    "Most basic class is the `pathlib.Path` class that is abbreviated to `P`"
   ]
  },
  {
   "cell_type": "code",
   "execution_count": 5,
   "metadata": {},
   "outputs": [
    {
     "data": {
      "text/html": [
       "<pre style=\"white-space:pre;overflow-x:auto;line-height:normal;font-family:Menlo,'DejaVu Sans Mono',consolas,'Courier New',monospace\"><span style=\"color: #7fbfbf; text-decoration-color: #7fbfbf\">[10/14/22 18:03:02] </span><span style=\"color: #bfbf7f; text-decoration-color: #bfbf7f\">INFO    </span> <span style=\"color: #008080; text-decoration-color: #008080; font-weight: bold\">0</span> KB                                                    <a href=\"file:///var/folders/cp/1fbgq2n922j8ztdsq6551vldkr5sdy/T/ipykernel_94033/1417366103.py\" target=\"_blank\"><span style=\"color: #7f7f7f; text-decoration-color: #7f7f7f\">1417366103.py</span></a><span style=\"color: #7f7f7f; text-decoration-color: #7f7f7f\">:&lt;cell line: 3&gt;:3</span>\n",
       "</pre>\n"
      ],
      "text/plain": [
       "\u001b[2;36m[10/14/22 18:03:02]\u001b[0m\u001b[2;36m \u001b[0m\u001b[2;33mINFO    \u001b[0m \u001b[1;36m0\u001b[0m KB                                                    \u001b]8;id=780983;file:///var/folders/cp/1fbgq2n922j8ztdsq6551vldkr5sdy/T/ipykernel_94033/1417366103.py\u001b\\\u001b[2m1417366103.py\u001b[0m\u001b]8;;\u001b\\\u001b[2m:\u001b[0m\u001b[2m<cell line: 3>:3\u001b[0m\n"
      ]
     },
     "metadata": {},
     "output_type": "display_data"
    },
    {
     "data": {
      "application/javascript": "\n            setTimeout(function() {\n                var nbb_cell_id = 5;\n                var nbb_unformatted_code = \"p = P(\\\"test.txt\\\")\\np.touch()\\nlogger.info(p.size())\";\n                var nbb_formatted_code = \"p = P(\\\"test.txt\\\")\\np.touch()\\nlogger.info(p.size())\";\n                var nbb_cells = Jupyter.notebook.get_cells();\n                for (var i = 0; i < nbb_cells.length; ++i) {\n                    if (nbb_cells[i].input_prompt_number == nbb_cell_id) {\n                        if (nbb_cells[i].get_text() == nbb_unformatted_code) {\n                             nbb_cells[i].set_text(nbb_formatted_code);\n                        }\n                        break;\n                    }\n                }\n            }, 500);\n            ",
      "text/plain": [
       "<IPython.core.display.Javascript object>"
      ]
     },
     "metadata": {},
     "output_type": "display_data"
    }
   ],
   "source": [
    "p = P(\"test.txt\")\n",
    "p.touch()\n",
    "logger.info(p.size())"
   ]
  },
  {
   "cell_type": "markdown",
   "metadata": {},
   "source": [
    "Path objects can be moved and copied"
   ]
  },
  {
   "cell_type": "code",
   "execution_count": 6,
   "metadata": {
    "tags": []
   },
   "outputs": [
    {
     "data": {
      "application/javascript": "\n            setTimeout(function() {\n                var nbb_cell_id = 6;\n                var nbb_unformatted_code = \"p = p.mv(\\\"test1.txt\\\")\\nq = p.cp(\\\"test2.txt\\\")\";\n                var nbb_formatted_code = \"p = p.mv(\\\"test1.txt\\\")\\nq = p.cp(\\\"test2.txt\\\")\";\n                var nbb_cells = Jupyter.notebook.get_cells();\n                for (var i = 0; i < nbb_cells.length; ++i) {\n                    if (nbb_cells[i].input_prompt_number == nbb_cell_id) {\n                        if (nbb_cells[i].get_text() == nbb_unformatted_code) {\n                             nbb_cells[i].set_text(nbb_formatted_code);\n                        }\n                        break;\n                    }\n                }\n            }, 500);\n            ",
      "text/plain": [
       "<IPython.core.display.Javascript object>"
      ]
     },
     "metadata": {},
     "output_type": "display_data"
    }
   ],
   "source": [
    "p = p.mv(\"test1.txt\")\n",
    "q = p.cp(\"test2.txt\")"
   ]
  },
  {
   "cell_type": "markdown",
   "metadata": {},
   "source": [
    "Folder items can be listed"
   ]
  },
  {
   "cell_type": "code",
   "execution_count": 7,
   "metadata": {},
   "outputs": [
    {
     "data": {
      "text/plain": [
       "[» _quarto.yml,\n",
       " » test1.txt,\n",
       " » markups.ipynb,\n",
       " » sidebar.yml,\n",
       " » test2.txt,\n",
       " » load_defautls.ipynb,\n",
       " » sklegos.ipynb,\n",
       " » bounding_boxes.ipynb,\n",
       " » show.ipynb,\n",
       " » pdf.ipynb,\n",
       " » charts.ipynb,\n",
       " » paths.ipynb,\n",
       " » nbdev.yml,\n",
       " » jupyter_notebook.ipynb,\n",
       " » misc.ipynb,\n",
       " » registry.ipynb,\n",
       " » adapters.ipynb,\n",
       " » report.ipynb,\n",
       " » .ipynb_checkpoints,\n",
       " » capsule.ipynb,\n",
       " » logging.ipynb,\n",
       " » inspector.ipynb,\n",
       " » bokeh_plotting.ipynb,\n",
       " » index.ipynb,\n",
       " » imgaug_loader.ipynb]"
      ]
     },
     "execution_count": 7,
     "metadata": {},
     "output_type": "execute_result"
    },
    {
     "data": {
      "application/javascript": "\n            setTimeout(function() {\n                var nbb_cell_id = 7;\n                var nbb_unformatted_code = \"P().ls()\";\n                var nbb_formatted_code = \"P().ls()\";\n                var nbb_cells = Jupyter.notebook.get_cells();\n                for (var i = 0; i < nbb_cells.length; ++i) {\n                    if (nbb_cells[i].input_prompt_number == nbb_cell_id) {\n                        if (nbb_cells[i].get_text() == nbb_unformatted_code) {\n                             nbb_cells[i].set_text(nbb_formatted_code);\n                        }\n                        break;\n                    }\n                }\n            }, 500);\n            ",
      "text/plain": [
       "<IPython.core.display.Javascript object>"
      ]
     },
     "metadata": {},
     "output_type": "display_data"
    }
   ],
   "source": [
    "P().ls()"
   ]
  },
  {
   "cell_type": "markdown",
   "metadata": {},
   "source": [
    "Path objects have a `size`, `extn` (extension) and `parent` attributes"
   ]
  },
  {
   "cell_type": "code",
   "execution_count": 8,
   "metadata": {},
   "outputs": [
    {
     "data": {
      "application/javascript": "\n            setTimeout(function() {\n                var nbb_cell_id = 8;\n                var nbb_unformatted_code = \"assert isinstance(q, P)\\nassert q.size() == \\\"0 KB\\\"\\nassert str(p) == \\\"test1.txt\\\"\\nassert p.extn() == \\\"txt\\\"\\nassert p.parent == P()\";\n                var nbb_formatted_code = \"assert isinstance(q, P)\\nassert q.size() == \\\"0 KB\\\"\\nassert str(p) == \\\"test1.txt\\\"\\nassert p.extn() == \\\"txt\\\"\\nassert p.parent == P()\";\n                var nbb_cells = Jupyter.notebook.get_cells();\n                for (var i = 0; i < nbb_cells.length; ++i) {\n                    if (nbb_cells[i].input_prompt_number == nbb_cell_id) {\n                        if (nbb_cells[i].get_text() == nbb_unformatted_code) {\n                             nbb_cells[i].set_text(nbb_formatted_code);\n                        }\n                        break;\n                    }\n                }\n            }, 500);\n            ",
      "text/plain": [
       "<IPython.core.display.Javascript object>"
      ]
     },
     "metadata": {},
     "output_type": "display_data"
    }
   ],
   "source": [
    "assert isinstance(q, P)\n",
    "assert q.size() == \"0 KB\"\n",
    "assert str(p) == \"test1.txt\"\n",
    "assert p.extn() == \"txt\"\n",
    "assert p.parent == P()"
   ]
  },
  {
   "cell_type": "markdown",
   "metadata": {},
   "source": [
    "They can be deleted with/without a prompt"
   ]
  },
  {
   "cell_type": "code",
   "execution_count": 9,
   "metadata": {},
   "outputs": [
    {
     "data": {
      "application/javascript": "\n            setTimeout(function() {\n                var nbb_cell_id = 9;\n                var nbb_unformatted_code = \"p.rm(confirm_prompt=False)\\nq.rm(confirm_prompt=False)\";\n                var nbb_formatted_code = \"p.rm(confirm_prompt=False)\\nq.rm(confirm_prompt=False)\";\n                var nbb_cells = Jupyter.notebook.get_cells();\n                for (var i = 0; i < nbb_cells.length; ++i) {\n                    if (nbb_cells[i].input_prompt_number == nbb_cell_id) {\n                        if (nbb_cells[i].get_text() == nbb_unformatted_code) {\n                             nbb_cells[i].set_text(nbb_formatted_code);\n                        }\n                        break;\n                    }\n                }\n            }, 500);\n            ",
      "text/plain": [
       "<IPython.core.display.Javascript object>"
      ]
     },
     "metadata": {},
     "output_type": "display_data"
    }
   ],
   "source": [
    "p.rm(confirm_prompt=False)\n",
    "q.rm(confirm_prompt=False)"
   ]
  },
  {
   "cell_type": "markdown",
   "metadata": {},
   "source": [
    "Folders can be globbed with a default of everything"
   ]
  },
  {
   "cell_type": "code",
   "execution_count": 10,
   "metadata": {},
   "outputs": [
    {
     "data": {
      "text/plain": [
       "[» ../torch_snippets/misc.py,\n",
       " » ../torch_snippets/load_defaults.py,\n",
       " » ../torch_snippets/text_utils.py,\n",
       " » ../torch_snippets/_nbdev.py,\n",
       " » ../torch_snippets/paths.py,\n",
       " » ../torch_snippets/charts.py,\n",
       " » ../torch_snippets/pdf_loader.py,\n",
       " » ../torch_snippets/registry.py,\n",
       " » ../torch_snippets/_modidx.py,\n",
       " » ../torch_snippets/inspector.py,\n",
       " » ../torch_snippets/__init__.py,\n",
       " » ../torch_snippets/torch_loader.py,\n",
       " » ../torch_snippets/logger.py,\n",
       " » ../torch_snippets/markup.py,\n",
       " » ../torch_snippets/fastcores.py,\n",
       " » ../torch_snippets/sklegos.py,\n",
       " » ../torch_snippets/ipython.py,\n",
       " » ../torch_snippets/loader.py,\n",
       " » ../torch_snippets/imgaug_loader.py,\n",
       " » ../torch_snippets/bokeh_loader.py,\n",
       " » ../torch_snippets/bb_utils.py,\n",
       " » ../torch_snippets/adapters.py]"
      ]
     },
     "execution_count": 10,
     "metadata": {},
     "output_type": "execute_result"
    },
    {
     "data": {
      "application/javascript": "\n            setTimeout(function() {\n                var nbb_cell_id = 10;\n                var nbb_unformatted_code = \"p = P(\\\"../torch_snippets\\\")\\nassert P().ls() == P().Glob()\\np.Glob('*.py')\";\n                var nbb_formatted_code = \"p = P(\\\"../torch_snippets\\\")\\nassert P().ls() == P().Glob()\\np.Glob(\\\"*.py\\\")\";\n                var nbb_cells = Jupyter.notebook.get_cells();\n                for (var i = 0; i < nbb_cells.length; ++i) {\n                    if (nbb_cells[i].input_prompt_number == nbb_cell_id) {\n                        if (nbb_cells[i].get_text() == nbb_unformatted_code) {\n                             nbb_cells[i].set_text(nbb_formatted_code);\n                        }\n                        break;\n                    }\n                }\n            }, 500);\n            ",
      "text/plain": [
       "<IPython.core.display.Javascript object>"
      ]
     },
     "metadata": {},
     "output_type": "display_data"
    }
   ],
   "source": [
    "p = P(\"../torch_snippets\")\n",
    "assert P().ls() == P().Glob()\n",
    "p.Glob(\"*.py\")"
   ]
  },
  {
   "cell_type": "markdown",
   "metadata": {},
   "source": [
    "You can sample a random file from the directory"
   ]
  },
  {
   "cell_type": "code",
   "execution_count": 11,
   "metadata": {},
   "outputs": [
    {
     "data": {
      "text/html": [
       "<pre style=\"white-space:pre;overflow-x:auto;line-height:normal;font-family:Menlo,'DejaVu Sans Mono',consolas,'Courier New',monospace\"><span style=\"color: #7fbfbf; text-decoration-color: #7fbfbf\">[10/14/22 18:03:12] </span><span style=\"color: #bfbf7f; text-decoration-color: #bfbf7f\">INFO    </span> Sample file: `..<span style=\"color: #800080; text-decoration-color: #800080\">/torch_snippets/</span><span style=\"color: #ff00ff; text-decoration-color: #ff00ff\">registry.py</span>`            <a href=\"file:///var/folders/cp/1fbgq2n922j8ztdsq6551vldkr5sdy/T/ipykernel_94033/1725593160.py\" target=\"_blank\"><span style=\"color: #7f7f7f; text-decoration-color: #7f7f7f\">1725593160.py</span></a><span style=\"color: #7f7f7f; text-decoration-color: #7f7f7f\">:&lt;cell line: 2&gt;:2</span>\n",
       "</pre>\n"
      ],
      "text/plain": [
       "\u001b[2;36m[10/14/22 18:03:12]\u001b[0m\u001b[2;36m \u001b[0m\u001b[2;33mINFO    \u001b[0m Sample file: `..\u001b[35m/torch_snippets/\u001b[0m\u001b[95mregistry.py\u001b[0m`            \u001b]8;id=395146;file:///var/folders/cp/1fbgq2n922j8ztdsq6551vldkr5sdy/T/ipykernel_94033/1725593160.py\u001b\\\u001b[2m1725593160.py\u001b[0m\u001b]8;;\u001b\\\u001b[2m:\u001b[0m\u001b[2m<cell line: 2>:2\u001b[0m\n"
      ]
     },
     "metadata": {},
     "output_type": "display_data"
    },
    {
     "data": {
      "text/html": [
       "<pre style=\"white-space:pre;overflow-x:auto;line-height:normal;font-family:Menlo,'DejaVu Sans Mono',consolas,'Courier New',monospace\"><span style=\"color: #7fbfbf; text-decoration-color: #7fbfbf\">                    </span><span style=\"color: #bfbf7f; text-decoration-color: #bfbf7f\">INFO    </span> Sample file size: `<span style=\"color: #008080; text-decoration-color: #008080; font-weight: bold\">0</span> KB`                                <a href=\"file:///var/folders/cp/1fbgq2n922j8ztdsq6551vldkr5sdy/T/ipykernel_94033/1725593160.py\" target=\"_blank\"><span style=\"color: #7f7f7f; text-decoration-color: #7f7f7f\">1725593160.py</span></a><span style=\"color: #7f7f7f; text-decoration-color: #7f7f7f\">:&lt;cell line: 3&gt;:3</span>\n",
       "</pre>\n"
      ],
      "text/plain": [
       "\u001b[2;36m                   \u001b[0m\u001b[2;36m \u001b[0m\u001b[2;33mINFO    \u001b[0m Sample file size: `\u001b[1;36m0\u001b[0m KB`                                \u001b]8;id=384391;file:///var/folders/cp/1fbgq2n922j8ztdsq6551vldkr5sdy/T/ipykernel_94033/1725593160.py\u001b\\\u001b[2m1725593160.py\u001b[0m\u001b]8;;\u001b\\\u001b[2m:\u001b[0m\u001b[2m<cell line: 3>:3\u001b[0m\n"
      ]
     },
     "metadata": {},
     "output_type": "display_data"
    },
    {
     "data": {
      "application/javascript": "\n            setTimeout(function() {\n                var nbb_cell_id = 11;\n                var nbb_unformatted_code = \"q = p.sample(\\\"*.py\\\")\\nInfo(f\\\"Sample file: `{q}`\\\")\\nInfo(f\\\"Sample file size: `{q.size()}`\\\")\";\n                var nbb_formatted_code = \"q = p.sample(\\\"*.py\\\")\\nInfo(f\\\"Sample file: `{q}`\\\")\\nInfo(f\\\"Sample file size: `{q.size()}`\\\")\";\n                var nbb_cells = Jupyter.notebook.get_cells();\n                for (var i = 0; i < nbb_cells.length; ++i) {\n                    if (nbb_cells[i].input_prompt_number == nbb_cell_id) {\n                        if (nbb_cells[i].get_text() == nbb_unformatted_code) {\n                             nbb_cells[i].set_text(nbb_formatted_code);\n                        }\n                        break;\n                    }\n                }\n            }, 500);\n            ",
      "text/plain": [
       "<IPython.core.display.Javascript object>"
      ]
     },
     "metadata": {},
     "output_type": "display_data"
    }
   ],
   "source": [
    "q = p.sample(\"*.py\")\n",
    "Info(f\"Sample file: `{q}`\")\n",
    "Info(f\"Sample file size: `{q.size()}`\")"
   ]
  },
  {
   "cell_type": "code",
   "execution_count": 12,
   "metadata": {},
   "outputs": [
    {
     "data": {
      "text/html": [
       "<pre style=\"white-space:pre;overflow-x:auto;line-height:normal;font-family:Menlo,'DejaVu Sans Mono',consolas,'Courier New',monospace\"><span style=\"color: #7fbfbf; text-decoration-color: #7fbfbf\">                    </span><span style=\"color: #bf7f7f; text-decoration-color: #bf7f7f\">WARNING </span> `..<span style=\"color: #800080; text-decoration-color: #800080\">/</span><span style=\"color: #ff00ff; text-decoration-color: #ff00ff\">torch_snippets</span>` is a directory                      <a href=\"file:///var/folders/cp/1fbgq2n922j8ztdsq6551vldkr5sdy/T/ipykernel_94033/1980994904.py\" target=\"_blank\"><span style=\"color: #7f7f7f; text-decoration-color: #7f7f7f\">1980994904.py</span></a><span style=\"color: #7f7f7f; text-decoration-color: #7f7f7f\">:&lt;cell line: 1&gt;:4</span>\n",
       "</pre>\n"
      ],
      "text/plain": [
       "\u001b[2;36m                   \u001b[0m\u001b[2;36m \u001b[0m\u001b[2;31mWARNING \u001b[0m `..\u001b[35m/\u001b[0m\u001b[95mtorch_snippets\u001b[0m` is a directory                      \u001b]8;id=431907;file:///var/folders/cp/1fbgq2n922j8ztdsq6551vldkr5sdy/T/ipykernel_94033/1980994904.py\u001b\\\u001b[2m1980994904.py\u001b[0m\u001b]8;;\u001b\\\u001b[2m:\u001b[0m\u001b[2m<cell line: 1>:4\u001b[0m\n"
      ]
     },
     "metadata": {},
     "output_type": "display_data"
    },
    {
     "data": {
      "application/javascript": "\n            setTimeout(function() {\n                var nbb_cell_id = 12;\n                var nbb_unformatted_code = \"try:\\n    p.size()\\nexcept Exception as e:\\n    logger.warning(e)\";\n                var nbb_formatted_code = \"try:\\n    p.size()\\nexcept Exception as e:\\n    logger.warning(e)\";\n                var nbb_cells = Jupyter.notebook.get_cells();\n                for (var i = 0; i < nbb_cells.length; ++i) {\n                    if (nbb_cells[i].input_prompt_number == nbb_cell_id) {\n                        if (nbb_cells[i].get_text() == nbb_unformatted_code) {\n                             nbb_cells[i].set_text(nbb_formatted_code);\n                        }\n                        break;\n                    }\n                }\n            }, 500);\n            ",
      "text/plain": [
       "<IPython.core.display.Javascript object>"
      ]
     },
     "metadata": {},
     "output_type": "display_data"
    }
   ],
   "source": [
    "try:\n",
    "    p.size()\n",
    "except Exception as e:\n",
    "    logger.warning(e)"
   ]
  },
  {
   "cell_type": "code",
   "execution_count": 13,
   "metadata": {
    "tags": []
   },
   "outputs": [
    {
     "data": {
      "application/javascript": "\n            setTimeout(function() {\n                var nbb_cell_id = 13;\n                var nbb_unformatted_code = \"#| export\\n#| hide\\ndef isdir(fpath):\\n    return os.path.isdir(fpath)\\n\\n\\n@input_to_str\\ndef makedir(x, prompt=False, silent=True):\\n    create = input(f'Creating folder {x}. Are you sure? [y/n]') if prompt else 'y'\\n    if create:\\n        os.makedirs(x, exist_ok=True)\\n    if not silent:\\n        Info(f'Created folder {x}')\\n\\n\\n@input_to_str\\ndef fname(fpath):\\n    return fpath.split(\\\"/\\\")[-1]\\n\\n\\n@input_to_str\\ndef fname2(fpath):\\n    return stem(fpath.split(\\\"/\\\")[-1])\\n\\n\\ndef stem(fpath):\\n    return P(fpath).stem\\n\\n\\n@input_to_str\\ndef stems(folder, silent=False):\\n    if isinstance(folder, (str, P)):\\n        return [stem(str(x)) for x in Glob(folder, silent=silent)]\\n    if isinstance(folder, list):\\n        return [stem(x) for x in folder]\\n\\nP.stems = lambda self: stems(self.ls())\\n\\n@input_to_str\\n@output_to_path\\ndef parent(fpath):\\n    out = \\\"/\\\".join(fpath.split(\\\"/\\\")[:-1])\\n    if out == \\\"\\\":\\n        return \\\"./\\\"\\n    else:\\n        return out\\n\\n\\ndef extn(x):\\n    return P(x).extn()\\n\\n\\n@input_to_str\\n@output_to_path\\ndef Glob(x, extns=None, silent=False):\\n    files = glob.glob(x + \\\"/*\\\") if \\\"*\\\" not in x else glob.glob(x)\\n    if extns:\\n        if isinstance(extns, str):\\n            extns = extns.split(\\\",\\\")\\n        files = [f for f in files if any([f.endswith(ext) for ext in extns])]\\n\\n    # if not silent: logger.opt(depth=1).log('INFO', '{} files found at {}'.format(len(files), x))\\n    return files\\n\\n\\ndef find(\\n    item=None, List=None, match_stem=False, condition=None, return_indexes_also=False\\n):\\n    \\\"\\\"\\\"Find an `item` in a `List`\\n    >>> find('abc', ['ijk','asdfs','dfsabcdsf','lmnop'])\\n    'dgsabcdsf'\\n    >>> find('file1', ['/tmp/file0.jpg', '/tmp/file0.png', '/tmp/file1.jpg', '/tmp/file1.png', '/tmp/file2.jpg', '/tmp/file2.png'])\\n    ['/tmp/file1.jpg', '/tmp/file1.png']\\n    \\\"\\\"\\\"\\n    if callable(condition):\\n        filtered = [(ix, i) for ix, i in enumerate(List) if condition(i)]\\n\\n    else:\\n        filtered = [(ix, i) for ix, i in enumerate(List) if item in str(i)]\\n\\n    if match_stem and len(filtered) > 1:\\n        filtered = [(ix, f) for ix, f in filtered if stem(f) == item]\\n\\n    if len(filtered) == 1:\\n        if return_indexes_also:\\n            return filtered[0]\\n        else:\\n            return filtered[0][1]\\n    elif len(filtered) == 0:\\n        return None\\n    else:\\n        ixs, filtered_items = list(zip(*filtered))\\n        if return_indexes_also:\\n            return ixs, filtered_items\\n        else:\\n            return filtered_items\";\n                var nbb_formatted_code = \"# | export\\n# | hide\\ndef isdir(fpath):\\n    return os.path.isdir(fpath)\\n\\n\\n@input_to_str\\ndef makedir(x, prompt=False, silent=True):\\n    create = input(f\\\"Creating folder {x}. Are you sure? [y/n]\\\") if prompt else \\\"y\\\"\\n    if create:\\n        os.makedirs(x, exist_ok=True)\\n    if not silent:\\n        Info(f\\\"Created folder {x}\\\")\\n\\n\\n@input_to_str\\ndef fname(fpath):\\n    return fpath.split(\\\"/\\\")[-1]\\n\\n\\n@input_to_str\\ndef fname2(fpath):\\n    return stem(fpath.split(\\\"/\\\")[-1])\\n\\n\\ndef stem(fpath):\\n    return P(fpath).stem\\n\\n\\n@input_to_str\\ndef stems(folder, silent=False):\\n    if isinstance(folder, (str, P)):\\n        return [stem(str(x)) for x in Glob(folder, silent=silent)]\\n    if isinstance(folder, list):\\n        return [stem(x) for x in folder]\\n\\n\\nP.stems = lambda self: stems(self.ls())\\n\\n\\n@input_to_str\\n@output_to_path\\ndef parent(fpath):\\n    out = \\\"/\\\".join(fpath.split(\\\"/\\\")[:-1])\\n    if out == \\\"\\\":\\n        return \\\"./\\\"\\n    else:\\n        return out\\n\\n\\ndef extn(x):\\n    return P(x).extn()\\n\\n\\n@input_to_str\\n@output_to_path\\ndef Glob(x, extns=None, silent=False):\\n    files = glob.glob(x + \\\"/*\\\") if \\\"*\\\" not in x else glob.glob(x)\\n    if extns:\\n        if isinstance(extns, str):\\n            extns = extns.split(\\\",\\\")\\n        files = [f for f in files if any([f.endswith(ext) for ext in extns])]\\n\\n    # if not silent: logger.opt(depth=1).log('INFO', '{} files found at {}'.format(len(files), x))\\n    return files\\n\\n\\ndef find(\\n    item=None, List=None, match_stem=False, condition=None, return_indexes_also=False\\n):\\n    \\\"\\\"\\\"Find an `item` in a `List`\\n    >>> find('abc', ['ijk','asdfs','dfsabcdsf','lmnop'])\\n    'dgsabcdsf'\\n    >>> find('file1', ['/tmp/file0.jpg', '/tmp/file0.png', '/tmp/file1.jpg', '/tmp/file1.png', '/tmp/file2.jpg', '/tmp/file2.png'])\\n    ['/tmp/file1.jpg', '/tmp/file1.png']\\n    \\\"\\\"\\\"\\n    if callable(condition):\\n        filtered = [(ix, i) for ix, i in enumerate(List) if condition(i)]\\n\\n    else:\\n        filtered = [(ix, i) for ix, i in enumerate(List) if item in str(i)]\\n\\n    if match_stem and len(filtered) > 1:\\n        filtered = [(ix, f) for ix, f in filtered if stem(f) == item]\\n\\n    if len(filtered) == 1:\\n        if return_indexes_also:\\n            return filtered[0]\\n        else:\\n            return filtered[0][1]\\n    elif len(filtered) == 0:\\n        return None\\n    else:\\n        ixs, filtered_items = list(zip(*filtered))\\n        if return_indexes_also:\\n            return ixs, filtered_items\\n        else:\\n            return filtered_items\";\n                var nbb_cells = Jupyter.notebook.get_cells();\n                for (var i = 0; i < nbb_cells.length; ++i) {\n                    if (nbb_cells[i].input_prompt_number == nbb_cell_id) {\n                        if (nbb_cells[i].get_text() == nbb_unformatted_code) {\n                             nbb_cells[i].set_text(nbb_formatted_code);\n                        }\n                        break;\n                    }\n                }\n            }, 500);\n            ",
      "text/plain": [
       "<IPython.core.display.Javascript object>"
      ]
     },
     "metadata": {},
     "output_type": "display_data"
    }
   ],
   "source": [
    "# | export\n",
    "# | hide\n",
    "def isdir(fpath):\n",
    "    return os.path.isdir(fpath)\n",
    "\n",
    "\n",
    "@input_to_str\n",
    "def makedir(x, prompt=False, silent=True):\n",
    "    create = input(f\"Creating folder {x}. Are you sure? [y/n]\") if prompt else \"y\"\n",
    "    if create:\n",
    "        os.makedirs(x, exist_ok=True)\n",
    "    if not silent:\n",
    "        Info(f\"Created folder {x}\")\n",
    "\n",
    "\n",
    "@input_to_str\n",
    "def fname(fpath):\n",
    "    return fpath.split(\"/\")[-1]\n",
    "\n",
    "\n",
    "@input_to_str\n",
    "def fname2(fpath):\n",
    "    return stem(fpath.split(\"/\")[-1])\n",
    "\n",
    "\n",
    "def stem(fpath):\n",
    "    return P(fpath).stem\n",
    "\n",
    "\n",
    "@input_to_str\n",
    "def stems(folder, silent=False):\n",
    "    if isinstance(folder, (str, P)):\n",
    "        return [stem(str(x)) for x in Glob(folder, silent=silent)]\n",
    "    if isinstance(folder, list):\n",
    "        return [stem(x) for x in folder]\n",
    "\n",
    "\n",
    "P.stems = lambda self: stems(self.ls())\n",
    "\n",
    "\n",
    "@input_to_str\n",
    "@output_to_path\n",
    "def parent(fpath):\n",
    "    out = \"/\".join(fpath.split(\"/\")[:-1])\n",
    "    if out == \"\":\n",
    "        return \"./\"\n",
    "    else:\n",
    "        return out\n",
    "\n",
    "\n",
    "def extn(x):\n",
    "    return P(x).extn()\n",
    "\n",
    "\n",
    "@input_to_str\n",
    "@output_to_path\n",
    "def Glob(x, extns=None, silent=False):\n",
    "    files = glob.glob(x + \"/*\") if \"*\" not in x else glob.glob(x)\n",
    "    if extns:\n",
    "        if isinstance(extns, str):\n",
    "            extns = extns.split(\",\")\n",
    "        files = [f for f in files if any([f.endswith(ext) for ext in extns])]\n",
    "\n",
    "    # if not silent: logger.opt(depth=1).log('INFO', '{} files found at {}'.format(len(files), x))\n",
    "    return files\n",
    "\n",
    "\n",
    "def find(\n",
    "    item=None, List=None, match_stem=False, condition=None, return_indexes_also=False\n",
    "):\n",
    "    \"\"\"Find an `item` in a `List`\n",
    "    >>> find('abc', ['ijk','asdfs','dfsabcdsf','lmnop'])\n",
    "    'dgsabcdsf'\n",
    "    >>> find('file1', ['/tmp/file0.jpg', '/tmp/file0.png', '/tmp/file1.jpg', '/tmp/file1.png', '/tmp/file2.jpg', '/tmp/file2.png'])\n",
    "    ['/tmp/file1.jpg', '/tmp/file1.png']\n",
    "    \"\"\"\n",
    "    if callable(condition):\n",
    "        filtered = [(ix, i) for ix, i in enumerate(List) if condition(i)]\n",
    "\n",
    "    else:\n",
    "        filtered = [(ix, i) for ix, i in enumerate(List) if item in str(i)]\n",
    "\n",
    "    if match_stem and len(filtered) > 1:\n",
    "        filtered = [(ix, f) for ix, f in filtered if stem(f) == item]\n",
    "\n",
    "    if len(filtered) == 1:\n",
    "        if return_indexes_also:\n",
    "            return filtered[0]\n",
    "        else:\n",
    "            return filtered[0][1]\n",
    "    elif len(filtered) == 0:\n",
    "        return None\n",
    "    else:\n",
    "        ixs, filtered_items = list(zip(*filtered))\n",
    "        if return_indexes_also:\n",
    "            return ixs, filtered_items\n",
    "        else:\n",
    "            return filtered_items"
   ]
  },
  {
   "cell_type": "code",
   "execution_count": 14,
   "metadata": {
    "tags": []
   },
   "outputs": [
    {
     "name": "stdout",
     "output_type": "stream",
     "text": [
      "capsule.ipynb\n"
     ]
    },
    {
     "data": {
      "application/javascript": "\n            setTimeout(function() {\n                var nbb_cell_id = 14;\n                var nbb_unformatted_code = \"p = P(\\\"test.txt\\\")\\np.touch()\\nassert isdir(p) == False\\nassert fname(p) == \\\"test.txt\\\"\\nassert parent(p) == P()\\nassert stem(p) == \\\"test\\\"\\nassert extn(p) == \\\"txt\\\"\\n\\nprint(find(\\\"capsule\\\", Glob(\\\"./\\\")))\\n\\np.rm(confirm_prompt=False)\";\n                var nbb_formatted_code = \"p = P(\\\"test.txt\\\")\\np.touch()\\nassert isdir(p) == False\\nassert fname(p) == \\\"test.txt\\\"\\nassert parent(p) == P()\\nassert stem(p) == \\\"test\\\"\\nassert extn(p) == \\\"txt\\\"\\n\\nprint(find(\\\"capsule\\\", Glob(\\\"./\\\")))\\n\\np.rm(confirm_prompt=False)\";\n                var nbb_cells = Jupyter.notebook.get_cells();\n                for (var i = 0; i < nbb_cells.length; ++i) {\n                    if (nbb_cells[i].input_prompt_number == nbb_cell_id) {\n                        if (nbb_cells[i].get_text() == nbb_unformatted_code) {\n                             nbb_cells[i].set_text(nbb_formatted_code);\n                        }\n                        break;\n                    }\n                }\n            }, 500);\n            ",
      "text/plain": [
       "<IPython.core.display.Javascript object>"
      ]
     },
     "metadata": {},
     "output_type": "display_data"
    }
   ],
   "source": [
    "p = P(\"test.txt\")\n",
    "p.touch()\n",
    "assert isdir(p) == False\n",
    "assert fname(p) == \"test.txt\"\n",
    "assert parent(p) == P()\n",
    "assert stem(p) == \"test\"\n",
    "assert extn(p) == \"txt\"\n",
    "\n",
    "print(find(\"capsule\", Glob(\"./\")))\n",
    "\n",
    "p.rm(confirm_prompt=False)"
   ]
  },
  {
   "cell_type": "code",
   "execution_count": 15,
   "metadata": {
    "tags": []
   },
   "outputs": [
    {
     "data": {
      "application/javascript": "\n            setTimeout(function() {\n                var nbb_cell_id = 15;\n                var nbb_unformatted_code = \"#| export\\nimport zipfile\\nimport tarfile\\n\\ndef zip_files(list_of_files, dest):\\n    dest = str(dest)\\n    logger.info(f\\\"Zipping {len(list_of_files)} files to {dest}...\\\")\\n    if dest.lower().endswith(\\\".zip\\\"):\\n        with zipfile.ZipFile(dest, \\\"w\\\") as zipMe:\\n            for file in Tqdm(list_of_files):\\n                zipMe.write(file, compress_type=zipfile.ZIP_DEFLATED)\\n    elif dest.lower().endswith(\\\".tar.gz\\\"):\\n        with tarfile.open(dest, \\\"w:gz\\\") as tarMe:\\n            for file in Tqdm(list_of_files):\\n                tarMe.add(file)\\n    return P(dest)\\n\\n\\ndef unzip_file(file, dest):\\n    file = str(file)\\n    if file.lower().endswith(\\\".zip\\\"):\\n        with zipfile.ZipFile(file, \\\"r\\\") as zip_ref:\\n            zip_ref.extractall(dest)\\n    elif file.lower().endswith(\\\".tar.xz\\\") or file.endswith(\\\".tar.gz\\\"):\\n        with tarfile.open(file, \\\"r\\\") as f:\\n            f.extractall(dest)\\n    return P(dest)\";\n                var nbb_formatted_code = \"# | export\\nimport zipfile\\nimport tarfile\\n\\n\\ndef zip_files(list_of_files, dest):\\n    dest = str(dest)\\n    logger.info(f\\\"Zipping {len(list_of_files)} files to {dest}...\\\")\\n    if dest.lower().endswith(\\\".zip\\\"):\\n        with zipfile.ZipFile(dest, \\\"w\\\") as zipMe:\\n            for file in Tqdm(list_of_files):\\n                zipMe.write(file, compress_type=zipfile.ZIP_DEFLATED)\\n    elif dest.lower().endswith(\\\".tar.gz\\\"):\\n        with tarfile.open(dest, \\\"w:gz\\\") as tarMe:\\n            for file in Tqdm(list_of_files):\\n                tarMe.add(file)\\n    return P(dest)\\n\\n\\ndef unzip_file(file, dest):\\n    file = str(file)\\n    if file.lower().endswith(\\\".zip\\\"):\\n        with zipfile.ZipFile(file, \\\"r\\\") as zip_ref:\\n            zip_ref.extractall(dest)\\n    elif file.lower().endswith(\\\".tar.xz\\\") or file.endswith(\\\".tar.gz\\\"):\\n        with tarfile.open(file, \\\"r\\\") as f:\\n            f.extractall(dest)\\n    return P(dest)\";\n                var nbb_cells = Jupyter.notebook.get_cells();\n                for (var i = 0; i < nbb_cells.length; ++i) {\n                    if (nbb_cells[i].input_prompt_number == nbb_cell_id) {\n                        if (nbb_cells[i].get_text() == nbb_unformatted_code) {\n                             nbb_cells[i].set_text(nbb_formatted_code);\n                        }\n                        break;\n                    }\n                }\n            }, 500);\n            ",
      "text/plain": [
       "<IPython.core.display.Javascript object>"
      ]
     },
     "metadata": {},
     "output_type": "display_data"
    }
   ],
   "source": [
    "# | export\n",
    "import zipfile\n",
    "import tarfile\n",
    "\n",
    "\n",
    "def zip_files(list_of_files, dest):\n",
    "    dest = str(dest)\n",
    "    logger.info(f\"Zipping {len(list_of_files)} files to {dest}...\")\n",
    "    if dest.lower().endswith(\".zip\"):\n",
    "        with zipfile.ZipFile(dest, \"w\") as zipMe:\n",
    "            for file in Tqdm(list_of_files):\n",
    "                zipMe.write(file, compress_type=zipfile.ZIP_DEFLATED)\n",
    "    elif dest.lower().endswith(\".tar.gz\"):\n",
    "        with tarfile.open(dest, \"w:gz\") as tarMe:\n",
    "            for file in Tqdm(list_of_files):\n",
    "                tarMe.add(file)\n",
    "    return P(dest)\n",
    "\n",
    "\n",
    "def unzip_file(file, dest):\n",
    "    file = str(file)\n",
    "    if file.lower().endswith(\".zip\"):\n",
    "        with zipfile.ZipFile(file, \"r\") as zip_ref:\n",
    "            zip_ref.extractall(dest)\n",
    "    elif file.lower().endswith(\".tar.xz\") or file.endswith(\".tar.gz\"):\n",
    "        with tarfile.open(file, \"r\") as f:\n",
    "            f.extractall(dest)\n",
    "    return P(dest)\n",
    "\n",
    "\n",
    "def list_zip(file):\n",
    "    elements = []\n",
    "    with zipfile.ZipFile(file, \"r\") as zipObj:\n",
    "        listOfiles = zipObj.namelist()\n",
    "        for elem in listOfiles:\n",
    "            elements.append(elem)\n",
    "    return elements"
   ]
  },
  {
   "cell_type": "code",
   "execution_count": 16,
   "metadata": {},
   "outputs": [
    {
     "data": {
      "text/html": [
       "<pre style=\"white-space:pre;overflow-x:auto;line-height:normal;font-family:Menlo,'DejaVu Sans Mono',consolas,'Courier New',monospace\"><span style=\"color: #7fbfbf; text-decoration-color: #7fbfbf\">[10/14/22 18:03:16] </span><span style=\"color: #bfbf7f; text-decoration-color: #bfbf7f\">INFO    </span> Zipping <span style=\"color: #008080; text-decoration-color: #008080; font-weight: bold\">2</span> files to test.tar.gz<span style=\"color: #808000; text-decoration-color: #808000\">...</span>                             <a href=\"file:///var/folders/cp/1fbgq2n922j8ztdsq6551vldkr5sdy/T/ipykernel_94033/112186647.py\" target=\"_blank\"><span style=\"color: #7f7f7f; text-decoration-color: #7f7f7f\">112186647.py</span></a><span style=\"color: #7f7f7f; text-decoration-color: #7f7f7f\">:</span><a href=\"file:///var/folders/cp/1fbgq2n922j8ztdsq6551vldkr5sdy/T/ipykernel_94033/112186647.py#zip_files:7\" target=\"_blank\"><span style=\"color: #7f7f7f; text-decoration-color: #7f7f7f\">zip_files:7</span></a>\n",
       "</pre>\n"
      ],
      "text/plain": [
       "\u001b[2;36m[10/14/22 18:03:16]\u001b[0m\u001b[2;36m \u001b[0m\u001b[2;33mINFO    \u001b[0m Zipping \u001b[1;36m2\u001b[0m files to test.tar.gz\u001b[33m...\u001b[0m                             \u001b]8;id=578124;file:///var/folders/cp/1fbgq2n922j8ztdsq6551vldkr5sdy/T/ipykernel_94033/112186647.py\u001b\\\u001b[2m112186647.py\u001b[0m\u001b]8;;\u001b\\\u001b[2m:\u001b[0m\u001b]8;id=423885;file:///var/folders/cp/1fbgq2n922j8ztdsq6551vldkr5sdy/T/ipykernel_94033/112186647.py#zip_files:7\u001b\\\u001b[2mzip_files:7\u001b[0m\u001b]8;;\u001b\\\n"
      ]
     },
     "metadata": {},
     "output_type": "display_data"
    },
    {
     "name": "stderr",
     "output_type": "stream",
     "text": [
      "100%|██████████| 2/2 [00:00<00:00, 192.90it/s]\n"
     ]
    },
    {
     "data": {
      "text/html": [
       "<pre style=\"white-space:pre;overflow-x:auto;line-height:normal;font-family:Menlo,'DejaVu Sans Mono',consolas,'Courier New',monospace\"><span style=\"color: #7fbfbf; text-decoration-color: #7fbfbf\">[10/14/22 18:03:17] </span><span style=\"color: #bfbf7f; text-decoration-color: #bfbf7f\">INFO    </span> Zipping <span style=\"color: #008080; text-decoration-color: #008080; font-weight: bold\">2</span> files to test.zip<span style=\"color: #808000; text-decoration-color: #808000\">...</span>                                <a href=\"file:///var/folders/cp/1fbgq2n922j8ztdsq6551vldkr5sdy/T/ipykernel_94033/112186647.py\" target=\"_blank\"><span style=\"color: #7f7f7f; text-decoration-color: #7f7f7f\">112186647.py</span></a><span style=\"color: #7f7f7f; text-decoration-color: #7f7f7f\">:</span><a href=\"file:///var/folders/cp/1fbgq2n922j8ztdsq6551vldkr5sdy/T/ipykernel_94033/112186647.py#zip_files:7\" target=\"_blank\"><span style=\"color: #7f7f7f; text-decoration-color: #7f7f7f\">zip_files:7</span></a>\n",
       "</pre>\n"
      ],
      "text/plain": [
       "\u001b[2;36m[10/14/22 18:03:17]\u001b[0m\u001b[2;36m \u001b[0m\u001b[2;33mINFO    \u001b[0m Zipping \u001b[1;36m2\u001b[0m files to test.zip\u001b[33m...\u001b[0m                                \u001b]8;id=783942;file:///var/folders/cp/1fbgq2n922j8ztdsq6551vldkr5sdy/T/ipykernel_94033/112186647.py\u001b\\\u001b[2m112186647.py\u001b[0m\u001b]8;;\u001b\\\u001b[2m:\u001b[0m\u001b]8;id=832900;file:///var/folders/cp/1fbgq2n922j8ztdsq6551vldkr5sdy/T/ipykernel_94033/112186647.py#zip_files:7\u001b\\\u001b[2mzip_files:7\u001b[0m\u001b]8;;\u001b\\\n"
      ]
     },
     "metadata": {},
     "output_type": "display_data"
    },
    {
     "name": "stderr",
     "output_type": "stream",
     "text": [
      "100%|██████████| 2/2 [00:00<00:00, 745.99it/s]\n"
     ]
    },
    {
     "data": {
      "application/javascript": "\n            setTimeout(function() {\n                var nbb_cell_id = 16;\n                var nbb_unformatted_code = \"!touch test1.txt test2.txt\\nf = zip_files(P().Glob(\\\"*.txt\\\"), \\\"test.tar.gz\\\")\\nunzip_file(f, \\\"./\\\")\\n[f.rm() for f in P().Glob(\\\"*.txt\\\")]\\nP(\\\"test.tar.gz\\\").rm()\\n\\n!touch test1.txt test2.txt\\nf = zip_files(P().Glob(\\\"*.txt\\\"), \\\"test.zip\\\")\\nunzip_file(f, \\\"./\\\")\\n[f.rm() for f in P().Glob(\\\"*.txt\\\")]\\nP(\\\"test.zip\\\").rm()\";\n                var nbb_formatted_code = \"!touch test1.txt test2.txt\\nf = zip_files(P().Glob(\\\"*.txt\\\"), \\\"test.tar.gz\\\")\\nunzip_file(f, \\\"./\\\")\\n[f.rm() for f in P().Glob(\\\"*.txt\\\")]\\nP(\\\"test.tar.gz\\\").rm()\\n\\n!touch test1.txt test2.txt\\nf = zip_files(P().Glob(\\\"*.txt\\\"), \\\"test.zip\\\")\\nunzip_file(f, \\\"./\\\")\\n[f.rm() for f in P().Glob(\\\"*.txt\\\")]\\nP(\\\"test.zip\\\").rm()\";\n                var nbb_cells = Jupyter.notebook.get_cells();\n                for (var i = 0; i < nbb_cells.length; ++i) {\n                    if (nbb_cells[i].input_prompt_number == nbb_cell_id) {\n                        if (nbb_cells[i].get_text() == nbb_unformatted_code) {\n                             nbb_cells[i].set_text(nbb_formatted_code);\n                        }\n                        break;\n                    }\n                }\n            }, 500);\n            ",
      "text/plain": [
       "<IPython.core.display.Javascript object>"
      ]
     },
     "metadata": {},
     "output_type": "display_data"
    }
   ],
   "source": [
    "!touch test1.txt test2.txt\n",
    "f = zip_files(P().Glob(\"*.txt\"), \"test.tar.gz\")\n",
    "unzip_file(f, \"./\")\n",
    "[f.rm() for f in P().Glob(\"*.txt\")]\n",
    "P(\"test.tar.gz\").rm()\n",
    "\n",
    "!touch test1.txt test2.txt\n",
    "f = zip_files(P().Glob(\"*.txt\"), \"test.zip\")\n",
    "unzip_file(f, \"./\")\n",
    "[f.rm() for f in P().Glob(\"*.txt\")]\n",
    "P(\"test.zip\").rm()"
   ]
  },
  {
   "cell_type": "code",
   "execution_count": 17,
   "metadata": {
    "execution": {
     "iopub.execute_input": "2021-08-06T11:24:27.743860Z",
     "iopub.status.busy": "2021-08-06T11:24:27.743235Z",
     "iopub.status.idle": "2021-08-06T11:24:27.755210Z",
     "shell.execute_reply": "2021-08-06T11:24:27.753235Z",
     "shell.execute_reply.started": "2021-08-06T11:24:27.743797Z"
    }
   },
   "outputs": [
    {
     "data": {
      "application/javascript": "\n            setTimeout(function() {\n                var nbb_cell_id = 17;\n                var nbb_unformatted_code = \"#| export\\ndef md5(fname):\\n    hash_md5 = hashlib.md5()\\n    with open(fname, \\\"rb\\\") as f:\\n        for chunk in iter(lambda: f.read(4096), b\\\"\\\"):\\n            hash_md5.update(chunk)\\n    return hash_md5.hexdigest()\\n\\n\\ndef remove_duplicates(files):\\n    \\\"\\\"\\\"Check a list of files and remove duplicates based on their checksum\\\"\\\"\\\"\\n    import pandas as pd\\n    from torch_snippets.loader import diff\\n\\n    hashes = [md5(f) for f in files]\\n    df = pd.DataFrame({\\\"f\\\": files, \\\"h\\\": hashes})\\n    x = df.drop_duplicates(\\\"h\\\")\\n    y = diff(files, x.f)\\n    for i in y:\\n        os.rename(i, \\\"./x\\\")\\n    # !rm ./x\\n    return\";\n                var nbb_formatted_code = \"# | export\\ndef md5(fname):\\n    hash_md5 = hashlib.md5()\\n    with open(fname, \\\"rb\\\") as f:\\n        for chunk in iter(lambda: f.read(4096), b\\\"\\\"):\\n            hash_md5.update(chunk)\\n    return hash_md5.hexdigest()\\n\\n\\ndef remove_duplicates(files):\\n    \\\"\\\"\\\"Check a list of files and remove duplicates based on their checksum\\\"\\\"\\\"\\n    import pandas as pd\\n    from torch_snippets.loader import diff\\n\\n    hashes = [md5(f) for f in files]\\n    df = pd.DataFrame({\\\"f\\\": files, \\\"h\\\": hashes})\\n    x = df.drop_duplicates(\\\"h\\\")\\n    y = diff(files, x.f)\\n    for i in y:\\n        os.rename(i, \\\"./x\\\")\\n    # !rm ./x\\n    return\";\n                var nbb_cells = Jupyter.notebook.get_cells();\n                for (var i = 0; i < nbb_cells.length; ++i) {\n                    if (nbb_cells[i].input_prompt_number == nbb_cell_id) {\n                        if (nbb_cells[i].get_text() == nbb_unformatted_code) {\n                             nbb_cells[i].set_text(nbb_formatted_code);\n                        }\n                        break;\n                    }\n                }\n            }, 500);\n            ",
      "text/plain": [
       "<IPython.core.display.Javascript object>"
      ]
     },
     "metadata": {},
     "output_type": "display_data"
    }
   ],
   "source": [
    "# | export\n",
    "def md5(fname):\n",
    "    hash_md5 = hashlib.md5()\n",
    "    with open(fname, \"rb\") as f:\n",
    "        for chunk in iter(lambda: f.read(4096), b\"\"):\n",
    "            hash_md5.update(chunk)\n",
    "    return hash_md5.hexdigest()\n",
    "\n",
    "\n",
    "def remove_duplicates(files):\n",
    "    \"\"\"Check a list of files and remove duplicates based on their checksum\"\"\"\n",
    "    import pandas as pd\n",
    "    from torch_snippets.loader import diff\n",
    "\n",
    "    hashes = [md5(f) for f in files]\n",
    "    df = pd.DataFrame({\"f\": files, \"h\": hashes})\n",
    "    x = df.drop_duplicates(\"h\")\n",
    "    y = diff(files, x.f)\n",
    "    for i in y:\n",
    "        os.rename(i, \"./x\")\n",
    "    # !rm ./x\n",
    "    return\n",
    "\n",
    "\n",
    "common_items = lambda *fldrs: sorted(common(*[stems(fldr) for fldr in fldrs]))"
   ]
  },
  {
   "cell_type": "code",
   "execution_count": 18,
   "metadata": {
    "execution": {
     "iopub.execute_input": "2021-08-06T11:25:35.234831Z",
     "iopub.status.busy": "2021-08-06T11:25:35.234497Z",
     "iopub.status.idle": "2021-08-06T11:25:35.241253Z",
     "shell.execute_reply": "2021-08-06T11:25:35.240149Z",
     "shell.execute_reply.started": "2021-08-06T11:25:35.234798Z"
    },
    "tags": []
   },
   "outputs": [
    {
     "data": {
      "text/plain": [
       "'e09ac0bed28afa6d7ef602401dd790cc'"
      ]
     },
     "execution_count": 18,
     "metadata": {},
     "output_type": "execute_result"
    },
    {
     "data": {
      "application/javascript": "\n            setTimeout(function() {\n                var nbb_cell_id = 18;\n                var nbb_unformatted_code = \"md5(\\\"paths.ipynb\\\")\";\n                var nbb_formatted_code = \"md5(\\\"paths.ipynb\\\")\";\n                var nbb_cells = Jupyter.notebook.get_cells();\n                for (var i = 0; i < nbb_cells.length; ++i) {\n                    if (nbb_cells[i].input_prompt_number == nbb_cell_id) {\n                        if (nbb_cells[i].get_text() == nbb_unformatted_code) {\n                             nbb_cells[i].set_text(nbb_formatted_code);\n                        }\n                        break;\n                    }\n                }\n            }, 500);\n            ",
      "text/plain": [
       "<IPython.core.display.Javascript object>"
      ]
     },
     "metadata": {},
     "output_type": "display_data"
    }
   ],
   "source": [
    "md5(\"paths.ipynb\")"
   ]
  },
  {
   "cell_type": "code",
   "execution_count": 19,
   "metadata": {
    "execution": {
     "iopub.execute_input": "2021-08-06T11:24:27.760475Z",
     "iopub.status.busy": "2021-08-06T11:24:27.759829Z",
     "iopub.status.idle": "2021-08-06T11:24:27.770724Z",
     "shell.execute_reply": "2021-08-06T11:24:27.769650Z",
     "shell.execute_reply.started": "2021-08-06T11:24:27.760393Z"
    },
    "tags": []
   },
   "outputs": [
    {
     "data": {
      "application/javascript": "\n            setTimeout(function() {\n                var nbb_cell_id = 19;\n                var nbb_unformatted_code = \"#| export\\ndef readlines(fpath, silent=False, encoding=None):\\n    with open(fpath, \\\"r\\\", encoding=encoding) as f:\\n        lines = f.read().split(\\\"\\\\n\\\")\\n        lines = [l.strip() for l in lines if l.strip() != \\\"\\\"]\\n        if not silent:\\n            logger.opt(depth=1).log(\\\"INFO\\\", f\\\"loaded {len(lines)} lines\\\")\\n        return lines\\n\\n\\n@patch_to(P)\\ndef read_lines(self, silent=False, encoding=None):\\n    return readlines(self, silent=silent, encoding=encoding)\\n\\n\\ndef writelines(lines, file):\\n    makedir(parent(file))\\n    failed = []\\n    with open(file, \\\"w\\\") as f:\\n        for line in lines:\\n            try:\\n                f.write(f\\\"{line}\\\\n\\\")\\n            except:\\n                failed.append(line)\\n    if failed != []:\\n        logger.opt(depth=1).log(\\n            \\\"INFO\\\", f\\\"Failed to write {len(failed)} lines out of {len(lines)}\\\"\\n        )\\n        return failed\\n\\n\\n@patch_to(P)\\ndef write_lines(self, lines):\\n    return writelines(lines, self)\";\n                var nbb_formatted_code = \"# | export\\ndef readlines(fpath, silent=False, encoding=None):\\n    with open(fpath, \\\"r\\\", encoding=encoding) as f:\\n        lines = f.read().split(\\\"\\\\n\\\")\\n        lines = [l.strip() for l in lines if l.strip() != \\\"\\\"]\\n        if not silent:\\n            logger.opt(depth=1).log(\\\"INFO\\\", f\\\"loaded {len(lines)} lines\\\")\\n        return lines\\n\\n\\n@patch_to(P)\\ndef read_lines(self, silent=False, encoding=None):\\n    return readlines(self, silent=silent, encoding=encoding)\\n\\n\\ndef writelines(lines, file):\\n    makedir(parent(file))\\n    failed = []\\n    with open(file, \\\"w\\\") as f:\\n        for line in lines:\\n            try:\\n                f.write(f\\\"{line}\\\\n\\\")\\n            except:\\n                failed.append(line)\\n    if failed != []:\\n        logger.opt(depth=1).log(\\n            \\\"INFO\\\", f\\\"Failed to write {len(failed)} lines out of {len(lines)}\\\"\\n        )\\n        return failed\\n\\n\\n@patch_to(P)\\ndef write_lines(self, lines):\\n    return writelines(lines, self)\";\n                var nbb_cells = Jupyter.notebook.get_cells();\n                for (var i = 0; i < nbb_cells.length; ++i) {\n                    if (nbb_cells[i].input_prompt_number == nbb_cell_id) {\n                        if (nbb_cells[i].get_text() == nbb_unformatted_code) {\n                             nbb_cells[i].set_text(nbb_formatted_code);\n                        }\n                        break;\n                    }\n                }\n            }, 500);\n            ",
      "text/plain": [
       "<IPython.core.display.Javascript object>"
      ]
     },
     "metadata": {},
     "output_type": "display_data"
    }
   ],
   "source": [
    "# | export\n",
    "def readlines(fpath, silent=False, encoding=None):\n",
    "    with open(fpath, \"r\", encoding=encoding) as f:\n",
    "        lines = f.read().split(\"\\n\")\n",
    "        lines = [l.strip() for l in lines if l.strip() != \"\"]\n",
    "        if not silent:\n",
    "            logger.opt(depth=1).log(\"INFO\", f\"loaded {len(lines)} lines\")\n",
    "        return lines\n",
    "\n",
    "\n",
    "@patch_to(P)\n",
    "def read_lines(self, silent=False, encoding=None):\n",
    "    return readlines(self, silent=silent, encoding=encoding)\n",
    "\n",
    "\n",
    "def writelines(lines, file, mode=\"w\"):\n",
    "    makedir(parent(file))\n",
    "    failed = []\n",
    "    with open(file, mode) as f:\n",
    "        for line in lines:\n",
    "            try:\n",
    "                f.write(f\"{line}\\n\")\n",
    "            except:\n",
    "                failed.append(line)\n",
    "    if failed != []:\n",
    "        logger.opt(depth=1).log(\n",
    "            \"INFO\", f\"Failed to write {len(failed)} lines out of {len(lines)}\"\n",
    "        )\n",
    "        return failed\n",
    "\n",
    "\n",
    "@patch_to(P)\n",
    "def write_lines(self, lines, mode):\n",
    "    return writelines(lines, self, mode)"
   ]
  },
  {
   "cell_type": "code",
   "execution_count": 20,
   "metadata": {
    "execution": {
     "iopub.execute_input": "2021-08-06T11:24:27.772922Z",
     "iopub.status.busy": "2021-08-06T11:24:27.772181Z",
     "iopub.status.idle": "2021-08-06T11:24:27.792839Z",
     "shell.execute_reply": "2021-08-06T11:24:27.791454Z",
     "shell.execute_reply.started": "2021-08-06T11:24:27.772856Z"
    },
    "tags": []
   },
   "outputs": [
    {
     "data": {
      "text/html": [
       "<pre style=\"white-space:pre;overflow-x:auto;line-height:normal;font-family:Menlo,'DejaVu Sans Mono',consolas,'Courier New',monospace\"><span style=\"color: #7fbfbf; text-decoration-color: #7fbfbf\">[10/14/22 18:03:22] </span><span style=\"color: #bfbf7f; text-decoration-color: #bfbf7f\">INFO    </span> loaded <span style=\"color: #008080; text-decoration-color: #008080; font-weight: bold\">1000</span> lines                                          <a href=\"file:///var/folders/cp/1fbgq2n922j8ztdsq6551vldkr5sdy/T/ipykernel_94033/1600187089.py\" target=\"_blank\"><span style=\"color: #7f7f7f; text-decoration-color: #7f7f7f\">1600187089.py</span></a><span style=\"color: #7f7f7f; text-decoration-color: #7f7f7f\">:</span><a href=\"file:///var/folders/cp/1fbgq2n922j8ztdsq6551vldkr5sdy/T/ipykernel_94033/1600187089.py#read_lines:13\" target=\"_blank\"><span style=\"color: #7f7f7f; text-decoration-color: #7f7f7f\">read_lines:13</span></a>\n",
       "</pre>\n"
      ],
      "text/plain": [
       "\u001b[2;36m[10/14/22 18:03:22]\u001b[0m\u001b[2;36m \u001b[0m\u001b[2;33mINFO    \u001b[0m loaded \u001b[1;36m1000\u001b[0m lines                                          \u001b]8;id=436939;file:///var/folders/cp/1fbgq2n922j8ztdsq6551vldkr5sdy/T/ipykernel_94033/1600187089.py\u001b\\\u001b[2m1600187089.py\u001b[0m\u001b]8;;\u001b\\\u001b[2m:\u001b[0m\u001b]8;id=732082;file:///var/folders/cp/1fbgq2n922j8ztdsq6551vldkr5sdy/T/ipykernel_94033/1600187089.py#read_lines:13\u001b\\\u001b[2mread_lines:13\u001b[0m\u001b]8;;\u001b\\\n"
      ]
     },
     "metadata": {},
     "output_type": "display_data"
    },
    {
     "data": {
      "text/html": [
       "<pre style=\"white-space:pre;overflow-x:auto;line-height:normal;font-family:Menlo,'DejaVu Sans Mono',consolas,'Courier New',monospace\"><span style=\"color: #7fbfbf; text-decoration-color: #7fbfbf\">                    </span><span style=\"color: #bfbf7f; text-decoration-color: #bfbf7f\">INFO    </span> <span style=\"color: #008080; text-decoration-color: #008080; font-weight: bold\">3</span> KB                                                     <a href=\"file:///var/folders/cp/1fbgq2n922j8ztdsq6551vldkr5sdy/T/ipykernel_94033/211133948.py\" target=\"_blank\"><span style=\"color: #7f7f7f; text-decoration-color: #7f7f7f\">211133948.py</span></a><span style=\"color: #7f7f7f; text-decoration-color: #7f7f7f\">:&lt;cell line: 6&gt;:6</span>\n",
       "</pre>\n"
      ],
      "text/plain": [
       "\u001b[2;36m                   \u001b[0m\u001b[2;36m \u001b[0m\u001b[2;33mINFO    \u001b[0m \u001b[1;36m3\u001b[0m KB                                                     \u001b]8;id=621971;file:///var/folders/cp/1fbgq2n922j8ztdsq6551vldkr5sdy/T/ipykernel_94033/211133948.py\u001b\\\u001b[2m211133948.py\u001b[0m\u001b]8;;\u001b\\\u001b[2m:\u001b[0m\u001b[2m<cell line: 6>:6\u001b[0m\n"
      ]
     },
     "metadata": {},
     "output_type": "display_data"
    },
    {
     "data": {
      "application/javascript": "\n            setTimeout(function() {\n                var nbb_cell_id = 20;\n                var nbb_unformatted_code = \"x = P(\\\"tmp.txt\\\")\\nx.touch()\\nx.write_lines([i for i in range(1000)])\\nlines = x.read_lines()\\nassert lines == [f\\\"{i}\\\" for i in range(1000)]\\nlogger.info(x.size())\\n\\nx.rm(confirm_prompt=False)\";\n                var nbb_formatted_code = \"x = P(\\\"tmp.txt\\\")\\nx.touch()\\nx.write_lines([i for i in range(1000)])\\nlines = x.read_lines()\\nassert lines == [f\\\"{i}\\\" for i in range(1000)]\\nlogger.info(x.size())\\n\\nx.rm(confirm_prompt=False)\";\n                var nbb_cells = Jupyter.notebook.get_cells();\n                for (var i = 0; i < nbb_cells.length; ++i) {\n                    if (nbb_cells[i].input_prompt_number == nbb_cell_id) {\n                        if (nbb_cells[i].get_text() == nbb_unformatted_code) {\n                             nbb_cells[i].set_text(nbb_formatted_code);\n                        }\n                        break;\n                    }\n                }\n            }, 500);\n            ",
      "text/plain": [
       "<IPython.core.display.Javascript object>"
      ]
     },
     "metadata": {},
     "output_type": "display_data"
    }
   ],
   "source": [
    "x = P(\"tmp.txt\")\n",
    "x.touch()\n",
    "x.write_lines([i for i in range(1000)])\n",
    "lines = x.read_lines()\n",
    "assert lines == [f\"{i}\" for i in range(1000)]\n",
    "logger.info(x.size())\n",
    "\n",
    "x.rm(confirm_prompt=False)"
   ]
  },
  {
   "cell_type": "code",
   "execution_count": 21,
   "metadata": {
    "execution": {
     "iopub.execute_input": "2021-08-06T11:24:27.796187Z",
     "iopub.status.busy": "2021-08-06T11:24:27.795475Z",
     "iopub.status.idle": "2021-08-06T11:24:27.806822Z",
     "shell.execute_reply": "2021-08-06T11:24:27.805061Z",
     "shell.execute_reply.started": "2021-08-06T11:24:27.796125Z"
    }
   },
   "outputs": [
    {
     "data": {
      "application/javascript": "\n            setTimeout(function() {\n                var nbb_cell_id = 21;\n                var nbb_unformatted_code = \"#| export\\n#| hide\\ndef rename_batch(folder, func, debug=False, one_file=False):\\n    from torch_snippets.loader import now\\n\\n    \\\"V.V.Imp: Use debug=True first to confirm file name changes are as expected\\\"\\n    if isinstance(folder, (str, P)):\\n        folder = Glob(folder)\\n    sources = []\\n    destins = []\\n    log_file = f\\\"moved_files_{now()}.log\\\"\\n    for f in folder:\\n        source = f\\n        destin = func(f)\\n        if source == destin:\\n            continue\\n        if debug:\\n            logger.debug(f\\\"moving `{source}` --> `{destin}`\\\")\\n        else:\\n            # !mv {source.replace(' ','\\\\ ')} {destin.replace(' ','\\\\ ')}\\n            logger.info(f\\\"moving `{source}` --> `{destin}`\\\")\\n            os.rename(source, destin)\\n        # !echo {source.replace(' ','\\\\ ')} --\\\\> {destin.replace(' ','\\\\ ')} >> {logfile}\\n        if one_file:\\n            break\";\n                var nbb_formatted_code = \"# | export\\n# | hide\\ndef rename_batch(folder, func, debug=False, one_file=False):\\n    from torch_snippets.loader import now\\n\\n    \\\"V.V.Imp: Use debug=True first to confirm file name changes are as expected\\\"\\n    if isinstance(folder, (str, P)):\\n        folder = Glob(folder)\\n    sources = []\\n    destins = []\\n    log_file = f\\\"moved_files_{now()}.log\\\"\\n    for f in folder:\\n        source = f\\n        destin = func(f)\\n        if source == destin:\\n            continue\\n        if debug:\\n            logger.debug(f\\\"moving `{source}` --> `{destin}`\\\")\\n        else:\\n            # !mv {source.replace(' ','\\\\ ')} {destin.replace(' ','\\\\ ')}\\n            logger.info(f\\\"moving `{source}` --> `{destin}`\\\")\\n            os.rename(source, destin)\\n        # !echo {source.replace(' ','\\\\ ')} --\\\\> {destin.replace(' ','\\\\ ')} >> {logfile}\\n        if one_file:\\n            break\";\n                var nbb_cells = Jupyter.notebook.get_cells();\n                for (var i = 0; i < nbb_cells.length; ++i) {\n                    if (nbb_cells[i].input_prompt_number == nbb_cell_id) {\n                        if (nbb_cells[i].get_text() == nbb_unformatted_code) {\n                             nbb_cells[i].set_text(nbb_formatted_code);\n                        }\n                        break;\n                    }\n                }\n            }, 500);\n            ",
      "text/plain": [
       "<IPython.core.display.Javascript object>"
      ]
     },
     "metadata": {},
     "output_type": "display_data"
    }
   ],
   "source": [
    "# | export\n",
    "# | hide\n",
    "def rename_batch(folder, func, debug=False, one_file=False):\n",
    "    from torch_snippets.loader import now\n",
    "\n",
    "    \"V.V.Imp: Use debug=True first to confirm file name changes are as expected\"\n",
    "    if isinstance(folder, (str, P)):\n",
    "        folder = Glob(folder)\n",
    "    sources = []\n",
    "    destins = []\n",
    "    log_file = f\"moved_files_{now()}.log\"\n",
    "    for f in folder:\n",
    "        source = f\n",
    "        destin = func(f)\n",
    "        if source == destin:\n",
    "            continue\n",
    "        if debug:\n",
    "            logger.debug(f\"moving `{source}` --> `{destin}`\")\n",
    "        else:\n",
    "            # !mv {source.replace(' ','\\ ')} {destin.replace(' ','\\ ')}\n",
    "            logger.info(f\"moving `{source}` --> `{destin}`\")\n",
    "            os.rename(source, destin)\n",
    "        # !echo {source.replace(' ','\\ ')} --\\> {destin.replace(' ','\\ ')} >> {logfile}\n",
    "        if one_file:\n",
    "            break"
   ]
  },
  {
   "cell_type": "code",
   "execution_count": 22,
   "metadata": {
    "execution": {
     "iopub.execute_input": "2021-08-06T11:24:27.809913Z",
     "iopub.status.busy": "2021-08-06T11:24:27.809312Z",
     "iopub.status.idle": "2021-08-06T11:24:27.820460Z",
     "shell.execute_reply": "2021-08-06T11:24:27.819022Z",
     "shell.execute_reply.started": "2021-08-06T11:24:27.809872Z"
    },
    "tags": []
   },
   "outputs": [
    {
     "data": {
      "application/javascript": "\n            setTimeout(function() {\n                var nbb_cell_id = 22;\n                var nbb_unformatted_code = \"#| export\\ndill = dill\\n\\n\\ndef dumpdill(obj, fpath, silent=False):\\n    \\\"\\\"\\\"Dump a python object as a dill file (better replacement to pickle)\\\"\\\"\\\"\\n    start = time.time()\\n    fpath = P(fpath)\\n    fpath.parent.mkdir(exist_ok=True)\\n    with open(fpath, \\\"wb\\\") as f:\\n        dill.dump(obj, f)\\n    if not silent:\\n        fsize = fpath.size()\\n        logger.opt(depth=1).log(\\n            \\\"INFO\\\",\\n            f'Dumped object of size \\u2248{fsize} @ \\\"{fpath}\\\" in {time.time()-start:.2e} seconds',\\n        )\\n\\n\\ndef loaddill(fpath):\\n    \\\"\\\"\\\"Load a python object from a dill file\\\"\\\"\\\"\\n    fpath = str(fpath)\\n    with open(fpath, \\\"rb\\\") as f:\\n        obj = dill.load(f)\\n    return obj\";\n                var nbb_formatted_code = \"# | export\\ndill = dill\\n\\n\\ndef dumpdill(obj, fpath, silent=False):\\n    \\\"\\\"\\\"Dump a python object as a dill file (better replacement to pickle)\\\"\\\"\\\"\\n    start = time.time()\\n    fpath = P(fpath)\\n    fpath.parent.mkdir(exist_ok=True)\\n    with open(fpath, \\\"wb\\\") as f:\\n        dill.dump(obj, f)\\n    if not silent:\\n        fsize = fpath.size()\\n        logger.opt(depth=1).log(\\n            \\\"INFO\\\",\\n            f'Dumped object of size \\u2248{fsize} @ \\\"{fpath}\\\" in {time.time()-start:.2e} seconds',\\n        )\\n\\n\\ndef loaddill(fpath):\\n    \\\"\\\"\\\"Load a python object from a dill file\\\"\\\"\\\"\\n    fpath = str(fpath)\\n    with open(fpath, \\\"rb\\\") as f:\\n        obj = dill.load(f)\\n    return obj\";\n                var nbb_cells = Jupyter.notebook.get_cells();\n                for (var i = 0; i < nbb_cells.length; ++i) {\n                    if (nbb_cells[i].input_prompt_number == nbb_cell_id) {\n                        if (nbb_cells[i].get_text() == nbb_unformatted_code) {\n                             nbb_cells[i].set_text(nbb_formatted_code);\n                        }\n                        break;\n                    }\n                }\n            }, 500);\n            ",
      "text/plain": [
       "<IPython.core.display.Javascript object>"
      ]
     },
     "metadata": {},
     "output_type": "display_data"
    }
   ],
   "source": [
    "# | export\n",
    "dill = dill\n",
    "\n",
    "\n",
    "def dumpdill(obj, fpath, silent=False):\n",
    "    \"\"\"Dump a python object as a dill file (better replacement to pickle)\"\"\"\n",
    "    start = time.time()\n",
    "    fpath = P(fpath)\n",
    "    fpath.parent.mkdir(exist_ok=True)\n",
    "    with open(fpath, \"wb\") as f:\n",
    "        dill.dump(obj, f)\n",
    "    if not silent:\n",
    "        fsize = fpath.size()\n",
    "        logger.opt(depth=1).log(\n",
    "            \"INFO\",\n",
    "            f'Dumped object of size ≈{fsize} @ \"{fpath}\" in {time.time()-start:.2e} seconds',\n",
    "        )\n",
    "    return P(fpath)\n",
    "\n",
    "\n",
    "def loaddill(fpath):\n",
    "    \"\"\"Load a python object from a dill file\"\"\"\n",
    "    fpath = str(fpath)\n",
    "    with open(fpath, \"rb\") as f:\n",
    "        obj = dill.load(f)\n",
    "    return obj"
   ]
  },
  {
   "cell_type": "code",
   "execution_count": 23,
   "metadata": {
    "execution": {
     "iopub.execute_input": "2021-08-06T11:24:27.824269Z",
     "iopub.status.busy": "2021-08-06T11:24:27.823710Z",
     "iopub.status.idle": "2021-08-06T11:24:27.837678Z",
     "shell.execute_reply": "2021-08-06T11:24:27.836308Z",
     "shell.execute_reply.started": "2021-08-06T11:24:27.824220Z"
    },
    "tags": []
   },
   "outputs": [
    {
     "data": {
      "text/html": [
       "<pre style=\"white-space:pre;overflow-x:auto;line-height:normal;font-family:Menlo,'DejaVu Sans Mono',consolas,'Courier New',monospace\"><span style=\"color: #7fbfbf; text-decoration-color: #7fbfbf\">[10/14/22 18:03:24] </span><span style=\"color: #bfbf7f; text-decoration-color: #bfbf7f\">INFO    </span> Dumped object of size ≈<span style=\"color: #008080; text-decoration-color: #008080; font-weight: bold\">0</span> KB @ <span style=\"color: #008000; text-decoration-color: #008000\">\"test.tmp\"</span> in <span style=\"color: #008080; text-decoration-color: #008080; font-weight: bold\">6.44e-04</span>     <a href=\"file:///var/folders/cp/1fbgq2n922j8ztdsq6551vldkr5sdy/T/ipykernel_94033/554288780.py\" target=\"_blank\"><span style=\"color: #7f7f7f; text-decoration-color: #7f7f7f\">554288780.py</span></a><span style=\"color: #7f7f7f; text-decoration-color: #7f7f7f\">:&lt;cell line: 2&gt;:2</span>\n",
       "<span style=\"color: #7fbfbf; text-decoration-color: #7fbfbf\">                    </span>         seconds                                                  <span style=\"color: #7f7f7f; text-decoration-color: #7f7f7f\">                             </span>\n",
       "</pre>\n"
      ],
      "text/plain": [
       "\u001b[2;36m[10/14/22 18:03:24]\u001b[0m\u001b[2;36m \u001b[0m\u001b[2;33mINFO    \u001b[0m Dumped object of size ≈\u001b[1;36m0\u001b[0m KB @ \u001b[32m\"test.tmp\"\u001b[0m in \u001b[1;36m6.44e-04\u001b[0m     \u001b]8;id=560253;file:///var/folders/cp/1fbgq2n922j8ztdsq6551vldkr5sdy/T/ipykernel_94033/554288780.py\u001b\\\u001b[2m554288780.py\u001b[0m\u001b]8;;\u001b\\\u001b[2m:\u001b[0m\u001b[2m<cell line: 2>:2\u001b[0m\n",
       "\u001b[2;36m                    \u001b[0m         seconds                                                  \u001b[2m                             \u001b[0m\n"
      ]
     },
     "metadata": {},
     "output_type": "display_data"
    },
    {
     "data": {
      "application/javascript": "\n            setTimeout(function() {\n                var nbb_cell_id = 23;\n                var nbb_unformatted_code = \"p = P(\\\"test.tmp\\\")\\ndumpdill([1, 2, 3], p)\\ny = loaddill(p)\\np.rm(confirm_prompt=False)\\nassert y == [1, 2, 3]\";\n                var nbb_formatted_code = \"p = P(\\\"test.tmp\\\")\\ndumpdill([1, 2, 3], p)\\ny = loaddill(p)\\np.rm(confirm_prompt=False)\\nassert y == [1, 2, 3]\";\n                var nbb_cells = Jupyter.notebook.get_cells();\n                for (var i = 0; i < nbb_cells.length; ++i) {\n                    if (nbb_cells[i].input_prompt_number == nbb_cell_id) {\n                        if (nbb_cells[i].get_text() == nbb_unformatted_code) {\n                             nbb_cells[i].set_text(nbb_formatted_code);\n                        }\n                        break;\n                    }\n                }\n            }, 500);\n            ",
      "text/plain": [
       "<IPython.core.display.Javascript object>"
      ]
     },
     "metadata": {},
     "output_type": "display_data"
    }
   ],
   "source": [
    "p = P(\"test.tmp\")\n",
    "dumpdill([1, 2, 3], p)\n",
    "y = loaddill(p)\n",
    "p.rm(confirm_prompt=False)\n",
    "assert y == [1, 2, 3]"
   ]
  },
  {
   "cell_type": "code",
   "execution_count": null,
   "metadata": {},
   "outputs": [],
   "source": []
  }
 ],
 "metadata": {
  "kernelspec": {
   "display_name": "Python 3.9.9 ('base')",
   "language": "python",
   "name": "python3"
  },
  "language_info": {
   "codemirror_mode": {
    "name": "ipython",
    "version": 3
   },
   "file_extension": ".py",
   "mimetype": "text/x-python",
   "name": "python",
   "nbconvert_exporter": "python",
   "pygments_lexer": "ipython3",
   "version": "3.9.9"
  },
  "vscode": {
   "interpreter": {
    "hash": "0a92af74ccf65e106ae96852a45a9b0a5e11a3c414a16fc8bb2d134868e55bfd"
   }
  }
 },
 "nbformat": 4,
 "nbformat_minor": 4
}
