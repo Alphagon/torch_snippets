{
 "cells": [
  {
   "cell_type": "markdown",
   "metadata": {},
   "source": [
    "# PDF\n",
    "Load and view pages of a pdf"
   ]
  },
  {
   "cell_type": "code",
   "execution_count": 1,
   "metadata": {},
   "outputs": [],
   "source": [
    "# | default_exp pdf_loader"
   ]
  },
  {
   "cell_type": "code",
   "execution_count": 3,
   "metadata": {},
   "outputs": [],
   "source": [
    "# | export\n",
    "# | hide\n",
    "from torch_snippets.loader import np, subplots, show, resize, L, Image\n",
    "from torch_snippets.logger import Info\n",
    "from torch_snippets.paths import stem\n",
    "from fastcore.basics import ifnone\n",
    "from torch_snippets.cli import cli"
   ]
  },
  {
   "cell_type": "code",
   "execution_count": null,
   "metadata": {},
   "outputs": [],
   "source": [
    "# | export\n",
    "\n",
    "\n",
    "class PDF:\n",
    "    \"\"\"Load a PDF file from `path` as a list of images\n",
    "    Use `show` function to see the images\n",
    "    **WIP**\"\"\"\n",
    "\n",
    "    def __init__(self, path, dfs=None, dpi=150):\n",
    "        import fitz\n",
    "\n",
    "        self.path = path\n",
    "        self.dpi = dpi\n",
    "        self.doc = fitz.open(path)\n",
    "        self.ims = L([self.get_image(page_no) for page_no in range(len(self))])\n",
    "        self.dfs = L(dfs) if dfs is not None else L([None] * len(self))\n",
    "\n",
    "    def get_image(self, page_no, dpi=None):\n",
    "        page = self.doc.load_page(page_no)\n",
    "        pix = page.get_pixmap(dpi=ifnone(dpi, self.dpi))\n",
    "        mode = \"RGBA\" if pix.alpha else \"RGB\"\n",
    "        img = Image.frombytes(mode, [pix.width, pix.height], pix.samples)\n",
    "        return img\n",
    "\n",
    "    def __len__(self):\n",
    "        return len(self.doc)\n",
    "\n",
    "    def __getitem__(self, ix):\n",
    "        return self.ims[ix]\n",
    "\n",
    "    def dump_as_images(self, folder, create_new_folder_with_same_name=True):\n",
    "        from pathlib import Path\n",
    "\n",
    "        folder = Path(folder)\n",
    "        folder = (\n",
    "            folder if not create_new_folder_with_same_name else folder / stem(self.path)\n",
    "        )\n",
    "\n",
    "        Path(folder).mkdir(exist_ok=True, parents=True)\n",
    "        _stem = stem(self.path)\n",
    "        for ix, im in enumerate(self.ims):\n",
    "            _to = (\n",
    "                folder / f\"{_stem}--{ix}.jpeg\"\n",
    "                if not create_new_folder_with_same_name\n",
    "                else folder / f\"{ix}.jpeg\"\n",
    "            )\n",
    "            im.save(_to)\n",
    "        Info(f\"Dumped {len(self)} images to {folder.resolve()}\")\n",
    "\n",
    "    def show(self, ix=None, ixs=None, **kwargs):\n",
    "        if ixs is not None:\n",
    "            assert isinstance(ixs, (list, L))\n",
    "            subplots(L(self.ims)[ixs], **kwargs)\n",
    "        if ix is not None:\n",
    "            show(self.ims[ix], **kwargs)\n",
    "            return\n",
    "\n",
    "        if len(self) == 1:\n",
    "            show(self.ims[0], df=self.dfs[0], **kwargs)\n",
    "        else:\n",
    "            subplots(self.ims, dfs=self.dfs, **kwargs)\n",
    "\n",
    "\n",
    "@cli.command()\n",
    "def dump_pdf_images(\n",
    "    path,\n",
    "    folder,\n",
    "    create_new_folder_with_same_name: bool = True,\n",
    "    show_after_dump: bool = False,\n",
    "):\n",
    "    \"\"\"Dump all images from a PDF file to a folder\"\"\"\n",
    "    pdf = PDF(path)\n",
    "    pdf.dump_as_images(\n",
    "        folder, create_new_folder_with_same_name=create_new_folder_with_same_name\n",
    "    )\n",
    "    if show_after_dump:\n",
    "        pdf.show()\n",
    "\n",
    "\n",
    "@cli.command()\n",
    "def preview_pdf(path):\n",
    "    \"\"\"Preview a PDF file\"\"\"\n",
    "    pdf = PDF(path)\n",
    "    pdf.show()"
   ]
  },
  {
   "cell_type": "code",
   "execution_count": null,
   "metadata": {},
   "outputs": [],
   "source": []
  }
 ],
 "metadata": {
  "interpreter": {
   "hash": "0a92af74ccf65e106ae96852a45a9b0a5e11a3c414a16fc8bb2d134868e55bfd"
  },
  "kernelspec": {
   "display_name": "Python 3 (ipykernel)",
   "language": "python",
   "name": "python3"
  },
  "language_info": {
   "codemirror_mode": {
    "name": "ipython",
    "version": 3
   },
   "file_extension": ".py",
   "mimetype": "text/x-python",
   "name": "python",
   "nbconvert_exporter": "python",
   "pygments_lexer": "ipython3",
   "version": "3.10.14"
  }
 },
 "nbformat": 4,
 "nbformat_minor": 4
}
