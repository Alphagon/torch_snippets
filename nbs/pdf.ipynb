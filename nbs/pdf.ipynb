{
 "cells": [
  {
   "cell_type": "raw",
   "metadata": {},
   "source": [
    "# PDF\n",
    "Load and view pages of a pdf\n",
    "**WIP**\n",
    "---\n",
    "{}\n",
    "\n",
    "---\n",
    "\n"
   ]
  },
  {
   "cell_type": "code",
   "execution_count": 1,
   "metadata": {},
   "outputs": [],
   "source": [
    "#| default_exp pdf_loader"
   ]
  },
  {
   "cell_type": "code",
   "execution_count": 3,
   "metadata": {},
   "outputs": [],
   "source": [
    "#| export\n",
    "#| hide\n",
    "from torch_snippets.loader import np, subplots, show, resize, L, Image\n",
    "import fitz"
   ]
  },
  {
   "cell_type": "code",
   "execution_count": null,
   "metadata": {},
   "outputs": [],
   "source": [
    "#| export\n",
    "\n",
    "class PDF:\n",
    "    \"\"\"Load a PDF file from `path` as a list of images\n",
    "    Use `show` function to see the images\n",
    "    **WIP**\"\"\"\n",
    "\n",
    "    def __init__(self, path, dfs=None):\n",
    "        self.path = path\n",
    "        self.doc = fitz.open(path)\n",
    "        self.ims = L([self.get_image(page_no) for page_no in range(len(self))])\n",
    "        self.dfs = L(dfs) if dfs is not None else L([None] * len(self))\n",
    "\n",
    "    def get_image(self, page_no):\n",
    "        page = self.doc.load_page(page_no)\n",
    "        pix = page.get_pixmap(dpi=150)\n",
    "        mode = \"RGBA\" if pix.alpha else \"RGB\"\n",
    "        img = Image.frombytes(mode, [pix.width, pix.height], pix.samples)\n",
    "        return img\n",
    "\n",
    "    def __len__(self):\n",
    "        return len(self.doc)\n",
    "\n",
    "    def __getitem__(self, ix):\n",
    "        return self.ims[ix]\n",
    "\n",
    "    def show(self, ix=None, ixs=None, **kwargs):\n",
    "        if ixs is not None:\n",
    "            assert isinstance(ixs, (list, L))\n",
    "            subplots(L(self.ims)[ixs], **kwargs)\n",
    "        if ix is not None:\n",
    "            show(self.ims[ix], **kwargs)\n",
    "            return\n",
    "\n",
    "        if len(self) == 1:\n",
    "            show(self.ims[0], df=self.dfs[0], **kwargs)\n",
    "        else:\n",
    "            subplots(self.ims, dfs=self.dfs, **kwargs)"
   ]
  },
  {
   "cell_type": "code",
   "execution_count": null,
   "metadata": {},
   "outputs": [],
   "source": []
  }
 ],
 "metadata": {
  "interpreter": {
   "hash": "0a92af74ccf65e106ae96852a45a9b0a5e11a3c414a16fc8bb2d134868e55bfd"
  },
  "kernelspec": {
   "display_name": "Python 3 (ipykernel)",
   "language": "python",
   "name": "python3"
  },
  "language_info": {
   "name": "python",
   "version": "3.9.9"
  }
 },
 "nbformat": 4,
 "nbformat_minor": 2
}
