{
 "cells": [
  {
   "cell_type": "markdown",
   "metadata": {},
   "source": [
    "# Load PDFs\n",
    "Compatible with show and other functions"
   ]
  },
  {
   "cell_type": "code",
   "execution_count": 1,
   "metadata": {},
   "outputs": [],
   "source": [
    "# default_exp pdf_loader"
   ]
  },
  {
   "cell_type": "code",
   "execution_count": 3,
   "metadata": {},
   "outputs": [],
   "source": [
    "# export\n",
    "\n",
    "from torch_snippets.loader import np, subplots, show, resize, L\n",
    "\n",
    "try:\n",
    "    from pdf2image import convert_from_path\n",
    "except:\n",
    "    ...\n",
    "\n",
    "\n",
    "class PDF:\n",
    "    def __init__(self, path, bbss=None):\n",
    "        self.path = path\n",
    "        self.ims = convert_from_path(path)\n",
    "        self.ims = L([resize(np.array(im), 1.5) for im in self.ims])\n",
    "        self.bbss = L(bbss) if bbss is not None else L([None] * len(self))\n",
    "\n",
    "    def __len__(self):\n",
    "        return len(self.ims)\n",
    "\n",
    "    def __getitem__(self, ix):\n",
    "        return self.ims[ix]\n",
    "\n",
    "    def show(self, ix=None, ixs=None, **kwargs):\n",
    "        if ixs is not None:\n",
    "            assert isinstance(ixs, (list, L))\n",
    "            subplots(L(self.ims)[ixs], bbss=self.bbss[ixs], **kwargs)\n",
    "        if ix is not None:\n",
    "            show(self.ims[ix], bbs=self.bbss[ix], **kwargs)\n",
    "            return\n",
    "\n",
    "        if len(self) == 1:\n",
    "            show(self.ims[0], bbs=self.bbss[0], **kwargs)\n",
    "        else:\n",
    "            subplots(self.ims, bbss=self.bbss, **kwargs)"
   ]
  },
  {
   "cell_type": "code",
   "execution_count": null,
   "metadata": {},
   "outputs": [],
   "source": []
  }
 ],
 "metadata": {
  "interpreter": {
   "hash": "0a92af74ccf65e106ae96852a45a9b0a5e11a3c414a16fc8bb2d134868e55bfd"
  },
  "kernelspec": {
   "display_name": "Python 3.9.9 ('base')",
   "language": "python",
   "name": "python3"
  },
  "language_info": {
   "codemirror_mode": {
    "name": "ipython",
    "version": 3
   },
   "file_extension": ".py",
   "mimetype": "text/x-python",
   "name": "python",
   "nbconvert_exporter": "python",
   "pygments_lexer": "ipython3",
   "version": "3.9.9"
  }
 },
 "nbformat": 4,
 "nbformat_minor": 2
}
