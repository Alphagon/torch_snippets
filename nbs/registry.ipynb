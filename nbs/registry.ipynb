{
 "cells": [
  {
   "cell_type": "markdown",
   "id": "5ea10025-b913-4290-9dfe-8397874af735",
   "metadata": {},
   "source": [
    "# Registry"
   ]
  },
  {
   "cell_type": "code",
   "execution_count": 1,
   "id": "0aca0a13-6fee-4239-8b7f-5834d20a5457",
   "metadata": {
    "execution": {
     "iopub.execute_input": "2021-10-09T06:32:09.577636Z",
     "iopub.status.busy": "2021-10-09T06:32:09.577224Z",
     "iopub.status.idle": "2021-10-09T06:32:09.582821Z",
     "shell.execute_reply": "2021-10-09T06:32:09.581426Z",
     "shell.execute_reply.started": "2021-10-09T06:32:09.577534Z"
    },
    "tags": []
   },
   "outputs": [],
   "source": [
    "#default_exp registry"
   ]
  },
  {
   "cell_type": "code",
   "execution_count": 2,
   "id": "75f60fd3-6b20-4f31-88eb-7ed0646a376b",
   "metadata": {
    "execution": {
     "iopub.execute_input": "2021-10-09T06:32:09.585110Z",
     "iopub.status.busy": "2021-10-09T06:32:09.584607Z",
     "iopub.status.idle": "2021-10-09T06:32:12.727742Z",
     "shell.execute_reply": "2021-10-09T06:32:12.727220Z",
     "shell.execute_reply.started": "2021-10-09T06:32:09.585052Z"
    },
    "tags": []
   },
   "outputs": [],
   "source": [
    "#export\n",
    "from torch_snippets.markup import Config, AttrDict\n",
    "from torch_snippets.thinc_parser.parser import registry\n",
    "Config = Config\n",
    "AttrDict = AttrDict\n",
    "registry = registry\n",
    "\n",
    "def parse(file):\n",
    "    return AttrDict(Config().from_disk(file))\n",
    "\n",
    "def parse_and_resolve(file):\n",
    "    return AttrDict(registry.resolve(Config().from_disk(file)))"
   ]
  },
  {
   "cell_type": "code",
   "execution_count": 3,
   "id": "ff48867c-2b2f-4336-b928-bb2c830be685",
   "metadata": {
    "execution": {
     "iopub.execute_input": "2021-10-09T06:32:12.728654Z",
     "iopub.status.busy": "2021-10-09T06:32:12.728483Z",
     "iopub.status.idle": "2021-10-09T06:32:12.733801Z",
     "shell.execute_reply": "2021-10-09T06:32:12.732190Z",
     "shell.execute_reply.started": "2021-10-09T06:32:12.728635Z"
    },
    "tags": []
   },
   "outputs": [],
   "source": [
    "#export\n",
    "def parse(file):\n",
    "    return AttrDict(Config().from_disk(file))\n",
    "\n",
    "def parse_and_resolve(file):\n",
    "    return AttrDict(registry.resolve(Config().from_disk(file)))"
   ]
  },
  {
   "cell_type": "code",
   "execution_count": 4,
   "id": "ecfd5fc8-8a0f-40ce-b840-742e8f185efb",
   "metadata": {
    "execution": {
     "iopub.execute_input": "2021-10-09T06:32:12.736530Z",
     "iopub.status.busy": "2021-10-09T06:32:12.735890Z",
     "iopub.status.idle": "2021-10-09T06:32:12.743419Z",
     "shell.execute_reply": "2021-10-09T06:32:12.742612Z",
     "shell.execute_reply.started": "2021-10-09T06:32:12.736496Z"
    },
    "tags": []
   },
   "outputs": [
    {
     "name": "stdout",
     "output_type": "stream",
     "text": [
      "Writing config.ini\n"
     ]
    }
   ],
   "source": [
    "%%writefile config.ini\n",
    "[project]\n",
    "version = 0.0.1\n",
    "name = mnist\n",
    "root = /home/me/projects/${project.name}\n",
    "\n",
    "[project.data]\n",
    "source = https://files.fast.ai/data/examples/mnist_tiny.tgz\n",
    "root = ${project.root}/data/\n",
    "\n",
    "[test]\n",
    "@test_func = hello"
   ]
  },
  {
   "cell_type": "code",
   "execution_count": 5,
   "id": "87eab438-f6b0-4151-9124-52882ef75e90",
   "metadata": {
    "execution": {
     "iopub.execute_input": "2021-10-09T06:32:12.744785Z",
     "iopub.status.busy": "2021-10-09T06:32:12.744543Z",
     "iopub.status.idle": "2021-10-09T06:32:12.752470Z",
     "shell.execute_reply": "2021-10-09T06:32:12.751347Z",
     "shell.execute_reply.started": "2021-10-09T06:32:12.744760Z"
    },
    "tags": []
   },
   "outputs": [],
   "source": [
    "config = parse('config.ini')\n",
    "assert config.project.version == '0.0.1'"
   ]
  },
  {
   "cell_type": "code",
   "execution_count": 6,
   "id": "820b3394-161c-4d24-bb7d-768c8b9b2cff",
   "metadata": {
    "execution": {
     "iopub.execute_input": "2021-10-09T06:32:12.754843Z",
     "iopub.status.busy": "2021-10-09T06:32:12.754565Z",
     "iopub.status.idle": "2021-10-09T06:32:12.758965Z",
     "shell.execute_reply": "2021-10-09T06:32:12.757856Z",
     "shell.execute_reply.started": "2021-10-09T06:32:12.754818Z"
    },
    "tags": []
   },
   "outputs": [],
   "source": [
    "registry.create('test_func')\n",
    "\n",
    "@registry.test_func.register('hello')\n",
    "def test():\n",
    "    return lambda : 'hello world'"
   ]
  },
  {
   "cell_type": "code",
   "execution_count": 7,
   "id": "3286ba2d-a9db-448f-b378-fa2dd73c2b79",
   "metadata": {
    "execution": {
     "iopub.execute_input": "2021-10-09T06:32:12.760902Z",
     "iopub.status.busy": "2021-10-09T06:32:12.760325Z",
     "iopub.status.idle": "2021-10-09T06:32:12.766701Z",
     "shell.execute_reply": "2021-10-09T06:32:12.765875Z",
     "shell.execute_reply.started": "2021-10-09T06:32:12.760859Z"
    },
    "tags": []
   },
   "outputs": [],
   "source": [
    "config = parse_and_resolve('config.ini')\n",
    "assert config.test() == 'hello world'"
   ]
  },
  {
   "cell_type": "code",
   "execution_count": 8,
   "id": "5f3af6c5-fa51-4462-9715-be18d95e4bf7",
   "metadata": {
    "execution": {
     "iopub.execute_input": "2021-10-09T06:32:12.768302Z",
     "iopub.status.busy": "2021-10-09T06:32:12.767943Z",
     "iopub.status.idle": "2021-10-09T06:32:12.923012Z",
     "shell.execute_reply": "2021-10-09T06:32:12.922004Z",
     "shell.execute_reply.started": "2021-10-09T06:32:12.768270Z"
    }
   },
   "outputs": [],
   "source": [
    "!rm config.ini"
   ]
  },
  {
   "cell_type": "code",
   "execution_count": null,
   "id": "df39acae-bee6-4bc1-adbb-6a52514c34c9",
   "metadata": {},
   "outputs": [],
   "source": []
  }
 ],
 "metadata": {
  "kernelspec": {
   "display_name": "Python 3",
   "language": "python",
   "name": "python3"
  },
  "language_info": {
   "codemirror_mode": {
    "name": "ipython",
    "version": 3
   },
   "file_extension": ".py",
   "mimetype": "text/x-python",
   "name": "python",
   "nbconvert_exporter": "python",
   "pygments_lexer": "ipython3",
   "version": "3.7.4"
  }
 },
 "nbformat": 4,
 "nbformat_minor": 5
}
