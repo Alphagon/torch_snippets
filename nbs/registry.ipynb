{
 "cells": [
  {
   "cell_type": "markdown",
   "id": "5ea10025-b913-4290-9dfe-8397874af735",
   "metadata": {},
   "source": [
    "# Registry"
   ]
  },
  {
   "cell_type": "code",
   "execution_count": 1,
   "id": "0aca0a13-6fee-4239-8b7f-5834d20a5457",
   "metadata": {
    "tags": []
   },
   "outputs": [],
   "source": [
    "#default_exp registry"
   ]
  },
  {
   "cell_type": "code",
   "execution_count": 2,
   "id": "75f60fd3-6b20-4f31-88eb-7ed0646a376b",
   "metadata": {
    "tags": []
   },
   "outputs": [],
   "source": [
    "#export\n",
    "from torch_snippets.markup import Config, AttrDict\n",
    "from torch_snippets.thinc_parser.parser import registry\n",
    "Config = Config\n",
    "AttrDict = AttrDict\n",
    "registry = registry"
   ]
  },
  {
   "cell_type": "code",
   "execution_count": 4,
   "id": "ff48867c-2b2f-4336-b928-bb2c830be685",
   "metadata": {},
   "outputs": [],
   "source": [
    "registry.create('student')\n",
    "registry.create('student')\n",
    "registry.create('student')"
   ]
  },
  {
   "cell_type": "code",
   "execution_count": null,
   "id": "ecfd5fc8-8a0f-40ce-b840-742e8f185efb",
   "metadata": {},
   "outputs": [],
   "source": []
  }
 ],
 "metadata": {
  "kernelspec": {
   "display_name": "Python 3 (ipykernel)",
   "language": "python",
   "name": "python3"
  },
  "language_info": {
   "codemirror_mode": {
    "name": "ipython",
    "version": 3
   },
   "file_extension": ".py",
   "mimetype": "text/x-python",
   "name": "python",
   "nbconvert_exporter": "python",
   "pygments_lexer": "ipython3",
   "version": "3.9.5"
  }
 },
 "nbformat": 4,
 "nbformat_minor": 5
}
