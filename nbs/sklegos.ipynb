{
 "cells": [
  {
   "cell_type": "raw",
   "metadata": {},
   "source": [
    "# SK-Legos\n",
    "Utilities to do common ML tasks\n",
    "---\n",
    "{}\n",
    "\n",
    "---\n",
    "\n"
   ]
  },
  {
   "cell_type": "markdown",
   "metadata": {},
   "source": [
    "You can find\n",
    "1. train_test_split which also resets the dataframes' indexes\n",
    "2. MakeFrame\n",
    "3. ImputeMisingValues\n",
    "4. Cat2Num\n",
    "5. Other scikit-lego blocks that I use a lot"
   ]
  },
  {
   "cell_type": "code",
   "execution_count": 1,
   "metadata": {},
   "outputs": [],
   "source": [
    "# | default_exp sklegos"
   ]
  },
  {
   "cell_type": "code",
   "execution_count": 2,
   "metadata": {},
   "outputs": [],
   "source": [
    "# | export\n",
    "# | hide\n",
    "from torch_snippets import *\n",
    "from collections import defaultdict\n",
    "\n",
    "try:\n",
    "    from sklearn.model_selection import train_test_split as tts\n",
    "except ModuleNotFoundError:\n",
    "    logger.Exception(\"Please `pip install scikit-learn sklego` to use this submodule\")\n",
    "\n",
    "\n",
    "def train_test_split(*args, **kwargs):\n",
    "    outputs = tts(*args, **kwargs)\n",
    "    outputs = [i.reset_index(drop=True) for i in outputs]\n",
    "    return outputs"
   ]
  },
  {
   "cell_type": "code",
   "execution_count": 3,
   "metadata": {},
   "outputs": [],
   "source": [
    "# | export\n",
    "# | hide\n",
    "from sklearn.base import BaseEstimator, TransformerMixin, MetaEstimatorMixin\n",
    "from sklego.preprocessing import ColumnSelector\n",
    "\n",
    "ColumnSelector = ColumnSelector"
   ]
  },
  {
   "cell_type": "code",
   "execution_count": 4,
   "metadata": {},
   "outputs": [],
   "source": [
    "# | export\n",
    "# | hide\n",
    "from fastcore.basics import patch_to\n",
    "from sklego.meta import (\n",
    "    GroupedEstimator,\n",
    "    GroupedPredictor,\n",
    "    GroupedTransformer,\n",
    "    EstimatorTransformer,\n",
    ")\n",
    "\n",
    "GroupedEstimator = GroupedEstimator\n",
    "\n",
    "\n",
    "@patch_to(GroupedEstimator)\n",
    "def transform(self, X, y=None):\n",
    "    return self.predict(X)\n",
    "\n",
    "\n",
    "GroupedPredictor = GroupedPredictor\n",
    "\n",
    "\n",
    "@patch_to(GroupedPredictor)\n",
    "def transform(self, X, y=None):\n",
    "    return self.predict(X)\n",
    "\n",
    "\n",
    "EstimatorTransformer = EstimatorTransformer"
   ]
  },
  {
   "cell_type": "code",
   "execution_count": 5,
   "metadata": {},
   "outputs": [],
   "source": [
    "# | export\n",
    "class MakeFrame(BaseEstimator, TransformerMixin):\n",
    "    \"\"\"Convert sklearn's output to a pandas dataframe\n",
    "    Especially useful when working with an ensemble of models\n",
    "    \"\"\"\n",
    "\n",
    "    def __init__(self, column_names):\n",
    "        self.column_names = column_names\n",
    "\n",
    "    def fit(self, X, y=None):\n",
    "        return X\n",
    "\n",
    "    def transform(self, X, y=None):\n",
    "        return pd.DataFrame(X, columns=self.column_names)"
   ]
  },
  {
   "cell_type": "markdown",
   "metadata": {},
   "source": [
    "Usage\n",
    "\n",
    "Call MakeFrame as the last component in your pipeline with the desired column names.\n",
    "\n",
    "```python\n",
    "pipeline = Pipeline([\n",
    "    ...,\n",
    "    ('output', MakeFrame(['outlier', 'class'])),\n",
    "])\n",
    "```\n",
    "- Refer to [this notebook](https://nbviewer.jupyter.org/gist/sizhky/28d6ab175f3614081c82ca6e86bb867d) for an example"
   ]
  },
  {
   "cell_type": "code",
   "execution_count": 6,
   "metadata": {},
   "outputs": [],
   "source": [
    "# | export\n",
    "class ImputeMissingValues(BaseEstimator, TransformerMixin):\n",
    "    \"\"\"DataFrame input - DataFrame output\n",
    "    During fit -\n",
    "    1. Store imputable value for each column\n",
    "    During transform -\n",
    "    2. Impute missing values with imputable value\n",
    "    3. Create a '{col}_na' boolean column to tell if cells contained missing value\n",
    "    \"\"\"\n",
    "\n",
    "    def __init__(self, num_mode=np.mean, cat_mode=\"MISSING\"):\n",
    "        self.num_mode = num_mode\n",
    "        self.cat_mode = lambda x: cat_mode if isinstance(cat_mode, str) else cat_mode\n",
    "\n",
    "    def fit(self, trn_df, y=None):\n",
    "        assert isinstance(\n",
    "            trn_df, pd.DataFrame\n",
    "        ), \"\"\"\n",
    "        Transform is a df-input df-output transform\n",
    "        \"\"\".strip()\n",
    "        self.columns = trn_df.columns\n",
    "        self.imputable_values = {}\n",
    "        for col in self.columns:\n",
    "            _col = trn_df[col]\n",
    "            a = ~_col.isna()\n",
    "            ixs = a[a].index\n",
    "            _col = _col[ixs]\n",
    "            if _col.dtype != \"object\":\n",
    "                self.imputable_values[col] = self.num_mode(_col.values)\n",
    "            else:\n",
    "                self.imputable_values[col] = self.cat_mode(_col.values)\n",
    "        return trn_df\n",
    "\n",
    "    def transform(self, X, y=None):\n",
    "        X = X.copy()\n",
    "        for col in self.columns:\n",
    "            if col not in X.columns:\n",
    "                continue\n",
    "            ixs = X[col].isna()\n",
    "            jxs = ixs[ixs].index\n",
    "            X.loc[jxs, col] = [self.imputable_values[col]] * len(jxs)\n",
    "            X[f\"{col}_na\"] = ixs\n",
    "        return X\n",
    "\n",
    "    def fit_transform(self, trn_df, y=None):\n",
    "        return self.transform(self.fit(trn_df, y))"
   ]
  },
  {
   "cell_type": "code",
   "execution_count": 7,
   "metadata": {},
   "outputs": [],
   "source": [
    "# | export\n",
    "class LambdaTransformer(BaseEstimator, TransformerMixin):\n",
    "    def __init__(self, fn):\n",
    "        self.fn = fn\n",
    "\n",
    "    def fit(self, X, y=None):\n",
    "        return X\n",
    "\n",
    "    def predict(self, X, y=None):\n",
    "        return self.fn(X)\n",
    "\n",
    "    def predict_proba(self, X, y=None):\n",
    "        return self.fn(X)\n",
    "\n",
    "    def transform(self, X, y=None):\n",
    "        return self.fn(X)\n",
    "\n",
    "    def fit_transform(self, X, y=None):\n",
    "        return self.fit(self.transform(X))"
   ]
  },
  {
   "cell_type": "code",
   "execution_count": 8,
   "metadata": {},
   "outputs": [],
   "source": [
    "# | export\n",
    "class MakeFrame(BaseEstimator, TransformerMixin):\n",
    "    def __init__(self, column_names):\n",
    "        self.column_names = column_names\n",
    "\n",
    "    def fit(self, X, y=None):\n",
    "        return X\n",
    "\n",
    "    def transform(self, X, y=None):\n",
    "        return pd.DataFrame(X, columns=self.column_names)\n",
    "\n",
    "    def predict_proba(self, X, y=None):\n",
    "        return self.transform(X)\n",
    "\n",
    "    def predict(self, X, y=None):\n",
    "        return self.transform(X)"
   ]
  },
  {
   "cell_type": "code",
   "execution_count": 9,
   "metadata": {},
   "outputs": [],
   "source": [
    "# | export\n",
    "class Cat2Num(BaseEstimator, TransformerMixin):\n",
    "    def __init__(self):\n",
    "        ...\n",
    "\n",
    "    def fit(self, df, y=None):\n",
    "        self.cat_cols = df.select_dtypes(\"object\").columns\n",
    "        self.ids = {}\n",
    "        for col in self.cat_cols:\n",
    "            _d = defaultdict(lambda: 0)  # 0 is reserved for the unknown\n",
    "            _d.update({id: ix + 1 for ix, id in enumerate(df[col].unique())})\n",
    "            self.ids[col] = _d\n",
    "        return df\n",
    "\n",
    "    def transform(self, df, y=None):\n",
    "        for col in self.cat_cols:\n",
    "            df.loc[:, col] = df[col].map(lambda x: self.ids[col][x])\n",
    "        return df\n",
    "\n",
    "    def fit_transform(self, trn_df, y=None):\n",
    "        return self.transform(self.fit(trn_df, y))"
   ]
  },
  {
   "cell_type": "code",
   "execution_count": 10,
   "metadata": {},
   "outputs": [],
   "source": [
    "# | export\n",
    "class SplitDateColumn(BaseEstimator, TransformerMixin):\n",
    "    def __init__(self, column_names, has_date, has_time, date_format=None):\n",
    "        self.column_names = (\n",
    "            column_names if isinstance(column_names, list) else [column_names]\n",
    "        )\n",
    "        self.has_date = has_date\n",
    "        self.has_time = has_time\n",
    "\n",
    "    def fit(self, X, y=None):\n",
    "        return X\n",
    "\n",
    "    def transform(self, X, y=None):\n",
    "        dfs = {}\n",
    "        for col in self.column_names:\n",
    "            _col = pd.DatetimeIndex(X[col])\n",
    "            attrs = []\n",
    "            if self.has_date:\n",
    "                attrs = attrs + [\"day\", \"month\", \"year\", \"weekday\", \"weekofyear\"]\n",
    "            if self.has_time:\n",
    "                attrs = attrs + [\"hour\", \"minute\", \"second\"]\n",
    "            dfs.update({f\"{col}_{attr}\": getattr(_col, attr) for attr in attrs})\n",
    "        _df = pd.DataFrame(dfs)\n",
    "        _df.index = X.index\n",
    "        X = pd.concat([X, _df], axis=1)\n",
    "        return pd.DataFrame(X)\n",
    "\n",
    "    def predict_proba(self, X, y=None):\n",
    "        return self.transform(X)\n",
    "\n",
    "    def predict(self, X, y=None):\n",
    "        return self.transform(X)"
   ]
  },
  {
   "cell_type": "code",
   "execution_count": null,
   "metadata": {},
   "outputs": [],
   "source": []
  }
 ],
 "metadata": {
  "kernelspec": {
   "display_name": "Python 3.9.9 ('base')",
   "language": "python",
   "name": "python3"
  },
  "language_info": {
   "codemirror_mode": {
    "name": "ipython",
    "version": 3
   },
   "file_extension": ".py",
   "mimetype": "text/x-python",
   "name": "python",
   "nbconvert_exporter": "python",
   "pygments_lexer": "ipython3",
   "version": "3.9.9"
  },
  "vscode": {
   "interpreter": {
    "hash": "0a92af74ccf65e106ae96852a45a9b0a5e11a3c414a16fc8bb2d134868e55bfd"
   }
  }
 },
 "nbformat": 4,
 "nbformat_minor": 4
}
