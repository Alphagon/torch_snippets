{
 "cells": [
  {
   "cell_type": "code",
   "execution_count": null,
   "metadata": {},
   "outputs": [],
   "source": [
    "# default_exp sklegos"
   ]
  },
  {
   "cell_type": "code",
   "execution_count": null,
   "metadata": {},
   "outputs": [],
   "source": [
    "# export\n",
    "from torch_snippets.loader import  *\n",
    "\n",
    "try:\n",
    "    from sklearn.model_selection import train_test_split\n",
    "except ModuleNotFoundError:\n",
    "    logger.Exception('Please `pip install scikit-learn sklego` to use this submodule')\n",
    "\n",
    "train_test_split = train_test_split"
   ]
  },
  {
   "cell_type": "code",
   "execution_count": null,
   "metadata": {},
   "outputs": [],
   "source": [
    "# export\n",
    "from sklearn.base import BaseEstimator, TransformerMixin, MetaEstimatorMixin\n",
    "from sklego.preprocessing import ColumnSelector\n",
    "ColumnSelector = ColumnSelector"
   ]
  },
  {
   "cell_type": "code",
   "execution_count": null,
   "metadata": {},
   "outputs": [],
   "source": [
    "# export\n",
    "class MakeFrame(BaseEstimator, TransformerMixin):\n",
    "    '''Convert sklearn's output to a pandas dataframe\n",
    "    Especially useful when working with an ensemble of models\n",
    "    '''\n",
    "    def __init__(self, column_names):\n",
    "        self.column_names = column_names\n",
    "\n",
    "    def fit(self, X, y=None):\n",
    "        return X\n",
    "\n",
    "    def transform(self, X, y=None):\n",
    "        return pd.DataFrame(X, columns=self.column_names)\n",
    "    "
   ]
  },
  {
   "cell_type": "markdown",
   "metadata": {},
   "source": [
    "Usage\n",
    "\n",
    "Call MakeFrame as the last component in your pipeline with the desired column names.\n",
    "\n",
    "```python\n",
    "pipeline = Pipeline([\n",
    "    ...,\n",
    "    ('output', MakeFrame(['outlier', 'class'])),\n",
    "])\n",
    "```\n",
    "- Refer to [this notebook](https://nbviewer.jupyter.org/gist/sizhky/28d6ab175f3614081c82ca6e86bb867d) for an example"
   ]
  },
  {
   "cell_type": "code",
   "execution_count": 8,
   "metadata": {
    "collapsed": true,
    "jupyter": {
     "outputs_hidden": true
    }
   },
   "outputs": [
    {
     "data": {
      "text/html": [
       "\n",
       "        <iframe\n",
       "            width=\"1200\"\n",
       "            height=\"1500\"\n",
       "            src=\"https://nbviewer.jupyter.org/gist/sizhky/28d6ab175f3614081c82ca6e86bb867d\"\n",
       "            frameborder=\"0\"\n",
       "            allowfullscreen\n",
       "        ></iframe>\n",
       "        "
      ],
      "text/plain": [
       "<IPython.lib.display.IFrame at 0x7fb7d3d163d0>"
      ]
     },
     "execution_count": 8,
     "metadata": {},
     "output_type": "execute_result"
    }
   ],
   "source": [
    "# hide_input\n",
    "from IPython.display import IFrame\n",
    "IFrame(src='https://nbviewer.jupyter.org/gist/sizhky/28d6ab175f3614081c82ca6e86bb867d', width=1200, height=1500)"
   ]
  },
  {
   "cell_type": "code",
   "execution_count": null,
   "metadata": {},
   "outputs": [],
   "source": [
    "# export\n",
    "class ImputeMissingValues(BaseEstimator, TransformerMixin):\n",
    "    '''DataFrame input - DataFrame output\n",
    "    During fit -\n",
    "    1. Automatically identify columns with missing values\n",
    "    2. Store imputable value for each column\n",
    "    During transform - \n",
    "    3. Impute missing values\n",
    "    4. Create a '{col}_na' boolean column to tell if it contained missing value\n",
    "    '''\n",
    "    def __init__(self, num_mode=np.mean, cat_mode='MISSING'):\n",
    "        self.num_mode = num_mode\n",
    "        self.cat_mode = lambda x: cat_mode if isinstance(cat_mode, str) else cat_mode\n",
    "\n",
    "    def fit(self, trn_df, y=None):\n",
    "        assert isinstance(df, pd.DataFrame), '''\n",
    "        Transform is a df-input df-output transform\n",
    "        '''.strip()\n",
    "        x = trn_df.isna().mean()\n",
    "        x = x[x != 0].index.tolist()\n",
    "        self.missing_value_columns = x\n",
    "        logger.info(f'Identified {self.missing_value_columns} to have missing values')\n",
    "        self.imputable_values = {}\n",
    "        for col in self.missing_value_columns:\n",
    "            _col = trn_df[col]\n",
    "            a = (~_col.isna())\n",
    "            ixs = a[a].index\n",
    "            _col = _col[ixs]\n",
    "            if _col.dtype != 'object':\n",
    "                self.imputable_values[col] = self.num_mode(_col.values)\n",
    "            else:\n",
    "                self.imputable_values[col] = self.cat_mode(_col.values)\n",
    "        return trn_df\n",
    "\n",
    "    def transform(self, X, y=None):\n",
    "        X = X.copy()\n",
    "        for col in self.missing_value_columns:\n",
    "            ixs = X[col].isna()\n",
    "            jxs = ixs[ixs].index\n",
    "            X.loc[jxs, col] = [self.imputable_values[col]]*len(jxs)\n",
    "            X[f'{col}_na'] = ixs\n",
    "        return X\n",
    "\n",
    "    def fit_transform(self, trn_df, y=None):\n",
    "        return self.transform(self.fit(trn_df, y))"
   ]
  },
  {
   "cell_type": "code",
   "execution_count": null,
   "metadata": {},
   "outputs": [],
   "source": [
    "# export\n",
    "class MakeFrame(BaseEstimator, TransformerMixin):\n",
    "    def __init__(self, column_names):\n",
    "        self.column_names = column_names\n",
    "\n",
    "    def fit(self, X, y=None):\n",
    "        return X\n",
    "\n",
    "    def transform(self, X, y=None):\n",
    "        return pd.DataFrame(X, columns=self.column_names)\n",
    "\n",
    "    def predict_proba(self, X, y=None):\n",
    "        return self.transform(X)\n",
    "\n",
    "    def predict(self, X, y=None):\n",
    "        return self.transform(X)"
   ]
  },
  {
   "cell_type": "code",
   "execution_count": null,
   "metadata": {},
   "outputs": [],
   "source": [
    "# export\n",
    "from collections import defaultdict\n",
    "class Cat2Num(BaseEstimator, TransformerMixin):\n",
    "    def __init__(self): ...\n",
    "\n",
    "    def fit(self, df, y=None):\n",
    "        self.cat_cols = df.select_dtypes('object').columns\n",
    "        self.ids = {}\n",
    "        for col in self.cat_cols:\n",
    "            _d = defaultdict(lambda : 0) # 0 is reserved for the unknown\n",
    "            _d.update({id:ix+1 for ix,id in enumerate(df[col].unique())})\n",
    "            self.ids[col] = _d\n",
    "        return df\n",
    "\n",
    "    def transform(self, df, y=None):\n",
    "        for col in self.cat_cols:\n",
    "            df.loc[:, col] = df[col].map(lambda x: self.ids[col][x])\n",
    "        return df\n",
    "\n",
    "    def fit_transform(self, trn_df, y=None):\n",
    "        return self.transform(self.fit(trn_df, y))"
   ]
  },
  {
   "cell_type": "code",
   "execution_count": null,
   "metadata": {},
   "outputs": [],
   "source": []
  }
 ],
 "metadata": {
  "kernelspec": {
   "display_name": "Python 3",
   "language": "python",
   "name": "python3"
  },
  "language_info": {
   "codemirror_mode": {
    "name": "ipython",
    "version": 3
   },
   "file_extension": ".py",
   "mimetype": "text/x-python",
   "name": "python",
   "nbconvert_exporter": "python",
   "pygments_lexer": "ipython3",
   "version": "3.7.4"
  }
 },
 "nbformat": 4,
 "nbformat_minor": 4
}
