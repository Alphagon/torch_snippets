{
 "cells": [
  {
   "cell_type": "code",
   "execution_count": null,
   "metadata": {},
   "outputs": [],
   "source": [
    "### Parse all notebooks and update the library files"
   ]
  },
  {
   "cell_type": "code",
   "execution_count": 1,
   "metadata": {
    "tags": []
   },
   "outputs": [
    {
     "ename": "InterpolationMissingOptionError",
     "evalue": "Bad value substitution: option 'lib_name' in section 'DEFAULT' contains an interpolation key 'repo' which is not a valid option name. Raw value: '%(repo)s'",
     "output_type": "error",
     "traceback": [
      "\u001b[0;31m---------------------------------------------------------------------------\u001b[0m",
      "\u001b[0;31mInterpolationMissingOptionError\u001b[0m           Traceback (most recent call last)",
      "\u001b[1;32m/Users/yeshwanth.y/code/torch_snippets/scripts.ipynb Cell 2\u001b[0m in \u001b[0;36m<cell line: 2>\u001b[0;34m()\u001b[0m\n\u001b[1;32m      <a href='vscode-notebook-cell:/Users/yeshwanth.y/code/torch_snippets/scripts.ipynb#W1sZmlsZQ%3D%3D?line=0'>1</a>\u001b[0m \u001b[39mimport\u001b[39;00m \u001b[39mnbdev\u001b[39;00m\n\u001b[0;32m----> <a href='vscode-notebook-cell:/Users/yeshwanth.y/code/torch_snippets/scripts.ipynb#W1sZmlsZQ%3D%3D?line=1'>2</a>\u001b[0m nbdev\u001b[39m.\u001b[39;49mnbdev_export(\u001b[39m'\u001b[39;49m\u001b[39mnbs\u001b[39;49m\u001b[39m'\u001b[39;49m)\n",
      "File \u001b[0;32m~/miniconda3/lib/python3.9/site-packages/fastcore/script.py:110\u001b[0m, in \u001b[0;36mcall_parse.<locals>._f\u001b[0;34m(*args, **kwargs)\u001b[0m\n\u001b[1;32m    107\u001b[0m \u001b[39m@wraps\u001b[39m(func)\n\u001b[1;32m    108\u001b[0m \u001b[39mdef\u001b[39;00m \u001b[39m_f\u001b[39m(\u001b[39m*\u001b[39margs, \u001b[39m*\u001b[39m\u001b[39m*\u001b[39mkwargs):\n\u001b[1;32m    109\u001b[0m     mod \u001b[39m=\u001b[39m inspect\u001b[39m.\u001b[39mgetmodule(inspect\u001b[39m.\u001b[39mcurrentframe()\u001b[39m.\u001b[39mf_back)\n\u001b[0;32m--> 110\u001b[0m     \u001b[39mif\u001b[39;00m \u001b[39mnot\u001b[39;00m mod: \u001b[39mreturn\u001b[39;00m func(\u001b[39m*\u001b[39;49margs, \u001b[39m*\u001b[39;49m\u001b[39m*\u001b[39;49mkwargs)\n\u001b[1;32m    111\u001b[0m     \u001b[39mif\u001b[39;00m \u001b[39mnot\u001b[39;00m SCRIPT_INFO\u001b[39m.\u001b[39mfunc \u001b[39mand\u001b[39;00m mod\u001b[39m.\u001b[39m\u001b[39m__name__\u001b[39m\u001b[39m==\u001b[39m\u001b[39m\"\u001b[39m\u001b[39m__main__\u001b[39m\u001b[39m\"\u001b[39m: SCRIPT_INFO\u001b[39m.\u001b[39mfunc \u001b[39m=\u001b[39m func\u001b[39m.\u001b[39m\u001b[39m__name__\u001b[39m\n\u001b[1;32m    112\u001b[0m     \u001b[39mif\u001b[39;00m \u001b[39mlen\u001b[39m(sys\u001b[39m.\u001b[39margv)\u001b[39m>\u001b[39m\u001b[39m1\u001b[39m \u001b[39mand\u001b[39;00m sys\u001b[39m.\u001b[39margv[\u001b[39m1\u001b[39m]\u001b[39m==\u001b[39m\u001b[39m'\u001b[39m\u001b[39m'\u001b[39m: sys\u001b[39m.\u001b[39margv\u001b[39m.\u001b[39mpop(\u001b[39m1\u001b[39m)\n",
      "File \u001b[0;32m~/miniconda3/lib/python3.9/site-packages/nbdev/doclinks.py:139\u001b[0m, in \u001b[0;36mnbdev_export\u001b[0;34m(path, **kwargs)\u001b[0m\n\u001b[1;32m    137\u001b[0m \u001b[39mfor\u001b[39;00m f \u001b[39min\u001b[39;00m files: nb_export(f)\n\u001b[1;32m    138\u001b[0m add_init(get_config()\u001b[39m.\u001b[39mlib_path)\n\u001b[0;32m--> 139\u001b[0m _build_modidx()\n",
      "File \u001b[0;32m~/miniconda3/lib/python3.9/site-packages/nbdev/doclinks.py:97\u001b[0m, in \u001b[0;36m_build_modidx\u001b[0;34m(dest, nbs_path, skip_exists)\u001b[0m\n\u001b[1;32m     95\u001b[0m \u001b[39mif\u001b[39;00m idxfile\u001b[39m.\u001b[39mexists(): res \u001b[39m=\u001b[39m exec_local(idxfile\u001b[39m.\u001b[39mread_text(), \u001b[39m'\u001b[39m\u001b[39md\u001b[39m\u001b[39m'\u001b[39m)\n\u001b[1;32m     96\u001b[0m \u001b[39melse\u001b[39;00m: res \u001b[39m=\u001b[39m \u001b[39mdict\u001b[39m(syms\u001b[39m=\u001b[39m{}, settings\u001b[39m=\u001b[39m{}) \n\u001b[0;32m---> 97\u001b[0m res[\u001b[39m'\u001b[39m\u001b[39msettings\u001b[39m\u001b[39m'\u001b[39m] \u001b[39m=\u001b[39m {k:v \u001b[39mfor\u001b[39;00m k,v \u001b[39min\u001b[39;00m get_config()\u001b[39m.\u001b[39md\u001b[39m.\u001b[39mitems()\n\u001b[1;32m     98\u001b[0m                    \u001b[39mif\u001b[39;00m k \u001b[39min\u001b[39;00m (\u001b[39m'\u001b[39m\u001b[39mdoc_host\u001b[39m\u001b[39m'\u001b[39m,\u001b[39m'\u001b[39m\u001b[39mdoc_baseurl\u001b[39m\u001b[39m'\u001b[39m,\u001b[39m'\u001b[39m\u001b[39mlib_path\u001b[39m\u001b[39m'\u001b[39m,\u001b[39m'\u001b[39m\u001b[39mgit_url\u001b[39m\u001b[39m'\u001b[39m,\u001b[39m'\u001b[39m\u001b[39mbranch\u001b[39m\u001b[39m'\u001b[39m)}\n\u001b[1;32m     99\u001b[0m code_root \u001b[39m=\u001b[39m dest\u001b[39m.\u001b[39mparent\u001b[39m.\u001b[39mresolve()\n\u001b[1;32m    100\u001b[0m \u001b[39mfor\u001b[39;00m file \u001b[39min\u001b[39;00m globtastic(dest, file_glob\u001b[39m=\u001b[39m\u001b[39m\"\u001b[39m\u001b[39m*.py\u001b[39m\u001b[39m\"\u001b[39m, skip_file_re\u001b[39m=\u001b[39m\u001b[39m'\u001b[39m\u001b[39m^_\u001b[39m\u001b[39m'\u001b[39m, skip_folder_re\u001b[39m=\u001b[39m\u001b[39m\"\u001b[39m\u001b[39m\\\u001b[39m\u001b[39m.ipynb_checkpoints\u001b[39m\u001b[39m\"\u001b[39m):\n",
      "File \u001b[0;32m~/miniconda3/lib/python3.9/site-packages/nbdev/doclinks.py:97\u001b[0m, in \u001b[0;36m<dictcomp>\u001b[0;34m(.0)\u001b[0m\n\u001b[1;32m     95\u001b[0m \u001b[39mif\u001b[39;00m idxfile\u001b[39m.\u001b[39mexists(): res \u001b[39m=\u001b[39m exec_local(idxfile\u001b[39m.\u001b[39mread_text(), \u001b[39m'\u001b[39m\u001b[39md\u001b[39m\u001b[39m'\u001b[39m)\n\u001b[1;32m     96\u001b[0m \u001b[39melse\u001b[39;00m: res \u001b[39m=\u001b[39m \u001b[39mdict\u001b[39m(syms\u001b[39m=\u001b[39m{}, settings\u001b[39m=\u001b[39m{}) \n\u001b[0;32m---> 97\u001b[0m res[\u001b[39m'\u001b[39m\u001b[39msettings\u001b[39m\u001b[39m'\u001b[39m] \u001b[39m=\u001b[39m {k:v \u001b[39mfor\u001b[39;00m k,v \u001b[39min\u001b[39;00m get_config()\u001b[39m.\u001b[39md\u001b[39m.\u001b[39mitems()\n\u001b[1;32m     98\u001b[0m                    \u001b[39mif\u001b[39;00m k \u001b[39min\u001b[39;00m (\u001b[39m'\u001b[39m\u001b[39mdoc_host\u001b[39m\u001b[39m'\u001b[39m,\u001b[39m'\u001b[39m\u001b[39mdoc_baseurl\u001b[39m\u001b[39m'\u001b[39m,\u001b[39m'\u001b[39m\u001b[39mlib_path\u001b[39m\u001b[39m'\u001b[39m,\u001b[39m'\u001b[39m\u001b[39mgit_url\u001b[39m\u001b[39m'\u001b[39m,\u001b[39m'\u001b[39m\u001b[39mbranch\u001b[39m\u001b[39m'\u001b[39m)}\n\u001b[1;32m     99\u001b[0m code_root \u001b[39m=\u001b[39m dest\u001b[39m.\u001b[39mparent\u001b[39m.\u001b[39mresolve()\n\u001b[1;32m    100\u001b[0m \u001b[39mfor\u001b[39;00m file \u001b[39min\u001b[39;00m globtastic(dest, file_glob\u001b[39m=\u001b[39m\u001b[39m\"\u001b[39m\u001b[39m*.py\u001b[39m\u001b[39m\"\u001b[39m, skip_file_re\u001b[39m=\u001b[39m\u001b[39m'\u001b[39m\u001b[39m^_\u001b[39m\u001b[39m'\u001b[39m, skip_folder_re\u001b[39m=\u001b[39m\u001b[39m\"\u001b[39m\u001b[39m\\\u001b[39m\u001b[39m.ipynb_checkpoints\u001b[39m\u001b[39m\"\u001b[39m):\n",
      "File \u001b[0;32m~/miniconda3/lib/python3.9/_collections_abc.py:851\u001b[0m, in \u001b[0;36mItemsView.__iter__\u001b[0;34m(self)\u001b[0m\n\u001b[1;32m    849\u001b[0m \u001b[39mdef\u001b[39;00m \u001b[39m__iter__\u001b[39m(\u001b[39mself\u001b[39m):\n\u001b[1;32m    850\u001b[0m     \u001b[39mfor\u001b[39;00m key \u001b[39min\u001b[39;00m \u001b[39mself\u001b[39m\u001b[39m.\u001b[39m_mapping:\n\u001b[0;32m--> 851\u001b[0m         \u001b[39myield\u001b[39;00m (key, \u001b[39mself\u001b[39;49m\u001b[39m.\u001b[39;49m_mapping[key])\n",
      "File \u001b[0;32m~/miniconda3/lib/python3.9/configparser.py:1258\u001b[0m, in \u001b[0;36mSectionProxy.__getitem__\u001b[0;34m(self, key)\u001b[0m\n\u001b[1;32m   1256\u001b[0m \u001b[39mif\u001b[39;00m \u001b[39mnot\u001b[39;00m \u001b[39mself\u001b[39m\u001b[39m.\u001b[39m_parser\u001b[39m.\u001b[39mhas_option(\u001b[39mself\u001b[39m\u001b[39m.\u001b[39m_name, key):\n\u001b[1;32m   1257\u001b[0m     \u001b[39mraise\u001b[39;00m \u001b[39mKeyError\u001b[39;00m(key)\n\u001b[0;32m-> 1258\u001b[0m \u001b[39mreturn\u001b[39;00m \u001b[39mself\u001b[39;49m\u001b[39m.\u001b[39;49m_parser\u001b[39m.\u001b[39;49mget(\u001b[39mself\u001b[39;49m\u001b[39m.\u001b[39;49m_name, key)\n",
      "File \u001b[0;32m~/miniconda3/lib/python3.9/configparser.py:799\u001b[0m, in \u001b[0;36mRawConfigParser.get\u001b[0;34m(self, section, option, raw, vars, fallback)\u001b[0m\n\u001b[1;32m    797\u001b[0m     \u001b[39mreturn\u001b[39;00m value\n\u001b[1;32m    798\u001b[0m \u001b[39melse\u001b[39;00m:\n\u001b[0;32m--> 799\u001b[0m     \u001b[39mreturn\u001b[39;00m \u001b[39mself\u001b[39;49m\u001b[39m.\u001b[39;49m_interpolation\u001b[39m.\u001b[39;49mbefore_get(\u001b[39mself\u001b[39;49m, section, option, value,\n\u001b[1;32m    800\u001b[0m                                           d)\n",
      "File \u001b[0;32m~/miniconda3/lib/python3.9/configparser.py:395\u001b[0m, in \u001b[0;36mBasicInterpolation.before_get\u001b[0;34m(self, parser, section, option, value, defaults)\u001b[0m\n\u001b[1;32m    393\u001b[0m \u001b[39mdef\u001b[39;00m \u001b[39mbefore_get\u001b[39m(\u001b[39mself\u001b[39m, parser, section, option, value, defaults):\n\u001b[1;32m    394\u001b[0m     L \u001b[39m=\u001b[39m []\n\u001b[0;32m--> 395\u001b[0m     \u001b[39mself\u001b[39;49m\u001b[39m.\u001b[39;49m_interpolate_some(parser, option, L, value, section, defaults, \u001b[39m1\u001b[39;49m)\n\u001b[1;32m    396\u001b[0m     \u001b[39mreturn\u001b[39;00m \u001b[39m'\u001b[39m\u001b[39m'\u001b[39m\u001b[39m.\u001b[39mjoin(L)\n",
      "File \u001b[0;32m~/miniconda3/lib/python3.9/configparser.py:434\u001b[0m, in \u001b[0;36mBasicInterpolation._interpolate_some\u001b[0;34m(self, parser, option, accum, rest, section, map, depth)\u001b[0m\n\u001b[1;32m    432\u001b[0m     v \u001b[39m=\u001b[39m \u001b[39mmap\u001b[39m[var]\n\u001b[1;32m    433\u001b[0m \u001b[39mexcept\u001b[39;00m \u001b[39mKeyError\u001b[39;00m:\n\u001b[0;32m--> 434\u001b[0m     \u001b[39mraise\u001b[39;00m InterpolationMissingOptionError(\n\u001b[1;32m    435\u001b[0m         option, section, rawval, var) \u001b[39mfrom\u001b[39;00m \u001b[39mNone\u001b[39m\n\u001b[1;32m    436\u001b[0m \u001b[39mif\u001b[39;00m \u001b[39m\"\u001b[39m\u001b[39m%\u001b[39m\u001b[39m\"\u001b[39m \u001b[39min\u001b[39;00m v:\n\u001b[1;32m    437\u001b[0m     \u001b[39mself\u001b[39m\u001b[39m.\u001b[39m_interpolate_some(parser, option, accum, v,\n\u001b[1;32m    438\u001b[0m                            section, \u001b[39mmap\u001b[39m, depth \u001b[39m+\u001b[39m \u001b[39m1\u001b[39m)\n",
      "\u001b[0;31mInterpolationMissingOptionError\u001b[0m: Bad value substitution: option 'lib_name' in section 'DEFAULT' contains an interpolation key 'repo' which is not a valid option name. Raw value: '%(repo)s'"
     ]
    }
   ],
   "source": [
    "import nbdev\n",
    "nbdev.nbdev_export('nbs')"
   ]
  },
  {
   "cell_type": "markdown",
   "metadata": {},
   "source": [
    "### Parse all notebooks and update the docs"
   ]
  },
  {
   "cell_type": "code",
   "execution_count": 2,
   "metadata": {
    "tags": []
   },
   "outputs": [
    {
     "ename": "NameError",
     "evalue": "name 'nbdev' is not defined",
     "output_type": "error",
     "traceback": [
      "\u001b[0;31m---------------------------------------------------------------------------\u001b[0m",
      "\u001b[0;31mNameError\u001b[0m                                 Traceback (most recent call last)",
      "Cell \u001b[0;32mIn[2], line 1\u001b[0m\n\u001b[0;32m----> 1\u001b[0m nbdev\u001b[39m.\u001b[39mnbdev_build_docs(n_workers\u001b[39m=\u001b[39m\u001b[39m0\u001b[39m)\n",
      "\u001b[0;31mNameError\u001b[0m: name 'nbdev' is not defined"
     ]
    }
   ],
   "source": [
    "nbdev.nbdev_build_docs(n_workers=0)"
   ]
  },
  {
   "cell_type": "code",
   "execution_count": 5,
   "metadata": {},
   "outputs": [
    {
     "name": "stdout",
     "output_type": "stream",
     "text": [
      "/Users/yeshwanth.y/miniconda3/lib/python3.9/site-packages/setuptools/dist.py:717: UserWarning: Usage of dash-separated 'description-file' will not be supported in future versions. Please use the underscore name 'description_file' instead\n",
      "  warnings.warn(\n",
      "running sdist\n",
      "running egg_info\n",
      "writing torch_snippets.egg-info/PKG-INFO\n",
      "writing dependency_links to torch_snippets.egg-info/dependency_links.txt\n",
      "writing entry points to torch_snippets.egg-info/entry_points.txt\n",
      "writing requirements to torch_snippets.egg-info/requires.txt\n",
      "writing top-level names to torch_snippets.egg-info/top_level.txt\n",
      "reading manifest file 'torch_snippets.egg-info/SOURCES.txt'\n",
      "reading manifest template 'MANIFEST.in'\n",
      "warning: no files found matching 'CONTRIBUTING.md'\n",
      "warning: no previously-included files matching '__pycache__' found under directory '*'\n",
      "adding license file 'LICENSE'\n",
      "adding license file 'LICENSE.txt'\n",
      "writing manifest file 'torch_snippets.egg-info/SOURCES.txt'\n",
      "running check\n",
      "creating torch_snippets-0.499.5\n",
      "creating torch_snippets-0.499.5/torch_snippets\n",
      "creating torch_snippets-0.499.5/torch_snippets.egg-info\n",
      "creating torch_snippets-0.499.5/torch_snippets/thinc_parser\n",
      "creating torch_snippets-0.499.5/torch_snippets/trainer\n",
      "copying files to torch_snippets-0.499.5...\n",
      "copying LICENSE -> torch_snippets-0.499.5\n",
      "copying LICENSE.txt -> torch_snippets-0.499.5\n",
      "copying MANIFEST.in -> torch_snippets-0.499.5\n",
      "copying README.md -> torch_snippets-0.499.5\n",
      "copying settings.ini -> torch_snippets-0.499.5\n",
      "copying setup.cfg -> torch_snippets-0.499.5\n",
      "copying setup.py -> torch_snippets-0.499.5\n",
      "copying torch_snippets/__init__.py -> torch_snippets-0.499.5/torch_snippets\n",
      "copying torch_snippets/_modidx.py -> torch_snippets-0.499.5/torch_snippets\n",
      "copying torch_snippets/_nbdev.py -> torch_snippets-0.499.5/torch_snippets\n",
      "copying torch_snippets/adapters.py -> torch_snippets-0.499.5/torch_snippets\n",
      "copying torch_snippets/bb_utils.py -> torch_snippets-0.499.5/torch_snippets\n",
      "copying torch_snippets/bokeh_loader.py -> torch_snippets-0.499.5/torch_snippets\n",
      "copying torch_snippets/charts.py -> torch_snippets-0.499.5/torch_snippets\n",
      "copying torch_snippets/fastcores.py -> torch_snippets-0.499.5/torch_snippets\n",
      "copying torch_snippets/imgaug_loader.py -> torch_snippets-0.499.5/torch_snippets\n",
      "copying torch_snippets/inspector.py -> torch_snippets-0.499.5/torch_snippets\n",
      "copying torch_snippets/ipython.py -> torch_snippets-0.499.5/torch_snippets\n",
      "copying torch_snippets/load_defaults.py -> torch_snippets-0.499.5/torch_snippets\n",
      "copying torch_snippets/loader.py -> torch_snippets-0.499.5/torch_snippets\n",
      "copying torch_snippets/logger.py -> torch_snippets-0.499.5/torch_snippets\n",
      "copying torch_snippets/markup.py -> torch_snippets-0.499.5/torch_snippets\n",
      "copying torch_snippets/misc.py -> torch_snippets-0.499.5/torch_snippets\n",
      "copying torch_snippets/paths.py -> torch_snippets-0.499.5/torch_snippets\n",
      "copying torch_snippets/pdf_loader.py -> torch_snippets-0.499.5/torch_snippets\n",
      "copying torch_snippets/registry.py -> torch_snippets-0.499.5/torch_snippets\n",
      "copying torch_snippets/sklegos.py -> torch_snippets-0.499.5/torch_snippets\n",
      "copying torch_snippets/text_utils.py -> torch_snippets-0.499.5/torch_snippets\n",
      "copying torch_snippets/torch_loader.py -> torch_snippets-0.499.5/torch_snippets\n",
      "copying torch_snippets.egg-info/PKG-INFO -> torch_snippets-0.499.5/torch_snippets.egg-info\n",
      "copying torch_snippets.egg-info/SOURCES.txt -> torch_snippets-0.499.5/torch_snippets.egg-info\n",
      "copying torch_snippets.egg-info/dependency_links.txt -> torch_snippets-0.499.5/torch_snippets.egg-info\n",
      "copying torch_snippets.egg-info/entry_points.txt -> torch_snippets-0.499.5/torch_snippets.egg-info\n",
      "copying torch_snippets.egg-info/not-zip-safe -> torch_snippets-0.499.5/torch_snippets.egg-info\n",
      "copying torch_snippets.egg-info/requires.txt -> torch_snippets-0.499.5/torch_snippets.egg-info\n",
      "copying torch_snippets.egg-info/top_level.txt -> torch_snippets-0.499.5/torch_snippets.egg-info\n",
      "copying torch_snippets/thinc_parser/__init__.py -> torch_snippets-0.499.5/torch_snippets/thinc_parser\n",
      "copying torch_snippets/thinc_parser/parser.py -> torch_snippets-0.499.5/torch_snippets/thinc_parser\n",
      "copying torch_snippets/trainer/__init__.py -> torch_snippets-0.499.5/torch_snippets/trainer\n",
      "copying torch_snippets/trainer/capsule.py -> torch_snippets-0.499.5/torch_snippets/trainer\n",
      "Writing torch_snippets-0.499.5/setup.cfg\n",
      "creating dist\n",
      "Creating tar archive\n",
      "removing 'torch_snippets-0.499.5' (and everything under it)\n",
      "running bdist_wheel\n",
      "running build\n",
      "running build_py\n",
      "installing to build/bdist.macosx-10.9-x86_64/wheel\n",
      "running install\n",
      "running install_lib\n",
      "creating build/bdist.macosx-10.9-x86_64/wheel\n",
      "creating build/bdist.macosx-10.9-x86_64/wheel/torch_snippets\n",
      "copying build/lib/torch_snippets/misc.py -> build/bdist.macosx-10.9-x86_64/wheel/torch_snippets\n",
      "copying build/lib/torch_snippets/load_defaults.py -> build/bdist.macosx-10.9-x86_64/wheel/torch_snippets\n",
      "copying build/lib/torch_snippets/text_utils.py -> build/bdist.macosx-10.9-x86_64/wheel/torch_snippets\n",
      "copying build/lib/torch_snippets/_nbdev.py -> build/bdist.macosx-10.9-x86_64/wheel/torch_snippets\n",
      "copying build/lib/torch_snippets/paths.py -> build/bdist.macosx-10.9-x86_64/wheel/torch_snippets\n",
      "copying build/lib/torch_snippets/charts.py -> build/bdist.macosx-10.9-x86_64/wheel/torch_snippets\n",
      "copying build/lib/torch_snippets/pdf_loader.py -> build/bdist.macosx-10.9-x86_64/wheel/torch_snippets\n",
      "copying build/lib/torch_snippets/registry.py -> build/bdist.macosx-10.9-x86_64/wheel/torch_snippets\n",
      "creating build/bdist.macosx-10.9-x86_64/wheel/torch_snippets/capsule\n",
      "copying build/lib/torch_snippets/capsule/__init__.py -> build/bdist.macosx-10.9-x86_64/wheel/torch_snippets/capsule\n",
      "copying build/lib/torch_snippets/_modidx.py -> build/bdist.macosx-10.9-x86_64/wheel/torch_snippets\n",
      "copying build/lib/torch_snippets/inspector.py -> build/bdist.macosx-10.9-x86_64/wheel/torch_snippets\n",
      "copying build/lib/torch_snippets/__init__.py -> build/bdist.macosx-10.9-x86_64/wheel/torch_snippets\n",
      "copying build/lib/torch_snippets/torch_loader.py -> build/bdist.macosx-10.9-x86_64/wheel/torch_snippets\n",
      "copying build/lib/torch_snippets/logger.py -> build/bdist.macosx-10.9-x86_64/wheel/torch_snippets\n",
      "copying build/lib/torch_snippets/markup.py -> build/bdist.macosx-10.9-x86_64/wheel/torch_snippets\n",
      "copying build/lib/torch_snippets/fastcores.py -> build/bdist.macosx-10.9-x86_64/wheel/torch_snippets\n",
      "copying build/lib/torch_snippets/sklegos.py -> build/bdist.macosx-10.9-x86_64/wheel/torch_snippets\n",
      "copying build/lib/torch_snippets/ipython.py -> build/bdist.macosx-10.9-x86_64/wheel/torch_snippets\n",
      "copying build/lib/torch_snippets/loader.py -> build/bdist.macosx-10.9-x86_64/wheel/torch_snippets\n",
      "copying build/lib/torch_snippets/imgaug_loader.py -> build/bdist.macosx-10.9-x86_64/wheel/torch_snippets\n",
      "creating build/bdist.macosx-10.9-x86_64/wheel/torch_snippets/thinc_parser\n",
      "copying build/lib/torch_snippets/thinc_parser/__init__.py -> build/bdist.macosx-10.9-x86_64/wheel/torch_snippets/thinc_parser\n",
      "copying build/lib/torch_snippets/thinc_parser/parser.py -> build/bdist.macosx-10.9-x86_64/wheel/torch_snippets/thinc_parser\n",
      "copying build/lib/torch_snippets/bokeh_loader.py -> build/bdist.macosx-10.9-x86_64/wheel/torch_snippets\n",
      "creating build/bdist.macosx-10.9-x86_64/wheel/torch_snippets/trainer\n",
      "copying build/lib/torch_snippets/trainer/capsule.py -> build/bdist.macosx-10.9-x86_64/wheel/torch_snippets/trainer\n",
      "copying build/lib/torch_snippets/trainer/__init__.py -> build/bdist.macosx-10.9-x86_64/wheel/torch_snippets/trainer\n",
      "copying build/lib/torch_snippets/bb_utils.py -> build/bdist.macosx-10.9-x86_64/wheel/torch_snippets\n",
      "copying build/lib/torch_snippets/adapters.py -> build/bdist.macosx-10.9-x86_64/wheel/torch_snippets\n",
      "running install_egg_info\n",
      "Copying torch_snippets.egg-info to build/bdist.macosx-10.9-x86_64/wheel/torch_snippets-0.499.5-py3.9.egg-info\n",
      "running install_scripts\n",
      "adding license file \"LICENSE\" (matched pattern \"LICEN[CS]E*\")\n",
      "adding license file \"LICENSE.txt\" (matched pattern \"LICEN[CS]E*\")\n",
      "creating build/bdist.macosx-10.9-x86_64/wheel/torch_snippets-0.499.5.dist-info/WHEEL\n",
      "creating 'dist/torch_snippets-0.499.5-py3-none-any.whl' and adding 'build/bdist.macosx-10.9-x86_64/wheel' to it\n",
      "adding 'torch_snippets/__init__.py'\n",
      "adding 'torch_snippets/_modidx.py'\n",
      "adding 'torch_snippets/_nbdev.py'\n",
      "adding 'torch_snippets/adapters.py'\n",
      "adding 'torch_snippets/bb_utils.py'\n",
      "adding 'torch_snippets/bokeh_loader.py'\n",
      "adding 'torch_snippets/charts.py'\n",
      "adding 'torch_snippets/fastcores.py'\n",
      "adding 'torch_snippets/imgaug_loader.py'\n",
      "adding 'torch_snippets/inspector.py'\n",
      "adding 'torch_snippets/ipython.py'\n",
      "adding 'torch_snippets/load_defaults.py'\n",
      "adding 'torch_snippets/loader.py'\n",
      "adding 'torch_snippets/logger.py'\n",
      "adding 'torch_snippets/markup.py'\n",
      "adding 'torch_snippets/misc.py'\n",
      "adding 'torch_snippets/paths.py'\n",
      "adding 'torch_snippets/pdf_loader.py'\n",
      "adding 'torch_snippets/registry.py'\n",
      "adding 'torch_snippets/sklegos.py'\n",
      "adding 'torch_snippets/text_utils.py'\n",
      "adding 'torch_snippets/torch_loader.py'\n",
      "adding 'torch_snippets/capsule/__init__.py'\n",
      "adding 'torch_snippets/thinc_parser/__init__.py'\n",
      "adding 'torch_snippets/thinc_parser/parser.py'\n",
      "adding 'torch_snippets/trainer/__init__.py'\n",
      "adding 'torch_snippets/trainer/capsule.py'\n",
      "adding 'torch_snippets-0.499.5.dist-info/LICENSE'\n",
      "adding 'torch_snippets-0.499.5.dist-info/LICENSE.txt'\n",
      "adding 'torch_snippets-0.499.5.dist-info/METADATA'\n",
      "adding 'torch_snippets-0.499.5.dist-info/WHEEL'\n",
      "adding 'torch_snippets-0.499.5.dist-info/entry_points.txt'\n",
      "adding 'torch_snippets-0.499.5.dist-info/top_level.txt'\n",
      "adding 'torch_snippets-0.499.5.dist-info/RECORD'\n",
      "removing build/bdist.macosx-10.9-x86_64/wheel\n",
      "Uploading distributions to https://upload.pypi.org/legacy/\n",
      "Uploading torch_snippets-0.499.5-py3-none-any.whl\n",
      "100%|██████████████████████████████████████| 71.6k/71.6k [00:04<00:00, 17.6kB/s]\n",
      "Uploading torch_snippets-0.499.5.tar.gz\n",
      "100%|██████████████████████████████████████| 64.1k/64.1k [00:02<00:00, 26.9kB/s]\n",
      "\n",
      "View at:\n",
      "https://pypi.org/project/torch-snippets/0.499.5/\n"
     ]
    }
   ],
   "source": [
    "!nbdev_pypi"
   ]
  },
  {
   "cell_type": "code",
   "execution_count": 12,
   "metadata": {},
   "outputs": [
    {
     "name": "stdout",
     "output_type": "stream",
     "text": [
      "On branch master\n",
      "Your branch is ahead of 'origin/master' by 1 commit.\n",
      "  (use \"git push\" to publish your local commits)\n",
      "\n",
      "nothing to commit, working tree clean\n"
     ]
    }
   ],
   "source": [
    "# api.git.create_commit(str(version), )\n",
    "!git add .\n",
    "!git commit -m {version}"
   ]
  }
 ],
 "metadata": {
  "kernelspec": {
   "display_name": "Python 3 (ipykernel)",
   "language": "python",
   "name": "python3"
  },
  "language_info": {
   "codemirror_mode": {
    "name": "ipython",
    "version": 3
   },
   "file_extension": ".py",
   "mimetype": "text/x-python",
   "name": "python",
   "nbconvert_exporter": "python",
   "pygments_lexer": "ipython3",
   "version": "3.9.9"
  },
  "vscode": {
   "interpreter": {
    "hash": "31f2aee4e71d21fbe5cf8b01ff0e069b9275f58929596ceb00d14d90e3e16cd6"
   }
  }
 },
 "nbformat": 4,
 "nbformat_minor": 4
}
