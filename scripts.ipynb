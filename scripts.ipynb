{
 "cells": [
  {
   "cell_type": "code",
   "execution_count": null,
   "metadata": {},
   "outputs": [],
   "source": [
    "### Parse all notebooks and update the library files"
   ]
  },
  {
   "cell_type": "code",
   "execution_count": 1,
   "metadata": {
    "tags": []
   },
   "outputs": [],
   "source": [
    "import nbdev\n",
    "nbdev.nbdev_export('nbs')"
   ]
  },
  {
   "cell_type": "markdown",
   "metadata": {},
   "source": [
    "### Parse all notebooks and update the docs"
   ]
  },
  {
   "cell_type": "code",
   "execution_count": 2,
   "metadata": {
    "tags": []
   },
   "outputs": [
    {
     "ename": "AttributeError",
     "evalue": "module 'nbdev' has no attribute 'nbdev_build_docs'",
     "output_type": "error",
     "traceback": [
      "\u001b[0;31m---------------------------------------------------------------------------\u001b[0m",
      "\u001b[0;31mAttributeError\u001b[0m                            Traceback (most recent call last)",
      "\u001b[0;32m/var/folders/cp/1fbgq2n922j8ztdsq6551vldkr5sdy/T/ipykernel_13156/975691376.py\u001b[0m in \u001b[0;36m<module>\u001b[0;34m\u001b[0m\n\u001b[0;32m----> 1\u001b[0;31m \u001b[0mnbdev\u001b[0m\u001b[0;34m.\u001b[0m\u001b[0mnbdev_build_docs\u001b[0m\u001b[0;34m(\u001b[0m\u001b[0mn_workers\u001b[0m\u001b[0;34m=\u001b[0m\u001b[0;36m0\u001b[0m\u001b[0;34m)\u001b[0m\u001b[0;34m\u001b[0m\u001b[0;34m\u001b[0m\u001b[0m\n\u001b[0m",
      "\u001b[0;31mAttributeError\u001b[0m: module 'nbdev' has no attribute 'nbdev_build_docs'"
     ]
    }
   ],
   "source": [
    "nbdev.bui(n_workers=0)"
   ]
  },
  {
   "cell_type": "markdown",
   "metadata": {},
   "source": [
    "### Update the notebooks if there have been any adhoc changes (bug-fixes) directly made in library files"
   ]
  },
  {
   "cell_type": "code",
   "execution_count": 12,
   "metadata": {
    "tags": []
   },
   "outputs": [
    {
     "name": "stdout",
     "output_type": "stream",
     "text": [
      "Converted paths.py.\n",
      "Converted charts.py.\n",
      "Converted pdf_loader.py.\n",
      "Converted registry.py.\n",
      "Converted inspector.py.\n",
      "Converted logger.py.\n",
      "Converted markup.py.\n",
      "Converted sklegos.py.\n",
      "Converted ipython.py.\n",
      "Converted imgaug_loader.py.\n",
      "Converted bokeh_loader.py.\n"
     ]
    }
   ],
   "source": [
    "from nbdev.sync import nbdev_update_lib\n",
    "\n",
    "nbdev_update_lib()"
   ]
  },
  {
   "cell_type": "code",
   "execution_count": 5,
   "metadata": {},
   "outputs": [
    {
     "name": "stdout",
     "output_type": "stream",
     "text": [
      "Converted adapters.ipynb.\n",
      "Converted bokeh_plotting.ipynb.\n",
      "Converted bounding_boxes.ipynb.\n",
      "Converted capsule.ipynb.\n",
      "Converted charts.ipynb.\n",
      "Converted imgaug_loader.ipynb.\n",
      "Converted index.ipynb.\n",
      "Converted inspector.ipynb.\n",
      "Converted jupyter_notebook.ipynb.\n",
      "Converted load_defautls.ipynb.\n",
      "Converted logging.ipynb.\n",
      "Converted markups.ipynb.\n",
      "Converted misc.ipynb.\n",
      "Converted paths.ipynb.\n",
      "Converted pdf.ipynb.\n",
      "Converted registry.ipynb.\n",
      "Converted report.ipynb.\n",
      "Converted show.ipynb.\n",
      "Converted sklegos.ipynb.\n",
      "Obtaining file:///Users/yeshwanth.y/code/misc/torch_snippets\n",
      "Requirement already satisfied: fastcore in /Users/yeshwanth.y/miniconda3/lib/python3.9/site-packages (from torch-snippets==0.499.3) (1.4.2)\n",
      "Requirement already satisfied: matplotlib in /Users/yeshwanth.y/miniconda3/lib/python3.9/site-packages (from torch-snippets==0.499.3) (3.5.1)\n",
      "Requirement already satisfied: Pillow in /Users/yeshwanth.y/miniconda3/lib/python3.9/site-packages (from torch-snippets==0.499.3) (9.2.0)\n",
      "Requirement already satisfied: altair in /Users/yeshwanth.y/miniconda3/lib/python3.9/site-packages (from torch-snippets==0.499.3) (4.2.0)\n",
      "Requirement already satisfied: dill in /Users/yeshwanth.y/miniconda3/lib/python3.9/site-packages (from torch-snippets==0.499.3) (0.3.4)\n",
      "Requirement already satisfied: ipython in /Users/yeshwanth.y/miniconda3/lib/python3.9/site-packages (from torch-snippets==0.499.3) (7.30.1)\n",
      "Requirement already satisfied: loguru in /Users/yeshwanth.y/miniconda3/lib/python3.9/site-packages (from torch-snippets==0.499.3) (0.5.3)\n",
      "Requirement already satisfied: numpy in /Users/yeshwanth.y/miniconda3/lib/python3.9/site-packages (from torch-snippets==0.499.3) (1.22.3)\n",
      "Requirement already satisfied: pandas in /Users/yeshwanth.y/miniconda3/lib/python3.9/site-packages (from torch-snippets==0.499.3) (1.3.5)\n",
      "Requirement already satisfied: tqdm in /Users/yeshwanth.y/miniconda3/lib/python3.9/site-packages (from torch-snippets==0.499.3) (4.62.3)\n",
      "Requirement already satisfied: rich in /Users/yeshwanth.y/miniconda3/lib/python3.9/site-packages (from torch-snippets==0.499.3) (12.5.1)\n",
      "Requirement already satisfied: PyYAML in /Users/yeshwanth.y/miniconda3/lib/python3.9/site-packages (from torch-snippets==0.499.3) (5.4.1)\n",
      "Requirement already satisfied: catalogue in /Users/yeshwanth.y/miniconda3/lib/python3.9/site-packages (from torch-snippets==0.499.3) (2.0.6)\n",
      "Requirement already satisfied: pydantic in /Users/yeshwanth.y/miniconda3/lib/python3.9/site-packages (from torch-snippets==0.499.3) (1.9.0)\n",
      "Requirement already satisfied: typing in /Users/yeshwanth.y/miniconda3/lib/python3.9/site-packages (from torch-snippets==0.499.3) (3.7.4.3)\n",
      "Requirement already satisfied: srsly in /Users/yeshwanth.y/miniconda3/lib/python3.9/site-packages (from torch-snippets==0.499.3) (2.4.2)\n",
      "Requirement already satisfied: typing_extensions in /Users/yeshwanth.y/miniconda3/lib/python3.9/site-packages (from torch-snippets==0.499.3) (4.0.1)\n",
      "Requirement already satisfied: wasabi in /Users/yeshwanth.y/miniconda3/lib/python3.9/site-packages (from torch-snippets==0.499.3) (0.9.0)\n",
      "Requirement already satisfied: jsonlines in /Users/yeshwanth.y/miniconda3/lib/python3.9/site-packages (from torch-snippets==0.499.3) (3.0.0)\n",
      "Requirement already satisfied: imgaug>=0.4.0 in /Users/yeshwanth.y/miniconda3/lib/python3.9/site-packages (from torch-snippets==0.499.3) (0.4.0)\n",
      "Requirement already satisfied: xmltodict in /Users/yeshwanth.y/miniconda3/lib/python3.9/site-packages (from torch-snippets==0.499.3) (0.12.0)\n",
      "Requirement already satisfied: fuzzywuzzy in /Users/yeshwanth.y/miniconda3/lib/python3.9/site-packages (from torch-snippets==0.499.3) (0.18.0)\n",
      "Requirement already satisfied: sklearn in /Users/yeshwanth.y/miniconda3/lib/python3.9/site-packages (from torch-snippets==0.499.3) (0.0)\n",
      "Requirement already satisfied: nltk in /Users/yeshwanth.y/miniconda3/lib/python3.9/site-packages (from torch-snippets==0.499.3) (3.7)\n",
      "Requirement already satisfied: python-Levenshtein in /Users/yeshwanth.y/miniconda3/lib/python3.9/site-packages (from torch-snippets==0.499.3) (0.12.2)\n",
      "Requirement already satisfied: imageio in /Users/yeshwanth.y/miniconda3/lib/python3.9/site-packages (from imgaug>=0.4.0->torch-snippets==0.499.3) (2.9.0)\n",
      "Requirement already satisfied: scikit-image>=0.14.2 in /Users/yeshwanth.y/miniconda3/lib/python3.9/site-packages (from imgaug>=0.4.0->torch-snippets==0.499.3) (0.19.1)\n",
      "Requirement already satisfied: six in /Users/yeshwanth.y/miniconda3/lib/python3.9/site-packages (from imgaug>=0.4.0->torch-snippets==0.499.3) (1.16.0)\n",
      "Requirement already satisfied: opencv-python in /Users/yeshwanth.y/miniconda3/lib/python3.9/site-packages (from imgaug>=0.4.0->torch-snippets==0.499.3) (4.5.4.60)\n",
      "Requirement already satisfied: Shapely in /Users/yeshwanth.y/miniconda3/lib/python3.9/site-packages (from imgaug>=0.4.0->torch-snippets==0.499.3) (1.8.0)\n",
      "Requirement already satisfied: scipy in /Users/yeshwanth.y/miniconda3/lib/python3.9/site-packages (from imgaug>=0.4.0->torch-snippets==0.499.3) (1.7.3)\n",
      "Requirement already satisfied: PyWavelets>=1.1.1 in /Users/yeshwanth.y/miniconda3/lib/python3.9/site-packages (from scikit-image>=0.14.2->imgaug>=0.4.0->torch-snippets==0.499.3) (1.2.0)\n",
      "Requirement already satisfied: networkx>=2.2 in /Users/yeshwanth.y/miniconda3/lib/python3.9/site-packages (from scikit-image>=0.14.2->imgaug>=0.4.0->torch-snippets==0.499.3) (2.6.3)\n",
      "Requirement already satisfied: packaging>=20.0 in /Users/yeshwanth.y/miniconda3/lib/python3.9/site-packages (from scikit-image>=0.14.2->imgaug>=0.4.0->torch-snippets==0.499.3) (21.3)\n",
      "Requirement already satisfied: tifffile>=2019.7.26 in /Users/yeshwanth.y/miniconda3/lib/python3.9/site-packages (from scikit-image>=0.14.2->imgaug>=0.4.0->torch-snippets==0.499.3) (2021.11.2)\n",
      "Requirement already satisfied: pyparsing!=3.0.5,>=2.0.2 in /Users/yeshwanth.y/miniconda3/lib/python3.9/site-packages (from packaging>=20.0->scikit-image>=0.14.2->imgaug>=0.4.0->torch-snippets==0.499.3) (3.0.6)\n",
      "Requirement already satisfied: jsonschema>=3.0 in /Users/yeshwanth.y/miniconda3/lib/python3.9/site-packages (from altair->torch-snippets==0.499.3) (3.2.0)\n",
      "Requirement already satisfied: jinja2 in /Users/yeshwanth.y/miniconda3/lib/python3.9/site-packages (from altair->torch-snippets==0.499.3) (3.0.0)\n",
      "Requirement already satisfied: entrypoints in /Users/yeshwanth.y/miniconda3/lib/python3.9/site-packages (from altair->torch-snippets==0.499.3) (0.3)\n",
      "Requirement already satisfied: toolz in /Users/yeshwanth.y/miniconda3/lib/python3.9/site-packages (from altair->torch-snippets==0.499.3) (0.11.2)\n",
      "Requirement already satisfied: setuptools in /Users/yeshwanth.y/miniconda3/lib/python3.9/site-packages (from jsonschema>=3.0->altair->torch-snippets==0.499.3) (58.0.4)\n",
      "Requirement already satisfied: attrs>=17.4.0 in /Users/yeshwanth.y/miniconda3/lib/python3.9/site-packages (from jsonschema>=3.0->altair->torch-snippets==0.499.3) (21.4.0)\n",
      "Requirement already satisfied: pyrsistent>=0.14.0 in /Users/yeshwanth.y/miniconda3/lib/python3.9/site-packages (from jsonschema>=3.0->altair->torch-snippets==0.499.3) (0.18.0)\n",
      "Requirement already satisfied: python-dateutil>=2.7.3 in /Users/yeshwanth.y/miniconda3/lib/python3.9/site-packages (from pandas->torch-snippets==0.499.3) (2.8.2)\n",
      "Requirement already satisfied: pytz>=2017.3 in /Users/yeshwanth.y/miniconda3/lib/python3.9/site-packages (from pandas->torch-snippets==0.499.3) (2021.3)\n",
      "Requirement already satisfied: pip in /Users/yeshwanth.y/miniconda3/lib/python3.9/site-packages (from fastcore->torch-snippets==0.499.3) (21.2.4)\n",
      "Requirement already satisfied: decorator in /Users/yeshwanth.y/miniconda3/lib/python3.9/site-packages (from ipython->torch-snippets==0.499.3) (5.1.0)\n",
      "Requirement already satisfied: appnope in /Users/yeshwanth.y/miniconda3/lib/python3.9/site-packages (from ipython->torch-snippets==0.499.3) (0.1.2)\n",
      "Requirement already satisfied: matplotlib-inline in /Users/yeshwanth.y/miniconda3/lib/python3.9/site-packages (from ipython->torch-snippets==0.499.3) (0.1.3)\n",
      "Requirement already satisfied: pexpect>4.3 in /Users/yeshwanth.y/miniconda3/lib/python3.9/site-packages (from ipython->torch-snippets==0.499.3) (4.8.0)\n",
      "Requirement already satisfied: pickleshare in /Users/yeshwanth.y/miniconda3/lib/python3.9/site-packages (from ipython->torch-snippets==0.499.3) (0.7.5)\n",
      "Requirement already satisfied: backcall in /Users/yeshwanth.y/miniconda3/lib/python3.9/site-packages (from ipython->torch-snippets==0.499.3) (0.2.0)\n",
      "Requirement already satisfied: jedi>=0.16 in /Users/yeshwanth.y/miniconda3/lib/python3.9/site-packages (from ipython->torch-snippets==0.499.3) (0.18.1)\n",
      "Requirement already satisfied: prompt-toolkit!=3.0.0,!=3.0.1,<3.1.0,>=2.0.0 in /Users/yeshwanth.y/miniconda3/lib/python3.9/site-packages (from ipython->torch-snippets==0.499.3) (3.0.24)\n",
      "Requirement already satisfied: traitlets>=4.2 in /Users/yeshwanth.y/miniconda3/lib/python3.9/site-packages (from ipython->torch-snippets==0.499.3) (5.1.1)\n",
      "Requirement already satisfied: pygments in /Users/yeshwanth.y/miniconda3/lib/python3.9/site-packages (from ipython->torch-snippets==0.499.3) (2.11.1)\n",
      "Requirement already satisfied: parso<0.9.0,>=0.8.0 in /Users/yeshwanth.y/miniconda3/lib/python3.9/site-packages (from jedi>=0.16->ipython->torch-snippets==0.499.3) (0.8.3)\n",
      "Requirement already satisfied: ptyprocess>=0.5 in /Users/yeshwanth.y/miniconda3/lib/python3.9/site-packages (from pexpect>4.3->ipython->torch-snippets==0.499.3) (0.7.0)\n",
      "Requirement already satisfied: wcwidth in /Users/yeshwanth.y/miniconda3/lib/python3.9/site-packages (from prompt-toolkit!=3.0.0,!=3.0.1,<3.1.0,>=2.0.0->ipython->torch-snippets==0.499.3) (0.2.5)\n",
      "Requirement already satisfied: MarkupSafe>=2.0.0rc2 in /Users/yeshwanth.y/miniconda3/lib/python3.9/site-packages (from jinja2->altair->torch-snippets==0.499.3) (2.1.1)\n",
      "Requirement already satisfied: cycler>=0.10 in /Users/yeshwanth.y/miniconda3/lib/python3.9/site-packages (from matplotlib->torch-snippets==0.499.3) (0.11.0)\n",
      "Requirement already satisfied: fonttools>=4.22.0 in /Users/yeshwanth.y/miniconda3/lib/python3.9/site-packages (from matplotlib->torch-snippets==0.499.3) (4.28.5)\n",
      "Requirement already satisfied: kiwisolver>=1.0.1 in /Users/yeshwanth.y/miniconda3/lib/python3.9/site-packages (from matplotlib->torch-snippets==0.499.3) (1.3.2)\n",
      "Requirement already satisfied: click in /Users/yeshwanth.y/miniconda3/lib/python3.9/site-packages (from nltk->torch-snippets==0.499.3) (8.0.3)\n",
      "Requirement already satisfied: joblib in /Users/yeshwanth.y/miniconda3/lib/python3.9/site-packages (from nltk->torch-snippets==0.499.3) (1.1.0)\n",
      "Requirement already satisfied: regex>=2021.8.3 in /Users/yeshwanth.y/miniconda3/lib/python3.9/site-packages (from nltk->torch-snippets==0.499.3) (2021.11.2)\n",
      "Requirement already satisfied: commonmark<0.10.0,>=0.9.0 in /Users/yeshwanth.y/miniconda3/lib/python3.9/site-packages (from rich->torch-snippets==0.499.3) (0.9.1)\n",
      "Requirement already satisfied: scikit-learn in /Users/yeshwanth.y/miniconda3/lib/python3.9/site-packages (from sklearn->torch-snippets==0.499.3) (0.24.2)\n",
      "Requirement already satisfied: threadpoolctl>=2.0.0 in /Users/yeshwanth.y/miniconda3/lib/python3.9/site-packages (from scikit-learn->sklearn->torch-snippets==0.499.3) (3.0.0)\n",
      "Installing collected packages: torch-snippets\n",
      "  Attempting uninstall: torch-snippets\n",
      "    Found existing installation: torch-snippets 0.499.2\n",
      "    Uninstalling torch-snippets-0.499.2:\n",
      "      Successfully uninstalled torch-snippets-0.499.2\n",
      "  Running setup.py develop for torch-snippets\n",
      "Successfully installed torch-snippets-0.499.3\n",
      "Note: you may need to restart the kernel to use updated packages.\n"
     ]
    }
   ],
   "source": [
    "from nbdev.export import *\n",
    "\n",
    "notebook2script()\n",
    "%pip install -e ."
   ]
  },
  {
   "cell_type": "code",
   "execution_count": 5,
   "metadata": {},
   "outputs": [
    {
     "data": {
      "text/plain": [
       "<module 'nbdev' from '/Users/yeshwanth.y/miniconda3/lib/python3.9/site-packages/nbdev/__init__.py'>"
      ]
     },
     "execution_count": 5,
     "metadata": {},
     "output_type": "execute_result"
    }
   ],
   "source": [
    "import nbdev\n",
    "nbdev."
   ]
  },
  {
   "cell_type": "code",
   "execution_count": 11,
   "metadata": {},
   "outputs": [],
   "source": [
    "import os\n",
    "from ghapi.all import GhApi\n",
    "from torch_snippets.registry import parse_string\n",
    "from torch_snippets import readlines\n",
    "from numpy import round\n",
    "\n",
    "settings = parse_string(\n",
    "    \"\\n\".join(readlines(\"settings.ini\", silent=True)).replace(\"DEFAULT\", \"root\")\n",
    ")\n",
    "version = round(settings.root.version, 3)\n",
    "\n",
    "api = GhApi(\n",
    "    owner=\"sizhky\",\n",
    "    repo=\"torch-snippets\",\n",
    ")"
   ]
  },
  {
   "cell_type": "code",
   "execution_count": 12,
   "metadata": {},
   "outputs": [
    {
     "name": "stdout",
     "output_type": "stream",
     "text": [
      "On branch master\n",
      "Your branch is ahead of 'origin/master' by 1 commit.\n",
      "  (use \"git push\" to publish your local commits)\n",
      "\n",
      "nothing to commit, working tree clean\n"
     ]
    }
   ],
   "source": [
    "# api.git.create_commit(str(version), )\n",
    "!git add .\n",
    "!git commit -m {version}"
   ]
  },
  {
   "cell_type": "code",
   "execution_count": 4,
   "metadata": {},
   "outputs": [],
   "source": [
    "api.git.pus"
   ]
  },
  {
   "cell_type": "markdown",
   "metadata": {},
   "source": [
    "### Create a softlink"
   ]
  },
  {
   "cell_type": "markdown",
   "metadata": {
    "execution": {
     "iopub.execute_input": "2021-06-22T07:15:14.113778Z",
     "iopub.status.busy": "2021-06-22T07:15:14.113448Z",
     "iopub.status.idle": "2021-06-22T07:15:14.119154Z",
     "shell.execute_reply": "2021-06-22T07:15:14.117508Z",
     "shell.execute_reply.started": "2021-06-22T07:15:14.113742Z"
    },
    "tags": []
   },
   "source": [
    "```python\n",
    "%cd nbs\n",
    "!ln -s ../<libname> .\n",
    "%cd ..\n",
    "```"
   ]
  },
  {
   "cell_type": "code",
   "execution_count": null,
   "metadata": {},
   "outputs": [],
   "source": []
  }
 ],
 "metadata": {
  "kernelspec": {
   "display_name": "Python 3.9.9 ('base')",
   "language": "python",
   "name": "python3"
  },
  "language_info": {
   "codemirror_mode": {
    "name": "ipython",
    "version": 3
   },
   "file_extension": ".py",
   "mimetype": "text/x-python",
   "name": "python",
   "nbconvert_exporter": "python",
   "pygments_lexer": "ipython3",
   "version": "3.9.9"
  },
  "vscode": {
   "interpreter": {
    "hash": "0a92af74ccf65e106ae96852a45a9b0a5e11a3c414a16fc8bb2d134868e55bfd"
   }
  }
 },
 "nbformat": 4,
 "nbformat_minor": 4
}
