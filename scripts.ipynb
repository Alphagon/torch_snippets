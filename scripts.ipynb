{
 "cells": [
  {
   "cell_type": "markdown",
   "metadata": {},
   "source": [
    "### Parse all notebooks and update the library files"
   ]
  },
  {
   "cell_type": "code",
   "execution_count": 1,
   "metadata": {
    "tags": []
   },
   "outputs": [
    {
     "name": "stdout",
     "output_type": "stream",
     "text": [
      "Converted bokeh_plotting.ipynb.\n",
      "Converted capsule.ipynb.\n",
      "Converted charts.ipynb.\n",
      "Converted imgaug_loader.ipynb.\n",
      "Converted index.ipynb.\n",
      "Converted inspector.ipynb.\n",
      "Converted logging.ipynb.\n",
      "Converted markups.ipynb.\n",
      "Converted misc.ipynb.\n",
      "Converted paths.ipynb.\n",
      "Converted pdf.ipynb.\n",
      "Converted registry.ipynb.\n",
      "Converted report.ipynb.\n",
      "Converted show.ipynb.\n",
      "Converted sklegos.ipynb.\n"
     ]
    }
   ],
   "source": [
    "from nbdev.export import *\n",
    "notebook2script()"
   ]
  },
  {
   "cell_type": "markdown",
   "metadata": {},
   "source": [
    "### Parse all notebooks and update the docs"
   ]
  },
  {
   "cell_type": "code",
   "execution_count": 6,
   "metadata": {
    "tags": []
   },
   "outputs": [
    {
     "name": "stdout",
     "output_type": "stream",
     "text": [
      "converting: /Users/yeshwanth.y/code/misc/torch_snippets/nbs/markups.ipynb\n",
      "converting: /Users/yeshwanth.y/code/misc/torch_snippets/nbs/pdf.ipynb\n",
      "converting: /Users/yeshwanth.y/code/misc/torch_snippets/nbs/capsule.ipynb\n",
      "converting: /Users/yeshwanth.y/code/misc/torch_snippets/nbs/inspector.ipynb\n",
      "converting: /Users/yeshwanth.y/code/misc/torch_snippets/nbs/bokeh_plotting.ipynb\n",
      "converting: /Users/yeshwanth.y/code/misc/torch_snippets/nbs/imgaug_loader.ipynb\n"
     ]
    }
   ],
   "source": [
    "from nbdev.export2html import nbdev_build_docs\n",
    "nbdev_build_docs(n_workers=0)"
   ]
  },
  {
   "cell_type": "markdown",
   "metadata": {},
   "source": [
    "### Update the notebooks if there have been any adhoc changes (bug-fixes) directly made in library files"
   ]
  },
  {
   "cell_type": "code",
   "execution_count": null,
   "metadata": {
    "tags": []
   },
   "outputs": [],
   "source": [
    "from nbdev.sync import nbdev_update_lib\n",
    "nbdev_update_lib()"
   ]
  },
  {
   "cell_type": "code",
   "execution_count": null,
   "metadata": {},
   "outputs": [],
   "source": [
    "from nbdev.export import *\n",
    "notebook2script()\n",
    "%pip install -e ."
   ]
  },
  {
   "cell_type": "code",
   "execution_count": 5,
   "metadata": {},
   "outputs": [
    {
     "name": "stdout",
     "output_type": "stream",
     "text": [
      "rm -rf dist\n",
      "python setup.py sdist bdist_wheel\n",
      "/Users/yeshwanth.y/miniconda3/lib/python3.9/site-packages/setuptools/dist.py:717: UserWarning: Usage of dash-separated 'description-file' will not be supported in future versions. Please use the underscore name 'description_file' instead\n",
      "  warnings.warn(\n",
      "running sdist\n",
      "running egg_info\n",
      "writing torch_snippets.egg-info/PKG-INFO\n",
      "writing dependency_links to torch_snippets.egg-info/dependency_links.txt\n",
      "writing entry points to torch_snippets.egg-info/entry_points.txt\n",
      "writing requirements to torch_snippets.egg-info/requires.txt\n",
      "writing top-level names to torch_snippets.egg-info/top_level.txt\n",
      "reading manifest file 'torch_snippets.egg-info/SOURCES.txt'\n",
      "reading manifest template 'MANIFEST.in'\n",
      "warning: no files found matching 'CONTRIBUTING.md'\n",
      "warning: no previously-included files matching '__pycache__' found under directory '*'\n",
      "adding license file 'LICENSE'\n",
      "adding license file 'LICENSE.txt'\n",
      "writing manifest file 'torch_snippets.egg-info/SOURCES.txt'\n",
      "running check\n",
      "creating torch_snippets-0.492\n",
      "creating torch_snippets-0.492/torch_snippets\n",
      "creating torch_snippets-0.492/torch_snippets.egg-info\n",
      "creating torch_snippets-0.492/torch_snippets/capsule\n",
      "creating torch_snippets-0.492/torch_snippets/thinc_parser\n",
      "creating torch_snippets-0.492/torch_snippets/trainer\n",
      "copying files to torch_snippets-0.492...\n",
      "copying LICENSE -> torch_snippets-0.492\n",
      "copying LICENSE.txt -> torch_snippets-0.492\n",
      "copying MANIFEST.in -> torch_snippets-0.492\n",
      "copying README.md -> torch_snippets-0.492\n",
      "copying settings.ini -> torch_snippets-0.492\n",
      "copying setup.cfg -> torch_snippets-0.492\n",
      "copying setup.py -> torch_snippets-0.492\n",
      "copying torch_snippets/__init__.py -> torch_snippets-0.492/torch_snippets\n",
      "copying torch_snippets/_nbdev.py -> torch_snippets-0.492/torch_snippets\n",
      "copying torch_snippets/bokeh_loader.py -> torch_snippets-0.492/torch_snippets\n",
      "copying torch_snippets/charts.py -> torch_snippets-0.492/torch_snippets\n",
      "copying torch_snippets/fastcores.py -> torch_snippets-0.492/torch_snippets\n",
      "copying torch_snippets/imgaug_loader.py -> torch_snippets-0.492/torch_snippets\n",
      "copying torch_snippets/inspector.py -> torch_snippets-0.492/torch_snippets\n",
      "copying torch_snippets/loader.py -> torch_snippets-0.492/torch_snippets\n",
      "copying torch_snippets/logger.py -> torch_snippets-0.492/torch_snippets\n",
      "copying torch_snippets/markup.py -> torch_snippets-0.492/torch_snippets\n",
      "copying torch_snippets/misc.py -> torch_snippets-0.492/torch_snippets\n",
      "copying torch_snippets/paths.py -> torch_snippets-0.492/torch_snippets\n",
      "copying torch_snippets/pdf_loader.py -> torch_snippets-0.492/torch_snippets\n",
      "copying torch_snippets/registry.py -> torch_snippets-0.492/torch_snippets\n",
      "copying torch_snippets/sklegos.py -> torch_snippets-0.492/torch_snippets\n",
      "copying torch_snippets/torch_loader.py -> torch_snippets-0.492/torch_snippets\n",
      "copying torch_snippets.egg-info/PKG-INFO -> torch_snippets-0.492/torch_snippets.egg-info\n",
      "copying torch_snippets.egg-info/SOURCES.txt -> torch_snippets-0.492/torch_snippets.egg-info\n",
      "copying torch_snippets.egg-info/dependency_links.txt -> torch_snippets-0.492/torch_snippets.egg-info\n",
      "copying torch_snippets.egg-info/entry_points.txt -> torch_snippets-0.492/torch_snippets.egg-info\n",
      "copying torch_snippets.egg-info/not-zip-safe -> torch_snippets-0.492/torch_snippets.egg-info\n",
      "copying torch_snippets.egg-info/requires.txt -> torch_snippets-0.492/torch_snippets.egg-info\n",
      "copying torch_snippets.egg-info/top_level.txt -> torch_snippets-0.492/torch_snippets.egg-info\n",
      "copying torch_snippets/capsule/__init__.py -> torch_snippets-0.492/torch_snippets/capsule\n",
      "copying torch_snippets/thinc_parser/__init__.py -> torch_snippets-0.492/torch_snippets/thinc_parser\n",
      "copying torch_snippets/thinc_parser/parser.py -> torch_snippets-0.492/torch_snippets/thinc_parser\n",
      "copying torch_snippets/trainer/__init__.py -> torch_snippets-0.492/torch_snippets/trainer\n",
      "copying torch_snippets/trainer/capsule.py -> torch_snippets-0.492/torch_snippets/trainer\n",
      "Writing torch_snippets-0.492/setup.cfg\n",
      "creating dist\n",
      "Creating tar archive\n",
      "removing 'torch_snippets-0.492' (and everything under it)\n",
      "running bdist_wheel\n",
      "running build\n",
      "running build_py\n",
      "copying torch_snippets/misc.py -> build/lib/torch_snippets\n",
      "copying torch_snippets/_nbdev.py -> build/lib/torch_snippets\n",
      "copying torch_snippets/paths.py -> build/lib/torch_snippets\n",
      "copying torch_snippets/charts.py -> build/lib/torch_snippets\n",
      "copying torch_snippets/pdf_loader.py -> build/lib/torch_snippets\n",
      "copying torch_snippets/registry.py -> build/lib/torch_snippets\n",
      "copying torch_snippets/inspector.py -> build/lib/torch_snippets\n",
      "copying torch_snippets/__init__.py -> build/lib/torch_snippets\n",
      "copying torch_snippets/logger.py -> build/lib/torch_snippets\n",
      "copying torch_snippets/markup.py -> build/lib/torch_snippets\n",
      "copying torch_snippets/fastcores.py -> build/lib/torch_snippets\n",
      "copying torch_snippets/sklegos.py -> build/lib/torch_snippets\n",
      "copying torch_snippets/loader.py -> build/lib/torch_snippets\n",
      "copying torch_snippets/imgaug_loader.py -> build/lib/torch_snippets\n",
      "copying torch_snippets/bokeh_loader.py -> build/lib/torch_snippets\n",
      "copying torch_snippets/thinc_parser/parser.py -> build/lib/torch_snippets/thinc_parser\n",
      "copying torch_snippets/trainer/capsule.py -> build/lib/torch_snippets/trainer\n",
      "installing to build/bdist.macosx-10.9-x86_64/wheel\n",
      "running install\n",
      "running install_lib\n",
      "creating build/bdist.macosx-10.9-x86_64/wheel\n",
      "creating build/bdist.macosx-10.9-x86_64/wheel/torch_snippets\n",
      "copying build/lib/torch_snippets/misc.py -> build/bdist.macosx-10.9-x86_64/wheel/torch_snippets\n",
      "copying build/lib/torch_snippets/_nbdev.py -> build/bdist.macosx-10.9-x86_64/wheel/torch_snippets\n",
      "copying build/lib/torch_snippets/paths.py -> build/bdist.macosx-10.9-x86_64/wheel/torch_snippets\n",
      "copying build/lib/torch_snippets/charts.py -> build/bdist.macosx-10.9-x86_64/wheel/torch_snippets\n",
      "copying build/lib/torch_snippets/pdf_loader.py -> build/bdist.macosx-10.9-x86_64/wheel/torch_snippets\n",
      "copying build/lib/torch_snippets/registry.py -> build/bdist.macosx-10.9-x86_64/wheel/torch_snippets\n",
      "creating build/bdist.macosx-10.9-x86_64/wheel/torch_snippets/capsule\n",
      "copying build/lib/torch_snippets/capsule/__init__.py -> build/bdist.macosx-10.9-x86_64/wheel/torch_snippets/capsule\n",
      "copying build/lib/torch_snippets/inspector.py -> build/bdist.macosx-10.9-x86_64/wheel/torch_snippets\n",
      "copying build/lib/torch_snippets/__init__.py -> build/bdist.macosx-10.9-x86_64/wheel/torch_snippets\n",
      "copying build/lib/torch_snippets/torch_loader.py -> build/bdist.macosx-10.9-x86_64/wheel/torch_snippets\n",
      "copying build/lib/torch_snippets/logger.py -> build/bdist.macosx-10.9-x86_64/wheel/torch_snippets\n",
      "copying build/lib/torch_snippets/markup.py -> build/bdist.macosx-10.9-x86_64/wheel/torch_snippets\n",
      "copying build/lib/torch_snippets/fastcores.py -> build/bdist.macosx-10.9-x86_64/wheel/torch_snippets\n",
      "copying build/lib/torch_snippets/sklegos.py -> build/bdist.macosx-10.9-x86_64/wheel/torch_snippets\n",
      "copying build/lib/torch_snippets/loader.py -> build/bdist.macosx-10.9-x86_64/wheel/torch_snippets\n",
      "copying build/lib/torch_snippets/imgaug_loader.py -> build/bdist.macosx-10.9-x86_64/wheel/torch_snippets\n",
      "creating build/bdist.macosx-10.9-x86_64/wheel/torch_snippets/thinc_parser\n",
      "copying build/lib/torch_snippets/thinc_parser/__init__.py -> build/bdist.macosx-10.9-x86_64/wheel/torch_snippets/thinc_parser\n",
      "copying build/lib/torch_snippets/thinc_parser/parser.py -> build/bdist.macosx-10.9-x86_64/wheel/torch_snippets/thinc_parser\n",
      "copying build/lib/torch_snippets/bokeh_loader.py -> build/bdist.macosx-10.9-x86_64/wheel/torch_snippets\n",
      "creating build/bdist.macosx-10.9-x86_64/wheel/torch_snippets/trainer\n",
      "copying build/lib/torch_snippets/trainer/capsule.py -> build/bdist.macosx-10.9-x86_64/wheel/torch_snippets/trainer\n",
      "copying build/lib/torch_snippets/trainer/__init__.py -> build/bdist.macosx-10.9-x86_64/wheel/torch_snippets/trainer\n",
      "running install_egg_info\n",
      "Copying torch_snippets.egg-info to build/bdist.macosx-10.9-x86_64/wheel/torch_snippets-0.492-py3.9.egg-info\n",
      "running install_scripts\n",
      "adding license file \"LICENSE\" (matched pattern \"LICEN[CS]E*\")\n",
      "adding license file \"LICENSE.txt\" (matched pattern \"LICEN[CS]E*\")\n",
      "creating build/bdist.macosx-10.9-x86_64/wheel/torch_snippets-0.492.dist-info/WHEEL\n",
      "creating 'dist/torch_snippets-0.492-py3-none-any.whl' and adding 'build/bdist.macosx-10.9-x86_64/wheel' to it\n",
      "adding 'torch_snippets/__init__.py'\n",
      "adding 'torch_snippets/_nbdev.py'\n",
      "adding 'torch_snippets/bokeh_loader.py'\n",
      "adding 'torch_snippets/charts.py'\n",
      "adding 'torch_snippets/fastcores.py'\n",
      "adding 'torch_snippets/imgaug_loader.py'\n",
      "adding 'torch_snippets/inspector.py'\n",
      "adding 'torch_snippets/loader.py'\n",
      "adding 'torch_snippets/logger.py'\n",
      "adding 'torch_snippets/markup.py'\n",
      "adding 'torch_snippets/misc.py'\n",
      "adding 'torch_snippets/paths.py'\n",
      "adding 'torch_snippets/pdf_loader.py'\n",
      "adding 'torch_snippets/registry.py'\n",
      "adding 'torch_snippets/sklegos.py'\n",
      "adding 'torch_snippets/torch_loader.py'\n",
      "adding 'torch_snippets/capsule/__init__.py'\n",
      "adding 'torch_snippets/thinc_parser/__init__.py'\n",
      "adding 'torch_snippets/thinc_parser/parser.py'\n",
      "adding 'torch_snippets/trainer/__init__.py'\n",
      "adding 'torch_snippets/trainer/capsule.py'\n",
      "adding 'torch_snippets-0.492.dist-info/LICENSE'\n",
      "adding 'torch_snippets-0.492.dist-info/LICENSE.txt'\n",
      "adding 'torch_snippets-0.492.dist-info/METADATA'\n",
      "adding 'torch_snippets-0.492.dist-info/WHEEL'\n",
      "adding 'torch_snippets-0.492.dist-info/entry_points.txt'\n",
      "adding 'torch_snippets-0.492.dist-info/top_level.txt'\n",
      "adding 'torch_snippets-0.492.dist-info/RECORD'\n",
      "removing build/bdist.macosx-10.9-x86_64/wheel\n",
      "twine upload --repository pypi dist/*\n",
      "Uploading distributions to https://upload.pypi.org/legacy/\n",
      "Uploading torch_snippets-0.492-py3-none-any.whl\n",
      "100%|██████████████████████████████████████| 58.6k/58.6k [00:06<00:00, 9.50kB/s]\n",
      "Uploading torch_snippets-0.492.tar.gz\n",
      "100%|██████████████████████████████████████| 53.8k/53.8k [00:01<00:00, 28.1kB/s]\n",
      "\n",
      "View at:\n",
      "https://pypi.org/project/torch-snippets/0.492/\n",
      "nbdev_conda_package\n",
      "make: nbdev_conda_package: No such file or directory\n",
      "make: *** [release] Error 1\n"
     ]
    }
   ],
   "source": [
    "!make release"
   ]
  },
  {
   "cell_type": "code",
   "execution_count": 11,
   "metadata": {},
   "outputs": [],
   "source": [
    "import os\n",
    "from ghapi.all import GhApi\n",
    "from torch_snippets.registry import parse_string\n",
    "from torch_snippets import readlines\n",
    "from numpy import round\n",
    "\n",
    "settings = parse_string('\\n'.join(readlines('settings.ini', silent=True)).replace('DEFAULT', 'root'))\n",
    "version = round(settings.root.version, 3)\n",
    "\n",
    "api = GhApi(\n",
    "    owner='sizhky',\n",
    "    repo='torch-snippets',\n",
    ")"
   ]
  },
  {
   "cell_type": "code",
   "execution_count": 12,
   "metadata": {},
   "outputs": [
    {
     "name": "stdout",
     "output_type": "stream",
     "text": [
      "On branch master\n",
      "Your branch is ahead of 'origin/master' by 1 commit.\n",
      "  (use \"git push\" to publish your local commits)\n",
      "\n",
      "nothing to commit, working tree clean\n"
     ]
    }
   ],
   "source": [
    "# api.git.create_commit(str(version), )\n",
    "!git add .\n",
    "!git commit -m {version}"
   ]
  },
  {
   "cell_type": "code",
   "execution_count": 4,
   "metadata": {},
   "outputs": [],
   "source": [
    "api.git.pus"
   ]
  },
  {
   "cell_type": "markdown",
   "metadata": {},
   "source": [
    "### Create a softlink"
   ]
  },
  {
   "cell_type": "markdown",
   "metadata": {
    "execution": {
     "iopub.execute_input": "2021-06-22T07:15:14.113778Z",
     "iopub.status.busy": "2021-06-22T07:15:14.113448Z",
     "iopub.status.idle": "2021-06-22T07:15:14.119154Z",
     "shell.execute_reply": "2021-06-22T07:15:14.117508Z",
     "shell.execute_reply.started": "2021-06-22T07:15:14.113742Z"
    },
    "tags": []
   },
   "source": [
    "```python\n",
    "%cd nbs\n",
    "!ln -s ../<libname> .\n",
    "%cd ..\n",
    "```"
   ]
  },
  {
   "cell_type": "code",
   "execution_count": null,
   "metadata": {},
   "outputs": [],
   "source": []
  }
 ],
 "metadata": {
  "interpreter": {
   "hash": "0a92af74ccf65e106ae96852a45a9b0a5e11a3c414a16fc8bb2d134868e55bfd"
  },
  "kernelspec": {
   "display_name": "Python 3.9.9 ('base')",
   "language": "python",
   "name": "python3"
  },
  "language_info": {
   "codemirror_mode": {
    "name": "ipython",
    "version": 3
   },
   "file_extension": ".py",
   "mimetype": "text/x-python",
   "name": "python",
   "nbconvert_exporter": "python",
   "pygments_lexer": "ipython3",
   "version": "3.9.9"
  }
 },
 "nbformat": 4,
 "nbformat_minor": 4
}
