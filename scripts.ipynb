{
 "cells": [
  {
   "cell_type": "code",
   "execution_count": null,
   "metadata": {},
   "outputs": [
    {
     "data": {
      "text/html": [
       "<pre style=\"white-space:pre;overflow-x:auto;line-height:normal;font-family:Menlo,'DejaVu Sans Mono',consolas,'Courier New',monospace\"><span style=\"color: #7fbfbf; text-decoration-color: #7fbfbf\">[03/05/23 00:31:55] </span><span style=\"color: #bfbf7f; text-decoration-color: #bfbf7f\">INFO    </span> loaded <span style=\"color: #008080; text-decoration-color: #008080; font-weight: bold\">25</span> lines                                               <a href=\"file:///var/folders/cp/1fbgq2n922j8ztdsq6551vldkr5sdy/T/ipykernel_24585/3918974775.py\" target=\"_blank\"><span style=\"color: #7f7f7f; text-decoration-color: #7f7f7f\">3918974775.py</span></a><span style=\"color: #7f7f7f; text-decoration-color: #7f7f7f\">:</span><a href=\"file:///var/folders/cp/1fbgq2n922j8ztdsq6551vldkr5sdy/T/ipykernel_24585/3918974775.py#<module>:3\" target=\"_blank\"><span style=\"color: #7f7f7f; text-decoration-color: #7f7f7f\">&lt;module&gt;:3</span></a>\n",
       "</pre>\n"
      ],
      "text/plain": [
       "\u001b[2;36m[03/05/23 00:31:55]\u001b[0m\u001b[2;36m \u001b[0m\u001b[2;33mINFO    \u001b[0m loaded \u001b[1;36m25\u001b[0m lines                                               \u001b]8;id=167737;file:///var/folders/cp/1fbgq2n922j8ztdsq6551vldkr5sdy/T/ipykernel_24585/3918974775.py\u001b\\\u001b[2m3918974775.py\u001b[0m\u001b]8;;\u001b\\\u001b[2m:\u001b[0m\u001b]8;id=487636;file:///var/folders/cp/1fbgq2n922j8ztdsq6551vldkr5sdy/T/ipykernel_24585/3918974775.py#<module>:3\u001b\\\u001b[2m<module>:3\u001b[0m\u001b]8;;\u001b\\\n"
      ]
     },
     "metadata": {},
     "output_type": "display_data"
    },
    {
     "data": {
      "text/plain": [
       "'0.499.23'"
      ]
     },
     "execution_count": null,
     "metadata": {},
     "output_type": "execute_result"
    }
   ],
   "source": [
    "from torch_snippets import *\n",
    "\n",
    "VERSION = find('version', readlines('settings.ini')).split('=')[1].strip()\n",
    "VERSION"
   ]
  },
  {
   "cell_type": "code",
   "execution_count": null,
   "metadata": {},
   "outputs": [
    {
     "name": "stdout",
     "output_type": "stream",
     "text": [
      "Obtaining file:///Users/yeshwanth.y/code/torch_snippets\n",
      "  Preparing metadata (setup.py) ... \u001b[?25ldone\n",
      "\u001b[?25hRequirement already satisfied: fastcore in /Users/yeshwanth.y/miniconda3/lib/python3.9/site-packages (from torch-snippets==0.499.23) (1.5.27)\n",
      "Requirement already satisfied: matplotlib in /Users/yeshwanth.y/miniconda3/lib/python3.9/site-packages (from torch-snippets==0.499.23) (3.5.1)\n",
      "Requirement already satisfied: Pillow in /Users/yeshwanth.y/miniconda3/lib/python3.9/site-packages (from torch-snippets==0.499.23) (9.0.1)\n",
      "Requirement already satisfied: altair in /Users/yeshwanth.y/miniconda3/lib/python3.9/site-packages (from torch-snippets==0.499.23) (4.2.0)\n",
      "Requirement already satisfied: dill in /Users/yeshwanth.y/miniconda3/lib/python3.9/site-packages (from torch-snippets==0.499.23) (0.3.5.1)\n",
      "Requirement already satisfied: ipython in /Users/yeshwanth.y/miniconda3/lib/python3.9/site-packages (from torch-snippets==0.499.23) (8.10.0)\n",
      "Requirement already satisfied: loguru in /Users/yeshwanth.y/miniconda3/lib/python3.9/site-packages (from torch-snippets==0.499.23) (0.5.3)\n",
      "Requirement already satisfied: numpy in /Users/yeshwanth.y/miniconda3/lib/python3.9/site-packages (from torch-snippets==0.499.23) (1.22.4)\n",
      "Requirement already satisfied: pandas in /Users/yeshwanth.y/miniconda3/lib/python3.9/site-packages (from torch-snippets==0.499.23) (1.1.5)\n",
      "Requirement already satisfied: tqdm in /Users/yeshwanth.y/miniconda3/lib/python3.9/site-packages (from torch-snippets==0.499.23) (4.64.1)\n",
      "Requirement already satisfied: rich in /Users/yeshwanth.y/miniconda3/lib/python3.9/site-packages (from torch-snippets==0.499.23) (13.0.1)\n",
      "Requirement already satisfied: PyYAML in /Users/yeshwanth.y/miniconda3/lib/python3.9/site-packages (from torch-snippets==0.499.23) (6.0)\n",
      "Requirement already satisfied: catalogue in /Users/yeshwanth.y/miniconda3/lib/python3.9/site-packages (from torch-snippets==0.499.23) (2.0.7)\n",
      "Requirement already satisfied: confection in /Users/yeshwanth.y/miniconda3/lib/python3.9/site-packages (from torch-snippets==0.499.23) (0.0.3)\n",
      "Requirement already satisfied: pydantic in /Users/yeshwanth.y/miniconda3/lib/python3.9/site-packages (from torch-snippets==0.499.23) (1.8.2)\n",
      "Requirement already satisfied: typing in /Users/yeshwanth.y/miniconda3/lib/python3.9/site-packages (from torch-snippets==0.499.23) (3.7.4.3)\n",
      "Requirement already satisfied: srsly in /Users/yeshwanth.y/miniconda3/lib/python3.9/site-packages (from torch-snippets==0.499.23) (2.4.5)\n",
      "Requirement already satisfied: typing_extensions in /Users/yeshwanth.y/miniconda3/lib/python3.9/site-packages (from torch-snippets==0.499.23) (4.4.0)\n",
      "Requirement already satisfied: wasabi in /Users/yeshwanth.y/miniconda3/lib/python3.9/site-packages (from torch-snippets==0.499.23) (0.10.1)\n",
      "Requirement already satisfied: jsonlines in /Users/yeshwanth.y/miniconda3/lib/python3.9/site-packages (from torch-snippets==0.499.23) (3.0.0)\n",
      "Requirement already satisfied: imgaug>=0.4.0 in /Users/yeshwanth.y/miniconda3/lib/python3.9/site-packages (from torch-snippets==0.499.23) (0.4.0)\n",
      "Requirement already satisfied: xmltodict in /Users/yeshwanth.y/miniconda3/lib/python3.9/site-packages (from torch-snippets==0.499.23) (0.12.0)\n",
      "Requirement already satisfied: fuzzywuzzy in /Users/yeshwanth.y/miniconda3/lib/python3.9/site-packages (from torch-snippets==0.499.23) (0.18.0)\n",
      "Requirement already satisfied: scikit-learn in /Users/yeshwanth.y/miniconda3/lib/python3.9/site-packages (from torch-snippets==0.499.23) (0.24.2)\n",
      "Requirement already satisfied: nltk in /Users/yeshwanth.y/miniconda3/lib/python3.9/site-packages (from torch-snippets==0.499.23) (3.6.7)\n",
      "Requirement already satisfied: python-Levenshtein in /Users/yeshwanth.y/miniconda3/lib/python3.9/site-packages (from torch-snippets==0.499.23) (0.12.2)\n",
      "Requirement already satisfied: lovely_tensors in /Users/yeshwanth.y/miniconda3/lib/python3.9/site-packages (from torch-snippets==0.499.23) (0.1.14)\n",
      "Requirement already satisfied: pre-commit in /Users/yeshwanth.y/miniconda3/lib/python3.9/site-packages (from torch-snippets==0.499.23) (2.21.0)\n",
      "Requirement already satisfied: pymupdf in /Users/yeshwanth.y/miniconda3/lib/python3.9/site-packages (from torch-snippets==0.499.23) (1.21.1)\n",
      "Requirement already satisfied: imageio in /Users/yeshwanth.y/miniconda3/lib/python3.9/site-packages (from imgaug>=0.4.0->torch-snippets==0.499.23) (2.9.0)\n",
      "Requirement already satisfied: Shapely in /Users/yeshwanth.y/miniconda3/lib/python3.9/site-packages (from imgaug>=0.4.0->torch-snippets==0.499.23) (1.8.0)\n",
      "Requirement already satisfied: six in /Users/yeshwanth.y/miniconda3/lib/python3.9/site-packages (from imgaug>=0.4.0->torch-snippets==0.499.23) (1.16.0)\n",
      "Requirement already satisfied: scipy in /Users/yeshwanth.y/miniconda3/lib/python3.9/site-packages (from imgaug>=0.4.0->torch-snippets==0.499.23) (1.7.3)\n",
      "Requirement already satisfied: scikit-image>=0.14.2 in /Users/yeshwanth.y/miniconda3/lib/python3.9/site-packages (from imgaug>=0.4.0->torch-snippets==0.499.23) (0.19.1)\n",
      "Requirement already satisfied: opencv-python in /Users/yeshwanth.y/miniconda3/lib/python3.9/site-packages (from imgaug>=0.4.0->torch-snippets==0.499.23) (4.5.4.60)\n",
      "Requirement already satisfied: toolz in /Users/yeshwanth.y/miniconda3/lib/python3.9/site-packages (from altair->torch-snippets==0.499.23) (0.12.0)\n",
      "Requirement already satisfied: entrypoints in /Users/yeshwanth.y/miniconda3/lib/python3.9/site-packages (from altair->torch-snippets==0.499.23) (0.3)\n",
      "Requirement already satisfied: jsonschema>=3.0 in /Users/yeshwanth.y/miniconda3/lib/python3.9/site-packages (from altair->torch-snippets==0.499.23) (3.2.0)\n",
      "Requirement already satisfied: jinja2 in /Users/yeshwanth.y/miniconda3/lib/python3.9/site-packages (from altair->torch-snippets==0.499.23) (3.0.0)\n",
      "Requirement already satisfied: pytz>=2017.2 in /Users/yeshwanth.y/miniconda3/lib/python3.9/site-packages (from pandas->torch-snippets==0.499.23) (2019.3)\n",
      "Requirement already satisfied: python-dateutil>=2.7.3 in /Users/yeshwanth.y/miniconda3/lib/python3.9/site-packages (from pandas->torch-snippets==0.499.23) (2.8.1)\n",
      "Requirement already satisfied: pip in /Users/yeshwanth.y/miniconda3/lib/python3.9/site-packages (from fastcore->torch-snippets==0.499.23) (23.0)\n",
      "Requirement already satisfied: packaging in /Users/yeshwanth.y/miniconda3/lib/python3.9/site-packages (from fastcore->torch-snippets==0.499.23) (22.0)\n",
      "Requirement already satisfied: pexpect>4.3 in /Users/yeshwanth.y/miniconda3/lib/python3.9/site-packages (from ipython->torch-snippets==0.499.23) (4.8.0)\n",
      "Requirement already satisfied: matplotlib-inline in /Users/yeshwanth.y/miniconda3/lib/python3.9/site-packages (from ipython->torch-snippets==0.499.23) (0.1.6)\n",
      "Requirement already satisfied: appnope in /Users/yeshwanth.y/miniconda3/lib/python3.9/site-packages (from ipython->torch-snippets==0.499.23) (0.1.2)\n",
      "Requirement already satisfied: stack-data in /Users/yeshwanth.y/miniconda3/lib/python3.9/site-packages (from ipython->torch-snippets==0.499.23) (0.2.0)\n",
      "Requirement already satisfied: traitlets>=5 in /Users/yeshwanth.y/miniconda3/lib/python3.9/site-packages (from ipython->torch-snippets==0.499.23) (5.7.1)\n",
      "Requirement already satisfied: jedi>=0.16 in /Users/yeshwanth.y/miniconda3/lib/python3.9/site-packages (from ipython->torch-snippets==0.499.23) (0.18.1)\n",
      "Requirement already satisfied: decorator in /Users/yeshwanth.y/miniconda3/lib/python3.9/site-packages (from ipython->torch-snippets==0.499.23) (5.1.1)\n",
      "Requirement already satisfied: pygments>=2.4.0 in /Users/yeshwanth.y/miniconda3/lib/python3.9/site-packages (from ipython->torch-snippets==0.499.23) (2.11.2)\n",
      "Requirement already satisfied: prompt-toolkit<3.1.0,>=3.0.30 in /Users/yeshwanth.y/miniconda3/lib/python3.9/site-packages (from ipython->torch-snippets==0.499.23) (3.0.36)\n",
      "Requirement already satisfied: pickleshare in /Users/yeshwanth.y/miniconda3/lib/python3.9/site-packages (from ipython->torch-snippets==0.499.23) (0.7.5)\n",
      "Requirement already satisfied: backcall in /Users/yeshwanth.y/miniconda3/lib/python3.9/site-packages (from ipython->torch-snippets==0.499.23) (0.2.0)\n",
      "Requirement already satisfied: attrs>=19.2.0 in /Users/yeshwanth.y/miniconda3/lib/python3.9/site-packages (from jsonlines->torch-snippets==0.499.23) (22.2.0)\n"
     ]
    },
    {
     "name": "stdout",
     "output_type": "stream",
     "text": [
      "Requirement already satisfied: torch in /Users/yeshwanth.y/miniconda3/lib/python3.9/site-packages (from lovely_tensors->torch-snippets==0.499.23) (1.13.0.dev20220919)\n",
      "Requirement already satisfied: lovely-numpy>=0.2.8 in /Users/yeshwanth.y/miniconda3/lib/python3.9/site-packages (from lovely_tensors->torch-snippets==0.499.23) (0.2.8)\n",
      "Requirement already satisfied: pyparsing>=2.2.1 in /Users/yeshwanth.y/miniconda3/lib/python3.9/site-packages (from matplotlib->torch-snippets==0.499.23) (3.0.9)\n",
      "Requirement already satisfied: fonttools>=4.22.0 in /Users/yeshwanth.y/miniconda3/lib/python3.9/site-packages (from matplotlib->torch-snippets==0.499.23) (4.28.5)\n",
      "Requirement already satisfied: kiwisolver>=1.0.1 in /Users/yeshwanth.y/miniconda3/lib/python3.9/site-packages (from matplotlib->torch-snippets==0.499.23) (1.3.2)\n",
      "Requirement already satisfied: cycler>=0.10 in /Users/yeshwanth.y/miniconda3/lib/python3.9/site-packages (from matplotlib->torch-snippets==0.499.23) (0.11.0)\n",
      "Requirement already satisfied: regex>=2021.8.3 in /Users/yeshwanth.y/miniconda3/lib/python3.9/site-packages (from nltk->torch-snippets==0.499.23) (2022.10.31)\n",
      "Requirement already satisfied: click in /Users/yeshwanth.y/miniconda3/lib/python3.9/site-packages (from nltk->torch-snippets==0.499.23) (8.1.3)\n",
      "Requirement already satisfied: joblib in /Users/yeshwanth.y/miniconda3/lib/python3.9/site-packages (from nltk->torch-snippets==0.499.23) (1.1.0)\n",
      "Requirement already satisfied: identify>=1.0.0 in /Users/yeshwanth.y/miniconda3/lib/python3.9/site-packages (from pre-commit->torch-snippets==0.499.23) (2.5.13)\n",
      "Requirement already satisfied: nodeenv>=0.11.1 in /Users/yeshwanth.y/miniconda3/lib/python3.9/site-packages (from pre-commit->torch-snippets==0.499.23) (1.7.0)\n",
      "Requirement already satisfied: cfgv>=2.0.0 in /Users/yeshwanth.y/miniconda3/lib/python3.9/site-packages (from pre-commit->torch-snippets==0.499.23) (3.3.1)\n",
      "Requirement already satisfied: virtualenv>=20.10.0 in /Users/yeshwanth.y/.local/lib/python3.9/site-packages (from pre-commit->torch-snippets==0.499.23) (20.13.1)\n",
      "Requirement already satisfied: setuptools in /Users/yeshwanth.y/miniconda3/lib/python3.9/site-packages (from python-Levenshtein->torch-snippets==0.499.23) (65.6.3)\n",
      "Requirement already satisfied: commonmark<0.10.0,>=0.9.0 in /Users/yeshwanth.y/miniconda3/lib/python3.9/site-packages (from rich->torch-snippets==0.499.23) (0.9.1)\n",
      "Requirement already satisfied: threadpoolctl>=2.0.0 in /Users/yeshwanth.y/miniconda3/lib/python3.9/site-packages (from scikit-learn->torch-snippets==0.499.23) (3.0.0)\n",
      "Requirement already satisfied: parso<0.9.0,>=0.8.0 in /Users/yeshwanth.y/miniconda3/lib/python3.9/site-packages (from jedi>=0.16->ipython->torch-snippets==0.499.23) (0.8.3)\n",
      "Requirement already satisfied: pyrsistent>=0.14.0 in /Users/yeshwanth.y/miniconda3/lib/python3.9/site-packages (from jsonschema>=3.0->altair->torch-snippets==0.499.23) (0.18.0)\n",
      "Requirement already satisfied: ptyprocess>=0.5 in /Users/yeshwanth.y/miniconda3/lib/python3.9/site-packages (from pexpect>4.3->ipython->torch-snippets==0.499.23) (0.7.0)\n",
      "Requirement already satisfied: wcwidth in /Users/yeshwanth.y/miniconda3/lib/python3.9/site-packages (from prompt-toolkit<3.1.0,>=3.0.30->ipython->torch-snippets==0.499.23) (0.2.5)\n",
      "Requirement already satisfied: tifffile>=2019.7.26 in /Users/yeshwanth.y/miniconda3/lib/python3.9/site-packages (from scikit-image>=0.14.2->imgaug>=0.4.0->torch-snippets==0.499.23) (2021.11.2)\n",
      "Requirement already satisfied: networkx>=2.2 in /Users/yeshwanth.y/miniconda3/lib/python3.9/site-packages (from scikit-image>=0.14.2->imgaug>=0.4.0->torch-snippets==0.499.23) (2.8.8)\n",
      "Requirement already satisfied: PyWavelets>=1.1.1 in /Users/yeshwanth.y/miniconda3/lib/python3.9/site-packages (from scikit-image>=0.14.2->imgaug>=0.4.0->torch-snippets==0.499.23) (1.2.0)\n",
      "Requirement already satisfied: distlib<1,>=0.3.1 in /Users/yeshwanth.y/miniconda3/lib/python3.9/site-packages (from virtualenv>=20.10.0->pre-commit->torch-snippets==0.499.23) (0.3.6)\n",
      "Requirement already satisfied: filelock<4,>=3.2 in /Users/yeshwanth.y/.local/lib/python3.9/site-packages (from virtualenv>=20.10.0->pre-commit->torch-snippets==0.499.23) (3.4.2)\n",
      "Requirement already satisfied: platformdirs<3,>=2 in /Users/yeshwanth.y/miniconda3/lib/python3.9/site-packages (from virtualenv>=20.10.0->pre-commit->torch-snippets==0.499.23) (2.5.2)\n",
      "Requirement already satisfied: MarkupSafe>=2.0.0rc2 in /Users/yeshwanth.y/miniconda3/lib/python3.9/site-packages (from jinja2->altair->torch-snippets==0.499.23) (2.1.1)\n",
      "Requirement already satisfied: executing in /Users/yeshwanth.y/miniconda3/lib/python3.9/site-packages (from stack-data->ipython->torch-snippets==0.499.23) (0.8.3)\n",
      "Requirement already satisfied: pure-eval in /Users/yeshwanth.y/miniconda3/lib/python3.9/site-packages (from stack-data->ipython->torch-snippets==0.499.23) (0.2.2)\n",
      "Requirement already satisfied: asttokens in /Users/yeshwanth.y/miniconda3/lib/python3.9/site-packages (from stack-data->ipython->torch-snippets==0.499.23) (2.0.8)\n",
      "Installing collected packages: torch-snippets\n",
      "  Attempting uninstall: torch-snippets\n",
      "    Found existing installation: torch-snippets 0.499.22\n",
      "    Uninstalling torch-snippets-0.499.22:\n"
     ]
    }
   ],
   "source": [
    "!nbdev_export\n",
    "!pip install -e ."
   ]
  },
  {
   "cell_type": "code",
   "execution_count": null,
   "metadata": {},
   "outputs": [],
   "source": [
    "!nbdev_docs\n",
    "!nbdev_release_both"
   ]
  },
  {
   "cell_type": "code",
   "execution_count": null,
   "metadata": {},
   "outputs": [
    {
     "name": "stdout",
     "output_type": "stream",
     "text": [
      "Fix End of Files.........................................................\u001b[42mPassed\u001b[m\n",
      "Trim Trailing Whitespace.................................................\u001b[42mPassed\u001b[m\n",
      "black....................................................................\u001b[42mPassed\u001b[m\n",
      "[master 3507522] {VERSION}\n",
      " 12 files changed, 221 insertions(+), 671 deletions(-)\n",
      "Enumerating objects: 37, done.\n",
      "Counting objects: 100% (37/37), done.\n",
      "Delta compression using up to 12 threads\n",
      "Compressing objects: 100% (17/17), done.\n",
      "Writing objects: 100% (19/19), 4.73 KiB | 2.36 MiB/s, done.\n",
      "Total 19 (delta 15), reused 0 (delta 0), pack-reused 0\n",
      "remote: Resolving deltas: 100% (15/15), completed with 14 local objects.\u001b[K\n",
      "remote: \n",
      "remote: GitHub found 8 vulnerabilities on sizhky/torch_snippets's default branch (4 high, 3 moderate, 1 low). To find out more, visit:\u001b[K\n",
      "remote:      https://github.com/sizhky/torch_snippets/security/dependabot\u001b[K\n",
      "remote: \n",
      "To github.com:sizhky/torch_snippets.git\n",
      "   249848f..3507522  master -> master\n"
     ]
    }
   ],
   "source": [
    "!git add .\n",
    "!git commit -m {VERSION}\n",
    "!git push"
   ]
  },
  {
   "cell_type": "code",
   "execution_count": null,
   "metadata": {},
   "outputs": [],
   "source": []
  }
 ],
 "metadata": {
  "kernelspec": {
   "display_name": "Python 3 (ipykernel)",
   "language": "python",
   "name": "python3"
  }
 },
 "nbformat": 4,
 "nbformat_minor": 4
}
