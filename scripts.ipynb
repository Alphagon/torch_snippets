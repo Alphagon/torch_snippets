{
 "cells": [
  {
   "cell_type": "markdown",
   "metadata": {},
   "source": [
    "### Parse all notebooks and update the library files"
   ]
  },
  {
   "cell_type": "code",
   "execution_count": 4,
   "metadata": {
    "execution": {
     "iopub.execute_input": "2021-03-26T17:20:05.295338Z",
     "iopub.status.busy": "2021-03-26T17:20:05.287043Z",
     "iopub.status.idle": "2021-03-26T17:20:05.537951Z",
     "shell.execute_reply": "2021-03-26T17:20:05.536801Z",
     "shell.execute_reply.started": "2021-03-26T17:20:05.294015Z"
    }
   },
   "outputs": [
    {
     "name": "stdout",
     "output_type": "stream",
     "text": [
      "Converted charts.ipynb.\n",
      "Converted index.ipynb.\n",
      "Converted logging.ipynb.\n",
      "Converted misc.ipynb.\n",
      "Converted report.ipynb.\n",
      "Converted show.ipynb.\n",
      "Converted sklegos.ipynb.\n"
     ]
    }
   ],
   "source": [
    "from nbdev.export import *\n",
    "notebook2script()"
   ]
  },
  {
   "cell_type": "markdown",
   "metadata": {},
   "source": [
    "### Parse all notebooks and update the docs"
   ]
  },
  {
   "cell_type": "code",
   "execution_count": 5,
   "metadata": {
    "execution": {
     "iopub.execute_input": "2021-03-26T17:20:10.133272Z",
     "iopub.status.busy": "2021-03-26T17:20:10.132982Z",
     "iopub.status.idle": "2021-03-26T17:20:20.567204Z",
     "shell.execute_reply": "2021-03-26T17:20:20.566048Z",
     "shell.execute_reply.started": "2021-03-26T17:20:10.133245Z"
    }
   },
   "outputs": [
    {
     "name": "stdout",
     "output_type": "stream",
     "text": [
      "converting: /Users/yreddy31/Documents/github/torch_snippets/nbs/charts.ipynb\n",
      "converting: /Users/yreddy31/Documents/github/torch_snippets/nbs/logging.ipynb\n",
      "converting /Users/yreddy31/Documents/github/torch_snippets/nbs/index.ipynb to README.md\n"
     ]
    }
   ],
   "source": [
    "from nbdev.export2html import nbdev_build_docs\n",
    "nbdev_build_docs(n_workers=0)"
   ]
  },
  {
   "cell_type": "markdown",
   "metadata": {},
   "source": [
    "### Update the notebooks if there have been any adhoc changes (bug-fixes) directly made in library files"
   ]
  },
  {
   "cell_type": "code",
   "execution_count": 6,
   "metadata": {
    "execution": {
     "iopub.execute_input": "2021-03-26T17:20:24.216370Z",
     "iopub.status.busy": "2021-03-26T17:20:24.216064Z",
     "iopub.status.idle": "2021-03-26T17:20:24.401159Z",
     "shell.execute_reply": "2021-03-26T17:20:24.400370Z",
     "shell.execute_reply.started": "2021-03-26T17:20:24.216339Z"
    }
   },
   "outputs": [
    {
     "name": "stdout",
     "output_type": "stream",
     "text": [
      "Converted charts.py.\n",
      "Converted logger.py.\n",
      "Converted sklegos.py.\n"
     ]
    }
   ],
   "source": [
    "from nbdev.sync import nbdev_update_lib\n",
    "nbdev_update_lib()"
   ]
  },
  {
   "cell_type": "code",
   "execution_count": 7,
   "metadata": {
    "execution": {
     "iopub.execute_input": "2021-03-26T17:20:27.477273Z",
     "iopub.status.busy": "2021-03-26T17:20:27.477018Z",
     "iopub.status.idle": "2021-03-26T17:21:08.073444Z",
     "shell.execute_reply": "2021-03-26T17:21:08.072629Z",
     "shell.execute_reply.started": "2021-03-26T17:20:27.477249Z"
    }
   },
   "outputs": [
    {
     "name": "stdout",
     "output_type": "stream",
     "text": [
      "rm -rf dist\n",
      "python setup.py sdist bdist_wheel\n",
      "running sdist\n",
      "running egg_info\n",
      "writing torch_snippets.egg-info/PKG-INFO\n",
      "writing dependency_links to torch_snippets.egg-info/dependency_links.txt\n",
      "writing entry points to torch_snippets.egg-info/entry_points.txt\n",
      "writing requirements to torch_snippets.egg-info/requires.txt\n",
      "writing top-level names to torch_snippets.egg-info/top_level.txt\n",
      "reading manifest file 'torch_snippets.egg-info/SOURCES.txt'\n",
      "reading manifest template 'MANIFEST.in'\n",
      "warning: no files found matching 'CONTRIBUTING.md'\n",
      "warning: no previously-included files matching '__pycache__' found under directory '*'\n",
      "writing manifest file 'torch_snippets.egg-info/SOURCES.txt'\n",
      "running check\n",
      "creating torch_snippets-0.416\n",
      "creating torch_snippets-0.416/torch_snippets\n",
      "creating torch_snippets-0.416/torch_snippets.egg-info\n",
      "copying files to torch_snippets-0.416...\n",
      "copying LICENSE -> torch_snippets-0.416\n",
      "copying MANIFEST.in -> torch_snippets-0.416\n",
      "copying README.md -> torch_snippets-0.416\n",
      "copying settings.ini -> torch_snippets-0.416\n",
      "copying setup.cfg -> torch_snippets-0.416\n",
      "copying setup.py -> torch_snippets-0.416\n",
      "copying torch_snippets/__init__.py -> torch_snippets-0.416/torch_snippets\n",
      "copying torch_snippets/_nbdev.py -> torch_snippets-0.416/torch_snippets\n",
      "copying torch_snippets/charts.py -> torch_snippets-0.416/torch_snippets\n",
      "copying torch_snippets/fastcores.py -> torch_snippets-0.416/torch_snippets\n",
      "copying torch_snippets/loader.py -> torch_snippets-0.416/torch_snippets\n",
      "copying torch_snippets/logger.py -> torch_snippets-0.416/torch_snippets\n",
      "copying torch_snippets/misc.py -> torch_snippets-0.416/torch_snippets\n",
      "copying torch_snippets/sklegos.py -> torch_snippets-0.416/torch_snippets\n",
      "copying torch_snippets/torch_loader.py -> torch_snippets-0.416/torch_snippets\n",
      "copying torch_snippets.egg-info/PKG-INFO -> torch_snippets-0.416/torch_snippets.egg-info\n",
      "copying torch_snippets.egg-info/SOURCES.txt -> torch_snippets-0.416/torch_snippets.egg-info\n",
      "copying torch_snippets.egg-info/dependency_links.txt -> torch_snippets-0.416/torch_snippets.egg-info\n",
      "copying torch_snippets.egg-info/entry_points.txt -> torch_snippets-0.416/torch_snippets.egg-info\n",
      "copying torch_snippets.egg-info/not-zip-safe -> torch_snippets-0.416/torch_snippets.egg-info\n",
      "copying torch_snippets.egg-info/requires.txt -> torch_snippets-0.416/torch_snippets.egg-info\n",
      "copying torch_snippets.egg-info/top_level.txt -> torch_snippets-0.416/torch_snippets.egg-info\n",
      "Writing torch_snippets-0.416/setup.cfg\n",
      "creating dist\n",
      "Creating tar archive\n",
      "removing 'torch_snippets-0.416' (and everything under it)\n",
      "running bdist_wheel\n",
      "running build\n",
      "running build_py\n",
      "copying torch_snippets/_nbdev.py -> build/lib/torch_snippets\n",
      "copying torch_snippets/charts.py -> build/lib/torch_snippets\n",
      "copying torch_snippets/__init__.py -> build/lib/torch_snippets\n",
      "copying torch_snippets/logger.py -> build/lib/torch_snippets\n",
      "copying torch_snippets/sklegos.py -> build/lib/torch_snippets\n",
      "copying torch_snippets/loader.py -> build/lib/torch_snippets\n",
      "installing to build/bdist.macosx-10.9-x86_64/wheel\n",
      "running install\n",
      "running install_lib\n",
      "creating build/bdist.macosx-10.9-x86_64/wheel\n",
      "creating build/bdist.macosx-10.9-x86_64/wheel/torch_snippets\n",
      "copying build/lib/torch_snippets/misc.py -> build/bdist.macosx-10.9-x86_64/wheel/torch_snippets\n",
      "copying build/lib/torch_snippets/_nbdev.py -> build/bdist.macosx-10.9-x86_64/wheel/torch_snippets\n",
      "copying build/lib/torch_snippets/charts.py -> build/bdist.macosx-10.9-x86_64/wheel/torch_snippets\n",
      "copying build/lib/torch_snippets/__init__.py -> build/bdist.macosx-10.9-x86_64/wheel/torch_snippets\n",
      "copying build/lib/torch_snippets/torch_loader.py -> build/bdist.macosx-10.9-x86_64/wheel/torch_snippets\n",
      "copying build/lib/torch_snippets/logger.py -> build/bdist.macosx-10.9-x86_64/wheel/torch_snippets\n",
      "copying build/lib/torch_snippets/fastcores.py -> build/bdist.macosx-10.9-x86_64/wheel/torch_snippets\n",
      "copying build/lib/torch_snippets/sklegos.py -> build/bdist.macosx-10.9-x86_64/wheel/torch_snippets\n",
      "copying build/lib/torch_snippets/loader.py -> build/bdist.macosx-10.9-x86_64/wheel/torch_snippets\n",
      "running install_egg_info\n",
      "Copying torch_snippets.egg-info to build/bdist.macosx-10.9-x86_64/wheel/torch_snippets-0.416-py3.7.egg-info\n",
      "running install_scripts\n",
      "adding license file \"LICENSE\" (matched pattern \"LICEN[CS]E*\")\n",
      "adding license file \"LICENSE.txt\" (matched pattern \"LICEN[CS]E*\")\n",
      "creating build/bdist.macosx-10.9-x86_64/wheel/torch_snippets-0.416.dist-info/WHEEL\n",
      "creating 'dist/torch_snippets-0.416-py3-none-any.whl' and adding 'build/bdist.macosx-10.9-x86_64/wheel' to it\n",
      "adding 'torch_snippets/__init__.py'\n",
      "adding 'torch_snippets/_nbdev.py'\n",
      "adding 'torch_snippets/charts.py'\n",
      "adding 'torch_snippets/fastcores.py'\n",
      "adding 'torch_snippets/loader.py'\n",
      "adding 'torch_snippets/logger.py'\n",
      "adding 'torch_snippets/misc.py'\n",
      "adding 'torch_snippets/sklegos.py'\n",
      "adding 'torch_snippets/torch_loader.py'\n",
      "adding 'torch_snippets-0.416.dist-info/LICENSE'\n",
      "adding 'torch_snippets-0.416.dist-info/LICENSE.txt'\n",
      "adding 'torch_snippets-0.416.dist-info/METADATA'\n",
      "adding 'torch_snippets-0.416.dist-info/WHEEL'\n",
      "adding 'torch_snippets-0.416.dist-info/entry_points.txt'\n",
      "adding 'torch_snippets-0.416.dist-info/top_level.txt'\n",
      "adding 'torch_snippets-0.416.dist-info/RECORD'\n",
      "removing build/bdist.macosx-10.9-x86_64/wheel\n",
      "twine upload --repository pypi dist/*\n",
      "Uploading distributions to https://upload.pypi.org/legacy/\n",
      "Uploading torch_snippets-0.416-py3-none-any.whl\n",
      "100%|██████████████████████████████████████| 34.6k/34.6k [00:21<00:00, 1.65kB/s]\n",
      "Uploading torch_snippets-0.416.tar.gz\n",
      "100%|██████████████████████████████████████| 34.1k/34.1k [00:12<00:00, 2.78kB/s]\n",
      "\n",
      "View at:\n",
      "https://pypi.org/project/torch-snippets/0.416/\n",
      "nbdev_conda_package\n",
      "make: nbdev_conda_package: No such file or directory\n",
      "make: *** [release] Error 1\n"
     ]
    }
   ],
   "source": [
    "!make release"
   ]
  },
  {
   "cell_type": "markdown",
   "metadata": {},
   "source": [
    "### Create a softlink"
   ]
  },
  {
   "cell_type": "code",
   "execution_count": 5,
   "metadata": {
    "execution": {
     "iopub.execute_input": "2021-03-18T11:56:52.375395Z",
     "iopub.status.busy": "2021-03-18T11:56:52.375048Z",
     "iopub.status.idle": "2021-03-18T11:56:52.505970Z",
     "shell.execute_reply": "2021-03-18T11:56:52.504926Z",
     "shell.execute_reply.started": "2021-03-18T11:56:52.375365Z"
    }
   },
   "outputs": [
    {
     "name": "stdout",
     "output_type": "stream",
     "text": [
      "/Users/yreddy31/Documents/github/torch_snippets/nbs\n",
      "/bin/sh: libname: No such file or directory\n",
      "/Users/yreddy31/Documents/github/torch_snippets\n"
     ]
    }
   ],
   "source": [
    "%cd nbs\n",
    "!ln -s ../<libname> .\n",
    "%cd .."
   ]
  }
 ],
 "metadata": {
  "kernelspec": {
   "display_name": "Python 3",
   "language": "python",
   "name": "python3"
  },
  "language_info": {
   "codemirror_mode": {
    "name": "ipython",
    "version": 3
   },
   "file_extension": ".py",
   "mimetype": "text/x-python",
   "name": "python",
   "nbconvert_exporter": "python",
   "pygments_lexer": "ipython3",
   "version": "3.7.4"
  }
 },
 "nbformat": 4,
 "nbformat_minor": 4
}
