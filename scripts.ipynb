{
 "cells": [
  {
   "cell_type": "markdown",
   "metadata": {},
   "source": [
    "### Parse all notebooks and update the library files"
   ]
  },
  {
   "cell_type": "code",
   "execution_count": 11,
   "metadata": {
    "execution": {
     "iopub.execute_input": "2021-08-17T09:18:42.102940Z",
     "iopub.status.busy": "2021-08-17T09:18:42.099227Z",
     "iopub.status.idle": "2021-08-17T09:18:42.451775Z",
     "shell.execute_reply": "2021-08-17T09:18:42.450899Z",
     "shell.execute_reply.started": "2021-08-17T09:18:42.102838Z"
    },
    "tags": []
   },
   "outputs": [
    {
     "name": "stdout",
     "output_type": "stream",
     "text": [
      "Converted charts.ipynb.\n",
      "Converted index.ipynb.\n",
      "Converted logging.ipynb.\n",
      "Converted markups.ipynb.\n",
      "Converted misc.ipynb.\n",
      "Converted paths.ipynb.\n",
      "Converted registry.ipynb.\n",
      "Converted report.ipynb.\n",
      "Converted show.ipynb.\n",
      "Converted sklegos.ipynb.\n"
     ]
    }
   ],
   "source": [
    "from nbdev.export import *\n",
    "notebook2script()"
   ]
  },
  {
   "cell_type": "markdown",
   "metadata": {},
   "source": [
    "### Parse all notebooks and update the docs"
   ]
  },
  {
   "cell_type": "code",
   "execution_count": 12,
   "metadata": {
    "execution": {
     "iopub.execute_input": "2021-08-17T09:18:43.201302Z",
     "iopub.status.busy": "2021-08-17T09:18:43.200938Z",
     "iopub.status.idle": "2021-08-17T09:19:20.604764Z",
     "shell.execute_reply": "2021-08-17T09:19:20.603835Z",
     "shell.execute_reply.started": "2021-08-17T09:18:43.201269Z"
    },
    "tags": []
   },
   "outputs": [
    {
     "name": "stdout",
     "output_type": "stream",
     "text": [
      "converting: /Users/yreddy31/Documents/github/torch_snippets/nbs/markups.ipynb\n",
      "converting: /Users/yreddy31/Documents/github/torch_snippets/nbs/sklegos.ipynb\n",
      "converting: /Users/yreddy31/Documents/github/torch_snippets/nbs/charts.ipynb\n",
      "converting: /Users/yreddy31/Documents/github/torch_snippets/nbs/paths.ipynb\n",
      "converting: /Users/yreddy31/Documents/github/torch_snippets/nbs/registry.ipynb\n",
      "converting: /Users/yreddy31/Documents/github/torch_snippets/nbs/logging.ipynb\n",
      "Warning: Some of your Notebooks use the same title (['Charts', 'Rich Logging and Printing', 'Title', 'Functions', 'Title', 'Title', 'Report', 'Show', 'sklearn Transforms']).\n",
      "converting /Users/yreddy31/Documents/github/torch_snippets/nbs/index.ipynb to README.md\n"
     ]
    }
   ],
   "source": [
    "from nbdev.export2html import nbdev_build_docs\n",
    "nbdev_build_docs(n_workers=0)"
   ]
  },
  {
   "cell_type": "markdown",
   "metadata": {},
   "source": [
    "### Update the notebooks if there have been any adhoc changes (bug-fixes) directly made in library files"
   ]
  },
  {
   "cell_type": "code",
   "execution_count": 13,
   "metadata": {
    "execution": {
     "iopub.execute_input": "2021-08-17T09:19:20.606879Z",
     "iopub.status.busy": "2021-08-17T09:19:20.606522Z",
     "iopub.status.idle": "2021-08-17T09:19:21.375640Z",
     "shell.execute_reply": "2021-08-17T09:19:21.374798Z",
     "shell.execute_reply.started": "2021-08-17T09:19:20.606837Z"
    },
    "tags": []
   },
   "outputs": [
    {
     "name": "stdout",
     "output_type": "stream",
     "text": [
      "Converted paths.py.\n",
      "Converted charts.py.\n",
      "Converted registry.py.\n",
      "Converted logger.py.\n",
      "Converted sklegos.py.\n"
     ]
    }
   ],
   "source": [
    "from nbdev.sync import nbdev_update_lib\n",
    "nbdev_update_lib()"
   ]
  },
  {
   "cell_type": "code",
   "execution_count": 14,
   "metadata": {
    "execution": {
     "iopub.execute_input": "2021-08-17T09:19:29.986461Z",
     "iopub.status.busy": "2021-08-17T09:19:29.986167Z",
     "iopub.status.idle": "2021-08-17T09:19:39.440018Z",
     "shell.execute_reply": "2021-08-17T09:19:39.439211Z",
     "shell.execute_reply.started": "2021-08-17T09:19:29.986436Z"
    },
    "tags": []
   },
   "outputs": [
    {
     "name": "stdout",
     "output_type": "stream",
     "text": [
      "rm -rf dist\n",
      "python setup.py sdist bdist_wheel\n",
      "/Users/yreddy31/anaconda3/lib/python3.7/site-packages/setuptools/dist.py:694: UserWarning: Usage of dash-separated 'description-file' will not be supported in future versions. Please use the underscore name 'description_file' instead\n",
      "  % (opt, underscore_opt))\n",
      "running sdist\n",
      "running egg_info\n",
      "writing torch_snippets.egg-info/PKG-INFO\n",
      "writing dependency_links to torch_snippets.egg-info/dependency_links.txt\n",
      "writing entry points to torch_snippets.egg-info/entry_points.txt\n",
      "writing requirements to torch_snippets.egg-info/requires.txt\n",
      "writing top-level names to torch_snippets.egg-info/top_level.txt\n",
      "reading manifest file 'torch_snippets.egg-info/SOURCES.txt'\n",
      "reading manifest template 'MANIFEST.in'\n",
      "warning: no files found matching 'CONTRIBUTING.md'\n",
      "warning: no previously-included files matching '__pycache__' found under directory '*'\n",
      "adding license file 'LICENSE'\n",
      "adding license file 'LICENSE.txt'\n",
      "writing manifest file 'torch_snippets.egg-info/SOURCES.txt'\n",
      "running check\n",
      "creating torch_snippets-0.454\n",
      "creating torch_snippets-0.454/torch_snippets\n",
      "creating torch_snippets-0.454/torch_snippets.egg-info\n",
      "creating torch_snippets-0.454/torch_snippets/thinc_parser\n",
      "copying files to torch_snippets-0.454...\n",
      "copying LICENSE -> torch_snippets-0.454\n",
      "copying LICENSE.txt -> torch_snippets-0.454\n",
      "copying MANIFEST.in -> torch_snippets-0.454\n",
      "copying README.md -> torch_snippets-0.454\n",
      "copying settings.ini -> torch_snippets-0.454\n",
      "copying setup.cfg -> torch_snippets-0.454\n",
      "copying setup.py -> torch_snippets-0.454\n",
      "copying torch_snippets/__init__.py -> torch_snippets-0.454/torch_snippets\n",
      "copying torch_snippets/_nbdev.py -> torch_snippets-0.454/torch_snippets\n",
      "copying torch_snippets/charts.py -> torch_snippets-0.454/torch_snippets\n",
      "copying torch_snippets/fastcores.py -> torch_snippets-0.454/torch_snippets\n",
      "copying torch_snippets/loader.py -> torch_snippets-0.454/torch_snippets\n",
      "copying torch_snippets/logger.py -> torch_snippets-0.454/torch_snippets\n",
      "copying torch_snippets/markup.py -> torch_snippets-0.454/torch_snippets\n",
      "copying torch_snippets/misc.py -> torch_snippets-0.454/torch_snippets\n",
      "copying torch_snippets/paths.py -> torch_snippets-0.454/torch_snippets\n",
      "copying torch_snippets/registry.py -> torch_snippets-0.454/torch_snippets\n",
      "copying torch_snippets/sklegos.py -> torch_snippets-0.454/torch_snippets\n",
      "copying torch_snippets/torch_loader.py -> torch_snippets-0.454/torch_snippets\n",
      "copying torch_snippets.egg-info/PKG-INFO -> torch_snippets-0.454/torch_snippets.egg-info\n",
      "copying torch_snippets.egg-info/SOURCES.txt -> torch_snippets-0.454/torch_snippets.egg-info\n",
      "copying torch_snippets.egg-info/dependency_links.txt -> torch_snippets-0.454/torch_snippets.egg-info\n",
      "copying torch_snippets.egg-info/entry_points.txt -> torch_snippets-0.454/torch_snippets.egg-info\n",
      "copying torch_snippets.egg-info/not-zip-safe -> torch_snippets-0.454/torch_snippets.egg-info\n",
      "copying torch_snippets.egg-info/requires.txt -> torch_snippets-0.454/torch_snippets.egg-info\n",
      "copying torch_snippets.egg-info/top_level.txt -> torch_snippets-0.454/torch_snippets.egg-info\n",
      "copying torch_snippets/thinc_parser/__init__.py -> torch_snippets-0.454/torch_snippets/thinc_parser\n",
      "copying torch_snippets/thinc_parser/parser.py -> torch_snippets-0.454/torch_snippets/thinc_parser\n",
      "Writing torch_snippets-0.454/setup.cfg\n",
      "creating dist\n",
      "Creating tar archive\n",
      "removing 'torch_snippets-0.454' (and everything under it)\n",
      "running bdist_wheel\n",
      "running build\n",
      "running build_py\n",
      "copying torch_snippets/_nbdev.py -> build/lib/torch_snippets\n",
      "copying torch_snippets/paths.py -> build/lib/torch_snippets\n",
      "copying torch_snippets/charts.py -> build/lib/torch_snippets\n",
      "copying torch_snippets/registry.py -> build/lib/torch_snippets\n",
      "copying torch_snippets/__init__.py -> build/lib/torch_snippets\n",
      "copying torch_snippets/logger.py -> build/lib/torch_snippets\n",
      "copying torch_snippets/markup.py -> build/lib/torch_snippets\n",
      "copying torch_snippets/sklegos.py -> build/lib/torch_snippets\n",
      "creating build/lib/torch_snippets/thinc_parser\n",
      "copying torch_snippets/thinc_parser/__init__.py -> build/lib/torch_snippets/thinc_parser\n",
      "copying torch_snippets/thinc_parser/parser.py -> build/lib/torch_snippets/thinc_parser\n",
      "installing to build/bdist.macosx-10.9-x86_64/wheel\n",
      "running install\n",
      "running install_lib\n",
      "creating build/bdist.macosx-10.9-x86_64/wheel\n",
      "creating build/bdist.macosx-10.9-x86_64/wheel/torch_snippets\n",
      "copying build/lib/torch_snippets/misc.py -> build/bdist.macosx-10.9-x86_64/wheel/torch_snippets\n",
      "copying build/lib/torch_snippets/_nbdev.py -> build/bdist.macosx-10.9-x86_64/wheel/torch_snippets\n",
      "copying build/lib/torch_snippets/paths.py -> build/bdist.macosx-10.9-x86_64/wheel/torch_snippets\n",
      "copying build/lib/torch_snippets/charts.py -> build/bdist.macosx-10.9-x86_64/wheel/torch_snippets\n",
      "copying build/lib/torch_snippets/registry.py -> build/bdist.macosx-10.9-x86_64/wheel/torch_snippets\n",
      "copying build/lib/torch_snippets/__init__.py -> build/bdist.macosx-10.9-x86_64/wheel/torch_snippets\n",
      "copying build/lib/torch_snippets/torch_loader.py -> build/bdist.macosx-10.9-x86_64/wheel/torch_snippets\n",
      "copying build/lib/torch_snippets/logger.py -> build/bdist.macosx-10.9-x86_64/wheel/torch_snippets\n",
      "copying build/lib/torch_snippets/markup.py -> build/bdist.macosx-10.9-x86_64/wheel/torch_snippets\n",
      "copying build/lib/torch_snippets/fastcores.py -> build/bdist.macosx-10.9-x86_64/wheel/torch_snippets\n",
      "copying build/lib/torch_snippets/sklegos.py -> build/bdist.macosx-10.9-x86_64/wheel/torch_snippets\n",
      "copying build/lib/torch_snippets/loader.py -> build/bdist.macosx-10.9-x86_64/wheel/torch_snippets\n",
      "copying build/lib/torch_snippets/show_image_utils.py -> build/bdist.macosx-10.9-x86_64/wheel/torch_snippets\n",
      "creating build/bdist.macosx-10.9-x86_64/wheel/torch_snippets/thinc_parser\n",
      "copying build/lib/torch_snippets/thinc_parser/__init__.py -> build/bdist.macosx-10.9-x86_64/wheel/torch_snippets/thinc_parser\n",
      "copying build/lib/torch_snippets/thinc_parser/parser.py -> build/bdist.macosx-10.9-x86_64/wheel/torch_snippets/thinc_parser\n",
      "running install_egg_info\n",
      "Copying torch_snippets.egg-info to build/bdist.macosx-10.9-x86_64/wheel/torch_snippets-0.454-py3.7.egg-info\n",
      "running install_scripts\n",
      "adding license file \"LICENSE\" (matched pattern \"LICEN[CS]E*\")\n",
      "adding license file \"LICENSE.txt\" (matched pattern \"LICEN[CS]E*\")\n",
      "creating build/bdist.macosx-10.9-x86_64/wheel/torch_snippets-0.454.dist-info/WHEEL\n",
      "creating 'dist/torch_snippets-0.454-py3-none-any.whl' and adding 'build/bdist.macosx-10.9-x86_64/wheel' to it\n",
      "adding 'torch_snippets/__init__.py'\n",
      "adding 'torch_snippets/_nbdev.py'\n",
      "adding 'torch_snippets/charts.py'\n",
      "adding 'torch_snippets/fastcores.py'\n",
      "adding 'torch_snippets/loader.py'\n",
      "adding 'torch_snippets/logger.py'\n",
      "adding 'torch_snippets/markup.py'\n",
      "adding 'torch_snippets/misc.py'\n",
      "adding 'torch_snippets/paths.py'\n",
      "adding 'torch_snippets/registry.py'\n",
      "adding 'torch_snippets/show_image_utils.py'\n",
      "adding 'torch_snippets/sklegos.py'\n",
      "adding 'torch_snippets/torch_loader.py'\n",
      "adding 'torch_snippets/thinc_parser/__init__.py'\n",
      "adding 'torch_snippets/thinc_parser/parser.py'\n",
      "adding 'torch_snippets-0.454.dist-info/LICENSE'\n",
      "adding 'torch_snippets-0.454.dist-info/LICENSE.txt'\n",
      "adding 'torch_snippets-0.454.dist-info/METADATA'\n",
      "adding 'torch_snippets-0.454.dist-info/WHEEL'\n",
      "adding 'torch_snippets-0.454.dist-info/entry_points.txt'\n",
      "adding 'torch_snippets-0.454.dist-info/top_level.txt'\n",
      "adding 'torch_snippets-0.454.dist-info/RECORD'\n",
      "removing build/bdist.macosx-10.9-x86_64/wheel\n",
      "twine upload --repository pypi dist/*\n",
      "Uploading distributions to https://upload.pypi.org/legacy/\n",
      "Uploading torch_snippets-0.454-py3-none-any.whl\n",
      "100%|██████████████████████████████████████| 50.3k/50.3k [00:03<00:00, 13.2kB/s]\n",
      "Uploading torch_snippets-0.454.tar.gz\n",
      "100%|██████████████████████████████████████| 47.5k/47.5k [00:01<00:00, 27.3kB/s]\n",
      "\n",
      "View at:\n",
      "https://pypi.org/project/torch-snippets/0.454/\n",
      "nbdev_conda_package\n",
      "make: nbdev_conda_package: No such file or directory\n",
      "make: *** [release] Error 1\n"
     ]
    }
   ],
   "source": [
    "!make release"
   ]
  },
  {
   "cell_type": "markdown",
   "metadata": {},
   "source": [
    "### Create a softlink"
   ]
  },
  {
   "cell_type": "code",
   "execution_count": 5,
   "metadata": {
    "execution": {
     "iopub.execute_input": "2021-06-22T07:15:14.113778Z",
     "iopub.status.busy": "2021-06-22T07:15:14.113448Z",
     "iopub.status.idle": "2021-06-22T07:15:14.119154Z",
     "shell.execute_reply": "2021-06-22T07:15:14.117508Z",
     "shell.execute_reply.started": "2021-06-22T07:15:14.113742Z"
    },
    "tags": []
   },
   "outputs": [],
   "source": [
    "'''\n",
    "%cd nbs\n",
    "!ln -s ../<libname> .\n",
    "%cd ..\n",
    "''';"
   ]
  }
 ],
 "metadata": {
  "kernelspec": {
   "display_name": "Python 3",
   "language": "python",
   "name": "python3"
  },
  "language_info": {
   "codemirror_mode": {
    "name": "ipython",
    "version": 3
   },
   "file_extension": ".py",
   "mimetype": "text/x-python",
   "name": "python",
   "nbconvert_exporter": "python",
   "pygments_lexer": "ipython3",
   "version": "3.7.4"
  }
 },
 "nbformat": 4,
 "nbformat_minor": 4
}
