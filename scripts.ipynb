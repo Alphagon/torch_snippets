{
 "cells": [
  {
   "cell_type": "markdown",
   "metadata": {},
   "source": [
    "### Parse all notebooks and update the library files"
   ]
  },
  {
   "cell_type": "code",
   "execution_count": 21,
   "metadata": {},
   "outputs": [
    {
     "name": "stdout",
     "output_type": "stream",
     "text": [
      "Converted charts.ipynb.\n",
      "Converted index.ipynb.\n",
      "Converted report.ipynb.\n",
      "Converted show.ipynb.\n"
     ]
    }
   ],
   "source": [
    "from nbdev.export import *\n",
    "notebook2script()"
   ]
  },
  {
   "cell_type": "markdown",
   "metadata": {},
   "source": [
    "### Parse all notebooks and update the docs"
   ]
  },
  {
   "cell_type": "code",
   "execution_count": 22,
   "metadata": {},
   "outputs": [
    {
     "data": {
      "text/html": [],
      "text/plain": [
       "<IPython.core.display.HTML object>"
      ]
     },
     "metadata": {},
     "output_type": "display_data"
    },
    {
     "name": "stdout",
     "output_type": "stream",
     "text": [
      "converting: /Users/yreddy31/Documents/github/torch_snippets/nbs/show.ipynb\n",
      "converting: /Users/yreddy31/Documents/github/torch_snippets/nbs/report.ipynb\n",
      "converting: /Users/yreddy31/Documents/github/torch_snippets/nbs/charts.ipynb\n",
      "converting: /Users/yreddy31/Documents/github/torch_snippets/nbs/index.ipynb\n",
      "Path('/Users/yreddy31/Documents/github/torch_snippets/nbs/../assets/demo.gif') and Path('/Users/yreddy31/Documents/github/torch_snippets/docs/../assets/demo.gif') are the same file\n",
      "Conversion failed on the following:\n",
      "index.ipynb\n",
      "converting /Users/yreddy31/Documents/github/torch_snippets/nbs/index.ipynb to README.md\n"
     ]
    }
   ],
   "source": [
    "from nbdev.export2html import nbdev_build_docs\n",
    "nbdev_build_docs()"
   ]
  },
  {
   "cell_type": "markdown",
   "metadata": {},
   "source": [
    "### Update the notebooks if there have been any adhoc changes (bug-fixes) directly made in library files"
   ]
  },
  {
   "cell_type": "code",
   "execution_count": null,
   "metadata": {},
   "outputs": [],
   "source": [
    "from nbdev.sync import nbdev_update_lib\n",
    "nbdev_update_lib()"
   ]
  },
  {
   "cell_type": "markdown",
   "metadata": {},
   "source": [
    "### Create a softlink"
   ]
  },
  {
   "cell_type": "code",
   "execution_count": 15,
   "metadata": {},
   "outputs": [
    {
     "name": "stdout",
     "output_type": "stream",
     "text": [
      "/Users/yreddy31/Documents/github/torch_snippets/nbs\n",
      "/bin/sh: libname: No such file or directory\n",
      "/Users/yreddy31/Documents/github/torch_snippets\n"
     ]
    }
   ],
   "source": [
    "%cd nbs\n",
    "!ln -s ../<libname> .\n",
    "%cd .."
   ]
  }
 ],
 "metadata": {
  "kernelspec": {
   "display_name": "Python 3",
   "language": "python",
   "name": "python3"
  },
  "language_info": {
   "codemirror_mode": {
    "name": "ipython",
    "version": 3
   },
   "file_extension": ".py",
   "mimetype": "text/x-python",
   "name": "python",
   "nbconvert_exporter": "python",
   "pygments_lexer": "ipython3",
   "version": "3.7.4"
  }
 },
 "nbformat": 4,
 "nbformat_minor": 4
}
