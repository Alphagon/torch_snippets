{
 "cells": [
  {
   "cell_type": "markdown",
   "metadata": {},
   "source": [
    "### Parse all notebooks and update the library files"
   ]
  },
  {
   "cell_type": "code",
   "execution_count": 17,
   "metadata": {
    "tags": []
   },
   "outputs": [
    {
     "name": "stdout",
     "output_type": "stream",
     "text": [
      "Converted charts.ipynb.\n",
      "Converted index.ipynb.\n",
      "Converted logging.ipynb.\n",
      "Converted markups.ipynb.\n",
      "Converted misc.ipynb.\n",
      "Converted paths.ipynb.\n",
      "Converted registry.ipynb.\n",
      "Converted report.ipynb.\n",
      "Converted show.ipynb.\n",
      "Converted sklegos.ipynb.\n"
     ]
    }
   ],
   "source": [
    "from nbdev.export import *\n",
    "notebook2script()"
   ]
  },
  {
   "cell_type": "markdown",
   "metadata": {},
   "source": [
    "### Parse all notebooks and update the docs"
   ]
  },
  {
   "cell_type": "code",
   "execution_count": 2,
   "metadata": {
    "tags": []
   },
   "outputs": [
    {
     "name": "stdout",
     "output_type": "stream",
     "text": [
      "converting: /mnt/d04d289c-d0a7-4fd4-b883-ff227b3a8695/githubs/torch_snippets/nbs/logging.ipynb\n"
     ]
    },
    {
     "name": "stderr",
     "output_type": "stream",
     "text": [
      "2021-12-12 16:38:18.580360: W tensorflow/stream_executor/platform/default/dso_loader.cc:64] Could not load dynamic library 'libcudart.so.11.0'; dlerror: libcudart.so.11.0: cannot open shared object file: No such file or directory; LD_LIBRARY_PATH: /home/yyr/anaconda3/lib/python3.7/site-packages/cv2/../../lib64:/usr/lib/cuda/lib64\n",
      "2021-12-12 16:38:18.580383: I tensorflow/stream_executor/cuda/cudart_stub.cc:29] Ignore above cudart dlerror if you do not have a GPU set up on your machine.\n"
     ]
    },
    {
     "name": "stdout",
     "output_type": "stream",
     "text": [
      "converting: /mnt/d04d289c-d0a7-4fd4-b883-ff227b3a8695/githubs/torch_snippets/nbs/paths.ipynb\n"
     ]
    },
    {
     "name": "stderr",
     "output_type": "stream",
     "text": [
      "2021-12-12 16:38:26.877457: W tensorflow/stream_executor/platform/default/dso_loader.cc:64] Could not load dynamic library 'libcudart.so.11.0'; dlerror: libcudart.so.11.0: cannot open shared object file: No such file or directory; LD_LIBRARY_PATH: /home/yyr/anaconda3/lib/python3.7/site-packages/cv2/../../lib64:/usr/lib/cuda/lib64\n",
      "2021-12-12 16:38:26.877477: I tensorflow/stream_executor/cuda/cudart_stub.cc:29] Ignore above cudart dlerror if you do not have a GPU set up on your machine.\n"
     ]
    },
    {
     "name": "stdout",
     "output_type": "stream",
     "text": [
      "converting: /mnt/d04d289c-d0a7-4fd4-b883-ff227b3a8695/githubs/torch_snippets/nbs/sklegos.ipynb\n"
     ]
    },
    {
     "name": "stderr",
     "output_type": "stream",
     "text": [
      "2021-12-12 16:38:33.181037: W tensorflow/stream_executor/platform/default/dso_loader.cc:64] Could not load dynamic library 'libcudart.so.11.0'; dlerror: libcudart.so.11.0: cannot open shared object file: No such file or directory; LD_LIBRARY_PATH: /home/yyr/anaconda3/lib/python3.7/site-packages/cv2/../../lib64:/usr/lib/cuda/lib64\n",
      "2021-12-12 16:38:33.181057: I tensorflow/stream_executor/cuda/cudart_stub.cc:29] Ignore above cudart dlerror if you do not have a GPU set up on your machine.\n",
      "2021-12-12 16:38:36.762905: W tensorflow/stream_executor/platform/default/dso_loader.cc:64] Could not load dynamic library 'libcudart.so.11.0'; dlerror: libcudart.so.11.0: cannot open shared object file: No such file or directory; LD_LIBRARY_PATH: /home/yyr/anaconda3/lib/python3.7/site-packages/cv2/../../lib64:/home/yyr/anaconda3/lib/python3.7/site-packages/cv2/../../lib64:/usr/lib/cuda/lib64\n",
      "2021-12-12 16:38:36.762940: I tensorflow/stream_executor/cuda/cudart_stub.cc:29] Ignore above cudart dlerror if you do not have a GPU set up on your machine.\n"
     ]
    },
    {
     "name": "stdout",
     "output_type": "stream",
     "text": [
      "converting: /mnt/d04d289c-d0a7-4fd4-b883-ff227b3a8695/githubs/torch_snippets/nbs/misc.ipynb\n",
      "converting: /mnt/d04d289c-d0a7-4fd4-b883-ff227b3a8695/githubs/torch_snippets/nbs/report.ipynb\n",
      "converting: /mnt/d04d289c-d0a7-4fd4-b883-ff227b3a8695/githubs/torch_snippets/nbs/registry.ipynb\n"
     ]
    },
    {
     "name": "stderr",
     "output_type": "stream",
     "text": [
      "2021-12-12 16:38:49.189339: W tensorflow/stream_executor/platform/default/dso_loader.cc:64] Could not load dynamic library 'libcudart.so.11.0'; dlerror: libcudart.so.11.0: cannot open shared object file: No such file or directory; LD_LIBRARY_PATH: /home/yyr/anaconda3/lib/python3.7/site-packages/cv2/../../lib64:/home/yyr/anaconda3/lib/python3.7/site-packages/cv2/../../lib64:/usr/lib/cuda/lib64\n",
      "2021-12-12 16:38:49.189360: I tensorflow/stream_executor/cuda/cudart_stub.cc:29] Ignore above cudart dlerror if you do not have a GPU set up on your machine.\n"
     ]
    },
    {
     "name": "stdout",
     "output_type": "stream",
     "text": [
      "converting: /mnt/d04d289c-d0a7-4fd4-b883-ff227b3a8695/githubs/torch_snippets/nbs/show.ipynb\n",
      "converting: /mnt/d04d289c-d0a7-4fd4-b883-ff227b3a8695/githubs/torch_snippets/nbs/charts.ipynb\n"
     ]
    },
    {
     "name": "stderr",
     "output_type": "stream",
     "text": [
      "2021-12-12 16:38:58.068699: W tensorflow/stream_executor/platform/default/dso_loader.cc:64] Could not load dynamic library 'libcudart.so.11.0'; dlerror: libcudart.so.11.0: cannot open shared object file: No such file or directory; LD_LIBRARY_PATH: /home/yyr/anaconda3/lib/python3.7/site-packages/cv2/../../lib64:/home/yyr/anaconda3/lib/python3.7/site-packages/cv2/../../lib64:/usr/lib/cuda/lib64\n",
      "2021-12-12 16:38:58.068721: I tensorflow/stream_executor/cuda/cudart_stub.cc:29] Ignore above cudart dlerror if you do not have a GPU set up on your machine.\n"
     ]
    },
    {
     "name": "stdout",
     "output_type": "stream",
     "text": [
      "converting: /mnt/d04d289c-d0a7-4fd4-b883-ff227b3a8695/githubs/torch_snippets/nbs/markups.ipynb\n"
     ]
    },
    {
     "name": "stderr",
     "output_type": "stream",
     "text": [
      "2021-12-12 16:39:05.559355: W tensorflow/stream_executor/platform/default/dso_loader.cc:64] Could not load dynamic library 'libcudart.so.11.0'; dlerror: libcudart.so.11.0: cannot open shared object file: No such file or directory; LD_LIBRARY_PATH: /home/yyr/anaconda3/lib/python3.7/site-packages/cv2/../../lib64:/home/yyr/anaconda3/lib/python3.7/site-packages/cv2/../../lib64:/usr/lib/cuda/lib64\n",
      "2021-12-12 16:39:05.559375: I tensorflow/stream_executor/cuda/cudart_stub.cc:29] Ignore above cudart dlerror if you do not have a GPU set up on your machine.\n"
     ]
    },
    {
     "name": "stdout",
     "output_type": "stream",
     "text": [
      "converting /mnt/d04d289c-d0a7-4fd4-b883-ff227b3a8695/githubs/torch_snippets/nbs/index.ipynb to README.md\n"
     ]
    }
   ],
   "source": [
    "from nbdev.export2html import nbdev_build_docs\n",
    "nbdev_build_docs(n_workers=0)"
   ]
  },
  {
   "cell_type": "markdown",
   "metadata": {},
   "source": [
    "### Update the notebooks if there have been any adhoc changes (bug-fixes) directly made in library files"
   ]
  },
  {
   "cell_type": "code",
   "execution_count": 3,
   "metadata": {
    "tags": []
   },
   "outputs": [
    {
     "name": "stdout",
     "output_type": "stream",
     "text": [
      "Converted registry.py.\n",
      "Converted charts.py.\n",
      "Converted logger.py.\n",
      "Converted markup.py.\n",
      "Converted paths.py.\n",
      "Converted sklegos.py.\n"
     ]
    }
   ],
   "source": [
    "from nbdev.sync import nbdev_update_lib\n",
    "nbdev_update_lib()"
   ]
  },
  {
   "cell_type": "code",
   "execution_count": 4,
   "metadata": {
    "tags": []
   },
   "outputs": [
    {
     "name": "stdout",
     "output_type": "stream",
     "text": [
      "rm -rf dist\n",
      "python setup.py sdist bdist_wheel\n",
      "/home/yyr/anaconda3/lib/python3.7/site-packages/setuptools/dist.py:720: UserWarning: Usage of dash-separated 'description-file' will not be supported in future versions. Please use the underscore name 'description_file' instead\n",
      "  % (opt, underscore_opt)\n",
      "running sdist\n",
      "running egg_info\n",
      "writing torch_snippets.egg-info/PKG-INFO\n",
      "writing dependency_links to torch_snippets.egg-info/dependency_links.txt\n",
      "writing entry points to torch_snippets.egg-info/entry_points.txt\n",
      "writing requirements to torch_snippets.egg-info/requires.txt\n",
      "writing top-level names to torch_snippets.egg-info/top_level.txt\n",
      "reading manifest file 'torch_snippets.egg-info/SOURCES.txt'\n",
      "reading manifest template 'MANIFEST.in'\n",
      "warning: no files found matching 'CONTRIBUTING.md'\n",
      "warning: no previously-included files matching '__pycache__' found under directory '*'\n",
      "adding license file 'LICENSE'\n",
      "adding license file 'LICENSE.txt'\n",
      "writing manifest file 'torch_snippets.egg-info/SOURCES.txt'\n",
      "running check\n",
      "creating torch_snippets-0.472\n",
      "creating torch_snippets-0.472/torch_snippets\n",
      "creating torch_snippets-0.472/torch_snippets.egg-info\n",
      "creating torch_snippets-0.472/torch_snippets/thinc_parser\n",
      "copying files to torch_snippets-0.472...\n",
      "copying LICENSE -> torch_snippets-0.472\n",
      "copying LICENSE.txt -> torch_snippets-0.472\n",
      "copying MANIFEST.in -> torch_snippets-0.472\n",
      "copying README.md -> torch_snippets-0.472\n",
      "copying settings.ini -> torch_snippets-0.472\n",
      "copying setup.cfg -> torch_snippets-0.472\n",
      "copying setup.py -> torch_snippets-0.472\n",
      "copying torch_snippets/__init__.py -> torch_snippets-0.472/torch_snippets\n",
      "copying torch_snippets/_nbdev.py -> torch_snippets-0.472/torch_snippets\n",
      "copying torch_snippets/charts.py -> torch_snippets-0.472/torch_snippets\n",
      "copying torch_snippets/fastcores.py -> torch_snippets-0.472/torch_snippets\n",
      "copying torch_snippets/loader.py -> torch_snippets-0.472/torch_snippets\n",
      "copying torch_snippets/logger.py -> torch_snippets-0.472/torch_snippets\n",
      "copying torch_snippets/markup.py -> torch_snippets-0.472/torch_snippets\n",
      "copying torch_snippets/misc.py -> torch_snippets-0.472/torch_snippets\n",
      "copying torch_snippets/paths.py -> torch_snippets-0.472/torch_snippets\n",
      "copying torch_snippets/registry.py -> torch_snippets-0.472/torch_snippets\n",
      "copying torch_snippets/sklegos.py -> torch_snippets-0.472/torch_snippets\n",
      "copying torch_snippets/torch_loader.py -> torch_snippets-0.472/torch_snippets\n",
      "copying torch_snippets.egg-info/PKG-INFO -> torch_snippets-0.472/torch_snippets.egg-info\n",
      "copying torch_snippets.egg-info/SOURCES.txt -> torch_snippets-0.472/torch_snippets.egg-info\n",
      "copying torch_snippets.egg-info/dependency_links.txt -> torch_snippets-0.472/torch_snippets.egg-info\n",
      "copying torch_snippets.egg-info/entry_points.txt -> torch_snippets-0.472/torch_snippets.egg-info\n",
      "copying torch_snippets.egg-info/not-zip-safe -> torch_snippets-0.472/torch_snippets.egg-info\n",
      "copying torch_snippets.egg-info/requires.txt -> torch_snippets-0.472/torch_snippets.egg-info\n",
      "copying torch_snippets.egg-info/top_level.txt -> torch_snippets-0.472/torch_snippets.egg-info\n",
      "copying torch_snippets/thinc_parser/__init__.py -> torch_snippets-0.472/torch_snippets/thinc_parser\n",
      "copying torch_snippets/thinc_parser/parser.py -> torch_snippets-0.472/torch_snippets/thinc_parser\n",
      "Writing torch_snippets-0.472/setup.cfg\n",
      "creating dist\n",
      "Creating tar archive\n",
      "removing 'torch_snippets-0.472' (and everything under it)\n",
      "running bdist_wheel\n",
      "running build\n",
      "running build_py\n",
      "copying torch_snippets/registry.py -> build/lib/torch_snippets\n",
      "copying torch_snippets/charts.py -> build/lib/torch_snippets\n",
      "copying torch_snippets/__init__.py -> build/lib/torch_snippets\n",
      "copying torch_snippets/logger.py -> build/lib/torch_snippets\n",
      "copying torch_snippets/markup.py -> build/lib/torch_snippets\n",
      "copying torch_snippets/paths.py -> build/lib/torch_snippets\n",
      "copying torch_snippets/sklegos.py -> build/lib/torch_snippets\n",
      "copying torch_snippets/_nbdev.py -> build/lib/torch_snippets\n",
      "copying torch_snippets/thinc_parser/parser.py -> build/lib/torch_snippets/thinc_parser\n",
      "/home/yyr/anaconda3/lib/python3.7/site-packages/setuptools/command/install.py:37: SetuptoolsDeprecationWarning: setup.py install is deprecated. Use build and pip and other standards-based tools.\n",
      "  setuptools.SetuptoolsDeprecationWarning,\n",
      "installing to build/bdist.linux-x86_64/wheel\n",
      "running install\n",
      "running install_lib\n",
      "creating build/bdist.linux-x86_64/wheel\n",
      "creating build/bdist.linux-x86_64/wheel/torch_snippets\n",
      "copying build/lib/torch_snippets/loader.py -> build/bdist.linux-x86_64/wheel/torch_snippets\n",
      "copying build/lib/torch_snippets/registry.py -> build/bdist.linux-x86_64/wheel/torch_snippets\n",
      "copying build/lib/torch_snippets/fastcores.py -> build/bdist.linux-x86_64/wheel/torch_snippets\n",
      "copying build/lib/torch_snippets/charts.py -> build/bdist.linux-x86_64/wheel/torch_snippets\n",
      "copying build/lib/torch_snippets/__init__.py -> build/bdist.linux-x86_64/wheel/torch_snippets\n",
      "copying build/lib/torch_snippets/misc.py -> build/bdist.linux-x86_64/wheel/torch_snippets\n",
      "copying build/lib/torch_snippets/logger.py -> build/bdist.linux-x86_64/wheel/torch_snippets\n",
      "copying build/lib/torch_snippets/markup.py -> build/bdist.linux-x86_64/wheel/torch_snippets\n",
      "creating build/bdist.linux-x86_64/wheel/torch_snippets/thinc_parser\n",
      "copying build/lib/torch_snippets/thinc_parser/__init__.py -> build/bdist.linux-x86_64/wheel/torch_snippets/thinc_parser\n",
      "copying build/lib/torch_snippets/thinc_parser/parser.py -> build/bdist.linux-x86_64/wheel/torch_snippets/thinc_parser\n",
      "copying build/lib/torch_snippets/markups.py -> build/bdist.linux-x86_64/wheel/torch_snippets\n",
      "copying build/lib/torch_snippets/paths.py -> build/bdist.linux-x86_64/wheel/torch_snippets\n",
      "copying build/lib/torch_snippets/sklegos.py -> build/bdist.linux-x86_64/wheel/torch_snippets\n",
      "copying build/lib/torch_snippets/torch_loader.py -> build/bdist.linux-x86_64/wheel/torch_snippets\n",
      "copying build/lib/torch_snippets/_nbdev.py -> build/bdist.linux-x86_64/wheel/torch_snippets\n",
      "running install_egg_info\n",
      "Copying torch_snippets.egg-info to build/bdist.linux-x86_64/wheel/torch_snippets-0.472-py3.7.egg-info\n",
      "running install_scripts\n",
      "adding license file \"LICENSE.txt\" (matched pattern \"LICEN[CS]E*\")\n",
      "adding license file \"LICENSE\" (matched pattern \"LICEN[CS]E*\")\n",
      "creating build/bdist.linux-x86_64/wheel/torch_snippets-0.472.dist-info/WHEEL\n",
      "creating 'dist/torch_snippets-0.472-py3-none-any.whl' and adding 'build/bdist.linux-x86_64/wheel' to it\n",
      "adding 'torch_snippets/__init__.py'\n",
      "adding 'torch_snippets/_nbdev.py'\n",
      "adding 'torch_snippets/charts.py'\n",
      "adding 'torch_snippets/fastcores.py'\n",
      "adding 'torch_snippets/loader.py'\n",
      "adding 'torch_snippets/logger.py'\n",
      "adding 'torch_snippets/markup.py'\n",
      "adding 'torch_snippets/markups.py'\n",
      "adding 'torch_snippets/misc.py'\n",
      "adding 'torch_snippets/paths.py'\n",
      "adding 'torch_snippets/registry.py'\n",
      "adding 'torch_snippets/sklegos.py'\n",
      "adding 'torch_snippets/torch_loader.py'\n",
      "adding 'torch_snippets/thinc_parser/__init__.py'\n",
      "adding 'torch_snippets/thinc_parser/parser.py'\n",
      "adding 'torch_snippets-0.472.dist-info/LICENSE'\n",
      "adding 'torch_snippets-0.472.dist-info/LICENSE.txt'\n",
      "adding 'torch_snippets-0.472.dist-info/METADATA'\n",
      "adding 'torch_snippets-0.472.dist-info/WHEEL'\n",
      "adding 'torch_snippets-0.472.dist-info/entry_points.txt'\n",
      "adding 'torch_snippets-0.472.dist-info/top_level.txt'\n",
      "adding 'torch_snippets-0.472.dist-info/RECORD'\n",
      "removing build/bdist.linux-x86_64/wheel\n",
      "twine upload --repository pypi dist/*\n",
      "Uploading distributions to https://upload.pypi.org/legacy/\n",
      "Uploading torch_snippets-0.472-py3-none-any.whl\n",
      "100%|██████████████████████████████████████| 52.1k/52.1k [00:02<00:00, 18.2kB/s]\n",
      "Uploading torch_snippets-0.472.tar.gz\n",
      "100%|██████████████████████████████████████| 48.0k/48.0k [00:02<00:00, 24.3kB/s]\n",
      "\n",
      "View at:\n",
      "https://pypi.org/project/torch-snippets/0.472/\n",
      "nbdev_conda_package\n",
      "nbdev_bump_version\n",
      "/bin/bash: nbdev_conda_package: command not found\n",
      "Old version: 0.472\n",
      "Traceback (most recent call last):\n",
      "  File \"/home/yyr/anaconda3/bin/nbdev_bump_version\", line 8, in <module>\n",
      "    sys.exit(nbdev_bump_version())\n",
      "  File \"/home/yyr/anaconda3/lib/python3.7/site-packages/fastcore/script.py\", line 107, in _f\n",
      "    tfunc(**merge(args, args_from_prog(func, xtra)))\n",
      "  File \"/home/yyr/anaconda3/lib/python3.7/site-packages/nbdev/cli.py\", line 31, in nbdev_bump_version\n",
      "    cfg.d['version'] = bump_version(get_config().version, part)\n",
      "  File \"/home/yyr/anaconda3/lib/python3.7/site-packages/nbdev/cli.py\", line 21, in bump_version\n",
      "    version[part] = str(int(version[part]) + 1)\n",
      "IndexError: list index out of range\n",
      "make: *** [Makefile:25: release] Error 1\n"
     ]
    }
   ],
   "source": [
    "!make release"
   ]
  },
  {
   "cell_type": "code",
   "execution_count": 11,
   "metadata": {},
   "outputs": [],
   "source": [
    "import os\n",
    "from ghapi.all import GhApi\n",
    "from torch_snippets.registry import parse_string\n",
    "from torch_snippets import readlines\n",
    "from numpy import round\n",
    "\n",
    "settings = parse_string('\\n'.join(readlines('settings.ini', silent=True)).replace('DEFAULT', 'root'))\n",
    "version = round(settings.root.version, 3)\n",
    "\n",
    "api = GhApi(\n",
    "    owner='sizhky',\n",
    "    repo='torch-snippets',\n",
    ")"
   ]
  },
  {
   "cell_type": "code",
   "execution_count": 12,
   "metadata": {},
   "outputs": [
    {
     "name": "stdout",
     "output_type": "stream",
     "text": [
      "On branch master\n",
      "Your branch is ahead of 'origin/master' by 1 commit.\n",
      "  (use \"git push\" to publish your local commits)\n",
      "\n",
      "nothing to commit, working tree clean\n"
     ]
    }
   ],
   "source": [
    "# api.git.create_commit(str(version), )\n",
    "!git add .\n",
    "!git commit -m {version}"
   ]
  },
  {
   "cell_type": "code",
   "execution_count": 4,
   "metadata": {},
   "outputs": [],
   "source": [
    "api.git.pus"
   ]
  },
  {
   "cell_type": "markdown",
   "metadata": {},
   "source": [
    "### Create a softlink"
   ]
  },
  {
   "cell_type": "markdown",
   "metadata": {
    "execution": {
     "iopub.execute_input": "2021-06-22T07:15:14.113778Z",
     "iopub.status.busy": "2021-06-22T07:15:14.113448Z",
     "iopub.status.idle": "2021-06-22T07:15:14.119154Z",
     "shell.execute_reply": "2021-06-22T07:15:14.117508Z",
     "shell.execute_reply.started": "2021-06-22T07:15:14.113742Z"
    },
    "tags": []
   },
   "source": [
    "```python\n",
    "%cd nbs\n",
    "!ln -s ../<libname> .\n",
    "%cd ..\n",
    "```"
   ]
  },
  {
   "cell_type": "code",
   "execution_count": 11,
   "metadata": {
    "execution": {
     "iopub.execute_input": "2021-11-08T13:31:05.600458Z",
     "iopub.status.busy": "2021-11-08T13:31:05.600145Z",
     "iopub.status.idle": "2021-11-08T13:31:15.468182Z",
     "shell.execute_reply": "2021-11-08T13:31:15.467227Z",
     "shell.execute_reply.started": "2021-11-08T13:31:05.600428Z"
    },
    "tags": []
   },
   "outputs": [
    {
     "name": "stdout",
     "output_type": "stream",
     "text": [
      "Converted charts.ipynb.\n",
      "Converted index.ipynb.\n",
      "Converted logging.ipynb.\n",
      "Converted markups.ipynb.\n",
      "Converted misc.ipynb.\n",
      "Converted paths.ipynb.\n",
      "Converted registry.ipynb.\n",
      "Converted report.ipynb.\n",
      "Converted show.ipynb.\n",
      "Converted sklegos.ipynb.\n",
      "Obtaining file:///Users/yreddy31/Documents/github/torch_snippets\n",
      "Requirement already satisfied: fastcore in /Users/yreddy31/anaconda3/lib/python3.7/site-packages (from torch-snippets==0.470) (1.3.26)\n",
      "Requirement already satisfied: matplotlib in /Users/yreddy31/anaconda3/lib/python3.7/site-packages (from torch-snippets==0.470) (3.3.4)\n",
      "Requirement already satisfied: Pillow in /Users/yreddy31/anaconda3/lib/python3.7/site-packages (from torch-snippets==0.470) (7.2.0)\n",
      "Requirement already satisfied: altair in /Users/yreddy31/anaconda3/lib/python3.7/site-packages (from torch-snippets==0.470) (4.1.0)\n",
      "Requirement already satisfied: dill in /Users/yreddy31/anaconda3/lib/python3.7/site-packages (from torch-snippets==0.470) (0.3.1.1)\n",
      "Requirement already satisfied: ipython in /Users/yreddy31/anaconda3/lib/python3.7/site-packages (from torch-snippets==0.470) (7.24.1)\n",
      "Requirement already satisfied: loguru in /Users/yreddy31/anaconda3/lib/python3.7/site-packages (from torch-snippets==0.470) (0.5.3)\n",
      "Requirement already satisfied: numpy in /Users/yreddy31/anaconda3/lib/python3.7/site-packages (from torch-snippets==0.470) (1.19.5)\n",
      "Requirement already satisfied: pandas in /Users/yreddy31/anaconda3/lib/python3.7/site-packages (from torch-snippets==0.470) (1.2.3)\n",
      "Requirement already satisfied: tqdm in /Users/yreddy31/anaconda3/lib/python3.7/site-packages (from torch-snippets==0.470) (4.62.1)\n",
      "Requirement already satisfied: rich in /Users/yreddy31/anaconda3/lib/python3.7/site-packages (from torch-snippets==0.470) (9.13.0)\n",
      "Requirement already satisfied: PyYAML in /Users/yreddy31/anaconda3/lib/python3.7/site-packages (from torch-snippets==0.470) (5.4.1)\n",
      "Requirement already satisfied: catalogue in /Users/yreddy31/anaconda3/lib/python3.7/site-packages (from torch-snippets==0.470) (2.0.1)\n",
      "Requirement already satisfied: pydantic in /Users/yreddy31/anaconda3/lib/python3.7/site-packages (from torch-snippets==0.470) (1.7.3)\n",
      "Requirement already satisfied: srsly in /Users/yreddy31/anaconda3/lib/python3.7/site-packages (from torch-snippets==0.470) (2.4.0)\n",
      "Requirement already satisfied: typing_extensions in /Users/yreddy31/anaconda3/lib/python3.7/site-packages (from torch-snippets==0.470) (3.7.4.3)\n",
      "Requirement already satisfied: wasabi in /Users/yreddy31/anaconda3/lib/python3.7/site-packages (from torch-snippets==0.470) (0.8.2)\n",
      "Requirement already satisfied: packaging in /Users/yreddy31/anaconda3/lib/python3.7/site-packages (from fastcore->torch-snippets==0.470) (20.9)\n",
      "Requirement already satisfied: pip in /Users/yreddy31/anaconda3/lib/python3.7/site-packages (from fastcore->torch-snippets==0.470) (19.2.3)\n",
      "Requirement already satisfied: cycler>=0.10 in /Users/yreddy31/anaconda3/lib/python3.7/site-packages (from matplotlib->torch-snippets==0.470) (0.10.0)\n",
      "Requirement already satisfied: kiwisolver>=1.0.1 in /Users/yreddy31/anaconda3/lib/python3.7/site-packages (from matplotlib->torch-snippets==0.470) (1.1.0)\n",
      "Requirement already satisfied: pyparsing!=2.0.4,!=2.1.2,!=2.1.6,>=2.0.3 in /Users/yreddy31/anaconda3/lib/python3.7/site-packages (from matplotlib->torch-snippets==0.470) (2.4.7)\n",
      "Requirement already satisfied: python-dateutil>=2.1 in /Users/yreddy31/anaconda3/lib/python3.7/site-packages (from matplotlib->torch-snippets==0.470) (2.8.1)\n",
      "Requirement already satisfied: jinja2 in /Users/yreddy31/anaconda3/lib/python3.7/site-packages (from altair->torch-snippets==0.470) (3.0.1)\n",
      "Requirement already satisfied: jsonschema in /Users/yreddy31/anaconda3/lib/python3.7/site-packages (from altair->torch-snippets==0.470) (3.2.0)\n",
      "Requirement already satisfied: toolz in /Users/yreddy31/anaconda3/lib/python3.7/site-packages (from altair->torch-snippets==0.470) (0.10.0)\n",
      "Requirement already satisfied: entrypoints in /Users/yreddy31/anaconda3/lib/python3.7/site-packages (from altair->torch-snippets==0.470) (0.3)\n",
      "Requirement already satisfied: jedi>=0.16 in /Users/yreddy31/anaconda3/lib/python3.7/site-packages (from ipython->torch-snippets==0.470) (0.18.0)\n",
      "Requirement already satisfied: matplotlib-inline in /Users/yreddy31/anaconda3/lib/python3.7/site-packages (from ipython->torch-snippets==0.470) (0.1.2)\n",
      "Requirement already satisfied: prompt-toolkit!=3.0.0,!=3.0.1,<3.1.0,>=2.0.0 in /Users/yreddy31/anaconda3/lib/python3.7/site-packages (from ipython->torch-snippets==0.470) (2.0.10)\n",
      "Requirement already satisfied: traitlets>=4.2 in /Users/yreddy31/anaconda3/lib/python3.7/site-packages (from ipython->torch-snippets==0.470) (5.0.5)\n",
      "Requirement already satisfied: pexpect>4.3; sys_platform != \"win32\" in /Users/yreddy31/anaconda3/lib/python3.7/site-packages (from ipython->torch-snippets==0.470) (4.8.0)\n",
      "Requirement already satisfied: setuptools>=18.5 in /Users/yreddy31/anaconda3/lib/python3.7/site-packages (from ipython->torch-snippets==0.470) (57.0.0)\n",
      "Requirement already satisfied: pickleshare in /Users/yreddy31/anaconda3/lib/python3.7/site-packages (from ipython->torch-snippets==0.470) (0.7.5)\n",
      "Requirement already satisfied: decorator in /Users/yreddy31/anaconda3/lib/python3.7/site-packages (from ipython->torch-snippets==0.470) (5.0.9)\n",
      "Requirement already satisfied: pygments in /Users/yreddy31/anaconda3/lib/python3.7/site-packages (from ipython->torch-snippets==0.470) (2.9.0)\n",
      "Requirement already satisfied: backcall in /Users/yreddy31/anaconda3/lib/python3.7/site-packages (from ipython->torch-snippets==0.470) (0.2.0)\n",
      "Requirement already satisfied: appnope; sys_platform == \"darwin\" in /Users/yreddy31/anaconda3/lib/python3.7/site-packages (from ipython->torch-snippets==0.470) (0.1.2)\n",
      "Requirement already satisfied: pytz>=2017.3 in /Users/yreddy31/anaconda3/lib/python3.7/site-packages (from pandas->torch-snippets==0.470) (2019.3)\n",
      "Requirement already satisfied: commonmark<0.10.0,>=0.9.0 in /Users/yreddy31/anaconda3/lib/python3.7/site-packages (from rich->torch-snippets==0.470) (0.9.1)\n",
      "Requirement already satisfied: colorama<0.5.0,>=0.4.0 in /Users/yreddy31/anaconda3/lib/python3.7/site-packages (from rich->torch-snippets==0.470) (0.4.4)\n",
      "Requirement already satisfied: importlib-metadata>=0.20; python_version < \"3.8\" in /Users/yreddy31/anaconda3/lib/python3.7/site-packages (from catalogue->torch-snippets==0.470) (4.5.0)\n",
      "Requirement already satisfied: six in /Users/yreddy31/anaconda3/lib/python3.7/site-packages (from cycler>=0.10->matplotlib->torch-snippets==0.470) (1.15.0)\n",
      "Requirement already satisfied: MarkupSafe>=2.0 in /Users/yreddy31/anaconda3/lib/python3.7/site-packages (from jinja2->altair->torch-snippets==0.470) (2.0.1)\n",
      "Requirement already satisfied: attrs>=17.4.0 in /Users/yreddy31/anaconda3/lib/python3.7/site-packages (from jsonschema->altair->torch-snippets==0.470) (21.2.0)\n",
      "Requirement already satisfied: pyrsistent>=0.14.0 in /Users/yreddy31/anaconda3/lib/python3.7/site-packages (from jsonschema->altair->torch-snippets==0.470) (0.17.3)\n",
      "Requirement already satisfied: parso<0.9.0,>=0.8.0 in /Users/yreddy31/anaconda3/lib/python3.7/site-packages (from jedi>=0.16->ipython->torch-snippets==0.470) (0.8.2)\n",
      "Requirement already satisfied: wcwidth in /Users/yreddy31/anaconda3/lib/python3.7/site-packages (from prompt-toolkit!=3.0.0,!=3.0.1,<3.1.0,>=2.0.0->ipython->torch-snippets==0.470) (0.2.5)\n",
      "Requirement already satisfied: ipython-genutils in /Users/yreddy31/anaconda3/lib/python3.7/site-packages (from traitlets>=4.2->ipython->torch-snippets==0.470) (0.2.0)\n",
      "Requirement already satisfied: ptyprocess>=0.5 in /Users/yreddy31/anaconda3/lib/python3.7/site-packages (from pexpect>4.3; sys_platform != \"win32\"->ipython->torch-snippets==0.470) (0.7.0)\n",
      "Requirement already satisfied: zipp>=0.5 in /Users/yreddy31/anaconda3/lib/python3.7/site-packages (from importlib-metadata>=0.20; python_version < \"3.8\"->catalogue->torch-snippets==0.470) (3.4.1)\n",
      "Installing collected packages: torch-snippets\n",
      "  Found existing installation: torch-snippets 0.469\n",
      "    Uninstalling torch-snippets-0.469:\n",
      "      Successfully uninstalled torch-snippets-0.469\n",
      "  Running setup.py develop for torch-snippets\n",
      "Successfully installed torch-snippets-0.468\n"
     ]
    }
   ],
   "source": [
    "from nbdev.export import *\n",
    "notebook2script()\n",
    "!pip install -e ."
   ]
  },
  {
   "cell_type": "code",
   "execution_count": null,
   "metadata": {},
   "outputs": [],
   "source": []
  }
 ],
 "metadata": {
  "kernelspec": {
   "display_name": "Python 3 (ipykernel)",
   "language": "python",
   "name": "python3"
  },
  "language_info": {
   "codemirror_mode": {
    "name": "ipython",
    "version": 3
   },
   "file_extension": ".py",
   "mimetype": "text/x-python",
   "name": "python",
   "nbconvert_exporter": "python",
   "pygments_lexer": "ipython3",
   "version": "3.7.6"
  }
 },
 "nbformat": 4,
 "nbformat_minor": 4
}
