{
 "cells": [
  {
   "cell_type": "code",
   "execution_count": null,
   "id": "f99425b1",
   "metadata": {},
   "outputs": [
    {
     "data": {
      "text/html": [
       "<pre style=\"white-space:pre;overflow-x:auto;line-height:normal;font-family:Menlo,'DejaVu Sans Mono',consolas,'Courier New',monospace\"><span style=\"color: #008080; text-decoration-color: #008080; font-weight: bold\">3.5508437156677246</span>\n",
       "</pre>\n"
      ],
      "text/plain": [
       "\u001b[1;36m3.5508437156677246\u001b[0m\n"
      ]
     },
     "metadata": {},
     "output_type": "display_data"
    }
   ],
   "source": [
    "%reload_ext autoreload\n",
    "%autoreload 2\n",
    "\n",
    "import time\n",
    "\n",
    "start = time.time()\n",
    "from torch_snippets import *\n",
    "end = time.time()\n",
    "print(end-start)"
   ]
  },
  {
   "cell_type": "code",
   "execution_count": null,
   "id": "aed640cc",
   "metadata": {},
   "outputs": [
    {
     "name": "stdout",
     "output_type": "stream",
     "text": [
      "5/5 (1.02s - 0.20s remaining - 4.92 iters/s)          \r"
     ]
    }
   ],
   "source": [
    "from torch_snippets.misc import Timer\n",
    "import time\n",
    "\n",
    "n = 5\n",
    "x = Timer(n)\n",
    "for i in range(n):\n",
    "    time.sleep(0.2)\n",
    "    x()"
   ]
  },
  {
   "cell_type": "code",
   "execution_count": null,
   "id": "f946c646",
   "metadata": {},
   "outputs": [
    {
     "name": "stdout",
     "output_type": "stream",
     "text": [
      "Writing tmp.txt\n"
     ]
    }
   ],
   "source": [
    "%%writefile tmp.txt\n",
    "a\n",
    "batchify\n",
    "callable\n",
    "dcopy"
   ]
  },
  {
   "cell_type": "code",
   "execution_count": null,
   "id": "2b687ed2",
   "metadata": {},
   "outputs": [
    {
     "name": "stdout",
     "output_type": "stream",
     "text": [
      "you want to remove tmp.txt? [y/N]y\n"
     ]
    }
   ],
   "source": [
    "P('tmp.txt').rm('you want to remove {self}? [y/N]')"
   ]
  },
  {
   "cell_type": "code",
   "execution_count": null,
   "id": "eeb65a2c",
   "metadata": {},
   "outputs": [
    {
     "data": {
      "application/javascript": [
       "IPython.notebook.save_checkpoint();"
      ],
      "text/plain": [
       "<IPython.core.display.Javascript object>"
      ]
     },
     "metadata": {},
     "output_type": "display_data"
    },
    {
     "data": {
      "text/html": [
       "<pre style=\"white-space:pre;overflow-x:auto;line-height:normal;font-family:Menlo,'DejaVu Sans Mono',consolas,'Courier New',monospace\"><span style=\"color: #7fbfbf; text-decoration-color: #7fbfbf\">[03/05/23 00:24:48] </span><span style=\"color: #bfbf7f; text-decoration-color: #bfbf7f\">INFO    </span> Saved the notebook at scripts.ipynb!                       <a href=\"file:///Users/yeshwanth.y/code/torch_snippets/torch_snippets/ipython.py\" target=\"_blank\"><span style=\"color: #7f7f7f; text-decoration-color: #7f7f7f\">ipython.py</span></a><span style=\"color: #7f7f7f; text-decoration-color: #7f7f7f\">:</span><a href=\"file:///Users/yeshwanth.y/code/torch_snippets/torch_snippets/ipython.py#save_notebook:37\" target=\"_blank\"><span style=\"color: #7f7f7f; text-decoration-color: #7f7f7f\">save_notebook:37</span></a>\n",
       "</pre>\n"
      ],
      "text/plain": [
       "\u001b[2;36m[03/05/23 00:24:48]\u001b[0m\u001b[2;36m \u001b[0m\u001b[2;33mINFO    \u001b[0m Saved the notebook at scripts.ipynb!                       \u001b]8;id=85162;file:///Users/yeshwanth.y/code/torch_snippets/torch_snippets/ipython.py\u001b\\\u001b[2mipython.py\u001b[0m\u001b]8;;\u001b\\\u001b[2m:\u001b[0m\u001b]8;id=535778;file:///Users/yeshwanth.y/code/torch_snippets/torch_snippets/ipython.py#save_notebook:37\u001b\\\u001b[2msave_notebook:37\u001b[0m\u001b]8;;\u001b\\\n"
      ]
     },
     "metadata": {},
     "output_type": "display_data"
    },
    {
     "data": {
      "text/html": [
       "<pre style=\"white-space:pre;overflow-x:auto;line-height:normal;font-family:Menlo,'DejaVu Sans Mono',consolas,'Courier New',monospace\"><span style=\"color: #7fbfbf; text-decoration-color: #7fbfbf\">                    </span><span style=\"color: #bfbf7f; text-decoration-color: #bfbf7f\">INFO    </span> Backed a new version of notebook at                 <a href=\"file:///Users/yeshwanth.y/code/torch_snippets/torch_snippets/ipython.py\" target=\"_blank\"><span style=\"color: #7f7f7f; text-decoration-color: #7f7f7f\">ipython.py</span></a><span style=\"color: #7f7f7f; text-decoration-color: #7f7f7f\">:</span><a href=\"file:///Users/yeshwanth.y/code/torch_snippets/torch_snippets/ipython.py#backup_this_notebook:55\" target=\"_blank\"><span style=\"color: #7f7f7f; text-decoration-color: #7f7f7f\">backup_this_notebook:55</span></a>\n",
       "<span style=\"color: #7fbfbf; text-decoration-color: #7fbfbf\">                    </span>         <span style=\"color: #800080; text-decoration-color: #800080\">/tmp/scripts/</span><span style=\"color: #ff00ff; text-decoration-color: #ff00ff\">0000.html</span>                              <span style=\"color: #7f7f7f; text-decoration-color: #7f7f7f\">                                  </span>\n",
       "</pre>\n"
      ],
      "text/plain": [
       "\u001b[2;36m                   \u001b[0m\u001b[2;36m \u001b[0m\u001b[2;33mINFO    \u001b[0m Backed a new version of notebook at                 \u001b]8;id=11285;file:///Users/yeshwanth.y/code/torch_snippets/torch_snippets/ipython.py\u001b\\\u001b[2mipython.py\u001b[0m\u001b]8;;\u001b\\\u001b[2m:\u001b[0m\u001b]8;id=612420;file:///Users/yeshwanth.y/code/torch_snippets/torch_snippets/ipython.py#backup_this_notebook:55\u001b\\\u001b[2mbackup_this_notebook:55\u001b[0m\u001b]8;;\u001b\\\n",
       "\u001b[2;36m                    \u001b[0m         \u001b[35m/tmp/scripts/\u001b[0m\u001b[95m0000.html\u001b[0m                              \u001b[2m                                  \u001b[0m\n"
      ]
     },
     "metadata": {},
     "output_type": "display_data"
    }
   ],
   "source": [
    "from torch_snippets.ipython import backup_this_notebook\n",
    "\n",
    "backup_this_notebook('scripts.ipynb', '/tmp/scripts')"
   ]
  },
  {
   "cell_type": "code",
   "execution_count": null,
   "id": "86f23f50",
   "metadata": {},
   "outputs": [],
   "source": []
  }
 ],
 "metadata": {
  "kernelspec": {
   "display_name": "Python 3 (ipykernel)",
   "language": "python",
   "name": "python3"
  }
 },
 "nbformat": 4,
 "nbformat_minor": 5
}
