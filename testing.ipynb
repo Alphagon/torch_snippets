{
 "cells": [
  {
   "cell_type": "code",
   "execution_count": 1,
   "id": "1e9abf8d-80c7-47a7-93d0-4de3af63ce40",
   "metadata": {
    "tags": []
   },
   "outputs": [],
   "source": [
    "%load_ext autoreload\n",
    "%autoreload 2\n",
    "\n",
    "from torch_snippets.markup import AttrDict"
   ]
  },
  {
   "cell_type": "code",
   "execution_count": 2,
   "id": "852f9c57-fcdf-45bb-b1a9-8bec65ab5da2",
   "metadata": {
    "tags": []
   },
   "outputs": [],
   "source": [
    "x = AttrDict({'abc': {'dev': 10}})"
   ]
  },
  {
   "cell_type": "code",
   "execution_count": 4,
   "id": "af046ea1-13f6-4b47-a053-d361ae08cb30",
   "metadata": {},
   "outputs": [
    {
     "data": {
      "text/plain": [
       "10"
      ]
     },
     "execution_count": 4,
     "metadata": {},
     "output_type": "execute_result"
    }
   ],
   "source": [
    "x.abc.dev"
   ]
  },
  {
   "cell_type": "code",
   "execution_count": null,
   "id": "2609d9f8-90d5-4e05-aa37-a7c51ae41062",
   "metadata": {},
   "outputs": [],
   "source": []
  }
 ],
 "metadata": {
  "kernelspec": {
   "display_name": "Python 3 (ipykernel)",
   "language": "python",
   "name": "python3"
  },
  "language_info": {
   "codemirror_mode": {
    "name": "ipython",
    "version": 3
   },
   "file_extension": ".py",
   "mimetype": "text/x-python",
   "name": "python",
   "nbconvert_exporter": "python",
   "pygments_lexer": "ipython3",
   "version": "3.9.5"
  }
 },
 "nbformat": 4,
 "nbformat_minor": 5
}
