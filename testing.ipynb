{
 "cells": [
  {
   "cell_type": "code",
   "execution_count": 1,
   "id": "1e9abf8d-80c7-47a7-93d0-4de3af63ce40",
   "metadata": {
    "execution": {
     "iopub.execute_input": "2021-08-17T04:16:14.089394Z",
     "iopub.status.busy": "2021-08-17T04:16:14.079365Z",
     "iopub.status.idle": "2021-08-17T04:16:17.573241Z",
     "shell.execute_reply": "2021-08-17T04:16:17.572612Z",
     "shell.execute_reply.started": "2021-08-17T04:16:14.081109Z"
    },
    "tags": []
   },
   "outputs": [],
   "source": [
    "%load_ext autoreload\n",
    "%autoreload 2\n",
    "\n",
    "from torch_snippets import *\n",
    "from torch_snippets.registry import *"
   ]
  },
  {
   "cell_type": "code",
   "execution_count": 2,
   "id": "852f9c57-fcdf-45bb-b1a9-8bec65ab5da2",
   "metadata": {
    "execution": {
     "iopub.execute_input": "2021-08-17T04:16:29.720619Z",
     "iopub.status.busy": "2021-08-17T04:16:29.720324Z",
     "iopub.status.idle": "2021-08-17T04:16:29.791619Z",
     "shell.execute_reply": "2021-08-17T04:16:29.790879Z",
     "shell.execute_reply.started": "2021-08-17T04:16:29.720590Z"
    },
    "tags": []
   },
   "outputs": [
    {
     "data": {
      "text/plain": [
       "False"
      ]
     },
     "execution_count": 2,
     "metadata": {},
     "output_type": "execute_result"
    }
   ],
   "source": []
  },
  {
   "cell_type": "code",
   "execution_count": null,
   "id": "eabb93f9-5df4-494a-b439-f1360bc52d78",
   "metadata": {},
   "outputs": [],
   "source": []
  }
 ],
 "metadata": {
  "kernelspec": {
   "display_name": "Python 3",
   "language": "python",
   "name": "python3"
  },
  "language_info": {
   "codemirror_mode": {
    "name": "ipython",
    "version": 3
   },
   "file_extension": ".py",
   "mimetype": "text/x-python",
   "name": "python",
   "nbconvert_exporter": "python",
   "pygments_lexer": "ipython3",
   "version": "3.7.4"
  }
 },
 "nbformat": 4,
 "nbformat_minor": 5
}
