{
 "cells": [
  {
   "cell_type": "code",
   "execution_count": 1,
   "id": "1e9abf8d-80c7-47a7-93d0-4de3af63ce40",
   "metadata": {
    "execution": {
     "iopub.execute_input": "2021-08-23T13:06:52.575328Z",
     "iopub.status.busy": "2021-08-23T13:06:52.574849Z",
     "iopub.status.idle": "2021-08-23T13:06:54.581089Z",
     "shell.execute_reply": "2021-08-23T13:06:54.580511Z",
     "shell.execute_reply.started": "2021-08-23T13:06:52.575241Z"
    },
    "tags": []
   },
   "outputs": [],
   "source": [
    "%load_ext autoreload\n",
    "%autoreload 2\n",
    "\n",
    "from torch_snippets import *\n",
    "from torch_snippets.registry import *"
   ]
  },
  {
   "cell_type": "code",
   "execution_count": 2,
   "id": "852f9c57-fcdf-45bb-b1a9-8bec65ab5da2",
   "metadata": {
    "execution": {
     "iopub.execute_input": "2021-08-23T13:06:54.582976Z",
     "iopub.status.busy": "2021-08-23T13:06:54.582751Z",
     "iopub.status.idle": "2021-08-23T13:06:54.639497Z",
     "shell.execute_reply": "2021-08-23T13:06:54.638746Z",
     "shell.execute_reply.started": "2021-08-23T13:06:54.582953Z"
    },
    "tags": []
   },
   "outputs": [
    {
     "name": "stderr",
     "output_type": "stream",
     "text": [
      "2021-08-23 18:36:54.635 | INFO     | __main__:<module>:1 - 1\n"
     ]
    }
   ],
   "source": [
    "Info(1)"
   ]
  },
  {
   "cell_type": "code",
   "execution_count": null,
   "id": "eabb93f9-5df4-494a-b439-f1360bc52d78",
   "metadata": {},
   "outputs": [],
   "source": []
  }
 ],
 "metadata": {
  "kernelspec": {
   "display_name": "Python 3",
   "language": "python",
   "name": "python3"
  },
  "language_info": {
   "codemirror_mode": {
    "name": "ipython",
    "version": 3
   },
   "file_extension": ".py",
   "mimetype": "text/x-python",
   "name": "python",
   "nbconvert_exporter": "python",
   "pygments_lexer": "ipython3",
   "version": "3.7.6"
  }
 },
 "nbformat": 4,
 "nbformat_minor": 5
}
