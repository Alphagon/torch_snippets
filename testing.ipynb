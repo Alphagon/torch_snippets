{
 "cells": [
  {
   "cell_type": "code",
   "execution_count": 1,
   "id": "f99425b1",
   "metadata": {},
   "outputs": [
    {
     "data": {
      "text/html": [
       "<pre style=\"white-space:pre;overflow-x:auto;line-height:normal;font-family:Menlo,'DejaVu Sans Mono',consolas,'Courier New',monospace\"><span style=\"color: #008080; text-decoration-color: #008080; font-weight: bold\">3.249058961868286</span>\n",
       "</pre>\n"
      ],
      "text/plain": [
       "\u001b[1;36m3.249058961868286\u001b[0m\n"
      ]
     },
     "metadata": {},
     "output_type": "display_data"
    }
   ],
   "source": [
    "%reload_ext autoreload\n",
    "%autoreload 2\n",
    "\n",
    "import time\n",
    "\n",
    "start = time.time()\n",
    "from torch_snippets import *\n",
    "end = time.time()\n",
    "print(end-start)"
   ]
  },
  {
   "cell_type": "code",
   "execution_count": 7,
   "id": "aed640cc",
   "metadata": {},
   "outputs": [
    {
     "name": "stdout",
     "output_type": "stream",
     "text": [
      "50/50 (10.17s - 0.20s remaining - 4.92 item/s)          \r"
     ]
    }
   ],
   "source": [
    "from torch_snippets.misc import Timer\n",
    "import time\n",
    "\n",
    "n = 50\n",
    "x = Timer(n)\n",
    "for i in range(n):\n",
    "    time.sleep(0.2)\n",
    "    x()"
   ]
  },
  {
   "cell_type": "code",
   "execution_count": 4,
   "id": "f946c646",
   "metadata": {},
   "outputs": [
    {
     "name": "stdout",
     "output_type": "stream",
     "text": [
      "Writing tmp.txt\n"
     ]
    }
   ],
   "source": [
    "%%writefile tmp.txt\n",
    "a\n",
    "batchify\n",
    "callable\n",
    "dcopy"
   ]
  },
  {
   "cell_type": "code",
   "execution_count": 5,
   "id": "2b687ed2",
   "metadata": {},
   "outputs": [],
   "source": [
    "P('tmp.txt').rm('you want to remove {self}? [y/N]')"
   ]
  },
  {
   "cell_type": "code",
   "execution_count": null,
   "id": "eeb65a2c",
   "metadata": {},
   "outputs": [],
   "source": []
  }
 ],
 "metadata": {
  "kernelspec": {
   "display_name": "mdm",
   "language": "python",
   "name": "python3"
  },
  "language_info": {
   "codemirror_mode": {
    "name": "ipython",
    "version": 3
   },
   "file_extension": ".py",
   "mimetype": "text/x-python",
   "name": "python",
   "nbconvert_exporter": "python",
   "pygments_lexer": "ipython3",
   "version": "3.8.15"
  },
  "vscode": {
   "interpreter": {
    "hash": "6b6ea07c3428539b6f2e73b58ccfbe441e6932da93cb0b63ea798c577834408a"
   }
  }
 },
 "nbformat": 4,
 "nbformat_minor": 5
}
