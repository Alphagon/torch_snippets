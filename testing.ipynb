{
 "cells": [
  {
   "cell_type": "code",
   "execution_count": 1,
   "id": "f99425b1",
   "metadata": {},
   "outputs": [
    {
     "data": {
      "text/html": [
       "<pre style=\"white-space:pre;overflow-x:auto;line-height:normal;font-family:Menlo,'DejaVu Sans Mono',consolas,'Courier New',monospace\">.loader <span style=\"color: #008080; text-decoration-color: #008080; font-weight: bold\">3.6728403568267822</span>\n",
       "</pre>\n"
      ],
      "text/plain": [
       ".loader \u001b[1;36m3.6728403568267822\u001b[0m\n"
      ]
     },
     "metadata": {},
     "output_type": "display_data"
    },
    {
     "data": {
      "text/html": [
       "<pre style=\"white-space:pre;overflow-x:auto;line-height:normal;font-family:Menlo,'DejaVu Sans Mono',consolas,'Courier New',monospace\">.charts <span style=\"color: #008080; text-decoration-color: #008080; font-weight: bold\">0.18240594863891602</span>\n",
       "</pre>\n"
      ],
      "text/plain": [
       ".charts \u001b[1;36m0.18240594863891602\u001b[0m\n"
      ]
     },
     "metadata": {},
     "output_type": "display_data"
    },
    {
     "data": {
      "text/html": [
       "<pre style=\"white-space:pre;overflow-x:auto;line-height:normal;font-family:Menlo,'DejaVu Sans Mono',consolas,'Courier New',monospace\">.paths <span style=\"color: #008080; text-decoration-color: #008080; font-weight: bold\">0.0018169879913330078</span>\n",
       "</pre>\n"
      ],
      "text/plain": [
       ".paths \u001b[1;36m0.0018169879913330078\u001b[0m\n"
      ]
     },
     "metadata": {},
     "output_type": "display_data"
    },
    {
     "data": {
      "text/html": [
       "<pre style=\"white-space:pre;overflow-x:auto;line-height:normal;font-family:Menlo,'DejaVu Sans Mono',consolas,'Courier New',monospace\">.markup <span style=\"color: #008080; text-decoration-color: #008080; font-weight: bold\">0.2538912296295166</span>\n",
       "</pre>\n"
      ],
      "text/plain": [
       ".markup \u001b[1;36m0.2538912296295166\u001b[0m\n"
      ]
     },
     "metadata": {},
     "output_type": "display_data"
    },
    {
     "data": {
      "text/html": [
       "<pre style=\"white-space:pre;overflow-x:auto;line-height:normal;font-family:Menlo,'DejaVu Sans Mono',consolas,'Courier New',monospace\">.inspector <span style=\"color: #008080; text-decoration-color: #008080; font-weight: bold\">0.0007202625274658203</span>\n",
       "</pre>\n"
      ],
      "text/plain": [
       ".inspector \u001b[1;36m0.0007202625274658203\u001b[0m\n"
      ]
     },
     "metadata": {},
     "output_type": "display_data"
    },
    {
     "data": {
      "text/html": [
       "<pre style=\"white-space:pre;overflow-x:auto;line-height:normal;font-family:Menlo,'DejaVu Sans Mono',consolas,'Courier New',monospace\">.load_defaults <span style=\"color: #008080; text-decoration-color: #008080; font-weight: bold\">0.0004379749298095703</span>\n",
       "</pre>\n"
      ],
      "text/plain": [
       ".load_defaults \u001b[1;36m0.0004379749298095703\u001b[0m\n"
      ]
     },
     "metadata": {},
     "output_type": "display_data"
    },
    {
     "data": {
      "text/html": [
       "<pre style=\"white-space:pre;overflow-x:auto;line-height:normal;font-family:Menlo,'DejaVu Sans Mono',consolas,'Courier New',monospace\">.pdf_lader <span style=\"color: #008080; text-decoration-color: #008080; font-weight: bold\">0.002458333969116211</span>\n",
       "</pre>\n"
      ],
      "text/plain": [
       ".pdf_lader \u001b[1;36m0.002458333969116211\u001b[0m\n"
      ]
     },
     "metadata": {},
     "output_type": "display_data"
    },
    {
     "data": {
      "text/html": [
       "<pre style=\"white-space:pre;overflow-x:auto;line-height:normal;font-family:Menlo,'DejaVu Sans Mono',consolas,'Courier New',monospace\">.torch_loader <span style=\"color: #008080; text-decoration-color: #008080; font-weight: bold\">0.17966985702514648</span>\n",
       "</pre>\n"
      ],
      "text/plain": [
       ".torch_loader \u001b[1;36m0.17966985702514648\u001b[0m\n"
      ]
     },
     "metadata": {},
     "output_type": "display_data"
    },
    {
     "data": {
      "text/html": [
       "<pre style=\"white-space:pre;overflow-x:auto;line-height:normal;font-family:Menlo,'DejaVu Sans Mono',consolas,'Courier New',monospace\">.sklegos <span style=\"color: #008080; text-decoration-color: #008080; font-weight: bold\">0.5495610237121582</span>\n",
       "</pre>\n"
      ],
      "text/plain": [
       ".sklegos \u001b[1;36m0.5495610237121582\u001b[0m\n"
      ]
     },
     "metadata": {},
     "output_type": "display_data"
    },
    {
     "data": {
      "text/html": [
       "<pre style=\"white-space:pre;overflow-x:auto;line-height:normal;font-family:Menlo,'DejaVu Sans Mono',consolas,'Courier New',monospace\">.imgaug_loader <span style=\"color: #008080; text-decoration-color: #008080; font-weight: bold\">0.1641850471496582</span>\n",
       "</pre>\n"
      ],
      "text/plain": [
       ".imgaug_loader \u001b[1;36m0.1641850471496582\u001b[0m\n"
      ]
     },
     "metadata": {},
     "output_type": "display_data"
    },
    {
     "data": {
      "text/html": [
       "<pre style=\"white-space:pre;overflow-x:auto;line-height:normal;font-family:Menlo,'DejaVu Sans Mono',consolas,'Courier New',monospace\"><span style=\"color: #008080; text-decoration-color: #008080; font-weight: bold\">0.00012922286987304688</span>\n",
       "</pre>\n"
      ],
      "text/plain": [
       "\u001b[1;36m0.00012922286987304688\u001b[0m\n"
      ]
     },
     "metadata": {},
     "output_type": "display_data"
    }
   ],
   "source": [
    "%reload_ext autoreload\n",
    "%autoreload 2\n",
    "\n",
    "import time\n",
    "\n",
    "start = time.time()\n",
    "from torch_snippets import *\n",
    "end = time.time()\n",
    "print(end-start)"
   ]
  },
  {
   "cell_type": "code",
   "execution_count": null,
   "id": "f946c646",
   "metadata": {},
   "outputs": [],
   "source": []
  }
 ],
 "metadata": {
  "interpreter": {
   "hash": "0a92af74ccf65e106ae96852a45a9b0a5e11a3c414a16fc8bb2d134868e55bfd"
  },
  "kernelspec": {
   "display_name": "Python 3 (ipykernel)",
   "language": "python",
   "name": "python3"
  },
  "language_info": {
   "codemirror_mode": {
    "name": "ipython",
    "version": 3
   },
   "file_extension": ".py",
   "mimetype": "text/x-python",
   "name": "python",
   "nbconvert_exporter": "python",
   "pygments_lexer": "ipython3",
   "version": "3.9.9"
  }
 },
 "nbformat": 4,
 "nbformat_minor": 5
}
