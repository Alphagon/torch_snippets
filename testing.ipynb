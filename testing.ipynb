{
 "cells": [
  {
   "cell_type": "code",
   "execution_count": 1,
   "id": "1e9abf8d-80c7-47a7-93d0-4de3af63ce40",
   "metadata": {
    "tags": []
   },
   "outputs": [],
   "source": [
    "%load_ext autoreload\n",
    "%autoreload 2\n",
    "\n",
    "from torch_snippets import *"
   ]
  },
  {
   "cell_type": "code",
   "execution_count": 2,
   "id": "852f9c57-fcdf-45bb-b1a9-8bec65ab5da2",
   "metadata": {
    "tags": []
   },
   "outputs": [],
   "source": [
    "x = AttrDict({'abc': {'dev': 10}})"
   ]
  },
  {
   "cell_type": "code",
   "execution_count": 3,
   "id": "af046ea1-13f6-4b47-a053-d361ae08cb30",
   "metadata": {},
   "outputs": [
    {
     "data": {
      "text/plain": [
       "True"
      ]
     },
     "execution_count": 3,
     "metadata": {},
     "output_type": "execute_result"
    }
   ],
   "source": [
    "x.abc.dev\n",
    "\n",
    "'dev' in x.abc"
   ]
  },
  {
   "cell_type": "code",
   "execution_count": 4,
   "id": "2609d9f8-90d5-4e05-aa37-a7c51ae41062",
   "metadata": {},
   "outputs": [
    {
     "name": "stdout",
     "output_type": "stream",
     "text": [
      "\tDict Of 1 items\n",
      "\t\tABC:\n",
      "\t\tDict Of 1 items\n",
      "\t\t\tDEV:\n",
      "\t\t\tint: 10\n"
     ]
    }
   ],
   "source": [
    "inspect(x)"
   ]
  },
  {
   "cell_type": "code",
   "execution_count": 6,
   "id": "3536c896",
   "metadata": {},
   "outputs": [
    {
     "name": "stdout",
     "output_type": "stream",
     "text": [
      "{\n",
      "    \"abc\": {}\n",
      "}\n"
     ]
    }
   ],
   "source": [
    "x.drop('dev')\n",
    "x.pretty()"
   ]
  },
  {
   "cell_type": "code",
   "execution_count": 10,
   "id": "7137772c",
   "metadata": {},
   "outputs": [
    {
     "data": {
      "text/plain": [
       "2"
      ]
     },
     "execution_count": 10,
     "metadata": {},
     "output_type": "execute_result"
    }
   ],
   "source": [
    "pdf = PDF('/Users/yeshwanth.y/Documents/personal-vault/Career/Documents/618_YeshwanthReddyYerraguntla _CEE.pdf')\n",
    "len(pdf)"
   ]
  },
  {
   "cell_type": "code",
   "execution_count": null,
   "id": "f13ee310",
   "metadata": {},
   "outputs": [],
   "source": []
  }
 ],
 "metadata": {
  "interpreter": {
   "hash": "0a92af74ccf65e106ae96852a45a9b0a5e11a3c414a16fc8bb2d134868e55bfd"
  },
  "kernelspec": {
   "display_name": "Python 3.9.9 ('base')",
   "language": "python",
   "name": "python3"
  },
  "language_info": {
   "codemirror_mode": {
    "name": "ipython",
    "version": 3
   },
   "file_extension": ".py",
   "mimetype": "text/x-python",
   "name": "python",
   "nbconvert_exporter": "python",
   "pygments_lexer": "ipython3",
   "version": "3.9.9"
  }
 },
 "nbformat": 4,
 "nbformat_minor": 5
}
