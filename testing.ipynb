{
 "cells": [
  {
   "cell_type": "code",
   "execution_count": 1,
   "id": "f99425b1",
   "metadata": {},
   "outputs": [
    {
     "data": {
      "text/html": [
       "<pre style=\"white-space:pre;overflow-x:auto;line-height:normal;font-family:Menlo,'DejaVu Sans Mono',consolas,'Courier New',monospace\"><span style=\"color: #008080; text-decoration-color: #008080; font-weight: bold\">3.72330379486084</span>\n",
       "</pre>\n"
      ],
      "text/plain": [
       "\u001b[1;36m3.72330379486084\u001b[0m\n"
      ]
     },
     "metadata": {},
     "output_type": "display_data"
    }
   ],
   "source": [
    "%reload_ext autoreload\n",
    "%autoreload 2\n",
    "\n",
    "import time\n",
    "\n",
    "start = time.time()\n",
    "from torch_snippets import *\n",
    "end = time.time()\n",
    "print(end-start)"
   ]
  },
  {
   "cell_type": "code",
   "execution_count": 2,
   "id": "aed640cc",
   "metadata": {},
   "outputs": [
    {
     "name": "stdout",
     "output_type": "stream",
     "text": [
      "5/5 (1.02s - 0.20s remaining - 4.91 iters/s)          \r"
     ]
    }
   ],
   "source": [
    "from torch_snippets.misc import Timer\n",
    "import time\n",
    "\n",
    "n = 5\n",
    "x = Timer(n)\n",
    "for i in range(n):\n",
    "    time.sleep(0.2)\n",
    "    x()"
   ]
  },
  {
   "cell_type": "code",
   "execution_count": 3,
   "id": "f946c646",
   "metadata": {},
   "outputs": [
    {
     "name": "stdout",
     "output_type": "stream",
     "text": [
      "Writing tmp.txt\n"
     ]
    }
   ],
   "source": [
    "%%writefile tmp.txt\n",
    "a\n",
    "batchify\n",
    "callable\n",
    "dcopy"
   ]
  },
  {
   "cell_type": "code",
   "execution_count": 4,
   "id": "2b687ed2",
   "metadata": {},
   "outputs": [],
   "source": [
    "P('tmp.txt').rm('you want to remove {self}? [y/N]')"
   ]
  },
  {
   "cell_type": "code",
   "execution_count": 6,
   "id": "eeb65a2c",
   "metadata": {},
   "outputs": [
    {
     "data": {
      "text/html": [
       "<pre style=\"white-space:pre;overflow-x:auto;line-height:normal;font-family:Menlo,'DejaVu Sans Mono',consolas,'Courier New',monospace\"><span style=\"color: #7fbfbf; text-decoration-color: #7fbfbf\">[03/05/23 12:35:51] </span><span style=\"color: #bfbf7f; text-decoration-color: #bfbf7f\">INFO    </span> Backing up this version of notebook to              <a href=\"file:///Users/yeshwanth.y/code/torch_snippets/torch_snippets/ipython.py\" target=\"_blank\"><span style=\"color: #7f7f7f; text-decoration-color: #7f7f7f\">ipython.py</span></a><span style=\"color: #7f7f7f; text-decoration-color: #7f7f7f\">:</span><a href=\"file:///Users/yeshwanth.y/code/torch_snippets/torch_snippets/ipython.py#backup_this_notebook:45\" target=\"_blank\"><span style=\"color: #7f7f7f; text-decoration-color: #7f7f7f\">backup_this_notebook:45</span></a>\n",
       "<span style=\"color: #7fbfbf; text-decoration-color: #7fbfbf\">                    </span>         <span style=\"color: #800080; text-decoration-color: #800080\">/Users/yeshwanth.y/code/torch_snippets/backups/test</span> <span style=\"color: #7f7f7f; text-decoration-color: #7f7f7f\">                                  </span>\n",
       "<span style=\"color: #7fbfbf; text-decoration-color: #7fbfbf\">                    </span>         <span style=\"color: #800080; text-decoration-color: #800080\">ing/</span><span style=\"color: #ff00ff; text-decoration-color: #ff00ff\">0000.html</span>                                       <span style=\"color: #7f7f7f; text-decoration-color: #7f7f7f\">                                  </span>\n",
       "</pre>\n"
      ],
      "text/plain": [
       "\u001b[2;36m[03/05/23 12:35:51]\u001b[0m\u001b[2;36m \u001b[0m\u001b[2;33mINFO    \u001b[0m Backing up this version of notebook to              \u001b]8;id=73751;file:///Users/yeshwanth.y/code/torch_snippets/torch_snippets/ipython.py\u001b\\\u001b[2mipython.py\u001b[0m\u001b]8;;\u001b\\\u001b[2m:\u001b[0m\u001b]8;id=571647;file:///Users/yeshwanth.y/code/torch_snippets/torch_snippets/ipython.py#backup_this_notebook:45\u001b\\\u001b[2mbackup_this_notebook:45\u001b[0m\u001b]8;;\u001b\\\n",
       "\u001b[2;36m                    \u001b[0m         \u001b[35m/Users/yeshwanth.y/code/torch_snippets/backups/test\u001b[0m \u001b[2m                                  \u001b[0m\n",
       "\u001b[2;36m                    \u001b[0m         \u001b[35ming/\u001b[0m\u001b[95m0000.html\u001b[0m                                       \u001b[2m                                  \u001b[0m\n"
      ]
     },
     "metadata": {},
     "output_type": "display_data"
    },
    {
     "data": {
      "application/javascript": "IPython.notebook.save_checkpoint();",
      "text/plain": [
       "<IPython.core.display.Javascript object>"
      ]
     },
     "metadata": {},
     "output_type": "display_data"
    },
    {
     "data": {
      "text/html": [
       "<pre style=\"white-space:pre;overflow-x:auto;line-height:normal;font-family:Menlo,'DejaVu Sans Mono',consolas,'Courier New',monospace\"><span style=\"color: #7fbfbf; text-decoration-color: #7fbfbf\">[03/05/23 12:35:55] </span><span style=\"color: #bfbf7f; text-decoration-color: #bfbf7f\">INFO    </span> Saved the notebook at testing.ipynb!                       <a href=\"file:///Users/yeshwanth.y/code/torch_snippets/torch_snippets/ipython.py\" target=\"_blank\"><span style=\"color: #7f7f7f; text-decoration-color: #7f7f7f\">ipython.py</span></a><span style=\"color: #7f7f7f; text-decoration-color: #7f7f7f\">:</span><a href=\"file:///Users/yeshwanth.y/code/torch_snippets/torch_snippets/ipython.py#save_notebook:37\" target=\"_blank\"><span style=\"color: #7f7f7f; text-decoration-color: #7f7f7f\">save_notebook:37</span></a>\n",
       "</pre>\n"
      ],
      "text/plain": [
       "\u001b[2;36m[03/05/23 12:35:55]\u001b[0m\u001b[2;36m \u001b[0m\u001b[2;33mINFO    \u001b[0m Saved the notebook at testing.ipynb!                       \u001b]8;id=940172;file:///Users/yeshwanth.y/code/torch_snippets/torch_snippets/ipython.py\u001b\\\u001b[2mipython.py\u001b[0m\u001b]8;;\u001b\\\u001b[2m:\u001b[0m\u001b]8;id=537626;file:///Users/yeshwanth.y/code/torch_snippets/torch_snippets/ipython.py#save_notebook:37\u001b\\\u001b[2msave_notebook:37\u001b[0m\u001b]8;;\u001b\\\n"
      ]
     },
     "metadata": {},
     "output_type": "display_data"
    },
    {
     "data": {
      "text/html": [
       "<pre style=\"white-space:pre;overflow-x:auto;line-height:normal;font-family:Menlo,'DejaVu Sans Mono',consolas,'Courier New',monospace\"><span style=\"color: #7fbfbf; text-decoration-color: #7fbfbf\">                    </span><span style=\"color: #bfbf7f; text-decoration-color: #bfbf7f\">INFO    </span> Success!                                            <a href=\"file:///Users/yeshwanth.y/code/torch_snippets/torch_snippets/ipython.py\" target=\"_blank\"><span style=\"color: #7f7f7f; text-decoration-color: #7f7f7f\">ipython.py</span></a><span style=\"color: #7f7f7f; text-decoration-color: #7f7f7f\">:</span><a href=\"file:///Users/yeshwanth.y/code/torch_snippets/torch_snippets/ipython.py#backup_this_notebook:56\" target=\"_blank\"><span style=\"color: #7f7f7f; text-decoration-color: #7f7f7f\">backup_this_notebook:56</span></a>\n",
       "</pre>\n"
      ],
      "text/plain": [
       "\u001b[2;36m                   \u001b[0m\u001b[2;36m \u001b[0m\u001b[2;33mINFO    \u001b[0m Success!                                            \u001b]8;id=325909;file:///Users/yeshwanth.y/code/torch_snippets/torch_snippets/ipython.py\u001b\\\u001b[2mipython.py\u001b[0m\u001b]8;;\u001b\\\u001b[2m:\u001b[0m\u001b]8;id=326838;file:///Users/yeshwanth.y/code/torch_snippets/torch_snippets/ipython.py#backup_this_notebook:56\u001b\\\u001b[2mbackup_this_notebook:56\u001b[0m\u001b]8;;\u001b\\\n"
      ]
     },
     "metadata": {},
     "output_type": "display_data"
    }
   ],
   "source": [
    "from torch_snippets.ipython import backup_this_notebook\n",
    "\n",
    "backup_this_notebook('testing.ipynb')"
   ]
  },
  {
   "cell_type": "code",
   "execution_count": null,
   "id": "86f23f50",
   "metadata": {},
   "outputs": [],
   "source": []
  }
 ],
 "metadata": {
  "kernelspec": {
   "display_name": "Python 3 (ipykernel)",
   "language": "python",
   "name": "python3"
  }
 },
 "nbformat": 4,
 "nbformat_minor": 5
}
