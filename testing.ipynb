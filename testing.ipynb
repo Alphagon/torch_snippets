{
 "cells": [
  {
   "cell_type": "code",
   "execution_count": 1,
   "id": "1e9abf8d-80c7-47a7-93d0-4de3af63ce40",
   "metadata": {
    "execution": {
     "iopub.execute_input": "2021-08-05T09:37:47.075788Z",
     "iopub.status.busy": "2021-08-05T09:37:47.075243Z",
     "iopub.status.idle": "2021-08-05T09:37:49.768248Z",
     "shell.execute_reply": "2021-08-05T09:37:49.767630Z",
     "shell.execute_reply.started": "2021-08-05T09:37:47.075708Z"
    },
    "tags": []
   },
   "outputs": [],
   "source": [
    "%load_ext autoreload\n",
    "%autoreload 2\n",
    "\n",
    "from torch_snippets import *"
   ]
  },
  {
   "cell_type": "code",
   "execution_count": 2,
   "id": "852f9c57-fcdf-45bb-b1a9-8bec65ab5da2",
   "metadata": {
    "execution": {
     "iopub.execute_input": "2021-08-05T09:37:49.769637Z",
     "iopub.status.busy": "2021-08-05T09:37:49.769338Z",
     "iopub.status.idle": "2021-08-05T09:37:49.830080Z",
     "shell.execute_reply": "2021-08-05T09:37:49.828888Z",
     "shell.execute_reply.started": "2021-08-05T09:37:49.769610Z"
    },
    "tags": []
   },
   "outputs": [
    {
     "data": {
      "text/plain": [
       "1"
      ]
     },
     "execution_count": 2,
     "metadata": {},
     "output_type": "execute_result"
    }
   ],
   "source": [
    "choose([1,2,3])"
   ]
  },
  {
   "cell_type": "code",
   "execution_count": null,
   "id": "eabb93f9-5df4-494a-b439-f1360bc52d78",
   "metadata": {},
   "outputs": [],
   "source": []
  }
 ],
 "metadata": {
  "kernelspec": {
   "display_name": "Python 3",
   "language": "python",
   "name": "python3"
  },
  "language_info": {
   "codemirror_mode": {
    "name": "ipython",
    "version": 3
   },
   "file_extension": ".py",
   "mimetype": "text/x-python",
   "name": "python",
   "nbconvert_exporter": "python",
   "pygments_lexer": "ipython3",
   "version": "3.7.4"
  }
 },
 "nbformat": 4,
 "nbformat_minor": 5
}
